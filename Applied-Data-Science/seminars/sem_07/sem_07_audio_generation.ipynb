{
  "nbformat": 4,
  "nbformat_minor": 0,
  "metadata": {
    "colab": {
      "name": "Копия блокнота \"sem07_gen_task.ipynb\"",
      "provenance": [],
      "collapsed_sections": []
    },
    "kernelspec": {
      "name": "python3",
      "display_name": "Python 3"
    },
    "accelerator": "GPU"
  },
  "cells": [
    {
      "cell_type": "markdown",
      "metadata": {
        "id": "CNxREA6BATSc"
      },
      "source": [
        "# Генерация звука"
      ]
    },
    {
      "cell_type": "markdown",
      "metadata": {
        "id": "6sdF0ztMA2vb"
      },
      "source": [
        "В этом семинаре мы разберемся с моделью WaveNet от DeepMind.\n",
        "\n",
        "\n",
        "*   Ссылка на оргинальную [статью](https://arxiv.org/abs/1609.03499).\n",
        "*   Ссылка на [блог](https://deepmind.com/blog/article/wavenet-generative-model-raw-audio).\n",
        "\n"
      ]
    },
    {
      "cell_type": "code",
      "metadata": {
        "colab": {
          "base_uri": "https://localhost:8080/"
        },
        "id": "aRPAaOPVcfXO",
        "outputId": "cd095c42-81eb-45e3-94ee-133af852a12f"
      },
      "source": [
        "!pip install torchaudio"
      ],
      "execution_count": 1,
      "outputs": [
        {
          "output_type": "stream",
          "text": [
            "Collecting torchaudio\n",
            "\u001b[?25l  Downloading https://files.pythonhosted.org/packages/aa/55/01ad9244bcd595e39cea5ce30726a7fe02fd963d07daeb136bfe7e23f0a5/torchaudio-0.8.1-cp37-cp37m-manylinux1_x86_64.whl (1.9MB)\n",
            "\u001b[K     |████████████████████████████████| 1.9MB 12.5MB/s \n",
            "\u001b[?25hRequirement already satisfied: torch==1.8.1 in /usr/local/lib/python3.7/dist-packages (from torchaudio) (1.8.1+cu101)\n",
            "Requirement already satisfied: typing-extensions in /usr/local/lib/python3.7/dist-packages (from torch==1.8.1->torchaudio) (3.7.4.3)\n",
            "Requirement already satisfied: numpy in /usr/local/lib/python3.7/dist-packages (from torch==1.8.1->torchaudio) (1.19.5)\n",
            "Installing collected packages: torchaudio\n",
            "Successfully installed torchaudio-0.8.1\n"
          ],
          "name": "stdout"
        }
      ]
    },
    {
      "cell_type": "code",
      "metadata": {
        "id": "dvz3JV2IJqwg"
      },
      "source": [
        "# Оформление \n",
        "from typing import List, Tuple, Dict, Union, Optional\n",
        "\n",
        "# Картинки\n",
        "import matplotlib.pyplot as plt\n",
        "plt.style.use('ggplot')\n",
        "%matplotlib inline\n",
        "%config InlineBackend.figure_format ='retina'\n",
        "\n",
        "from IPython.display import clear_output\n",
        "\n",
        "# Фиксируем размер графиков\n",
        "from matplotlib.pylab import rcParams\n",
        "rcParams['figure.figsize'] = 10, 8\n",
        "\n",
        "import matplotlib as mpl\n",
        "plt.rcParams.update({\n",
        "    \"text.usetex\": False,\n",
        "    \"font.family\": \"DejaVu Sans\",\n",
        "    \"font.sans-serif\": [\"Benton Sans\"]})\n",
        "\n",
        "# Аудио\n",
        "from IPython import display\n",
        "\n",
        "import torchaudio\n",
        "from torchaudio.transforms import MelSpectrogram\n",
        "\n",
        "# Основное\n",
        "import os\n",
        "from tqdm import tqdm\n",
        "from itertools import islice\n",
        "\n",
        "import pandas as pd\n",
        "import numpy as np\n",
        "import math\n",
        "\n",
        "import torch\n",
        "from torch import distributions\n",
        "import torch.nn.functional as F\n",
        "from torch import nn\n",
        "from torch import optim\n",
        "from torch.utils.data import Dataset, DataLoader, Subset\n",
        "\n",
        "import torchvision\n",
        "import torchvision.transforms as transforms\n",
        "\n",
        "from sklearn.model_selection import train_test_split\n",
        "\n",
        "from dataclasses import dataclass\n",
        "import librosa\n",
        "\n",
        "device = torch.device(\"cuda\") if torch.cuda.is_available() else torch.device(\"cpu\")"
      ],
      "execution_count": 2,
      "outputs": []
    },
    {
      "cell_type": "markdown",
      "metadata": {
        "id": "ncOC_cnkJ83L"
      },
      "source": [
        "Хотим по слову генерировать звук."
      ]
    },
    {
      "cell_type": "markdown",
      "metadata": {
        "id": "kk5RGpRMEVrJ"
      },
      "source": [
        "Для начала вспомним архитектуру сети:"
      ]
    },
    {
      "cell_type": "markdown",
      "metadata": {
        "id": "5tjTKFTBBWT2"
      },
      "source": [
        "![WaveNet.jpg](data:image/jpeg;base64,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)\n",
        "\n"
      ]
    },
    {
      "cell_type": "markdown",
      "metadata": {
        "id": "InmjH-DzNJhH"
      },
      "source": [
        "$p(x) = \\prod\\limits_{t=1}^{T} p(x_t|x_1, ..., x_{t-1})$"
      ]
    },
    {
      "cell_type": "markdown",
      "metadata": {
        "id": "lYqvAmgYFOKq"
      },
      "source": [
        "Теперь начнём разбираться со \"строительными блоками\" WaveNet."
      ]
    },
    {
      "cell_type": "markdown",
      "metadata": {
        "id": "ijOIOyXpFad9"
      },
      "source": [
        "## Causal Convolutional Layer\n",
        "Первый на очереди **Causal Convolutional Layer**.\n",
        "Основная идея в том, что при свертке мы не позволяем заглядывать сети в будущее, т.е. выход $k$-го слоя в момент времени $t$ зависит только от выходов $k-1$ слоя в моменты времени $t, t-1, t-2, \\dots, 1,$ но не в моменты времени $t+1, t+2$ и т.д."
      ]
    },
    {
      "cell_type": "markdown",
      "metadata": {
        "id": "cqcGyaaTFoqX"
      },
      "source": [
        "![CausalConv.jpg](data:image/jpeg;base64,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)"
      ]
    },
    {
      "cell_type": "markdown",
      "metadata": {
        "id": "HYkU-qiXF4nj"
      },
      "source": [
        "И его вариант **Dilated Causal Convolutional Layers**."
      ]
    },
    {
      "cell_type": "markdown",
      "metadata": {
        "id": "Nw-p4yuNGK8T"
      },
      "source": [
        "![DilatedCausalConv.jpg](data:image/jpeg;base64,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)"
      ]
    },
    {
      "cell_type": "markdown",
      "metadata": {
        "id": "LEeWjpTQSd7Q"
      },
      "source": [
        "Здесь поле восприятия намного больше: 16 vs. 5. Следовательно, в такой реализации больше сэмплов влияют на выход."
      ]
    },
    {
      "cell_type": "markdown",
      "metadata": {
        "id": "_52RNS6WHaz2"
      },
      "source": [
        "Посмотрим как это реализуется в коде."
      ]
    },
    {
      "cell_type": "code",
      "metadata": {
        "id": "fjDgl4YR657r"
      },
      "source": [
        "class CasualConv1d(nn.Conv1d):\n",
        "    def __init__(self, in_channels, out_channels, kernel_size, dilation=1, bias=True) -> None:\n",
        "        # Наследуем обычную свертку\n",
        "        super().__init__(in_channels, out_channels, kernel_size, dilation=dilation, bias=bias)\n",
        "\n",
        "        # Задаем, сколько сэмплов надо пропустить\n",
        "        padding_size = (self.dilation[0] * (self.kernel_size[0] - 1), 0)\n",
        "\n",
        "        # Заполняем нулями правую часть, где надо\n",
        "        self.zero_padding = nn.ConstantPad1d(padding_size, 0.0)\n",
        "\n",
        "    def forward(self, input: torch.Tensor) -> torch.Tensor:\n",
        "        padded_input = self.zero_padding(input)\n",
        "        output = super().forward(padded_input)\n",
        "\n",
        "        return output"
      ],
      "execution_count": 3,
      "outputs": []
    },
    {
      "cell_type": "markdown",
      "metadata": {
        "id": "P8AMbPXWIeuA"
      },
      "source": [
        "## Gated Activation Units"
      ]
    },
    {
      "cell_type": "markdown",
      "metadata": {
        "id": "MhhllTgcJI37"
      },
      "source": [
        "Теперь обратим внимание на эту часть сети"
      ]
    },
    {
      "cell_type": "markdown",
      "metadata": {
        "id": "4GkXtWFsJN92"
      },
      "source": [
        "![Gated.jpg](data:image/jpeg;base64,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)"
      ]
    },
    {
      "cell_type": "markdown",
      "metadata": {
        "id": "YhO79pnBJR1a"
      },
      "source": [
        "$z = \\tanh\\left(W_{f,k} x\\right)\\odot\\sigma\\left(V_{g,k}x\\right)$"
      ]
    },
    {
      "cell_type": "markdown",
      "metadata": {
        "id": "z-tl5nUlLDew"
      },
      "source": [
        "Авторы статье выбрали такую функцию активации, т.к. в экспериментах по генерации аудио сигнала она работала лучше чем ReLU.\n",
        "\n",
        "Q: Почему?\n",
        "\n",
        "A: Гиперболический тангенс дает вектор результатов, то есть генериует новые признаки в диапазоне $[-1, 1]$, а сигмойда задает вероятность каждого результата, его важность."
      ]
    },
    {
      "cell_type": "code",
      "metadata": {
        "id": "Qai9UOmH7DCC"
      },
      "source": [
        " class GatedConv1d(nn.Module):\n",
        "    def __init__(self, in_channels, out_channels, kernel_size, dilation):\n",
        "        super().__init__()\n",
        "\n",
        "        self.filter_conv = CasualConv1d(in_channels, out_channels, kernel_size, dilation)\n",
        "        self.gate_conv = CasualConv1d(in_channels, out_channels, kernel_size, dilation)\n",
        "\n",
        "    def forward(self, input: torch.Tensor) -> torch.Tensor:\n",
        "        filter_output = self.filter_conv(input)\n",
        "        gate_output = self.gate_conv(input)\n",
        "        output = torch.tanh(filter_output) * torch.sigmoid(gate_output)\n",
        "\n",
        "        return output"
      ],
      "execution_count": 4,
      "outputs": []
    },
    {
      "cell_type": "markdown",
      "metadata": {
        "id": "jPfaobXQMWRi"
      },
      "source": [
        "Добавляя дополнительный вход — получаем условную вероятность — мы можем генерировать звук с определенными характеристиками. Например, для Text to Speech (TTS) нам нужно подавать информацию о тексте как дополнительный вход."
      ]
    },
    {
      "cell_type": "markdown",
      "metadata": {
        "id": "q8b2zEjmOAhH"
      },
      "source": [
        "$p(x|h) = \\prod\\limits_{t=1}^{T} p(x_t|x_1, ..., x_{t-1},h)$"
      ]
    },
    {
      "cell_type": "markdown",
      "metadata": {
        "id": "1vga35HaMDpL"
      },
      "source": [
        "$z = \\tanh\\left(W_{f,k}x + V_{f,k}^T h\\right)\\odot\\sigma\\left(V_{g,k}x + V_{g,k}^T h\\right)$"
      ]
    },
    {
      "cell_type": "code",
      "metadata": {
        "id": "TXxM4DVr7Fac"
      },
      "source": [
        "class CondGatedConv1d(GatedConv1d):\n",
        "    def __init__(self, in_channels, out_channels, cond_in_channels, kernel_size, dilation):\n",
        "        super().__init__(in_channels, out_channels, kernel_size, dilation)\n",
        "\n",
        "        self.cond_conv = nn.Conv1d(cond_in_channels, 2 * out_channels, kernel_size=1)\n",
        "\n",
        "    def forward(self, input: torch.Tensor, condition: torch.Tensor) -> torch.Tensor:\n",
        "        filter_output = self.filter_conv(input)\n",
        "        gate_output = self.gate_conv(input)\n",
        "        condition_output = self.cond_conv(condition)\n",
        "\n",
        "        t = filter_output.size()[-1]\n",
        "        condition_output = condition_output[:, :, :t]\n",
        "\n",
        "        condition_filter, condition_gate = torch.chunk(condition_output, chunks=2, dim=CHANNEL)\n",
        "\n",
        "        output = torch.tanh(filter_output + condition_filter) * torch.sigmoid(gate_output + condition_gate)\n",
        "\n",
        "        return output"
      ],
      "execution_count": 5,
      "outputs": []
    },
    {
      "cell_type": "markdown",
      "metadata": {
        "id": "zMstIf7nOYhN"
      },
      "source": [
        "## Residual Block"
      ]
    },
    {
      "cell_type": "markdown",
      "metadata": {
        "id": "zGhPOIgzOnOE"
      },
      "source": [
        "Из уже описанных блоков давайте соберём **Residual Block**."
      ]
    },
    {
      "cell_type": "markdown",
      "metadata": {
        "id": "m8577NusOz6n"
      },
      "source": [
        "![Res.jpg](data:image/jpeg;base64,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)"
      ]
    },
    {
      "cell_type": "code",
      "metadata": {
        "id": "TLfSXOHO7J5W"
      },
      "source": [
        "class CondWaveNetBlock(nn.Module):\n",
        "    \"\"\"\n",
        "    Conditioned WaveNet block\n",
        "    \"\"\"\n",
        "\n",
        "    def __init__(self, gated_in_channels, gated_out_channels, cond_in_channels,\n",
        "                 skip_out_channels, kernel_size, dilation):\n",
        "        super().__init__()\n",
        "\n",
        "        self.skip_conv = nn.Conv1d(gated_out_channels, skip_out_channels, kernel_size=1)\n",
        "        self.residual_conv = nn.Conv1d(gated_out_channels, gated_in_channels, kernel_size=1)\n",
        "        self.gated_cond = CondGatedConv1d(gated_in_channels, gated_out_channels,\n",
        "                                          cond_in_channels, kernel_size, dilation)\n",
        "\n",
        "    def forward(self, input: torch.Tensor, condition: torch.Tensor) -> torch.Tensor:\n",
        "        gate_output = self.gated_cond(input, condition)\n",
        "        residual_output = input + self.residual_conv(gate_output)\n",
        "        residual_output *= math.sqrt(0.5)  # trick from ConvS22 for stabilize variance\n",
        "        skip_output = self.skip_conv(gate_output)\n",
        "\n",
        "        return residual_output, skip_output"
      ],
      "execution_count": 6,
      "outputs": []
    },
    {
      "cell_type": "markdown",
      "metadata": {
        "id": "Wb_9x2_vPWXM"
      },
      "source": [
        "## Mu Law"
      ]
    },
    {
      "cell_type": "markdown",
      "metadata": {
        "id": "BEqBGIkHPaUI"
      },
      "source": [
        "Ещё один важный элемент архитектуры — это $\\mu$-закон.\n",
        "\n",
        "$f(x_t) = sign(x_t)\\dfrac{\\ln(1 + \\mu |x_t|)}{\\ln(1 + \\mu)}$\n",
        "\n",
        "Поскольку необработанный звук обычно хранится как последовательность $16$-битных целочисленных значений (по одному на timestep), слою softmax потребуется выводить $65 536$ вероятностей на каждом timestep. Применение сначала $\\mu$-закона, а потом квантинизации до $256$ значений облегчает обработку."
      ]
    },
    {
      "cell_type": "code",
      "metadata": {
        "id": "AK7yXT2i7Q50"
      },
      "source": [
        "class MuLaw(nn.Module):\n",
        "\n",
        "    def __init__(self, mu: float = 256):\n",
        "        super().__init__()\n",
        "        self.register_buffer('mu', torch.FloatTensor([mu - 1]))\n",
        "\n",
        "    def forward(self, input: torch.Tensor) -> torch.Tensor:\n",
        "        return self.encode(input)\n",
        "\n",
        "    def encode(self, input: torch.Tensor) -> torch.Tensor:\n",
        "        input = torch.clamp(input, -1 + 1e-5, 1 - 1e-5)\n",
        "\n",
        "        mu_law_output = torch.sign(input) * torch.log1p(self.mu * torch.abs(input)) / torch.log1p(self.mu)\n",
        "\n",
        "        # Переводим отрезок [-1, 1] в [0, 1]\n",
        "        quantized_output = (mu_law_output + 1) / 2\n",
        "\n",
        "        # [0, 1] -> [0, mu - 1]\n",
        "        quantized_output = torch.floor(quantized_output * self.mu + 0.5).long()\n",
        "\n",
        "        return quantized_output\n",
        "\n",
        "    def decode(self, input: torch.Tensor) -> torch.Tensor:\n",
        "        dequantized_output = (input.float() / self.mu) * 2 - 1\n",
        "        output = (torch.sign(dequantized_output) / self.mu) * ((1 + self.mu) ** torch.abs(dequantized_output) - 1)\n",
        "\n",
        "        return output"
      ],
      "execution_count": 7,
      "outputs": []
    },
    {
      "cell_type": "code",
      "metadata": {
        "id": "niBvp7pT7ZYz"
      },
      "source": [
        "# Вспомогательный класс для кодирования классов \n",
        "\n",
        "class OneHot(nn.Module):\n",
        "    \"\"\"\n",
        "    Convert quantized 1d samples into n_class one-hot tensor\n",
        "    \"\"\"\n",
        "\n",
        "    def __init__(self, n_class: int = 256):\n",
        "        super().__init__()\n",
        "\n",
        "        self.n_class = n_class\n",
        "\n",
        "    def forward(self, input: torch.Tensor) -> torch.Tensor:\n",
        "        assert input.dim() == 3, \"Expected shape of inout is [B, C, T], where C == 1\"\n",
        "        return self.encode(input)\n",
        "\n",
        "    def encode(self, input: torch.Tensor) -> torch.Tensor:\n",
        "        output = torch.zeros(input.size(0), self.n_class, input.size(-1), device=input.device)\n",
        "        output.scatter_(1, input, 1)\n",
        "        return output\n",
        "\n",
        "    def decode(self, input: torch.Tensor) -> torch.Tensor:\n",
        "        raise NotImplementedError()"
      ],
      "execution_count": 8,
      "outputs": []
    },
    {
      "cell_type": "markdown",
      "metadata": {
        "id": "9egOhpz1RkZS"
      },
      "source": [
        "## WaveNet"
      ]
    },
    {
      "cell_type": "markdown",
      "metadata": {
        "id": "VfVMhTT_Rm8r"
      },
      "source": [
        "Теперь соберем всю сеть."
      ]
    },
    {
      "cell_type": "code",
      "metadata": {
        "id": "p5Kuszzt7bvy"
      },
      "source": [
        "class CondNet(nn.Module):\n",
        "    \"\"\"\n",
        "    Processing condition (mel from TTS or logits from ASR)\n",
        "    \"\"\"\n",
        "\n",
        "    def __init__(self, input_size: int, hidden_size: int, hop_size: int):\n",
        "        \"\"\"\n",
        "        :param input_size:\n",
        "        \"\"\"\n",
        "        super().__init__()\n",
        "\n",
        "        self.input_size = input_size\n",
        "        self.hop_size = hop_size\n",
        "        self.hidden_size = hidden_size\n",
        "\n",
        "        self.net = nn.GRU(input_size=input_size,\n",
        "                          hidden_size=hidden_size // 2,\n",
        "                          num_layers=2,\n",
        "                          batch_first=True,\n",
        "                          bidirectional=True)\n",
        "        \n",
        "        self.upsampler = nn.Upsample(scale_factor=hop_size, mode='nearest')\n",
        "\n",
        "    def forward(self, input: torch.Tensor) -> torch.Tensor:\n",
        "        \"\"\"\n",
        "        :param input: logits from ASR encoder, input.shape == [B, T, C]\n",
        "\n",
        "        :return: .shape == [B, T', C']\n",
        "\n",
        "        \"\"\"\n",
        "        assert input.shape[-1] == self.input_size\n",
        "\n",
        "        self.net.flatten_parameters()\n",
        "\n",
        "        output, _ = self.net(input)\n",
        "\n",
        "        output = output.transpose(-1, -2)\n",
        "        upsampled_output = self.upsampler(output)\n",
        "\n",
        "        return upsampled_output"
      ],
      "execution_count": 9,
      "outputs": []
    },
    {
      "cell_type": "code",
      "metadata": {
        "id": "-HGjVdPlRxP6"
      },
      "source": [
        "class WaveNet(nn.Module):\n",
        "\n",
        "    def __init__(\n",
        "        self,\n",
        "        # in_channels: int = 256,\n",
        "        # out_channels: int = 256,\n",
        "        # gate_channels: int = 512,\n",
        "        # residual_channels: int = 256,\n",
        "        # skip_channels: int = 256,\n",
        "        # head_channels: int = 256,\n",
        "        # condition_channels: int = 256,\n",
        "        in_channels: int = 64,\n",
        "        out_channels: int = 64,\n",
        "        gate_channels: int = 64,\n",
        "        residual_channels: int = 64,\n",
        "        skip_channels: int = 64,\n",
        "        head_channels: int = 64,\n",
        "        condition_channels: int = 64,\n",
        "        kernel_size: int = 2,\n",
        "        dilation_cycles: int = 3,\n",
        "        dilation_depth: int = 10,\n",
        "        upsample_factor: int = 480,\n",
        "    ) -> None:\n",
        "        \"\"\"\n",
        "        :param kernel_size (int):\n",
        "        \"\"\"\n",
        "\n",
        "        super().__init__()\n",
        "\n",
        "        self.in_channels = in_channels\n",
        "        self.out_channels = out_channels\n",
        "        self.gate_channels = gate_channels\n",
        "        self.residual_channels = residual_channels\n",
        "        self.skip_channels = skip_channels\n",
        "        self.head_channels = head_channels\n",
        "        self.condition_channels = condition_channels\n",
        "        self.kernel_size = kernel_size\n",
        "        self.dilation_cycles = dilation_cycles\n",
        "        self.dilation_depth = dilation_depth\n",
        "        self.upsample_factor = upsample_factor\n",
        "\n",
        "        # 80 — number of channels in mels \n",
        "        self.cond = CondNet(80, self.condition_channels, upsample_factor)\n",
        "\n",
        "        self.stem = nn.Sequential(nn.Conv1d(in_channels, residual_channels, kernel_size=1))\n",
        "\n",
        "        # WaveNet blocks\n",
        "        self.blocks = nn.ModuleList([CondWaveNetBlock(residual_channels, gate_channels, condition_channels, \n",
        "                                                      skip_channels, kernel_size, 2 ** (i % dilation_depth))\n",
        "                                     for i in range(dilation_cycles * dilation_depth)])\n",
        "\n",
        "        # To avoid DDP error\n",
        "        self.blocks[-1].residual_conv.requires_grad_(False)\n",
        "\n",
        "        self.head = nn.Sequential(nn.ReLU(inplace=True),\n",
        "                                  nn.Conv1d(skip_channels, head_channels, kernel_size=1),\n",
        "                                  nn.ReLU(inplace=True),\n",
        "                                  nn.Conv1d(head_channels, out_channels, kernel_size=1))\n",
        "\n",
        "    def _forward(self, input: torch.Tensor, condition: torch.Tensor) -> torch.Tensor:\n",
        "        # already upsampled condition\n",
        "        stem_output = self.stem(input)\n",
        "\n",
        "        accumulation = 0\n",
        "        residual_output = stem_output\n",
        "        for i, block in enumerate(self.blocks):\n",
        "            residual_output, skip_output = block(residual_output, condition)\n",
        "            accumulation = accumulation + skip_output\n",
        "\n",
        "        output = self.head(accumulation)\n",
        "\n",
        "        return output\n",
        "\n",
        "    def forward(self, input: torch.Tensor, condition: torch.Tensor) -> torch.Tensor:\n",
        "        \"\"\"\n",
        "        :param input: samples\n",
        "        :param condition: mel\n",
        "        \"\"\"\n",
        "\n",
        "        condition = self.cond(condition)\n",
        "        output = self._forward(input, condition)\n",
        "\n",
        "        return output\n",
        "\n",
        "    @property\n",
        "    def num_parameters(self) -> int:\n",
        "        return sum([p.numel() for p in self.parameters()])\n",
        "\n",
        "    @property\n",
        "    def receptive_field(self) -> int:\n",
        "        dilations = [2 ** (i % self.dilation_depth)\n",
        "                     for i in range(self.dilation_cycles * self.dilation_depth)]\n",
        "        receptive_field = (self.kernel_size - 1) * sum(dilations) + 1\n",
        "\n",
        "        return receptive_field\n",
        "\n",
        "    def generate(self, condition: torch.Tensor, inference_type: str = \"naive\", verbose: bool = True) -> torch.Tensor:\n",
        "        \"\"\"\n",
        "        :param condition: [1, T, C], C from ASR\n",
        "        :param inference_type:\n",
        "        :param verbose:\n",
        "        \"\"\"\n",
        "\n",
        "        mu_low = MuLaw().to(condition.device)\n",
        "\n",
        "        if inference_type == \"naive\":\n",
        "            compressed_samples = self._naive_generate(condition, verbose)\n",
        "        elif inference_type == \"fast\":\n",
        "            compressed_samples = self._fast_generate(condition)\n",
        "        else:\n",
        "            raise ValueError(f\"Invalid type of inference: {inference_type}\")\n",
        "\n",
        "        return mu_low.decode(compressed_samples)\n",
        "\n",
        "    @torch.no_grad()\n",
        "    def _naive_generate(self, condition: torch.Tensor, verbose: bool) -> torch.Tensor:\n",
        "        one_hot = OneHot()\n",
        "\n",
        "        required_num_samples = condition.shape[1] * self.upsample_factor\n",
        "        generated_samples = torch.Tensor(1, 1, self.receptive_field + required_num_samples) \\\n",
        "            .fill_(self.in_channels // 2) \\\n",
        "            .to(condition.device)\n",
        "\n",
        "        condition = self.cond(condition)\n",
        "        condition = F.pad(condition, (self.receptive_field, 0), 'replicate')\n",
        "\n",
        "        iterator = range(required_num_samples)\n",
        "        if verbose:\n",
        "            iterator = tqdm(iterator)\n",
        "\n",
        "        for i in iterator:\n",
        "            current_condition = condition[:, :, i:i + self.receptive_field]\n",
        "            current_samples = generated_samples[:, :, i:i + self.receptive_field]\n",
        "            current_one_hot_samples = one_hot(current_samples.long())\n",
        "\n",
        "            current_output = self._forward(current_one_hot_samples, current_condition)\n",
        "            last_logits = current_output[:, :, -1].squeeze()\n",
        "\n",
        "            # sampling new sample\n",
        "            samples = distributions.Categorical(logits=last_logits)\n",
        "            new_sample = samples.sample(torch.Size([1]))\n",
        "            generated_samples[:, :, i + self.receptive_field] = new_sample\n",
        "\n",
        "        return generated_samples.squeeze()[-required_num_samples:]"
      ],
      "execution_count": 10,
      "outputs": []
    },
    {
      "cell_type": "markdown",
      "metadata": {
        "id": "NhzNkPc4zWQj"
      },
      "source": [
        "## Data"
      ]
    },
    {
      "cell_type": "markdown",
      "metadata": {
        "id": "ZqfyhohszZa2"
      },
      "source": [
        "Будем работать с датасетом [LJ Speech Dataset](https://keithito.com/LJ-Speech-Dataset/). Данные представляют из запись и её транскрипцию. По ссылке можно послушать примеры записей."
      ]
    },
    {
      "cell_type": "code",
      "metadata": {
        "id": "5dX9DJFAR0m0",
        "colab": {
          "base_uri": "https://localhost:8080/"
        },
        "outputId": "6a1f4183-7a0f-4547-9a50-df3bab15788b"
      },
      "source": [
        "!wget https://data.keithito.com/data/speech/LJSpeech-1.1.tar.bz2\n",
        "!tar -xf LJSpeech-1.1.tar.bz2"
      ],
      "execution_count": 11,
      "outputs": [
        {
          "output_type": "stream",
          "text": [
            "--2021-04-05 17:15:48--  https://data.keithito.com/data/speech/LJSpeech-1.1.tar.bz2\n",
            "Resolving data.keithito.com (data.keithito.com)... 174.138.79.61\n",
            "Connecting to data.keithito.com (data.keithito.com)|174.138.79.61|:443... connected.\n",
            "HTTP request sent, awaiting response... 200 OK\n",
            "Length: 2748572632 (2.6G) [application/octet-stream]\n",
            "Saving to: ‘LJSpeech-1.1.tar.bz2’\n",
            "\n",
            "LJSpeech-1.1.tar.bz 100%[===================>]   2.56G  36.8MB/s    in 76s     \n",
            "\n",
            "2021-04-05 17:17:04 (34.5 MB/s) - ‘LJSpeech-1.1.tar.bz2’ saved [2748572632/2748572632]\n",
            "\n"
          ],
          "name": "stdout"
        }
      ]
    },
    {
      "cell_type": "markdown",
      "metadata": {
        "id": "3Fp_kY5rEGms"
      },
      "source": [
        "Класс для преобразования из wav в mel."
      ]
    },
    {
      "cell_type": "code",
      "metadata": {
        "id": "Cepn2spwEAXr"
      },
      "source": [
        "@dataclass\n",
        "class MelSpectrogramConfig:\n",
        "    sr: int = 22050\n",
        "    win_length: int = 1024\n",
        "    hop_length: int = 256\n",
        "    n_fft: int = 1024\n",
        "    f_min: int = 0\n",
        "    f_max: int = 8000\n",
        "    n_mels: int = 80\n",
        "    power: float = 1.0\n",
        "        \n",
        "    # value of melspectrograms if we fed a silence into `MelSpectrogram`\n",
        "    pad_value: float = -11.5129251\n",
        "\n",
        "\n",
        "class MelSpectrogram(nn.Module):\n",
        "\n",
        "    def __init__(self, config: MelSpectrogramConfig):\n",
        "        super(MelSpectrogram, self).__init__()\n",
        "        \n",
        "        self.config = config\n",
        "\n",
        "        self.mel_spectrogram = torchaudio.transforms.MelSpectrogram(\n",
        "            sample_rate=config.sr,\n",
        "            win_length=config.win_length,\n",
        "            hop_length=config.hop_length,\n",
        "            n_fft=config.n_fft,\n",
        "            f_min=config.f_min,\n",
        "            f_max=config.f_max,\n",
        "            n_mels=config.n_mels\n",
        "        )\n",
        "\n",
        "        # The is no way to set power in constructor in 0.5.0 version.\n",
        "        self.mel_spectrogram.spectrogram.power = config.power\n",
        "\n",
        "        # Default `torchaudio` mel basis uses HTK formula. In order to be compatible with WaveGlow\n",
        "        # we decided to use Slaney one instead (as well as `librosa` does by default).\n",
        "        mel_basis = librosa.filters.mel(\n",
        "            sr=config.sr,\n",
        "            n_fft=config.n_fft,\n",
        "            n_mels=config.n_mels,\n",
        "            fmin=config.f_min,\n",
        "            fmax=config.f_max\n",
        "        ).T\n",
        "        self.mel_spectrogram.mel_scale.fb.copy_(torch.tensor(mel_basis))\n",
        "    \n",
        "\n",
        "    def forward(self, audio: torch.Tensor) -> torch.Tensor:\n",
        "        \"\"\"\n",
        "        :param audio: Expected shape is [B, T]\n",
        "        :return: Shape is [B, n_mels, T']\n",
        "        \"\"\"\n",
        "        \n",
        "        mel = self.mel_spectrogram(audio) \\\n",
        "            .clamp_(min=1e-5) \\\n",
        "            .log_()\n",
        "\n",
        "        return mel"
      ],
      "execution_count": 12,
      "outputs": []
    },
    {
      "cell_type": "markdown",
      "metadata": {
        "id": "tfvkhHvWFggi"
      },
      "source": [
        "Определим класс для датасета."
      ]
    },
    {
      "cell_type": "code",
      "metadata": {
        "id": "7fzdV60EIY44"
      },
      "source": [
        "class LJSpeech(Dataset):\n",
        "    def __init__(self, X, config=MelSpectrogramConfig(), train=True):\n",
        "        super().__init__()\n",
        "        self.names = X\n",
        "        self.train = train\n",
        "        self.config = config\n",
        "        self.featurizer = MelSpectrogram(MelSpectrogramConfig())\n",
        "    \n",
        "    def __len__(self):\n",
        "        return len(self.names)\n",
        "    \n",
        "    def __getitem__(self, idx):       \n",
        "        wav, sr = torchaudio.load('LJSpeech-1.1/wavs/' + self.names[idx] + '.wav')\n",
        "        # wav = wav[:, :40000]    \n",
        "        \n",
        "        mel_spectrogram = self.featurizer(wav)\n",
        "        sample = {'mel':mel_spectrogram.reshape(self.config.n_mels, -1),\n",
        "                  'wav': wav}\n",
        "         \n",
        "        return sample"
      ],
      "execution_count": 13,
      "outputs": []
    },
    {
      "cell_type": "markdown",
      "metadata": {
        "id": "Qf86RmODFiMj"
      },
      "source": [
        "Загрузим метаданные."
      ]
    },
    {
      "cell_type": "code",
      "metadata": {
        "id": "xHo926CfFff9"
      },
      "source": [
        "df = pd.read_csv(\"/content/LJSpeech-1.1/metadata.csv\", names=['id', 'gt', 'gt_letters_only'], sep=\"|\")\n",
        "df = df.dropna()\n",
        "data = list(df['id'])"
      ],
      "execution_count": 14,
      "outputs": []
    },
    {
      "cell_type": "code",
      "metadata": {
        "colab": {
          "base_uri": "https://localhost:8080/"
        },
        "id": "PEe9y8EgFq0t",
        "outputId": "33a60dbd-4953-4fd6-97de-81af5e3afe89"
      },
      "source": [
        "train_dataset = LJSpeech(data)\n",
        "train_dataloader = DataLoader(train_dataset, batch_size=1, num_workers=4)"
      ],
      "execution_count": 15,
      "outputs": [
        {
          "output_type": "stream",
          "text": [
            "/usr/local/lib/python3.7/dist-packages/torch/utils/data/dataloader.py:477: UserWarning: This DataLoader will create 4 worker processes in total. Our suggested max number of worker in current system is 2, which is smaller than what this DataLoader is going to create. Please be aware that excessive worker creation might get DataLoader running slow or even freeze, lower the worker number to avoid potential slowness/freeze if necessary.\n",
            "  cpuset_checked))\n"
          ],
          "name": "stderr"
        }
      ]
    },
    {
      "cell_type": "code",
      "metadata": {
        "id": "BXnvGEHOOgMm"
      },
      "source": [
        "BATCH, CHANNEL, TIME = 0, 1, 2"
      ],
      "execution_count": 16,
      "outputs": []
    },
    {
      "cell_type": "code",
      "metadata": {
        "id": "mw5BMoa2FuU8"
      },
      "source": [
        "device = torch.device('cuda' if torch.cuda.is_available() else 'cpu')\n",
        "# device = 'cpu'\n",
        "model = WaveNet().to(device)\n",
        "# mu_law = MuLaw(256).to(device)\n",
        "# one_hot = OneHot(256).to(device)\n",
        "mu_law = MuLaw(64).to(device)\n",
        "one_hot = OneHot(64).to(device)\n",
        "    \n",
        "optimizer = optim.Adam(model.parameters(), lr=0.0001)\n",
        "criterion = nn.CrossEntropyLoss().to(device)"
      ],
      "execution_count": 17,
      "outputs": []
    },
    {
      "cell_type": "code",
      "metadata": {
        "colab": {
          "base_uri": "https://localhost:8080/"
        },
        "id": "WnGVLMfDqjle",
        "outputId": "a7eeccf1-af86-40e4-f1bc-26285a7e85ca"
      },
      "source": [
        "num_epoch = 3\n",
        "\n",
        "for epoch in range(num_epoch):\n",
        "        \n",
        "        model.train()\n",
        "        for i, batch in tqdm(enumerate(train_dataloader), total=len(train_dataloader)):\n",
        "            global_step = epoch * len(train_dataloader) + i\n",
        "            optimizer.zero_grad()\n",
        "\n",
        "            samples = batch['wav'].to(device)\n",
        "            mel = batch['mel'].to(device)\n",
        "            \n",
        "            categorical_samples = mu_law(samples)\n",
        "            one_hot_samples = one_hot(categorical_samples)\n",
        "            mel = mel.transpose(2,1)\n",
        "            prediction = model(one_hot_samples, mel)\n",
        "            \n",
        "            loss = criterion(prediction[:, :, :-1], categorical_samples.squeeze(dim=1)[:, 1:])\n",
        "            loss.backward()\n",
        "            \n",
        "            optimizer.step()\n",
        "            \n",
        "            # Print loss\n",
        "            if i % 50 == 0:\n",
        "              print(\"Loss: \", loss.item())       "
      ],
      "execution_count": 20,
      "outputs": [
        {
          "output_type": "stream",
          "text": [
            "/usr/local/lib/python3.7/dist-packages/torch/utils/data/dataloader.py:477: UserWarning: This DataLoader will create 4 worker processes in total. Our suggested max number of worker in current system is 2, which is smaller than what this DataLoader is going to create. Please be aware that excessive worker creation might get DataLoader running slow or even freeze, lower the worker number to avoid potential slowness/freeze if necessary.\n",
            "  cpuset_checked))\n",
            "  0%|          | 2/13084 [00:00<2:07:59,  1.70it/s]"
          ],
          "name": "stderr"
        },
        {
          "output_type": "stream",
          "text": [
            "Loss:  4.19251012802124\n"
          ],
          "name": "stdout"
        },
        {
          "output_type": "stream",
          "text": [
            "  0%|          | 51/13084 [00:21<1:24:29,  2.57it/s]"
          ],
          "name": "stderr"
        },
        {
          "output_type": "stream",
          "text": [
            "Loss:  3.8933801651000977\n"
          ],
          "name": "stdout"
        },
        {
          "output_type": "stream",
          "text": [
            "  1%|          | 101/13084 [00:42<1:41:09,  2.14it/s]"
          ],
          "name": "stderr"
        },
        {
          "output_type": "stream",
          "text": [
            "Loss:  3.7431068420410156\n"
          ],
          "name": "stdout"
        },
        {
          "output_type": "stream",
          "text": [
            "  1%|          | 151/13084 [01:02<1:24:48,  2.54it/s]"
          ],
          "name": "stderr"
        },
        {
          "output_type": "stream",
          "text": [
            "Loss:  3.6965134143829346\n"
          ],
          "name": "stdout"
        },
        {
          "output_type": "stream",
          "text": [
            "  2%|▏         | 201/13084 [01:22<1:39:58,  2.15it/s]"
          ],
          "name": "stderr"
        },
        {
          "output_type": "stream",
          "text": [
            "Loss:  3.387388229370117\n"
          ],
          "name": "stdout"
        },
        {
          "output_type": "stream",
          "text": [
            "  2%|▏         | 251/13084 [01:43<1:33:36,  2.28it/s]"
          ],
          "name": "stderr"
        },
        {
          "output_type": "stream",
          "text": [
            "Loss:  3.0610878467559814\n"
          ],
          "name": "stdout"
        },
        {
          "output_type": "stream",
          "text": [
            "  2%|▏         | 301/13084 [02:04<1:13:59,  2.88it/s]"
          ],
          "name": "stderr"
        },
        {
          "output_type": "stream",
          "text": [
            "Loss:  3.177053213119507\n"
          ],
          "name": "stdout"
        },
        {
          "output_type": "stream",
          "text": [
            "  3%|▎         | 351/13084 [02:24<1:14:34,  2.85it/s]"
          ],
          "name": "stderr"
        },
        {
          "output_type": "stream",
          "text": [
            "Loss:  2.949465036392212\n"
          ],
          "name": "stdout"
        },
        {
          "output_type": "stream",
          "text": [
            "  3%|▎         | 401/13084 [02:45<1:14:38,  2.83it/s]"
          ],
          "name": "stderr"
        },
        {
          "output_type": "stream",
          "text": [
            "Loss:  3.0216453075408936\n"
          ],
          "name": "stdout"
        },
        {
          "output_type": "stream",
          "text": [
            "  3%|▎         | 451/13084 [03:06<1:30:10,  2.33it/s]"
          ],
          "name": "stderr"
        },
        {
          "output_type": "stream",
          "text": [
            "Loss:  2.7520053386688232\n"
          ],
          "name": "stdout"
        },
        {
          "output_type": "stream",
          "text": [
            "  4%|▍         | 501/13084 [03:29<1:34:29,  2.22it/s]"
          ],
          "name": "stderr"
        },
        {
          "output_type": "stream",
          "text": [
            "Loss:  2.763887405395508\n"
          ],
          "name": "stdout"
        },
        {
          "output_type": "stream",
          "text": [
            "  4%|▍         | 551/13084 [03:51<1:20:20,  2.60it/s]"
          ],
          "name": "stderr"
        },
        {
          "output_type": "stream",
          "text": [
            "Loss:  2.382133722305298\n"
          ],
          "name": "stdout"
        },
        {
          "output_type": "stream",
          "text": [
            "  5%|▍         | 601/13084 [04:13<1:39:42,  2.09it/s]"
          ],
          "name": "stderr"
        },
        {
          "output_type": "stream",
          "text": [
            "Loss:  2.6973824501037598\n"
          ],
          "name": "stdout"
        },
        {
          "output_type": "stream",
          "text": [
            "  5%|▍         | 652/13084 [04:35<1:19:39,  2.60it/s]"
          ],
          "name": "stderr"
        },
        {
          "output_type": "stream",
          "text": [
            "Loss:  2.4661929607391357\n"
          ],
          "name": "stdout"
        },
        {
          "output_type": "stream",
          "text": [
            "  5%|▌         | 701/13084 [04:56<1:20:47,  2.55it/s]"
          ],
          "name": "stderr"
        },
        {
          "output_type": "stream",
          "text": [
            "Loss:  2.484161376953125\n"
          ],
          "name": "stdout"
        },
        {
          "output_type": "stream",
          "text": [
            "  6%|▌         | 751/13084 [05:17<1:14:17,  2.77it/s]"
          ],
          "name": "stderr"
        },
        {
          "output_type": "stream",
          "text": [
            "Loss:  2.7603280544281006\n"
          ],
          "name": "stdout"
        },
        {
          "output_type": "stream",
          "text": [
            "  6%|▌         | 801/13084 [05:39<1:21:05,  2.52it/s]"
          ],
          "name": "stderr"
        },
        {
          "output_type": "stream",
          "text": [
            "Loss:  2.3512051105499268\n"
          ],
          "name": "stdout"
        },
        {
          "output_type": "stream",
          "text": [
            "  7%|▋         | 851/13084 [06:00<1:23:45,  2.43it/s]"
          ],
          "name": "stderr"
        },
        {
          "output_type": "stream",
          "text": [
            "Loss:  2.0398638248443604\n"
          ],
          "name": "stdout"
        },
        {
          "output_type": "stream",
          "text": [
            "  7%|▋         | 901/13084 [06:22<1:23:41,  2.43it/s]"
          ],
          "name": "stderr"
        },
        {
          "output_type": "stream",
          "text": [
            "Loss:  2.104685068130493\n"
          ],
          "name": "stdout"
        },
        {
          "output_type": "stream",
          "text": [
            "  7%|▋         | 951/13084 [06:43<1:25:12,  2.37it/s]"
          ],
          "name": "stderr"
        },
        {
          "output_type": "stream",
          "text": [
            "Loss:  2.0729267597198486\n"
          ],
          "name": "stdout"
        },
        {
          "output_type": "stream",
          "text": [
            "  8%|▊         | 1001/13084 [07:04<1:19:13,  2.54it/s]"
          ],
          "name": "stderr"
        },
        {
          "output_type": "stream",
          "text": [
            "Loss:  2.0745890140533447\n"
          ],
          "name": "stdout"
        },
        {
          "output_type": "stream",
          "text": [
            "  8%|▊         | 1051/13084 [07:24<1:19:41,  2.52it/s]"
          ],
          "name": "stderr"
        },
        {
          "output_type": "stream",
          "text": [
            "Loss:  2.096956491470337\n"
          ],
          "name": "stdout"
        },
        {
          "output_type": "stream",
          "text": [
            "  8%|▊         | 1101/13084 [07:44<1:36:15,  2.07it/s]"
          ],
          "name": "stderr"
        },
        {
          "output_type": "stream",
          "text": [
            "Loss:  1.8444428443908691\n"
          ],
          "name": "stdout"
        },
        {
          "output_type": "stream",
          "text": [
            "  9%|▉         | 1151/13084 [08:06<1:15:27,  2.64it/s]"
          ],
          "name": "stderr"
        },
        {
          "output_type": "stream",
          "text": [
            "Loss:  2.0384395122528076\n"
          ],
          "name": "stdout"
        },
        {
          "output_type": "stream",
          "text": [
            "  9%|▉         | 1201/13084 [08:28<1:21:24,  2.43it/s]"
          ],
          "name": "stderr"
        },
        {
          "output_type": "stream",
          "text": [
            "Loss:  1.8227266073226929\n"
          ],
          "name": "stdout"
        },
        {
          "output_type": "stream",
          "text": [
            " 10%|▉         | 1251/13084 [08:49<1:15:54,  2.60it/s]"
          ],
          "name": "stderr"
        },
        {
          "output_type": "stream",
          "text": [
            "Loss:  1.8969725370407104\n"
          ],
          "name": "stdout"
        },
        {
          "output_type": "stream",
          "text": [
            " 10%|▉         | 1301/13084 [09:08<1:14:30,  2.64it/s]"
          ],
          "name": "stderr"
        },
        {
          "output_type": "stream",
          "text": [
            "Loss:  2.3158085346221924\n"
          ],
          "name": "stdout"
        },
        {
          "output_type": "stream",
          "text": [
            " 10%|█         | 1351/13084 [09:29<1:26:34,  2.26it/s]"
          ],
          "name": "stderr"
        },
        {
          "output_type": "stream",
          "text": [
            "Loss:  1.8463213443756104\n"
          ],
          "name": "stdout"
        },
        {
          "output_type": "stream",
          "text": [
            " 11%|█         | 1401/13084 [09:50<1:19:16,  2.46it/s]"
          ],
          "name": "stderr"
        },
        {
          "output_type": "stream",
          "text": [
            "Loss:  1.8720930814743042\n"
          ],
          "name": "stdout"
        },
        {
          "output_type": "stream",
          "text": [
            " 11%|█         | 1451/13084 [10:12<1:16:15,  2.54it/s]"
          ],
          "name": "stderr"
        },
        {
          "output_type": "stream",
          "text": [
            "Loss:  1.8442339897155762\n"
          ],
          "name": "stdout"
        },
        {
          "output_type": "stream",
          "text": [
            " 11%|█▏        | 1501/13084 [10:35<1:25:37,  2.25it/s]"
          ],
          "name": "stderr"
        },
        {
          "output_type": "stream",
          "text": [
            "Loss:  1.9011613130569458\n"
          ],
          "name": "stdout"
        },
        {
          "output_type": "stream",
          "text": [
            " 12%|█▏        | 1552/13084 [10:56<1:08:48,  2.79it/s]"
          ],
          "name": "stderr"
        },
        {
          "output_type": "stream",
          "text": [
            "Loss:  1.7046936750411987\n"
          ],
          "name": "stdout"
        },
        {
          "output_type": "stream",
          "text": [
            " 12%|█▏        | 1601/13084 [11:16<1:35:00,  2.01it/s]"
          ],
          "name": "stderr"
        },
        {
          "output_type": "stream",
          "text": [
            "Loss:  1.6362864971160889\n"
          ],
          "name": "stdout"
        },
        {
          "output_type": "stream",
          "text": [
            " 13%|█▎        | 1651/13084 [11:37<1:26:05,  2.21it/s]"
          ],
          "name": "stderr"
        },
        {
          "output_type": "stream",
          "text": [
            "Loss:  1.7907593250274658\n"
          ],
          "name": "stdout"
        },
        {
          "output_type": "stream",
          "text": [
            " 13%|█▎        | 1701/13084 [11:59<1:25:08,  2.23it/s]"
          ],
          "name": "stderr"
        },
        {
          "output_type": "stream",
          "text": [
            "Loss:  1.8390986919403076\n"
          ],
          "name": "stdout"
        },
        {
          "output_type": "stream",
          "text": [
            " 13%|█▎        | 1751/13084 [12:20<1:11:42,  2.63it/s]"
          ],
          "name": "stderr"
        },
        {
          "output_type": "stream",
          "text": [
            "Loss:  1.556579351425171\n"
          ],
          "name": "stdout"
        },
        {
          "output_type": "stream",
          "text": [
            " 14%|█▍        | 1802/13084 [12:43<1:14:10,  2.53it/s]"
          ],
          "name": "stderr"
        },
        {
          "output_type": "stream",
          "text": [
            "Loss:  1.6433781385421753\n"
          ],
          "name": "stdout"
        },
        {
          "output_type": "stream",
          "text": [
            " 14%|█▍        | 1851/13084 [13:04<1:21:39,  2.29it/s]"
          ],
          "name": "stderr"
        },
        {
          "output_type": "stream",
          "text": [
            "Loss:  1.6640642881393433\n"
          ],
          "name": "stdout"
        },
        {
          "output_type": "stream",
          "text": [
            " 15%|█▍        | 1901/13084 [13:27<1:24:30,  2.21it/s]"
          ],
          "name": "stderr"
        },
        {
          "output_type": "stream",
          "text": [
            "Loss:  1.59442138671875\n"
          ],
          "name": "stdout"
        },
        {
          "output_type": "stream",
          "text": [
            " 15%|█▍        | 1951/13084 [13:48<1:22:19,  2.25it/s]"
          ],
          "name": "stderr"
        },
        {
          "output_type": "stream",
          "text": [
            "Loss:  1.8067643642425537\n"
          ],
          "name": "stdout"
        },
        {
          "output_type": "stream",
          "text": [
            " 15%|█▌        | 2001/13084 [14:09<1:26:34,  2.13it/s]"
          ],
          "name": "stderr"
        },
        {
          "output_type": "stream",
          "text": [
            "Loss:  1.6046212911605835\n"
          ],
          "name": "stdout"
        },
        {
          "output_type": "stream",
          "text": [
            " 16%|█▌        | 2051/13084 [14:31<1:25:42,  2.15it/s]"
          ],
          "name": "stderr"
        },
        {
          "output_type": "stream",
          "text": [
            "Loss:  1.6008882522583008\n"
          ],
          "name": "stdout"
        },
        {
          "output_type": "stream",
          "text": [
            " 16%|█▌        | 2101/13084 [14:50<1:09:21,  2.64it/s]"
          ],
          "name": "stderr"
        },
        {
          "output_type": "stream",
          "text": [
            "Loss:  1.4845350980758667\n"
          ],
          "name": "stdout"
        },
        {
          "output_type": "stream",
          "text": [
            " 16%|█▋        | 2152/13084 [15:11<54:18,  3.36it/s]  "
          ],
          "name": "stderr"
        },
        {
          "output_type": "stream",
          "text": [
            "Loss:  1.8501248359680176\n"
          ],
          "name": "stdout"
        },
        {
          "output_type": "stream",
          "text": [
            " 17%|█▋        | 2201/13084 [15:32<1:17:09,  2.35it/s]"
          ],
          "name": "stderr"
        },
        {
          "output_type": "stream",
          "text": [
            "Loss:  1.5114384889602661\n"
          ],
          "name": "stdout"
        },
        {
          "output_type": "stream",
          "text": [
            " 17%|█▋        | 2252/13084 [15:52<56:52,  3.17it/s]  "
          ],
          "name": "stderr"
        },
        {
          "output_type": "stream",
          "text": [
            "Loss:  1.735904335975647\n"
          ],
          "name": "stdout"
        },
        {
          "output_type": "stream",
          "text": [
            " 18%|█▊        | 2301/13084 [16:13<57:01,  3.15it/s]  "
          ],
          "name": "stderr"
        },
        {
          "output_type": "stream",
          "text": [
            "Loss:  1.6198384761810303\n"
          ],
          "name": "stdout"
        },
        {
          "output_type": "stream",
          "text": [
            " 18%|█▊        | 2351/13084 [16:31<59:56,  2.98it/s]"
          ],
          "name": "stderr"
        },
        {
          "output_type": "stream",
          "text": [
            "Loss:  1.9316093921661377\n"
          ],
          "name": "stdout"
        },
        {
          "output_type": "stream",
          "text": [
            " 18%|█▊        | 2401/13084 [16:52<55:12,  3.23it/s]"
          ],
          "name": "stderr"
        },
        {
          "output_type": "stream",
          "text": [
            "Loss:  1.5648890733718872\n"
          ],
          "name": "stdout"
        },
        {
          "output_type": "stream",
          "text": [
            " 19%|█▊        | 2451/13084 [17:13<1:23:00,  2.13it/s]"
          ],
          "name": "stderr"
        },
        {
          "output_type": "stream",
          "text": [
            "Loss:  1.6396187543869019\n"
          ],
          "name": "stdout"
        },
        {
          "output_type": "stream",
          "text": [
            " 19%|█▉        | 2501/13084 [17:35<1:18:58,  2.23it/s]"
          ],
          "name": "stderr"
        },
        {
          "output_type": "stream",
          "text": [
            "Loss:  1.5232644081115723\n"
          ],
          "name": "stdout"
        },
        {
          "output_type": "stream",
          "text": [
            " 19%|█▉        | 2551/13084 [17:54<1:12:02,  2.44it/s]"
          ],
          "name": "stderr"
        },
        {
          "output_type": "stream",
          "text": [
            "Loss:  1.727396845817566\n"
          ],
          "name": "stdout"
        },
        {
          "output_type": "stream",
          "text": [
            " 20%|█▉        | 2601/13084 [18:14<1:09:30,  2.51it/s]"
          ],
          "name": "stderr"
        },
        {
          "output_type": "stream",
          "text": [
            "Loss:  1.625363826751709\n"
          ],
          "name": "stdout"
        },
        {
          "output_type": "stream",
          "text": [
            " 20%|██        | 2651/13084 [18:36<1:00:06,  2.89it/s]"
          ],
          "name": "stderr"
        },
        {
          "output_type": "stream",
          "text": [
            "Loss:  1.5117377042770386\n"
          ],
          "name": "stdout"
        },
        {
          "output_type": "stream",
          "text": [
            " 21%|██        | 2701/13084 [18:57<1:19:17,  2.18it/s]"
          ],
          "name": "stderr"
        },
        {
          "output_type": "stream",
          "text": [
            "Loss:  1.5224016904830933\n"
          ],
          "name": "stdout"
        },
        {
          "output_type": "stream",
          "text": [
            " 21%|██        | 2751/13084 [19:18<1:19:54,  2.16it/s]"
          ],
          "name": "stderr"
        },
        {
          "output_type": "stream",
          "text": [
            "Loss:  1.453865647315979\n"
          ],
          "name": "stdout"
        },
        {
          "output_type": "stream",
          "text": [
            " 21%|██▏       | 2801/13084 [19:40<1:10:22,  2.44it/s]"
          ],
          "name": "stderr"
        },
        {
          "output_type": "stream",
          "text": [
            "Loss:  1.5607882738113403\n"
          ],
          "name": "stdout"
        },
        {
          "output_type": "stream",
          "text": [
            " 22%|██▏       | 2851/13084 [20:01<1:21:06,  2.10it/s]"
          ],
          "name": "stderr"
        },
        {
          "output_type": "stream",
          "text": [
            "Loss:  1.5666052103042603\n"
          ],
          "name": "stdout"
        },
        {
          "output_type": "stream",
          "text": [
            " 22%|██▏       | 2901/13084 [20:23<1:29:47,  1.89it/s]"
          ],
          "name": "stderr"
        },
        {
          "output_type": "stream",
          "text": [
            "Loss:  1.5331765413284302\n"
          ],
          "name": "stdout"
        },
        {
          "output_type": "stream",
          "text": [
            " 23%|██▎       | 2951/13084 [20:42<1:05:19,  2.59it/s]"
          ],
          "name": "stderr"
        },
        {
          "output_type": "stream",
          "text": [
            "Loss:  1.5187677145004272\n"
          ],
          "name": "stdout"
        },
        {
          "output_type": "stream",
          "text": [
            " 23%|██▎       | 3001/13084 [21:04<1:00:44,  2.77it/s]"
          ],
          "name": "stderr"
        },
        {
          "output_type": "stream",
          "text": [
            "Loss:  1.6142027378082275\n"
          ],
          "name": "stdout"
        },
        {
          "output_type": "stream",
          "text": [
            " 23%|██▎       | 3051/13084 [21:25<1:07:45,  2.47it/s]"
          ],
          "name": "stderr"
        },
        {
          "output_type": "stream",
          "text": [
            "Loss:  1.534576654434204\n"
          ],
          "name": "stdout"
        },
        {
          "output_type": "stream",
          "text": [
            " 24%|██▎       | 3102/13084 [21:45<52:26,  3.17it/s]  "
          ],
          "name": "stderr"
        },
        {
          "output_type": "stream",
          "text": [
            "Loss:  1.755863904953003\n"
          ],
          "name": "stdout"
        },
        {
          "output_type": "stream",
          "text": [
            " 24%|██▍       | 3151/13084 [22:05<56:44,  2.92it/s]  "
          ],
          "name": "stderr"
        },
        {
          "output_type": "stream",
          "text": [
            "Loss:  1.4534581899642944\n"
          ],
          "name": "stdout"
        },
        {
          "output_type": "stream",
          "text": [
            " 24%|██▍       | 3201/13084 [22:26<1:01:37,  2.67it/s]"
          ],
          "name": "stderr"
        },
        {
          "output_type": "stream",
          "text": [
            "Loss:  1.7060104608535767\n"
          ],
          "name": "stdout"
        },
        {
          "output_type": "stream",
          "text": [
            " 25%|██▍       | 3251/13084 [22:47<1:19:20,  2.07it/s]"
          ],
          "name": "stderr"
        },
        {
          "output_type": "stream",
          "text": [
            "Loss:  1.6201797723770142\n"
          ],
          "name": "stdout"
        },
        {
          "output_type": "stream",
          "text": [
            " 25%|██▌       | 3301/13084 [23:10<58:57,  2.77it/s]  "
          ],
          "name": "stderr"
        },
        {
          "output_type": "stream",
          "text": [
            "Loss:  1.6749091148376465\n"
          ],
          "name": "stdout"
        },
        {
          "output_type": "stream",
          "text": [
            " 26%|██▌       | 3351/13084 [23:32<1:16:04,  2.13it/s]"
          ],
          "name": "stderr"
        },
        {
          "output_type": "stream",
          "text": [
            "Loss:  1.3914796113967896\n"
          ],
          "name": "stdout"
        },
        {
          "output_type": "stream",
          "text": [
            " 26%|██▌       | 3401/13084 [23:52<58:45,  2.75it/s]  "
          ],
          "name": "stderr"
        },
        {
          "output_type": "stream",
          "text": [
            "Loss:  1.5842804908752441\n"
          ],
          "name": "stdout"
        },
        {
          "output_type": "stream",
          "text": [
            " 26%|██▋       | 3451/13084 [24:12<1:00:56,  2.63it/s]"
          ],
          "name": "stderr"
        },
        {
          "output_type": "stream",
          "text": [
            "Loss:  1.5734760761260986\n"
          ],
          "name": "stdout"
        },
        {
          "output_type": "stream",
          "text": [
            " 27%|██▋       | 3501/13084 [24:33<1:09:07,  2.31it/s]"
          ],
          "name": "stderr"
        },
        {
          "output_type": "stream",
          "text": [
            "Loss:  1.4706764221191406\n"
          ],
          "name": "stdout"
        },
        {
          "output_type": "stream",
          "text": [
            " 27%|██▋       | 3551/13084 [24:54<1:11:32,  2.22it/s]"
          ],
          "name": "stderr"
        },
        {
          "output_type": "stream",
          "text": [
            "Loss:  1.5451101064682007\n"
          ],
          "name": "stdout"
        },
        {
          "output_type": "stream",
          "text": [
            " 28%|██▊       | 3601/13084 [25:15<1:23:48,  1.89it/s]"
          ],
          "name": "stderr"
        },
        {
          "output_type": "stream",
          "text": [
            "Loss:  1.488107442855835\n"
          ],
          "name": "stdout"
        },
        {
          "output_type": "stream",
          "text": [
            " 28%|██▊       | 3651/13084 [25:37<1:06:48,  2.35it/s]"
          ],
          "name": "stderr"
        },
        {
          "output_type": "stream",
          "text": [
            "Loss:  1.557688593864441\n"
          ],
          "name": "stdout"
        },
        {
          "output_type": "stream",
          "text": [
            " 28%|██▊       | 3701/13084 [25:56<1:01:42,  2.53it/s]"
          ],
          "name": "stderr"
        },
        {
          "output_type": "stream",
          "text": [
            "Loss:  1.4902992248535156\n"
          ],
          "name": "stdout"
        },
        {
          "output_type": "stream",
          "text": [
            " 29%|██▊       | 3751/13084 [26:16<1:00:56,  2.55it/s]"
          ],
          "name": "stderr"
        },
        {
          "output_type": "stream",
          "text": [
            "Loss:  1.4993469715118408\n"
          ],
          "name": "stdout"
        },
        {
          "output_type": "stream",
          "text": [
            " 29%|██▉       | 3801/13084 [26:37<1:00:20,  2.56it/s]"
          ],
          "name": "stderr"
        },
        {
          "output_type": "stream",
          "text": [
            "Loss:  1.641381859779358\n"
          ],
          "name": "stdout"
        },
        {
          "output_type": "stream",
          "text": [
            " 29%|██▉       | 3851/13084 [26:59<1:13:06,  2.10it/s]"
          ],
          "name": "stderr"
        },
        {
          "output_type": "stream",
          "text": [
            "Loss:  1.5324052572250366\n"
          ],
          "name": "stdout"
        },
        {
          "output_type": "stream",
          "text": [
            " 30%|██▉       | 3901/13084 [27:19<58:31,  2.61it/s]  "
          ],
          "name": "stderr"
        },
        {
          "output_type": "stream",
          "text": [
            "Loss:  1.5325309038162231\n"
          ],
          "name": "stdout"
        },
        {
          "output_type": "stream",
          "text": [
            " 30%|███       | 3951/13084 [27:40<1:15:07,  2.03it/s]"
          ],
          "name": "stderr"
        },
        {
          "output_type": "stream",
          "text": [
            "Loss:  1.571864128112793\n"
          ],
          "name": "stdout"
        },
        {
          "output_type": "stream",
          "text": [
            " 31%|███       | 4001/13084 [28:00<52:17,  2.89it/s]"
          ],
          "name": "stderr"
        },
        {
          "output_type": "stream",
          "text": [
            "Loss:  1.5154931545257568\n"
          ],
          "name": "stdout"
        },
        {
          "output_type": "stream",
          "text": [
            " 31%|███       | 4051/13084 [28:20<1:00:06,  2.50it/s]"
          ],
          "name": "stderr"
        },
        {
          "output_type": "stream",
          "text": [
            "Loss:  1.535888433456421\n"
          ],
          "name": "stdout"
        },
        {
          "output_type": "stream",
          "text": [
            " 31%|███▏      | 4101/13084 [28:42<55:03,  2.72it/s]  "
          ],
          "name": "stderr"
        },
        {
          "output_type": "stream",
          "text": [
            "Loss:  1.575203537940979\n"
          ],
          "name": "stdout"
        },
        {
          "output_type": "stream",
          "text": [
            " 32%|███▏      | 4151/13084 [29:02<1:09:02,  2.16it/s]"
          ],
          "name": "stderr"
        },
        {
          "output_type": "stream",
          "text": [
            "Loss:  1.552274227142334\n"
          ],
          "name": "stdout"
        },
        {
          "output_type": "stream",
          "text": [
            " 32%|███▏      | 4201/13084 [29:23<55:46,  2.65it/s]"
          ],
          "name": "stderr"
        },
        {
          "output_type": "stream",
          "text": [
            "Loss:  1.5686092376708984\n"
          ],
          "name": "stdout"
        },
        {
          "output_type": "stream",
          "text": [
            " 32%|███▏      | 4251/13084 [29:44<54:17,  2.71it/s]"
          ],
          "name": "stderr"
        },
        {
          "output_type": "stream",
          "text": [
            "Loss:  1.5671663284301758\n"
          ],
          "name": "stdout"
        },
        {
          "output_type": "stream",
          "text": [
            " 33%|███▎      | 4301/13084 [30:05<50:33,  2.90it/s]"
          ],
          "name": "stderr"
        },
        {
          "output_type": "stream",
          "text": [
            "Loss:  1.8201532363891602\n"
          ],
          "name": "stdout"
        },
        {
          "output_type": "stream",
          "text": [
            " 33%|███▎      | 4352/13084 [30:27<54:49,  2.65it/s]  "
          ],
          "name": "stderr"
        },
        {
          "output_type": "stream",
          "text": [
            "Loss:  1.6210346221923828\n"
          ],
          "name": "stdout"
        },
        {
          "output_type": "stream",
          "text": [
            " 34%|███▎      | 4401/13084 [30:47<1:00:35,  2.39it/s]"
          ],
          "name": "stderr"
        },
        {
          "output_type": "stream",
          "text": [
            "Loss:  1.6171327829360962\n"
          ],
          "name": "stdout"
        },
        {
          "output_type": "stream",
          "text": [
            " 34%|███▍      | 4452/13084 [31:08<35:12,  4.09it/s]"
          ],
          "name": "stderr"
        },
        {
          "output_type": "stream",
          "text": [
            "Loss:  1.630074381828308\n"
          ],
          "name": "stdout"
        },
        {
          "output_type": "stream",
          "text": [
            " 34%|███▍      | 4501/13084 [31:28<1:03:47,  2.24it/s]"
          ],
          "name": "stderr"
        },
        {
          "output_type": "stream",
          "text": [
            "Loss:  1.3270994424819946\n"
          ],
          "name": "stdout"
        },
        {
          "output_type": "stream",
          "text": [
            " 35%|███▍      | 4551/13084 [31:49<57:57,  2.45it/s]"
          ],
          "name": "stderr"
        },
        {
          "output_type": "stream",
          "text": [
            "Loss:  1.612134337425232\n"
          ],
          "name": "stdout"
        },
        {
          "output_type": "stream",
          "text": [
            " 35%|███▌      | 4601/13084 [32:08<55:14,  2.56it/s]"
          ],
          "name": "stderr"
        },
        {
          "output_type": "stream",
          "text": [
            "Loss:  1.6492854356765747\n"
          ],
          "name": "stdout"
        },
        {
          "output_type": "stream",
          "text": [
            " 36%|███▌      | 4651/13084 [32:31<1:08:30,  2.05it/s]"
          ],
          "name": "stderr"
        },
        {
          "output_type": "stream",
          "text": [
            "Loss:  1.447845458984375\n"
          ],
          "name": "stdout"
        },
        {
          "output_type": "stream",
          "text": [
            " 36%|███▌      | 4701/13084 [32:52<58:47,  2.38it/s]  "
          ],
          "name": "stderr"
        },
        {
          "output_type": "stream",
          "text": [
            "Loss:  1.6985541582107544\n"
          ],
          "name": "stdout"
        },
        {
          "output_type": "stream",
          "text": [
            " 36%|███▋      | 4751/13084 [33:12<49:45,  2.79it/s]  "
          ],
          "name": "stderr"
        },
        {
          "output_type": "stream",
          "text": [
            "Loss:  1.5976238250732422\n"
          ],
          "name": "stdout"
        },
        {
          "output_type": "stream",
          "text": [
            " 37%|███▋      | 4802/13084 [33:35<55:45,  2.48it/s]  "
          ],
          "name": "stderr"
        },
        {
          "output_type": "stream",
          "text": [
            "Loss:  1.6189894676208496\n"
          ],
          "name": "stdout"
        },
        {
          "output_type": "stream",
          "text": [
            " 37%|███▋      | 4851/13084 [33:56<1:00:55,  2.25it/s]"
          ],
          "name": "stderr"
        },
        {
          "output_type": "stream",
          "text": [
            "Loss:  1.6449850797653198\n"
          ],
          "name": "stdout"
        },
        {
          "output_type": "stream",
          "text": [
            " 37%|███▋      | 4901/13084 [34:16<53:36,  2.54it/s]"
          ],
          "name": "stderr"
        },
        {
          "output_type": "stream",
          "text": [
            "Loss:  1.85726797580719\n"
          ],
          "name": "stdout"
        },
        {
          "output_type": "stream",
          "text": [
            " 38%|███▊      | 4951/13084 [34:37<58:27,  2.32it/s]"
          ],
          "name": "stderr"
        },
        {
          "output_type": "stream",
          "text": [
            "Loss:  1.4544812440872192\n"
          ],
          "name": "stdout"
        },
        {
          "output_type": "stream",
          "text": [
            " 38%|███▊      | 5001/13084 [34:58<57:33,  2.34it/s]"
          ],
          "name": "stderr"
        },
        {
          "output_type": "stream",
          "text": [
            "Loss:  1.6725800037384033\n"
          ],
          "name": "stdout"
        },
        {
          "output_type": "stream",
          "text": [
            " 39%|███▊      | 5052/13084 [35:18<42:36,  3.14it/s]"
          ],
          "name": "stderr"
        },
        {
          "output_type": "stream",
          "text": [
            "Loss:  1.4836063385009766\n"
          ],
          "name": "stdout"
        },
        {
          "output_type": "stream",
          "text": [
            " 39%|███▉      | 5101/13084 [35:38<45:39,  2.91it/s]"
          ],
          "name": "stderr"
        },
        {
          "output_type": "stream",
          "text": [
            "Loss:  1.589965581893921\n"
          ],
          "name": "stdout"
        },
        {
          "output_type": "stream",
          "text": [
            " 39%|███▉      | 5151/13084 [35:59<1:09:30,  1.90it/s]"
          ],
          "name": "stderr"
        },
        {
          "output_type": "stream",
          "text": [
            "Loss:  1.6497923135757446\n"
          ],
          "name": "stdout"
        },
        {
          "output_type": "stream",
          "text": [
            " 40%|███▉      | 5201/13084 [36:20<50:58,  2.58it/s]"
          ],
          "name": "stderr"
        },
        {
          "output_type": "stream",
          "text": [
            "Loss:  1.4864075183868408\n"
          ],
          "name": "stdout"
        },
        {
          "output_type": "stream",
          "text": [
            " 40%|████      | 5251/13084 [36:41<58:08,  2.25it/s]"
          ],
          "name": "stderr"
        },
        {
          "output_type": "stream",
          "text": [
            "Loss:  1.5274831056594849\n"
          ],
          "name": "stdout"
        },
        {
          "output_type": "stream",
          "text": [
            " 41%|████      | 5301/13084 [37:01<55:36,  2.33it/s]"
          ],
          "name": "stderr"
        },
        {
          "output_type": "stream",
          "text": [
            "Loss:  1.5509123802185059\n"
          ],
          "name": "stdout"
        },
        {
          "output_type": "stream",
          "text": [
            " 41%|████      | 5351/13084 [37:20<49:01,  2.63it/s]"
          ],
          "name": "stderr"
        },
        {
          "output_type": "stream",
          "text": [
            "Loss:  1.3202269077301025\n"
          ],
          "name": "stdout"
        },
        {
          "output_type": "stream",
          "text": [
            " 41%|████▏     | 5401/13084 [37:43<1:04:04,  2.00it/s]"
          ],
          "name": "stderr"
        },
        {
          "output_type": "stream",
          "text": [
            "Loss:  1.4540092945098877\n"
          ],
          "name": "stdout"
        },
        {
          "output_type": "stream",
          "text": [
            " 42%|████▏     | 5451/13084 [38:04<55:10,  2.31it/s]"
          ],
          "name": "stderr"
        },
        {
          "output_type": "stream",
          "text": [
            "Loss:  1.3878508806228638\n"
          ],
          "name": "stdout"
        },
        {
          "output_type": "stream",
          "text": [
            " 42%|████▏     | 5501/13084 [38:25<47:37,  2.65it/s]"
          ],
          "name": "stderr"
        },
        {
          "output_type": "stream",
          "text": [
            "Loss:  1.2338987588882446\n"
          ],
          "name": "stdout"
        },
        {
          "output_type": "stream",
          "text": [
            " 42%|████▏     | 5551/13084 [38:47<55:33,  2.26it/s]"
          ],
          "name": "stderr"
        },
        {
          "output_type": "stream",
          "text": [
            "Loss:  1.5241883993148804\n"
          ],
          "name": "stdout"
        },
        {
          "output_type": "stream",
          "text": [
            " 43%|████▎     | 5601/13084 [39:09<49:24,  2.52it/s]"
          ],
          "name": "stderr"
        },
        {
          "output_type": "stream",
          "text": [
            "Loss:  1.5574791431427002\n"
          ],
          "name": "stdout"
        },
        {
          "output_type": "stream",
          "text": [
            " 43%|████▎     | 5651/13084 [39:30<46:08,  2.68it/s]"
          ],
          "name": "stderr"
        },
        {
          "output_type": "stream",
          "text": [
            "Loss:  1.6744389533996582\n"
          ],
          "name": "stdout"
        },
        {
          "output_type": "stream",
          "text": [
            " 44%|████▎     | 5701/13084 [39:52<52:56,  2.32it/s]"
          ],
          "name": "stderr"
        },
        {
          "output_type": "stream",
          "text": [
            "Loss:  1.4132920503616333\n"
          ],
          "name": "stdout"
        },
        {
          "output_type": "stream",
          "text": [
            " 44%|████▍     | 5751/13084 [40:14<56:58,  2.14it/s]  "
          ],
          "name": "stderr"
        },
        {
          "output_type": "stream",
          "text": [
            "Loss:  1.3884570598602295\n"
          ],
          "name": "stdout"
        },
        {
          "output_type": "stream",
          "text": [
            " 44%|████▍     | 5801/13084 [40:36<47:30,  2.56it/s]"
          ],
          "name": "stderr"
        },
        {
          "output_type": "stream",
          "text": [
            "Loss:  1.7387357950210571\n"
          ],
          "name": "stdout"
        },
        {
          "output_type": "stream",
          "text": [
            " 45%|████▍     | 5851/13084 [40:55<45:32,  2.65it/s]"
          ],
          "name": "stderr"
        },
        {
          "output_type": "stream",
          "text": [
            "Loss:  1.455137848854065\n"
          ],
          "name": "stdout"
        },
        {
          "output_type": "stream",
          "text": [
            " 45%|████▌     | 5901/13084 [41:18<52:09,  2.30it/s]"
          ],
          "name": "stderr"
        },
        {
          "output_type": "stream",
          "text": [
            "Loss:  1.4414983987808228\n"
          ],
          "name": "stdout"
        },
        {
          "output_type": "stream",
          "text": [
            " 45%|████▌     | 5951/13084 [41:38<42:02,  2.83it/s]"
          ],
          "name": "stderr"
        },
        {
          "output_type": "stream",
          "text": [
            "Loss:  1.4625380039215088\n"
          ],
          "name": "stdout"
        },
        {
          "output_type": "stream",
          "text": [
            " 46%|████▌     | 6001/13084 [41:57<57:32,  2.05it/s]"
          ],
          "name": "stderr"
        },
        {
          "output_type": "stream",
          "text": [
            "Loss:  1.5001804828643799\n"
          ],
          "name": "stdout"
        },
        {
          "output_type": "stream",
          "text": [
            " 46%|████▌     | 6051/13084 [42:18<53:45,  2.18it/s]"
          ],
          "name": "stderr"
        },
        {
          "output_type": "stream",
          "text": [
            "Loss:  1.5393126010894775\n"
          ],
          "name": "stdout"
        },
        {
          "output_type": "stream",
          "text": [
            " 47%|████▋     | 6102/13084 [42:37<45:49,  2.54it/s]"
          ],
          "name": "stderr"
        },
        {
          "output_type": "stream",
          "text": [
            "Loss:  1.4107542037963867\n"
          ],
          "name": "stdout"
        },
        {
          "output_type": "stream",
          "text": [
            " 47%|████▋     | 6151/13084 [42:59<53:38,  2.15it/s]"
          ],
          "name": "stderr"
        },
        {
          "output_type": "stream",
          "text": [
            "Loss:  1.5545244216918945\n"
          ],
          "name": "stdout"
        },
        {
          "output_type": "stream",
          "text": [
            " 47%|████▋     | 6201/13084 [43:20<47:39,  2.41it/s]"
          ],
          "name": "stderr"
        },
        {
          "output_type": "stream",
          "text": [
            "Loss:  1.305525541305542\n"
          ],
          "name": "stdout"
        },
        {
          "output_type": "stream",
          "text": [
            " 48%|████▊     | 6251/13084 [43:40<49:48,  2.29it/s]"
          ],
          "name": "stderr"
        },
        {
          "output_type": "stream",
          "text": [
            "Loss:  1.545598030090332\n"
          ],
          "name": "stdout"
        },
        {
          "output_type": "stream",
          "text": [
            " 48%|████▊     | 6301/13084 [44:00<40:26,  2.80it/s]"
          ],
          "name": "stderr"
        },
        {
          "output_type": "stream",
          "text": [
            "Loss:  1.5769819021224976\n"
          ],
          "name": "stdout"
        },
        {
          "output_type": "stream",
          "text": [
            " 49%|████▊     | 6352/13084 [44:20<36:53,  3.04it/s]"
          ],
          "name": "stderr"
        },
        {
          "output_type": "stream",
          "text": [
            "Loss:  1.6914056539535522\n"
          ],
          "name": "stdout"
        },
        {
          "output_type": "stream",
          "text": [
            " 49%|████▉     | 6401/13084 [44:40<45:16,  2.46it/s]"
          ],
          "name": "stderr"
        },
        {
          "output_type": "stream",
          "text": [
            "Loss:  1.4481284618377686\n"
          ],
          "name": "stdout"
        },
        {
          "output_type": "stream",
          "text": [
            " 49%|████▉     | 6451/13084 [45:00<48:49,  2.26it/s]"
          ],
          "name": "stderr"
        },
        {
          "output_type": "stream",
          "text": [
            "Loss:  1.5615168809890747\n"
          ],
          "name": "stdout"
        },
        {
          "output_type": "stream",
          "text": [
            " 50%|████▉     | 6502/13084 [45:21<35:51,  3.06it/s]"
          ],
          "name": "stderr"
        },
        {
          "output_type": "stream",
          "text": [
            "Loss:  1.2271987199783325\n"
          ],
          "name": "stdout"
        },
        {
          "output_type": "stream",
          "text": [
            " 50%|█████     | 6551/13084 [45:40<37:59,  2.87it/s]"
          ],
          "name": "stderr"
        },
        {
          "output_type": "stream",
          "text": [
            "Loss:  1.6096962690353394\n"
          ],
          "name": "stdout"
        },
        {
          "output_type": "stream",
          "text": [
            " 50%|█████     | 6601/13084 [45:59<30:52,  3.50it/s]"
          ],
          "name": "stderr"
        },
        {
          "output_type": "stream",
          "text": [
            "Loss:  1.6864701509475708\n"
          ],
          "name": "stdout"
        },
        {
          "output_type": "stream",
          "text": [
            " 51%|█████     | 6651/13084 [46:20<42:11,  2.54it/s]"
          ],
          "name": "stderr"
        },
        {
          "output_type": "stream",
          "text": [
            "Loss:  1.528992772102356\n"
          ],
          "name": "stdout"
        },
        {
          "output_type": "stream",
          "text": [
            " 51%|█████     | 6701/13084 [46:39<35:52,  2.97it/s]"
          ],
          "name": "stderr"
        },
        {
          "output_type": "stream",
          "text": [
            "Loss:  1.5147508382797241\n"
          ],
          "name": "stdout"
        },
        {
          "output_type": "stream",
          "text": [
            " 52%|█████▏    | 6751/13084 [47:00<42:42,  2.47it/s]"
          ],
          "name": "stderr"
        },
        {
          "output_type": "stream",
          "text": [
            "Loss:  1.7630831003189087\n"
          ],
          "name": "stdout"
        },
        {
          "output_type": "stream",
          "text": [
            " 52%|█████▏    | 6801/13084 [47:21<44:21,  2.36it/s]"
          ],
          "name": "stderr"
        },
        {
          "output_type": "stream",
          "text": [
            "Loss:  1.460748553276062\n"
          ],
          "name": "stdout"
        },
        {
          "output_type": "stream",
          "text": [
            " 52%|█████▏    | 6851/13084 [47:42<50:55,  2.04it/s]"
          ],
          "name": "stderr"
        },
        {
          "output_type": "stream",
          "text": [
            "Loss:  1.6582227945327759\n"
          ],
          "name": "stdout"
        },
        {
          "output_type": "stream",
          "text": [
            " 53%|█████▎    | 6901/13084 [48:03<38:17,  2.69it/s]"
          ],
          "name": "stderr"
        },
        {
          "output_type": "stream",
          "text": [
            "Loss:  1.6171810626983643\n"
          ],
          "name": "stdout"
        },
        {
          "output_type": "stream",
          "text": [
            " 53%|█████▎    | 6951/13084 [48:24<43:13,  2.36it/s]"
          ],
          "name": "stderr"
        },
        {
          "output_type": "stream",
          "text": [
            "Loss:  1.7313371896743774\n"
          ],
          "name": "stdout"
        },
        {
          "output_type": "stream",
          "text": [
            " 54%|█████▎    | 7001/13084 [48:47<44:00,  2.30it/s]"
          ],
          "name": "stderr"
        },
        {
          "output_type": "stream",
          "text": [
            "Loss:  1.5878019332885742\n"
          ],
          "name": "stdout"
        },
        {
          "output_type": "stream",
          "text": [
            " 54%|█████▍    | 7051/13084 [49:09<39:55,  2.52it/s]"
          ],
          "name": "stderr"
        },
        {
          "output_type": "stream",
          "text": [
            "Loss:  1.7366199493408203\n"
          ],
          "name": "stdout"
        },
        {
          "output_type": "stream",
          "text": [
            " 54%|█████▍    | 7101/13084 [49:30<45:54,  2.17it/s]"
          ],
          "name": "stderr"
        },
        {
          "output_type": "stream",
          "text": [
            "Loss:  1.4135384559631348\n"
          ],
          "name": "stdout"
        },
        {
          "output_type": "stream",
          "text": [
            " 55%|█████▍    | 7151/13084 [49:51<41:40,  2.37it/s]"
          ],
          "name": "stderr"
        },
        {
          "output_type": "stream",
          "text": [
            "Loss:  1.6704334020614624\n"
          ],
          "name": "stdout"
        },
        {
          "output_type": "stream",
          "text": [
            " 55%|█████▌    | 7201/13084 [50:12<34:46,  2.82it/s]"
          ],
          "name": "stderr"
        },
        {
          "output_type": "stream",
          "text": [
            "Loss:  1.7594588994979858\n"
          ],
          "name": "stdout"
        },
        {
          "output_type": "stream",
          "text": [
            " 55%|█████▌    | 7251/13084 [50:34<34:51,  2.79it/s]"
          ],
          "name": "stderr"
        },
        {
          "output_type": "stream",
          "text": [
            "Loss:  1.3508340120315552\n"
          ],
          "name": "stdout"
        },
        {
          "output_type": "stream",
          "text": [
            " 56%|█████▌    | 7301/13084 [50:54<38:00,  2.54it/s]"
          ],
          "name": "stderr"
        },
        {
          "output_type": "stream",
          "text": [
            "Loss:  1.1931390762329102\n"
          ],
          "name": "stdout"
        },
        {
          "output_type": "stream",
          "text": [
            " 56%|█████▌    | 7352/13084 [51:14<35:39,  2.68it/s]"
          ],
          "name": "stderr"
        },
        {
          "output_type": "stream",
          "text": [
            "Loss:  1.5363376140594482\n"
          ],
          "name": "stdout"
        },
        {
          "output_type": "stream",
          "text": [
            " 57%|█████▋    | 7401/13084 [51:34<36:17,  2.61it/s]"
          ],
          "name": "stderr"
        },
        {
          "output_type": "stream",
          "text": [
            "Loss:  1.5039927959442139\n"
          ],
          "name": "stdout"
        },
        {
          "output_type": "stream",
          "text": [
            " 57%|█████▋    | 7451/13084 [51:52<26:49,  3.50it/s]"
          ],
          "name": "stderr"
        },
        {
          "output_type": "stream",
          "text": [
            "Loss:  1.7249171733856201\n"
          ],
          "name": "stdout"
        },
        {
          "output_type": "stream",
          "text": [
            " 57%|█████▋    | 7501/13084 [52:13<34:24,  2.70it/s]"
          ],
          "name": "stderr"
        },
        {
          "output_type": "stream",
          "text": [
            "Loss:  1.5386918783187866\n"
          ],
          "name": "stdout"
        },
        {
          "output_type": "stream",
          "text": [
            " 58%|█████▊    | 7551/13084 [52:34<45:44,  2.02it/s]"
          ],
          "name": "stderr"
        },
        {
          "output_type": "stream",
          "text": [
            "Loss:  1.5089812278747559\n"
          ],
          "name": "stdout"
        },
        {
          "output_type": "stream",
          "text": [
            " 58%|█████▊    | 7601/13084 [52:55<39:37,  2.31it/s]"
          ],
          "name": "stderr"
        },
        {
          "output_type": "stream",
          "text": [
            "Loss:  1.6249240636825562\n"
          ],
          "name": "stdout"
        },
        {
          "output_type": "stream",
          "text": [
            " 58%|█████▊    | 7651/13084 [53:14<38:58,  2.32it/s]"
          ],
          "name": "stderr"
        },
        {
          "output_type": "stream",
          "text": [
            "Loss:  1.549377679824829\n"
          ],
          "name": "stdout"
        },
        {
          "output_type": "stream",
          "text": [
            " 59%|█████▉    | 7701/13084 [53:35<43:02,  2.08it/s]"
          ],
          "name": "stderr"
        },
        {
          "output_type": "stream",
          "text": [
            "Loss:  1.6177737712860107\n"
          ],
          "name": "stdout"
        },
        {
          "output_type": "stream",
          "text": [
            " 59%|█████▉    | 7751/13084 [53:54<33:56,  2.62it/s]"
          ],
          "name": "stderr"
        },
        {
          "output_type": "stream",
          "text": [
            "Loss:  1.3655985593795776\n"
          ],
          "name": "stdout"
        },
        {
          "output_type": "stream",
          "text": [
            " 60%|█████▉    | 7801/13084 [54:16<42:29,  2.07it/s]"
          ],
          "name": "stderr"
        },
        {
          "output_type": "stream",
          "text": [
            "Loss:  1.5110244750976562\n"
          ],
          "name": "stdout"
        },
        {
          "output_type": "stream",
          "text": [
            " 60%|██████    | 7852/13084 [54:38<27:04,  3.22it/s]"
          ],
          "name": "stderr"
        },
        {
          "output_type": "stream",
          "text": [
            "Loss:  1.2472896575927734\n"
          ],
          "name": "stdout"
        },
        {
          "output_type": "stream",
          "text": [
            " 60%|██████    | 7901/13084 [54:58<34:26,  2.51it/s]"
          ],
          "name": "stderr"
        },
        {
          "output_type": "stream",
          "text": [
            "Loss:  1.607380747795105\n"
          ],
          "name": "stdout"
        },
        {
          "output_type": "stream",
          "text": [
            " 61%|██████    | 7951/13084 [55:19<39:13,  2.18it/s]"
          ],
          "name": "stderr"
        },
        {
          "output_type": "stream",
          "text": [
            "Loss:  1.5004608631134033\n"
          ],
          "name": "stdout"
        },
        {
          "output_type": "stream",
          "text": [
            " 61%|██████    | 8001/13084 [55:41<38:58,  2.17it/s]"
          ],
          "name": "stderr"
        },
        {
          "output_type": "stream",
          "text": [
            "Loss:  1.5280399322509766\n"
          ],
          "name": "stdout"
        },
        {
          "output_type": "stream",
          "text": [
            " 62%|██████▏   | 8051/13084 [56:01<34:57,  2.40it/s]"
          ],
          "name": "stderr"
        },
        {
          "output_type": "stream",
          "text": [
            "Loss:  1.4313777685165405\n"
          ],
          "name": "stdout"
        },
        {
          "output_type": "stream",
          "text": [
            " 62%|██████▏   | 8101/13084 [56:21<35:48,  2.32it/s]"
          ],
          "name": "stderr"
        },
        {
          "output_type": "stream",
          "text": [
            "Loss:  1.495566964149475\n"
          ],
          "name": "stdout"
        },
        {
          "output_type": "stream",
          "text": [
            " 62%|██████▏   | 8151/13084 [56:41<31:02,  2.65it/s]"
          ],
          "name": "stderr"
        },
        {
          "output_type": "stream",
          "text": [
            "Loss:  1.4148434400558472\n"
          ],
          "name": "stdout"
        },
        {
          "output_type": "stream",
          "text": [
            " 63%|██████▎   | 8201/13084 [57:01<30:38,  2.66it/s]"
          ],
          "name": "stderr"
        },
        {
          "output_type": "stream",
          "text": [
            "Loss:  1.4912174940109253\n"
          ],
          "name": "stdout"
        },
        {
          "output_type": "stream",
          "text": [
            " 63%|██████▎   | 8251/13084 [57:22<40:01,  2.01it/s]"
          ],
          "name": "stderr"
        },
        {
          "output_type": "stream",
          "text": [
            "Loss:  1.274407148361206\n"
          ],
          "name": "stdout"
        },
        {
          "output_type": "stream",
          "text": [
            " 63%|██████▎   | 8301/13084 [57:43<29:17,  2.72it/s]"
          ],
          "name": "stderr"
        },
        {
          "output_type": "stream",
          "text": [
            "Loss:  1.5278538465499878\n"
          ],
          "name": "stdout"
        },
        {
          "output_type": "stream",
          "text": [
            " 64%|██████▍   | 8351/13084 [58:03<24:56,  3.16it/s]"
          ],
          "name": "stderr"
        },
        {
          "output_type": "stream",
          "text": [
            "Loss:  1.496791124343872\n"
          ],
          "name": "stdout"
        },
        {
          "output_type": "stream",
          "text": [
            " 64%|██████▍   | 8401/13084 [58:24<29:05,  2.68it/s]"
          ],
          "name": "stderr"
        },
        {
          "output_type": "stream",
          "text": [
            "Loss:  1.4653584957122803\n"
          ],
          "name": "stdout"
        },
        {
          "output_type": "stream",
          "text": [
            " 65%|██████▍   | 8451/13084 [58:44<37:02,  2.08it/s]"
          ],
          "name": "stderr"
        },
        {
          "output_type": "stream",
          "text": [
            "Loss:  1.5523377656936646\n"
          ],
          "name": "stdout"
        },
        {
          "output_type": "stream",
          "text": [
            " 65%|██████▍   | 8501/13084 [59:05<26:59,  2.83it/s]"
          ],
          "name": "stderr"
        },
        {
          "output_type": "stream",
          "text": [
            "Loss:  1.417163372039795\n"
          ],
          "name": "stdout"
        },
        {
          "output_type": "stream",
          "text": [
            " 65%|██████▌   | 8551/13084 [59:27<31:40,  2.39it/s]"
          ],
          "name": "stderr"
        },
        {
          "output_type": "stream",
          "text": [
            "Loss:  1.517724871635437\n"
          ],
          "name": "stdout"
        },
        {
          "output_type": "stream",
          "text": [
            " 66%|██████▌   | 8601/13084 [59:48<28:00,  2.67it/s]"
          ],
          "name": "stderr"
        },
        {
          "output_type": "stream",
          "text": [
            "Loss:  1.5306810140609741\n"
          ],
          "name": "stdout"
        },
        {
          "output_type": "stream",
          "text": [
            " 66%|██████▌   | 8651/13084 [1:00:09<33:00,  2.24it/s]"
          ],
          "name": "stderr"
        },
        {
          "output_type": "stream",
          "text": [
            "Loss:  1.4002466201782227\n"
          ],
          "name": "stdout"
        },
        {
          "output_type": "stream",
          "text": [
            " 67%|██████▋   | 8701/13084 [1:00:30<26:50,  2.72it/s]"
          ],
          "name": "stderr"
        },
        {
          "output_type": "stream",
          "text": [
            "Loss:  1.4038857221603394\n"
          ],
          "name": "stdout"
        },
        {
          "output_type": "stream",
          "text": [
            " 67%|██████▋   | 8751/13084 [1:00:50<27:19,  2.64it/s]"
          ],
          "name": "stderr"
        },
        {
          "output_type": "stream",
          "text": [
            "Loss:  1.5160328149795532\n"
          ],
          "name": "stdout"
        },
        {
          "output_type": "stream",
          "text": [
            " 67%|██████▋   | 8801/13084 [1:01:10<27:43,  2.57it/s]"
          ],
          "name": "stderr"
        },
        {
          "output_type": "stream",
          "text": [
            "Loss:  1.6139650344848633\n"
          ],
          "name": "stdout"
        },
        {
          "output_type": "stream",
          "text": [
            " 68%|██████▊   | 8851/13084 [1:01:29<26:30,  2.66it/s]"
          ],
          "name": "stderr"
        },
        {
          "output_type": "stream",
          "text": [
            "Loss:  1.5260684490203857\n"
          ],
          "name": "stdout"
        },
        {
          "output_type": "stream",
          "text": [
            " 68%|██████▊   | 8901/13084 [1:01:49<23:06,  3.02it/s]"
          ],
          "name": "stderr"
        },
        {
          "output_type": "stream",
          "text": [
            "Loss:  1.4610267877578735\n"
          ],
          "name": "stdout"
        },
        {
          "output_type": "stream",
          "text": [
            " 68%|██████▊   | 8951/13084 [1:02:10<27:08,  2.54it/s]"
          ],
          "name": "stderr"
        },
        {
          "output_type": "stream",
          "text": [
            "Loss:  1.2774667739868164\n"
          ],
          "name": "stdout"
        },
        {
          "output_type": "stream",
          "text": [
            " 69%|██████▉   | 9001/13084 [1:02:30<24:52,  2.74it/s]"
          ],
          "name": "stderr"
        },
        {
          "output_type": "stream",
          "text": [
            "Loss:  1.6156724691390991\n"
          ],
          "name": "stdout"
        },
        {
          "output_type": "stream",
          "text": [
            " 69%|██████▉   | 9051/13084 [1:02:51<35:07,  1.91it/s]"
          ],
          "name": "stderr"
        },
        {
          "output_type": "stream",
          "text": [
            "Loss:  1.5989692211151123\n"
          ],
          "name": "stdout"
        },
        {
          "output_type": "stream",
          "text": [
            " 70%|██████▉   | 9101/13084 [1:03:11<23:17,  2.85it/s]"
          ],
          "name": "stderr"
        },
        {
          "output_type": "stream",
          "text": [
            "Loss:  1.3929064273834229\n"
          ],
          "name": "stdout"
        },
        {
          "output_type": "stream",
          "text": [
            " 70%|██████▉   | 9152/13084 [1:03:32<24:00,  2.73it/s]"
          ],
          "name": "stderr"
        },
        {
          "output_type": "stream",
          "text": [
            "Loss:  1.3083807229995728\n"
          ],
          "name": "stdout"
        },
        {
          "output_type": "stream",
          "text": [
            " 70%|███████   | 9201/13084 [1:03:52<26:31,  2.44it/s]"
          ],
          "name": "stderr"
        },
        {
          "output_type": "stream",
          "text": [
            "Loss:  1.4421231746673584\n"
          ],
          "name": "stdout"
        },
        {
          "output_type": "stream",
          "text": [
            " 71%|███████   | 9251/13084 [1:04:11<25:00,  2.55it/s]"
          ],
          "name": "stderr"
        },
        {
          "output_type": "stream",
          "text": [
            "Loss:  1.4725157022476196\n"
          ],
          "name": "stdout"
        },
        {
          "output_type": "stream",
          "text": [
            " 71%|███████   | 9301/13084 [1:04:31<30:42,  2.05it/s]"
          ],
          "name": "stderr"
        },
        {
          "output_type": "stream",
          "text": [
            "Loss:  1.5591762065887451\n"
          ],
          "name": "stdout"
        },
        {
          "output_type": "stream",
          "text": [
            " 71%|███████▏  | 9351/13084 [1:04:51<22:31,  2.76it/s]"
          ],
          "name": "stderr"
        },
        {
          "output_type": "stream",
          "text": [
            "Loss:  1.399549126625061\n"
          ],
          "name": "stdout"
        },
        {
          "output_type": "stream",
          "text": [
            " 72%|███████▏  | 9401/13084 [1:05:12<28:30,  2.15it/s]"
          ],
          "name": "stderr"
        },
        {
          "output_type": "stream",
          "text": [
            "Loss:  1.6453473567962646\n"
          ],
          "name": "stdout"
        },
        {
          "output_type": "stream",
          "text": [
            " 72%|███████▏  | 9451/13084 [1:05:33<26:28,  2.29it/s]"
          ],
          "name": "stderr"
        },
        {
          "output_type": "stream",
          "text": [
            "Loss:  1.5240577459335327\n"
          ],
          "name": "stdout"
        },
        {
          "output_type": "stream",
          "text": [
            " 73%|███████▎  | 9501/13084 [1:05:51<19:23,  3.08it/s]"
          ],
          "name": "stderr"
        },
        {
          "output_type": "stream",
          "text": [
            "Loss:  1.3788533210754395\n"
          ],
          "name": "stdout"
        },
        {
          "output_type": "stream",
          "text": [
            " 73%|███████▎  | 9551/13084 [1:06:12<20:45,  2.84it/s]"
          ],
          "name": "stderr"
        },
        {
          "output_type": "stream",
          "text": [
            "Loss:  1.3327724933624268\n"
          ],
          "name": "stdout"
        },
        {
          "output_type": "stream",
          "text": [
            " 73%|███████▎  | 9601/13084 [1:06:31<20:24,  2.84it/s]"
          ],
          "name": "stderr"
        },
        {
          "output_type": "stream",
          "text": [
            "Loss:  1.5444635152816772\n"
          ],
          "name": "stdout"
        },
        {
          "output_type": "stream",
          "text": [
            " 74%|███████▍  | 9651/13084 [1:06:51<19:16,  2.97it/s]"
          ],
          "name": "stderr"
        },
        {
          "output_type": "stream",
          "text": [
            "Loss:  1.4683400392532349\n"
          ],
          "name": "stdout"
        },
        {
          "output_type": "stream",
          "text": [
            " 74%|███████▍  | 9701/13084 [1:07:12<25:17,  2.23it/s]"
          ],
          "name": "stderr"
        },
        {
          "output_type": "stream",
          "text": [
            "Loss:  1.3412010669708252\n"
          ],
          "name": "stdout"
        },
        {
          "output_type": "stream",
          "text": [
            " 75%|███████▍  | 9751/13084 [1:07:33<21:59,  2.53it/s]"
          ],
          "name": "stderr"
        },
        {
          "output_type": "stream",
          "text": [
            "Loss:  1.4189274311065674\n"
          ],
          "name": "stdout"
        },
        {
          "output_type": "stream",
          "text": [
            " 75%|███████▍  | 9801/13084 [1:07:54<27:35,  1.98it/s]"
          ],
          "name": "stderr"
        },
        {
          "output_type": "stream",
          "text": [
            "Loss:  1.482602834701538\n"
          ],
          "name": "stdout"
        },
        {
          "output_type": "stream",
          "text": [
            " 75%|███████▌  | 9851/13084 [1:08:15<20:52,  2.58it/s]"
          ],
          "name": "stderr"
        },
        {
          "output_type": "stream",
          "text": [
            "Loss:  1.4918639659881592\n"
          ],
          "name": "stdout"
        },
        {
          "output_type": "stream",
          "text": [
            " 76%|███████▌  | 9901/13084 [1:08:36<18:06,  2.93it/s]"
          ],
          "name": "stderr"
        },
        {
          "output_type": "stream",
          "text": [
            "Loss:  1.4389238357543945\n"
          ],
          "name": "stdout"
        },
        {
          "output_type": "stream",
          "text": [
            " 76%|███████▌  | 9951/13084 [1:08:58<20:32,  2.54it/s]"
          ],
          "name": "stderr"
        },
        {
          "output_type": "stream",
          "text": [
            "Loss:  1.5713711977005005\n"
          ],
          "name": "stdout"
        },
        {
          "output_type": "stream",
          "text": [
            " 76%|███████▋  | 10001/13084 [1:09:18<16:43,  3.07it/s]"
          ],
          "name": "stderr"
        },
        {
          "output_type": "stream",
          "text": [
            "Loss:  1.3585423231124878\n"
          ],
          "name": "stdout"
        },
        {
          "output_type": "stream",
          "text": [
            " 77%|███████▋  | 10051/13084 [1:09:39<20:39,  2.45it/s]"
          ],
          "name": "stderr"
        },
        {
          "output_type": "stream",
          "text": [
            "Loss:  1.472411036491394\n"
          ],
          "name": "stdout"
        },
        {
          "output_type": "stream",
          "text": [
            " 77%|███████▋  | 10101/13084 [1:10:00<21:57,  2.26it/s]"
          ],
          "name": "stderr"
        },
        {
          "output_type": "stream",
          "text": [
            "Loss:  1.4676471948623657\n"
          ],
          "name": "stdout"
        },
        {
          "output_type": "stream",
          "text": [
            " 78%|███████▊  | 10151/13084 [1:10:22<16:36,  2.94it/s]"
          ],
          "name": "stderr"
        },
        {
          "output_type": "stream",
          "text": [
            "Loss:  1.5129972696304321\n"
          ],
          "name": "stdout"
        },
        {
          "output_type": "stream",
          "text": [
            " 78%|███████▊  | 10201/13084 [1:10:42<19:07,  2.51it/s]"
          ],
          "name": "stderr"
        },
        {
          "output_type": "stream",
          "text": [
            "Loss:  1.4594192504882812\n"
          ],
          "name": "stdout"
        },
        {
          "output_type": "stream",
          "text": [
            " 78%|███████▊  | 10251/13084 [1:11:03<19:17,  2.45it/s]"
          ],
          "name": "stderr"
        },
        {
          "output_type": "stream",
          "text": [
            "Loss:  1.4085133075714111\n"
          ],
          "name": "stdout"
        },
        {
          "output_type": "stream",
          "text": [
            " 79%|███████▊  | 10301/13084 [1:11:25<18:29,  2.51it/s]"
          ],
          "name": "stderr"
        },
        {
          "output_type": "stream",
          "text": [
            "Loss:  1.393013596534729\n"
          ],
          "name": "stdout"
        },
        {
          "output_type": "stream",
          "text": [
            " 79%|███████▉  | 10351/13084 [1:11:45<20:27,  2.23it/s]"
          ],
          "name": "stderr"
        },
        {
          "output_type": "stream",
          "text": [
            "Loss:  1.5240614414215088\n"
          ],
          "name": "stdout"
        },
        {
          "output_type": "stream",
          "text": [
            " 79%|███████▉  | 10401/13084 [1:12:06<13:19,  3.35it/s]"
          ],
          "name": "stderr"
        },
        {
          "output_type": "stream",
          "text": [
            "Loss:  1.8208322525024414\n"
          ],
          "name": "stdout"
        },
        {
          "output_type": "stream",
          "text": [
            " 80%|███████▉  | 10451/13084 [1:12:28<18:16,  2.40it/s]"
          ],
          "name": "stderr"
        },
        {
          "output_type": "stream",
          "text": [
            "Loss:  1.5246391296386719\n"
          ],
          "name": "stdout"
        },
        {
          "output_type": "stream",
          "text": [
            " 80%|████████  | 10501/13084 [1:12:50<15:57,  2.70it/s]"
          ],
          "name": "stderr"
        },
        {
          "output_type": "stream",
          "text": [
            "Loss:  1.4927239418029785\n"
          ],
          "name": "stdout"
        },
        {
          "output_type": "stream",
          "text": [
            " 81%|████████  | 10551/13084 [1:13:11<18:03,  2.34it/s]"
          ],
          "name": "stderr"
        },
        {
          "output_type": "stream",
          "text": [
            "Loss:  1.4869893789291382\n"
          ],
          "name": "stdout"
        },
        {
          "output_type": "stream",
          "text": [
            " 81%|████████  | 10601/13084 [1:13:33<19:08,  2.16it/s]"
          ],
          "name": "stderr"
        },
        {
          "output_type": "stream",
          "text": [
            "Loss:  1.4058138132095337\n"
          ],
          "name": "stdout"
        },
        {
          "output_type": "stream",
          "text": [
            " 81%|████████▏ | 10651/13084 [1:13:55<14:10,  2.86it/s]"
          ],
          "name": "stderr"
        },
        {
          "output_type": "stream",
          "text": [
            "Loss:  1.5111886262893677\n"
          ],
          "name": "stdout"
        },
        {
          "output_type": "stream",
          "text": [
            " 82%|████████▏ | 10701/13084 [1:14:17<17:54,  2.22it/s]"
          ],
          "name": "stderr"
        },
        {
          "output_type": "stream",
          "text": [
            "Loss:  1.4899604320526123\n"
          ],
          "name": "stdout"
        },
        {
          "output_type": "stream",
          "text": [
            " 82%|████████▏ | 10751/13084 [1:14:40<20:04,  1.94it/s]"
          ],
          "name": "stderr"
        },
        {
          "output_type": "stream",
          "text": [
            "Loss:  1.3798013925552368\n"
          ],
          "name": "stdout"
        },
        {
          "output_type": "stream",
          "text": [
            " 83%|████████▎ | 10801/13084 [1:15:02<15:57,  2.38it/s]"
          ],
          "name": "stderr"
        },
        {
          "output_type": "stream",
          "text": [
            "Loss:  1.4911788702011108\n"
          ],
          "name": "stdout"
        },
        {
          "output_type": "stream",
          "text": [
            " 83%|████████▎ | 10851/13084 [1:15:25<15:32,  2.39it/s]"
          ],
          "name": "stderr"
        },
        {
          "output_type": "stream",
          "text": [
            "Loss:  1.4724640846252441\n"
          ],
          "name": "stdout"
        },
        {
          "output_type": "stream",
          "text": [
            " 83%|████████▎ | 10901/13084 [1:15:46<14:05,  2.58it/s]"
          ],
          "name": "stderr"
        },
        {
          "output_type": "stream",
          "text": [
            "Loss:  1.6101378202438354\n"
          ],
          "name": "stdout"
        },
        {
          "output_type": "stream",
          "text": [
            " 84%|████████▎ | 10951/13084 [1:16:10<15:26,  2.30it/s]"
          ],
          "name": "stderr"
        },
        {
          "output_type": "stream",
          "text": [
            "Loss:  1.5542206764221191\n"
          ],
          "name": "stdout"
        },
        {
          "output_type": "stream",
          "text": [
            " 84%|████████▍ | 11001/13084 [1:16:31<16:42,  2.08it/s]"
          ],
          "name": "stderr"
        },
        {
          "output_type": "stream",
          "text": [
            "Loss:  1.26113760471344\n"
          ],
          "name": "stdout"
        },
        {
          "output_type": "stream",
          "text": [
            " 84%|████████▍ | 11051/13084 [1:16:53<14:09,  2.39it/s]"
          ],
          "name": "stderr"
        },
        {
          "output_type": "stream",
          "text": [
            "Loss:  1.4578218460083008\n"
          ],
          "name": "stdout"
        },
        {
          "output_type": "stream",
          "text": [
            " 85%|████████▍ | 11101/13084 [1:17:15<12:17,  2.69it/s]"
          ],
          "name": "stderr"
        },
        {
          "output_type": "stream",
          "text": [
            "Loss:  1.6019154787063599\n"
          ],
          "name": "stdout"
        },
        {
          "output_type": "stream",
          "text": [
            " 85%|████████▌ | 11151/13084 [1:17:37<10:53,  2.96it/s]"
          ],
          "name": "stderr"
        },
        {
          "output_type": "stream",
          "text": [
            "Loss:  1.7895028591156006\n"
          ],
          "name": "stdout"
        },
        {
          "output_type": "stream",
          "text": [
            " 86%|████████▌ | 11201/13084 [1:17:59<12:03,  2.60it/s]"
          ],
          "name": "stderr"
        },
        {
          "output_type": "stream",
          "text": [
            "Loss:  1.4548349380493164\n"
          ],
          "name": "stdout"
        },
        {
          "output_type": "stream",
          "text": [
            " 86%|████████▌ | 11252/13084 [1:18:20<12:15,  2.49it/s]"
          ],
          "name": "stderr"
        },
        {
          "output_type": "stream",
          "text": [
            "Loss:  1.3518996238708496\n"
          ],
          "name": "stdout"
        },
        {
          "output_type": "stream",
          "text": [
            " 86%|████████▋ | 11302/13084 [1:18:42<10:06,  2.94it/s]"
          ],
          "name": "stderr"
        },
        {
          "output_type": "stream",
          "text": [
            "Loss:  1.4854962825775146\n"
          ],
          "name": "stdout"
        },
        {
          "output_type": "stream",
          "text": [
            " 87%|████████▋ | 11351/13084 [1:19:04<13:36,  2.12it/s]"
          ],
          "name": "stderr"
        },
        {
          "output_type": "stream",
          "text": [
            "Loss:  1.5605665445327759\n"
          ],
          "name": "stdout"
        },
        {
          "output_type": "stream",
          "text": [
            " 87%|████████▋ | 11401/13084 [1:19:25<13:17,  2.11it/s]"
          ],
          "name": "stderr"
        },
        {
          "output_type": "stream",
          "text": [
            "Loss:  1.5295634269714355\n"
          ],
          "name": "stdout"
        },
        {
          "output_type": "stream",
          "text": [
            " 88%|████████▊ | 11451/13084 [1:19:47<11:32,  2.36it/s]"
          ],
          "name": "stderr"
        },
        {
          "output_type": "stream",
          "text": [
            "Loss:  1.5378538370132446\n"
          ],
          "name": "stdout"
        },
        {
          "output_type": "stream",
          "text": [
            " 88%|████████▊ | 11501/13084 [1:20:09<12:34,  2.10it/s]"
          ],
          "name": "stderr"
        },
        {
          "output_type": "stream",
          "text": [
            "Loss:  1.513606071472168\n"
          ],
          "name": "stdout"
        },
        {
          "output_type": "stream",
          "text": [
            " 88%|████████▊ | 11551/13084 [1:20:32<12:20,  2.07it/s]"
          ],
          "name": "stderr"
        },
        {
          "output_type": "stream",
          "text": [
            "Loss:  1.386254906654358\n"
          ],
          "name": "stdout"
        },
        {
          "output_type": "stream",
          "text": [
            " 89%|████████▊ | 11601/13084 [1:20:53<09:08,  2.70it/s]"
          ],
          "name": "stderr"
        },
        {
          "output_type": "stream",
          "text": [
            "Loss:  1.607862949371338\n"
          ],
          "name": "stdout"
        },
        {
          "output_type": "stream",
          "text": [
            " 89%|████████▉ | 11651/13084 [1:21:16<10:57,  2.18it/s]"
          ],
          "name": "stderr"
        },
        {
          "output_type": "stream",
          "text": [
            "Loss:  1.4507278203964233\n"
          ],
          "name": "stdout"
        },
        {
          "output_type": "stream",
          "text": [
            " 89%|████████▉ | 11702/13084 [1:21:36<08:45,  2.63it/s]"
          ],
          "name": "stderr"
        },
        {
          "output_type": "stream",
          "text": [
            "Loss:  1.4949451684951782\n"
          ],
          "name": "stdout"
        },
        {
          "output_type": "stream",
          "text": [
            " 90%|████████▉ | 11751/13084 [1:21:55<08:13,  2.70it/s]"
          ],
          "name": "stderr"
        },
        {
          "output_type": "stream",
          "text": [
            "Loss:  1.5309333801269531\n"
          ],
          "name": "stdout"
        },
        {
          "output_type": "stream",
          "text": [
            " 90%|█████████ | 11801/13084 [1:22:17<08:43,  2.45it/s]"
          ],
          "name": "stderr"
        },
        {
          "output_type": "stream",
          "text": [
            "Loss:  1.6796314716339111\n"
          ],
          "name": "stdout"
        },
        {
          "output_type": "stream",
          "text": [
            " 91%|█████████ | 11851/13084 [1:22:39<09:58,  2.06it/s]"
          ],
          "name": "stderr"
        },
        {
          "output_type": "stream",
          "text": [
            "Loss:  1.5168077945709229\n"
          ],
          "name": "stdout"
        },
        {
          "output_type": "stream",
          "text": [
            " 91%|█████████ | 11901/13084 [1:23:00<06:13,  3.17it/s]"
          ],
          "name": "stderr"
        },
        {
          "output_type": "stream",
          "text": [
            "Loss:  1.6063987016677856\n"
          ],
          "name": "stdout"
        },
        {
          "output_type": "stream",
          "text": [
            " 91%|█████████▏| 11951/13084 [1:23:20<08:22,  2.26it/s]"
          ],
          "name": "stderr"
        },
        {
          "output_type": "stream",
          "text": [
            "Loss:  1.603162169456482\n"
          ],
          "name": "stdout"
        },
        {
          "output_type": "stream",
          "text": [
            " 92%|█████████▏| 12001/13084 [1:23:42<07:41,  2.34it/s]"
          ],
          "name": "stderr"
        },
        {
          "output_type": "stream",
          "text": [
            "Loss:  1.394878625869751\n"
          ],
          "name": "stdout"
        },
        {
          "output_type": "stream",
          "text": [
            " 92%|█████████▏| 12051/13084 [1:24:04<08:39,  1.99it/s]"
          ],
          "name": "stderr"
        },
        {
          "output_type": "stream",
          "text": [
            "Loss:  1.6224507093429565\n"
          ],
          "name": "stdout"
        },
        {
          "output_type": "stream",
          "text": [
            " 92%|█████████▏| 12101/13084 [1:24:25<06:12,  2.64it/s]"
          ],
          "name": "stderr"
        },
        {
          "output_type": "stream",
          "text": [
            "Loss:  1.4829233884811401\n"
          ],
          "name": "stdout"
        },
        {
          "output_type": "stream",
          "text": [
            " 93%|█████████▎| 12151/13084 [1:24:46<06:22,  2.44it/s]"
          ],
          "name": "stderr"
        },
        {
          "output_type": "stream",
          "text": [
            "Loss:  1.5290157794952393\n"
          ],
          "name": "stdout"
        },
        {
          "output_type": "stream",
          "text": [
            " 93%|█████████▎| 12201/13084 [1:25:07<05:40,  2.60it/s]"
          ],
          "name": "stderr"
        },
        {
          "output_type": "stream",
          "text": [
            "Loss:  1.5663117170333862\n"
          ],
          "name": "stdout"
        },
        {
          "output_type": "stream",
          "text": [
            " 94%|█████████▎| 12251/13084 [1:25:27<05:22,  2.58it/s]"
          ],
          "name": "stderr"
        },
        {
          "output_type": "stream",
          "text": [
            "Loss:  1.58771812915802\n"
          ],
          "name": "stdout"
        },
        {
          "output_type": "stream",
          "text": [
            " 94%|█████████▍| 12302/13084 [1:25:49<04:27,  2.92it/s]"
          ],
          "name": "stderr"
        },
        {
          "output_type": "stream",
          "text": [
            "Loss:  1.3631384372711182\n"
          ],
          "name": "stdout"
        },
        {
          "output_type": "stream",
          "text": [
            " 94%|█████████▍| 12351/13084 [1:26:09<04:57,  2.47it/s]"
          ],
          "name": "stderr"
        },
        {
          "output_type": "stream",
          "text": [
            "Loss:  1.4767651557922363\n"
          ],
          "name": "stdout"
        },
        {
          "output_type": "stream",
          "text": [
            " 95%|█████████▍| 12401/13084 [1:26:30<04:18,  2.64it/s]"
          ],
          "name": "stderr"
        },
        {
          "output_type": "stream",
          "text": [
            "Loss:  1.6264512538909912\n"
          ],
          "name": "stdout"
        },
        {
          "output_type": "stream",
          "text": [
            " 95%|█████████▌| 12451/13084 [1:26:52<04:40,  2.26it/s]"
          ],
          "name": "stderr"
        },
        {
          "output_type": "stream",
          "text": [
            "Loss:  1.571110725402832\n"
          ],
          "name": "stdout"
        },
        {
          "output_type": "stream",
          "text": [
            " 96%|█████████▌| 12501/13084 [1:27:15<04:22,  2.22it/s]"
          ],
          "name": "stderr"
        },
        {
          "output_type": "stream",
          "text": [
            "Loss:  1.5465270280838013\n"
          ],
          "name": "stdout"
        },
        {
          "output_type": "stream",
          "text": [
            " 96%|█████████▌| 12551/13084 [1:27:35<03:27,  2.56it/s]"
          ],
          "name": "stderr"
        },
        {
          "output_type": "stream",
          "text": [
            "Loss:  1.7728811502456665\n"
          ],
          "name": "stdout"
        },
        {
          "output_type": "stream",
          "text": [
            " 96%|█████████▋| 12601/13084 [1:27:56<03:10,  2.53it/s]"
          ],
          "name": "stderr"
        },
        {
          "output_type": "stream",
          "text": [
            "Loss:  1.5240049362182617\n"
          ],
          "name": "stdout"
        },
        {
          "output_type": "stream",
          "text": [
            " 97%|█████████▋| 12652/13084 [1:28:17<02:37,  2.75it/s]"
          ],
          "name": "stderr"
        },
        {
          "output_type": "stream",
          "text": [
            "Loss:  1.5796175003051758\n"
          ],
          "name": "stdout"
        },
        {
          "output_type": "stream",
          "text": [
            " 97%|█████████▋| 12701/13084 [1:28:39<02:48,  2.27it/s]"
          ],
          "name": "stderr"
        },
        {
          "output_type": "stream",
          "text": [
            "Loss:  1.4491595029830933\n"
          ],
          "name": "stdout"
        },
        {
          "output_type": "stream",
          "text": [
            " 97%|█████████▋| 12751/13084 [1:29:01<02:05,  2.65it/s]"
          ],
          "name": "stderr"
        },
        {
          "output_type": "stream",
          "text": [
            "Loss:  1.5546410083770752\n"
          ],
          "name": "stdout"
        },
        {
          "output_type": "stream",
          "text": [
            " 98%|█████████▊| 12801/13084 [1:29:23<01:59,  2.37it/s]"
          ],
          "name": "stderr"
        },
        {
          "output_type": "stream",
          "text": [
            "Loss:  1.6433223485946655\n"
          ],
          "name": "stdout"
        },
        {
          "output_type": "stream",
          "text": [
            " 98%|█████████▊| 12851/13084 [1:29:42<01:44,  2.23it/s]"
          ],
          "name": "stderr"
        },
        {
          "output_type": "stream",
          "text": [
            "Loss:  1.5573863983154297\n"
          ],
          "name": "stdout"
        },
        {
          "output_type": "stream",
          "text": [
            " 99%|█████████▊| 12901/13084 [1:30:03<01:10,  2.59it/s]"
          ],
          "name": "stderr"
        },
        {
          "output_type": "stream",
          "text": [
            "Loss:  1.50397527217865\n"
          ],
          "name": "stdout"
        },
        {
          "output_type": "stream",
          "text": [
            " 99%|█████████▉| 12952/13084 [1:30:25<00:43,  3.04it/s]"
          ],
          "name": "stderr"
        },
        {
          "output_type": "stream",
          "text": [
            "Loss:  1.5106202363967896\n"
          ],
          "name": "stdout"
        },
        {
          "output_type": "stream",
          "text": [
            " 99%|█████████▉| 13001/13084 [1:30:45<00:27,  3.03it/s]"
          ],
          "name": "stderr"
        },
        {
          "output_type": "stream",
          "text": [
            "Loss:  1.5146147012710571\n"
          ],
          "name": "stdout"
        },
        {
          "output_type": "stream",
          "text": [
            "100%|█████████▉| 13051/13084 [1:31:06<00:14,  2.24it/s]"
          ],
          "name": "stderr"
        },
        {
          "output_type": "stream",
          "text": [
            "Loss:  1.5263115167617798\n"
          ],
          "name": "stdout"
        },
        {
          "output_type": "stream",
          "text": [
            "100%|██████████| 13084/13084 [1:31:20<00:00,  2.39it/s]\n",
            "  0%|          | 2/13084 [00:00<1:49:19,  1.99it/s]"
          ],
          "name": "stderr"
        },
        {
          "output_type": "stream",
          "text": [
            "Loss:  1.624545931816101\n"
          ],
          "name": "stdout"
        },
        {
          "output_type": "stream",
          "text": [
            "  0%|          | 51/13084 [00:21<1:24:53,  2.56it/s]"
          ],
          "name": "stderr"
        },
        {
          "output_type": "stream",
          "text": [
            "Loss:  1.5279548168182373\n"
          ],
          "name": "stdout"
        },
        {
          "output_type": "stream",
          "text": [
            "  1%|          | 101/13084 [00:42<1:41:07,  2.14it/s]"
          ],
          "name": "stderr"
        },
        {
          "output_type": "stream",
          "text": [
            "Loss:  1.5607622861862183\n"
          ],
          "name": "stdout"
        },
        {
          "output_type": "stream",
          "text": [
            "  1%|          | 151/13084 [01:02<1:25:24,  2.52it/s]"
          ],
          "name": "stderr"
        },
        {
          "output_type": "stream",
          "text": [
            "Loss:  1.522234559059143\n"
          ],
          "name": "stdout"
        },
        {
          "output_type": "stream",
          "text": [
            "  2%|▏         | 201/13084 [01:23<1:39:55,  2.15it/s]"
          ],
          "name": "stderr"
        },
        {
          "output_type": "stream",
          "text": [
            "Loss:  1.3252663612365723\n"
          ],
          "name": "stdout"
        },
        {
          "output_type": "stream",
          "text": [
            "  2%|▏         | 251/13084 [01:44<1:34:20,  2.27it/s]"
          ],
          "name": "stderr"
        },
        {
          "output_type": "stream",
          "text": [
            "Loss:  1.3288967609405518\n"
          ],
          "name": "stdout"
        },
        {
          "output_type": "stream",
          "text": [
            "  2%|▏         | 301/13084 [02:05<1:14:31,  2.86it/s]"
          ],
          "name": "stderr"
        },
        {
          "output_type": "stream",
          "text": [
            "Loss:  1.626074194908142\n"
          ],
          "name": "stdout"
        },
        {
          "output_type": "stream",
          "text": [
            "  3%|▎         | 351/13084 [02:25<1:15:15,  2.82it/s]"
          ],
          "name": "stderr"
        },
        {
          "output_type": "stream",
          "text": [
            "Loss:  1.6790893077850342\n"
          ],
          "name": "stdout"
        },
        {
          "output_type": "stream",
          "text": [
            "  3%|▎         | 401/13084 [02:46<1:15:08,  2.81it/s]"
          ],
          "name": "stderr"
        },
        {
          "output_type": "stream",
          "text": [
            "Loss:  1.8303931951522827\n"
          ],
          "name": "stdout"
        },
        {
          "output_type": "stream",
          "text": [
            "  3%|▎         | 451/13084 [03:07<1:30:42,  2.32it/s]"
          ],
          "name": "stderr"
        },
        {
          "output_type": "stream",
          "text": [
            "Loss:  1.5679720640182495\n"
          ],
          "name": "stdout"
        },
        {
          "output_type": "stream",
          "text": [
            "  4%|▍         | 501/13084 [03:29<1:34:51,  2.21it/s]"
          ],
          "name": "stderr"
        },
        {
          "output_type": "stream",
          "text": [
            "Loss:  1.623530626296997\n"
          ],
          "name": "stdout"
        },
        {
          "output_type": "stream",
          "text": [
            "  4%|▍         | 551/13084 [03:52<1:20:15,  2.60it/s]"
          ],
          "name": "stderr"
        },
        {
          "output_type": "stream",
          "text": [
            "Loss:  1.3559389114379883\n"
          ],
          "name": "stdout"
        },
        {
          "output_type": "stream",
          "text": [
            "  5%|▍         | 601/13084 [04:14<1:40:29,  2.07it/s]"
          ],
          "name": "stderr"
        },
        {
          "output_type": "stream",
          "text": [
            "Loss:  1.610355257987976\n"
          ],
          "name": "stdout"
        },
        {
          "output_type": "stream",
          "text": [
            "  5%|▍         | 652/13084 [04:36<1:20:28,  2.57it/s]"
          ],
          "name": "stderr"
        },
        {
          "output_type": "stream",
          "text": [
            "Loss:  1.541845679283142\n"
          ],
          "name": "stdout"
        },
        {
          "output_type": "stream",
          "text": [
            "  5%|▌         | 701/13084 [04:57<1:21:12,  2.54it/s]"
          ],
          "name": "stderr"
        },
        {
          "output_type": "stream",
          "text": [
            "Loss:  1.6768015623092651\n"
          ],
          "name": "stdout"
        },
        {
          "output_type": "stream",
          "text": [
            "  6%|▌         | 751/13084 [05:19<1:14:41,  2.75it/s]"
          ],
          "name": "stderr"
        },
        {
          "output_type": "stream",
          "text": [
            "Loss:  1.8645896911621094\n"
          ],
          "name": "stdout"
        },
        {
          "output_type": "stream",
          "text": [
            "  6%|▌         | 801/13084 [05:41<1:22:07,  2.49it/s]"
          ],
          "name": "stderr"
        },
        {
          "output_type": "stream",
          "text": [
            "Loss:  1.6414039134979248\n"
          ],
          "name": "stdout"
        },
        {
          "output_type": "stream",
          "text": [
            "  7%|▋         | 851/13084 [06:02<1:24:31,  2.41it/s]"
          ],
          "name": "stderr"
        },
        {
          "output_type": "stream",
          "text": [
            "Loss:  1.4254976511001587\n"
          ],
          "name": "stdout"
        },
        {
          "output_type": "stream",
          "text": [
            "  7%|▋         | 901/13084 [06:24<1:24:21,  2.41it/s]"
          ],
          "name": "stderr"
        },
        {
          "output_type": "stream",
          "text": [
            "Loss:  1.564879059791565\n"
          ],
          "name": "stdout"
        },
        {
          "output_type": "stream",
          "text": [
            "  7%|▋         | 951/13084 [06:45<1:25:27,  2.37it/s]"
          ],
          "name": "stderr"
        },
        {
          "output_type": "stream",
          "text": [
            "Loss:  1.5490237474441528\n"
          ],
          "name": "stdout"
        },
        {
          "output_type": "stream",
          "text": [
            "  8%|▊         | 1001/13084 [07:06<1:19:11,  2.54it/s]"
          ],
          "name": "stderr"
        },
        {
          "output_type": "stream",
          "text": [
            "Loss:  1.5544593334197998\n"
          ],
          "name": "stdout"
        },
        {
          "output_type": "stream",
          "text": [
            "  8%|▊         | 1051/13084 [07:26<1:20:35,  2.49it/s]"
          ],
          "name": "stderr"
        },
        {
          "output_type": "stream",
          "text": [
            "Loss:  1.6395926475524902\n"
          ],
          "name": "stdout"
        },
        {
          "output_type": "stream",
          "text": [
            "  8%|▊         | 1101/13084 [07:46<1:36:54,  2.06it/s]"
          ],
          "name": "stderr"
        },
        {
          "output_type": "stream",
          "text": [
            "Loss:  1.479162335395813\n"
          ],
          "name": "stdout"
        },
        {
          "output_type": "stream",
          "text": [
            "  9%|▉         | 1151/13084 [08:09<1:15:31,  2.63it/s]"
          ],
          "name": "stderr"
        },
        {
          "output_type": "stream",
          "text": [
            "Loss:  1.6367470026016235\n"
          ],
          "name": "stdout"
        },
        {
          "output_type": "stream",
          "text": [
            "  9%|▉         | 1201/13084 [08:31<1:21:44,  2.42it/s]"
          ],
          "name": "stderr"
        },
        {
          "output_type": "stream",
          "text": [
            "Loss:  1.5275319814682007\n"
          ],
          "name": "stdout"
        },
        {
          "output_type": "stream",
          "text": [
            " 10%|▉         | 1251/13084 [08:52<1:16:48,  2.57it/s]"
          ],
          "name": "stderr"
        },
        {
          "output_type": "stream",
          "text": [
            "Loss:  1.575013518333435\n"
          ],
          "name": "stdout"
        },
        {
          "output_type": "stream",
          "text": [
            " 10%|▉         | 1301/13084 [09:11<1:15:07,  2.61it/s]"
          ],
          "name": "stderr"
        },
        {
          "output_type": "stream",
          "text": [
            "Loss:  1.9860306978225708\n"
          ],
          "name": "stdout"
        },
        {
          "output_type": "stream",
          "text": [
            " 10%|█         | 1351/13084 [09:32<1:27:12,  2.24it/s]"
          ],
          "name": "stderr"
        },
        {
          "output_type": "stream",
          "text": [
            "Loss:  1.5568491220474243\n"
          ],
          "name": "stdout"
        },
        {
          "output_type": "stream",
          "text": [
            " 11%|█         | 1401/13084 [09:54<1:19:38,  2.45it/s]"
          ],
          "name": "stderr"
        },
        {
          "output_type": "stream",
          "text": [
            "Loss:  1.6011255979537964\n"
          ],
          "name": "stdout"
        },
        {
          "output_type": "stream",
          "text": [
            " 11%|█         | 1451/13084 [10:16<1:17:06,  2.51it/s]"
          ],
          "name": "stderr"
        },
        {
          "output_type": "stream",
          "text": [
            "Loss:  1.6146517992019653\n"
          ],
          "name": "stdout"
        },
        {
          "output_type": "stream",
          "text": [
            " 11%|█▏        | 1501/13084 [10:38<1:26:01,  2.24it/s]"
          ],
          "name": "stderr"
        },
        {
          "output_type": "stream",
          "text": [
            "Loss:  1.6325939893722534\n"
          ],
          "name": "stdout"
        },
        {
          "output_type": "stream",
          "text": [
            " 12%|█▏        | 1552/13084 [11:00<1:08:23,  2.81it/s]"
          ],
          "name": "stderr"
        },
        {
          "output_type": "stream",
          "text": [
            "Loss:  1.4842973947525024\n"
          ],
          "name": "stdout"
        },
        {
          "output_type": "stream",
          "text": [
            " 12%|█▏        | 1601/13084 [11:20<1:36:10,  1.99it/s]"
          ],
          "name": "stderr"
        },
        {
          "output_type": "stream",
          "text": [
            "Loss:  1.4105273485183716\n"
          ],
          "name": "stdout"
        },
        {
          "output_type": "stream",
          "text": [
            " 13%|█▎        | 1651/13084 [11:41<1:26:18,  2.21it/s]"
          ],
          "name": "stderr"
        },
        {
          "output_type": "stream",
          "text": [
            "Loss:  1.5443522930145264\n"
          ],
          "name": "stdout"
        },
        {
          "output_type": "stream",
          "text": [
            " 13%|█▎        | 1701/13084 [12:04<1:26:27,  2.19it/s]"
          ],
          "name": "stderr"
        },
        {
          "output_type": "stream",
          "text": [
            "Loss:  1.6302436590194702\n"
          ],
          "name": "stdout"
        },
        {
          "output_type": "stream",
          "text": [
            " 13%|█▎        | 1751/13084 [12:24<1:12:53,  2.59it/s]"
          ],
          "name": "stderr"
        },
        {
          "output_type": "stream",
          "text": [
            "Loss:  1.3711953163146973\n"
          ],
          "name": "stdout"
        },
        {
          "output_type": "stream",
          "text": [
            " 14%|█▍        | 1802/13084 [12:48<1:15:08,  2.50it/s]"
          ],
          "name": "stderr"
        },
        {
          "output_type": "stream",
          "text": [
            "Loss:  1.4234216213226318\n"
          ],
          "name": "stdout"
        },
        {
          "output_type": "stream",
          "text": [
            " 14%|█▍        | 1851/13084 [13:09<1:22:27,  2.27it/s]"
          ],
          "name": "stderr"
        },
        {
          "output_type": "stream",
          "text": [
            "Loss:  1.4470651149749756\n"
          ],
          "name": "stdout"
        },
        {
          "output_type": "stream",
          "text": [
            " 15%|█▍        | 1901/13084 [13:33<1:24:32,  2.20it/s]"
          ],
          "name": "stderr"
        },
        {
          "output_type": "stream",
          "text": [
            "Loss:  1.4275639057159424\n"
          ],
          "name": "stdout"
        },
        {
          "output_type": "stream",
          "text": [
            " 15%|█▍        | 1951/13084 [13:53<1:23:42,  2.22it/s]"
          ],
          "name": "stderr"
        },
        {
          "output_type": "stream",
          "text": [
            "Loss:  1.5902971029281616\n"
          ],
          "name": "stdout"
        },
        {
          "output_type": "stream",
          "text": [
            " 15%|█▌        | 2001/13084 [14:15<1:27:19,  2.12it/s]"
          ],
          "name": "stderr"
        },
        {
          "output_type": "stream",
          "text": [
            "Loss:  1.4308756589889526\n"
          ],
          "name": "stdout"
        },
        {
          "output_type": "stream",
          "text": [
            " 16%|█▌        | 2051/13084 [14:36<1:26:15,  2.13it/s]"
          ],
          "name": "stderr"
        },
        {
          "output_type": "stream",
          "text": [
            "Loss:  1.3889120817184448\n"
          ],
          "name": "stdout"
        },
        {
          "output_type": "stream",
          "text": [
            " 16%|█▌        | 2101/13084 [14:56<1:09:44,  2.62it/s]"
          ],
          "name": "stderr"
        },
        {
          "output_type": "stream",
          "text": [
            "Loss:  1.3043813705444336\n"
          ],
          "name": "stdout"
        },
        {
          "output_type": "stream",
          "text": [
            " 16%|█▋        | 2152/13084 [15:17<55:56,  3.26it/s]  "
          ],
          "name": "stderr"
        },
        {
          "output_type": "stream",
          "text": [
            "Loss:  1.6109263896942139\n"
          ],
          "name": "stdout"
        },
        {
          "output_type": "stream",
          "text": [
            " 17%|█▋        | 2201/13084 [15:38<1:18:17,  2.32it/s]"
          ],
          "name": "stderr"
        },
        {
          "output_type": "stream",
          "text": [
            "Loss:  1.345279574394226\n"
          ],
          "name": "stdout"
        },
        {
          "output_type": "stream",
          "text": [
            " 17%|█▋        | 2252/13084 [15:59<57:50,  3.12it/s]  "
          ],
          "name": "stderr"
        },
        {
          "output_type": "stream",
          "text": [
            "Loss:  1.5374431610107422\n"
          ],
          "name": "stdout"
        },
        {
          "output_type": "stream",
          "text": [
            " 18%|█▊        | 2301/13084 [16:19<58:28,  3.07it/s]  "
          ],
          "name": "stderr"
        },
        {
          "output_type": "stream",
          "text": [
            "Loss:  1.4177931547164917\n"
          ],
          "name": "stdout"
        },
        {
          "output_type": "stream",
          "text": [
            " 18%|█▊        | 2351/13084 [16:38<1:00:19,  2.97it/s]"
          ],
          "name": "stderr"
        },
        {
          "output_type": "stream",
          "text": [
            "Loss:  1.740092396736145\n"
          ],
          "name": "stdout"
        },
        {
          "output_type": "stream",
          "text": [
            " 18%|█▊        | 2401/13084 [16:59<56:16,  3.16it/s]"
          ],
          "name": "stderr"
        },
        {
          "output_type": "stream",
          "text": [
            "Loss:  1.4153294563293457\n"
          ],
          "name": "stdout"
        },
        {
          "output_type": "stream",
          "text": [
            " 19%|█▊        | 2451/13084 [17:21<1:24:18,  2.10it/s]"
          ],
          "name": "stderr"
        },
        {
          "output_type": "stream",
          "text": [
            "Loss:  1.4777957201004028\n"
          ],
          "name": "stdout"
        },
        {
          "output_type": "stream",
          "text": [
            " 19%|█▉        | 2501/13084 [17:42<1:19:51,  2.21it/s]"
          ],
          "name": "stderr"
        },
        {
          "output_type": "stream",
          "text": [
            "Loss:  1.401574969291687\n"
          ],
          "name": "stdout"
        },
        {
          "output_type": "stream",
          "text": [
            " 19%|█▉        | 2551/13084 [18:02<1:13:24,  2.39it/s]"
          ],
          "name": "stderr"
        },
        {
          "output_type": "stream",
          "text": [
            "Loss:  1.5269979238510132\n"
          ],
          "name": "stdout"
        },
        {
          "output_type": "stream",
          "text": [
            " 20%|█▉        | 2601/13084 [18:22<1:10:10,  2.49it/s]"
          ],
          "name": "stderr"
        },
        {
          "output_type": "stream",
          "text": [
            "Loss:  1.470465064048767\n"
          ],
          "name": "stdout"
        },
        {
          "output_type": "stream",
          "text": [
            " 20%|██        | 2651/13084 [18:44<1:01:04,  2.85it/s]"
          ],
          "name": "stderr"
        },
        {
          "output_type": "stream",
          "text": [
            "Loss:  1.3697553873062134\n"
          ],
          "name": "stdout"
        },
        {
          "output_type": "stream",
          "text": [
            " 21%|██        | 2701/13084 [19:05<1:20:11,  2.16it/s]"
          ],
          "name": "stderr"
        },
        {
          "output_type": "stream",
          "text": [
            "Loss:  1.3645693063735962\n"
          ],
          "name": "stdout"
        },
        {
          "output_type": "stream",
          "text": [
            " 21%|██        | 2751/13084 [19:27<1:20:54,  2.13it/s]"
          ],
          "name": "stderr"
        },
        {
          "output_type": "stream",
          "text": [
            "Loss:  1.2947618961334229\n"
          ],
          "name": "stdout"
        },
        {
          "output_type": "stream",
          "text": [
            " 21%|██▏       | 2801/13084 [19:49<1:11:19,  2.40it/s]"
          ],
          "name": "stderr"
        },
        {
          "output_type": "stream",
          "text": [
            "Loss:  1.4140392541885376\n"
          ],
          "name": "stdout"
        },
        {
          "output_type": "stream",
          "text": [
            " 22%|██▏       | 2851/13084 [20:10<1:22:02,  2.08it/s]"
          ],
          "name": "stderr"
        },
        {
          "output_type": "stream",
          "text": [
            "Loss:  1.422525405883789\n"
          ],
          "name": "stdout"
        },
        {
          "output_type": "stream",
          "text": [
            " 22%|██▏       | 2901/13084 [20:33<1:30:49,  1.87it/s]"
          ],
          "name": "stderr"
        },
        {
          "output_type": "stream",
          "text": [
            "Loss:  1.4076212644577026\n"
          ],
          "name": "stdout"
        },
        {
          "output_type": "stream",
          "text": [
            " 23%|██▎       | 2951/13084 [20:53<1:06:13,  2.55it/s]"
          ],
          "name": "stderr"
        },
        {
          "output_type": "stream",
          "text": [
            "Loss:  1.384202480316162\n"
          ],
          "name": "stdout"
        },
        {
          "output_type": "stream",
          "text": [
            " 23%|██▎       | 3001/13084 [21:15<1:01:37,  2.73it/s]"
          ],
          "name": "stderr"
        },
        {
          "output_type": "stream",
          "text": [
            "Loss:  1.4688653945922852\n"
          ],
          "name": "stdout"
        },
        {
          "output_type": "stream",
          "text": [
            " 23%|██▎       | 3051/13084 [21:36<1:09:03,  2.42it/s]"
          ],
          "name": "stderr"
        },
        {
          "output_type": "stream",
          "text": [
            "Loss:  1.3836804628372192\n"
          ],
          "name": "stdout"
        },
        {
          "output_type": "stream",
          "text": [
            " 24%|██▎       | 3102/13084 [21:56<53:59,  3.08it/s]  "
          ],
          "name": "stderr"
        },
        {
          "output_type": "stream",
          "text": [
            "Loss:  1.6109970808029175\n"
          ],
          "name": "stdout"
        },
        {
          "output_type": "stream",
          "text": [
            " 24%|██▍       | 3151/13084 [22:16<57:18,  2.89it/s]  "
          ],
          "name": "stderr"
        },
        {
          "output_type": "stream",
          "text": [
            "Loss:  1.3461414575576782\n"
          ],
          "name": "stdout"
        },
        {
          "output_type": "stream",
          "text": [
            " 24%|██▍       | 3201/13084 [22:37<1:02:32,  2.63it/s]"
          ],
          "name": "stderr"
        },
        {
          "output_type": "stream",
          "text": [
            "Loss:  1.5539432764053345\n"
          ],
          "name": "stdout"
        },
        {
          "output_type": "stream",
          "text": [
            " 25%|██▍       | 3251/13084 [22:59<1:19:48,  2.05it/s]"
          ],
          "name": "stderr"
        },
        {
          "output_type": "stream",
          "text": [
            "Loss:  1.5106333494186401\n"
          ],
          "name": "stdout"
        },
        {
          "output_type": "stream",
          "text": [
            " 25%|██▌       | 3301/13084 [23:22<59:36,  2.74it/s]  "
          ],
          "name": "stderr"
        },
        {
          "output_type": "stream",
          "text": [
            "Loss:  1.5172393321990967\n"
          ],
          "name": "stdout"
        },
        {
          "output_type": "stream",
          "text": [
            " 26%|██▌       | 3351/13084 [23:44<1:16:50,  2.11it/s]"
          ],
          "name": "stderr"
        },
        {
          "output_type": "stream",
          "text": [
            "Loss:  1.2777786254882812\n"
          ],
          "name": "stdout"
        },
        {
          "output_type": "stream",
          "text": [
            " 26%|██▌       | 3401/13084 [24:05<1:00:09,  2.68it/s]"
          ],
          "name": "stderr"
        },
        {
          "output_type": "stream",
          "text": [
            "Loss:  1.4389982223510742\n"
          ],
          "name": "stdout"
        },
        {
          "output_type": "stream",
          "text": [
            " 26%|██▋       | 3451/13084 [24:25<1:01:36,  2.61it/s]"
          ],
          "name": "stderr"
        },
        {
          "output_type": "stream",
          "text": [
            "Loss:  1.4597796201705933\n"
          ],
          "name": "stdout"
        },
        {
          "output_type": "stream",
          "text": [
            " 27%|██▋       | 3501/13084 [24:47<1:10:09,  2.28it/s]"
          ],
          "name": "stderr"
        },
        {
          "output_type": "stream",
          "text": [
            "Loss:  1.3525915145874023\n"
          ],
          "name": "stdout"
        },
        {
          "output_type": "stream",
          "text": [
            " 27%|██▋       | 3551/13084 [25:08<1:12:21,  2.20it/s]"
          ],
          "name": "stderr"
        },
        {
          "output_type": "stream",
          "text": [
            "Loss:  1.4427220821380615\n"
          ],
          "name": "stdout"
        },
        {
          "output_type": "stream",
          "text": [
            " 28%|██▊       | 3601/13084 [25:29<1:24:49,  1.86it/s]"
          ],
          "name": "stderr"
        },
        {
          "output_type": "stream",
          "text": [
            "Loss:  1.3798136711120605\n"
          ],
          "name": "stdout"
        },
        {
          "output_type": "stream",
          "text": [
            " 28%|██▊       | 3651/13084 [25:51<1:07:35,  2.33it/s]"
          ],
          "name": "stderr"
        },
        {
          "output_type": "stream",
          "text": [
            "Loss:  1.4343655109405518\n"
          ],
          "name": "stdout"
        },
        {
          "output_type": "stream",
          "text": [
            " 28%|██▊       | 3701/13084 [26:10<1:02:28,  2.50it/s]"
          ],
          "name": "stderr"
        },
        {
          "output_type": "stream",
          "text": [
            "Loss:  1.3655788898468018\n"
          ],
          "name": "stdout"
        },
        {
          "output_type": "stream",
          "text": [
            " 29%|██▊       | 3751/13084 [26:31<1:01:34,  2.53it/s]"
          ],
          "name": "stderr"
        },
        {
          "output_type": "stream",
          "text": [
            "Loss:  1.3929378986358643\n"
          ],
          "name": "stdout"
        },
        {
          "output_type": "stream",
          "text": [
            " 29%|██▉       | 3801/13084 [26:52<1:00:41,  2.55it/s]"
          ],
          "name": "stderr"
        },
        {
          "output_type": "stream",
          "text": [
            "Loss:  1.5131807327270508\n"
          ],
          "name": "stdout"
        },
        {
          "output_type": "stream",
          "text": [
            " 29%|██▉       | 3851/13084 [27:14<1:13:33,  2.09it/s]"
          ],
          "name": "stderr"
        },
        {
          "output_type": "stream",
          "text": [
            "Loss:  1.4202680587768555\n"
          ],
          "name": "stdout"
        },
        {
          "output_type": "stream",
          "text": [
            " 30%|██▉       | 3901/13084 [27:35<58:58,  2.60it/s]  "
          ],
          "name": "stderr"
        },
        {
          "output_type": "stream",
          "text": [
            "Loss:  1.4290567636489868\n"
          ],
          "name": "stdout"
        },
        {
          "output_type": "stream",
          "text": [
            " 30%|███       | 3951/13084 [27:56<1:15:32,  2.02it/s]"
          ],
          "name": "stderr"
        },
        {
          "output_type": "stream",
          "text": [
            "Loss:  1.4440559148788452\n"
          ],
          "name": "stdout"
        },
        {
          "output_type": "stream",
          "text": [
            " 31%|███       | 4001/13084 [28:16<53:16,  2.84it/s]"
          ],
          "name": "stderr"
        },
        {
          "output_type": "stream",
          "text": [
            "Loss:  1.4253523349761963\n"
          ],
          "name": "stdout"
        },
        {
          "output_type": "stream",
          "text": [
            " 31%|███       | 4051/13084 [28:37<1:01:20,  2.45it/s]"
          ],
          "name": "stderr"
        },
        {
          "output_type": "stream",
          "text": [
            "Loss:  1.4329655170440674\n"
          ],
          "name": "stdout"
        },
        {
          "output_type": "stream",
          "text": [
            " 31%|███▏      | 4101/13084 [28:58<55:40,  2.69it/s]  "
          ],
          "name": "stderr"
        },
        {
          "output_type": "stream",
          "text": [
            "Loss:  1.4468601942062378\n"
          ],
          "name": "stdout"
        },
        {
          "output_type": "stream",
          "text": [
            " 32%|███▏      | 4151/13084 [29:19<1:10:24,  2.11it/s]"
          ],
          "name": "stderr"
        },
        {
          "output_type": "stream",
          "text": [
            "Loss:  1.4331485033035278\n"
          ],
          "name": "stdout"
        },
        {
          "output_type": "stream",
          "text": [
            " 32%|███▏      | 4201/13084 [29:40<56:35,  2.62it/s]"
          ],
          "name": "stderr"
        },
        {
          "output_type": "stream",
          "text": [
            "Loss:  1.4584180116653442\n"
          ],
          "name": "stdout"
        },
        {
          "output_type": "stream",
          "text": [
            " 32%|███▏      | 4251/13084 [30:01<54:59,  2.68it/s]"
          ],
          "name": "stderr"
        },
        {
          "output_type": "stream",
          "text": [
            "Loss:  1.4570034742355347\n"
          ],
          "name": "stdout"
        },
        {
          "output_type": "stream",
          "text": [
            " 33%|███▎      | 4301/13084 [30:22<51:16,  2.85it/s]"
          ],
          "name": "stderr"
        },
        {
          "output_type": "stream",
          "text": [
            "Loss:  1.7198503017425537\n"
          ],
          "name": "stdout"
        },
        {
          "output_type": "stream",
          "text": [
            " 33%|███▎      | 4352/13084 [30:45<55:55,  2.60it/s]  "
          ],
          "name": "stderr"
        },
        {
          "output_type": "stream",
          "text": [
            "Loss:  1.49842369556427\n"
          ],
          "name": "stdout"
        },
        {
          "output_type": "stream",
          "text": [
            " 34%|███▎      | 4401/13084 [31:05<1:01:58,  2.34it/s]"
          ],
          "name": "stderr"
        },
        {
          "output_type": "stream",
          "text": [
            "Loss:  1.5035784244537354\n"
          ],
          "name": "stdout"
        },
        {
          "output_type": "stream",
          "text": [
            " 34%|███▍      | 4452/13084 [31:26<36:05,  3.99it/s]"
          ],
          "name": "stderr"
        },
        {
          "output_type": "stream",
          "text": [
            "Loss:  1.4956297874450684\n"
          ],
          "name": "stdout"
        },
        {
          "output_type": "stream",
          "text": [
            " 34%|███▍      | 4501/13084 [31:47<1:04:41,  2.21it/s]"
          ],
          "name": "stderr"
        },
        {
          "output_type": "stream",
          "text": [
            "Loss:  1.2346848249435425\n"
          ],
          "name": "stdout"
        },
        {
          "output_type": "stream",
          "text": [
            " 35%|███▍      | 4551/13084 [32:08<57:59,  2.45it/s]"
          ],
          "name": "stderr"
        },
        {
          "output_type": "stream",
          "text": [
            "Loss:  1.4929612874984741\n"
          ],
          "name": "stdout"
        },
        {
          "output_type": "stream",
          "text": [
            " 35%|███▌      | 4601/13084 [32:27<56:00,  2.52it/s]"
          ],
          "name": "stderr"
        },
        {
          "output_type": "stream",
          "text": [
            "Loss:  1.529352068901062\n"
          ],
          "name": "stdout"
        },
        {
          "output_type": "stream",
          "text": [
            " 36%|███▌      | 4651/13084 [32:51<1:08:20,  2.06it/s]"
          ],
          "name": "stderr"
        },
        {
          "output_type": "stream",
          "text": [
            "Loss:  1.3564608097076416\n"
          ],
          "name": "stdout"
        },
        {
          "output_type": "stream",
          "text": [
            " 36%|███▌      | 4701/13084 [33:12<59:16,  2.36it/s]  "
          ],
          "name": "stderr"
        },
        {
          "output_type": "stream",
          "text": [
            "Loss:  1.5657590627670288\n"
          ],
          "name": "stdout"
        },
        {
          "output_type": "stream",
          "text": [
            " 36%|███▋      | 4751/13084 [33:32<50:20,  2.76it/s]  "
          ],
          "name": "stderr"
        },
        {
          "output_type": "stream",
          "text": [
            "Loss:  1.4817407131195068\n"
          ],
          "name": "stdout"
        },
        {
          "output_type": "stream",
          "text": [
            " 37%|███▋      | 4802/13084 [33:55<55:52,  2.47it/s]  "
          ],
          "name": "stderr"
        },
        {
          "output_type": "stream",
          "text": [
            "Loss:  1.5072567462921143\n"
          ],
          "name": "stdout"
        },
        {
          "output_type": "stream",
          "text": [
            " 37%|███▋      | 4851/13084 [34:16<1:01:45,  2.22it/s]"
          ],
          "name": "stderr"
        },
        {
          "output_type": "stream",
          "text": [
            "Loss:  1.5224454402923584\n"
          ],
          "name": "stdout"
        },
        {
          "output_type": "stream",
          "text": [
            " 37%|███▋      | 4901/13084 [34:37<54:31,  2.50it/s]"
          ],
          "name": "stderr"
        },
        {
          "output_type": "stream",
          "text": [
            "Loss:  1.7189099788665771\n"
          ],
          "name": "stdout"
        },
        {
          "output_type": "stream",
          "text": [
            " 38%|███▊      | 4951/13084 [34:58<58:49,  2.30it/s]"
          ],
          "name": "stderr"
        },
        {
          "output_type": "stream",
          "text": [
            "Loss:  1.3585081100463867\n"
          ],
          "name": "stdout"
        },
        {
          "output_type": "stream",
          "text": [
            " 38%|███▊      | 5001/13084 [35:19<57:42,  2.33it/s]"
          ],
          "name": "stderr"
        },
        {
          "output_type": "stream",
          "text": [
            "Loss:  1.5454493761062622\n"
          ],
          "name": "stdout"
        },
        {
          "output_type": "stream",
          "text": [
            " 39%|███▊      | 5052/13084 [35:39<43:15,  3.09it/s]"
          ],
          "name": "stderr"
        },
        {
          "output_type": "stream",
          "text": [
            "Loss:  1.4225890636444092\n"
          ],
          "name": "stdout"
        },
        {
          "output_type": "stream",
          "text": [
            " 39%|███▉      | 5101/13084 [35:59<46:45,  2.85it/s]"
          ],
          "name": "stderr"
        },
        {
          "output_type": "stream",
          "text": [
            "Loss:  1.4675555229187012\n"
          ],
          "name": "stdout"
        },
        {
          "output_type": "stream",
          "text": [
            " 39%|███▉      | 5151/13084 [36:20<1:10:15,  1.88it/s]"
          ],
          "name": "stderr"
        },
        {
          "output_type": "stream",
          "text": [
            "Loss:  1.5530625581741333\n"
          ],
          "name": "stdout"
        },
        {
          "output_type": "stream",
          "text": [
            " 40%|███▉      | 5201/13084 [36:41<51:13,  2.57it/s]"
          ],
          "name": "stderr"
        },
        {
          "output_type": "stream",
          "text": [
            "Loss:  1.3975987434387207\n"
          ],
          "name": "stdout"
        },
        {
          "output_type": "stream",
          "text": [
            " 40%|████      | 5251/13084 [37:03<58:50,  2.22it/s]"
          ],
          "name": "stderr"
        },
        {
          "output_type": "stream",
          "text": [
            "Loss:  1.4396307468414307\n"
          ],
          "name": "stdout"
        },
        {
          "output_type": "stream",
          "text": [
            " 41%|████      | 5301/13084 [37:23<56:26,  2.30it/s]"
          ],
          "name": "stderr"
        },
        {
          "output_type": "stream",
          "text": [
            "Loss:  1.4640913009643555\n"
          ],
          "name": "stdout"
        },
        {
          "output_type": "stream",
          "text": [
            " 41%|████      | 5351/13084 [37:42<49:28,  2.61it/s]"
          ],
          "name": "stderr"
        },
        {
          "output_type": "stream",
          "text": [
            "Loss:  1.2420240640640259\n"
          ],
          "name": "stdout"
        },
        {
          "output_type": "stream",
          "text": [
            " 41%|████▏     | 5401/13084 [38:05<1:04:17,  1.99it/s]"
          ],
          "name": "stderr"
        },
        {
          "output_type": "stream",
          "text": [
            "Loss:  1.3549803495407104\n"
          ],
          "name": "stdout"
        },
        {
          "output_type": "stream",
          "text": [
            " 42%|████▏     | 5451/13084 [38:26<55:33,  2.29it/s]"
          ],
          "name": "stderr"
        },
        {
          "output_type": "stream",
          "text": [
            "Loss:  1.3039700984954834\n"
          ],
          "name": "stdout"
        },
        {
          "output_type": "stream",
          "text": [
            " 42%|████▏     | 5501/13084 [38:47<47:54,  2.64it/s]"
          ],
          "name": "stderr"
        },
        {
          "output_type": "stream",
          "text": [
            "Loss:  1.1559972763061523\n"
          ],
          "name": "stdout"
        },
        {
          "output_type": "stream",
          "text": [
            " 42%|████▏     | 5551/13084 [39:09<55:44,  2.25it/s]"
          ],
          "name": "stderr"
        },
        {
          "output_type": "stream",
          "text": [
            "Loss:  1.4309645891189575\n"
          ],
          "name": "stdout"
        },
        {
          "output_type": "stream",
          "text": [
            " 43%|████▎     | 5601/13084 [39:31<50:19,  2.48it/s]"
          ],
          "name": "stderr"
        },
        {
          "output_type": "stream",
          "text": [
            "Loss:  1.4603016376495361\n"
          ],
          "name": "stdout"
        },
        {
          "output_type": "stream",
          "text": [
            " 43%|████▎     | 5651/13084 [39:52<46:47,  2.65it/s]"
          ],
          "name": "stderr"
        },
        {
          "output_type": "stream",
          "text": [
            "Loss:  1.5791676044464111\n"
          ],
          "name": "stdout"
        },
        {
          "output_type": "stream",
          "text": [
            " 44%|████▎     | 5701/13084 [40:15<53:08,  2.32it/s]"
          ],
          "name": "stderr"
        },
        {
          "output_type": "stream",
          "text": [
            "Loss:  1.3333897590637207\n"
          ],
          "name": "stdout"
        },
        {
          "output_type": "stream",
          "text": [
            " 44%|████▍     | 5751/13084 [40:37<57:19,  2.13it/s]  "
          ],
          "name": "stderr"
        },
        {
          "output_type": "stream",
          "text": [
            "Loss:  1.3034948110580444\n"
          ],
          "name": "stdout"
        },
        {
          "output_type": "stream",
          "text": [
            " 44%|████▍     | 5801/13084 [40:59<48:01,  2.53it/s]"
          ],
          "name": "stderr"
        },
        {
          "output_type": "stream",
          "text": [
            "Loss:  1.608345866203308\n"
          ],
          "name": "stdout"
        },
        {
          "output_type": "stream",
          "text": [
            " 45%|████▍     | 5851/13084 [41:19<46:08,  2.61it/s]"
          ],
          "name": "stderr"
        },
        {
          "output_type": "stream",
          "text": [
            "Loss:  1.3657069206237793\n"
          ],
          "name": "stdout"
        },
        {
          "output_type": "stream",
          "text": [
            " 45%|████▌     | 5901/13084 [41:41<52:44,  2.27it/s]"
          ],
          "name": "stderr"
        },
        {
          "output_type": "stream",
          "text": [
            "Loss:  1.3635551929473877\n"
          ],
          "name": "stdout"
        },
        {
          "output_type": "stream",
          "text": [
            " 45%|████▌     | 5951/13084 [42:01<42:21,  2.81it/s]"
          ],
          "name": "stderr"
        },
        {
          "output_type": "stream",
          "text": [
            "Loss:  1.3791189193725586\n"
          ],
          "name": "stdout"
        },
        {
          "output_type": "stream",
          "text": [
            " 46%|████▌     | 6001/13084 [42:21<57:28,  2.05it/s]"
          ],
          "name": "stderr"
        },
        {
          "output_type": "stream",
          "text": [
            "Loss:  1.4180939197540283\n"
          ],
          "name": "stdout"
        },
        {
          "output_type": "stream",
          "text": [
            " 46%|████▌     | 6051/13084 [42:41<54:00,  2.17it/s]"
          ],
          "name": "stderr"
        },
        {
          "output_type": "stream",
          "text": [
            "Loss:  1.4535492658615112\n"
          ],
          "name": "stdout"
        },
        {
          "output_type": "stream",
          "text": [
            " 47%|████▋     | 6101/13084 [43:01<56:22,  2.06it/s]"
          ],
          "name": "stderr"
        },
        {
          "output_type": "stream",
          "text": [
            "Loss:  1.3291834592819214\n"
          ],
          "name": "stdout"
        },
        {
          "output_type": "stream",
          "text": [
            " 47%|████▋     | 6151/13084 [43:23<54:04,  2.14it/s]"
          ],
          "name": "stderr"
        },
        {
          "output_type": "stream",
          "text": [
            "Loss:  1.461798071861267\n"
          ],
          "name": "stdout"
        },
        {
          "output_type": "stream",
          "text": [
            " 47%|████▋     | 6201/13084 [43:44<47:48,  2.40it/s]"
          ],
          "name": "stderr"
        },
        {
          "output_type": "stream",
          "text": [
            "Loss:  1.2328234910964966\n"
          ],
          "name": "stdout"
        },
        {
          "output_type": "stream",
          "text": [
            " 48%|████▊     | 6251/13084 [44:05<50:09,  2.27it/s]"
          ],
          "name": "stderr"
        },
        {
          "output_type": "stream",
          "text": [
            "Loss:  1.4668939113616943\n"
          ],
          "name": "stdout"
        },
        {
          "output_type": "stream",
          "text": [
            " 48%|████▊     | 6301/13084 [44:25<40:34,  2.79it/s]"
          ],
          "name": "stderr"
        },
        {
          "output_type": "stream",
          "text": [
            "Loss:  1.51530921459198\n"
          ],
          "name": "stdout"
        },
        {
          "output_type": "stream",
          "text": [
            " 49%|████▊     | 6352/13084 [44:44<37:33,  2.99it/s]"
          ],
          "name": "stderr"
        },
        {
          "output_type": "stream",
          "text": [
            "Loss:  1.6075735092163086\n"
          ],
          "name": "stdout"
        },
        {
          "output_type": "stream",
          "text": [
            " 49%|████▉     | 6401/13084 [45:04<45:35,  2.44it/s]"
          ],
          "name": "stderr"
        },
        {
          "output_type": "stream",
          "text": [
            "Loss:  1.3635579347610474\n"
          ],
          "name": "stdout"
        },
        {
          "output_type": "stream",
          "text": [
            " 49%|████▉     | 6451/13084 [45:25<49:07,  2.25it/s]"
          ],
          "name": "stderr"
        },
        {
          "output_type": "stream",
          "text": [
            "Loss:  1.4840327501296997\n"
          ],
          "name": "stdout"
        },
        {
          "output_type": "stream",
          "text": [
            " 50%|████▉     | 6502/13084 [45:45<36:21,  3.02it/s]"
          ],
          "name": "stderr"
        },
        {
          "output_type": "stream",
          "text": [
            "Loss:  1.1722607612609863\n"
          ],
          "name": "stdout"
        },
        {
          "output_type": "stream",
          "text": [
            " 50%|█████     | 6551/13084 [46:05<38:22,  2.84it/s]"
          ],
          "name": "stderr"
        },
        {
          "output_type": "stream",
          "text": [
            "Loss:  1.5145330429077148\n"
          ],
          "name": "stdout"
        },
        {
          "output_type": "stream",
          "text": [
            " 50%|█████     | 6601/13084 [46:25<30:53,  3.50it/s]"
          ],
          "name": "stderr"
        },
        {
          "output_type": "stream",
          "text": [
            "Loss:  1.5846748352050781\n"
          ],
          "name": "stdout"
        },
        {
          "output_type": "stream",
          "text": [
            " 51%|█████     | 6651/13084 [46:45<42:28,  2.52it/s]"
          ],
          "name": "stderr"
        },
        {
          "output_type": "stream",
          "text": [
            "Loss:  1.4493005275726318\n"
          ],
          "name": "stdout"
        },
        {
          "output_type": "stream",
          "text": [
            " 51%|█████     | 6701/13084 [47:05<35:58,  2.96it/s]"
          ],
          "name": "stderr"
        },
        {
          "output_type": "stream",
          "text": [
            "Loss:  1.4113268852233887\n"
          ],
          "name": "stdout"
        },
        {
          "output_type": "stream",
          "text": [
            " 52%|█████▏    | 6751/13084 [47:25<43:02,  2.45it/s]"
          ],
          "name": "stderr"
        },
        {
          "output_type": "stream",
          "text": [
            "Loss:  1.684762716293335\n"
          ],
          "name": "stdout"
        },
        {
          "output_type": "stream",
          "text": [
            " 52%|█████▏    | 6801/13084 [47:46<44:28,  2.35it/s]"
          ],
          "name": "stderr"
        },
        {
          "output_type": "stream",
          "text": [
            "Loss:  1.3891764879226685\n"
          ],
          "name": "stdout"
        },
        {
          "output_type": "stream",
          "text": [
            " 52%|█████▏    | 6851/13084 [48:08<51:05,  2.03it/s]"
          ],
          "name": "stderr"
        },
        {
          "output_type": "stream",
          "text": [
            "Loss:  1.5743730068206787\n"
          ],
          "name": "stdout"
        },
        {
          "output_type": "stream",
          "text": [
            " 53%|█████▎    | 6901/13084 [48:29<38:42,  2.66it/s]"
          ],
          "name": "stderr"
        },
        {
          "output_type": "stream",
          "text": [
            "Loss:  1.5250223875045776\n"
          ],
          "name": "stdout"
        },
        {
          "output_type": "stream",
          "text": [
            " 53%|█████▎    | 6951/13084 [48:50<43:21,  2.36it/s]"
          ],
          "name": "stderr"
        },
        {
          "output_type": "stream",
          "text": [
            "Loss:  1.6506837606430054\n"
          ],
          "name": "stdout"
        },
        {
          "output_type": "stream",
          "text": [
            " 54%|█████▎    | 7001/13084 [49:14<44:20,  2.29it/s]"
          ],
          "name": "stderr"
        },
        {
          "output_type": "stream",
          "text": [
            "Loss:  1.4951884746551514\n"
          ],
          "name": "stdout"
        },
        {
          "output_type": "stream",
          "text": [
            " 54%|█████▍    | 7051/13084 [49:35<39:53,  2.52it/s]"
          ],
          "name": "stderr"
        },
        {
          "output_type": "stream",
          "text": [
            "Loss:  1.6314425468444824\n"
          ],
          "name": "stdout"
        },
        {
          "output_type": "stream",
          "text": [
            " 54%|█████▍    | 7101/13084 [49:57<46:11,  2.16it/s]"
          ],
          "name": "stderr"
        },
        {
          "output_type": "stream",
          "text": [
            "Loss:  1.3416029214859009\n"
          ],
          "name": "stdout"
        },
        {
          "output_type": "stream",
          "text": [
            " 55%|█████▍    | 7151/13084 [50:17<42:05,  2.35it/s]"
          ],
          "name": "stderr"
        },
        {
          "output_type": "stream",
          "text": [
            "Loss:  1.583116888999939\n"
          ],
          "name": "stdout"
        },
        {
          "output_type": "stream",
          "text": [
            " 55%|█████▌    | 7201/13084 [50:39<35:04,  2.80it/s]"
          ],
          "name": "stderr"
        },
        {
          "output_type": "stream",
          "text": [
            "Loss:  1.6623005867004395\n"
          ],
          "name": "stdout"
        },
        {
          "output_type": "stream",
          "text": [
            " 55%|█████▌    | 7251/13084 [51:01<34:58,  2.78it/s]"
          ],
          "name": "stderr"
        },
        {
          "output_type": "stream",
          "text": [
            "Loss:  1.2736330032348633\n"
          ],
          "name": "stdout"
        },
        {
          "output_type": "stream",
          "text": [
            " 56%|█████▌    | 7301/13084 [51:21<38:16,  2.52it/s]"
          ],
          "name": "stderr"
        },
        {
          "output_type": "stream",
          "text": [
            "Loss:  1.1277453899383545\n"
          ],
          "name": "stdout"
        },
        {
          "output_type": "stream",
          "text": [
            " 56%|█████▌    | 7352/13084 [51:42<36:07,  2.64it/s]"
          ],
          "name": "stderr"
        },
        {
          "output_type": "stream",
          "text": [
            "Loss:  1.460559368133545\n"
          ],
          "name": "stdout"
        },
        {
          "output_type": "stream",
          "text": [
            " 57%|█████▋    | 7401/13084 [52:01<36:31,  2.59it/s]"
          ],
          "name": "stderr"
        },
        {
          "output_type": "stream",
          "text": [
            "Loss:  1.433613657951355\n"
          ],
          "name": "stdout"
        },
        {
          "output_type": "stream",
          "text": [
            " 57%|█████▋    | 7451/13084 [52:20<27:20,  3.43it/s]"
          ],
          "name": "stderr"
        },
        {
          "output_type": "stream",
          "text": [
            "Loss:  1.6404658555984497\n"
          ],
          "name": "stdout"
        },
        {
          "output_type": "stream",
          "text": [
            " 57%|█████▋    | 7501/13084 [52:41<34:47,  2.67it/s]"
          ],
          "name": "stderr"
        },
        {
          "output_type": "stream",
          "text": [
            "Loss:  1.447982907295227\n"
          ],
          "name": "stdout"
        },
        {
          "output_type": "stream",
          "text": [
            " 58%|█████▊    | 7551/13084 [53:02<46:15,  1.99it/s]"
          ],
          "name": "stderr"
        },
        {
          "output_type": "stream",
          "text": [
            "Loss:  1.4338946342468262\n"
          ],
          "name": "stdout"
        },
        {
          "output_type": "stream",
          "text": [
            " 58%|█████▊    | 7601/13084 [53:23<39:53,  2.29it/s]"
          ],
          "name": "stderr"
        },
        {
          "output_type": "stream",
          "text": [
            "Loss:  1.5292752981185913\n"
          ],
          "name": "stdout"
        },
        {
          "output_type": "stream",
          "text": [
            " 58%|█████▊    | 7651/13084 [53:42<39:09,  2.31it/s]"
          ],
          "name": "stderr"
        },
        {
          "output_type": "stream",
          "text": [
            "Loss:  1.4681689739227295\n"
          ],
          "name": "stdout"
        },
        {
          "output_type": "stream",
          "text": [
            " 59%|█████▉    | 7701/13084 [54:03<43:18,  2.07it/s]"
          ],
          "name": "stderr"
        },
        {
          "output_type": "stream",
          "text": [
            "Loss:  1.535961627960205\n"
          ],
          "name": "stdout"
        },
        {
          "output_type": "stream",
          "text": [
            " 59%|█████▉    | 7751/13084 [54:23<34:07,  2.60it/s]"
          ],
          "name": "stderr"
        },
        {
          "output_type": "stream",
          "text": [
            "Loss:  1.2840192317962646\n"
          ],
          "name": "stdout"
        },
        {
          "output_type": "stream",
          "text": [
            " 60%|█████▉    | 7801/13084 [54:44<42:49,  2.06it/s]"
          ],
          "name": "stderr"
        },
        {
          "output_type": "stream",
          "text": [
            "Loss:  1.4320931434631348\n"
          ],
          "name": "stdout"
        },
        {
          "output_type": "stream",
          "text": [
            " 60%|██████    | 7852/13084 [55:06<27:22,  3.18it/s]"
          ],
          "name": "stderr"
        },
        {
          "output_type": "stream",
          "text": [
            "Loss:  1.1993143558502197\n"
          ],
          "name": "stdout"
        },
        {
          "output_type": "stream",
          "text": [
            " 60%|██████    | 7901/13084 [55:26<34:31,  2.50it/s]"
          ],
          "name": "stderr"
        },
        {
          "output_type": "stream",
          "text": [
            "Loss:  1.560694932937622\n"
          ],
          "name": "stdout"
        },
        {
          "output_type": "stream",
          "text": [
            " 61%|██████    | 7951/13084 [55:48<39:46,  2.15it/s]"
          ],
          "name": "stderr"
        },
        {
          "output_type": "stream",
          "text": [
            "Loss:  1.4117449522018433\n"
          ],
          "name": "stdout"
        },
        {
          "output_type": "stream",
          "text": [
            " 61%|██████    | 8001/13084 [56:10<38:59,  2.17it/s]"
          ],
          "name": "stderr"
        },
        {
          "output_type": "stream",
          "text": [
            "Loss:  1.4503576755523682\n"
          ],
          "name": "stdout"
        },
        {
          "output_type": "stream",
          "text": [
            " 62%|██████▏   | 8051/13084 [56:30<35:05,  2.39it/s]"
          ],
          "name": "stderr"
        },
        {
          "output_type": "stream",
          "text": [
            "Loss:  1.3631784915924072\n"
          ],
          "name": "stdout"
        },
        {
          "output_type": "stream",
          "text": [
            " 62%|██████▏   | 8101/13084 [56:50<36:05,  2.30it/s]"
          ],
          "name": "stderr"
        },
        {
          "output_type": "stream",
          "text": [
            "Loss:  1.4283883571624756\n"
          ],
          "name": "stdout"
        },
        {
          "output_type": "stream",
          "text": [
            " 62%|██████▏   | 8151/13084 [57:11<31:39,  2.60it/s]"
          ],
          "name": "stderr"
        },
        {
          "output_type": "stream",
          "text": [
            "Loss:  1.3480010032653809\n"
          ],
          "name": "stdout"
        },
        {
          "output_type": "stream",
          "text": [
            " 63%|██████▎   | 8201/13084 [57:31<30:53,  2.64it/s]"
          ],
          "name": "stderr"
        },
        {
          "output_type": "stream",
          "text": [
            "Loss:  1.4105939865112305\n"
          ],
          "name": "stdout"
        },
        {
          "output_type": "stream",
          "text": [
            " 63%|██████▎   | 8251/13084 [57:52<39:46,  2.03it/s]"
          ],
          "name": "stderr"
        },
        {
          "output_type": "stream",
          "text": [
            "Loss:  1.2131593227386475\n"
          ],
          "name": "stdout"
        },
        {
          "output_type": "stream",
          "text": [
            " 63%|██████▎   | 8301/13084 [58:13<29:31,  2.70it/s]"
          ],
          "name": "stderr"
        },
        {
          "output_type": "stream",
          "text": [
            "Loss:  1.4616905450820923\n"
          ],
          "name": "stdout"
        },
        {
          "output_type": "stream",
          "text": [
            " 64%|██████▍   | 8351/13084 [58:33<25:14,  3.12it/s]"
          ],
          "name": "stderr"
        },
        {
          "output_type": "stream",
          "text": [
            "Loss:  1.4335891008377075\n"
          ],
          "name": "stdout"
        },
        {
          "output_type": "stream",
          "text": [
            " 64%|██████▍   | 8401/13084 [58:54<29:31,  2.64it/s]"
          ],
          "name": "stderr"
        },
        {
          "output_type": "stream",
          "text": [
            "Loss:  1.3957897424697876\n"
          ],
          "name": "stdout"
        },
        {
          "output_type": "stream",
          "text": [
            " 65%|██████▍   | 8451/13084 [59:15<37:02,  2.08it/s]"
          ],
          "name": "stderr"
        },
        {
          "output_type": "stream",
          "text": [
            "Loss:  1.4823310375213623\n"
          ],
          "name": "stdout"
        },
        {
          "output_type": "stream",
          "text": [
            " 65%|██████▍   | 8501/13084 [59:35<27:15,  2.80it/s]"
          ],
          "name": "stderr"
        },
        {
          "output_type": "stream",
          "text": [
            "Loss:  1.3495069742202759\n"
          ],
          "name": "stdout"
        },
        {
          "output_type": "stream",
          "text": [
            " 65%|██████▌   | 8551/13084 [59:58<32:03,  2.36it/s]"
          ],
          "name": "stderr"
        },
        {
          "output_type": "stream",
          "text": [
            "Loss:  1.4424482583999634\n"
          ],
          "name": "stdout"
        },
        {
          "output_type": "stream",
          "text": [
            " 66%|██████▌   | 8601/13084 [1:00:19<28:24,  2.63it/s]"
          ],
          "name": "stderr"
        },
        {
          "output_type": "stream",
          "text": [
            "Loss:  1.462985873222351\n"
          ],
          "name": "stdout"
        },
        {
          "output_type": "stream",
          "text": [
            " 66%|██████▌   | 8651/13084 [1:00:40<33:14,  2.22it/s]"
          ],
          "name": "stderr"
        },
        {
          "output_type": "stream",
          "text": [
            "Loss:  1.3368850946426392\n"
          ],
          "name": "stdout"
        },
        {
          "output_type": "stream",
          "text": [
            " 67%|██████▋   | 8701/13084 [1:01:01<27:05,  2.70it/s]"
          ],
          "name": "stderr"
        },
        {
          "output_type": "stream",
          "text": [
            "Loss:  1.3274441957473755\n"
          ],
          "name": "stdout"
        },
        {
          "output_type": "stream",
          "text": [
            " 67%|██████▋   | 8751/13084 [1:01:21<27:36,  2.62it/s]"
          ],
          "name": "stderr"
        },
        {
          "output_type": "stream",
          "text": [
            "Loss:  1.445210576057434\n"
          ],
          "name": "stdout"
        },
        {
          "output_type": "stream",
          "text": [
            " 67%|██████▋   | 8801/13084 [1:01:41<27:50,  2.56it/s]"
          ],
          "name": "stderr"
        },
        {
          "output_type": "stream",
          "text": [
            "Loss:  1.5429131984710693\n"
          ],
          "name": "stdout"
        },
        {
          "output_type": "stream",
          "text": [
            " 68%|██████▊   | 8851/13084 [1:02:01<26:37,  2.65it/s]"
          ],
          "name": "stderr"
        },
        {
          "output_type": "stream",
          "text": [
            "Loss:  1.458180546760559\n"
          ],
          "name": "stdout"
        },
        {
          "output_type": "stream",
          "text": [
            " 68%|██████▊   | 8901/13084 [1:02:21<23:11,  3.01it/s]"
          ],
          "name": "stderr"
        },
        {
          "output_type": "stream",
          "text": [
            "Loss:  1.4082902669906616\n"
          ],
          "name": "stdout"
        },
        {
          "output_type": "stream",
          "text": [
            " 68%|██████▊   | 8951/13084 [1:02:42<27:17,  2.52it/s]"
          ],
          "name": "stderr"
        },
        {
          "output_type": "stream",
          "text": [
            "Loss:  1.2171319723129272\n"
          ],
          "name": "stdout"
        },
        {
          "output_type": "stream",
          "text": [
            " 69%|██████▉   | 9001/13084 [1:03:02<25:07,  2.71it/s]"
          ],
          "name": "stderr"
        },
        {
          "output_type": "stream",
          "text": [
            "Loss:  1.5440047979354858\n"
          ],
          "name": "stdout"
        },
        {
          "output_type": "stream",
          "text": [
            " 69%|██████▉   | 9051/13084 [1:03:23<35:16,  1.91it/s]"
          ],
          "name": "stderr"
        },
        {
          "output_type": "stream",
          "text": [
            "Loss:  1.520734190940857\n"
          ],
          "name": "stdout"
        },
        {
          "output_type": "stream",
          "text": [
            " 70%|██████▉   | 9101/13084 [1:03:43<23:30,  2.82it/s]"
          ],
          "name": "stderr"
        },
        {
          "output_type": "stream",
          "text": [
            "Loss:  1.3321455717086792\n"
          ],
          "name": "stdout"
        },
        {
          "output_type": "stream",
          "text": [
            " 70%|██████▉   | 9152/13084 [1:04:05<24:12,  2.71it/s]"
          ],
          "name": "stderr"
        },
        {
          "output_type": "stream",
          "text": [
            "Loss:  1.256059169769287\n"
          ],
          "name": "stdout"
        },
        {
          "output_type": "stream",
          "text": [
            " 70%|███████   | 9201/13084 [1:04:25<26:38,  2.43it/s]"
          ],
          "name": "stderr"
        },
        {
          "output_type": "stream",
          "text": [
            "Loss:  1.3899970054626465\n"
          ],
          "name": "stdout"
        },
        {
          "output_type": "stream",
          "text": [
            " 71%|███████   | 9251/13084 [1:04:44<24:57,  2.56it/s]"
          ],
          "name": "stderr"
        },
        {
          "output_type": "stream",
          "text": [
            "Loss:  1.4004663228988647\n"
          ],
          "name": "stdout"
        },
        {
          "output_type": "stream",
          "text": [
            " 71%|███████   | 9301/13084 [1:05:04<30:46,  2.05it/s]"
          ],
          "name": "stderr"
        },
        {
          "output_type": "stream",
          "text": [
            "Loss:  1.479727864265442\n"
          ],
          "name": "stdout"
        },
        {
          "output_type": "stream",
          "text": [
            " 71%|███████▏  | 9351/13084 [1:05:24<22:26,  2.77it/s]"
          ],
          "name": "stderr"
        },
        {
          "output_type": "stream",
          "text": [
            "Loss:  1.3225778341293335\n"
          ],
          "name": "stdout"
        },
        {
          "output_type": "stream",
          "text": [
            " 72%|███████▏  | 9401/13084 [1:05:45<28:46,  2.13it/s]"
          ],
          "name": "stderr"
        },
        {
          "output_type": "stream",
          "text": [
            "Loss:  1.5720500946044922\n"
          ],
          "name": "stdout"
        },
        {
          "output_type": "stream",
          "text": [
            " 72%|███████▏  | 9451/13084 [1:06:06<26:36,  2.28it/s]"
          ],
          "name": "stderr"
        },
        {
          "output_type": "stream",
          "text": [
            "Loss:  1.4615727663040161\n"
          ],
          "name": "stdout"
        },
        {
          "output_type": "stream",
          "text": [
            " 73%|███████▎  | 9501/13084 [1:06:24<19:38,  3.04it/s]"
          ],
          "name": "stderr"
        },
        {
          "output_type": "stream",
          "text": [
            "Loss:  1.3185948133468628\n"
          ],
          "name": "stdout"
        },
        {
          "output_type": "stream",
          "text": [
            " 73%|███████▎  | 9551/13084 [1:06:45<20:40,  2.85it/s]"
          ],
          "name": "stderr"
        },
        {
          "output_type": "stream",
          "text": [
            "Loss:  1.2798702716827393\n"
          ],
          "name": "stdout"
        },
        {
          "output_type": "stream",
          "text": [
            " 73%|███████▎  | 9601/13084 [1:07:04<20:43,  2.80it/s]"
          ],
          "name": "stderr"
        },
        {
          "output_type": "stream",
          "text": [
            "Loss:  1.4734655618667603\n"
          ],
          "name": "stdout"
        },
        {
          "output_type": "stream",
          "text": [
            " 74%|███████▍  | 9651/13084 [1:07:25<19:27,  2.94it/s]"
          ],
          "name": "stderr"
        },
        {
          "output_type": "stream",
          "text": [
            "Loss:  1.3969835042953491\n"
          ],
          "name": "stdout"
        },
        {
          "output_type": "stream",
          "text": [
            " 74%|███████▍  | 9701/13084 [1:07:46<25:34,  2.21it/s]"
          ],
          "name": "stderr"
        },
        {
          "output_type": "stream",
          "text": [
            "Loss:  1.2735904455184937\n"
          ],
          "name": "stdout"
        },
        {
          "output_type": "stream",
          "text": [
            " 75%|███████▍  | 9751/13084 [1:08:07<22:07,  2.51it/s]"
          ],
          "name": "stderr"
        },
        {
          "output_type": "stream",
          "text": [
            "Loss:  1.348915457725525\n"
          ],
          "name": "stdout"
        },
        {
          "output_type": "stream",
          "text": [
            " 75%|███████▍  | 9801/13084 [1:08:28<27:36,  1.98it/s]"
          ],
          "name": "stderr"
        },
        {
          "output_type": "stream",
          "text": [
            "Loss:  1.4169944524765015\n"
          ],
          "name": "stdout"
        },
        {
          "output_type": "stream",
          "text": [
            " 75%|███████▌  | 9851/13084 [1:08:49<20:59,  2.57it/s]"
          ],
          "name": "stderr"
        },
        {
          "output_type": "stream",
          "text": [
            "Loss:  1.4138267040252686\n"
          ],
          "name": "stdout"
        },
        {
          "output_type": "stream",
          "text": [
            " 76%|███████▌  | 9901/13084 [1:09:11<18:14,  2.91it/s]"
          ],
          "name": "stderr"
        },
        {
          "output_type": "stream",
          "text": [
            "Loss:  1.3746575117111206\n"
          ],
          "name": "stdout"
        },
        {
          "output_type": "stream",
          "text": [
            " 76%|███████▌  | 9951/13084 [1:09:32<20:43,  2.52it/s]"
          ],
          "name": "stderr"
        },
        {
          "output_type": "stream",
          "text": [
            "Loss:  1.5049965381622314\n"
          ],
          "name": "stdout"
        },
        {
          "output_type": "stream",
          "text": [
            " 76%|███████▋  | 10001/13084 [1:09:53<16:58,  3.03it/s]"
          ],
          "name": "stderr"
        },
        {
          "output_type": "stream",
          "text": [
            "Loss:  1.306671380996704\n"
          ],
          "name": "stdout"
        },
        {
          "output_type": "stream",
          "text": [
            " 77%|███████▋  | 10051/13084 [1:10:13<20:46,  2.43it/s]"
          ],
          "name": "stderr"
        },
        {
          "output_type": "stream",
          "text": [
            "Loss:  1.40012788772583\n"
          ],
          "name": "stdout"
        },
        {
          "output_type": "stream",
          "text": [
            " 77%|███████▋  | 10101/13084 [1:10:35<22:02,  2.26it/s]"
          ],
          "name": "stderr"
        },
        {
          "output_type": "stream",
          "text": [
            "Loss:  1.396674394607544\n"
          ],
          "name": "stdout"
        },
        {
          "output_type": "stream",
          "text": [
            " 78%|███████▊  | 10151/13084 [1:10:57<16:42,  2.93it/s]"
          ],
          "name": "stderr"
        },
        {
          "output_type": "stream",
          "text": [
            "Loss:  1.4435365200042725\n"
          ],
          "name": "stdout"
        },
        {
          "output_type": "stream",
          "text": [
            " 78%|███████▊  | 10201/13084 [1:11:17<19:16,  2.49it/s]"
          ],
          "name": "stderr"
        },
        {
          "output_type": "stream",
          "text": [
            "Loss:  1.3918519020080566\n"
          ],
          "name": "stdout"
        },
        {
          "output_type": "stream",
          "text": [
            " 78%|███████▊  | 10251/13084 [1:11:38<19:24,  2.43it/s]"
          ],
          "name": "stderr"
        },
        {
          "output_type": "stream",
          "text": [
            "Loss:  1.3338518142700195\n"
          ],
          "name": "stdout"
        },
        {
          "output_type": "stream",
          "text": [
            " 79%|███████▊  | 10301/13084 [1:12:00<18:15,  2.54it/s]"
          ],
          "name": "stderr"
        },
        {
          "output_type": "stream",
          "text": [
            "Loss:  1.322685956954956\n"
          ],
          "name": "stdout"
        },
        {
          "output_type": "stream",
          "text": [
            " 79%|███████▉  | 10351/13084 [1:12:21<20:41,  2.20it/s]"
          ],
          "name": "stderr"
        },
        {
          "output_type": "stream",
          "text": [
            "Loss:  1.4619472026824951\n"
          ],
          "name": "stdout"
        },
        {
          "output_type": "stream",
          "text": [
            " 79%|███████▉  | 10401/13084 [1:12:42<13:19,  3.36it/s]"
          ],
          "name": "stderr"
        },
        {
          "output_type": "stream",
          "text": [
            "Loss:  1.739349603652954\n"
          ],
          "name": "stdout"
        },
        {
          "output_type": "stream",
          "text": [
            " 80%|███████▉  | 10451/13084 [1:13:04<18:15,  2.40it/s]"
          ],
          "name": "stderr"
        },
        {
          "output_type": "stream",
          "text": [
            "Loss:  1.4517101049423218\n"
          ],
          "name": "stdout"
        },
        {
          "output_type": "stream",
          "text": [
            " 80%|████████  | 10501/13084 [1:13:25<16:01,  2.69it/s]"
          ],
          "name": "stderr"
        },
        {
          "output_type": "stream",
          "text": [
            "Loss:  1.3991962671279907\n"
          ],
          "name": "stdout"
        },
        {
          "output_type": "stream",
          "text": [
            " 81%|████████  | 10551/13084 [1:13:47<18:01,  2.34it/s]"
          ],
          "name": "stderr"
        },
        {
          "output_type": "stream",
          "text": [
            "Loss:  1.4417082071304321\n"
          ],
          "name": "stdout"
        },
        {
          "output_type": "stream",
          "text": [
            " 81%|████████  | 10601/13084 [1:14:09<19:10,  2.16it/s]"
          ],
          "name": "stderr"
        },
        {
          "output_type": "stream",
          "text": [
            "Loss:  1.342677116394043\n"
          ],
          "name": "stdout"
        },
        {
          "output_type": "stream",
          "text": [
            " 81%|████████▏ | 10651/13084 [1:14:31<14:11,  2.86it/s]"
          ],
          "name": "stderr"
        },
        {
          "output_type": "stream",
          "text": [
            "Loss:  1.4464670419692993\n"
          ],
          "name": "stdout"
        },
        {
          "output_type": "stream",
          "text": [
            " 82%|████████▏ | 10701/13084 [1:14:54<18:06,  2.19it/s]"
          ],
          "name": "stderr"
        },
        {
          "output_type": "stream",
          "text": [
            "Loss:  1.4129003286361694\n"
          ],
          "name": "stdout"
        },
        {
          "output_type": "stream",
          "text": [
            " 82%|████████▏ | 10751/13084 [1:15:16<20:05,  1.94it/s]"
          ],
          "name": "stderr"
        },
        {
          "output_type": "stream",
          "text": [
            "Loss:  1.332034707069397\n"
          ],
          "name": "stdout"
        },
        {
          "output_type": "stream",
          "text": [
            " 83%|████████▎ | 10801/13084 [1:15:38<15:59,  2.38it/s]"
          ],
          "name": "stderr"
        },
        {
          "output_type": "stream",
          "text": [
            "Loss:  1.4356063604354858\n"
          ],
          "name": "stdout"
        },
        {
          "output_type": "stream",
          "text": [
            " 83%|████████▎ | 10851/13084 [1:16:01<15:34,  2.39it/s]"
          ],
          "name": "stderr"
        },
        {
          "output_type": "stream",
          "text": [
            "Loss:  1.4077041149139404\n"
          ],
          "name": "stdout"
        },
        {
          "output_type": "stream",
          "text": [
            " 83%|████████▎ | 10901/13084 [1:16:23<14:14,  2.55it/s]"
          ],
          "name": "stderr"
        },
        {
          "output_type": "stream",
          "text": [
            "Loss:  1.5490130186080933\n"
          ],
          "name": "stdout"
        },
        {
          "output_type": "stream",
          "text": [
            " 84%|████████▎ | 10951/13084 [1:16:46<15:31,  2.29it/s]"
          ],
          "name": "stderr"
        },
        {
          "output_type": "stream",
          "text": [
            "Loss:  1.4902626276016235\n"
          ],
          "name": "stdout"
        },
        {
          "output_type": "stream",
          "text": [
            " 84%|████████▍ | 11001/13084 [1:17:08<16:44,  2.07it/s]"
          ],
          "name": "stderr"
        },
        {
          "output_type": "stream",
          "text": [
            "Loss:  1.2082916498184204\n"
          ],
          "name": "stdout"
        },
        {
          "output_type": "stream",
          "text": [
            " 84%|████████▍ | 11051/13084 [1:17:30<14:18,  2.37it/s]"
          ],
          "name": "stderr"
        },
        {
          "output_type": "stream",
          "text": [
            "Loss:  1.408126711845398\n"
          ],
          "name": "stdout"
        },
        {
          "output_type": "stream",
          "text": [
            " 85%|████████▍ | 11101/13084 [1:17:53<12:22,  2.67it/s]"
          ],
          "name": "stderr"
        },
        {
          "output_type": "stream",
          "text": [
            "Loss:  1.5363292694091797\n"
          ],
          "name": "stdout"
        },
        {
          "output_type": "stream",
          "text": [
            " 85%|████████▌ | 11151/13084 [1:18:14<10:56,  2.95it/s]"
          ],
          "name": "stderr"
        },
        {
          "output_type": "stream",
          "text": [
            "Loss:  1.7096586227416992\n"
          ],
          "name": "stdout"
        },
        {
          "output_type": "stream",
          "text": [
            " 86%|████████▌ | 11201/13084 [1:18:36<12:09,  2.58it/s]"
          ],
          "name": "stderr"
        },
        {
          "output_type": "stream",
          "text": [
            "Loss:  1.3945972919464111\n"
          ],
          "name": "stdout"
        },
        {
          "output_type": "stream",
          "text": [
            " 86%|████████▌ | 11252/13084 [1:18:58<12:16,  2.49it/s]"
          ],
          "name": "stderr"
        },
        {
          "output_type": "stream",
          "text": [
            "Loss:  1.3042351007461548\n"
          ],
          "name": "stdout"
        },
        {
          "output_type": "stream",
          "text": [
            " 86%|████████▋ | 11302/13084 [1:19:19<10:12,  2.91it/s]"
          ],
          "name": "stderr"
        },
        {
          "output_type": "stream",
          "text": [
            "Loss:  1.4355837106704712\n"
          ],
          "name": "stdout"
        },
        {
          "output_type": "stream",
          "text": [
            " 87%|████████▋ | 11351/13084 [1:19:41<13:44,  2.10it/s]"
          ],
          "name": "stderr"
        },
        {
          "output_type": "stream",
          "text": [
            "Loss:  1.494399905204773\n"
          ],
          "name": "stdout"
        },
        {
          "output_type": "stream",
          "text": [
            " 87%|████████▋ | 11401/13084 [1:20:03<13:22,  2.10it/s]"
          ],
          "name": "stderr"
        },
        {
          "output_type": "stream",
          "text": [
            "Loss:  1.4655649662017822\n"
          ],
          "name": "stdout"
        },
        {
          "output_type": "stream",
          "text": [
            " 88%|████████▊ | 11451/13084 [1:20:25<11:40,  2.33it/s]"
          ],
          "name": "stderr"
        },
        {
          "output_type": "stream",
          "text": [
            "Loss:  1.473049283027649\n"
          ],
          "name": "stdout"
        },
        {
          "output_type": "stream",
          "text": [
            " 88%|████████▊ | 11501/13084 [1:20:47<12:36,  2.09it/s]"
          ],
          "name": "stderr"
        },
        {
          "output_type": "stream",
          "text": [
            "Loss:  1.455321192741394\n"
          ],
          "name": "stdout"
        },
        {
          "output_type": "stream",
          "text": [
            " 88%|████████▊ | 11551/13084 [1:21:10<12:30,  2.04it/s]"
          ],
          "name": "stderr"
        },
        {
          "output_type": "stream",
          "text": [
            "Loss:  1.332022786140442\n"
          ],
          "name": "stdout"
        },
        {
          "output_type": "stream",
          "text": [
            " 89%|████████▊ | 11601/13084 [1:21:32<09:15,  2.67it/s]"
          ],
          "name": "stderr"
        },
        {
          "output_type": "stream",
          "text": [
            "Loss:  1.548229455947876\n"
          ],
          "name": "stdout"
        },
        {
          "output_type": "stream",
          "text": [
            " 89%|████████▉ | 11651/13084 [1:21:54<11:00,  2.17it/s]"
          ],
          "name": "stderr"
        },
        {
          "output_type": "stream",
          "text": [
            "Loss:  1.3905843496322632\n"
          ],
          "name": "stdout"
        },
        {
          "output_type": "stream",
          "text": [
            " 89%|████████▉ | 11702/13084 [1:22:15<08:46,  2.62it/s]"
          ],
          "name": "stderr"
        },
        {
          "output_type": "stream",
          "text": [
            "Loss:  1.4316576719284058\n"
          ],
          "name": "stdout"
        },
        {
          "output_type": "stream",
          "text": [
            " 90%|████████▉ | 11751/13084 [1:22:34<08:19,  2.67it/s]"
          ],
          "name": "stderr"
        },
        {
          "output_type": "stream",
          "text": [
            "Loss:  1.4594392776489258\n"
          ],
          "name": "stdout"
        },
        {
          "output_type": "stream",
          "text": [
            " 90%|█████████ | 11801/13084 [1:22:56<08:46,  2.44it/s]"
          ],
          "name": "stderr"
        },
        {
          "output_type": "stream",
          "text": [
            "Loss:  1.604396104812622\n"
          ],
          "name": "stdout"
        },
        {
          "output_type": "stream",
          "text": [
            " 91%|█████████ | 11851/13084 [1:23:18<10:02,  2.05it/s]"
          ],
          "name": "stderr"
        },
        {
          "output_type": "stream",
          "text": [
            "Loss:  1.455078363418579\n"
          ],
          "name": "stdout"
        },
        {
          "output_type": "stream",
          "text": [
            " 91%|█████████ | 11901/13084 [1:23:39<06:20,  3.11it/s]"
          ],
          "name": "stderr"
        },
        {
          "output_type": "stream",
          "text": [
            "Loss:  1.5451972484588623\n"
          ],
          "name": "stdout"
        },
        {
          "output_type": "stream",
          "text": [
            " 91%|█████████▏| 11951/13084 [1:24:00<08:24,  2.24it/s]"
          ],
          "name": "stderr"
        },
        {
          "output_type": "stream",
          "text": [
            "Loss:  1.5407204627990723\n"
          ],
          "name": "stdout"
        },
        {
          "output_type": "stream",
          "text": [
            " 92%|█████████▏| 12001/13084 [1:24:22<07:42,  2.34it/s]"
          ],
          "name": "stderr"
        },
        {
          "output_type": "stream",
          "text": [
            "Loss:  1.3466038703918457\n"
          ],
          "name": "stdout"
        },
        {
          "output_type": "stream",
          "text": [
            " 92%|█████████▏| 12051/13084 [1:24:44<08:41,  1.98it/s]"
          ],
          "name": "stderr"
        },
        {
          "output_type": "stream",
          "text": [
            "Loss:  1.5632328987121582\n"
          ],
          "name": "stdout"
        },
        {
          "output_type": "stream",
          "text": [
            " 92%|█████████▏| 12101/13084 [1:25:05<06:19,  2.59it/s]"
          ],
          "name": "stderr"
        },
        {
          "output_type": "stream",
          "text": [
            "Loss:  1.418166995048523\n"
          ],
          "name": "stdout"
        },
        {
          "output_type": "stream",
          "text": [
            " 93%|█████████▎| 12151/13084 [1:25:26<06:24,  2.43it/s]"
          ],
          "name": "stderr"
        },
        {
          "output_type": "stream",
          "text": [
            "Loss:  1.4609012603759766\n"
          ],
          "name": "stdout"
        },
        {
          "output_type": "stream",
          "text": [
            " 93%|█████████▎| 12201/13084 [1:25:47<05:46,  2.55it/s]"
          ],
          "name": "stderr"
        },
        {
          "output_type": "stream",
          "text": [
            "Loss:  1.5081106424331665\n"
          ],
          "name": "stdout"
        },
        {
          "output_type": "stream",
          "text": [
            " 94%|█████████▎| 12251/13084 [1:26:08<05:24,  2.57it/s]"
          ],
          "name": "stderr"
        },
        {
          "output_type": "stream",
          "text": [
            "Loss:  1.5337570905685425\n"
          ],
          "name": "stdout"
        },
        {
          "output_type": "stream",
          "text": [
            " 94%|█████████▍| 12302/13084 [1:26:30<04:32,  2.87it/s]"
          ],
          "name": "stderr"
        },
        {
          "output_type": "stream",
          "text": [
            "Loss:  1.3180367946624756\n"
          ],
          "name": "stdout"
        },
        {
          "output_type": "stream",
          "text": [
            " 94%|█████████▍| 12351/13084 [1:26:50<05:00,  2.44it/s]"
          ],
          "name": "stderr"
        },
        {
          "output_type": "stream",
          "text": [
            "Loss:  1.421235203742981\n"
          ],
          "name": "stdout"
        },
        {
          "output_type": "stream",
          "text": [
            " 95%|█████████▍| 12401/13084 [1:27:12<04:21,  2.61it/s]"
          ],
          "name": "stderr"
        },
        {
          "output_type": "stream",
          "text": [
            "Loss:  1.5728809833526611\n"
          ],
          "name": "stdout"
        },
        {
          "output_type": "stream",
          "text": [
            " 95%|█████████▌| 12451/13084 [1:27:33<04:42,  2.24it/s]"
          ],
          "name": "stderr"
        },
        {
          "output_type": "stream",
          "text": [
            "Loss:  1.5134048461914062\n"
          ],
          "name": "stdout"
        },
        {
          "output_type": "stream",
          "text": [
            " 96%|█████████▌| 12501/13084 [1:27:56<04:25,  2.20it/s]"
          ],
          "name": "stderr"
        },
        {
          "output_type": "stream",
          "text": [
            "Loss:  1.4798461198806763\n"
          ],
          "name": "stdout"
        },
        {
          "output_type": "stream",
          "text": [
            " 96%|█████████▌| 12551/13084 [1:28:17<03:28,  2.56it/s]"
          ],
          "name": "stderr"
        },
        {
          "output_type": "stream",
          "text": [
            "Loss:  1.6964728832244873\n"
          ],
          "name": "stdout"
        },
        {
          "output_type": "stream",
          "text": [
            " 96%|█████████▋| 12601/13084 [1:28:38<03:12,  2.51it/s]"
          ],
          "name": "stderr"
        },
        {
          "output_type": "stream",
          "text": [
            "Loss:  1.4756430387496948\n"
          ],
          "name": "stdout"
        },
        {
          "output_type": "stream",
          "text": [
            " 97%|█████████▋| 12652/13084 [1:28:59<02:38,  2.73it/s]"
          ],
          "name": "stderr"
        },
        {
          "output_type": "stream",
          "text": [
            "Loss:  1.5161263942718506\n"
          ],
          "name": "stdout"
        },
        {
          "output_type": "stream",
          "text": [
            " 97%|█████████▋| 12701/13084 [1:29:21<02:49,  2.25it/s]"
          ],
          "name": "stderr"
        },
        {
          "output_type": "stream",
          "text": [
            "Loss:  1.4046549797058105\n"
          ],
          "name": "stdout"
        },
        {
          "output_type": "stream",
          "text": [
            " 97%|█████████▋| 12751/13084 [1:29:43<02:07,  2.61it/s]"
          ],
          "name": "stderr"
        },
        {
          "output_type": "stream",
          "text": [
            "Loss:  1.497833490371704\n"
          ],
          "name": "stdout"
        },
        {
          "output_type": "stream",
          "text": [
            " 98%|█████████▊| 12801/13084 [1:30:05<02:00,  2.34it/s]"
          ],
          "name": "stderr"
        },
        {
          "output_type": "stream",
          "text": [
            "Loss:  1.5790482759475708\n"
          ],
          "name": "stdout"
        },
        {
          "output_type": "stream",
          "text": [
            " 98%|█████████▊| 12851/13084 [1:30:25<01:45,  2.21it/s]"
          ],
          "name": "stderr"
        },
        {
          "output_type": "stream",
          "text": [
            "Loss:  1.496354341506958\n"
          ],
          "name": "stdout"
        },
        {
          "output_type": "stream",
          "text": [
            " 99%|█████████▊| 12901/13084 [1:30:46<01:11,  2.55it/s]"
          ],
          "name": "stderr"
        },
        {
          "output_type": "stream",
          "text": [
            "Loss:  1.4342893362045288\n"
          ],
          "name": "stdout"
        },
        {
          "output_type": "stream",
          "text": [
            " 99%|█████████▉| 12952/13084 [1:31:08<00:43,  3.01it/s]"
          ],
          "name": "stderr"
        },
        {
          "output_type": "stream",
          "text": [
            "Loss:  1.4505736827850342\n"
          ],
          "name": "stdout"
        },
        {
          "output_type": "stream",
          "text": [
            " 99%|█████████▉| 13001/13084 [1:31:28<00:27,  2.99it/s]"
          ],
          "name": "stderr"
        },
        {
          "output_type": "stream",
          "text": [
            "Loss:  1.441314697265625\n"
          ],
          "name": "stdout"
        },
        {
          "output_type": "stream",
          "text": [
            "100%|█████████▉| 13051/13084 [1:31:49<00:14,  2.23it/s]"
          ],
          "name": "stderr"
        },
        {
          "output_type": "stream",
          "text": [
            "Loss:  1.4715274572372437\n"
          ],
          "name": "stdout"
        },
        {
          "output_type": "stream",
          "text": [
            "100%|██████████| 13084/13084 [1:32:04<00:00,  2.37it/s]\n",
            "  0%|          | 2/13084 [00:00<1:51:56,  1.95it/s]"
          ],
          "name": "stderr"
        },
        {
          "output_type": "stream",
          "text": [
            "Loss:  1.5745611190795898\n"
          ],
          "name": "stdout"
        },
        {
          "output_type": "stream",
          "text": [
            "  0%|          | 51/13084 [00:21<1:24:57,  2.56it/s]"
          ],
          "name": "stderr"
        },
        {
          "output_type": "stream",
          "text": [
            "Loss:  1.4868121147155762\n"
          ],
          "name": "stdout"
        },
        {
          "output_type": "stream",
          "text": [
            "  1%|          | 101/13084 [00:43<1:42:14,  2.12it/s]"
          ],
          "name": "stderr"
        },
        {
          "output_type": "stream",
          "text": [
            "Loss:  1.5055389404296875\n"
          ],
          "name": "stdout"
        },
        {
          "output_type": "stream",
          "text": [
            "  1%|          | 151/13084 [01:02<1:26:24,  2.49it/s]"
          ],
          "name": "stderr"
        },
        {
          "output_type": "stream",
          "text": [
            "Loss:  1.4733878374099731\n"
          ],
          "name": "stdout"
        },
        {
          "output_type": "stream",
          "text": [
            "  2%|▏         | 201/13084 [01:23<1:40:44,  2.13it/s]"
          ],
          "name": "stderr"
        },
        {
          "output_type": "stream",
          "text": [
            "Loss:  1.2886875867843628\n"
          ],
          "name": "stdout"
        },
        {
          "output_type": "stream",
          "text": [
            "  2%|▏         | 251/13084 [01:44<1:34:50,  2.26it/s]"
          ],
          "name": "stderr"
        },
        {
          "output_type": "stream",
          "text": [
            "Loss:  1.27753484249115\n"
          ],
          "name": "stdout"
        },
        {
          "output_type": "stream",
          "text": [
            "  2%|▏         | 301/13084 [02:05<1:15:02,  2.84it/s]"
          ],
          "name": "stderr"
        },
        {
          "output_type": "stream",
          "text": [
            "Loss:  1.5637633800506592\n"
          ],
          "name": "stdout"
        },
        {
          "output_type": "stream",
          "text": [
            "  3%|▎         | 351/13084 [02:26<1:15:51,  2.80it/s]"
          ],
          "name": "stderr"
        },
        {
          "output_type": "stream",
          "text": [
            "Loss:  1.5972514152526855\n"
          ],
          "name": "stdout"
        },
        {
          "output_type": "stream",
          "text": [
            "  3%|▎         | 401/13084 [02:47<1:16:00,  2.78it/s]"
          ],
          "name": "stderr"
        },
        {
          "output_type": "stream",
          "text": [
            "Loss:  1.7677044868469238\n"
          ],
          "name": "stdout"
        },
        {
          "output_type": "stream",
          "text": [
            "  3%|▎         | 451/13084 [03:09<1:31:39,  2.30it/s]"
          ],
          "name": "stderr"
        },
        {
          "output_type": "stream",
          "text": [
            "Loss:  1.5081005096435547\n"
          ],
          "name": "stdout"
        },
        {
          "output_type": "stream",
          "text": [
            "  4%|▍         | 501/13084 [03:31<1:35:45,  2.19it/s]"
          ],
          "name": "stderr"
        },
        {
          "output_type": "stream",
          "text": [
            "Loss:  1.5624085664749146\n"
          ],
          "name": "stdout"
        },
        {
          "output_type": "stream",
          "text": [
            "  4%|▍         | 551/13084 [03:54<1:21:22,  2.57it/s]"
          ],
          "name": "stderr"
        },
        {
          "output_type": "stream",
          "text": [
            "Loss:  1.3122023344039917\n"
          ],
          "name": "stdout"
        },
        {
          "output_type": "stream",
          "text": [
            "  5%|▍         | 601/13084 [04:16<1:41:27,  2.05it/s]"
          ],
          "name": "stderr"
        },
        {
          "output_type": "stream",
          "text": [
            "Loss:  1.5509669780731201\n"
          ],
          "name": "stdout"
        },
        {
          "output_type": "stream",
          "text": [
            "  5%|▍         | 652/13084 [04:38<1:21:09,  2.55it/s]"
          ],
          "name": "stderr"
        },
        {
          "output_type": "stream",
          "text": [
            "Loss:  1.4845858812332153\n"
          ],
          "name": "stdout"
        },
        {
          "output_type": "stream",
          "text": [
            "  5%|▌         | 701/13084 [04:59<1:22:06,  2.51it/s]"
          ],
          "name": "stderr"
        },
        {
          "output_type": "stream",
          "text": [
            "Loss:  1.6178455352783203\n"
          ],
          "name": "stdout"
        },
        {
          "output_type": "stream",
          "text": [
            "  6%|▌         | 751/13084 [05:21<1:15:16,  2.73it/s]"
          ],
          "name": "stderr"
        },
        {
          "output_type": "stream",
          "text": [
            "Loss:  1.7866175174713135\n"
          ],
          "name": "stdout"
        },
        {
          "output_type": "stream",
          "text": [
            "  6%|▌         | 801/13084 [05:43<1:22:22,  2.49it/s]"
          ],
          "name": "stderr"
        },
        {
          "output_type": "stream",
          "text": [
            "Loss:  1.5791664123535156\n"
          ],
          "name": "stdout"
        },
        {
          "output_type": "stream",
          "text": [
            "  7%|▋         | 851/13084 [06:05<1:25:05,  2.40it/s]"
          ],
          "name": "stderr"
        },
        {
          "output_type": "stream",
          "text": [
            "Loss:  1.3738690614700317\n"
          ],
          "name": "stdout"
        },
        {
          "output_type": "stream",
          "text": [
            "  7%|▋         | 901/13084 [06:27<1:25:07,  2.39it/s]"
          ],
          "name": "stderr"
        },
        {
          "output_type": "stream",
          "text": [
            "Loss:  1.514107346534729\n"
          ],
          "name": "stdout"
        },
        {
          "output_type": "stream",
          "text": [
            "  7%|▋         | 951/13084 [06:49<1:26:28,  2.34it/s]"
          ],
          "name": "stderr"
        },
        {
          "output_type": "stream",
          "text": [
            "Loss:  1.4982062578201294\n"
          ],
          "name": "stdout"
        },
        {
          "output_type": "stream",
          "text": [
            "  8%|▊         | 1001/13084 [07:09<1:19:44,  2.53it/s]"
          ],
          "name": "stderr"
        },
        {
          "output_type": "stream",
          "text": [
            "Loss:  1.5003485679626465\n"
          ],
          "name": "stdout"
        },
        {
          "output_type": "stream",
          "text": [
            "  8%|▊         | 1051/13084 [07:30<1:20:49,  2.48it/s]"
          ],
          "name": "stderr"
        },
        {
          "output_type": "stream",
          "text": [
            "Loss:  1.574225902557373\n"
          ],
          "name": "stdout"
        },
        {
          "output_type": "stream",
          "text": [
            "  8%|▊         | 1101/13084 [07:50<1:37:38,  2.05it/s]"
          ],
          "name": "stderr"
        },
        {
          "output_type": "stream",
          "text": [
            "Loss:  1.4320639371871948\n"
          ],
          "name": "stdout"
        },
        {
          "output_type": "stream",
          "text": [
            "  9%|▉         | 1151/13084 [08:12<1:15:47,  2.62it/s]"
          ],
          "name": "stderr"
        },
        {
          "output_type": "stream",
          "text": [
            "Loss:  1.5701591968536377\n"
          ],
          "name": "stdout"
        },
        {
          "output_type": "stream",
          "text": [
            "  9%|▉         | 1201/13084 [08:35<1:22:20,  2.41it/s]"
          ],
          "name": "stderr"
        },
        {
          "output_type": "stream",
          "text": [
            "Loss:  1.4806065559387207\n"
          ],
          "name": "stdout"
        },
        {
          "output_type": "stream",
          "text": [
            " 10%|▉         | 1251/13084 [08:55<1:17:15,  2.55it/s]"
          ],
          "name": "stderr"
        },
        {
          "output_type": "stream",
          "text": [
            "Loss:  1.5137606859207153\n"
          ],
          "name": "stdout"
        },
        {
          "output_type": "stream",
          "text": [
            " 10%|▉         | 1301/13084 [09:15<1:15:18,  2.61it/s]"
          ],
          "name": "stderr"
        },
        {
          "output_type": "stream",
          "text": [
            "Loss:  1.9224551916122437\n"
          ],
          "name": "stdout"
        },
        {
          "output_type": "stream",
          "text": [
            " 10%|█         | 1351/13084 [09:36<1:27:59,  2.22it/s]"
          ],
          "name": "stderr"
        },
        {
          "output_type": "stream",
          "text": [
            "Loss:  1.5081431865692139\n"
          ],
          "name": "stdout"
        },
        {
          "output_type": "stream",
          "text": [
            " 11%|█         | 1401/13084 [09:58<1:19:50,  2.44it/s]"
          ],
          "name": "stderr"
        },
        {
          "output_type": "stream",
          "text": [
            "Loss:  1.5526484251022339\n"
          ],
          "name": "stdout"
        },
        {
          "output_type": "stream",
          "text": [
            " 11%|█         | 1451/13084 [10:20<1:18:16,  2.48it/s]"
          ],
          "name": "stderr"
        },
        {
          "output_type": "stream",
          "text": [
            "Loss:  1.5637683868408203\n"
          ],
          "name": "stdout"
        },
        {
          "output_type": "stream",
          "text": [
            " 11%|█▏        | 1501/13084 [10:43<1:26:25,  2.23it/s]"
          ],
          "name": "stderr"
        },
        {
          "output_type": "stream",
          "text": [
            "Loss:  1.5761269330978394\n"
          ],
          "name": "stdout"
        },
        {
          "output_type": "stream",
          "text": [
            " 12%|█▏        | 1552/13084 [11:05<1:09:27,  2.77it/s]"
          ],
          "name": "stderr"
        },
        {
          "output_type": "stream",
          "text": [
            "Loss:  1.437307596206665\n"
          ],
          "name": "stdout"
        },
        {
          "output_type": "stream",
          "text": [
            " 12%|█▏        | 1601/13084 [11:25<1:36:03,  1.99it/s]"
          ],
          "name": "stderr"
        },
        {
          "output_type": "stream",
          "text": [
            "Loss:  1.3589539527893066\n"
          ],
          "name": "stdout"
        },
        {
          "output_type": "stream",
          "text": [
            " 13%|█▎        | 1651/13084 [11:46<1:27:13,  2.18it/s]"
          ],
          "name": "stderr"
        },
        {
          "output_type": "stream",
          "text": [
            "Loss:  1.492702841758728\n"
          ],
          "name": "stdout"
        },
        {
          "output_type": "stream",
          "text": [
            " 13%|█▎        | 1701/13084 [12:09<1:26:25,  2.20it/s]"
          ],
          "name": "stderr"
        },
        {
          "output_type": "stream",
          "text": [
            "Loss:  1.5822004079818726\n"
          ],
          "name": "stdout"
        },
        {
          "output_type": "stream",
          "text": [
            " 13%|█▎        | 1751/13084 [12:30<1:13:13,  2.58it/s]"
          ],
          "name": "stderr"
        },
        {
          "output_type": "stream",
          "text": [
            "Loss:  1.3259257078170776\n"
          ],
          "name": "stdout"
        },
        {
          "output_type": "stream",
          "text": [
            " 14%|█▍        | 1802/13084 [12:53<1:15:46,  2.48it/s]"
          ],
          "name": "stderr"
        },
        {
          "output_type": "stream",
          "text": [
            "Loss:  1.365468144416809\n"
          ],
          "name": "stdout"
        },
        {
          "output_type": "stream",
          "text": [
            " 14%|█▍        | 1851/13084 [13:15<1:22:39,  2.27it/s]"
          ],
          "name": "stderr"
        },
        {
          "output_type": "stream",
          "text": [
            "Loss:  1.4037714004516602\n"
          ],
          "name": "stdout"
        },
        {
          "output_type": "stream",
          "text": [
            " 15%|█▍        | 1901/13084 [13:38<1:24:54,  2.20it/s]"
          ],
          "name": "stderr"
        },
        {
          "output_type": "stream",
          "text": [
            "Loss:  1.3803949356079102\n"
          ],
          "name": "stdout"
        },
        {
          "output_type": "stream",
          "text": [
            " 15%|█▍        | 1951/13084 [13:59<1:23:54,  2.21it/s]"
          ],
          "name": "stderr"
        },
        {
          "output_type": "stream",
          "text": [
            "Loss:  1.5378074645996094\n"
          ],
          "name": "stdout"
        },
        {
          "output_type": "stream",
          "text": [
            " 15%|█▌        | 2001/13084 [14:21<1:28:07,  2.10it/s]"
          ],
          "name": "stderr"
        },
        {
          "output_type": "stream",
          "text": [
            "Loss:  1.3859713077545166\n"
          ],
          "name": "stdout"
        },
        {
          "output_type": "stream",
          "text": [
            " 16%|█▌        | 2051/13084 [14:42<1:26:26,  2.13it/s]"
          ],
          "name": "stderr"
        },
        {
          "output_type": "stream",
          "text": [
            "Loss:  1.32309091091156\n"
          ],
          "name": "stdout"
        },
        {
          "output_type": "stream",
          "text": [
            " 16%|█▌        | 2101/13084 [15:02<1:10:16,  2.60it/s]"
          ],
          "name": "stderr"
        },
        {
          "output_type": "stream",
          "text": [
            "Loss:  1.2612131834030151\n"
          ],
          "name": "stdout"
        },
        {
          "output_type": "stream",
          "text": [
            " 16%|█▋        | 2152/13084 [15:24<55:44,  3.27it/s]  "
          ],
          "name": "stderr"
        },
        {
          "output_type": "stream",
          "text": [
            "Loss:  1.5451980829238892\n"
          ],
          "name": "stdout"
        },
        {
          "output_type": "stream",
          "text": [
            " 17%|█▋        | 2201/13084 [15:44<1:18:28,  2.31it/s]"
          ],
          "name": "stderr"
        },
        {
          "output_type": "stream",
          "text": [
            "Loss:  1.296151041984558\n"
          ],
          "name": "stdout"
        },
        {
          "output_type": "stream",
          "text": [
            " 17%|█▋        | 2252/13084 [16:06<57:56,  3.12it/s]  "
          ],
          "name": "stderr"
        },
        {
          "output_type": "stream",
          "text": [
            "Loss:  1.4852861166000366\n"
          ],
          "name": "stdout"
        },
        {
          "output_type": "stream",
          "text": [
            " 18%|█▊        | 2301/13084 [16:26<58:22,  3.08it/s]  "
          ],
          "name": "stderr"
        },
        {
          "output_type": "stream",
          "text": [
            "Loss:  1.3693971633911133\n"
          ],
          "name": "stdout"
        },
        {
          "output_type": "stream",
          "text": [
            " 18%|█▊        | 2351/13084 [16:45<1:01:39,  2.90it/s]"
          ],
          "name": "stderr"
        },
        {
          "output_type": "stream",
          "text": [
            "Loss:  1.6842010021209717\n"
          ],
          "name": "stdout"
        },
        {
          "output_type": "stream",
          "text": [
            " 18%|█▊        | 2401/13084 [17:06<56:41,  3.14it/s]"
          ],
          "name": "stderr"
        },
        {
          "output_type": "stream",
          "text": [
            "Loss:  1.3663413524627686\n"
          ],
          "name": "stdout"
        },
        {
          "output_type": "stream",
          "text": [
            " 19%|█▊        | 2451/13084 [17:28<1:24:37,  2.09it/s]"
          ],
          "name": "stderr"
        },
        {
          "output_type": "stream",
          "text": [
            "Loss:  1.4301493167877197\n"
          ],
          "name": "stdout"
        },
        {
          "output_type": "stream",
          "text": [
            " 19%|█▉        | 2501/13084 [17:50<1:20:15,  2.20it/s]"
          ],
          "name": "stderr"
        },
        {
          "output_type": "stream",
          "text": [
            "Loss:  1.358000636100769\n"
          ],
          "name": "stdout"
        },
        {
          "output_type": "stream",
          "text": [
            " 19%|█▉        | 2551/13084 [18:09<1:13:29,  2.39it/s]"
          ],
          "name": "stderr"
        },
        {
          "output_type": "stream",
          "text": [
            "Loss:  1.4698526859283447\n"
          ],
          "name": "stdout"
        },
        {
          "output_type": "stream",
          "text": [
            " 20%|█▉        | 2601/13084 [18:30<1:10:50,  2.47it/s]"
          ],
          "name": "stderr"
        },
        {
          "output_type": "stream",
          "text": [
            "Loss:  1.4378128051757812\n"
          ],
          "name": "stdout"
        },
        {
          "output_type": "stream",
          "text": [
            " 20%|██        | 2651/13084 [18:52<1:01:41,  2.82it/s]"
          ],
          "name": "stderr"
        },
        {
          "output_type": "stream",
          "text": [
            "Loss:  1.3248547315597534\n"
          ],
          "name": "stdout"
        },
        {
          "output_type": "stream",
          "text": [
            " 21%|██        | 2701/13084 [19:13<1:20:25,  2.15it/s]"
          ],
          "name": "stderr"
        },
        {
          "output_type": "stream",
          "text": [
            "Loss:  1.319665789604187\n"
          ],
          "name": "stdout"
        },
        {
          "output_type": "stream",
          "text": [
            " 21%|██        | 2751/13084 [19:35<1:21:15,  2.12it/s]"
          ],
          "name": "stderr"
        },
        {
          "output_type": "stream",
          "text": [
            "Loss:  1.245493769645691\n"
          ],
          "name": "stdout"
        },
        {
          "output_type": "stream",
          "text": [
            " 21%|██▏       | 2801/13084 [19:57<1:11:39,  2.39it/s]"
          ],
          "name": "stderr"
        },
        {
          "output_type": "stream",
          "text": [
            "Loss:  1.365308403968811\n"
          ],
          "name": "stdout"
        },
        {
          "output_type": "stream",
          "text": [
            " 22%|██▏       | 2851/13084 [20:19<1:22:53,  2.06it/s]"
          ],
          "name": "stderr"
        },
        {
          "output_type": "stream",
          "text": [
            "Loss:  1.3733958005905151\n"
          ],
          "name": "stdout"
        },
        {
          "output_type": "stream",
          "text": [
            " 22%|██▏       | 2901/13084 [20:41<1:31:32,  1.85it/s]"
          ],
          "name": "stderr"
        },
        {
          "output_type": "stream",
          "text": [
            "Loss:  1.36348295211792\n"
          ],
          "name": "stdout"
        },
        {
          "output_type": "stream",
          "text": [
            " 23%|██▎       | 2951/13084 [21:01<1:07:05,  2.52it/s]"
          ],
          "name": "stderr"
        },
        {
          "output_type": "stream",
          "text": [
            "Loss:  1.3438122272491455\n"
          ],
          "name": "stdout"
        },
        {
          "output_type": "stream",
          "text": [
            " 23%|██▎       | 3001/13084 [21:23<1:02:12,  2.70it/s]"
          ],
          "name": "stderr"
        },
        {
          "output_type": "stream",
          "text": [
            "Loss:  1.4262381792068481\n"
          ],
          "name": "stdout"
        },
        {
          "output_type": "stream",
          "text": [
            " 23%|██▎       | 3051/13084 [21:44<1:09:02,  2.42it/s]"
          ],
          "name": "stderr"
        },
        {
          "output_type": "stream",
          "text": [
            "Loss:  1.3311147689819336\n"
          ],
          "name": "stdout"
        },
        {
          "output_type": "stream",
          "text": [
            " 24%|██▎       | 3102/13084 [22:05<54:12,  3.07it/s]  "
          ],
          "name": "stderr"
        },
        {
          "output_type": "stream",
          "text": [
            "Loss:  1.5548685789108276\n"
          ],
          "name": "stdout"
        },
        {
          "output_type": "stream",
          "text": [
            " 24%|██▍       | 3151/13084 [22:25<57:14,  2.89it/s]  "
          ],
          "name": "stderr"
        },
        {
          "output_type": "stream",
          "text": [
            "Loss:  1.2990282773971558\n"
          ],
          "name": "stdout"
        },
        {
          "output_type": "stream",
          "text": [
            " 24%|██▍       | 3201/13084 [22:47<1:03:05,  2.61it/s]"
          ],
          "name": "stderr"
        },
        {
          "output_type": "stream",
          "text": [
            "Loss:  1.5007504224777222\n"
          ],
          "name": "stdout"
        },
        {
          "output_type": "stream",
          "text": [
            " 25%|██▍       | 3251/13084 [23:08<1:20:42,  2.03it/s]"
          ],
          "name": "stderr"
        },
        {
          "output_type": "stream",
          "text": [
            "Loss:  1.4758135080337524\n"
          ],
          "name": "stdout"
        },
        {
          "output_type": "stream",
          "text": [
            " 25%|██▌       | 3301/13084 [23:31<1:00:16,  2.71it/s]"
          ],
          "name": "stderr"
        },
        {
          "output_type": "stream",
          "text": [
            "Loss:  1.4603359699249268\n"
          ],
          "name": "stdout"
        },
        {
          "output_type": "stream",
          "text": [
            " 26%|██▌       | 3351/13084 [23:54<1:17:31,  2.09it/s]"
          ],
          "name": "stderr"
        },
        {
          "output_type": "stream",
          "text": [
            "Loss:  1.2413525581359863\n"
          ],
          "name": "stdout"
        },
        {
          "output_type": "stream",
          "text": [
            " 26%|██▌       | 3401/13084 [24:15<1:00:04,  2.69it/s]"
          ],
          "name": "stderr"
        },
        {
          "output_type": "stream",
          "text": [
            "Loss:  1.3778815269470215\n"
          ],
          "name": "stdout"
        },
        {
          "output_type": "stream",
          "text": [
            " 26%|██▋       | 3451/13084 [24:35<1:01:54,  2.59it/s]"
          ],
          "name": "stderr"
        },
        {
          "output_type": "stream",
          "text": [
            "Loss:  1.4163755178451538\n"
          ],
          "name": "stdout"
        },
        {
          "output_type": "stream",
          "text": [
            " 27%|██▋       | 3501/13084 [24:56<1:10:31,  2.26it/s]"
          ],
          "name": "stderr"
        },
        {
          "output_type": "stream",
          "text": [
            "Loss:  1.3001596927642822\n"
          ],
          "name": "stdout"
        },
        {
          "output_type": "stream",
          "text": [
            " 27%|██▋       | 3551/13084 [25:18<1:12:33,  2.19it/s]"
          ],
          "name": "stderr"
        },
        {
          "output_type": "stream",
          "text": [
            "Loss:  1.4064404964447021\n"
          ],
          "name": "stdout"
        },
        {
          "output_type": "stream",
          "text": [
            " 28%|██▊       | 3601/13084 [25:40<1:25:08,  1.86it/s]"
          ],
          "name": "stderr"
        },
        {
          "output_type": "stream",
          "text": [
            "Loss:  1.3336457014083862\n"
          ],
          "name": "stdout"
        },
        {
          "output_type": "stream",
          "text": [
            " 28%|██▊       | 3651/13084 [26:01<1:08:01,  2.31it/s]"
          ],
          "name": "stderr"
        },
        {
          "output_type": "stream",
          "text": [
            "Loss:  1.3860670328140259\n"
          ],
          "name": "stdout"
        },
        {
          "output_type": "stream",
          "text": [
            " 28%|██▊       | 3701/13084 [26:20<1:02:38,  2.50it/s]"
          ],
          "name": "stderr"
        },
        {
          "output_type": "stream",
          "text": [
            "Loss:  1.3521203994750977\n"
          ],
          "name": "stdout"
        },
        {
          "output_type": "stream",
          "text": [
            " 29%|██▊       | 3751/13084 [26:41<1:02:00,  2.51it/s]"
          ],
          "name": "stderr"
        },
        {
          "output_type": "stream",
          "text": [
            "Loss:  1.3494055271148682\n"
          ],
          "name": "stdout"
        },
        {
          "output_type": "stream",
          "text": [
            " 29%|██▉       | 3801/13084 [27:02<1:01:24,  2.52it/s]"
          ],
          "name": "stderr"
        },
        {
          "output_type": "stream",
          "text": [
            "Loss:  1.4695719480514526\n"
          ],
          "name": "stdout"
        },
        {
          "output_type": "stream",
          "text": [
            " 29%|██▉       | 3851/13084 [27:25<1:13:41,  2.09it/s]"
          ],
          "name": "stderr"
        },
        {
          "output_type": "stream",
          "text": [
            "Loss:  1.3850466012954712\n"
          ],
          "name": "stdout"
        },
        {
          "output_type": "stream",
          "text": [
            " 30%|██▉       | 3901/13084 [27:45<58:46,  2.60it/s]  "
          ],
          "name": "stderr"
        },
        {
          "output_type": "stream",
          "text": [
            "Loss:  1.384658694267273\n"
          ],
          "name": "stdout"
        },
        {
          "output_type": "stream",
          "text": [
            " 30%|███       | 3951/13084 [28:07<1:16:11,  2.00it/s]"
          ],
          "name": "stderr"
        },
        {
          "output_type": "stream",
          "text": [
            "Loss:  1.3937255144119263\n"
          ],
          "name": "stdout"
        },
        {
          "output_type": "stream",
          "text": [
            " 31%|███       | 4001/13084 [28:27<53:22,  2.84it/s]"
          ],
          "name": "stderr"
        },
        {
          "output_type": "stream",
          "text": [
            "Loss:  1.385942816734314\n"
          ],
          "name": "stdout"
        },
        {
          "output_type": "stream",
          "text": [
            " 31%|███       | 4051/13084 [28:48<1:01:23,  2.45it/s]"
          ],
          "name": "stderr"
        },
        {
          "output_type": "stream",
          "text": [
            "Loss:  1.3888064622879028\n"
          ],
          "name": "stdout"
        },
        {
          "output_type": "stream",
          "text": [
            " 31%|███▏      | 4101/13084 [29:09<55:50,  2.68it/s]  "
          ],
          "name": "stderr"
        },
        {
          "output_type": "stream",
          "text": [
            "Loss:  1.3939223289489746\n"
          ],
          "name": "stdout"
        },
        {
          "output_type": "stream",
          "text": [
            " 32%|███▏      | 4151/13084 [29:30<1:10:15,  2.12it/s]"
          ],
          "name": "stderr"
        },
        {
          "output_type": "stream",
          "text": [
            "Loss:  1.3896617889404297\n"
          ],
          "name": "stdout"
        },
        {
          "output_type": "stream",
          "text": [
            " 32%|███▏      | 4201/13084 [29:51<56:13,  2.63it/s]"
          ],
          "name": "stderr"
        },
        {
          "output_type": "stream",
          "text": [
            "Loss:  1.4116336107254028\n"
          ],
          "name": "stdout"
        },
        {
          "output_type": "stream",
          "text": [
            " 32%|███▏      | 4251/13084 [30:12<55:18,  2.66it/s]"
          ],
          "name": "stderr"
        },
        {
          "output_type": "stream",
          "text": [
            "Loss:  1.4181263446807861\n"
          ],
          "name": "stdout"
        },
        {
          "output_type": "stream",
          "text": [
            " 33%|███▎      | 4301/13084 [30:33<51:30,  2.84it/s]"
          ],
          "name": "stderr"
        },
        {
          "output_type": "stream",
          "text": [
            "Loss:  1.6719045639038086\n"
          ],
          "name": "stdout"
        },
        {
          "output_type": "stream",
          "text": [
            " 33%|███▎      | 4352/13084 [30:56<55:42,  2.61it/s]  "
          ],
          "name": "stderr"
        },
        {
          "output_type": "stream",
          "text": [
            "Loss:  1.4527499675750732\n"
          ],
          "name": "stdout"
        },
        {
          "output_type": "stream",
          "text": [
            " 34%|███▎      | 4401/13084 [31:16<1:01:35,  2.35it/s]"
          ],
          "name": "stderr"
        },
        {
          "output_type": "stream",
          "text": [
            "Loss:  1.461653709411621\n"
          ],
          "name": "stdout"
        },
        {
          "output_type": "stream",
          "text": [
            " 34%|███▍      | 4452/13084 [31:37<35:57,  4.00it/s]"
          ],
          "name": "stderr"
        },
        {
          "output_type": "stream",
          "text": [
            "Loss:  1.457280158996582\n"
          ],
          "name": "stdout"
        },
        {
          "output_type": "stream",
          "text": [
            " 34%|███▍      | 4501/13084 [31:58<1:04:40,  2.21it/s]"
          ],
          "name": "stderr"
        },
        {
          "output_type": "stream",
          "text": [
            "Loss:  1.190121054649353\n"
          ],
          "name": "stdout"
        },
        {
          "output_type": "stream",
          "text": [
            " 35%|███▍      | 4551/13084 [32:19<58:23,  2.44it/s]"
          ],
          "name": "stderr"
        },
        {
          "output_type": "stream",
          "text": [
            "Loss:  1.4502047300338745\n"
          ],
          "name": "stdout"
        },
        {
          "output_type": "stream",
          "text": [
            " 35%|███▌      | 4601/13084 [32:39<56:21,  2.51it/s]"
          ],
          "name": "stderr"
        },
        {
          "output_type": "stream",
          "text": [
            "Loss:  1.4787629842758179\n"
          ],
          "name": "stdout"
        },
        {
          "output_type": "stream",
          "text": [
            " 36%|███▌      | 4651/13084 [33:02<1:08:32,  2.05it/s]"
          ],
          "name": "stderr"
        },
        {
          "output_type": "stream",
          "text": [
            "Loss:  1.316023826599121\n"
          ],
          "name": "stdout"
        },
        {
          "output_type": "stream",
          "text": [
            " 36%|███▌      | 4701/13084 [33:23<59:31,  2.35it/s]  "
          ],
          "name": "stderr"
        },
        {
          "output_type": "stream",
          "text": [
            "Loss:  1.5176488161087036\n"
          ],
          "name": "stdout"
        },
        {
          "output_type": "stream",
          "text": [
            " 36%|███▋      | 4751/13084 [33:44<50:36,  2.74it/s]  "
          ],
          "name": "stderr"
        },
        {
          "output_type": "stream",
          "text": [
            "Loss:  1.4324259757995605\n"
          ],
          "name": "stdout"
        },
        {
          "output_type": "stream",
          "text": [
            " 37%|███▋      | 4802/13084 [34:07<56:07,  2.46it/s]  "
          ],
          "name": "stderr"
        },
        {
          "output_type": "stream",
          "text": [
            "Loss:  1.4670473337173462\n"
          ],
          "name": "stdout"
        },
        {
          "output_type": "stream",
          "text": [
            " 37%|███▋      | 4851/13084 [34:28<1:01:45,  2.22it/s]"
          ],
          "name": "stderr"
        },
        {
          "output_type": "stream",
          "text": [
            "Loss:  1.478299856185913\n"
          ],
          "name": "stdout"
        },
        {
          "output_type": "stream",
          "text": [
            " 37%|███▋      | 4901/13084 [34:48<54:38,  2.50it/s]"
          ],
          "name": "stderr"
        },
        {
          "output_type": "stream",
          "text": [
            "Loss:  1.660340666770935\n"
          ],
          "name": "stdout"
        },
        {
          "output_type": "stream",
          "text": [
            " 38%|███▊      | 4951/13084 [35:10<59:06,  2.29it/s]"
          ],
          "name": "stderr"
        },
        {
          "output_type": "stream",
          "text": [
            "Loss:  1.3270353078842163\n"
          ],
          "name": "stdout"
        },
        {
          "output_type": "stream",
          "text": [
            " 38%|███▊      | 5001/13084 [35:31<58:05,  2.32it/s]"
          ],
          "name": "stderr"
        },
        {
          "output_type": "stream",
          "text": [
            "Loss:  1.5027412176132202\n"
          ],
          "name": "stdout"
        },
        {
          "output_type": "stream",
          "text": [
            " 39%|███▊      | 5052/13084 [35:51<43:13,  3.10it/s]"
          ],
          "name": "stderr"
        },
        {
          "output_type": "stream",
          "text": [
            "Loss:  1.342989206314087\n"
          ],
          "name": "stdout"
        },
        {
          "output_type": "stream",
          "text": [
            " 39%|███▉      | 5101/13084 [36:11<46:22,  2.87it/s]"
          ],
          "name": "stderr"
        },
        {
          "output_type": "stream",
          "text": [
            "Loss:  1.4217591285705566\n"
          ],
          "name": "stdout"
        },
        {
          "output_type": "stream",
          "text": [
            " 39%|███▉      | 5151/13084 [36:32<1:09:58,  1.89it/s]"
          ],
          "name": "stderr"
        },
        {
          "output_type": "stream",
          "text": [
            "Loss:  1.5146150588989258\n"
          ],
          "name": "stdout"
        },
        {
          "output_type": "stream",
          "text": [
            " 40%|███▉      | 5201/13084 [36:53<51:34,  2.55it/s]"
          ],
          "name": "stderr"
        },
        {
          "output_type": "stream",
          "text": [
            "Loss:  1.3559423685073853\n"
          ],
          "name": "stdout"
        },
        {
          "output_type": "stream",
          "text": [
            " 40%|████      | 5251/13084 [37:15<59:02,  2.21it/s]"
          ],
          "name": "stderr"
        },
        {
          "output_type": "stream",
          "text": [
            "Loss:  1.409502387046814\n"
          ],
          "name": "stdout"
        },
        {
          "output_type": "stream",
          "text": [
            " 41%|████      | 5301/13084 [37:35<56:37,  2.29it/s]"
          ],
          "name": "stderr"
        },
        {
          "output_type": "stream",
          "text": [
            "Loss:  1.427223563194275\n"
          ],
          "name": "stdout"
        },
        {
          "output_type": "stream",
          "text": [
            " 41%|████      | 5351/13084 [37:55<50:02,  2.58it/s]"
          ],
          "name": "stderr"
        },
        {
          "output_type": "stream",
          "text": [
            "Loss:  1.2064341306686401\n"
          ],
          "name": "stdout"
        },
        {
          "output_type": "stream",
          "text": [
            " 41%|████▏     | 5401/13084 [38:18<1:04:46,  1.98it/s]"
          ],
          "name": "stderr"
        },
        {
          "output_type": "stream",
          "text": [
            "Loss:  1.3038239479064941\n"
          ],
          "name": "stdout"
        },
        {
          "output_type": "stream",
          "text": [
            " 42%|████▏     | 5451/13084 [38:39<55:42,  2.28it/s]"
          ],
          "name": "stderr"
        },
        {
          "output_type": "stream",
          "text": [
            "Loss:  1.2607227563858032\n"
          ],
          "name": "stdout"
        },
        {
          "output_type": "stream",
          "text": [
            " 42%|████▏     | 5501/13084 [39:00<48:08,  2.62it/s]"
          ],
          "name": "stderr"
        },
        {
          "output_type": "stream",
          "text": [
            "Loss:  1.1230331659317017\n"
          ],
          "name": "stdout"
        },
        {
          "output_type": "stream",
          "text": [
            " 42%|████▏     | 5551/13084 [39:23<56:24,  2.23it/s]"
          ],
          "name": "stderr"
        },
        {
          "output_type": "stream",
          "text": [
            "Loss:  1.3900712728500366\n"
          ],
          "name": "stdout"
        },
        {
          "output_type": "stream",
          "text": [
            " 43%|████▎     | 5601/13084 [39:44<50:14,  2.48it/s]"
          ],
          "name": "stderr"
        },
        {
          "output_type": "stream",
          "text": [
            "Loss:  1.4228074550628662\n"
          ],
          "name": "stdout"
        },
        {
          "output_type": "stream",
          "text": [
            " 43%|████▎     | 5651/13084 [40:06<46:54,  2.64it/s]"
          ],
          "name": "stderr"
        },
        {
          "output_type": "stream",
          "text": [
            "Loss:  1.5330513715744019\n"
          ],
          "name": "stdout"
        },
        {
          "output_type": "stream",
          "text": [
            " 44%|████▎     | 5701/13084 [40:28<53:33,  2.30it/s]"
          ],
          "name": "stderr"
        },
        {
          "output_type": "stream",
          "text": [
            "Loss:  1.300577998161316\n"
          ],
          "name": "stdout"
        },
        {
          "output_type": "stream",
          "text": [
            " 44%|████▍     | 5751/13084 [40:51<57:52,  2.11it/s]  "
          ],
          "name": "stderr"
        },
        {
          "output_type": "stream",
          "text": [
            "Loss:  1.260448932647705\n"
          ],
          "name": "stdout"
        },
        {
          "output_type": "stream",
          "text": [
            " 44%|████▍     | 5801/13084 [41:13<48:04,  2.52it/s]"
          ],
          "name": "stderr"
        },
        {
          "output_type": "stream",
          "text": [
            "Loss:  1.567100167274475\n"
          ],
          "name": "stdout"
        },
        {
          "output_type": "stream",
          "text": [
            " 45%|████▍     | 5851/13084 [41:32<46:27,  2.59it/s]"
          ],
          "name": "stderr"
        },
        {
          "output_type": "stream",
          "text": [
            "Loss:  1.3199423551559448\n"
          ],
          "name": "stdout"
        },
        {
          "output_type": "stream",
          "text": [
            " 45%|████▌     | 5901/13084 [41:55<52:37,  2.28it/s]"
          ],
          "name": "stderr"
        },
        {
          "output_type": "stream",
          "text": [
            "Loss:  1.3323204517364502\n"
          ],
          "name": "stdout"
        },
        {
          "output_type": "stream",
          "text": [
            " 45%|████▌     | 5951/13084 [42:15<42:35,  2.79it/s]"
          ],
          "name": "stderr"
        },
        {
          "output_type": "stream",
          "text": [
            "Loss:  1.3412325382232666\n"
          ],
          "name": "stdout"
        },
        {
          "output_type": "stream",
          "text": [
            " 46%|████▌     | 6001/13084 [42:35<57:41,  2.05it/s]"
          ],
          "name": "stderr"
        },
        {
          "output_type": "stream",
          "text": [
            "Loss:  1.3902596235275269\n"
          ],
          "name": "stdout"
        },
        {
          "output_type": "stream",
          "text": [
            " 46%|████▌     | 6051/13084 [42:55<54:03,  2.17it/s]"
          ],
          "name": "stderr"
        },
        {
          "output_type": "stream",
          "text": [
            "Loss:  1.4185203313827515\n"
          ],
          "name": "stdout"
        },
        {
          "output_type": "stream",
          "text": [
            " 47%|████▋     | 6102/13084 [43:16<46:17,  2.51it/s]"
          ],
          "name": "stderr"
        },
        {
          "output_type": "stream",
          "text": [
            "Loss:  1.2926602363586426\n"
          ],
          "name": "stdout"
        },
        {
          "output_type": "stream",
          "text": [
            " 47%|████▋     | 6151/13084 [43:37<53:48,  2.15it/s]"
          ],
          "name": "stderr"
        },
        {
          "output_type": "stream",
          "text": [
            "Loss:  1.4212696552276611\n"
          ],
          "name": "stdout"
        },
        {
          "output_type": "stream",
          "text": [
            " 47%|████▋     | 6201/13084 [43:58<48:38,  2.36it/s]"
          ],
          "name": "stderr"
        },
        {
          "output_type": "stream",
          "text": [
            "Loss:  1.1829071044921875\n"
          ],
          "name": "stdout"
        },
        {
          "output_type": "stream",
          "text": [
            " 48%|████▊     | 6251/13084 [44:19<50:20,  2.26it/s]"
          ],
          "name": "stderr"
        },
        {
          "output_type": "stream",
          "text": [
            "Loss:  1.4210608005523682\n"
          ],
          "name": "stdout"
        },
        {
          "output_type": "stream",
          "text": [
            " 48%|████▊     | 6301/13084 [44:39<40:52,  2.77it/s]"
          ],
          "name": "stderr"
        },
        {
          "output_type": "stream",
          "text": [
            "Loss:  1.485031008720398\n"
          ],
          "name": "stdout"
        },
        {
          "output_type": "stream",
          "text": [
            " 49%|████▊     | 6352/13084 [44:59<37:27,  2.99it/s]"
          ],
          "name": "stderr"
        },
        {
          "output_type": "stream",
          "text": [
            "Loss:  1.560915470123291\n"
          ],
          "name": "stdout"
        },
        {
          "output_type": "stream",
          "text": [
            " 49%|████▉     | 6401/13084 [45:19<45:45,  2.43it/s]"
          ],
          "name": "stderr"
        },
        {
          "output_type": "stream",
          "text": [
            "Loss:  1.3232005834579468\n"
          ],
          "name": "stdout"
        },
        {
          "output_type": "stream",
          "text": [
            " 49%|████▉     | 6451/13084 [45:40<49:26,  2.24it/s]"
          ],
          "name": "stderr"
        },
        {
          "output_type": "stream",
          "text": [
            "Loss:  1.449446201324463\n"
          ],
          "name": "stdout"
        },
        {
          "output_type": "stream",
          "text": [
            " 50%|████▉     | 6502/13084 [46:00<36:33,  3.00it/s]"
          ],
          "name": "stderr"
        },
        {
          "output_type": "stream",
          "text": [
            "Loss:  1.1452194452285767\n"
          ],
          "name": "stdout"
        },
        {
          "output_type": "stream",
          "text": [
            " 50%|█████     | 6551/13084 [46:20<38:35,  2.82it/s]"
          ],
          "name": "stderr"
        },
        {
          "output_type": "stream",
          "text": [
            "Loss:  1.4600268602371216\n"
          ],
          "name": "stdout"
        },
        {
          "output_type": "stream",
          "text": [
            " 50%|█████     | 6601/13084 [46:40<31:12,  3.46it/s]"
          ],
          "name": "stderr"
        },
        {
          "output_type": "stream",
          "text": [
            "Loss:  1.5460903644561768\n"
          ],
          "name": "stdout"
        },
        {
          "output_type": "stream",
          "text": [
            " 51%|█████     | 6651/13084 [47:00<42:38,  2.51it/s]"
          ],
          "name": "stderr"
        },
        {
          "output_type": "stream",
          "text": [
            "Loss:  1.4119044542312622\n"
          ],
          "name": "stdout"
        },
        {
          "output_type": "stream",
          "text": [
            " 51%|█████     | 6701/13084 [47:20<36:18,  2.93it/s]"
          ],
          "name": "stderr"
        },
        {
          "output_type": "stream",
          "text": [
            "Loss:  1.369606375694275\n"
          ],
          "name": "stdout"
        },
        {
          "output_type": "stream",
          "text": [
            " 52%|█████▏    | 6751/13084 [47:41<43:12,  2.44it/s]"
          ],
          "name": "stderr"
        },
        {
          "output_type": "stream",
          "text": [
            "Loss:  1.6466751098632812\n"
          ],
          "name": "stdout"
        },
        {
          "output_type": "stream",
          "text": [
            " 52%|█████▏    | 6801/13084 [48:02<44:40,  2.34it/s]"
          ],
          "name": "stderr"
        },
        {
          "output_type": "stream",
          "text": [
            "Loss:  1.3520090579986572\n"
          ],
          "name": "stdout"
        },
        {
          "output_type": "stream",
          "text": [
            " 52%|█████▏    | 6851/13084 [48:23<51:20,  2.02it/s]"
          ],
          "name": "stderr"
        },
        {
          "output_type": "stream",
          "text": [
            "Loss:  1.537278413772583\n"
          ],
          "name": "stdout"
        },
        {
          "output_type": "stream",
          "text": [
            " 53%|█████▎    | 6901/13084 [48:45<38:41,  2.66it/s]"
          ],
          "name": "stderr"
        },
        {
          "output_type": "stream",
          "text": [
            "Loss:  1.489490032196045\n"
          ],
          "name": "stdout"
        },
        {
          "output_type": "stream",
          "text": [
            " 53%|█████▎    | 6951/13084 [49:06<43:45,  2.34it/s]"
          ],
          "name": "stderr"
        },
        {
          "output_type": "stream",
          "text": [
            "Loss:  1.6152169704437256\n"
          ],
          "name": "stdout"
        },
        {
          "output_type": "stream",
          "text": [
            " 54%|█████▎    | 7001/13084 [49:30<44:38,  2.27it/s]"
          ],
          "name": "stderr"
        },
        {
          "output_type": "stream",
          "text": [
            "Loss:  1.4518705606460571\n"
          ],
          "name": "stdout"
        },
        {
          "output_type": "stream",
          "text": [
            " 54%|█████▍    | 7051/13084 [49:51<40:09,  2.50it/s]"
          ],
          "name": "stderr"
        },
        {
          "output_type": "stream",
          "text": [
            "Loss:  1.5875394344329834\n"
          ],
          "name": "stdout"
        },
        {
          "output_type": "stream",
          "text": [
            " 54%|█████▍    | 7101/13084 [50:13<46:15,  2.16it/s]"
          ],
          "name": "stderr"
        },
        {
          "output_type": "stream",
          "text": [
            "Loss:  1.3102134466171265\n"
          ],
          "name": "stdout"
        },
        {
          "output_type": "stream",
          "text": [
            " 55%|█████▍    | 7151/13084 [50:34<42:28,  2.33it/s]"
          ],
          "name": "stderr"
        },
        {
          "output_type": "stream",
          "text": [
            "Loss:  1.5425370931625366\n"
          ],
          "name": "stdout"
        },
        {
          "output_type": "stream",
          "text": [
            " 55%|█████▌    | 7201/13084 [50:55<35:37,  2.75it/s]"
          ],
          "name": "stderr"
        },
        {
          "output_type": "stream",
          "text": [
            "Loss:  1.6175347566604614\n"
          ],
          "name": "stdout"
        },
        {
          "output_type": "stream",
          "text": [
            " 55%|█████▌    | 7251/13084 [51:18<35:18,  2.75it/s]"
          ],
          "name": "stderr"
        },
        {
          "output_type": "stream",
          "text": [
            "Loss:  1.2391369342803955\n"
          ],
          "name": "stdout"
        },
        {
          "output_type": "stream",
          "text": [
            " 56%|█████▌    | 7301/13084 [51:38<38:39,  2.49it/s]"
          ],
          "name": "stderr"
        },
        {
          "output_type": "stream",
          "text": [
            "Loss:  1.103845477104187\n"
          ],
          "name": "stdout"
        },
        {
          "output_type": "stream",
          "text": [
            " 56%|█████▌    | 7352/13084 [51:58<35:58,  2.66it/s]"
          ],
          "name": "stderr"
        },
        {
          "output_type": "stream",
          "text": [
            "Loss:  1.4184887409210205\n"
          ],
          "name": "stdout"
        },
        {
          "output_type": "stream",
          "text": [
            " 57%|█████▋    | 7401/13084 [52:18<36:57,  2.56it/s]"
          ],
          "name": "stderr"
        },
        {
          "output_type": "stream",
          "text": [
            "Loss:  1.3935571908950806\n"
          ],
          "name": "stdout"
        },
        {
          "output_type": "stream",
          "text": [
            " 57%|█████▋    | 7451/13084 [52:37<27:24,  3.43it/s]"
          ],
          "name": "stderr"
        },
        {
          "output_type": "stream",
          "text": [
            "Loss:  1.6041202545166016\n"
          ],
          "name": "stdout"
        },
        {
          "output_type": "stream",
          "text": [
            " 57%|█████▋    | 7501/13084 [52:58<34:37,  2.69it/s]"
          ],
          "name": "stderr"
        },
        {
          "output_type": "stream",
          "text": [
            "Loss:  1.4064629077911377\n"
          ],
          "name": "stdout"
        },
        {
          "output_type": "stream",
          "text": [
            " 58%|█████▊    | 7551/13084 [53:19<46:20,  1.99it/s]"
          ],
          "name": "stderr"
        },
        {
          "output_type": "stream",
          "text": [
            "Loss:  1.4032018184661865\n"
          ],
          "name": "stdout"
        },
        {
          "output_type": "stream",
          "text": [
            " 58%|█████▊    | 7601/13084 [53:40<40:13,  2.27it/s]"
          ],
          "name": "stderr"
        },
        {
          "output_type": "stream",
          "text": [
            "Loss:  1.4827696084976196\n"
          ],
          "name": "stdout"
        },
        {
          "output_type": "stream",
          "text": [
            " 58%|█████▊    | 7651/13084 [54:00<39:26,  2.30it/s]"
          ],
          "name": "stderr"
        },
        {
          "output_type": "stream",
          "text": [
            "Loss:  1.4206500053405762\n"
          ],
          "name": "stdout"
        },
        {
          "output_type": "stream",
          "text": [
            " 59%|█████▉    | 7701/13084 [54:21<43:42,  2.05it/s]"
          ],
          "name": "stderr"
        },
        {
          "output_type": "stream",
          "text": [
            "Loss:  1.495142936706543\n"
          ],
          "name": "stdout"
        },
        {
          "output_type": "stream",
          "text": [
            " 59%|█████▉    | 7751/13084 [54:40<34:01,  2.61it/s]"
          ],
          "name": "stderr"
        },
        {
          "output_type": "stream",
          "text": [
            "Loss:  1.2465908527374268\n"
          ],
          "name": "stdout"
        },
        {
          "output_type": "stream",
          "text": [
            " 60%|█████▉    | 7801/13084 [55:02<43:16,  2.03it/s]"
          ],
          "name": "stderr"
        },
        {
          "output_type": "stream",
          "text": [
            "Loss:  1.3944432735443115\n"
          ],
          "name": "stdout"
        },
        {
          "output_type": "stream",
          "text": [
            " 60%|██████    | 7852/13084 [55:24<27:38,  3.15it/s]"
          ],
          "name": "stderr"
        },
        {
          "output_type": "stream",
          "text": [
            "Loss:  1.1593883037567139\n"
          ],
          "name": "stdout"
        },
        {
          "output_type": "stream",
          "text": [
            " 60%|██████    | 7901/13084 [55:45<34:47,  2.48it/s]"
          ],
          "name": "stderr"
        },
        {
          "output_type": "stream",
          "text": [
            "Loss:  1.507773995399475\n"
          ],
          "name": "stdout"
        },
        {
          "output_type": "stream",
          "text": [
            " 61%|██████    | 7951/13084 [56:06<39:43,  2.15it/s]"
          ],
          "name": "stderr"
        },
        {
          "output_type": "stream",
          "text": [
            "Loss:  1.369600772857666\n"
          ],
          "name": "stdout"
        },
        {
          "output_type": "stream",
          "text": [
            " 61%|██████    | 8001/13084 [56:28<39:07,  2.17it/s]"
          ],
          "name": "stderr"
        },
        {
          "output_type": "stream",
          "text": [
            "Loss:  1.411260724067688\n"
          ],
          "name": "stdout"
        },
        {
          "output_type": "stream",
          "text": [
            " 62%|██████▏   | 8051/13084 [56:49<35:36,  2.36it/s]"
          ],
          "name": "stderr"
        },
        {
          "output_type": "stream",
          "text": [
            "Loss:  1.3279772996902466\n"
          ],
          "name": "stdout"
        },
        {
          "output_type": "stream",
          "text": [
            " 62%|██████▏   | 8101/13084 [57:09<36:20,  2.29it/s]"
          ],
          "name": "stderr"
        },
        {
          "output_type": "stream",
          "text": [
            "Loss:  1.3824459314346313\n"
          ],
          "name": "stdout"
        },
        {
          "output_type": "stream",
          "text": [
            " 62%|██████▏   | 8151/13084 [57:30<31:31,  2.61it/s]"
          ],
          "name": "stderr"
        },
        {
          "output_type": "stream",
          "text": [
            "Loss:  1.303649663925171\n"
          ],
          "name": "stdout"
        },
        {
          "output_type": "stream",
          "text": [
            " 63%|██████▎   | 8201/13084 [57:50<31:09,  2.61it/s]"
          ],
          "name": "stderr"
        },
        {
          "output_type": "stream",
          "text": [
            "Loss:  1.3706486225128174\n"
          ],
          "name": "stdout"
        },
        {
          "output_type": "stream",
          "text": [
            " 63%|██████▎   | 8251/13084 [58:11<40:28,  1.99it/s]"
          ],
          "name": "stderr"
        },
        {
          "output_type": "stream",
          "text": [
            "Loss:  1.1828032732009888\n"
          ],
          "name": "stdout"
        },
        {
          "output_type": "stream",
          "text": [
            " 63%|██████▎   | 8301/13084 [58:32<29:45,  2.68it/s]"
          ],
          "name": "stderr"
        },
        {
          "output_type": "stream",
          "text": [
            "Loss:  1.4183671474456787\n"
          ],
          "name": "stdout"
        },
        {
          "output_type": "stream",
          "text": [
            " 64%|██████▍   | 8351/13084 [58:53<25:36,  3.08it/s]"
          ],
          "name": "stderr"
        },
        {
          "output_type": "stream",
          "text": [
            "Loss:  1.3949248790740967\n"
          ],
          "name": "stdout"
        },
        {
          "output_type": "stream",
          "text": [
            " 64%|██████▍   | 8401/13084 [59:14<29:38,  2.63it/s]"
          ],
          "name": "stderr"
        },
        {
          "output_type": "stream",
          "text": [
            "Loss:  1.370505928993225\n"
          ],
          "name": "stdout"
        },
        {
          "output_type": "stream",
          "text": [
            " 65%|██████▍   | 8451/13084 [59:35<37:10,  2.08it/s]"
          ],
          "name": "stderr"
        },
        {
          "output_type": "stream",
          "text": [
            "Loss:  1.4426721334457397\n"
          ],
          "name": "stdout"
        },
        {
          "output_type": "stream",
          "text": [
            " 65%|██████▍   | 8501/13084 [59:55<27:21,  2.79it/s]"
          ],
          "name": "stderr"
        },
        {
          "output_type": "stream",
          "text": [
            "Loss:  1.3169413805007935\n"
          ],
          "name": "stdout"
        },
        {
          "output_type": "stream",
          "text": [
            " 65%|██████▌   | 8551/13084 [1:00:18<32:08,  2.35it/s]"
          ],
          "name": "stderr"
        },
        {
          "output_type": "stream",
          "text": [
            "Loss:  1.4012105464935303\n"
          ],
          "name": "stdout"
        },
        {
          "output_type": "stream",
          "text": [
            " 66%|██████▌   | 8601/13084 [1:00:39<28:28,  2.62it/s]"
          ],
          "name": "stderr"
        },
        {
          "output_type": "stream",
          "text": [
            "Loss:  1.4254590272903442\n"
          ],
          "name": "stdout"
        },
        {
          "output_type": "stream",
          "text": [
            " 66%|██████▌   | 8651/13084 [1:01:00<33:16,  2.22it/s]"
          ],
          "name": "stderr"
        },
        {
          "output_type": "stream",
          "text": [
            "Loss:  1.3059662580490112\n"
          ],
          "name": "stdout"
        },
        {
          "output_type": "stream",
          "text": [
            " 67%|██████▋   | 8701/13084 [1:01:21<27:04,  2.70it/s]"
          ],
          "name": "stderr"
        },
        {
          "output_type": "stream",
          "text": [
            "Loss:  1.286434531211853\n"
          ],
          "name": "stdout"
        },
        {
          "output_type": "stream",
          "text": [
            " 67%|██████▋   | 8751/13084 [1:01:42<27:41,  2.61it/s]"
          ],
          "name": "stderr"
        },
        {
          "output_type": "stream",
          "text": [
            "Loss:  1.4099167585372925\n"
          ],
          "name": "stdout"
        },
        {
          "output_type": "stream",
          "text": [
            " 67%|██████▋   | 8801/13084 [1:02:02<28:04,  2.54it/s]"
          ],
          "name": "stderr"
        },
        {
          "output_type": "stream",
          "text": [
            "Loss:  1.5052008628845215\n"
          ],
          "name": "stdout"
        },
        {
          "output_type": "stream",
          "text": [
            " 68%|██████▊   | 8851/13084 [1:02:22<26:44,  2.64it/s]"
          ],
          "name": "stderr"
        },
        {
          "output_type": "stream",
          "text": [
            "Loss:  1.4199590682983398\n"
          ],
          "name": "stdout"
        },
        {
          "output_type": "stream",
          "text": [
            " 68%|██████▊   | 8901/13084 [1:02:42<23:31,  2.96it/s]"
          ],
          "name": "stderr"
        },
        {
          "output_type": "stream",
          "text": [
            "Loss:  1.3813974857330322\n"
          ],
          "name": "stdout"
        },
        {
          "output_type": "stream",
          "text": [
            " 68%|██████▊   | 8951/13084 [1:03:03<27:21,  2.52it/s]"
          ],
          "name": "stderr"
        },
        {
          "output_type": "stream",
          "text": [
            "Loss:  1.1887730360031128\n"
          ],
          "name": "stdout"
        },
        {
          "output_type": "stream",
          "text": [
            " 69%|██████▉   | 9001/13084 [1:03:24<25:19,  2.69it/s]"
          ],
          "name": "stderr"
        },
        {
          "output_type": "stream",
          "text": [
            "Loss:  1.5110132694244385\n"
          ],
          "name": "stdout"
        },
        {
          "output_type": "stream",
          "text": [
            " 69%|██████▉   | 9051/13084 [1:03:45<35:22,  1.90it/s]"
          ],
          "name": "stderr"
        },
        {
          "output_type": "stream",
          "text": [
            "Loss:  1.4778701066970825\n"
          ],
          "name": "stdout"
        },
        {
          "output_type": "stream",
          "text": [
            " 70%|██████▉   | 9101/13084 [1:04:05<23:44,  2.80it/s]"
          ],
          "name": "stderr"
        },
        {
          "output_type": "stream",
          "text": [
            "Loss:  1.2992830276489258\n"
          ],
          "name": "stdout"
        },
        {
          "output_type": "stream",
          "text": [
            " 70%|██████▉   | 9152/13084 [1:04:27<24:18,  2.70it/s]"
          ],
          "name": "stderr"
        },
        {
          "output_type": "stream",
          "text": [
            "Loss:  1.2216107845306396\n"
          ],
          "name": "stdout"
        },
        {
          "output_type": "stream",
          "text": [
            " 70%|███████   | 9201/13084 [1:04:47<26:48,  2.41it/s]"
          ],
          "name": "stderr"
        },
        {
          "output_type": "stream",
          "text": [
            "Loss:  1.3584803342819214\n"
          ],
          "name": "stdout"
        },
        {
          "output_type": "stream",
          "text": [
            " 71%|███████   | 9251/13084 [1:05:06<25:15,  2.53it/s]"
          ],
          "name": "stderr"
        },
        {
          "output_type": "stream",
          "text": [
            "Loss:  1.3603063821792603\n"
          ],
          "name": "stdout"
        },
        {
          "output_type": "stream",
          "text": [
            " 71%|███████   | 9301/13084 [1:05:26<30:57,  2.04it/s]"
          ],
          "name": "stderr"
        },
        {
          "output_type": "stream",
          "text": [
            "Loss:  1.4495630264282227\n"
          ],
          "name": "stdout"
        },
        {
          "output_type": "stream",
          "text": [
            " 71%|███████▏  | 9351/13084 [1:05:46<22:50,  2.72it/s]"
          ],
          "name": "stderr"
        },
        {
          "output_type": "stream",
          "text": [
            "Loss:  1.2803186178207397\n"
          ],
          "name": "stdout"
        },
        {
          "output_type": "stream",
          "text": [
            " 72%|███████▏  | 9401/13084 [1:06:07<28:44,  2.14it/s]"
          ],
          "name": "stderr"
        },
        {
          "output_type": "stream",
          "text": [
            "Loss:  1.5364747047424316\n"
          ],
          "name": "stdout"
        },
        {
          "output_type": "stream",
          "text": [
            " 72%|███████▏  | 9451/13084 [1:06:29<26:52,  2.25it/s]"
          ],
          "name": "stderr"
        },
        {
          "output_type": "stream",
          "text": [
            "Loss:  1.426679253578186\n"
          ],
          "name": "stdout"
        },
        {
          "output_type": "stream",
          "text": [
            " 73%|███████▎  | 9501/13084 [1:06:47<19:42,  3.03it/s]"
          ],
          "name": "stderr"
        },
        {
          "output_type": "stream",
          "text": [
            "Loss:  1.2854396104812622\n"
          ],
          "name": "stdout"
        },
        {
          "output_type": "stream",
          "text": [
            " 73%|███████▎  | 9551/13084 [1:07:08<20:52,  2.82it/s]"
          ],
          "name": "stderr"
        },
        {
          "output_type": "stream",
          "text": [
            "Loss:  1.2510945796966553\n"
          ],
          "name": "stdout"
        },
        {
          "output_type": "stream",
          "text": [
            " 73%|███████▎  | 9601/13084 [1:07:27<20:45,  2.80it/s]"
          ],
          "name": "stderr"
        },
        {
          "output_type": "stream",
          "text": [
            "Loss:  1.434861421585083\n"
          ],
          "name": "stdout"
        },
        {
          "output_type": "stream",
          "text": [
            " 74%|███████▍  | 9651/13084 [1:07:48<19:33,  2.93it/s]"
          ],
          "name": "stderr"
        },
        {
          "output_type": "stream",
          "text": [
            "Loss:  1.364066243171692\n"
          ],
          "name": "stdout"
        },
        {
          "output_type": "stream",
          "text": [
            " 74%|███████▍  | 9701/13084 [1:08:09<25:39,  2.20it/s]"
          ],
          "name": "stderr"
        },
        {
          "output_type": "stream",
          "text": [
            "Loss:  1.2415149211883545\n"
          ],
          "name": "stdout"
        },
        {
          "output_type": "stream",
          "text": [
            " 75%|███████▍  | 9751/13084 [1:08:30<22:12,  2.50it/s]"
          ],
          "name": "stderr"
        },
        {
          "output_type": "stream",
          "text": [
            "Loss:  1.3074288368225098\n"
          ],
          "name": "stdout"
        },
        {
          "output_type": "stream",
          "text": [
            " 75%|███████▍  | 9801/13084 [1:08:52<27:48,  1.97it/s]"
          ],
          "name": "stderr"
        },
        {
          "output_type": "stream",
          "text": [
            "Loss:  1.3723617792129517\n"
          ],
          "name": "stdout"
        },
        {
          "output_type": "stream",
          "text": [
            " 75%|███████▌  | 9851/13084 [1:09:13<21:06,  2.55it/s]"
          ],
          "name": "stderr"
        },
        {
          "output_type": "stream",
          "text": [
            "Loss:  1.378569483757019\n"
          ],
          "name": "stdout"
        },
        {
          "output_type": "stream",
          "text": [
            " 76%|███████▌  | 9901/13084 [1:09:34<18:29,  2.87it/s]"
          ],
          "name": "stderr"
        },
        {
          "output_type": "stream",
          "text": [
            "Loss:  1.3365163803100586\n"
          ],
          "name": "stdout"
        },
        {
          "output_type": "stream",
          "text": [
            " 76%|███████▌  | 9951/13084 [1:09:56<20:52,  2.50it/s]"
          ],
          "name": "stderr"
        },
        {
          "output_type": "stream",
          "text": [
            "Loss:  1.4706472158432007\n"
          ],
          "name": "stdout"
        },
        {
          "output_type": "stream",
          "text": [
            " 76%|███████▋  | 10001/13084 [1:10:17<16:58,  3.03it/s]"
          ],
          "name": "stderr"
        },
        {
          "output_type": "stream",
          "text": [
            "Loss:  1.2772071361541748\n"
          ],
          "name": "stdout"
        },
        {
          "output_type": "stream",
          "text": [
            " 77%|███████▋  | 10051/13084 [1:10:37<21:00,  2.41it/s]"
          ],
          "name": "stderr"
        },
        {
          "output_type": "stream",
          "text": [
            "Loss:  1.349145531654358\n"
          ],
          "name": "stdout"
        },
        {
          "output_type": "stream",
          "text": [
            " 77%|███████▋  | 10101/13084 [1:10:59<22:07,  2.25it/s]"
          ],
          "name": "stderr"
        },
        {
          "output_type": "stream",
          "text": [
            "Loss:  1.3543171882629395\n"
          ],
          "name": "stdout"
        },
        {
          "output_type": "stream",
          "text": [
            " 78%|███████▊  | 10151/13084 [1:11:21<16:42,  2.93it/s]"
          ],
          "name": "stderr"
        },
        {
          "output_type": "stream",
          "text": [
            "Loss:  1.4050084352493286\n"
          ],
          "name": "stdout"
        },
        {
          "output_type": "stream",
          "text": [
            " 78%|███████▊  | 10201/13084 [1:11:42<19:27,  2.47it/s]"
          ],
          "name": "stderr"
        },
        {
          "output_type": "stream",
          "text": [
            "Loss:  1.3561269044876099\n"
          ],
          "name": "stdout"
        },
        {
          "output_type": "stream",
          "text": [
            " 78%|███████▊  | 10251/13084 [1:12:03<19:32,  2.42it/s]"
          ],
          "name": "stderr"
        },
        {
          "output_type": "stream",
          "text": [
            "Loss:  1.2947261333465576\n"
          ],
          "name": "stdout"
        },
        {
          "output_type": "stream",
          "text": [
            " 79%|███████▊  | 10301/13084 [1:12:25<18:30,  2.51it/s]"
          ],
          "name": "stderr"
        },
        {
          "output_type": "stream",
          "text": [
            "Loss:  1.2836244106292725\n"
          ],
          "name": "stdout"
        },
        {
          "output_type": "stream",
          "text": [
            " 79%|███████▉  | 10351/13084 [1:12:46<20:44,  2.20it/s]"
          ],
          "name": "stderr"
        },
        {
          "output_type": "stream",
          "text": [
            "Loss:  1.4191792011260986\n"
          ],
          "name": "stdout"
        },
        {
          "output_type": "stream",
          "text": [
            " 79%|███████▉  | 10401/13084 [1:13:07<13:30,  3.31it/s]"
          ],
          "name": "stderr"
        },
        {
          "output_type": "stream",
          "text": [
            "Loss:  1.6942788362503052\n"
          ],
          "name": "stdout"
        },
        {
          "output_type": "stream",
          "text": [
            " 80%|███████▉  | 10451/13084 [1:13:29<18:24,  2.38it/s]"
          ],
          "name": "stderr"
        },
        {
          "output_type": "stream",
          "text": [
            "Loss:  1.4187331199645996\n"
          ],
          "name": "stdout"
        },
        {
          "output_type": "stream",
          "text": [
            " 80%|████████  | 10501/13084 [1:13:51<16:19,  2.64it/s]"
          ],
          "name": "stderr"
        },
        {
          "output_type": "stream",
          "text": [
            "Loss:  1.3588314056396484\n"
          ],
          "name": "stdout"
        },
        {
          "output_type": "stream",
          "text": [
            " 81%|████████  | 10551/13084 [1:14:12<18:12,  2.32it/s]"
          ],
          "name": "stderr"
        },
        {
          "output_type": "stream",
          "text": [
            "Loss:  1.3939234018325806\n"
          ],
          "name": "stdout"
        },
        {
          "output_type": "stream",
          "text": [
            " 81%|████████  | 10601/13084 [1:14:35<19:24,  2.13it/s]"
          ],
          "name": "stderr"
        },
        {
          "output_type": "stream",
          "text": [
            "Loss:  1.309752345085144\n"
          ],
          "name": "stdout"
        },
        {
          "output_type": "stream",
          "text": [
            " 81%|████████▏ | 10651/13084 [1:14:57<14:25,  2.81it/s]"
          ],
          "name": "stderr"
        },
        {
          "output_type": "stream",
          "text": [
            "Loss:  1.4117586612701416\n"
          ],
          "name": "stdout"
        },
        {
          "output_type": "stream",
          "text": [
            " 82%|████████▏ | 10701/13084 [1:15:19<18:12,  2.18it/s]"
          ],
          "name": "stderr"
        },
        {
          "output_type": "stream",
          "text": [
            "Loss:  1.3706053495407104\n"
          ],
          "name": "stdout"
        },
        {
          "output_type": "stream",
          "text": [
            " 82%|████████▏ | 10751/13084 [1:15:42<20:10,  1.93it/s]"
          ],
          "name": "stderr"
        },
        {
          "output_type": "stream",
          "text": [
            "Loss:  1.3047584295272827\n"
          ],
          "name": "stdout"
        },
        {
          "output_type": "stream",
          "text": [
            " 83%|████████▎ | 10801/13084 [1:16:05<16:15,  2.34it/s]"
          ],
          "name": "stderr"
        },
        {
          "output_type": "stream",
          "text": [
            "Loss:  1.4030593633651733\n"
          ],
          "name": "stdout"
        },
        {
          "output_type": "stream",
          "text": [
            " 83%|████████▎ | 10851/13084 [1:16:28<15:41,  2.37it/s]"
          ],
          "name": "stderr"
        },
        {
          "output_type": "stream",
          "text": [
            "Loss:  1.367300033569336\n"
          ],
          "name": "stdout"
        },
        {
          "output_type": "stream",
          "text": [
            " 83%|████████▎ | 10901/13084 [1:16:49<14:21,  2.53it/s]"
          ],
          "name": "stderr"
        },
        {
          "output_type": "stream",
          "text": [
            "Loss:  1.5100880861282349\n"
          ],
          "name": "stdout"
        },
        {
          "output_type": "stream",
          "text": [
            " 84%|████████▎ | 10951/13084 [1:17:13<15:31,  2.29it/s]"
          ],
          "name": "stderr"
        },
        {
          "output_type": "stream",
          "text": [
            "Loss:  1.4540106058120728\n"
          ],
          "name": "stdout"
        },
        {
          "output_type": "stream",
          "text": [
            " 84%|████████▍ | 11001/13084 [1:17:35<16:53,  2.05it/s]"
          ],
          "name": "stderr"
        },
        {
          "output_type": "stream",
          "text": [
            "Loss:  1.1763279438018799\n"
          ],
          "name": "stdout"
        },
        {
          "output_type": "stream",
          "text": [
            " 84%|████████▍ | 11051/13084 [1:17:57<14:17,  2.37it/s]"
          ],
          "name": "stderr"
        },
        {
          "output_type": "stream",
          "text": [
            "Loss:  1.3666743040084839\n"
          ],
          "name": "stdout"
        },
        {
          "output_type": "stream",
          "text": [
            " 85%|████████▍ | 11101/13084 [1:18:19<12:28,  2.65it/s]"
          ],
          "name": "stderr"
        },
        {
          "output_type": "stream",
          "text": [
            "Loss:  1.4951908588409424\n"
          ],
          "name": "stdout"
        },
        {
          "output_type": "stream",
          "text": [
            " 85%|████████▌ | 11151/13084 [1:18:41<11:03,  2.91it/s]"
          ],
          "name": "stderr"
        },
        {
          "output_type": "stream",
          "text": [
            "Loss:  1.667292833328247\n"
          ],
          "name": "stdout"
        },
        {
          "output_type": "stream",
          "text": [
            " 86%|████████▌ | 11201/13084 [1:19:03<12:15,  2.56it/s]"
          ],
          "name": "stderr"
        },
        {
          "output_type": "stream",
          "text": [
            "Loss:  1.3652281761169434\n"
          ],
          "name": "stdout"
        },
        {
          "output_type": "stream",
          "text": [
            " 86%|████████▌ | 11252/13084 [1:19:25<12:18,  2.48it/s]"
          ],
          "name": "stderr"
        },
        {
          "output_type": "stream",
          "text": [
            "Loss:  1.2712769508361816\n"
          ],
          "name": "stdout"
        },
        {
          "output_type": "stream",
          "text": [
            " 86%|████████▋ | 11302/13084 [1:19:46<10:15,  2.90it/s]"
          ],
          "name": "stderr"
        },
        {
          "output_type": "stream",
          "text": [
            "Loss:  1.4060649871826172\n"
          ],
          "name": "stdout"
        },
        {
          "output_type": "stream",
          "text": [
            " 87%|████████▋ | 11351/13084 [1:20:09<13:47,  2.09it/s]"
          ],
          "name": "stderr"
        },
        {
          "output_type": "stream",
          "text": [
            "Loss:  1.4556552171707153\n"
          ],
          "name": "stdout"
        },
        {
          "output_type": "stream",
          "text": [
            " 87%|████████▋ | 11401/13084 [1:20:30<13:21,  2.10it/s]"
          ],
          "name": "stderr"
        },
        {
          "output_type": "stream",
          "text": [
            "Loss:  1.431600570678711\n"
          ],
          "name": "stdout"
        },
        {
          "output_type": "stream",
          "text": [
            " 88%|████████▊ | 11451/13084 [1:20:52<11:42,  2.32it/s]"
          ],
          "name": "stderr"
        },
        {
          "output_type": "stream",
          "text": [
            "Loss:  1.4311676025390625\n"
          ],
          "name": "stdout"
        },
        {
          "output_type": "stream",
          "text": [
            " 88%|████████▊ | 11501/13084 [1:21:14<12:40,  2.08it/s]"
          ],
          "name": "stderr"
        },
        {
          "output_type": "stream",
          "text": [
            "Loss:  1.4211468696594238\n"
          ],
          "name": "stdout"
        },
        {
          "output_type": "stream",
          "text": [
            " 88%|████████▊ | 11551/13084 [1:21:38<12:32,  2.04it/s]"
          ],
          "name": "stderr"
        },
        {
          "output_type": "stream",
          "text": [
            "Loss:  1.3038240671157837\n"
          ],
          "name": "stdout"
        },
        {
          "output_type": "stream",
          "text": [
            " 89%|████████▊ | 11601/13084 [1:22:00<09:18,  2.66it/s]"
          ],
          "name": "stderr"
        },
        {
          "output_type": "stream",
          "text": [
            "Loss:  1.509582757949829\n"
          ],
          "name": "stdout"
        },
        {
          "output_type": "stream",
          "text": [
            " 89%|████████▉ | 11651/13084 [1:22:22<11:03,  2.16it/s]"
          ],
          "name": "stderr"
        },
        {
          "output_type": "stream",
          "text": [
            "Loss:  1.3571746349334717\n"
          ],
          "name": "stdout"
        },
        {
          "output_type": "stream",
          "text": [
            " 89%|████████▉ | 11702/13084 [1:22:43<08:50,  2.60it/s]"
          ],
          "name": "stderr"
        },
        {
          "output_type": "stream",
          "text": [
            "Loss:  1.3922111988067627\n"
          ],
          "name": "stdout"
        },
        {
          "output_type": "stream",
          "text": [
            " 90%|████████▉ | 11751/13084 [1:23:03<08:22,  2.66it/s]"
          ],
          "name": "stderr"
        },
        {
          "output_type": "stream",
          "text": [
            "Loss:  1.4182422161102295\n"
          ],
          "name": "stdout"
        },
        {
          "output_type": "stream",
          "text": [
            " 90%|█████████ | 11801/13084 [1:23:24<08:45,  2.44it/s]"
          ],
          "name": "stderr"
        },
        {
          "output_type": "stream",
          "text": [
            "Loss:  1.5667829513549805\n"
          ],
          "name": "stdout"
        },
        {
          "output_type": "stream",
          "text": [
            " 91%|█████████ | 11851/13084 [1:23:46<10:03,  2.04it/s]"
          ],
          "name": "stderr"
        },
        {
          "output_type": "stream",
          "text": [
            "Loss:  1.4226857423782349\n"
          ],
          "name": "stdout"
        },
        {
          "output_type": "stream",
          "text": [
            " 91%|█████████ | 11901/13084 [1:24:08<06:20,  3.11it/s]"
          ],
          "name": "stderr"
        },
        {
          "output_type": "stream",
          "text": [
            "Loss:  1.5098296403884888\n"
          ],
          "name": "stdout"
        },
        {
          "output_type": "stream",
          "text": [
            " 91%|█████████▏| 11951/13084 [1:24:29<08:26,  2.24it/s]"
          ],
          "name": "stderr"
        },
        {
          "output_type": "stream",
          "text": [
            "Loss:  1.5239797830581665\n"
          ],
          "name": "stdout"
        },
        {
          "output_type": "stream",
          "text": [
            " 92%|█████████▏| 12001/13084 [1:24:50<07:44,  2.33it/s]"
          ],
          "name": "stderr"
        },
        {
          "output_type": "stream",
          "text": [
            "Loss:  1.317548394203186\n"
          ],
          "name": "stdout"
        },
        {
          "output_type": "stream",
          "text": [
            " 92%|█████████▏| 12051/13084 [1:25:12<08:44,  1.97it/s]"
          ],
          "name": "stderr"
        },
        {
          "output_type": "stream",
          "text": [
            "Loss:  1.5279674530029297\n"
          ],
          "name": "stdout"
        },
        {
          "output_type": "stream",
          "text": [
            " 92%|█████████▏| 12101/13084 [1:25:34<06:19,  2.59it/s]"
          ],
          "name": "stderr"
        },
        {
          "output_type": "stream",
          "text": [
            "Loss:  1.3929944038391113\n"
          ],
          "name": "stdout"
        },
        {
          "output_type": "stream",
          "text": [
            " 93%|█████████▎| 12151/13084 [1:25:55<06:27,  2.41it/s]"
          ],
          "name": "stderr"
        },
        {
          "output_type": "stream",
          "text": [
            "Loss:  1.4262113571166992\n"
          ],
          "name": "stdout"
        },
        {
          "output_type": "stream",
          "text": [
            " 93%|█████████▎| 12201/13084 [1:26:16<05:43,  2.57it/s]"
          ],
          "name": "stderr"
        },
        {
          "output_type": "stream",
          "text": [
            "Loss:  1.461207628250122\n"
          ],
          "name": "stdout"
        },
        {
          "output_type": "stream",
          "text": [
            " 94%|█████████▎| 12251/13084 [1:26:37<05:24,  2.57it/s]"
          ],
          "name": "stderr"
        },
        {
          "output_type": "stream",
          "text": [
            "Loss:  1.4922417402267456\n"
          ],
          "name": "stdout"
        },
        {
          "output_type": "stream",
          "text": [
            " 94%|█████████▍| 12302/13084 [1:26:59<04:32,  2.87it/s]"
          ],
          "name": "stderr"
        },
        {
          "output_type": "stream",
          "text": [
            "Loss:  1.2876139879226685\n"
          ],
          "name": "stdout"
        },
        {
          "output_type": "stream",
          "text": [
            " 94%|█████████▍| 12351/13084 [1:27:19<05:01,  2.43it/s]"
          ],
          "name": "stderr"
        },
        {
          "output_type": "stream",
          "text": [
            "Loss:  1.386683702468872\n"
          ],
          "name": "stdout"
        },
        {
          "output_type": "stream",
          "text": [
            " 95%|█████████▍| 12401/13084 [1:27:41<04:21,  2.61it/s]"
          ],
          "name": "stderr"
        },
        {
          "output_type": "stream",
          "text": [
            "Loss:  1.5334945917129517\n"
          ],
          "name": "stdout"
        },
        {
          "output_type": "stream",
          "text": [
            " 95%|█████████▌| 12451/13084 [1:28:02<04:44,  2.23it/s]"
          ],
          "name": "stderr"
        },
        {
          "output_type": "stream",
          "text": [
            "Loss:  1.47021484375\n"
          ],
          "name": "stdout"
        },
        {
          "output_type": "stream",
          "text": [
            " 96%|█████████▌| 12501/13084 [1:28:26<04:25,  2.20it/s]"
          ],
          "name": "stderr"
        },
        {
          "output_type": "stream",
          "text": [
            "Loss:  1.4453840255737305\n"
          ],
          "name": "stdout"
        },
        {
          "output_type": "stream",
          "text": [
            " 96%|█████████▌| 12551/13084 [1:28:47<03:30,  2.53it/s]"
          ],
          "name": "stderr"
        },
        {
          "output_type": "stream",
          "text": [
            "Loss:  1.6589381694793701\n"
          ],
          "name": "stdout"
        },
        {
          "output_type": "stream",
          "text": [
            " 96%|█████████▋| 12601/13084 [1:29:08<03:13,  2.50it/s]"
          ],
          "name": "stderr"
        },
        {
          "output_type": "stream",
          "text": [
            "Loss:  1.4427217245101929\n"
          ],
          "name": "stdout"
        },
        {
          "output_type": "stream",
          "text": [
            " 97%|█████████▋| 12652/13084 [1:29:29<02:39,  2.72it/s]"
          ],
          "name": "stderr"
        },
        {
          "output_type": "stream",
          "text": [
            "Loss:  1.4772049188613892\n"
          ],
          "name": "stdout"
        },
        {
          "output_type": "stream",
          "text": [
            " 97%|█████████▋| 12701/13084 [1:29:51<02:50,  2.24it/s]"
          ],
          "name": "stderr"
        },
        {
          "output_type": "stream",
          "text": [
            "Loss:  1.3745360374450684\n"
          ],
          "name": "stdout"
        },
        {
          "output_type": "stream",
          "text": [
            " 97%|█████████▋| 12751/13084 [1:30:13<02:07,  2.61it/s]"
          ],
          "name": "stderr"
        },
        {
          "output_type": "stream",
          "text": [
            "Loss:  1.4652931690216064\n"
          ],
          "name": "stdout"
        },
        {
          "output_type": "stream",
          "text": [
            " 98%|█████████▊| 12801/13084 [1:30:35<02:01,  2.32it/s]"
          ],
          "name": "stderr"
        },
        {
          "output_type": "stream",
          "text": [
            "Loss:  1.540054440498352\n"
          ],
          "name": "stdout"
        },
        {
          "output_type": "stream",
          "text": [
            " 98%|█████████▊| 12851/13084 [1:30:55<01:45,  2.21it/s]"
          ],
          "name": "stderr"
        },
        {
          "output_type": "stream",
          "text": [
            "Loss:  1.459328293800354\n"
          ],
          "name": "stdout"
        },
        {
          "output_type": "stream",
          "text": [
            " 99%|█████████▊| 12901/13084 [1:31:17<01:11,  2.55it/s]"
          ],
          "name": "stderr"
        },
        {
          "output_type": "stream",
          "text": [
            "Loss:  1.398153305053711\n"
          ],
          "name": "stdout"
        },
        {
          "output_type": "stream",
          "text": [
            " 99%|█████████▉| 12952/13084 [1:31:38<00:43,  3.01it/s]"
          ],
          "name": "stderr"
        },
        {
          "output_type": "stream",
          "text": [
            "Loss:  1.4147276878356934\n"
          ],
          "name": "stdout"
        },
        {
          "output_type": "stream",
          "text": [
            " 99%|█████████▉| 13001/13084 [1:31:59<00:27,  2.99it/s]"
          ],
          "name": "stderr"
        },
        {
          "output_type": "stream",
          "text": [
            "Loss:  1.4007666110992432\n"
          ],
          "name": "stdout"
        },
        {
          "output_type": "stream",
          "text": [
            "100%|█████████▉| 13051/13084 [1:32:20<00:14,  2.23it/s]"
          ],
          "name": "stderr"
        },
        {
          "output_type": "stream",
          "text": [
            "Loss:  1.4329692125320435\n"
          ],
          "name": "stdout"
        },
        {
          "output_type": "stream",
          "text": [
            "100%|██████████| 13084/13084 [1:32:34<00:00,  2.36it/s]\n"
          ],
          "name": "stderr"
        }
      ]
    }
  ]
}