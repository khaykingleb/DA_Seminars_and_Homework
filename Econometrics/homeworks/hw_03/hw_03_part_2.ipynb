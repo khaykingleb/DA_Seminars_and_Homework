{
 "cells": [
  {
   "cell_type": "markdown",
   "metadata": {},
   "source": [
    "# Домашнее задание № 3"
   ]
  },
  {
   "cell_type": "markdown",
   "metadata": {},
   "source": [
    "## Данные 2011 года"
   ]
  },
  {
   "cell_type": "markdown",
   "metadata": {},
   "source": [
    "Выполнил: Глеб Хайкин, БЭК1812"
   ]
  },
  {
   "cell_type": "markdown",
   "metadata": {},
   "source": [
    "## Импорт библиотек"
   ]
  },
  {
   "cell_type": "code",
   "execution_count": 2,
   "metadata": {},
   "outputs": [],
   "source": [
    "# Чтение файлов\n",
    "library(\"readxl\")\n",
    "library(\"haven\")\n",
    "\n",
    "# Основное\n",
    "## коллекция пакетов: ggplot2, dplyr, etc.\n",
    "library(\"tidyverse\")\n",
    "## создание отчётов\n",
    "library(\"knitr\") \n",
    "\n",
    "# Картинки \n",
    "## Фиксация размеров\n",
    "library(\"repr\")\n",
    "options(repr.plot.width=10, repr.plot.height=8)"
   ]
  },
  {
   "cell_type": "markdown",
   "metadata": {},
   "source": [
    "## Часть 2"
   ]
  },
  {
   "cell_type": "markdown",
   "metadata": {},
   "source": [
    "Загрузим данные."
   ]
  },
  {
   "cell_type": "code",
   "execution_count": null,
   "metadata": {},
   "outputs": [],
   "source": [
    "library(foreign)\n",
    "dataset = read.spss(\"/Users/khaykingleb/Desktop/Personal/Work/HSE/Current Semester/Econometrics/Хайкин_2011/r20i_os_32.sav\", \n",
    "                    to.data.frame=TRUE)"
   ]
  },
  {
   "cell_type": "markdown",
   "metadata": {},
   "source": [
    "Опеределим переменные."
   ]
  },
  {
   "cell_type": "markdown",
   "metadata": {},
   "source": [
    "Зависимая переменная:\n",
    "* `pj60` — \"Сколько всего денег в течение последних 30 дней Вы лично получили, считая все: зарплату, пенсии, премии, прибыли, пособия, материальную помощь, случайные заработки и другие денежные поступления?\""
   ]
  },
  {
   "cell_type": "markdown",
   "metadata": {},
   "source": [
    "Объясняющие переменные:\n",
    "* `ph5` — \"Пол респондента\"\n",
    "* `p_age` — \"Количество полных лет\"\n",
    "* `pj6.0` — \"Сколько у Вас подчиненных? Пожалуйста, посчитайте всех Ваших подчиненных, а не только тех, кто находится в Вашем непосредственном подчинении\"\n",
    "* `pj6.2` — \"Сколько часов в среднем продолжается Ваша обычная рабочая неделя?\""
   ]
  },
  {
   "cell_type": "markdown",
   "metadata": {},
   "source": [
    "Оставляем только нужные столбцы."
   ]
  },
  {
   "cell_type": "code",
   "execution_count": 4,
   "metadata": {},
   "outputs": [],
   "source": [
    "df <- subset(dataset, select = c(ph5, p_age, pj6, pj6.0, pj6.2, pj60))"
   ]
  },
  {
   "cell_type": "markdown",
   "metadata": {},
   "source": [
    "Обработаем наш датафрейм."
   ]
  },
  {
   "cell_type": "code",
   "execution_count": 5,
   "metadata": {
    "collapsed": true
   },
   "outputs": [
    {
     "name": "stderr",
     "output_type": "stream",
     "text": [
      "Warning message in eval(expr, envir, enclos):\n",
      "“NAs introduced by coercion”\n",
      "Warning message in eval(expr, envir, enclos):\n",
      "“NAs introduced by coercion”\n",
      "Warning message in eval(expr, envir, enclos):\n",
      "“NAs introduced by coercion”\n"
     ]
    }
   ],
   "source": [
    "df$p_age <- as.numeric(levels(df$p_age)[df$p_age])\n",
    "df$pj6.0 <- as.numeric(levels(df$pj6.0)[df$pj6.0])\n",
    "df$pj6.2 <- as.numeric(levels(df$pj6.2)[df$pj6.2])\n",
    "df$pj60 <- as.numeric(levels(df$pj60)[df$pj60])"
   ]
  },
  {
   "cell_type": "markdown",
   "metadata": {},
   "source": [
    "Заменим пропущенные значения на нули, если респондент ответил \"Нет\", иначе — удалим строчки с пропусками данных."
   ]
  },
  {
   "cell_type": "code",
   "execution_count": 6,
   "metadata": {},
   "outputs": [],
   "source": [
    "df$pj6.0[df$pj6 == \"Нет\"] <- 0"
   ]
  },
  {
   "cell_type": "code",
   "execution_count": 7,
   "metadata": {},
   "outputs": [
    {
     "data": {
      "text/html": [
       "<table>\n",
       "<caption>A data.frame: 6 × 6</caption>\n",
       "<thead>\n",
       "\t<tr><th></th><th scope=col>ph5</th><th scope=col>p_age</th><th scope=col>pj6</th><th scope=col>pj6.0</th><th scope=col>pj6.2</th><th scope=col>pj60</th></tr>\n",
       "\t<tr><th></th><th scope=col>&lt;fct&gt;</th><th scope=col>&lt;dbl&gt;</th><th scope=col>&lt;fct&gt;</th><th scope=col>&lt;dbl&gt;</th><th scope=col>&lt;dbl&gt;</th><th scope=col>&lt;dbl&gt;</th></tr>\n",
       "</thead>\n",
       "<tbody>\n",
       "\t<tr><th scope=row>1</th><td>ЖЕНСКИЙ</td><td>38</td><td>Да </td><td>11</td><td>45</td><td>36500.00</td></tr>\n",
       "\t<tr><th scope=row>2</th><td>ЖЕНСКИЙ</td><td>27</td><td>Нет</td><td> 0</td><td>36</td><td>36000.00</td></tr>\n",
       "\t<tr><th scope=row>3</th><td>ЖЕНСКИЙ</td><td>67</td><td>NA </td><td>NA</td><td>NA</td><td>13272.34</td></tr>\n",
       "\t<tr><th scope=row>4</th><td>ЖЕНСКИЙ</td><td>65</td><td>NA </td><td>NA</td><td>NA</td><td> 9000.00</td></tr>\n",
       "\t<tr><th scope=row>5</th><td>ЖЕНСКИЙ</td><td>79</td><td>NA </td><td>NA</td><td>NA</td><td>11800.00</td></tr>\n",
       "\t<tr><th scope=row>6</th><td>ЖЕНСКИЙ</td><td>57</td><td>Нет</td><td> 0</td><td>40</td><td>19000.00</td></tr>\n",
       "</tbody>\n",
       "</table>\n"
      ],
      "text/latex": [
       "A data.frame: 6 × 6\n",
       "\\begin{tabular}{r|llllll}\n",
       "  & ph5 & p\\_age & pj6 & pj6.0 & pj6.2 & pj60\\\\\n",
       "  & <fct> & <dbl> & <fct> & <dbl> & <dbl> & <dbl>\\\\\n",
       "\\hline\n",
       "\t1 & ЖЕНСКИЙ & 38 & Да  & 11 & 45 & 36500.00\\\\\n",
       "\t2 & ЖЕНСКИЙ & 27 & Нет &  0 & 36 & 36000.00\\\\\n",
       "\t3 & ЖЕНСКИЙ & 67 & NA  & NA & NA & 13272.34\\\\\n",
       "\t4 & ЖЕНСКИЙ & 65 & NA  & NA & NA &  9000.00\\\\\n",
       "\t5 & ЖЕНСКИЙ & 79 & NA  & NA & NA & 11800.00\\\\\n",
       "\t6 & ЖЕНСКИЙ & 57 & Нет &  0 & 40 & 19000.00\\\\\n",
       "\\end{tabular}\n"
      ],
      "text/markdown": [
       "\n",
       "A data.frame: 6 × 6\n",
       "\n",
       "| <!--/--> | ph5 &lt;fct&gt; | p_age &lt;dbl&gt; | pj6 &lt;fct&gt; | pj6.0 &lt;dbl&gt; | pj6.2 &lt;dbl&gt; | pj60 &lt;dbl&gt; |\n",
       "|---|---|---|---|---|---|---|\n",
       "| 1 | ЖЕНСКИЙ | 38 | Да  | 11 | 45 | 36500.00 |\n",
       "| 2 | ЖЕНСКИЙ | 27 | Нет |  0 | 36 | 36000.00 |\n",
       "| 3 | ЖЕНСКИЙ | 67 | NA  | NA | NA | 13272.34 |\n",
       "| 4 | ЖЕНСКИЙ | 65 | NA  | NA | NA |  9000.00 |\n",
       "| 5 | ЖЕНСКИЙ | 79 | NA  | NA | NA | 11800.00 |\n",
       "| 6 | ЖЕНСКИЙ | 57 | Нет |  0 | 40 | 19000.00 |\n",
       "\n"
      ],
      "text/plain": [
       "  ph5     p_age pj6 pj6.0 pj6.2 pj60    \n",
       "1 ЖЕНСКИЙ 38    Да  11    45    36500.00\n",
       "2 ЖЕНСКИЙ 27    Нет  0    36    36000.00\n",
       "3 ЖЕНСКИЙ 67    NA  NA    NA    13272.34\n",
       "4 ЖЕНСКИЙ 65    NA  NA    NA     9000.00\n",
       "5 ЖЕНСКИЙ 79    NA  NA    NA    11800.00\n",
       "6 ЖЕНСКИЙ 57    Нет  0    40    19000.00"
      ]
     },
     "metadata": {},
     "output_type": "display_data"
    }
   ],
   "source": [
    "head(df)"
   ]
  },
  {
   "cell_type": "code",
   "execution_count": 8,
   "metadata": {},
   "outputs": [],
   "source": [
    "df <- na.omit(df) "
   ]
  },
  {
   "cell_type": "code",
   "execution_count": 9,
   "metadata": {},
   "outputs": [
    {
     "data": {
      "text/html": [
       "<table>\n",
       "<caption>A data.frame: 6 × 6</caption>\n",
       "<thead>\n",
       "\t<tr><th></th><th scope=col>ph5</th><th scope=col>p_age</th><th scope=col>pj6</th><th scope=col>pj6.0</th><th scope=col>pj6.2</th><th scope=col>pj60</th></tr>\n",
       "\t<tr><th></th><th scope=col>&lt;fct&gt;</th><th scope=col>&lt;dbl&gt;</th><th scope=col>&lt;fct&gt;</th><th scope=col>&lt;dbl&gt;</th><th scope=col>&lt;dbl&gt;</th><th scope=col>&lt;dbl&gt;</th></tr>\n",
       "</thead>\n",
       "<tbody>\n",
       "\t<tr><th scope=row>1</th><td>ЖЕНСКИЙ</td><td>38</td><td>Да </td><td>11</td><td>45</td><td>36500</td></tr>\n",
       "\t<tr><th scope=row>2</th><td>ЖЕНСКИЙ</td><td>27</td><td>Нет</td><td> 0</td><td>36</td><td>36000</td></tr>\n",
       "\t<tr><th scope=row>6</th><td>ЖЕНСКИЙ</td><td>57</td><td>Нет</td><td> 0</td><td>40</td><td>19000</td></tr>\n",
       "\t<tr><th scope=row>7</th><td>МУЖСКОЙ</td><td>54</td><td>Нет</td><td> 0</td><td>50</td><td>26000</td></tr>\n",
       "\t<tr><th scope=row>8</th><td>ЖЕНСКИЙ</td><td>28</td><td>Нет</td><td> 0</td><td>40</td><td>13000</td></tr>\n",
       "\t<tr><th scope=row>9</th><td>ЖЕНСКИЙ</td><td>43</td><td>Нет</td><td> 0</td><td>44</td><td> 8000</td></tr>\n",
       "</tbody>\n",
       "</table>\n"
      ],
      "text/latex": [
       "A data.frame: 6 × 6\n",
       "\\begin{tabular}{r|llllll}\n",
       "  & ph5 & p\\_age & pj6 & pj6.0 & pj6.2 & pj60\\\\\n",
       "  & <fct> & <dbl> & <fct> & <dbl> & <dbl> & <dbl>\\\\\n",
       "\\hline\n",
       "\t1 & ЖЕНСКИЙ & 38 & Да  & 11 & 45 & 36500\\\\\n",
       "\t2 & ЖЕНСКИЙ & 27 & Нет &  0 & 36 & 36000\\\\\n",
       "\t6 & ЖЕНСКИЙ & 57 & Нет &  0 & 40 & 19000\\\\\n",
       "\t7 & МУЖСКОЙ & 54 & Нет &  0 & 50 & 26000\\\\\n",
       "\t8 & ЖЕНСКИЙ & 28 & Нет &  0 & 40 & 13000\\\\\n",
       "\t9 & ЖЕНСКИЙ & 43 & Нет &  0 & 44 &  8000\\\\\n",
       "\\end{tabular}\n"
      ],
      "text/markdown": [
       "\n",
       "A data.frame: 6 × 6\n",
       "\n",
       "| <!--/--> | ph5 &lt;fct&gt; | p_age &lt;dbl&gt; | pj6 &lt;fct&gt; | pj6.0 &lt;dbl&gt; | pj6.2 &lt;dbl&gt; | pj60 &lt;dbl&gt; |\n",
       "|---|---|---|---|---|---|---|\n",
       "| 1 | ЖЕНСКИЙ | 38 | Да  | 11 | 45 | 36500 |\n",
       "| 2 | ЖЕНСКИЙ | 27 | Нет |  0 | 36 | 36000 |\n",
       "| 6 | ЖЕНСКИЙ | 57 | Нет |  0 | 40 | 19000 |\n",
       "| 7 | МУЖСКОЙ | 54 | Нет |  0 | 50 | 26000 |\n",
       "| 8 | ЖЕНСКИЙ | 28 | Нет |  0 | 40 | 13000 |\n",
       "| 9 | ЖЕНСКИЙ | 43 | Нет |  0 | 44 |  8000 |\n",
       "\n"
      ],
      "text/plain": [
       "  ph5     p_age pj6 pj6.0 pj6.2 pj60 \n",
       "1 ЖЕНСКИЙ 38    Да  11    45    36500\n",
       "2 ЖЕНСКИЙ 27    Нет  0    36    36000\n",
       "6 ЖЕНСКИЙ 57    Нет  0    40    19000\n",
       "7 МУЖСКОЙ 54    Нет  0    50    26000\n",
       "8 ЖЕНСКИЙ 28    Нет  0    40    13000\n",
       "9 ЖЕНСКИЙ 43    Нет  0    44     8000"
      ]
     },
     "metadata": {},
     "output_type": "display_data"
    }
   ],
   "source": [
    "head(df)"
   ]
  },
  {
   "cell_type": "markdown",
   "metadata": {},
   "source": [
    "Бинаризуем переменную `ph5`."
   ]
  },
  {
   "cell_type": "code",
   "execution_count": 10,
   "metadata": {},
   "outputs": [],
   "source": [
    "df$ph5 <- ifelse(df$ph5 == 'ЖЕНСКИЙ', 1, 0)"
   ]
  },
  {
   "cell_type": "markdown",
   "metadata": {},
   "source": [
    "Поменяем названия переменных."
   ]
  },
  {
   "cell_type": "code",
   "execution_count": 11,
   "metadata": {},
   "outputs": [],
   "source": [
    "names(df)[1] <- \"Gender\"\n",
    "names(df)[2] <- \"Age\"\n",
    "names(df)[4] <- \"Work\"\n",
    "names(df)[5] <- \"Subordinates\"\n",
    "names(df)[6] <- \"Income\""
   ]
  },
  {
   "cell_type": "code",
   "execution_count": 12,
   "metadata": {},
   "outputs": [
    {
     "data": {
      "text/html": [
       "<table>\n",
       "<caption>A data.frame: 6 × 6</caption>\n",
       "<thead>\n",
       "\t<tr><th></th><th scope=col>Gender</th><th scope=col>Age</th><th scope=col>pj6</th><th scope=col>Work</th><th scope=col>Subordinates</th><th scope=col>Income</th></tr>\n",
       "\t<tr><th></th><th scope=col>&lt;dbl&gt;</th><th scope=col>&lt;dbl&gt;</th><th scope=col>&lt;fct&gt;</th><th scope=col>&lt;dbl&gt;</th><th scope=col>&lt;dbl&gt;</th><th scope=col>&lt;dbl&gt;</th></tr>\n",
       "</thead>\n",
       "<tbody>\n",
       "\t<tr><th scope=row>1</th><td>1</td><td>38</td><td>Да </td><td>11</td><td>45</td><td>36500</td></tr>\n",
       "\t<tr><th scope=row>2</th><td>1</td><td>27</td><td>Нет</td><td> 0</td><td>36</td><td>36000</td></tr>\n",
       "\t<tr><th scope=row>6</th><td>1</td><td>57</td><td>Нет</td><td> 0</td><td>40</td><td>19000</td></tr>\n",
       "\t<tr><th scope=row>7</th><td>0</td><td>54</td><td>Нет</td><td> 0</td><td>50</td><td>26000</td></tr>\n",
       "\t<tr><th scope=row>8</th><td>1</td><td>28</td><td>Нет</td><td> 0</td><td>40</td><td>13000</td></tr>\n",
       "\t<tr><th scope=row>9</th><td>1</td><td>43</td><td>Нет</td><td> 0</td><td>44</td><td> 8000</td></tr>\n",
       "</tbody>\n",
       "</table>\n"
      ],
      "text/latex": [
       "A data.frame: 6 × 6\n",
       "\\begin{tabular}{r|llllll}\n",
       "  & Gender & Age & pj6 & Work & Subordinates & Income\\\\\n",
       "  & <dbl> & <dbl> & <fct> & <dbl> & <dbl> & <dbl>\\\\\n",
       "\\hline\n",
       "\t1 & 1 & 38 & Да  & 11 & 45 & 36500\\\\\n",
       "\t2 & 1 & 27 & Нет &  0 & 36 & 36000\\\\\n",
       "\t6 & 1 & 57 & Нет &  0 & 40 & 19000\\\\\n",
       "\t7 & 0 & 54 & Нет &  0 & 50 & 26000\\\\\n",
       "\t8 & 1 & 28 & Нет &  0 & 40 & 13000\\\\\n",
       "\t9 & 1 & 43 & Нет &  0 & 44 &  8000\\\\\n",
       "\\end{tabular}\n"
      ],
      "text/markdown": [
       "\n",
       "A data.frame: 6 × 6\n",
       "\n",
       "| <!--/--> | Gender &lt;dbl&gt; | Age &lt;dbl&gt; | pj6 &lt;fct&gt; | Work &lt;dbl&gt; | Subordinates &lt;dbl&gt; | Income &lt;dbl&gt; |\n",
       "|---|---|---|---|---|---|---|\n",
       "| 1 | 1 | 38 | Да  | 11 | 45 | 36500 |\n",
       "| 2 | 1 | 27 | Нет |  0 | 36 | 36000 |\n",
       "| 6 | 1 | 57 | Нет |  0 | 40 | 19000 |\n",
       "| 7 | 0 | 54 | Нет |  0 | 50 | 26000 |\n",
       "| 8 | 1 | 28 | Нет |  0 | 40 | 13000 |\n",
       "| 9 | 1 | 43 | Нет |  0 | 44 |  8000 |\n",
       "\n"
      ],
      "text/plain": [
       "  Gender Age pj6 Work Subordinates Income\n",
       "1 1      38  Да  11   45           36500 \n",
       "2 1      27  Нет  0   36           36000 \n",
       "6 1      57  Нет  0   40           19000 \n",
       "7 0      54  Нет  0   50           26000 \n",
       "8 1      28  Нет  0   40           13000 \n",
       "9 1      43  Нет  0   44            8000 "
      ]
     },
     "metadata": {},
     "output_type": "display_data"
    }
   ],
   "source": [
    "head(df)"
   ]
  },
  {
   "cell_type": "markdown",
   "metadata": {},
   "source": [
    "1) Оценим следующую линейную модель:"
   ]
  },
  {
   "cell_type": "markdown",
   "metadata": {},
   "source": [
    "$$\n",
    "\\text{Income}_i = \\beta_0 + \\beta_1 \\text{Age}_i + \\beta_2\\text{Age}^2_i + \\beta_3 \\text{Work_Hours}_i + \\beta_4 {\\text{Number_of_subordinates}}_i + \\beta_5 \\text{Gender}_i\n",
    "$$"
   ]
  },
  {
   "cell_type": "code",
   "execution_count": 13,
   "metadata": {},
   "outputs": [
    {
     "data": {
      "text/plain": [
       "\n",
       "Call:\n",
       "lm(formula = Income ~ Age + I(Age^2) + Work + Subordinates + \n",
       "    Gender, data = df)\n",
       "\n",
       "Residuals:\n",
       "   Min     1Q Median     3Q    Max \n",
       "-73136  -8379  -3170   4186 331033 \n",
       "\n",
       "Coefficients:\n",
       "              Estimate Std. Error t value Pr(>|t|)    \n",
       "(Intercept)  10478.038   1878.328   5.578 2.52e-08 ***\n",
       "Age            227.643     89.469   2.544    0.011 *  \n",
       "I(Age^2)        -1.564      1.051  -1.489    0.137    \n",
       "Work            62.313      6.659   9.357  < 2e-16 ***\n",
       "Subordinates    83.031     14.188   5.852 5.07e-09 ***\n",
       "Gender       -4576.720    368.821 -12.409  < 2e-16 ***\n",
       "---\n",
       "Signif. codes:  0 ‘***’ 0.001 ‘**’ 0.01 ‘*’ 0.05 ‘.’ 0.1 ‘ ’ 1\n",
       "\n",
       "Residual standard error: 15000 on 7047 degrees of freedom\n",
       "Multiple R-squared:  0.04987,\tAdjusted R-squared:  0.0492 \n",
       "F-statistic: 73.98 on 5 and 7047 DF,  p-value: < 2.2e-16\n"
      ]
     },
     "metadata": {},
     "output_type": "display_data"
    }
   ],
   "source": [
    "lr <- lm(Income ~ Age + I(Age^2) + Work + Subordinates + Gender, data = df)\n",
    "summary(lr)"
   ]
  },
  {
   "cell_type": "markdown",
   "metadata": {},
   "source": [
    "Получили следующую модель:"
   ]
  },
  {
   "cell_type": "markdown",
   "metadata": {},
   "source": [
    "$$\n",
    "\\widehat{\\text{Income}}_i = 10478 + 227.64 \\times\\text{Age}_i + 62.31 \\times\\text{Work_Hours}_i + 83.03\\times {\\text{Number_of_subordinates}}_i - 4576.72 \\times\\text{Gender}_i\n",
    "$$"
   ]
  },
  {
   "cell_type": "markdown",
   "metadata": {},
   "source": [
    "Как видим, регрессоры $\\beta_3$, $\\beta_4$ и $\\beta_5$ статистически значимы при любом разумном уровне значимости. Также регрессор $\\beta_1$ статистически значим при уровне значимости $\\alpha=0.05$, однако при $\\alpha=0.01$ данная гипотеза отвергается.\n",
    "\n",
    "Модель статически адекватна при любом разумном уровне значимости. "
   ]
  },
  {
   "cell_type": "markdown",
   "metadata": {},
   "source": [
    "Ceteris paribus, в 2011 году можно было выделить следующее:\n",
    "\n",
    "* При увеличении возраста индивида на 1 год его доход увеличивается на $227.64$ рубля.\n",
    "* При увеличении одного часа работы доход индивида растет на $62.31$ рублей.\n",
    "* При увеличении на одного работника в подчинении доход руководителя растет на $83.03$ рубля.\n",
    "* Доход женщин меньше на $4576.72$ рублей."
   ]
  },
  {
   "cell_type": "markdown",
   "metadata": {},
   "source": [
    "2) Проверим интересные с экономической точки зрения гипотезы с помощью теста Вальда и с помощью теста отношения правдоподобия."
   ]
  },
  {
   "cell_type": "markdown",
   "metadata": {},
   "source": [
    "(а) Протестируем гипотезу о том, что пол индивида никак не влияет на его доход:"
   ]
  },
  {
   "cell_type": "markdown",
   "metadata": {},
   "source": [
    "\\begin{cases}\n",
    "H_0: \\beta_5 = 0 \\\\\n",
    "H_a: \\beta_5 \\neq 0\n",
    "\\end{cases}\n"
   ]
  },
  {
   "cell_type": "code",
   "execution_count": 14,
   "metadata": {},
   "outputs": [],
   "source": [
    "lr_nested <- lm(Income ~ I(Age^2) + Work + Subordinates, data = df)\n",
    "lr_complex <- lm(Income ~ I(Age^2) + Gender + Work + Subordinates, data = df)"
   ]
  },
  {
   "cell_type": "markdown",
   "metadata": {},
   "source": [
    "Тест отношения правдоподобия:"
   ]
  },
  {
   "cell_type": "code",
   "execution_count": 18,
   "metadata": {},
   "outputs": [],
   "source": [
    "library(\"lmtest\")"
   ]
  },
  {
   "cell_type": "code",
   "execution_count": 19,
   "metadata": {},
   "outputs": [
    {
     "data": {
      "text/html": [
       "<table>\n",
       "<caption>A anova: 2 × 5</caption>\n",
       "<thead>\n",
       "\t<tr><th></th><th scope=col>#Df</th><th scope=col>LogLik</th><th scope=col>Df</th><th scope=col>Chisq</th><th scope=col>Pr(&gt;Chisq)</th></tr>\n",
       "\t<tr><th></th><th scope=col>&lt;dbl&gt;</th><th scope=col>&lt;dbl&gt;</th><th scope=col>&lt;dbl&gt;</th><th scope=col>&lt;dbl&gt;</th><th scope=col>&lt;dbl&gt;</th></tr>\n",
       "</thead>\n",
       "<tbody>\n",
       "\t<tr><th scope=row>1</th><td>5</td><td>-77903.69</td><td>NA</td><td>      NA</td><td>         NA</td></tr>\n",
       "\t<tr><th scope=row>2</th><td>6</td><td>-77828.83</td><td> 1</td><td>149.7091</td><td>2.00698e-34</td></tr>\n",
       "</tbody>\n",
       "</table>\n"
      ],
      "text/latex": [
       "A anova: 2 × 5\n",
       "\\begin{tabular}{r|lllll}\n",
       "  & \\#Df & LogLik & Df & Chisq & Pr(>Chisq)\\\\\n",
       "  & <dbl> & <dbl> & <dbl> & <dbl> & <dbl>\\\\\n",
       "\\hline\n",
       "\t1 & 5 & -77903.69 & NA &       NA &          NA\\\\\n",
       "\t2 & 6 & -77828.83 &  1 & 149.7091 & 2.00698e-34\\\\\n",
       "\\end{tabular}\n"
      ],
      "text/markdown": [
       "\n",
       "A anova: 2 × 5\n",
       "\n",
       "| <!--/--> | #Df &lt;dbl&gt; | LogLik &lt;dbl&gt; | Df &lt;dbl&gt; | Chisq &lt;dbl&gt; | Pr(&gt;Chisq) &lt;dbl&gt; |\n",
       "|---|---|---|---|---|---|\n",
       "| 1 | 5 | -77903.69 | NA |       NA |          NA |\n",
       "| 2 | 6 | -77828.83 |  1 | 149.7091 | 2.00698e-34 |\n",
       "\n"
      ],
      "text/plain": [
       "  #Df LogLik    Df Chisq    Pr(>Chisq) \n",
       "1 5   -77903.69 NA       NA          NA\n",
       "2 6   -77828.83  1 149.7091 2.00698e-34"
      ]
     },
     "metadata": {},
     "output_type": "display_data"
    }
   ],
   "source": [
    "lrtest(lr_nested, lr_complex)"
   ]
  },
  {
   "cell_type": "markdown",
   "metadata": {},
   "source": [
    "Тест Вальда:"
   ]
  },
  {
   "cell_type": "code",
   "execution_count": 20,
   "metadata": {},
   "outputs": [
    {
     "data": {
      "text/html": [
       "<table>\n",
       "<caption>A anova: 2 × 4</caption>\n",
       "<thead>\n",
       "\t<tr><th></th><th scope=col>Res.Df</th><th scope=col>Df</th><th scope=col>Chisq</th><th scope=col>Pr(&gt;Chisq)</th></tr>\n",
       "\t<tr><th></th><th scope=col>&lt;dbl&gt;</th><th scope=col>&lt;dbl&gt;</th><th scope=col>&lt;dbl&gt;</th><th scope=col>&lt;dbl&gt;</th></tr>\n",
       "</thead>\n",
       "<tbody>\n",
       "\t<tr><th scope=row>1</th><td>7049</td><td>NA</td><td>     NA</td><td>          NA</td></tr>\n",
       "\t<tr><th scope=row>2</th><td>7048</td><td> 1</td><td>151.202</td><td>9.467433e-35</td></tr>\n",
       "</tbody>\n",
       "</table>\n"
      ],
      "text/latex": [
       "A anova: 2 × 4\n",
       "\\begin{tabular}{r|llll}\n",
       "  & Res.Df & Df & Chisq & Pr(>Chisq)\\\\\n",
       "  & <dbl> & <dbl> & <dbl> & <dbl>\\\\\n",
       "\\hline\n",
       "\t1 & 7049 & NA &      NA &           NA\\\\\n",
       "\t2 & 7048 &  1 & 151.202 & 9.467433e-35\\\\\n",
       "\\end{tabular}\n"
      ],
      "text/markdown": [
       "\n",
       "A anova: 2 × 4\n",
       "\n",
       "| <!--/--> | Res.Df &lt;dbl&gt; | Df &lt;dbl&gt; | Chisq &lt;dbl&gt; | Pr(&gt;Chisq) &lt;dbl&gt; |\n",
       "|---|---|---|---|---|\n",
       "| 1 | 7049 | NA |      NA |           NA |\n",
       "| 2 | 7048 |  1 | 151.202 | 9.467433e-35 |\n",
       "\n"
      ],
      "text/plain": [
       "  Res.Df Df Chisq   Pr(>Chisq)  \n",
       "1 7049   NA      NA           NA\n",
       "2 7048    1 151.202 9.467433e-35"
      ]
     },
     "metadata": {},
     "output_type": "display_data"
    }
   ],
   "source": [
    "waldtest(lr_nested, lr_complex, test = \"Chisq\")"
   ]
  },
  {
   "cell_type": "markdown",
   "metadata": {},
   "source": [
    "Гипотеза о том, что пол индивида никак не влияет на его доход, отвергается при любом разумном уровне значимости."
   ]
  },
  {
   "cell_type": "markdown",
   "metadata": {},
   "source": [
    "(b) Протестируем гипотезу о том, что пол и возраст никак не влияют на доход индивида:"
   ]
  },
  {
   "cell_type": "markdown",
   "metadata": {},
   "source": [
    "\\begin{cases}\n",
    "H_0: \\beta_i = 0, i \\in \\{1, 2, 5\\} \\\\\n",
    "H_a: \\beta_i \\neq 0\n",
    "\\end{cases}"
   ]
  },
  {
   "cell_type": "code",
   "execution_count": 21,
   "metadata": {},
   "outputs": [],
   "source": [
    "lr_nested <- lm(Income ~ Age + I(Age^2) + Gender + Work + Subordinates, data = df)\n",
    "lr_complex <- lm(Income ~ Work + Subordinates, data = df)"
   ]
  },
  {
   "cell_type": "code",
   "execution_count": 22,
   "metadata": {},
   "outputs": [
    {
     "data": {
      "text/html": [
       "<table>\n",
       "<caption>A anova: 2 × 5</caption>\n",
       "<thead>\n",
       "\t<tr><th></th><th scope=col>#Df</th><th scope=col>LogLik</th><th scope=col>Df</th><th scope=col>Chisq</th><th scope=col>Pr(&gt;Chisq)</th></tr>\n",
       "\t<tr><th></th><th scope=col>&lt;dbl&gt;</th><th scope=col>&lt;dbl&gt;</th><th scope=col>&lt;dbl&gt;</th><th scope=col>&lt;dbl&gt;</th><th scope=col>&lt;dbl&gt;</th></tr>\n",
       "</thead>\n",
       "<tbody>\n",
       "\t<tr><th scope=row>1</th><td>7</td><td>-77825.59</td><td>NA</td><td>      NA</td><td>          NA</td></tr>\n",
       "\t<tr><th scope=row>2</th><td>4</td><td>-77922.70</td><td>-3</td><td>194.2213</td><td>7.476391e-42</td></tr>\n",
       "</tbody>\n",
       "</table>\n"
      ],
      "text/latex": [
       "A anova: 2 × 5\n",
       "\\begin{tabular}{r|lllll}\n",
       "  & \\#Df & LogLik & Df & Chisq & Pr(>Chisq)\\\\\n",
       "  & <dbl> & <dbl> & <dbl> & <dbl> & <dbl>\\\\\n",
       "\\hline\n",
       "\t1 & 7 & -77825.59 & NA &       NA &           NA\\\\\n",
       "\t2 & 4 & -77922.70 & -3 & 194.2213 & 7.476391e-42\\\\\n",
       "\\end{tabular}\n"
      ],
      "text/markdown": [
       "\n",
       "A anova: 2 × 5\n",
       "\n",
       "| <!--/--> | #Df &lt;dbl&gt; | LogLik &lt;dbl&gt; | Df &lt;dbl&gt; | Chisq &lt;dbl&gt; | Pr(&gt;Chisq) &lt;dbl&gt; |\n",
       "|---|---|---|---|---|---|\n",
       "| 1 | 7 | -77825.59 | NA |       NA |           NA |\n",
       "| 2 | 4 | -77922.70 | -3 | 194.2213 | 7.476391e-42 |\n",
       "\n"
      ],
      "text/plain": [
       "  #Df LogLik    Df Chisq    Pr(>Chisq)  \n",
       "1 7   -77825.59 NA       NA           NA\n",
       "2 4   -77922.70 -3 194.2213 7.476391e-42"
      ]
     },
     "metadata": {},
     "output_type": "display_data"
    }
   ],
   "source": [
    "lrtest(lr_nested, lr_complex)"
   ]
  },
  {
   "cell_type": "code",
   "execution_count": 23,
   "metadata": {},
   "outputs": [
    {
     "data": {
      "text/html": [
       "<table>\n",
       "<caption>A anova: 2 × 4</caption>\n",
       "<thead>\n",
       "\t<tr><th></th><th scope=col>Res.Df</th><th scope=col>Df</th><th scope=col>Chisq</th><th scope=col>Pr(&gt;Chisq)</th></tr>\n",
       "\t<tr><th></th><th scope=col>&lt;dbl&gt;</th><th scope=col>&lt;dbl&gt;</th><th scope=col>&lt;dbl&gt;</th><th scope=col>&lt;dbl&gt;</th></tr>\n",
       "</thead>\n",
       "<tbody>\n",
       "\t<tr><th scope=row>1</th><td>7047</td><td>NA</td><td>      NA</td><td>          NA</td></tr>\n",
       "\t<tr><th scope=row>2</th><td>7050</td><td>-3</td><td>196.7527</td><td>2.122244e-42</td></tr>\n",
       "</tbody>\n",
       "</table>\n"
      ],
      "text/latex": [
       "A anova: 2 × 4\n",
       "\\begin{tabular}{r|llll}\n",
       "  & Res.Df & Df & Chisq & Pr(>Chisq)\\\\\n",
       "  & <dbl> & <dbl> & <dbl> & <dbl>\\\\\n",
       "\\hline\n",
       "\t1 & 7047 & NA &       NA &           NA\\\\\n",
       "\t2 & 7050 & -3 & 196.7527 & 2.122244e-42\\\\\n",
       "\\end{tabular}\n"
      ],
      "text/markdown": [
       "\n",
       "A anova: 2 × 4\n",
       "\n",
       "| <!--/--> | Res.Df &lt;dbl&gt; | Df &lt;dbl&gt; | Chisq &lt;dbl&gt; | Pr(&gt;Chisq) &lt;dbl&gt; |\n",
       "|---|---|---|---|---|\n",
       "| 1 | 7047 | NA |       NA |           NA |\n",
       "| 2 | 7050 | -3 | 196.7527 | 2.122244e-42 |\n",
       "\n"
      ],
      "text/plain": [
       "  Res.Df Df Chisq    Pr(>Chisq)  \n",
       "1 7047   NA       NA           NA\n",
       "2 7050   -3 196.7527 2.122244e-42"
      ]
     },
     "metadata": {},
     "output_type": "display_data"
    }
   ],
   "source": [
    "waldtest(lr_nested, lr_complex, test = \"Chisq\")"
   ]
  },
  {
   "cell_type": "markdown",
   "metadata": {},
   "source": [
    "Гипотеза отвергается при любом разумном уровне значимости."
   ]
  },
  {
   "cell_type": "markdown",
   "metadata": {},
   "source": [
    "(c) Протестируем гипотезу о том, что максимальный доход достигается в 55 лет:"
   ]
  },
  {
   "cell_type": "code",
   "execution_count": 24,
   "metadata": {},
   "outputs": [],
   "source": [
    "df$x <- -110*df$Age + df$Age^2 "
   ]
  },
  {
   "cell_type": "code",
   "execution_count": 25,
   "metadata": {},
   "outputs": [],
   "source": [
    "lr_nested <- lm(Income ~ x + Gender + Work + Subordinates, data = df)\n",
    "lr_complex <- lm(Income ~ Age + I(Age^2) + Gender + Work + Subordinates, data = df)"
   ]
  },
  {
   "cell_type": "markdown",
   "metadata": {},
   "source": [
    "LR-тест:"
   ]
  },
  {
   "cell_type": "code",
   "execution_count": 26,
   "metadata": {},
   "outputs": [
    {
     "data": {
      "text/html": [
       "<table>\n",
       "<caption>A anova: 2 × 5</caption>\n",
       "<thead>\n",
       "\t<tr><th></th><th scope=col>#Df</th><th scope=col>LogLik</th><th scope=col>Df</th><th scope=col>Chisq</th><th scope=col>Pr(&gt;Chisq)</th></tr>\n",
       "\t<tr><th></th><th scope=col>&lt;dbl&gt;</th><th scope=col>&lt;dbl&gt;</th><th scope=col>&lt;dbl&gt;</th><th scope=col>&lt;dbl&gt;</th><th scope=col>&lt;dbl&gt;</th></tr>\n",
       "</thead>\n",
       "<tbody>\n",
       "\t<tr><th scope=row>1</th><td>6</td><td>-77827.23</td><td>NA</td><td>      NA</td><td>        NA</td></tr>\n",
       "\t<tr><th scope=row>2</th><td>7</td><td>-77825.59</td><td> 1</td><td>3.278705</td><td>0.07018431</td></tr>\n",
       "</tbody>\n",
       "</table>\n"
      ],
      "text/latex": [
       "A anova: 2 × 5\n",
       "\\begin{tabular}{r|lllll}\n",
       "  & \\#Df & LogLik & Df & Chisq & Pr(>Chisq)\\\\\n",
       "  & <dbl> & <dbl> & <dbl> & <dbl> & <dbl>\\\\\n",
       "\\hline\n",
       "\t1 & 6 & -77827.23 & NA &       NA &         NA\\\\\n",
       "\t2 & 7 & -77825.59 &  1 & 3.278705 & 0.07018431\\\\\n",
       "\\end{tabular}\n"
      ],
      "text/markdown": [
       "\n",
       "A anova: 2 × 5\n",
       "\n",
       "| <!--/--> | #Df &lt;dbl&gt; | LogLik &lt;dbl&gt; | Df &lt;dbl&gt; | Chisq &lt;dbl&gt; | Pr(&gt;Chisq) &lt;dbl&gt; |\n",
       "|---|---|---|---|---|---|\n",
       "| 1 | 6 | -77827.23 | NA |       NA |         NA |\n",
       "| 2 | 7 | -77825.59 |  1 | 3.278705 | 0.07018431 |\n",
       "\n"
      ],
      "text/plain": [
       "  #Df LogLik    Df Chisq    Pr(>Chisq)\n",
       "1 6   -77827.23 NA       NA         NA\n",
       "2 7   -77825.59  1 3.278705 0.07018431"
      ]
     },
     "metadata": {},
     "output_type": "display_data"
    }
   ],
   "source": [
    "lrtest(lr_nested, lr_complex)"
   ]
  },
  {
   "cell_type": "markdown",
   "metadata": {},
   "source": [
    "Тест Вальда:"
   ]
  },
  {
   "cell_type": "code",
   "execution_count": 27,
   "metadata": {},
   "outputs": [
    {
     "data": {
      "text/html": [
       "<table>\n",
       "<caption>A anova: 2 × 5</caption>\n",
       "<thead>\n",
       "\t<tr><th></th><th scope=col>Res.Df</th><th scope=col>RSS</th><th scope=col>Df</th><th scope=col>Sum of Sq</th><th scope=col>Pr(&gt;Chi)</th></tr>\n",
       "\t<tr><th></th><th scope=col>&lt;dbl&gt;</th><th scope=col>&lt;dbl&gt;</th><th scope=col>&lt;dbl&gt;</th><th scope=col>&lt;dbl&gt;</th><th scope=col>&lt;dbl&gt;</th></tr>\n",
       "</thead>\n",
       "<tbody>\n",
       "\t<tr><th scope=row>1</th><td>7048</td><td>1.586558e+12</td><td>NA</td><td>       NA</td><td>        NA</td></tr>\n",
       "\t<tr><th scope=row>2</th><td>7047</td><td>1.585820e+12</td><td> 1</td><td>737366305</td><td>0.07027108</td></tr>\n",
       "</tbody>\n",
       "</table>\n"
      ],
      "text/latex": [
       "A anova: 2 × 5\n",
       "\\begin{tabular}{r|lllll}\n",
       "  & Res.Df & RSS & Df & Sum of Sq & Pr(>Chi)\\\\\n",
       "  & <dbl> & <dbl> & <dbl> & <dbl> & <dbl>\\\\\n",
       "\\hline\n",
       "\t1 & 7048 & 1.586558e+12 & NA &        NA &         NA\\\\\n",
       "\t2 & 7047 & 1.585820e+12 &  1 & 737366305 & 0.07027108\\\\\n",
       "\\end{tabular}\n"
      ],
      "text/markdown": [
       "\n",
       "A anova: 2 × 5\n",
       "\n",
       "| <!--/--> | Res.Df &lt;dbl&gt; | RSS &lt;dbl&gt; | Df &lt;dbl&gt; | Sum of Sq &lt;dbl&gt; | Pr(&gt;Chi) &lt;dbl&gt; |\n",
       "|---|---|---|---|---|---|\n",
       "| 1 | 7048 | 1.586558e+12 | NA |        NA |         NA |\n",
       "| 2 | 7047 | 1.585820e+12 |  1 | 737366305 | 0.07027108 |\n",
       "\n"
      ],
      "text/plain": [
       "  Res.Df RSS          Df Sum of Sq Pr(>Chi)  \n",
       "1 7048   1.586558e+12 NA        NA         NA\n",
       "2 7047   1.585820e+12  1 737366305 0.07027108"
      ]
     },
     "metadata": {},
     "output_type": "display_data"
    }
   ],
   "source": [
    "anova(lr_nested, lr_complex, test=\"Chisq\")"
   ]
  },
  {
   "cell_type": "markdown",
   "metadata": {},
   "source": [
    "Гипотеза не отвергается при уровне значимости $\\alpha=0.1$."
   ]
  },
  {
   "cell_type": "markdown",
   "metadata": {},
   "source": [
    "## Часть 3"
   ]
  },
  {
   "cell_type": "markdown",
   "metadata": {},
   "source": [
    "1) Оценим модели бинарного выбора."
   ]
  },
  {
   "cell_type": "markdown",
   "metadata": {},
   "source": [
    "Введем бинарную переменную `pj721633` — \"Имеете ли Вы или Ваша семья возможность откладывать деньги на крупные покупки — машину, дачу?\""
   ]
  },
  {
   "cell_type": "code",
   "execution_count": 28,
   "metadata": {},
   "outputs": [],
   "source": [
    "df <- subset(dataset, select = c(pj721633, ph5, p_age, pj6, pj6.0, pj6.2, pj60))"
   ]
  },
  {
   "cell_type": "code",
   "execution_count": 29,
   "metadata": {},
   "outputs": [
    {
     "name": "stderr",
     "output_type": "stream",
     "text": [
      "Warning message in eval(expr, envir, enclos):\n",
      "“NAs introduced by coercion”\n",
      "Warning message in eval(expr, envir, enclos):\n",
      "“NAs introduced by coercion”\n",
      "Warning message in eval(expr, envir, enclos):\n",
      "“NAs introduced by coercion”\n"
     ]
    }
   ],
   "source": [
    "df$p_age <- as.numeric(levels(df$p_age)[df$p_age])\n",
    "df$pj6.0 <- as.numeric(levels(df$pj6.0)[df$pj6.0])\n",
    "df$pj6.2 <- as.numeric(levels(df$pj6.2)[df$pj6.2])\n",
    "df$pj60 <- as.numeric(levels(df$pj60)[df$pj60])"
   ]
  },
  {
   "cell_type": "code",
   "execution_count": 30,
   "metadata": {},
   "outputs": [],
   "source": [
    "df$pj6.0[df$pj6 == \"Нет\"] <- 0"
   ]
  },
  {
   "cell_type": "code",
   "execution_count": 31,
   "metadata": {},
   "outputs": [],
   "source": [
    "df$pj721633[df$pj721633==\"ЗАТРУДНЯЮСЬ ОТВЕТИТЬ\"] <- NA\n",
    "df$pj721633[df$pj721633==\"ОТКАЗ ОТ ОТВЕТА\"] <- NA\n",
    "df$pj721633[df$pj721633==\"НЕТ ОТВЕТА\"] <- NA"
   ]
  },
  {
   "cell_type": "code",
   "execution_count": 32,
   "metadata": {},
   "outputs": [],
   "source": [
    "df <- na.omit(df) "
   ]
  },
  {
   "cell_type": "code",
   "execution_count": 33,
   "metadata": {},
   "outputs": [],
   "source": [
    "df <- droplevels(df)\n",
    "df$ph5 <- ifelse(df$ph5 == 'ЖЕНСКИЙ', 1, 0)\n",
    "df$pj721633 <- ifelse(df$pj721633 == 'Да', 1, 0)"
   ]
  },
  {
   "cell_type": "markdown",
   "metadata": {},
   "source": [
    "Поменяем названия переменных."
   ]
  },
  {
   "cell_type": "code",
   "execution_count": 34,
   "metadata": {},
   "outputs": [],
   "source": [
    "names(df)[1] <- \"Durables\"\n",
    "names(df)[2] <- \"Gender\"\n",
    "names(df)[3] <- \"Age\"\n",
    "names(df)[5] <- \"Work\"\n",
    "names(df)[6] <- \"Subordinates\"\n",
    "names(df)[7] <- \"Income\""
   ]
  },
  {
   "cell_type": "code",
   "execution_count": 35,
   "metadata": {},
   "outputs": [
    {
     "data": {
      "text/html": [
       "<table>\n",
       "<caption>A data.frame: 6 × 7</caption>\n",
       "<thead>\n",
       "\t<tr><th></th><th scope=col>Durables</th><th scope=col>Gender</th><th scope=col>Age</th><th scope=col>pj6</th><th scope=col>Work</th><th scope=col>Subordinates</th><th scope=col>Income</th></tr>\n",
       "\t<tr><th></th><th scope=col>&lt;dbl&gt;</th><th scope=col>&lt;dbl&gt;</th><th scope=col>&lt;dbl&gt;</th><th scope=col>&lt;fct&gt;</th><th scope=col>&lt;dbl&gt;</th><th scope=col>&lt;dbl&gt;</th><th scope=col>&lt;dbl&gt;</th></tr>\n",
       "</thead>\n",
       "<tbody>\n",
       "\t<tr><th scope=row>1</th><td>0</td><td>1</td><td>38</td><td>Да </td><td>11</td><td>45</td><td>36500</td></tr>\n",
       "\t<tr><th scope=row>2</th><td>0</td><td>1</td><td>27</td><td>Нет</td><td> 0</td><td>36</td><td>36000</td></tr>\n",
       "\t<tr><th scope=row>6</th><td>0</td><td>1</td><td>57</td><td>Нет</td><td> 0</td><td>40</td><td>19000</td></tr>\n",
       "\t<tr><th scope=row>7</th><td>0</td><td>0</td><td>54</td><td>Нет</td><td> 0</td><td>50</td><td>26000</td></tr>\n",
       "\t<tr><th scope=row>8</th><td>0</td><td>1</td><td>28</td><td>Нет</td><td> 0</td><td>40</td><td>13000</td></tr>\n",
       "\t<tr><th scope=row>9</th><td>0</td><td>1</td><td>43</td><td>Нет</td><td> 0</td><td>44</td><td> 8000</td></tr>\n",
       "</tbody>\n",
       "</table>\n"
      ],
      "text/latex": [
       "A data.frame: 6 × 7\n",
       "\\begin{tabular}{r|lllllll}\n",
       "  & Durables & Gender & Age & pj6 & Work & Subordinates & Income\\\\\n",
       "  & <dbl> & <dbl> & <dbl> & <fct> & <dbl> & <dbl> & <dbl>\\\\\n",
       "\\hline\n",
       "\t1 & 0 & 1 & 38 & Да  & 11 & 45 & 36500\\\\\n",
       "\t2 & 0 & 1 & 27 & Нет &  0 & 36 & 36000\\\\\n",
       "\t6 & 0 & 1 & 57 & Нет &  0 & 40 & 19000\\\\\n",
       "\t7 & 0 & 0 & 54 & Нет &  0 & 50 & 26000\\\\\n",
       "\t8 & 0 & 1 & 28 & Нет &  0 & 40 & 13000\\\\\n",
       "\t9 & 0 & 1 & 43 & Нет &  0 & 44 &  8000\\\\\n",
       "\\end{tabular}\n"
      ],
      "text/markdown": [
       "\n",
       "A data.frame: 6 × 7\n",
       "\n",
       "| <!--/--> | Durables &lt;dbl&gt; | Gender &lt;dbl&gt; | Age &lt;dbl&gt; | pj6 &lt;fct&gt; | Work &lt;dbl&gt; | Subordinates &lt;dbl&gt; | Income &lt;dbl&gt; |\n",
       "|---|---|---|---|---|---|---|---|\n",
       "| 1 | 0 | 1 | 38 | Да  | 11 | 45 | 36500 |\n",
       "| 2 | 0 | 1 | 27 | Нет |  0 | 36 | 36000 |\n",
       "| 6 | 0 | 1 | 57 | Нет |  0 | 40 | 19000 |\n",
       "| 7 | 0 | 0 | 54 | Нет |  0 | 50 | 26000 |\n",
       "| 8 | 0 | 1 | 28 | Нет |  0 | 40 | 13000 |\n",
       "| 9 | 0 | 1 | 43 | Нет |  0 | 44 |  8000 |\n",
       "\n"
      ],
      "text/plain": [
       "  Durables Gender Age pj6 Work Subordinates Income\n",
       "1 0        1      38  Да  11   45           36500 \n",
       "2 0        1      27  Нет  0   36           36000 \n",
       "6 0        1      57  Нет  0   40           19000 \n",
       "7 0        0      54  Нет  0   50           26000 \n",
       "8 0        1      28  Нет  0   40           13000 \n",
       "9 0        1      43  Нет  0   44            8000 "
      ]
     },
     "metadata": {},
     "output_type": "display_data"
    }
   ],
   "source": [
    "head(df)"
   ]
  },
  {
   "cell_type": "markdown",
   "metadata": {},
   "source": [
    "(а) Probit-модель "
   ]
  },
  {
   "cell_type": "markdown",
   "metadata": {},
   "source": [
    "$$\n",
    "\\mathbb{P}(Y_i=1) = F(\\beta_0 + \\beta_1 \\text{Age}_i + \\beta_2 \\text{Work_Hours}_i + \\beta_3 \\text{Income}_i ), где\n",
    "$$\n",
    "\n",
    "$$\n",
    "F(z) = \\dfrac{1}{\\sqrt{2\\pi}}\\int_{-\\infty}^z \\exp\\left(-\\dfrac{t^2}{2}\\right)dt\n",
    "$$"
   ]
  },
  {
   "cell_type": "code",
   "execution_count": 36,
   "metadata": {},
   "outputs": [
    {
     "data": {
      "text/plain": [
       "\n",
       "Call:\n",
       "glm(formula = Durables ~ 1 + Age + Work + Income, family = binomial(link = \"probit\"), \n",
       "    data = df)\n",
       "\n",
       "Deviance Residuals: \n",
       "    Min       1Q   Median       3Q      Max  \n",
       "-7.1010  -0.6835  -0.5850  -0.4748   2.1937  \n",
       "\n",
       "Coefficients:\n",
       "              Estimate Std. Error z value Pr(>|z|)    \n",
       "(Intercept) -7.958e-01  6.087e-02 -13.074  < 2e-16 ***\n",
       "Age         -1.098e-02  1.404e-03  -7.824 5.11e-15 ***\n",
       "Work         5.380e-03  1.173e-03   4.588 4.48e-06 ***\n",
       "Income       2.190e-05  1.245e-06  17.590  < 2e-16 ***\n",
       "---\n",
       "Signif. codes:  0 ‘***’ 0.001 ‘**’ 0.01 ‘*’ 0.05 ‘.’ 0.1 ‘ ’ 1\n",
       "\n",
       "(Dispersion parameter for binomial family taken to be 1)\n",
       "\n",
       "    Null deviance: 7203.8  on 6902  degrees of freedom\n",
       "Residual deviance: 6681.9  on 6899  degrees of freedom\n",
       "AIC: 6689.9\n",
       "\n",
       "Number of Fisher Scoring iterations: 6\n"
      ]
     },
     "metadata": {},
     "output_type": "display_data"
    }
   ],
   "source": [
    "prob_probit <- glm(Durables ~ 1 + Age + Work + Income, family=binomial(link=\"probit\"), data = df)\n",
    "summary(prob_probit)"
   ]
  },
  {
   "cell_type": "markdown",
   "metadata": {},
   "source": [
    "Получили:"
   ]
  },
  {
   "cell_type": "markdown",
   "metadata": {},
   "source": [
    "$$\n",
    "\\widehat{\\mathbb{P}(Y_i=1)} = F(-0.7958 -0.01098 \\times \\text{Age}_i + 0.0054 \\times \\text{Work_Hours}_i-0.00002 \\times \\text{Income}_i)\n",
    "$$"
   ]
  },
  {
   "cell_type": "markdown",
   "metadata": {},
   "source": [
    "Все регрессоры статистически значимы при любом разумном уровне значимости."
   ]
  },
  {
   "cell_type": "markdown",
   "metadata": {},
   "source": [
    "Проверим качество probit-модели по $R^2$ МакФаддена:"
   ]
  },
  {
   "cell_type": "code",
   "execution_count": 56,
   "metadata": {},
   "outputs": [
    {
     "data": {
      "text/html": [
       "0.0724537210910481"
      ],
      "text/latex": [
       "0.0724537210910481"
      ],
      "text/markdown": [
       "0.0724537210910481"
      ],
      "text/plain": [
       "[1] 0.07245372"
      ]
     },
     "metadata": {},
     "output_type": "display_data"
    }
   ],
   "source": [
    "loglik <- 0.5 * (-prob_probit$aic + 2 * length(prob_probit$coefficients))\n",
    "prob_0 <- glm(Durables ~ 1, family=binomial(link=\"probit\"), data = df)\n",
    "loglik_0 <- 0.5 * (-prob_0$aic + 2 * length(prob_0$coefficients))\n",
    "R_sq_mf <- 1 - (loglik / loglik_0)\n",
    "R_sq_mf"
   ]
  },
  {
   "cell_type": "markdown",
   "metadata": {},
   "source": [
    "Оценим средние предельные эффекты."
   ]
  },
  {
   "cell_type": "code",
   "execution_count": 38,
   "metadata": {},
   "outputs": [
    {
     "data": {
      "text/plain": [
       "Call:\n",
       "probitmfx(formula = prob_probit, data = df)\n",
       "\n",
       "Marginal Effects:\n",
       "             dF/dx   Std. Err.       z     P>|z|    \n",
       "Age    -3.1182e-03  3.9757e-04 -7.8432 4.392e-15 ***\n",
       "Work    1.5275e-03  3.3419e-04  4.5706 4.864e-06 ***\n",
       "Income  6.2188e-06  3.5663e-07 17.4375 < 2.2e-16 ***\n",
       "---\n",
       "Signif. codes:  0 ‘***’ 0.001 ‘**’ 0.01 ‘*’ 0.05 ‘.’ 0.1 ‘ ’ 1"
      ]
     },
     "metadata": {},
     "output_type": "display_data"
    }
   ],
   "source": [
    "library(\"mfx\")\n",
    "probitmfx(prob_probit, data=df)"
   ]
  },
  {
   "cell_type": "code",
   "execution_count": 40,
   "metadata": {},
   "outputs": [
    {
     "data": {
      "image/png": "[encoded data removed]",
      "text/plain": [
       "plot without title"
      ]
     },
     "metadata": {
      "image/png": {
       "height": 480,
       "width": 600
      }
     },
     "output_type": "display_data"
    }
   ],
   "source": [
    "library(\"margins\")\n",
    "plot(margins(prob_probit))"
   ]
  },
  {
   "cell_type": "markdown",
   "metadata": {},
   "source": [
    "__Экономическая интерпретация__: \n",
    "\n",
    "Ceteris paribus, при увеличении\n",
    "* возраста индивида на один год для индивида с средним возрастом вероятность откладывать деньги на крупные покупки уменьшается на $0.31\\%$. \n",
    "* рабочей недели на один час для индивида с средней продолжительностью рабочей недели вероятность откладывать деньги на крупные покупки увеличивается на $0.15\\%$.\n",
    "* общего дохода индивида на $1000$ рублей с средним уровнем дохода вероятность откладывать деньги на крупные покупки увеличивается на $0.62\\%$."
   ]
  },
  {
   "cell_type": "markdown",
   "metadata": {},
   "source": [
    "Посмотрим на предельные эффекты для отдельных индивидов:"
   ]
  },
  {
   "cell_type": "code",
   "execution_count": 41,
   "metadata": {},
   "outputs": [
    {
     "data": {
      "text/html": [
       "<table>\n",
       "<caption>A data.frame: 6 × 1</caption>\n",
       "<thead>\n",
       "\t<tr><th></th><th scope=col>dydx_Age</th></tr>\n",
       "\t<tr><th></th><th scope=col>&lt;dbl&gt;</th></tr>\n",
       "</thead>\n",
       "<tbody>\n",
       "\t<tr><th scope=row>1</th><td>-0.004114902</td></tr>\n",
       "\t<tr><th scope=row>2</th><td>-0.004184111</td></tr>\n",
       "\t<tr><th scope=row>3</th><td>-0.002642668</td></tr>\n",
       "\t<tr><th scope=row>4</th><td>-0.003132294</td></tr>\n",
       "\t<tr><th scope=row>5</th><td>-0.003134368</td></tr>\n",
       "\t<tr><th scope=row>6</th><td>-0.002411663</td></tr>\n",
       "</tbody>\n",
       "</table>\n"
      ],
      "text/latex": [
       "A data.frame: 6 × 1\n",
       "\\begin{tabular}{r|l}\n",
       "  & dydx\\_Age\\\\\n",
       "  & <dbl>\\\\\n",
       "\\hline\n",
       "\t1 & -0.004114902\\\\\n",
       "\t2 & -0.004184111\\\\\n",
       "\t3 & -0.002642668\\\\\n",
       "\t4 & -0.003132294\\\\\n",
       "\t5 & -0.003134368\\\\\n",
       "\t6 & -0.002411663\\\\\n",
       "\\end{tabular}\n"
      ],
      "text/markdown": [
       "\n",
       "A data.frame: 6 × 1\n",
       "\n",
       "| <!--/--> | dydx_Age &lt;dbl&gt; |\n",
       "|---|---|\n",
       "| 1 | -0.004114902 |\n",
       "| 2 | -0.004184111 |\n",
       "| 3 | -0.002642668 |\n",
       "| 4 | -0.003132294 |\n",
       "| 5 | -0.003134368 |\n",
       "| 6 | -0.002411663 |\n",
       "\n"
      ],
      "text/plain": [
       "  dydx_Age    \n",
       "1 -0.004114902\n",
       "2 -0.004184111\n",
       "3 -0.002642668\n",
       "4 -0.003132294\n",
       "5 -0.003134368\n",
       "6 -0.002411663"
      ]
     },
     "metadata": {},
     "output_type": "display_data"
    }
   ],
   "source": [
    "head(dydx(df, prob_probit, \"Age\"))"
   ]
  },
  {
   "cell_type": "code",
   "execution_count": 42,
   "metadata": {},
   "outputs": [
    {
     "data": {
      "text/html": [
       "<table>\n",
       "<caption>A data.frame: 6 × 1</caption>\n",
       "<thead>\n",
       "\t<tr><th></th><th scope=col>dydx_Work</th></tr>\n",
       "\t<tr><th></th><th scope=col>&lt;dbl&gt;</th></tr>\n",
       "</thead>\n",
       "<tbody>\n",
       "\t<tr><th scope=row>1</th><td>0.002015685</td></tr>\n",
       "\t<tr><th scope=row>2</th><td>0.002049587</td></tr>\n",
       "\t<tr><th scope=row>3</th><td>0.001294512</td></tr>\n",
       "\t<tr><th scope=row>4</th><td>0.001534355</td></tr>\n",
       "\t<tr><th scope=row>5</th><td>0.001535371</td></tr>\n",
       "\t<tr><th scope=row>6</th><td>0.001181354</td></tr>\n",
       "</tbody>\n",
       "</table>\n"
      ],
      "text/latex": [
       "A data.frame: 6 × 1\n",
       "\\begin{tabular}{r|l}\n",
       "  & dydx\\_Work\\\\\n",
       "  & <dbl>\\\\\n",
       "\\hline\n",
       "\t1 & 0.002015685\\\\\n",
       "\t2 & 0.002049587\\\\\n",
       "\t3 & 0.001294512\\\\\n",
       "\t4 & 0.001534355\\\\\n",
       "\t5 & 0.001535371\\\\\n",
       "\t6 & 0.001181354\\\\\n",
       "\\end{tabular}\n"
      ],
      "text/markdown": [
       "\n",
       "A data.frame: 6 × 1\n",
       "\n",
       "| <!--/--> | dydx_Work &lt;dbl&gt; |\n",
       "|---|---|\n",
       "| 1 | 0.002015685 |\n",
       "| 2 | 0.002049587 |\n",
       "| 3 | 0.001294512 |\n",
       "| 4 | 0.001534355 |\n",
       "| 5 | 0.001535371 |\n",
       "| 6 | 0.001181354 |\n",
       "\n"
      ],
      "text/plain": [
       "  dydx_Work  \n",
       "1 0.002015685\n",
       "2 0.002049587\n",
       "3 0.001294512\n",
       "4 0.001534355\n",
       "5 0.001535371\n",
       "6 0.001181354"
      ]
     },
     "metadata": {},
     "output_type": "display_data"
    }
   ],
   "source": [
    "head(dydx(df, prob_probit, \"Work\"))"
   ]
  },
  {
   "cell_type": "markdown",
   "metadata": {},
   "source": [
    "(b) Logit-модель"
   ]
  },
  {
   "cell_type": "markdown",
   "metadata": {},
   "source": [
    "$$\n",
    "\\mathbb{P}(Y_i=1) = F(\\beta_0 + \\beta_1 \\text{Age}_i + \\beta_2 \\text{Work_Hours}_i + \\beta_3 \\text{Income}_i ), где\n",
    "$$\n",
    "\n",
    "$$\n",
    "F(z) = \\dfrac{1}{1 - \\exp({-z})}\n",
    "$$"
   ]
  },
  {
   "cell_type": "code",
   "execution_count": 43,
   "metadata": {
    "scrolled": false
   },
   "outputs": [
    {
     "data": {
      "text/plain": [
       "\n",
       "Call:\n",
       "glm(formula = Durables ~ 1 + Age + Work + Income, family = binomial(link = \"logit\"), \n",
       "    data = df)\n",
       "\n",
       "Deviance Residuals: \n",
       "    Min       1Q   Median       3Q      Max  \n",
       "-5.1435  -0.6774  -0.5743  -0.4684   2.2112  \n",
       "\n",
       "Coefficients:\n",
       "              Estimate Std. Error z value Pr(>|z|)    \n",
       "(Intercept) -1.373e+00  1.069e-01 -12.838  < 2e-16 ***\n",
       "Age         -1.978e-02  2.494e-03  -7.930 2.18e-15 ***\n",
       "Work         9.202e-03  2.079e-03   4.426 9.61e-06 ***\n",
       "Income       4.263e-05  2.211e-06  19.285  < 2e-16 ***\n",
       "---\n",
       "Signif. codes:  0 ‘***’ 0.001 ‘**’ 0.01 ‘*’ 0.05 ‘.’ 0.1 ‘ ’ 1\n",
       "\n",
       "(Dispersion parameter for binomial family taken to be 1)\n",
       "\n",
       "    Null deviance: 7203.8  on 6902  degrees of freedom\n",
       "Residual deviance: 6650.1  on 6899  degrees of freedom\n",
       "AIC: 6658.1\n",
       "\n",
       "Number of Fisher Scoring iterations: 5\n"
      ]
     },
     "metadata": {},
     "output_type": "display_data"
    }
   ],
   "source": [
    "prob_logit <- glm(Durables ~ 1 + Age + Work + Income, family=binomial(link=\"logit\"), data = df)\n",
    "summary(prob_logit)"
   ]
  },
  {
   "cell_type": "markdown",
   "metadata": {},
   "source": [
    "Получили: \n",
    "$$\n",
    "\\widehat{\\mathbb{P}(Y_i=1)} = F(-1.373 -0.0198 \\times \\text{Age}_i + 0.0092 \\times \\text{Work_Hours}_i + 0.00004 \\times \\text{Income}_i )\n",
    "$$"
   ]
  },
  {
   "cell_type": "markdown",
   "metadata": {},
   "source": [
    "Все регрессоры статистически значимы при любом разумном уровне значимости."
   ]
  },
  {
   "cell_type": "markdown",
   "metadata": {},
   "source": [
    "Проверим качество logit-модели по $R^2$ МакФаддена:"
   ]
  },
  {
   "cell_type": "code",
   "execution_count": 57,
   "metadata": {},
   "outputs": [
    {
     "data": {
      "text/html": [
       "0.0768654272466536"
      ],
      "text/latex": [
       "0.0768654272466536"
      ],
      "text/markdown": [
       "0.0768654272466536"
      ],
      "text/plain": [
       "[1] 0.07686543"
      ]
     },
     "metadata": {},
     "output_type": "display_data"
    }
   ],
   "source": [
    "loglik <- 0.5 * (-prob_logit$aic + 2 * length(prob_logit$coefficients))\n",
    "prob_0 <- glm(Durables ~ 1, family=binomial(link=\"logit\"), data = df)\n",
    "loglik_0 <- 0.5 * (-prob_0$aic + 2 * length(prob_0$coefficients))\n",
    "R_sq_mf <- 1 - (loglik / loglik_0)\n",
    "R_sq_mf"
   ]
  },
  {
   "cell_type": "markdown",
   "metadata": {},
   "source": [
    "Как видим, качество logit-модели немного лучше probit-модели."
   ]
  },
  {
   "cell_type": "markdown",
   "metadata": {},
   "source": [
    "Предельные эффекты.\n",
    "\n"
   ]
  },
  {
   "cell_type": "code",
   "execution_count": 44,
   "metadata": {},
   "outputs": [
    {
     "data": {
      "text/plain": [
       "Call:\n",
       "logitmfx(formula = prob_logit, data = df)\n",
       "\n",
       "Marginal Effects:\n",
       "             dF/dx   Std. Err.       z     P>|z|    \n",
       "Age    -3.1977e-03  4.0006e-04 -7.9930 1.317e-15 ***\n",
       "Work    1.4880e-03  3.3780e-04  4.4049 1.058e-05 ***\n",
       "Income  6.8938e-06  3.5873e-07 19.2172 < 2.2e-16 ***\n",
       "---\n",
       "Signif. codes:  0 ‘***’ 0.001 ‘**’ 0.01 ‘*’ 0.05 ‘.’ 0.1 ‘ ’ 1"
      ]
     },
     "metadata": {},
     "output_type": "display_data"
    }
   ],
   "source": [
    "margins_logit <- logitmfx(prob_logit, data=df)\n",
    "margins_logit"
   ]
  },
  {
   "cell_type": "code",
   "execution_count": 45,
   "metadata": {},
   "outputs": [
    {
     "data": {
      "image/png": "[encoded data removed]",
      "text/plain": [
       "plot without title"
      ]
     },
     "metadata": {
      "image/png": {
       "height": 480,
       "width": 600
      }
     },
     "output_type": "display_data"
    }
   ],
   "source": [
    "plot(margins(prob_logit))"
   ]
  },
  {
   "cell_type": "markdown",
   "metadata": {},
   "source": [
    "__Экономическая интерпретация__: \n",
    "\n",
    "Ceteris paribus, при увеличении \n",
    "* возраста индивида на один год для индивида с средним возрастом вероятность откладывать деньги на крупные покупки уменьшается на $0.32 \\%$. \n",
    "* рабочей недели на один час для индивида с средней продолжительностью рабочей недели ероятность откладывать деньги на крупные покупки увеличивается на $0.15 \\%$.\n",
    "* общего дохода индивида на $1000$ рублей с средним уровнем дохода вероятность откладывать деньги на крупные покупки увеличивается на $0.69 \\%$ ."
   ]
  },
  {
   "cell_type": "markdown",
   "metadata": {},
   "source": [
    "Посмотрим на предельные эффекты для отдельных индивидов:"
   ]
  },
  {
   "cell_type": "code",
   "execution_count": 46,
   "metadata": {},
   "outputs": [
    {
     "data": {
      "text/html": [
       "<table>\n",
       "<caption>A data.frame: 6 × 1</caption>\n",
       "<thead>\n",
       "\t<tr><th></th><th scope=col>dydx_Age</th></tr>\n",
       "\t<tr><th></th><th scope=col>&lt;dbl&gt;</th></tr>\n",
       "</thead>\n",
       "<tbody>\n",
       "\t<tr><th scope=row>1</th><td>-0.004683650</td></tr>\n",
       "\t<tr><th scope=row>2</th><td>-0.004776542</td></tr>\n",
       "\t<tr><th scope=row>3</th><td>-0.002600341</td></tr>\n",
       "\t<tr><th scope=row>4</th><td>-0.003266482</td></tr>\n",
       "\t<tr><th scope=row>5</th><td>-0.003190278</td></tr>\n",
       "\t<tr><th scope=row>6</th><td>-0.002267624</td></tr>\n",
       "</tbody>\n",
       "</table>\n"
      ],
      "text/latex": [
       "A data.frame: 6 × 1\n",
       "\\begin{tabular}{r|l}\n",
       "  & dydx\\_Age\\\\\n",
       "  & <dbl>\\\\\n",
       "\\hline\n",
       "\t1 & -0.004683650\\\\\n",
       "\t2 & -0.004776542\\\\\n",
       "\t3 & -0.002600341\\\\\n",
       "\t4 & -0.003266482\\\\\n",
       "\t5 & -0.003190278\\\\\n",
       "\t6 & -0.002267624\\\\\n",
       "\\end{tabular}\n"
      ],
      "text/markdown": [
       "\n",
       "A data.frame: 6 × 1\n",
       "\n",
       "| <!--/--> | dydx_Age &lt;dbl&gt; |\n",
       "|---|---|\n",
       "| 1 | -0.004683650 |\n",
       "| 2 | -0.004776542 |\n",
       "| 3 | -0.002600341 |\n",
       "| 4 | -0.003266482 |\n",
       "| 5 | -0.003190278 |\n",
       "| 6 | -0.002267624 |\n",
       "\n"
      ],
      "text/plain": [
       "  dydx_Age    \n",
       "1 -0.004683650\n",
       "2 -0.004776542\n",
       "3 -0.002600341\n",
       "4 -0.003266482\n",
       "5 -0.003190278\n",
       "6 -0.002267624"
      ]
     },
     "metadata": {},
     "output_type": "display_data"
    }
   ],
   "source": [
    "head(dydx(df, prob_logit, \"Age\"))"
   ]
  },
  {
   "cell_type": "code",
   "execution_count": 47,
   "metadata": {},
   "outputs": [
    {
     "data": {
      "text/html": [
       "<table>\n",
       "<caption>A data.frame: 6 × 1</caption>\n",
       "<thead>\n",
       "\t<tr><th></th><th scope=col>dydx_Work</th></tr>\n",
       "\t<tr><th></th><th scope=col>&lt;dbl&gt;</th></tr>\n",
       "</thead>\n",
       "<tbody>\n",
       "\t<tr><th scope=row>1</th><td>0.002179484</td></tr>\n",
       "\t<tr><th scope=row>2</th><td>0.002222711</td></tr>\n",
       "\t<tr><th scope=row>3</th><td>0.001210041</td></tr>\n",
       "\t<tr><th scope=row>4</th><td>0.001520023</td></tr>\n",
       "\t<tr><th scope=row>5</th><td>0.001484562</td></tr>\n",
       "\t<tr><th scope=row>6</th><td>0.001055215</td></tr>\n",
       "</tbody>\n",
       "</table>\n"
      ],
      "text/latex": [
       "A data.frame: 6 × 1\n",
       "\\begin{tabular}{r|l}\n",
       "  & dydx\\_Work\\\\\n",
       "  & <dbl>\\\\\n",
       "\\hline\n",
       "\t1 & 0.002179484\\\\\n",
       "\t2 & 0.002222711\\\\\n",
       "\t3 & 0.001210041\\\\\n",
       "\t4 & 0.001520023\\\\\n",
       "\t5 & 0.001484562\\\\\n",
       "\t6 & 0.001055215\\\\\n",
       "\\end{tabular}\n"
      ],
      "text/markdown": [
       "\n",
       "A data.frame: 6 × 1\n",
       "\n",
       "| <!--/--> | dydx_Work &lt;dbl&gt; |\n",
       "|---|---|\n",
       "| 1 | 0.002179484 |\n",
       "| 2 | 0.002222711 |\n",
       "| 3 | 0.001210041 |\n",
       "| 4 | 0.001520023 |\n",
       "| 5 | 0.001484562 |\n",
       "| 6 | 0.001055215 |\n",
       "\n"
      ],
      "text/plain": [
       "  dydx_Work  \n",
       "1 0.002179484\n",
       "2 0.002222711\n",
       "3 0.001210041\n",
       "4 0.001520023\n",
       "5 0.001484562\n",
       "6 0.001055215"
      ]
     },
     "metadata": {},
     "output_type": "display_data"
    }
   ],
   "source": [
    "head(dydx(df, prob_logit, \"Work\"))"
   ]
  },
  {
   "cell_type": "markdown",
   "metadata": {},
   "source": [
    "2)\n",
    "\n",
    "(a) Probit-модель\n",
    "\n",
    "Создадим функцию, которая по порогу считает количество TP, TN, FP, FN."
   ]
  },
  {
   "cell_type": "code",
   "execution_count": 48,
   "metadata": {},
   "outputs": [],
   "source": [
    "tfnp <- function(cut = 0.5, y_true, prob_probit) {\n",
    "  y_pred <- prob_probit > cut\n",
    "  TP <- sum((y_true == 1) & (y_pred == 1))\n",
    "  TN <- sum((y_true == 0) & (y_pred == 0))\n",
    "  FP <- sum((y_true == 0) & (y_pred == 1))\n",
    "  FN <- sum((y_true == 1) & (y_pred == 0))\n",
    "  return(c(TP, TN, FP, FN))\n",
    "}"
   ]
  },
  {
   "cell_type": "markdown",
   "metadata": {},
   "source": [
    "Для разных порогов считаем специфичность и чувствительность."
   ]
  },
  {
   "cell_type": "code",
   "execution_count": 49,
   "metadata": {},
   "outputs": [
    {
     "data": {
      "text/html": [
       "<style>\n",
       ".list-inline {list-style: none; margin:0; padding: 0}\n",
       ".list-inline>li {display: inline-block}\n",
       ".list-inline>li:not(:last-child)::after {content: \"\\00b7\"; padding: 0 .5ex}\n",
       "</style>\n",
       "<ol class=list-inline><li>0</li><li>0.05</li><li>0.1</li><li>0.15</li><li>0.2</li><li>0.25</li><li>0.3</li><li>0.35</li><li>0.4</li><li>0.45</li><li>0.5</li><li>0.55</li><li>0.6</li><li>0.65</li><li>0.7</li><li>0.75</li><li>0.8</li><li>0.85</li><li>0.9</li><li>0.95</li><li>1</li></ol>\n"
      ],
      "text/latex": [
       "\\begin{enumerate*}\n",
       "\\item 0\n",
       "\\item 0.05\n",
       "\\item 0.1\n",
       "\\item 0.15\n",
       "\\item 0.2\n",
       "\\item 0.25\n",
       "\\item 0.3\n",
       "\\item 0.35\n",
       "\\item 0.4\n",
       "\\item 0.45\n",
       "\\item 0.5\n",
       "\\item 0.55\n",
       "\\item 0.6\n",
       "\\item 0.65\n",
       "\\item 0.7\n",
       "\\item 0.75\n",
       "\\item 0.8\n",
       "\\item 0.85\n",
       "\\item 0.9\n",
       "\\item 0.95\n",
       "\\item 1\n",
       "\\end{enumerate*}\n"
      ],
      "text/markdown": [
       "1. 0\n",
       "2. 0.05\n",
       "3. 0.1\n",
       "4. 0.15\n",
       "5. 0.2\n",
       "6. 0.25\n",
       "7. 0.3\n",
       "8. 0.35\n",
       "9. 0.4\n",
       "10. 0.45\n",
       "11. 0.5\n",
       "12. 0.55\n",
       "13. 0.6\n",
       "14. 0.65\n",
       "15. 0.7\n",
       "16. 0.75\n",
       "17. 0.8\n",
       "18. 0.85\n",
       "19. 0.9\n",
       "20. 0.95\n",
       "21. 1\n",
       "\n",
       "\n"
      ],
      "text/plain": [
       " [1] 0.00 0.05 0.10 0.15 0.20 0.25 0.30 0.35 0.40 0.45 0.50 0.55 0.60 0.65 0.70\n",
       "[16] 0.75 0.80 0.85 0.90 0.95 1.00"
      ]
     },
     "metadata": {},
     "output_type": "display_data"
    }
   ],
   "source": [
    "cuts = seq(0,1, len = 21)\n",
    "cuts"
   ]
  },
  {
   "cell_type": "code",
   "execution_count": 50,
   "metadata": {},
   "outputs": [],
   "source": [
    "t <- data.frame(cuts, TP = 0, TN = 0, FP = 0, FN = 0)\n",
    "\n",
    "for (i in 1:nrow(t)) {\n",
    "  t[i, 2:5] <- tfnp(t$cuts[i], df$Durables, prob_probit$fitted.values)\n",
    "}\n",
    "\n",
    "t$Specificity <- t$TN / (t$TN + t$FP)\n",
    "t$Sensitivity <- t$TP / (t$TP + t$FN)\n",
    "t$Accuracy <- (t$TP + t$TN) / (t$TP + t$TN + t$FN + t$FP)"
   ]
  },
  {
   "cell_type": "code",
   "execution_count": 51,
   "metadata": {},
   "outputs": [
    {
     "data": {
      "text/html": [
       "<table>\n",
       "<caption>A data.frame: 21 × 8</caption>\n",
       "<thead>\n",
       "\t<tr><th scope=col>cuts</th><th scope=col>TP</th><th scope=col>TN</th><th scope=col>FP</th><th scope=col>FN</th><th scope=col>Specificity</th><th scope=col>Sensitivity</th><th scope=col>Accuracy</th></tr>\n",
       "\t<tr><th scope=col>&lt;dbl&gt;</th><th scope=col>&lt;dbl&gt;</th><th scope=col>&lt;dbl&gt;</th><th scope=col>&lt;dbl&gt;</th><th scope=col>&lt;dbl&gt;</th><th scope=col>&lt;dbl&gt;</th><th scope=col>&lt;dbl&gt;</th><th scope=col>&lt;dbl&gt;</th></tr>\n",
       "</thead>\n",
       "<tbody>\n",
       "\t<tr><td>0.00</td><td>1491</td><td>   0</td><td>5412</td><td>   0</td><td>0.00000000</td><td>1.00000000</td><td>0.2159930</td></tr>\n",
       "\t<tr><td>0.05</td><td>1491</td><td>   0</td><td>5412</td><td>   0</td><td>0.00000000</td><td>1.00000000</td><td>0.2159930</td></tr>\n",
       "\t<tr><td>0.10</td><td>1486</td><td> 112</td><td>5300</td><td>   5</td><td>0.02069475</td><td>0.99664655</td><td>0.2314936</td></tr>\n",
       "\t<tr><td>0.15</td><td>1303</td><td>1726</td><td>3686</td><td> 188</td><td>0.31892092</td><td>0.87391013</td><td>0.4387947</td></tr>\n",
       "\t<tr><td>0.20</td><td> 957</td><td>3432</td><td>1980</td><td> 534</td><td>0.63414634</td><td>0.64185111</td><td>0.6358105</td></tr>\n",
       "\t<tr><td>0.25</td><td> 650</td><td>4526</td><td> 886</td><td> 841</td><td>0.83628973</td><td>0.43594903</td><td>0.7498189</td></tr>\n",
       "\t<tr><td>0.30</td><td> 450</td><td>4940</td><td> 472</td><td>1041</td><td>0.91278640</td><td>0.30181087</td><td>0.7808199</td></tr>\n",
       "\t<tr><td>0.35</td><td> 308</td><td>5153</td><td> 259</td><td>1183</td><td>0.95214339</td><td>0.20657277</td><td>0.7911053</td></tr>\n",
       "\t<tr><td>0.40</td><td> 219</td><td>5251</td><td> 161</td><td>1272</td><td>0.97025129</td><td>0.14688129</td><td>0.7924091</td></tr>\n",
       "\t<tr><td>0.45</td><td> 159</td><td>5308</td><td> 104</td><td>1332</td><td>0.98078344</td><td>0.10663984</td><td>0.7919745</td></tr>\n",
       "\t<tr><td>0.50</td><td> 125</td><td>5337</td><td>  75</td><td>1366</td><td>0.98614191</td><td>0.08383635</td><td>0.7912502</td></tr>\n",
       "\t<tr><td>0.55</td><td> 104</td><td>5360</td><td>  52</td><td>1387</td><td>0.99039172</td><td>0.06975184</td><td>0.7915399</td></tr>\n",
       "\t<tr><td>0.60</td><td>  71</td><td>5373</td><td>  39</td><td>1420</td><td>0.99279379</td><td>0.04761905</td><td>0.7886426</td></tr>\n",
       "\t<tr><td>0.65</td><td>  56</td><td>5384</td><td>  28</td><td>1435</td><td>0.99482631</td><td>0.03755869</td><td>0.7880632</td></tr>\n",
       "\t<tr><td>0.70</td><td>  45</td><td>5388</td><td>  24</td><td>1446</td><td>0.99556541</td><td>0.03018109</td><td>0.7870491</td></tr>\n",
       "\t<tr><td>0.75</td><td>  37</td><td>5392</td><td>  20</td><td>1454</td><td>0.99630451</td><td>0.02481556</td><td>0.7864697</td></tr>\n",
       "\t<tr><td>0.80</td><td>  29</td><td>5398</td><td>  14</td><td>1462</td><td>0.99741316</td><td>0.01945003</td><td>0.7861799</td></tr>\n",
       "\t<tr><td>0.85</td><td>  24</td><td>5401</td><td>  11</td><td>1467</td><td>0.99796748</td><td>0.01609658</td><td>0.7858902</td></tr>\n",
       "\t<tr><td>0.90</td><td>  17</td><td>5405</td><td>   7</td><td>1474</td><td>0.99870658</td><td>0.01140174</td><td>0.7854556</td></tr>\n",
       "\t<tr><td>0.95</td><td>  12</td><td>5408</td><td>   4</td><td>1479</td><td>0.99926090</td><td>0.00804829</td><td>0.7851659</td></tr>\n",
       "\t<tr><td>1.00</td><td>   0</td><td>5412</td><td>   0</td><td>1491</td><td>1.00000000</td><td>0.00000000</td><td>0.7840070</td></tr>\n",
       "</tbody>\n",
       "</table>\n"
      ],
      "text/latex": [
       "A data.frame: 21 × 8\n",
       "\\begin{tabular}{llllllll}\n",
       " cuts & TP & TN & FP & FN & Specificity & Sensitivity & Accuracy\\\\\n",
       " <dbl> & <dbl> & <dbl> & <dbl> & <dbl> & <dbl> & <dbl> & <dbl>\\\\\n",
       "\\hline\n",
       "\t 0.00 & 1491 &    0 & 5412 &    0 & 0.00000000 & 1.00000000 & 0.2159930\\\\\n",
       "\t 0.05 & 1491 &    0 & 5412 &    0 & 0.00000000 & 1.00000000 & 0.2159930\\\\\n",
       "\t 0.10 & 1486 &  112 & 5300 &    5 & 0.02069475 & 0.99664655 & 0.2314936\\\\\n",
       "\t 0.15 & 1303 & 1726 & 3686 &  188 & 0.31892092 & 0.87391013 & 0.4387947\\\\\n",
       "\t 0.20 &  957 & 3432 & 1980 &  534 & 0.63414634 & 0.64185111 & 0.6358105\\\\\n",
       "\t 0.25 &  650 & 4526 &  886 &  841 & 0.83628973 & 0.43594903 & 0.7498189\\\\\n",
       "\t 0.30 &  450 & 4940 &  472 & 1041 & 0.91278640 & 0.30181087 & 0.7808199\\\\\n",
       "\t 0.35 &  308 & 5153 &  259 & 1183 & 0.95214339 & 0.20657277 & 0.7911053\\\\\n",
       "\t 0.40 &  219 & 5251 &  161 & 1272 & 0.97025129 & 0.14688129 & 0.7924091\\\\\n",
       "\t 0.45 &  159 & 5308 &  104 & 1332 & 0.98078344 & 0.10663984 & 0.7919745\\\\\n",
       "\t 0.50 &  125 & 5337 &   75 & 1366 & 0.98614191 & 0.08383635 & 0.7912502\\\\\n",
       "\t 0.55 &  104 & 5360 &   52 & 1387 & 0.99039172 & 0.06975184 & 0.7915399\\\\\n",
       "\t 0.60 &   71 & 5373 &   39 & 1420 & 0.99279379 & 0.04761905 & 0.7886426\\\\\n",
       "\t 0.65 &   56 & 5384 &   28 & 1435 & 0.99482631 & 0.03755869 & 0.7880632\\\\\n",
       "\t 0.70 &   45 & 5388 &   24 & 1446 & 0.99556541 & 0.03018109 & 0.7870491\\\\\n",
       "\t 0.75 &   37 & 5392 &   20 & 1454 & 0.99630451 & 0.02481556 & 0.7864697\\\\\n",
       "\t 0.80 &   29 & 5398 &   14 & 1462 & 0.99741316 & 0.01945003 & 0.7861799\\\\\n",
       "\t 0.85 &   24 & 5401 &   11 & 1467 & 0.99796748 & 0.01609658 & 0.7858902\\\\\n",
       "\t 0.90 &   17 & 5405 &    7 & 1474 & 0.99870658 & 0.01140174 & 0.7854556\\\\\n",
       "\t 0.95 &   12 & 5408 &    4 & 1479 & 0.99926090 & 0.00804829 & 0.7851659\\\\\n",
       "\t 1.00 &    0 & 5412 &    0 & 1491 & 1.00000000 & 0.00000000 & 0.7840070\\\\\n",
       "\\end{tabular}\n"
      ],
      "text/markdown": [
       "\n",
       "A data.frame: 21 × 8\n",
       "\n",
       "| cuts &lt;dbl&gt; | TP &lt;dbl&gt; | TN &lt;dbl&gt; | FP &lt;dbl&gt; | FN &lt;dbl&gt; | Specificity &lt;dbl&gt; | Sensitivity &lt;dbl&gt; | Accuracy &lt;dbl&gt; |\n",
       "|---|---|---|---|---|---|---|---|\n",
       "| 0.00 | 1491 |    0 | 5412 |    0 | 0.00000000 | 1.00000000 | 0.2159930 |\n",
       "| 0.05 | 1491 |    0 | 5412 |    0 | 0.00000000 | 1.00000000 | 0.2159930 |\n",
       "| 0.10 | 1486 |  112 | 5300 |    5 | 0.02069475 | 0.99664655 | 0.2314936 |\n",
       "| 0.15 | 1303 | 1726 | 3686 |  188 | 0.31892092 | 0.87391013 | 0.4387947 |\n",
       "| 0.20 |  957 | 3432 | 1980 |  534 | 0.63414634 | 0.64185111 | 0.6358105 |\n",
       "| 0.25 |  650 | 4526 |  886 |  841 | 0.83628973 | 0.43594903 | 0.7498189 |\n",
       "| 0.30 |  450 | 4940 |  472 | 1041 | 0.91278640 | 0.30181087 | 0.7808199 |\n",
       "| 0.35 |  308 | 5153 |  259 | 1183 | 0.95214339 | 0.20657277 | 0.7911053 |\n",
       "| 0.40 |  219 | 5251 |  161 | 1272 | 0.97025129 | 0.14688129 | 0.7924091 |\n",
       "| 0.45 |  159 | 5308 |  104 | 1332 | 0.98078344 | 0.10663984 | 0.7919745 |\n",
       "| 0.50 |  125 | 5337 |   75 | 1366 | 0.98614191 | 0.08383635 | 0.7912502 |\n",
       "| 0.55 |  104 | 5360 |   52 | 1387 | 0.99039172 | 0.06975184 | 0.7915399 |\n",
       "| 0.60 |   71 | 5373 |   39 | 1420 | 0.99279379 | 0.04761905 | 0.7886426 |\n",
       "| 0.65 |   56 | 5384 |   28 | 1435 | 0.99482631 | 0.03755869 | 0.7880632 |\n",
       "| 0.70 |   45 | 5388 |   24 | 1446 | 0.99556541 | 0.03018109 | 0.7870491 |\n",
       "| 0.75 |   37 | 5392 |   20 | 1454 | 0.99630451 | 0.02481556 | 0.7864697 |\n",
       "| 0.80 |   29 | 5398 |   14 | 1462 | 0.99741316 | 0.01945003 | 0.7861799 |\n",
       "| 0.85 |   24 | 5401 |   11 | 1467 | 0.99796748 | 0.01609658 | 0.7858902 |\n",
       "| 0.90 |   17 | 5405 |    7 | 1474 | 0.99870658 | 0.01140174 | 0.7854556 |\n",
       "| 0.95 |   12 | 5408 |    4 | 1479 | 0.99926090 | 0.00804829 | 0.7851659 |\n",
       "| 1.00 |    0 | 5412 |    0 | 1491 | 1.00000000 | 0.00000000 | 0.7840070 |\n",
       "\n"
      ],
      "text/plain": [
       "   cuts TP   TN   FP   FN   Specificity Sensitivity Accuracy \n",
       "1  0.00 1491    0 5412    0 0.00000000  1.00000000  0.2159930\n",
       "2  0.05 1491    0 5412    0 0.00000000  1.00000000  0.2159930\n",
       "3  0.10 1486  112 5300    5 0.02069475  0.99664655  0.2314936\n",
       "4  0.15 1303 1726 3686  188 0.31892092  0.87391013  0.4387947\n",
       "5  0.20  957 3432 1980  534 0.63414634  0.64185111  0.6358105\n",
       "6  0.25  650 4526  886  841 0.83628973  0.43594903  0.7498189\n",
       "7  0.30  450 4940  472 1041 0.91278640  0.30181087  0.7808199\n",
       "8  0.35  308 5153  259 1183 0.95214339  0.20657277  0.7911053\n",
       "9  0.40  219 5251  161 1272 0.97025129  0.14688129  0.7924091\n",
       "10 0.45  159 5308  104 1332 0.98078344  0.10663984  0.7919745\n",
       "11 0.50  125 5337   75 1366 0.98614191  0.08383635  0.7912502\n",
       "12 0.55  104 5360   52 1387 0.99039172  0.06975184  0.7915399\n",
       "13 0.60   71 5373   39 1420 0.99279379  0.04761905  0.7886426\n",
       "14 0.65   56 5384   28 1435 0.99482631  0.03755869  0.7880632\n",
       "15 0.70   45 5388   24 1446 0.99556541  0.03018109  0.7870491\n",
       "16 0.75   37 5392   20 1454 0.99630451  0.02481556  0.7864697\n",
       "17 0.80   29 5398   14 1462 0.99741316  0.01945003  0.7861799\n",
       "18 0.85   24 5401   11 1467 0.99796748  0.01609658  0.7858902\n",
       "19 0.90   17 5405    7 1474 0.99870658  0.01140174  0.7854556\n",
       "20 0.95   12 5408    4 1479 0.99926090  0.00804829  0.7851659\n",
       "21 1.00    0 5412    0 1491 1.00000000  0.00000000  0.7840070"
      ]
     },
     "metadata": {},
     "output_type": "display_data"
    }
   ],
   "source": [
    "t"
   ]
  },
  {
   "cell_type": "markdown",
   "metadata": {},
   "source": [
    "Нарисуем ROC-кривую."
   ]
  },
  {
   "cell_type": "code",
   "execution_count": 52,
   "metadata": {},
   "outputs": [
    {
     "data": {
      "image/png": "[encoded data removed]",
      "text/plain": [
       "plot without title"
      ]
     },
     "metadata": {
      "image/png": {
       "height": 480,
       "width": 600
      }
     },
     "output_type": "display_data"
    }
   ],
   "source": [
    "ggplot(data = t, aes(x = 1 - Specificity, y = Sensitivity)) +\n",
    "    geom_line() + \n",
    "    theme_minimal() +\n",
    "    theme(text = element_text(size=18)) +\n",
    "    ggtitle(\"ROC Curve for Probit Model\")"
   ]
  },
  {
   "cell_type": "markdown",
   "metadata": {},
   "source": [
    "(б) Logit-модель"
   ]
  },
  {
   "cell_type": "code",
   "execution_count": 53,
   "metadata": {},
   "outputs": [],
   "source": [
    "tfnp <- function(cut = 0.5, y_true, prob_logit) {\n",
    "  y_pred <- prob_logit > cut\n",
    "  TP <- sum((y_true == 1) & (y_pred == 1))\n",
    "  TN <- sum((y_true == 0) & (y_pred == 0))\n",
    "  FP <- sum((y_true == 0) & (y_pred == 1))\n",
    "  FN <- sum((y_true == 1) & (y_pred == 0))\n",
    "  return(c(TP, TN, FP, FN))\n",
    "}\n",
    "\n",
    "cuts = seq(0,1, len = 21)\n",
    "t <- data.frame(cuts, TP = 0, TN = 0, FP = 0, FN = 0)\n",
    "\n",
    "for (i in 1:nrow(t)) {\n",
    "  t[i, 2:5] <- tfnp(t$cuts[i], df$Durables, prob_logit$fitted.values)\n",
    "}\n",
    "\n",
    "t$Specificity <- t$TN / (t$TN + t$FP)\n",
    "t$Sensitivity <- t$TP / (t$TP + t$FN)\n",
    "t$Accuracy <- (t$TP + t$TN) / (t$TP + t$TN + t$FN + t$FP)"
   ]
  },
  {
   "cell_type": "code",
   "execution_count": 54,
   "metadata": {},
   "outputs": [
    {
     "data": {
      "text/html": [
       "<table>\n",
       "<caption>A data.frame: 21 × 8</caption>\n",
       "<thead>\n",
       "\t<tr><th scope=col>cuts</th><th scope=col>TP</th><th scope=col>TN</th><th scope=col>FP</th><th scope=col>FN</th><th scope=col>Specificity</th><th scope=col>Sensitivity</th><th scope=col>Accuracy</th></tr>\n",
       "\t<tr><th scope=col>&lt;dbl&gt;</th><th scope=col>&lt;dbl&gt;</th><th scope=col>&lt;dbl&gt;</th><th scope=col>&lt;dbl&gt;</th><th scope=col>&lt;dbl&gt;</th><th scope=col>&lt;dbl&gt;</th><th scope=col>&lt;dbl&gt;</th><th scope=col>&lt;dbl&gt;</th></tr>\n",
       "</thead>\n",
       "<tbody>\n",
       "\t<tr><td>0.00</td><td>1491</td><td>   0</td><td>5412</td><td>   0</td><td>0.00000000</td><td>1.00000000</td><td>0.2159930</td></tr>\n",
       "\t<tr><td>0.05</td><td>1491</td><td>   0</td><td>5412</td><td>   0</td><td>0.00000000</td><td>1.00000000</td><td>0.2159930</td></tr>\n",
       "\t<tr><td>0.10</td><td>1482</td><td> 167</td><td>5245</td><td>   9</td><td>0.03085735</td><td>0.99396378</td><td>0.2388816</td></tr>\n",
       "\t<tr><td>0.15</td><td>1281</td><td>1900</td><td>3512</td><td> 210</td><td>0.35107169</td><td>0.85915493</td><td>0.4608141</td></tr>\n",
       "\t<tr><td>0.20</td><td> 933</td><td>3549</td><td>1863</td><td> 558</td><td>0.65576497</td><td>0.62575453</td><td>0.6492829</td></tr>\n",
       "\t<tr><td>0.25</td><td> 667</td><td>4496</td><td> 916</td><td> 824</td><td>0.83074649</td><td>0.44735077</td><td>0.7479357</td></tr>\n",
       "\t<tr><td>0.30</td><td> 483</td><td>4878</td><td> 534</td><td>1008</td><td>0.90133038</td><td>0.32394366</td><td>0.7766189</td></tr>\n",
       "\t<tr><td>0.35</td><td> 351</td><td>5103</td><td> 309</td><td>1140</td><td>0.94290466</td><td>0.23541247</td><td>0.7900913</td></tr>\n",
       "\t<tr><td>0.40</td><td> 265</td><td>5203</td><td> 209</td><td>1226</td><td>0.96138211</td><td>0.17773307</td><td>0.7921194</td></tr>\n",
       "\t<tr><td>0.45</td><td> 193</td><td>5261</td><td> 151</td><td>1298</td><td>0.97209904</td><td>0.12944333</td><td>0.7900913</td></tr>\n",
       "\t<tr><td>0.50</td><td> 151</td><td>5307</td><td> 105</td><td>1340</td><td>0.98059867</td><td>0.10127431</td><td>0.7906707</td></tr>\n",
       "\t<tr><td>0.55</td><td> 127</td><td>5337</td><td>  75</td><td>1364</td><td>0.98614191</td><td>0.08517773</td><td>0.7915399</td></tr>\n",
       "\t<tr><td>0.60</td><td> 108</td><td>5351</td><td>  61</td><td>1383</td><td>0.98872875</td><td>0.07243461</td><td>0.7908156</td></tr>\n",
       "\t<tr><td>0.65</td><td>  84</td><td>5367</td><td>  45</td><td>1407</td><td>0.99168514</td><td>0.05633803</td><td>0.7896567</td></tr>\n",
       "\t<tr><td>0.70</td><td>  64</td><td>5381</td><td>  31</td><td>1427</td><td>0.99427199</td><td>0.04292421</td><td>0.7887875</td></tr>\n",
       "\t<tr><td>0.75</td><td>  52</td><td>5385</td><td>  27</td><td>1439</td><td>0.99501109</td><td>0.03487592</td><td>0.7876286</td></tr>\n",
       "\t<tr><td>0.80</td><td>  40</td><td>5393</td><td>  19</td><td>1451</td><td>0.99648928</td><td>0.02682763</td><td>0.7870491</td></tr>\n",
       "\t<tr><td>0.85</td><td>  30</td><td>5399</td><td>  13</td><td>1461</td><td>0.99759793</td><td>0.02012072</td><td>0.7864697</td></tr>\n",
       "\t<tr><td>0.90</td><td>  25</td><td>5401</td><td>  11</td><td>1466</td><td>0.99796748</td><td>0.01676727</td><td>0.7860351</td></tr>\n",
       "\t<tr><td>0.95</td><td>  15</td><td>5407</td><td>   5</td><td>1476</td><td>0.99907613</td><td>0.01006036</td><td>0.7854556</td></tr>\n",
       "\t<tr><td>1.00</td><td>   0</td><td>5412</td><td>   0</td><td>1491</td><td>1.00000000</td><td>0.00000000</td><td>0.7840070</td></tr>\n",
       "</tbody>\n",
       "</table>\n"
      ],
      "text/latex": [
       "A data.frame: 21 × 8\n",
       "\\begin{tabular}{llllllll}\n",
       " cuts & TP & TN & FP & FN & Specificity & Sensitivity & Accuracy\\\\\n",
       " <dbl> & <dbl> & <dbl> & <dbl> & <dbl> & <dbl> & <dbl> & <dbl>\\\\\n",
       "\\hline\n",
       "\t 0.00 & 1491 &    0 & 5412 &    0 & 0.00000000 & 1.00000000 & 0.2159930\\\\\n",
       "\t 0.05 & 1491 &    0 & 5412 &    0 & 0.00000000 & 1.00000000 & 0.2159930\\\\\n",
       "\t 0.10 & 1482 &  167 & 5245 &    9 & 0.03085735 & 0.99396378 & 0.2388816\\\\\n",
       "\t 0.15 & 1281 & 1900 & 3512 &  210 & 0.35107169 & 0.85915493 & 0.4608141\\\\\n",
       "\t 0.20 &  933 & 3549 & 1863 &  558 & 0.65576497 & 0.62575453 & 0.6492829\\\\\n",
       "\t 0.25 &  667 & 4496 &  916 &  824 & 0.83074649 & 0.44735077 & 0.7479357\\\\\n",
       "\t 0.30 &  483 & 4878 &  534 & 1008 & 0.90133038 & 0.32394366 & 0.7766189\\\\\n",
       "\t 0.35 &  351 & 5103 &  309 & 1140 & 0.94290466 & 0.23541247 & 0.7900913\\\\\n",
       "\t 0.40 &  265 & 5203 &  209 & 1226 & 0.96138211 & 0.17773307 & 0.7921194\\\\\n",
       "\t 0.45 &  193 & 5261 &  151 & 1298 & 0.97209904 & 0.12944333 & 0.7900913\\\\\n",
       "\t 0.50 &  151 & 5307 &  105 & 1340 & 0.98059867 & 0.10127431 & 0.7906707\\\\\n",
       "\t 0.55 &  127 & 5337 &   75 & 1364 & 0.98614191 & 0.08517773 & 0.7915399\\\\\n",
       "\t 0.60 &  108 & 5351 &   61 & 1383 & 0.98872875 & 0.07243461 & 0.7908156\\\\\n",
       "\t 0.65 &   84 & 5367 &   45 & 1407 & 0.99168514 & 0.05633803 & 0.7896567\\\\\n",
       "\t 0.70 &   64 & 5381 &   31 & 1427 & 0.99427199 & 0.04292421 & 0.7887875\\\\\n",
       "\t 0.75 &   52 & 5385 &   27 & 1439 & 0.99501109 & 0.03487592 & 0.7876286\\\\\n",
       "\t 0.80 &   40 & 5393 &   19 & 1451 & 0.99648928 & 0.02682763 & 0.7870491\\\\\n",
       "\t 0.85 &   30 & 5399 &   13 & 1461 & 0.99759793 & 0.02012072 & 0.7864697\\\\\n",
       "\t 0.90 &   25 & 5401 &   11 & 1466 & 0.99796748 & 0.01676727 & 0.7860351\\\\\n",
       "\t 0.95 &   15 & 5407 &    5 & 1476 & 0.99907613 & 0.01006036 & 0.7854556\\\\\n",
       "\t 1.00 &    0 & 5412 &    0 & 1491 & 1.00000000 & 0.00000000 & 0.7840070\\\\\n",
       "\\end{tabular}\n"
      ],
      "text/markdown": [
       "\n",
       "A data.frame: 21 × 8\n",
       "\n",
       "| cuts &lt;dbl&gt; | TP &lt;dbl&gt; | TN &lt;dbl&gt; | FP &lt;dbl&gt; | FN &lt;dbl&gt; | Specificity &lt;dbl&gt; | Sensitivity &lt;dbl&gt; | Accuracy &lt;dbl&gt; |\n",
       "|---|---|---|---|---|---|---|---|\n",
       "| 0.00 | 1491 |    0 | 5412 |    0 | 0.00000000 | 1.00000000 | 0.2159930 |\n",
       "| 0.05 | 1491 |    0 | 5412 |    0 | 0.00000000 | 1.00000000 | 0.2159930 |\n",
       "| 0.10 | 1482 |  167 | 5245 |    9 | 0.03085735 | 0.99396378 | 0.2388816 |\n",
       "| 0.15 | 1281 | 1900 | 3512 |  210 | 0.35107169 | 0.85915493 | 0.4608141 |\n",
       "| 0.20 |  933 | 3549 | 1863 |  558 | 0.65576497 | 0.62575453 | 0.6492829 |\n",
       "| 0.25 |  667 | 4496 |  916 |  824 | 0.83074649 | 0.44735077 | 0.7479357 |\n",
       "| 0.30 |  483 | 4878 |  534 | 1008 | 0.90133038 | 0.32394366 | 0.7766189 |\n",
       "| 0.35 |  351 | 5103 |  309 | 1140 | 0.94290466 | 0.23541247 | 0.7900913 |\n",
       "| 0.40 |  265 | 5203 |  209 | 1226 | 0.96138211 | 0.17773307 | 0.7921194 |\n",
       "| 0.45 |  193 | 5261 |  151 | 1298 | 0.97209904 | 0.12944333 | 0.7900913 |\n",
       "| 0.50 |  151 | 5307 |  105 | 1340 | 0.98059867 | 0.10127431 | 0.7906707 |\n",
       "| 0.55 |  127 | 5337 |   75 | 1364 | 0.98614191 | 0.08517773 | 0.7915399 |\n",
       "| 0.60 |  108 | 5351 |   61 | 1383 | 0.98872875 | 0.07243461 | 0.7908156 |\n",
       "| 0.65 |   84 | 5367 |   45 | 1407 | 0.99168514 | 0.05633803 | 0.7896567 |\n",
       "| 0.70 |   64 | 5381 |   31 | 1427 | 0.99427199 | 0.04292421 | 0.7887875 |\n",
       "| 0.75 |   52 | 5385 |   27 | 1439 | 0.99501109 | 0.03487592 | 0.7876286 |\n",
       "| 0.80 |   40 | 5393 |   19 | 1451 | 0.99648928 | 0.02682763 | 0.7870491 |\n",
       "| 0.85 |   30 | 5399 |   13 | 1461 | 0.99759793 | 0.02012072 | 0.7864697 |\n",
       "| 0.90 |   25 | 5401 |   11 | 1466 | 0.99796748 | 0.01676727 | 0.7860351 |\n",
       "| 0.95 |   15 | 5407 |    5 | 1476 | 0.99907613 | 0.01006036 | 0.7854556 |\n",
       "| 1.00 |    0 | 5412 |    0 | 1491 | 1.00000000 | 0.00000000 | 0.7840070 |\n",
       "\n"
      ],
      "text/plain": [
       "   cuts TP   TN   FP   FN   Specificity Sensitivity Accuracy \n",
       "1  0.00 1491    0 5412    0 0.00000000  1.00000000  0.2159930\n",
       "2  0.05 1491    0 5412    0 0.00000000  1.00000000  0.2159930\n",
       "3  0.10 1482  167 5245    9 0.03085735  0.99396378  0.2388816\n",
       "4  0.15 1281 1900 3512  210 0.35107169  0.85915493  0.4608141\n",
       "5  0.20  933 3549 1863  558 0.65576497  0.62575453  0.6492829\n",
       "6  0.25  667 4496  916  824 0.83074649  0.44735077  0.7479357\n",
       "7  0.30  483 4878  534 1008 0.90133038  0.32394366  0.7766189\n",
       "8  0.35  351 5103  309 1140 0.94290466  0.23541247  0.7900913\n",
       "9  0.40  265 5203  209 1226 0.96138211  0.17773307  0.7921194\n",
       "10 0.45  193 5261  151 1298 0.97209904  0.12944333  0.7900913\n",
       "11 0.50  151 5307  105 1340 0.98059867  0.10127431  0.7906707\n",
       "12 0.55  127 5337   75 1364 0.98614191  0.08517773  0.7915399\n",
       "13 0.60  108 5351   61 1383 0.98872875  0.07243461  0.7908156\n",
       "14 0.65   84 5367   45 1407 0.99168514  0.05633803  0.7896567\n",
       "15 0.70   64 5381   31 1427 0.99427199  0.04292421  0.7887875\n",
       "16 0.75   52 5385   27 1439 0.99501109  0.03487592  0.7876286\n",
       "17 0.80   40 5393   19 1451 0.99648928  0.02682763  0.7870491\n",
       "18 0.85   30 5399   13 1461 0.99759793  0.02012072  0.7864697\n",
       "19 0.90   25 5401   11 1466 0.99796748  0.01676727  0.7860351\n",
       "20 0.95   15 5407    5 1476 0.99907613  0.01006036  0.7854556\n",
       "21 1.00    0 5412    0 1491 1.00000000  0.00000000  0.7840070"
      ]
     },
     "metadata": {},
     "output_type": "display_data"
    }
   ],
   "source": [
    "t"
   ]
  },
  {
   "cell_type": "code",
   "execution_count": 55,
   "metadata": {},
   "outputs": [
    {
     "data": {
      "image/png": "[encoded data removed]",
      "text/plain": [
       "plot without title"
      ]
     },
     "metadata": {
      "image/png": {
       "height": 480,
       "width": 600
      }
     },
     "output_type": "display_data"
    }
   ],
   "source": [
    "ggplot(data = t, aes(x = 1 - Specificity, y = Sensitivity)) +\n",
    "    geom_line() + \n",
    "    theme_minimal() +\n",
    "    theme(text = element_text(size=18)) +\n",
    "    ggtitle(\"ROC Curve for Logit Model\")"
   ]
  }
 ],
 "metadata": {
  "kernelspec": {
   "display_name": "R",
   "language": "R",
   "name": "ir"
  },
  "language_info": {
   "codemirror_mode": "r",
   "file_extension": ".r",
   "mimetype": "text/x-r-source",
   "name": "R",
   "pygments_lexer": "r",
   "version": "3.6.2"
  }
 },
 "nbformat": 4,
 "nbformat_minor": 5
}
