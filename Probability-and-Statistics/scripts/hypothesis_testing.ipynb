{
 "cells": [
  {
   "cell_type": "markdown",
   "metadata": {},
   "source": [
    "# Hypothesis Testing"
   ]
  },
  {
   "cell_type": "code",
   "execution_count": 1,
   "metadata": {},
   "outputs": [],
   "source": [
    "import pandas as pd\n",
    "import numpy as np\n",
    "import scipy.stats as sts\n",
    "from math import sqrt\n",
    "\n",
    "import seaborn as sns\n",
    "import matplotlib.pyplot as plt\n",
    "\n",
    "plt.style.use('ggplot')\n",
    "%matplotlib inline\n",
    "%config InlineBackend.figure_format ='retina'"
   ]
  },
  {
   "cell_type": "markdown",
   "metadata": {},
   "source": [
    "### Матрица ошибок\n",
    "\n",
    "|      | $X \\in \\mathscr{X}_0$ | $X \\in \\mathscr{X}_1$   |\n",
    "|------|-----------------------|-------------------------|\n",
    "|$H_0$ |   Right decision      |   Type II Error         |\n",
    "|$H_1$ |   Type I  Error       |  Right decision         |\n",
    "\n",
    "$\n",
    "\\alpha = \\mathbb{P}(\"01P\") = P(X \\in \\mathscr{X}_1 | H_0)\n",
    "$\n",
    "\n",
    "$\n",
    "\\beta = \\mathbb{P}(\"02P\") = P(X \\in \\mathscr{X}_0 | H_1)\n",
    "$\n",
    "\n",
    "$\n",
    "\\text{Мощность критерия} = 1 - \\beta\n",
    "$"
   ]
  },
  {
   "cell_type": "markdown",
   "metadata": {},
   "source": [
    " ### P-value"
   ]
  },
  {
   "cell_type": "markdown",
   "metadata": {},
   "source": [
    "Пусть $T(X)$ — тестовая статистика.\n",
    "\n",
    "a) Двусторонняя гипотеза:\n",
    "\n",
    "$\\text{P-value} = 2\\mathbb{P}(X < -T(X)) =  2\\mathbb{P}(X > T(X)) = 2\\mathbb{P}(X > |T(X)|) $\n",
    "\n",
    "b) Правосторонняя гипотеза:\n",
    "\n",
    "$\\text{P-value} = \\mathbb{P}(X > T(X))$\n",
    "\n",
    "c) Левосторонняя гипотеза:\n",
    "\n",
    "$\\text{P-value} = \\mathbb{P}(X < T(X))$"
   ]
  },
  {
   "cell_type": "code",
   "execution_count": null,
   "metadata": {},
   "outputs": [],
   "source": []
  },
  {
   "cell_type": "markdown",
   "metadata": {},
   "source": [
    "## Гипотезы о математическом ожидании"
   ]
  },
  {
   "cell_type": "markdown",
   "metadata": {},
   "source": [
    "### 1. При известной дисперсии"
   ]
  },
  {
   "cell_type": "markdown",
   "metadata": {},
   "source": [
    "$X = (X_1, ..., X_n),\\ X_i \\sim \\mathcal{N}(\\mu, \\sigma^2),\\ \\sigma^2$ __известна__.\n",
    "\n",
    "$$\n",
    "z_{obs} \\stackrel{\\mathrm{def}}{=} \\dfrac{\\overline{X}_n - \\mu_0}{\\dfrac{\\sigma}{\\sqrt{n}}} \\sim \\mathcal{N}(0, 1)\n",
    "$$ \n",
    "\n",
    "a) \n",
    "\\begin{cases}\n",
    "H_0: \\mu = \\mu_0 \\\\\n",
    "H_1: \\mu \\neq \\mu_0 \n",
    "\\end{cases}\n",
    "\n",
    "Критическая область:\n",
    "$$\n",
    "\\mathscr{X}_1 :  |z_{obs}| > z_{1 - \\frac{\\alpha}{2}}\n",
    "$$\n",
    "\n",
    "b) \n",
    "\\begin{cases}\n",
    "H_0: \\mu = \\mu_0 \\\\\n",
    "H_1: \\mu > \\mu_0 \n",
    "\\end{cases}\n",
    "\n",
    "Критическая область:\n",
    "$$\n",
    "\\mathscr{X}_1 : z_{obs} > z_{1 - \\alpha}\n",
    "$$\n",
    "\n",
    "\n",
    "c)\n",
    "\\begin{cases}\n",
    "H_0: \\mu = \\mu_0 \\\\\n",
    "H_1: \\mu < \\mu_0 \n",
    "\\end{cases}\n",
    "\n",
    "Критическая область:\n",
    "$$\n",
    "\\mathscr{X}_1 : z_{obs} < z_{\\alpha}\n",
    "$$"
   ]
  },
  {
   "cell_type": "code",
   "execution_count": 2,
   "metadata": {},
   "outputs": [],
   "source": [
    "def mean_test_known_sigma(num:int, sample_mean: float, sigma_squared: float, alpha: float, mu_hyp: float, type_: str):\n",
    "    z_obs =  round((sample_mean - mu_hyp) / sqrt(sigma_squared / num), 3)\n",
    "    \n",
    "    if type_ == 'a': # H_1: mu \\neq mu_hyp\n",
    "        z_crit = round(sts.norm.ppf(1 - alpha / 2), 3)\n",
    "        p_value = round(2 * (1 - sts.norm.cdf(abs(z_obs))), 3)\n",
    "        if (z_obs >= -z_crit) and (z_obs <= z_crit):\n",
    "            print(f'z_crit_{alpha/2} = {-z_crit}, z_crit_{1 - alpha/2} = {z_crit}')\n",
    "            print(f'z_obs = {z_obs} in [-{z_crit}, {z_crit}]. Нет оснований отвергать H_0.')\n",
    "            print(f'p_value = {p_value}')\n",
    "        else:\n",
    "            print(f'z_crit_{alpha/2} = {-z_crit}, z_crit_{1 - alpha/2} = {z_crit}')\n",
    "            print(f'z_obs = {z_obs} not in [-{z_crit}, {z_crit}]. H_0 отвергается с уровнем значимости {alpha}.')\n",
    "            print(f'p_value = {p_value}')\n",
    "    \n",
    "    elif type_ == 'b': # H_1: mu > mu_hyp\n",
    "        z_crit = round(sts.norm.ppf(1 - alpha), 3)\n",
    "        p_value = round(1 - sts.norm.cdf(abs(z_obs)), 3)\n",
    "        if z_obs < z_crit:\n",
    "            print(f'z_crit_{1 - alpha} = {z_crit}')\n",
    "            print(f'z_obs = {z_obs} < z_crit = {z_crit}. Нет оснований отвергать H_0.')\n",
    "            print(f'p_value = {p_value}')\n",
    "        else:\n",
    "            print(f'z_crit_{1 - alpha} = {z_crit}')\n",
    "            print(f'z_obs = {z_obs} > z_crit = {z_crit}. H_0 отвергается с уровнем значимости {alpha}.')\n",
    "            print(f'p_value = {p_value}')\n",
    "    else: # H_1: mu < mu_hyp\n",
    "        z_crit = round(sts.norm.ppf(alpha), 3)\n",
    "        p_value = round(1 - sts.norm.cdf(abs(z_obs)), 3)\n",
    "        if z_obs > z_crit:\n",
    "            print(f'z_crit_{alpha} = {z_crit}')\n",
    "            print(f'z_obs = {z_obs} > z_crit = {z_crit}. Нет оснований отвергать H_0.')\n",
    "            print(f'p_value = {p_value}')\n",
    "        else:\n",
    "            print(f'z_crit_{alpha} = {z_crit}')\n",
    "            print(f'z_obs = {z_obs} < z_crit = {z_crit}. H_0 отвергается с уровнем значимости {alpha}.')\n",
    "            print(f'p_value = {p_value}')"
   ]
  },
  {
   "cell_type": "markdown",
   "metadata": {},
   "source": [
    "a)"
   ]
  },
  {
   "cell_type": "code",
   "execution_count": null,
   "metadata": {},
   "outputs": [],
   "source": [
    "num = \n",
    "sample_mean =\n",
    "# истинная дисперсия\n",
    "sigma_squared = \n",
    "alpha = \n",
    "mu_hyp = "
   ]
  },
  {
   "cell_type": "markdown",
   "metadata": {},
   "source": [
    "либо"
   ]
  },
  {
   "cell_type": "code",
   "execution_count": 3,
   "metadata": {},
   "outputs": [],
   "source": [
    "data = pd.Series([-1.11, -6.10, 2.42, -0.09, -0.17,\n",
    "                  -2.29, -2.91, 0.93, -0.78, 2.3])"
   ]
  },
  {
   "cell_type": "code",
   "execution_count": 4,
   "metadata": {},
   "outputs": [],
   "source": [
    "num = len(data)\n",
    "sample_mean = data.mean()\n",
    "# истинная дисперсия\n",
    "sigma_squared = 4\n",
    "alpha = 0.1\n",
    "mu_hyp = 2"
   ]
  },
  {
   "cell_type": "markdown",
   "metadata": {},
   "source": [
    "Вычисление:"
   ]
  },
  {
   "cell_type": "code",
   "execution_count": 5,
   "metadata": {},
   "outputs": [
    {
     "name": "stdout",
     "output_type": "stream",
     "text": [
      "z_crit_0.05 = -1.645, z_crit_0.95 = 1.645\n",
      "z_obs = -4.396 not in [-1.645, 1.645]. H_0 отвергается с уровнем значимости 0.1.\n",
      "p_value = 0.0\n"
     ]
    }
   ],
   "source": [
    "mean_test_known_sigma(num=num, sample_mean=sample_mean, sigma_squared=sigma_squared,\n",
    "                      alpha=alpha, mu_hyp=mu_hyp, type_='a')"
   ]
  },
  {
   "cell_type": "markdown",
   "metadata": {},
   "source": [
    "b) "
   ]
  },
  {
   "cell_type": "code",
   "execution_count": null,
   "metadata": {},
   "outputs": [],
   "source": [
    "num = \n",
    "sample_mean =\n",
    "# истинная дисперсия\n",
    "sigma_squared = \n",
    "alpha = \n",
    "mu_hyp = "
   ]
  },
  {
   "cell_type": "markdown",
   "metadata": {},
   "source": [
    "либо"
   ]
  },
  {
   "cell_type": "code",
   "execution_count": 88,
   "metadata": {},
   "outputs": [],
   "source": [
    "data = pd.Series([-1, -2, 0, 2, 1])"
   ]
  },
  {
   "cell_type": "code",
   "execution_count": 89,
   "metadata": {},
   "outputs": [],
   "source": [
    "num = len(data)\n",
    "sample_mean = data.mean()\n",
    "# истинная дисперсия\n",
    "sigma_squared = 4\n",
    "alpha = 0.1\n",
    "mu_hyp = 1"
   ]
  },
  {
   "cell_type": "code",
   "execution_count": 90,
   "metadata": {
    "scrolled": true
   },
   "outputs": [
    {
     "name": "stdout",
     "output_type": "stream",
     "text": [
      "z_crit_0.9 = 1.282\n",
      "z_obs = -1.118 < z_crit = 1.282. Нет оснований отвергать H_0.\n",
      "p_value = 0.132\n"
     ]
    }
   ],
   "source": [
    "mean_test_known_sigma(num=num, sample_mean=sample_mean, sigma_squared=sigma_squared,\n",
    "                      alpha=alpha, mu_hyp=mu_hyp, type_='b')"
   ]
  },
  {
   "cell_type": "markdown",
   "metadata": {},
   "source": [
    "c)"
   ]
  },
  {
   "cell_type": "code",
   "execution_count": 95,
   "metadata": {},
   "outputs": [
    {
     "ename": "SyntaxError",
     "evalue": "invalid syntax (<ipython-input-95-1af52cdf03f9>, line 1)",
     "output_type": "error",
     "traceback": [
      "\u001b[0;36m  File \u001b[0;32m\"<ipython-input-95-1af52cdf03f9>\"\u001b[0;36m, line \u001b[0;32m1\u001b[0m\n\u001b[0;31m    num =\u001b[0m\n\u001b[0m          ^\u001b[0m\n\u001b[0;31mSyntaxError\u001b[0m\u001b[0;31m:\u001b[0m invalid syntax\n"
     ]
    }
   ],
   "source": [
    "num = \n",
    "sample_mean = \n",
    "# истинная дисперсия\n",
    "sigma_squared = \n",
    "alpha = \n",
    "mu_hyp = "
   ]
  },
  {
   "cell_type": "markdown",
   "metadata": {},
   "source": [
    "либо"
   ]
  },
  {
   "cell_type": "code",
   "execution_count": 9,
   "metadata": {},
   "outputs": [],
   "source": [
    "data = pd.Series([-1.11, -6.10, 2.42, -0.09, -0.17,\n",
    "                  -2.29, -2.91, 0.93, -0.78, 2.3])"
   ]
  },
  {
   "cell_type": "code",
   "execution_count": 10,
   "metadata": {},
   "outputs": [],
   "source": [
    "num = len(data)\n",
    "sample_mean = data.mean()\n",
    "# истинная дисперсия\n",
    "sigma_squared = 4\n",
    "alpha = 0\n",
    "mu_hyp = 0"
   ]
  },
  {
   "cell_type": "markdown",
   "metadata": {},
   "source": [
    "Вычисление:"
   ]
  },
  {
   "cell_type": "code",
   "execution_count": 11,
   "metadata": {},
   "outputs": [
    {
     "name": "stdout",
     "output_type": "stream",
     "text": [
      "z_crit_0 = -inf\n",
      "z_obs = -1.233 > z_crit = -inf. Нет оснований отвергать H_0.\n",
      "p_value = 0.109\n"
     ]
    }
   ],
   "source": [
    "mean_test_known_sigma(num=num, sample_mean=sample_mean, sigma_squared=sigma_squared,\n",
    "                      alpha=alpha, mu_hyp=mu_hyp, type_='c')"
   ]
  },
  {
   "cell_type": "markdown",
   "metadata": {},
   "source": [
    "### 2. При неизвестной дисперсии"
   ]
  },
  {
   "cell_type": "markdown",
   "metadata": {},
   "source": [
    "$X = (X_1, ..., X_n),\\ X_i \\sim \\mathcal{N}(\\mu, \\sigma^2),\\ \\sigma^2$ __не известна__.\n",
    "\n",
    "$$\n",
    "t_{obs} \n",
    "\\stackrel{\\mathrm{def}}{=}\n",
    "\\dfrac{\\overline{X}_n - \\mu_0}{\\dfrac{\\hat{\\sigma}}{\\sqrt{n}}} \\sim t(n - 1)\n",
    "$$\n",
    "\n",
    "a) \n",
    "\\begin{cases}\n",
    "H_0: \\mu = \\mu_0 \\\\\n",
    "H_1: \\mu \\neq \\mu_0 \n",
    "\\end{cases}\n",
    "\n",
    "Критическая область:\n",
    "$$\n",
    "\\mathscr{X}_1 : |t_{obs}| > t_{1 - \\frac{\\alpha}{2}}(n - 1)\n",
    "$$\n",
    "\n",
    "b) \n",
    "\\begin{cases}\n",
    "H_0: \\mu = \\mu_0 \\\\\n",
    "H_1: \\mu > \\mu_0 \n",
    "\\end{cases}\n",
    "\n",
    "Критическая область:\n",
    "$$\n",
    "\\mathscr{X}_1 : t_{obs} > t_{1 - \\alpha}(n - 1)\n",
    "$$\n",
    "\n",
    "\n",
    "c)\n",
    "\\begin{cases}\n",
    "H_0: \\mu = \\mu_0 \\\\\n",
    "H_1: \\mu < \\mu_0 \n",
    "\\end{cases}\n",
    "\n",
    "Критическая область:\n",
    "$$\n",
    "\\mathscr{X}_1 : t_{obs} < t_{\\alpha}(n - 1)\n",
    "$$"
   ]
  },
  {
   "cell_type": "code",
   "execution_count": 12,
   "metadata": {},
   "outputs": [],
   "source": [
    "def mean_test_unknown_sigma(num: int, sample_mean: float, sample_var: float, alpha: float, mu_hyp: float, type_: str):\n",
    "    t_obs = round((sample_mean - mu_hyp) / sqrt(sample_var / num), 3)\n",
    "    \n",
    "    if type_ == 'a':\n",
    "        t_crit = round(sts.t.ppf(1 - alpha / 2, df=num-1), 3)\n",
    "        p_value = round(2 * (1- sts.t.cdf(abs(t_obs), df=num-1)), 3)\n",
    "        \n",
    "        if (t_obs >= -t_crit) and (t_obs <= t_crit):\n",
    "            print(f't_crit_{alpha/2}({num-1}) = {-t_crit}, t_crit_{1 - alpha/2}({num-1}) = {t_crit}')\n",
    "            print(f't_obs = {t_obs} in [-{t_crit}, {t_crit}]. Нет оснований отвергать H_0.')\n",
    "            print(f'p_value = {p_value}')\n",
    "        else:\n",
    "            print(f't_crit_{alpha/2}({num-1}) = {-t_crit}, t_crit_{1 - alpha / 2}({num-1}) = {t_crit}')\n",
    "            print(f't_obs = {t_obs} not in [-{t_crit}, {t_crit}]. H_0 отвергается с уровнем значимости {alpha}.')\n",
    "            print(f'p_value = {p_value}')\n",
    "    \n",
    "    elif type_ == 'b':\n",
    "        t_crit = round(sts.t.ppf(1 - alpha, df=num-1), 3)\n",
    "        p_value = round(1 - sts.t.cdf(abs(t_obs), df=num-1), 3)\n",
    "        \n",
    "        if t_obs < t_crit:\n",
    "            print(f't_crit_{1 - alpha}({num-1}) = {t_crit}')\n",
    "            print(f't_obs = {t_obs} < t_crit = {t_crit}. Нет оснований отвергать H_0.')\n",
    "            print(f'p_value = {p_value}')\n",
    "        else:\n",
    "            print(f't_crit_{1 - alpha}({num-1}) = {t_crit}')\n",
    "            print(f't_obs = {t_obs} > t_crit = {t_crit}. H_0 отвергается с уровнем значимости {alpha}.')\n",
    "            print(f'p_value = {p_value}')\n",
    "    \n",
    "    else:\n",
    "        t_crit = round(sts.t.ppf(alpha, df=num-1), 3)\n",
    "        p_value = round(1 - sts.t.cdf(abs(t_obs), df=num-1), 3)\n",
    "                  \n",
    "        if t_obs > t_crit:\n",
    "            print(f't_crit_{alpha}({num-1}) = {t_crit}')\n",
    "            print(f't_obs = {t_obs} > t_crit = {t_crit}. Нет оснований отвергать H_0.')\n",
    "            print(f'p_value = {p_value}')\n",
    "        else:\n",
    "            print(f't_crit_{alpha}({num-1}) = {t_crit}')\n",
    "            print(f't_obs = {t_obs} < t_crit = {t_crit}. H_0 отвергается с уровнем значимости {alpha}.')\n",
    "            print(f'p_value = {p_value}')"
   ]
  },
  {
   "cell_type": "markdown",
   "metadata": {},
   "source": [
    "a) "
   ]
  },
  {
   "cell_type": "code",
   "execution_count": 30,
   "metadata": {},
   "outputs": [],
   "source": [
    "num = 100\n",
    "sample_mean = 9.5\n",
    "sample_var = 0.5\n",
    "alpha = 0.05\n",
    "mu_hyp = 10"
   ]
  },
  {
   "cell_type": "markdown",
   "metadata": {},
   "source": [
    "либо"
   ]
  },
  {
   "cell_type": "code",
   "execution_count": 84,
   "metadata": {},
   "outputs": [],
   "source": [
    "data = pd.Series([2, 3, 0, -3, -1])"
   ]
  },
  {
   "cell_type": "code",
   "execution_count": 85,
   "metadata": {},
   "outputs": [],
   "source": [
    "num = len(data)\n",
    "sample_mean = data.mean()\n",
    "sample_var = data.var(ddof=1)\n",
    "alpha = 0.05\n",
    "mu_hyp = 1"
   ]
  },
  {
   "cell_type": "markdown",
   "metadata": {},
   "source": [
    "Вычисление:"
   ]
  },
  {
   "cell_type": "code",
   "execution_count": 86,
   "metadata": {},
   "outputs": [
    {
     "name": "stdout",
     "output_type": "stream",
     "text": [
      "t_crit_0.025 = -2.776, t_crit_0.975 = 2.776\n",
      "t_obs = -0.749 in [-2.776, 2.776]. Нет оснований отвергать H_0.\n",
      "p_value = 0.495\n"
     ]
    }
   ],
   "source": [
    "mean_test_unknown_sigma(num=num, sample_mean=sample_mean, sample_var=sample_var,\n",
    "                        alpha=alpha, mu_hyp=mu_hyp, type_='a')"
   ]
  },
  {
   "cell_type": "markdown",
   "metadata": {},
   "source": [
    "b)"
   ]
  },
  {
   "cell_type": "code",
   "execution_count": null,
   "metadata": {},
   "outputs": [],
   "source": [
    "num = \n",
    "sample_mean = \n",
    "sample_var = \n",
    "alpha = 0.05\n",
    "mu_hyp = 100"
   ]
  },
  {
   "cell_type": "markdown",
   "metadata": {},
   "source": [
    "либо"
   ]
  },
  {
   "cell_type": "code",
   "execution_count": 19,
   "metadata": {},
   "outputs": [],
   "source": [
    "data = pd.Series([-1.11, -6.10, 2.42])"
   ]
  },
  {
   "cell_type": "code",
   "execution_count": 20,
   "metadata": {},
   "outputs": [],
   "source": [
    "num = len(data)\n",
    "sample_mean = data.mean()\n",
    "sample_var = data.var(ddof=1)\n",
    "alpha = 0.05\n",
    "mu_hyp = 100"
   ]
  },
  {
   "cell_type": "code",
   "execution_count": 21,
   "metadata": {},
   "outputs": [
    {
     "name": "stdout",
     "output_type": "stream",
     "text": [
      "t_crit_0.9 = 1.886\n",
      "t_obs = -0.646 < t_crit = 1.886. Нет оснований отвергать H_0.\n",
      "p_value = 0.292\n"
     ]
    }
   ],
   "source": [
    "mean_test_unknown_sigma(num=num, sample_mean=sample_mean, sample_var=sample_var,\n",
    "                        alpha=alpha, mu_hyp=mu_hyp, type_='b')"
   ]
  },
  {
   "cell_type": "markdown",
   "metadata": {},
   "source": [
    "c)"
   ]
  },
  {
   "cell_type": "code",
   "execution_count": 34,
   "metadata": {},
   "outputs": [],
   "source": [
    "num = 100\n",
    "sample_mean = 9.5\n",
    "sample_var = 0.5 ** 2\n",
    "alpha = 0.05\n",
    "mu_hyp = 10"
   ]
  },
  {
   "cell_type": "markdown",
   "metadata": {},
   "source": [
    "либо"
   ]
  },
  {
   "cell_type": "code",
   "execution_count": 22,
   "metadata": {},
   "outputs": [],
   "source": [
    "data = pd.Series([-1.11, -6.10, 2.42])"
   ]
  },
  {
   "cell_type": "code",
   "execution_count": 23,
   "metadata": {},
   "outputs": [],
   "source": [
    "num = len(data)\n",
    "sample_mean = data.mean()\n",
    "sample_var = data.var(ddof=1)\n",
    "alpha = 0.05\n",
    "mu_hyp = 100"
   ]
  },
  {
   "cell_type": "markdown",
   "metadata": {},
   "source": [
    "Вычисление:"
   ]
  },
  {
   "cell_type": "code",
   "execution_count": 35,
   "metadata": {},
   "outputs": [
    {
     "name": "stdout",
     "output_type": "stream",
     "text": [
      "t_crit_0.05 = -1.66\n",
      "t_obs = -10.0 < t_crit = -1.66. H_0 отвергается с уровнем значимости 0.05.\n",
      "p_value = 0.0\n"
     ]
    }
   ],
   "source": [
    "mean_test_unknown_sigma(num=num, sample_mean=sample_mean, sample_var=sample_var,\n",
    "                        alpha=alpha, mu_hyp=mu_hyp, type_='c')"
   ]
  },
  {
   "cell_type": "markdown",
   "metadata": {},
   "source": [
    "## Гипотезы о математическом ожидании из выборок с произвольным распределением"
   ]
  },
  {
   "cell_type": "markdown",
   "metadata": {},
   "source": [
    "$X = (X_1, ..., X_n),\\ X_i \\sim \\mathscr{F} \\ $с $\\ \\mathbb{E}(X_i) < \\infty \\ $ и $\\ \\text{Var}(X_i) < \\infty \\ $\n",
    "\n",
    "По ЦПТ и теореме Слуцкого\n",
    "\n",
    "$$\n",
    "z_{obs}\n",
    "\\stackrel{\\mathrm{def}}{=} \n",
    "\\dfrac{\\overline{X}_n - \\mu_0}{\\dfrac{\\hat{\\sigma}}{\\sqrt{n}}} \\xrightarrow[n \\to \\infty]{} \\mathcal{N}(0, 1)\n",
    "$$ \n",
    "\n",
    "\n",
    "a) \n",
    "\\begin{cases}\n",
    "H_0: \\mu = \\mu_0 \\\\\n",
    "H_1: \\mu \\neq \\mu_0 \n",
    "\\end{cases}\n",
    "\n",
    "Критическая область:\n",
    "$$\n",
    "\\mathscr{X}_1 :  |z_{obs}| > z_{1 - \\frac{\\alpha}{2}}\n",
    "$$\n",
    "\n",
    "b) \n",
    "\\begin{cases}\n",
    "H_0: \\mu = \\mu_0 \\\\\n",
    "H_1: \\mu > \\mu_0 \n",
    "\\end{cases}\n",
    "\n",
    "Критическая область:\n",
    "$$\n",
    "\\mathscr{X}_1 : z_{obs} > z_{1 - \\alpha}\n",
    "$$\n",
    "\n",
    "\n",
    "c)\n",
    "\\begin{cases}\n",
    "H_0: \\mu = \\mu_0 \\\\\n",
    "H_1: \\mu < \\mu_0 \n",
    "\\end{cases}\n",
    "\n",
    "Критическая область:\n",
    "$$\n",
    "\\mathscr{X}_1 : z_{obs} < z_{\\alpha}\n",
    "$$"
   ]
  },
  {
   "cell_type": "code",
   "execution_count": 22,
   "metadata": {},
   "outputs": [],
   "source": [
    "def mean_test_asy(sample_mean: float, sample_var: float, num: int, alpha: float, mu_hyp: float, type_: str):\n",
    "    z_obs =  round((sample_mean - mu_hyp) / sqrt(sample_var / num), 3)\n",
    "    \n",
    "    if type_ == 'a': # H_1: mu \\neq mu_hyp\n",
    "        z_crit = round(sts.norm.ppf(1 - alpha / 2), 3)\n",
    "        p_value = round(2 * (1 - sts.norm.cdf(abs(z_obs))), 3)\n",
    "        if (z_obs >= -z_crit) and (z_obs <= z_crit):\n",
    "            print(f'z_crit_{alpha/2} = {-z_crit}, z_crit_{1 - alpha/2} = {z_crit}')\n",
    "            print(f'z_obs = {z_obs} in [-{z_crit}, {z_crit}]. Нет оснований отвергать H_0.')\n",
    "            print(f'p_value = {p_value}')\n",
    "        else:\n",
    "            print(f'z_crit_{alpha/2} = {-z_crit}, z_crit_{1 - alpha/2} = {z_crit}')\n",
    "            print(f'z_obs = {z_obs} not in [-{z_crit}, {z_crit}]. H_0 отвергается с уровнем значимости {alpha}.')\n",
    "            print(f'p_value = {p_value}')\n",
    "    \n",
    "    elif type_ == 'b': # H_1: mu > mu_hyp\n",
    "        z_crit = round(sts.norm.ppf(1 - alpha), 3)\n",
    "        p_value = round(1 - sts.norm.cdf(abs(z_obs)), 3)\n",
    "        if z_obs < z_crit:\n",
    "            print(f'z_crit_{1 - alpha} = {z_crit}')\n",
    "            print(f'z_obs = {z_obs} < z_crit = {z_crit}. Нет оснований отвергать H_0.')\n",
    "            print(f'p_value = {p_value}')\n",
    "        else:\n",
    "            print(f'z_crit_{1 - alpha} = {z_crit}')\n",
    "            print(f'z_obs = {z_obs} > z_crit = {z_crit}. H_0 отвергается с уровнем значимости {alpha}.')\n",
    "            print(f'p_value = {p_value}')\n",
    "    else: # H_1: mu < mu_hyp\n",
    "        z_crit = round(sts.norm.ppf(alpha), 3)\n",
    "        p_value = round(1 - sts.norm.cdf(abs(z_obs)), 3)\n",
    "        if z_obs > z_crit:\n",
    "            print(f'z_crit_{alpha} = {z_crit}')\n",
    "            print(f'z_obs = {z_obs} > z_crit = {z_crit}. Нет оснований отвергать H_0.')\n",
    "            print(f'p_value = {p_value}')\n",
    "        else:\n",
    "            print(f'z_crit_{alpha} = {z_crit}')\n",
    "            print(f'z_obs = {z_obs} < z_crit = {z_crit}. H_0 отвергается с уровнем значимости {alpha}.')\n",
    "            print(f'p_value = {p_value}')"
   ]
  },
  {
   "cell_type": "markdown",
   "metadata": {},
   "source": [
    "a)"
   ]
  },
  {
   "cell_type": "code",
   "execution_count": 26,
   "metadata": {},
   "outputs": [
    {
     "name": "stdout",
     "output_type": "stream",
     "text": [
      "z_crit_0.05 = -1.645, z_crit_0.95 = 1.645\n",
      "z_obs = 2.0 not in [-1.645, 1.645]. H_0 отвергается с уровнем значимости 0.1.\n",
      "p_value = 0.046\n"
     ]
    }
   ],
   "source": [
    "mean_test_asy(sample_mean=0.8, sample_var=16, num=100, alpha=0.1, mu_hyp=0, type_='a')"
   ]
  },
  {
   "cell_type": "markdown",
   "metadata": {},
   "source": [
    "b)"
   ]
  },
  {
   "cell_type": "code",
   "execution_count": 27,
   "metadata": {},
   "outputs": [
    {
     "name": "stdout",
     "output_type": "stream",
     "text": [
      "z_crit_0.9 = 1.282\n",
      "z_obs = 2.0 > z_crit = 1.282. H_0 отвергается с уровнем значимости 0.1.\n",
      "p_value = 0.023\n"
     ]
    }
   ],
   "source": [
    "mean_test_asy(sample_mean=0.8, sample_var=16, num=100, alpha=0.1, mu_hyp=0, type_='b')"
   ]
  },
  {
   "cell_type": "markdown",
   "metadata": {},
   "source": [
    "c)"
   ]
  },
  {
   "cell_type": "code",
   "execution_count": 28,
   "metadata": {},
   "outputs": [
    {
     "name": "stdout",
     "output_type": "stream",
     "text": [
      "z_crit_0.1 = -1.282\n",
      "z_obs = 2.0 > z_crit = -1.282. Нет оснований отвергать H_0.\n",
      "p_value = 0.023\n"
     ]
    }
   ],
   "source": [
    "mean_test_asy(sample_mean=0.8, sample_var=16, num=100, alpha=0.1, mu_hyp=0, type_='c')"
   ]
  },
  {
   "cell_type": "markdown",
   "metadata": {},
   "source": [
    "### Частный случай: гипотеза о вероятности"
   ]
  },
  {
   "cell_type": "markdown",
   "metadata": {},
   "source": [
    "$X = (X_1, ..., X_n),\\ X_i \\sim \\text{Bin}(1, p)$\n",
    "\n",
    "По теореме Муавра-Лапласса\n",
    "\n",
    "$$\n",
    "z_{obs}\n",
    "\\stackrel{\\mathrm{def}}{=}\n",
    "\\dfrac{\\hat{p} - p_0}{\\sqrt{\\dfrac{p_0(1-p_0)}{n}}} \\xrightarrow[n \\to \\infty]{d} \\mathcal{N}(0, 1)\n",
    "$$\n",
    "\n",
    "a) \n",
    "\\begin{cases}\n",
    "H_0: p = p_0 \\\\\n",
    "H_1: p \\neq p_0\n",
    "\\end{cases}\n",
    "\n",
    "Критическая область:\n",
    "$$\n",
    "\\mathscr{X}_1 : |z_{obs}| > z_{1 - \\frac{\\alpha}{2}}\n",
    "$$\n",
    "\n",
    "b) \n",
    "\\begin{cases}\n",
    "H_0: p = p_0 \\\\\n",
    "H_1: p > p_0\n",
    "\\end{cases}\n",
    "\n",
    "Критическая область:\n",
    "$$\n",
    "\\mathscr{X}_1 : z_{obs} > z_{1 - \\alpha}\n",
    "$$\n",
    "\n",
    "\n",
    "c)\n",
    "\\begin{cases}\n",
    "H_0: p = p_0 \\\\\n",
    "H_1: p < p_0\n",
    "\\end{cases}\n",
    "\n",
    "Критическая область:\n",
    "$$\n",
    "\\mathscr{X}_1 : z_{obs} < z_{\\alpha}\n",
    "$$"
   ]
  },
  {
   "cell_type": "code",
   "execution_count": 23,
   "metadata": {},
   "outputs": [],
   "source": [
    "def probability_test(alpha:float, num: int, p_hat: float, p_hyp:float, type_:str):\n",
    "    z_obs =  round((p_hat - p_hyp) / sqrt(p_hat * (1 - p_hat) / num), 3)\n",
    "    \n",
    "    if type_ == 'a': # H_1: mu \\neq mu_hyp\n",
    "        z_crit = round(sts.norm.ppf(1 - alpha / 2), 3)\n",
    "        p_value = round(2 * (1 - sts.norm.cdf(abs(z_obs))), 3)\n",
    "        if (z_obs >= -z_crit) and (z_obs <= z_crit):\n",
    "            print(f'z_crit_{alpha/2} = {-z_crit}, z_crit_{1 - alpha/2} = {z_crit}')\n",
    "            print(f'z_obs = {z_obs} in [-{z_crit}, {z_crit}]. Нет оснований отвергать H_0.')\n",
    "            print(f'p_value = {p_value}')\n",
    "        else:\n",
    "            print(f'z_crit_{alpha/2} = {-z_crit}, z_crit_{1 - alpha/2} = {z_crit}')\n",
    "            print(f'z_obs = {z_obs} not in [-{z_crit}, {z_crit}]. H_0 отвергается с уровнем значимости {alpha}.')\n",
    "            print(f'p_value = {p_value}')\n",
    "    \n",
    "    elif type_ == 'b': # H_1: mu > mu_hyp\n",
    "        z_crit = round(sts.norm.ppf(1 - alpha), 3)\n",
    "        p_value = round(1 - sts.norm.cdf(abs(z_obs)), 3)\n",
    "        if z_obs < z_crit:\n",
    "            print(f'z_crit_{1 - alpha} = {z_crit}')\n",
    "            print(f'z_obs = {z_obs} < z_crit = {z_crit}. Нет оснований отвергать H_0.')\n",
    "            print(f'p_value = {p_value}')\n",
    "        else:\n",
    "            print(f'z_crit_{1 - alpha} = {z_crit}')\n",
    "            print(f'z_obs = {z_obs} > z_crit = {z_crit}. H_0 отвергается с уровнем значимости {alpha}.')\n",
    "            print(f'p_value = {p_value}')\n",
    "    else: # H_1: mu < mu_hyp\n",
    "        z_crit = round(sts.norm.ppf(alpha), 3)\n",
    "        p_value = round(1 - sts.norm.cdf(abs(z_obs)), 3)\n",
    "        if z_obs > z_crit:\n",
    "            print(f'z_crit_{alpha} = {z_crit}')\n",
    "            print(f'z_obs = {z_obs} > z_crit = {z_crit}. Нет оснований отвергать H_0.')\n",
    "            print(f'p_value = {p_value}')\n",
    "        else:\n",
    "            print(f'z_crit_{alpha} = {z_crit}')\n",
    "            print(f'z_obs = {z_obs} < z_crit = {z_crit}. H_0 отвергается с уровнем значимости {alpha}.')\n",
    "            print(f'p_value = {p_value}')"
   ]
  },
  {
   "cell_type": "markdown",
   "metadata": {},
   "source": [
    "a)"
   ]
  },
  {
   "cell_type": "code",
   "execution_count": 103,
   "metadata": {},
   "outputs": [
    {
     "name": "stdout",
     "output_type": "stream",
     "text": [
      "z_crit_0.05 = -1.645, z_crit_0.95 = 1.645\n",
      "z_obs = 1.936 not in [-1.645, 1.645]. H_0 отвергается с уровнем значимости 0.1.\n",
      "p_value = 0.053\n"
     ]
    }
   ],
   "source": [
    "probability_test(alpha=0.1, p_hat=0.8, num=60, p_hyp=0.7, type_='a')"
   ]
  },
  {
   "cell_type": "markdown",
   "metadata": {},
   "source": [
    "b)"
   ]
  },
  {
   "cell_type": "code",
   "execution_count": 104,
   "metadata": {},
   "outputs": [
    {
     "name": "stdout",
     "output_type": "stream",
     "text": [
      "z_crit_0.95 = 1.645\n",
      "z_obs = 3.0 > z_crit = 1.645. H_0 отвергается с уровнем значимости 0.05.\n",
      "p_value = 0.001\n"
     ]
    }
   ],
   "source": [
    "probability_test(alpha=0.05, p_hat=0.1, num=100, p_hyp=0.01, type_='b')"
   ]
  },
  {
   "cell_type": "markdown",
   "metadata": {},
   "source": [
    "c)"
   ]
  },
  {
   "cell_type": "code",
   "execution_count": 87,
   "metadata": {},
   "outputs": [
    {
     "name": "stdout",
     "output_type": "stream",
     "text": [
      "z_crit_0.01 = -2.326\n",
      "z_obs = -3.086 < z_crit = -2.326. H_0 отвергается с уровнем значимости 0.01.\n",
      "p_value = 0.001\n"
     ]
    }
   ],
   "source": [
    "probability_test(alpha=0.01, p_hat=0.3, num=200, p_hyp=0.4, type_='c')"
   ]
  },
  {
   "cell_type": "markdown",
   "metadata": {},
   "source": [
    "## Гипотезы о разнице математических ожиданий"
   ]
  },
  {
   "cell_type": "markdown",
   "metadata": {},
   "source": [
    "$X = (X_1, ..., X_n),\\ Y = (Y_1, ..., Y_n)$\n",
    "\n",
    "$$\n",
    "(X_i, Y_i)^{T} \\sim \\mathcal{N}\n",
    "\\left(\n",
    "\\begin{pmatrix}\n",
    "\\mu_X \\\\\n",
    "\\mu_Y \n",
    "\\end{pmatrix}\n",
    ",\n",
    "\\begin{pmatrix}\n",
    "\\sigma^2_X & \\rho \\sigma_X \\sigma_Y \\\\\n",
    "\\rho \\sigma_X \\sigma_Y & \\sigma^2_Y \n",
    "\\end{pmatrix}\n",
    "\\right)\n",
    "$$\n",
    "\n",
    "$$\n",
    "\\begin{cases}\n",
    "H_0: \\mu_X - \\mu_Y = d_0 \\\\\n",
    "H_1: \\mu_X - \\mu_Y \\neq d_0\n",
    "\\end{cases}\n",
    "$$\n"
   ]
  },
  {
   "cell_type": "markdown",
   "metadata": {},
   "source": [
    "### 1. Связанные пары (зависисые выборки)"
   ]
  },
  {
   "cell_type": "markdown",
   "metadata": {},
   "source": [
    "Пусть $\\Delta_i = X_i - Y_i$, тогда\n",
    "\n",
    "$$\n",
    "\\Delta_i \n",
    "\\sim \n",
    "\\mathcal{N}\n",
    "(\\mu_X - \\mu_Y, \\sigma^2_{\\Delta})\n",
    "$$\n",
    "\n",
    "$$\n",
    "t_{obs} \n",
    "\\stackrel{\\mathrm{def}}\n",
    "{=}\n",
    "\\dfrac{\\overline{\\Delta} - d_0}{\\dfrac{\\hat{\\sigma}_\\Delta}{\\sqrt{n}}} \\sim t(n - 1),\n",
    "$$\n",
    "\n",
    "где \n",
    "$\\overline{\\Delta} = \\dfrac{1}{n}\\sum_{i = 1}^n \\limits \\Delta_i$,\n",
    "$\\hat{\\sigma}_\\Delta = \\sqrt{\\dfrac{1}{n - 1} \\sum^n_{i = 1} \\limits (\\Delta_i - \\overline{\\Delta})^2}$\n",
    "\n",
    "a)\n",
    "\n",
    "$$\n",
    "\\begin{cases}\n",
    "H_0: \\mu_{\\Delta} = d_0 \\\\\n",
    "H_1: \\mu_{\\Delta} \\neq d_0\n",
    "\\end{cases}\n",
    "$$\n",
    "\n",
    "Критическая область:\n",
    "$$\n",
    "\\mathscr{X}_1 : |t_{obs}| > t_{1 - \\frac{\\alpha}{2}}(n - 1)\n",
    "$$\n",
    "\n",
    "\n",
    "b)\n",
    "\n",
    "$$\n",
    "\\begin{cases}\n",
    "H_0: \\mu_{\\Delta} = d_0 \\\\\n",
    "H_1: \\mu_{\\Delta} > d_0\n",
    "\\end{cases}\n",
    "$$\n",
    "\n",
    "Критическая область:\n",
    "$$\n",
    "\\mathscr{X}_1 : t_{obs} > t_{1 - \\alpha}(n - 1)\n",
    "$$\n",
    "\n",
    "c)\n",
    "$$\n",
    "\\begin{cases}\n",
    "H_0: \\mu_{\\Delta} = d_0 \\\\\n",
    "H_1: \\mu_{\\Delta} < d_0\n",
    "\\end{cases}\n",
    "$$\n",
    "\n",
    "Критическая область:\n",
    "$$\n",
    "\\mathscr{X}_1 : t_{obs} < t_{\\alpha}(n - 1)\n",
    "$$"
   ]
  },
  {
   "cell_type": "code",
   "execution_count": 24,
   "metadata": {},
   "outputs": [],
   "source": [
    "def diff_mean_test_dependent_samples(num: int, sample_mean: float, sample_var: float, \n",
    "                                     alpha: float, mu_hyp_diff: float, type_: str):\n",
    "    t_obs = round((sample_mean - mu_hyp_diff) / sqrt(sample_var / num), 3)\n",
    "    \n",
    "    if type_ == 'a':\n",
    "        t_crit = round(sts.t.ppf(1 - alpha / 2, df=num-1), 3)\n",
    "        p_value = round(2 * (1- sts.t.cdf(abs(t_obs), df=num-1)), 3)\n",
    "        \n",
    "        if (t_obs >= -t_crit) and (t_obs <= t_crit):\n",
    "            print(f't_crit_{alpha/2}({num-1}) = {-t_crit}, t_crit_{1 - alpha/2}({num-1}) = {t_crit}')\n",
    "            print(f't_obs = {t_obs} in [-{t_crit}, {t_crit}]. Нет оснований отвергать H_0.')\n",
    "            print(f'p_value = {p_value}')\n",
    "        else:\n",
    "            print(f't_crit_{alpha/2}({num-1}) = {-t_crit}, t_crit_{1 - alpha / 2}({num-1}) = {t_crit}')\n",
    "            print(f't_obs = {t_obs} not in [-{t_crit}, {t_crit}]. H_0 отвергается с уровнем значимости {alpha}.')\n",
    "            print(f'p_value = {p_value}')\n",
    "    \n",
    "    elif type_ == 'b':\n",
    "        t_crit = round(sts.t.ppf(1 - alpha, df=num-1), 3)\n",
    "        p_value = round(1 - sts.t.cdf(abs(t_obs), df=num-1), 3)\n",
    "        \n",
    "        if t_obs < t_crit:\n",
    "            print(f't_crit_{1 - alpha}({num-1}) = {t_crit}')\n",
    "            print(f't_obs = {t_obs} < t_crit = {t_crit}. Нет оснований отвергать H_0.')\n",
    "            print(f'p_value = {p_value}')\n",
    "        else:\n",
    "            print(f't_crit_{1 - alpha}({num-1}) = {t_crit}')\n",
    "            print(f't_obs = {t_obs} > t_crit = {t_crit}. H_0 отвергается с уровнем значимости {alpha}.')\n",
    "            print(f'p_value = {p_value}')\n",
    "    \n",
    "    else:\n",
    "        t_crit = round(sts.t.ppf(alpha, df=num-1), 3)\n",
    "        p_value = round(1 - sts.t.cdf(abs(t_obs), df=num-1), 3)\n",
    "                  \n",
    "        if t_obs > t_crit:\n",
    "            print(f't_crit_{alpha}({num-1}) = {t_crit}')\n",
    "            print(f't_obs = {t_obs} > t_crit = {t_crit}. Нет оснований отвергать H_0.')\n",
    "            print(f'p_value = {p_value}')\n",
    "        else:\n",
    "            print(f't_crit_{alpha}({num-1}) = {t_crit}')\n",
    "            print(f't_obs = {t_obs} < t_crit = {t_crit}. H_0 отвергается с уровнем значимости {alpha}.')\n",
    "            print(f'p_value = {p_value}')"
   ]
  },
  {
   "cell_type": "markdown",
   "metadata": {},
   "source": [
    "a)"
   ]
  },
  {
   "cell_type": "code",
   "execution_count": null,
   "metadata": {},
   "outputs": [],
   "source": [
    "num = \n",
    "delta_mean = \n",
    "delta_var = \n",
    "alpha = \n",
    "mu_hyp_diff = "
   ]
  },
  {
   "cell_type": "markdown",
   "metadata": {},
   "source": [
    "либо"
   ]
  },
  {
   "cell_type": "code",
   "execution_count": 34,
   "metadata": {},
   "outputs": [],
   "source": [
    "x_data = pd.Series([50.22, 52.27, 52.91, 52.55, 50.44, 51.03,\n",
    "                    50.31, 46.47, 50.79, 51.88, 54.97, 51.04])\n",
    "y_data = pd.Series([47.28, 47.27, 49.68, 46.79, 47.51, 46.46,\n",
    "                    44.27, 44.01, 45.99, 47.95, 53.81, 48.92])\n",
    "\n",
    "data = x_data - y_data"
   ]
  },
  {
   "cell_type": "code",
   "execution_count": 35,
   "metadata": {},
   "outputs": [],
   "source": [
    "num = len(data)\n",
    "delta_mean = data.mean()\n",
    "delta_var = data.var(ddof=1)\n",
    "alpha = \n",
    "mu_hyp_diff = "
   ]
  },
  {
   "cell_type": "markdown",
   "metadata": {},
   "source": [
    "Вычисление:"
   ]
  },
  {
   "cell_type": "code",
   "execution_count": 36,
   "metadata": {},
   "outputs": [
    {
     "name": "stdout",
     "output_type": "stream",
     "text": [
      "t_crit_0.05 = -1.796, t_crit_0.95 = 1.796\n",
      "t_obs = 8.557 not in [-1.796, 1.796]. H_0 отвергается с уровнем значимости 0.1.\n",
      "p_value = 0.0\n"
     ]
    }
   ],
   "source": [
    "diff_mean_test_dependent_samples(num=num, sample_mean=delta_mean, sample_var=delta_var,\n",
    "                                 alpha=alpha, mu_hyp_diff=mu_hyp_diff, type_='a')"
   ]
  },
  {
   "cell_type": "markdown",
   "metadata": {},
   "source": [
    "b)"
   ]
  },
  {
   "cell_type": "code",
   "execution_count": null,
   "metadata": {},
   "outputs": [],
   "source": [
    "num = \n",
    "samples_mean = \n",
    "samples_var = \n",
    "alpha = \n",
    "mu_hyp_diff = "
   ]
  },
  {
   "cell_type": "markdown",
   "metadata": {},
   "source": [
    "либо"
   ]
  },
  {
   "cell_type": "code",
   "execution_count": 37,
   "metadata": {},
   "outputs": [],
   "source": [
    "x_data = pd.Series([50.22, 52.27, 52.91, 52.55, 50.44, 51.03,\n",
    "                    50.31, 46.47, 50.79, 51.88, 54.97, 51.04])\n",
    "y_data = pd.Series([47.28, 47.27, 49.68, 46.79, 47.51, 46.46,\n",
    "                    44.27, 44.01, 45.99, 47.95, 53.81, 48.92])\n",
    "\n",
    "data = x_data - y_data"
   ]
  },
  {
   "cell_type": "code",
   "execution_count": 38,
   "metadata": {},
   "outputs": [],
   "source": [
    "num = len(data)\n",
    "delta_mean = data.mean()\n",
    "delta_var = data.var(ddof=1)\n",
    "alpha = \n",
    "mu_hyp_diff = "
   ]
  },
  {
   "cell_type": "markdown",
   "metadata": {},
   "source": [
    "Вычисление:"
   ]
  },
  {
   "cell_type": "code",
   "execution_count": 39,
   "metadata": {},
   "outputs": [
    {
     "name": "stdout",
     "output_type": "stream",
     "text": [
      "t_crit_0.9 = 1.363\n",
      "t_obs = 8.557 > t_crit = 1.363. H_0 отвергается с уровнем значимости 0.1.\n",
      "p_value = 0.0\n"
     ]
    }
   ],
   "source": [
    "diff_mean_test_dependent_samples(num=num, sample_mean=delta_mean, sample_var=delta_var,\n",
    "                                 alpha=alpha, mu_hyp_diff=mu_hyp_diff, type_='b')"
   ]
  },
  {
   "cell_type": "markdown",
   "metadata": {},
   "source": [
    "c)"
   ]
  },
  {
   "cell_type": "code",
   "execution_count": null,
   "metadata": {},
   "outputs": [],
   "source": [
    "num = \n",
    "delta_mean = \n",
    "samples_var = \n",
    "alpha = \n",
    "mu_hyp_diff = "
   ]
  },
  {
   "cell_type": "markdown",
   "metadata": {},
   "source": [
    "либо"
   ]
  },
  {
   "cell_type": "code",
   "execution_count": 40,
   "metadata": {},
   "outputs": [],
   "source": [
    "x_data = pd.Series([50.22, 52.27, 52.91, 52.55, 50.44, 51.03,\n",
    "                    50.31, 46.47, 50.79, 51.88, 54.97, 51.04])\n",
    "y_data = pd.Series([47.28, 47.27, 49.68, 46.79, 47.51, 46.46,\n",
    "                    44.27, 44.01, 45.99, 47.95, 53.81, 48.92])\n",
    "\n",
    "data = x_data - y_data"
   ]
  },
  {
   "cell_type": "code",
   "execution_count": 41,
   "metadata": {},
   "outputs": [],
   "source": [
    "num = len(data)\n",
    "delta_mean = data.mean()\n",
    "delta_var = data.var(ddof=1)\n",
    "alpha = \n",
    "mu_hyp_diff = "
   ]
  },
  {
   "cell_type": "markdown",
   "metadata": {},
   "source": [
    "Вычисление:"
   ]
  },
  {
   "cell_type": "code",
   "execution_count": 42,
   "metadata": {},
   "outputs": [
    {
     "name": "stdout",
     "output_type": "stream",
     "text": [
      "t_crit_0.1 = -1.363\n",
      "t_obs = 8.557 > t_crit = -1.363. Нет оснований отвергать H_0.\n",
      "p_value = 0.0\n"
     ]
    }
   ],
   "source": [
    "diff_mean_test_dependent_samples(num=num, sample_mean=delta_mean, sample_var=delta_var,\n",
    "                                 alpha=alpha, mu_hyp_diff=mu_hyp_diff, type_='c')"
   ]
  },
  {
   "cell_type": "markdown",
   "metadata": {},
   "source": [
    "### 2. Независимые выборки ($\\sigma^2_X$, $\\sigma^2_Y$ известны) "
   ]
  },
  {
   "cell_type": "markdown",
   "metadata": {},
   "source": [
    "$$\n",
    "\\overline{X} - \\overline{Y} \\sim \\mathcal{N}\\left(\\mu_X - \\mu_Y, \\dfrac{\\sigma_X^2}{n_X} + \\dfrac{\\sigma_Y^2}{n_Y}\\right)\n",
    "$$\n",
    "\n",
    "$$\n",
    "z_{obs} \n",
    "\\stackrel{\\mathrm{def}}\n",
    "{=}\n",
    "\\dfrac\n",
    "{\\overline{X} - \\overline{Y} - d_0}\n",
    "{\\sqrt{\\frac{\\sigma_X^2}{n_X} + \\frac{\\sigma_Y^2}{n_Y}}} \n",
    "\\sim\n",
    "\\mathcal{N}(0, 1)\n",
    "$$\n",
    "\n",
    "a) \n",
    "$$\n",
    "\\begin{cases}\n",
    "H_0: \\mu_X - \\mu_Y = d_0 \\\\\n",
    "H_1: \\mu_X - \\mu_Y \\neq d_0\n",
    "\\end{cases}\n",
    "$$\n",
    "\n",
    "Критическая область:\n",
    "\n",
    "$$\n",
    "\\mathscr{X}_1 : |z_{obs}| > z_{1 - \\frac{\\alpha}{2}}\n",
    "$$\n",
    "\n",
    "b) \n",
    "$$\n",
    "\\begin{cases}\n",
    "H_0: \\mu_X - \\mu_Y = d_0 \\\\\n",
    "H_1: \\mu_X - \\mu_Y > d_0\n",
    "\\end{cases}\n",
    "$$\n",
    "\n",
    "Критическая область:\n",
    "\n",
    "$$\n",
    "\\mathscr{X}_1 : z_{obs} > z_{1 - \\alpha}\n",
    "$$\n",
    "\n",
    "\n",
    "c)\n",
    "$$\n",
    "\\begin{cases}\n",
    "H_0: \\mu_X - \\mu_Y = d_0 \\\\\n",
    "H_1: \\mu_X - \\mu_Y < d_0\n",
    "\\end{cases}\n",
    "$$\n",
    "\n",
    "Критическая область:\n",
    "\n",
    "$$\n",
    "\\mathscr{X}_1 : z_{obs} < z_{\\alpha}\n",
    "$$"
   ]
  },
  {
   "cell_type": "code",
   "execution_count": 97,
   "metadata": {},
   "outputs": [],
   "source": [
    "def diff_mean_test_known_sigmas(n_x: int, sample_mean_x: float, sample_var_x: float,\n",
    "                                n_y: int, sample_mean_y: float, sample_var_y: float,\n",
    "                                alpha: float, mu_hyp_diff: float, type_: str):\n",
    "    \n",
    "    numerator = sample_mean_x - sample_mean_y - mu_hyp_diff\n",
    "    denominator = sqrt(sample_var_x / n_x + sample_var_y / n_y)\n",
    "    z_obs =  round(numerator / denominator, 3)\n",
    "    \n",
    "    if type_ == 'a': # H_1: mu \\neq mu_hyp\n",
    "        z_crit = round(sts.norm.ppf(1 - alpha / 2), 3)\n",
    "        p_value = round(2 * (1 - sts.norm.cdf(abs(z_obs))), 3)\n",
    "        if (z_obs >= -z_crit) and (z_obs <= z_crit):\n",
    "            print(f'z_crit_{alpha/2} = {-z_crit}, z_crit_{1 - alpha/2} = {z_crit}')\n",
    "            print(f'z_obs = {z_obs} in [-{z_crit}, {z_crit}]. Нет оснований отвергать H_0.')\n",
    "            print(f'p_value = {p_value}')\n",
    "        else:\n",
    "            print(f'z_crit_{alpha/2} = {-z_crit}, z_crit_{1 - alpha/2} = {z_crit}')\n",
    "            print(f'z_obs = {z_obs} not in [-{z_crit}, {z_crit}]. H_0 отвергается с уровнем значимости {alpha}.')\n",
    "            print(f'p_value = {p_value}')\n",
    "    \n",
    "    elif type_ == 'b': # H_1: mu > mu_hyp\n",
    "        z_crit = round(sts.norm.ppf(1 - alpha), 3)\n",
    "        p_value = round(1 - sts.norm.cdf(abs(z_obs)), 3)\n",
    "        if z_obs < z_crit:\n",
    "            print(f'z_crit_{1 - alpha} = {z_crit}')\n",
    "            print(f'z_obs = {z_obs} < z_crit = {z_crit}. Нет оснований отвергать H_0.')\n",
    "            print(f'p_value = {p_value}')\n",
    "        else:\n",
    "            print(f'z_crit_{1 - alpha} = {z_crit}')\n",
    "            print(f'z_obs = {z_obs} > z_crit = {z_crit}. H_0 отвергается с уровнем значимости {alpha}.')\n",
    "            print(f'p_value = {p_value}')\n",
    "    else: # H_1: mu < mu_hyp\n",
    "        z_crit = round(sts.norm.ppf(alpha), 3)\n",
    "        p_value = round(1 - sts.norm.cdf(abs(z_obs)), 3)\n",
    "        if z_obs > z_crit:\n",
    "            print(f'z_crit_{alpha} = {z_crit}')\n",
    "            print(f'z_obs = {z_obs} > z_crit = {z_crit}. Нет оснований отвергать H_0.')\n",
    "            print(f'p_value = {p_value}')\n",
    "        else:\n",
    "            print(f'z_crit_{alpha} = {z_crit}')\n",
    "            print(f'z_obs = {z_obs} < z_crit = {z_crit}. H_0 отвергается с уровнем значимости {alpha}.')\n",
    "            print(f'p_value = {p_value}')"
   ]
  },
  {
   "cell_type": "markdown",
   "metadata": {},
   "source": [
    "a)"
   ]
  },
  {
   "cell_type": "code",
   "execution_count": 127,
   "metadata": {},
   "outputs": [],
   "source": [
    "n_x = 40\n",
    "n_y = 60\n",
    "sample_mean_x = 136\n",
    "sample_mean_y = 139\n",
    "sample_var_x = 55 ** 2\n",
    "sample_var_y = 60 ** 2\n",
    "alpha = 0.1\n",
    "mu_hyp_diff = 0"
   ]
  },
  {
   "cell_type": "markdown",
   "metadata": {},
   "source": [
    "либо"
   ]
  },
  {
   "cell_type": "code",
   "execution_count": 44,
   "metadata": {},
   "outputs": [],
   "source": [
    "x_data = pd.Series([50.22, 52.27, 52.91, 52.55, 50.44, 51.03,\n",
    "                    50.31, 46.47, 50.79, 51.88, 54.97, 51.04])\n",
    "y_data = pd.Series([47.28, 47.27, 49.68, 46.79, 47.51, 46.46,\n",
    "                    44.27, 44.01, 45.99, 47.95, 53.81, 48.92])"
   ]
  },
  {
   "cell_type": "code",
   "execution_count": 45,
   "metadata": {},
   "outputs": [],
   "source": [
    "n_x = len(x_data)\n",
    "n_y = len(y_data)\n",
    "sample_mean_x = x_data.mean()\n",
    "sample_mean_y = y_data.mean()\n",
    "sample_var_x = 32\n",
    "sample_var_y = 39"
   ]
  },
  {
   "cell_type": "markdown",
   "metadata": {},
   "source": [
    "Вычисление:"
   ]
  },
  {
   "cell_type": "code",
   "execution_count": 128,
   "metadata": {
    "scrolled": true
   },
   "outputs": [
    {
     "name": "stdout",
     "output_type": "stream",
     "text": [
      "z_crit_0.05 = -1.645, z_crit_0.95 = 1.645\n",
      "z_obs = -0.258 in [-1.645, 1.645]. Нет оснований отвергать H_0.\n",
      "p_value = 0.796\n"
     ]
    }
   ],
   "source": [
    "diff_mean_test_known_sigmas(n_x=n_x, sample_mean_x=sample_mean_x, sample_var_x=sample_var_x,\n",
    "                            n_y=n_y, sample_mean_y=sample_mean_y, sample_var_y=sample_var_y,\n",
    "                            alpha=alpha, mu_hyp_diff=mu_hyp_diff, type_='a')"
   ]
  },
  {
   "cell_type": "markdown",
   "metadata": {},
   "source": [
    "b)"
   ]
  },
  {
   "cell_type": "code",
   "execution_count": null,
   "metadata": {},
   "outputs": [],
   "source": [
    "n_x = \n",
    "n_y = \n",
    "sample_mean_x = \n",
    "sample_mean_y = \n",
    "sample_var_x = \n",
    "sample_var_y = \n",
    "alpha = 0.1\n",
    "mu_hyp_diff = 0"
   ]
  },
  {
   "cell_type": "markdown",
   "metadata": {},
   "source": [
    "либо"
   ]
  },
  {
   "cell_type": "code",
   "execution_count": 47,
   "metadata": {},
   "outputs": [],
   "source": [
    "x_data = pd.Series([-1, 0, 2])\n",
    "y_data = pd.Series([2, - 2])"
   ]
  },
  {
   "cell_type": "code",
   "execution_count": 98,
   "metadata": {},
   "outputs": [],
   "source": [
    "n_x = len(x_data)\n",
    "n_y = len(y_data)\n",
    "sample_mean_x = x_data.mean()\n",
    "sample_mean_y = y_data.mean()\n",
    "sample_var_x = 1\n",
    "sample_var_y = 2\n",
    "alpha = 0.05\n",
    "mu_hyp_diff = 0"
   ]
  },
  {
   "cell_type": "markdown",
   "metadata": {},
   "source": [
    "Вычисление:"
   ]
  },
  {
   "cell_type": "code",
   "execution_count": 99,
   "metadata": {},
   "outputs": [
    {
     "name": "stdout",
     "output_type": "stream",
     "text": [
      "z_crit_0.95 = 1.645\n",
      "z_obs = 0.289 < z_crit = 1.645. Нет оснований отвергать H_0.\n",
      "p_value = 0.386\n"
     ]
    }
   ],
   "source": [
    "diff_mean_test_known_sigmas(n_x=n_x, sample_mean_x=sample_mean_x, sample_var_x=sample_var_x,\n",
    "                            n_y=n_y, sample_mean_y=sample_mean_y, sample_var_y=sample_var_y,\n",
    "                            alpha=alpha, mu_hyp_diff=mu_hyp_diff, type_='b')"
   ]
  },
  {
   "cell_type": "markdown",
   "metadata": {},
   "source": [
    "c)"
   ]
  },
  {
   "cell_type": "code",
   "execution_count": 124,
   "metadata": {},
   "outputs": [],
   "source": [
    "n_x = 40\n",
    "n_y = 60\n",
    "sample_mean_x = 136\n",
    "sample_mean_y = 139\n",
    "sample_var_x = 55 ** 2\n",
    "sample_var_y = 60 ** 2\n",
    "alpha = 0.1\n",
    "mu_hyp_diff = 0"
   ]
  },
  {
   "cell_type": "markdown",
   "metadata": {},
   "source": [
    "либо"
   ]
  },
  {
   "cell_type": "code",
   "execution_count": 50,
   "metadata": {},
   "outputs": [],
   "source": [
    "x_data = pd.Series([50.22, 52.27, 52.91, 52.55, 50.44, 51.03,\n",
    "                    50.31, 46.47, 50.79, 51.88, 54.97, 51.04])\n",
    "y_data = pd.Series([47.28, 47.27, 49.68, 46.79, 47.51, 46.46,\n",
    "                    44.27, 44.01, 45.99, 47.95, 53.81, 48.92])"
   ]
  },
  {
   "cell_type": "code",
   "execution_count": 51,
   "metadata": {},
   "outputs": [],
   "source": [
    "n_x = len(x_data)\n",
    "n_y = len(y_data)\n",
    "sample_mean_x = x_data.mean()\n",
    "sample_mean_y = y_data.mean()\n",
    "sample_var_x = 32\n",
    "sample_var_y = 39\n",
    "alpha = 0.1\n",
    "mu_hyp_diff = 0"
   ]
  },
  {
   "cell_type": "markdown",
   "metadata": {},
   "source": [
    "Вычисление:"
   ]
  },
  {
   "cell_type": "code",
   "execution_count": 125,
   "metadata": {},
   "outputs": [
    {
     "name": "stdout",
     "output_type": "stream",
     "text": [
      "z_crit_0.1 = -1.282\n",
      "z_obs = -0.258 > z_crit = -1.282. Нет оснований отвергать H_0.\n",
      "p_value = 0.398\n"
     ]
    }
   ],
   "source": [
    "diff_mean_test_known_sigmas(n_x=n_x, sample_mean_x=sample_mean_x, sample_var_x=sample_var_x,\n",
    "                            n_y=n_y, sample_mean_y=sample_mean_y, sample_var_y=sample_var_y,\n",
    "                            alpha=alpha, mu_hyp_diff=mu_hyp_diff, type_='c')"
   ]
  },
  {
   "cell_type": "markdown",
   "metadata": {},
   "source": [
    "### 3. Независимые выборки ($\\sigma^2_X$, $\\sigma^2_Y$ не известны, но равны) "
   ]
  },
  {
   "cell_type": "markdown",
   "metadata": {},
   "source": [
    "$$\n",
    "\\overline{X} - \\overline{Y} \\sim \\mathcal{N}\\left(\\mu_X - \\mu_Y, \\dfrac{\\sigma_0^2}{n_X} + \\dfrac{\\sigma_0^2}{n_Y}\\right)\n",
    "$$\n",
    "\n",
    "$$\n",
    "t_{obs} \n",
    "\\stackrel{\\mathrm{def}}\n",
    "{=}\n",
    "\\dfrac\n",
    "{\\overline{X} - \\overline{Y} - d_0}\n",
    "{\\hat{\\sigma}_0\\sqrt{\\frac{1}{n_X} + \\frac{1}{n_Y}}} \n",
    "\\sim\n",
    "t(n_X + n_Y - 2),\n",
    "$$\n",
    "\n",
    "где \n",
    "$$\n",
    "\\hat{\\sigma}_0^2 = \\dfrac{(n_X - 1) \\hat{\\sigma}^2_X + (n_Y - 1) \\hat{\\sigma}^2_Y}{n_X + n_Y - 2}\n",
    "$$\n",
    "\n",
    "a) \n",
    "$$\n",
    "\\begin{cases}\n",
    "H_0: \\mu_X - \\mu_Y = d_0 \\\\\n",
    "H_1: \\mu_X - \\mu_Y \\neq d_0\n",
    "\\end{cases}\n",
    "$$\n",
    "\n",
    "Критическая область:\n",
    "\n",
    "$$\n",
    "\\mathscr{X}_1 : |t_{obs}| > t_{1 - \\frac{\\alpha}{2}}(n_X + n_Y - 2)\n",
    "$$\n",
    "\n",
    "b) \n",
    "$$\n",
    "\\begin{cases}\n",
    "H_0: \\mu_X - \\mu_Y = d_0 \\\\\n",
    "H_1: \\mu_X - \\mu_Y > d_0\n",
    "\\end{cases}\n",
    "$$\n",
    "\n",
    "Критическая область:\n",
    "\n",
    "$$\n",
    "\\mathscr{X}_1 : t_{obs} > t_{1 - \\alpha}(n_X + n_Y - 2)\n",
    "$$\n",
    "\n",
    "\n",
    "c)\n",
    "$$\n",
    "\\begin{cases}\n",
    "H_0: \\mu_X - \\mu_Y = d_0 \\\\\n",
    "H_1: \\mu_X - \\mu_Y < d_0\n",
    "\\end{cases}\n",
    "$$\n",
    "\n",
    "Критическая область:\n",
    "\n",
    "$$\n",
    "\\mathscr{X}_1 : t_{obs} < t_{\\alpha}(n_X + n_Y - 2)\n",
    "$$\n"
   ]
  },
  {
   "cell_type": "code",
   "execution_count": 104,
   "metadata": {},
   "outputs": [],
   "source": [
    "def diff_mean_test_unknown_sigmas(n_x: int, sample_mean_x: float, n_y: int, sample_mean_y: float, \n",
    "                                sample_var: float, alpha: float, mu_hyp_diff: float, type_: str):\n",
    "    \n",
    "    numerator = sample_mean_x - sample_mean_y - mu_hyp_diff\n",
    "    denominator = sqrt(sample_var_both) * sqrt(1 / n_x + 1/n_y)\n",
    "    t_obs =  round(numerator / denominator, 3)\n",
    "    \n",
    "    if type_ == 'a':\n",
    "        t_crit = round(sts.t.ppf(1 - alpha / 2, df=n_x + n_y - 2), 3)\n",
    "        p_value = round(2 * (1- sts.t.cdf(abs(t_obs), df=n_x + n_y - 2)), 3)\n",
    "        \n",
    "        if (t_obs >= -t_crit) and (t_obs <= t_crit):\n",
    "            print(f't_crit_{alpha/2} = {-t_crit}, t_crit_{1 - alpha/2} = {t_crit}')\n",
    "            print(f't_obs = {t_obs} in [-{t_crit}, {t_crit}]. Нет оснований отвергать H_0.')\n",
    "            print(f'p_value = {p_value}')\n",
    "        else:\n",
    "            print(f't_crit_{alpha/2} = {-t_crit}, t_crit_{1 - alpha / 2} = {t_crit}')\n",
    "            print(f't_obs = {t_obs} not in [-{t_crit}, {t_crit}]. H_0 отвергается с уровнем значимости {alpha}.')\n",
    "            print(f'p_value = {p_value}')\n",
    "    \n",
    "    elif type_ == 'b':\n",
    "        t_crit = round(sts.t.ppf(1 - alpha, df=n_x + n_y - 2), 3)\n",
    "        p_value = round(1 - sts.t.cdf(abs(t_obs), df=n_x + n_y - 2), 3)\n",
    "        \n",
    "        if t_obs < t_crit:\n",
    "            print(f't_crit_{1 - alpha} = {t_crit}')\n",
    "            print(f't_obs = {t_obs} < t_crit = {t_crit}. Нет оснований отвергать H_0.')\n",
    "            print(f'p_value = {p_value}')\n",
    "        else:\n",
    "            print(f't_crit_{1 - alpha} = {t_crit}')\n",
    "            print(f't_obs = {t_obs} > t_crit = {t_crit}. H_0 отвергается с уровнем значимости {alpha}.')\n",
    "            print(f'p_value = {p_value}')\n",
    "    \n",
    "    else:\n",
    "        t_crit = round(sts.t.ppf(alpha, df=n_x + n_y - 2), 3)\n",
    "        p_value = round(1 - sts.t.cdf(abs(t_obs), df=n_x + n_y - 2), 3)\n",
    "                  \n",
    "        if t_obs > t_crit:\n",
    "            print(f't_crit_{alpha} = {t_crit}')\n",
    "            print(f't_obs = {t_obs} > t_crit = {t_crit}. Нет оснований отвергать H_0.')\n",
    "            print(f'p_value = {p_value}')\n",
    "        else:\n",
    "            print(f't_crit_{alpha} = {t_crit}')\n",
    "            print(f't_obs = {t_obs} < t_crit = {t_crit}. H_0 отвергается с уровнем значимости {alpha}.')\n",
    "            print(f'p_value = {p_value}')"
   ]
  },
  {
   "cell_type": "markdown",
   "metadata": {},
   "source": [
    "a)"
   ]
  },
  {
   "cell_type": "code",
   "execution_count": null,
   "metadata": {},
   "outputs": [],
   "source": [
    "n_x = \n",
    "n_y = \n",
    "sample_mean_x = \n",
    "sample_mean_y = \n",
    "sample_var_x = \n",
    "sample_var_y = \n",
    "sample_var_both = \n",
    "alpha = 0.1\n",
    "mu_hyp_diff = 0"
   ]
  },
  {
   "cell_type": "markdown",
   "metadata": {},
   "source": [
    "либо"
   ]
  },
  {
   "cell_type": "code",
   "execution_count": 55,
   "metadata": {},
   "outputs": [],
   "source": [
    "x_data = pd.Series([50.22, 52.27, 52.91, 52.55, 50.44, 51.03,\n",
    "                    50.31, 46.47, 50.79, 51.88, 54.97, 51.04])\n",
    "y_data = pd.Series([47.28, 47.27, 49.68, 46.79, 47.51, 46.46,\n",
    "                    44.27, 44.01, 45.99, 47.95, 53.81, 48.92])"
   ]
  },
  {
   "cell_type": "markdown",
   "metadata": {},
   "source": [
    "Вычисление:"
   ]
  },
  {
   "cell_type": "code",
   "execution_count": 56,
   "metadata": {},
   "outputs": [],
   "source": [
    "n_x = len(x_data)\n",
    "n_y = len(y_data)\n",
    "sample_mean_x = x_data.mean()\n",
    "sample_mean_y = y_data.mean()\n",
    "sample_var_x = x_data.var(ddof=1)\n",
    "sample_var_y = y_data.var(ddof=1)\n",
    "sample_var_both = ((n_x - 1) * sample_var_x + (n_y - 1) * sample_var_y) / (n_x + n_y - 2)\n",
    "alpha = 0.1\n",
    "mu_hyp_diff = 0"
   ]
  },
  {
   "cell_type": "code",
   "execution_count": 57,
   "metadata": {
    "scrolled": false
   },
   "outputs": [
    {
     "name": "stdout",
     "output_type": "stream",
     "text": [
      "t_crit_0.05 = -1.717, t_crit_0.95 = 1.717\n",
      "t_obs = 3.947 not in [-1.717, 1.717]. H_0 отвергается с уровнем значимости 0.1.\n",
      "p_value = 0.001\n"
     ]
    }
   ],
   "source": [
    "diff_mean_test_unknown_sigmas(n_x=n_x, sample_mean_x=sample_mean_x, n_y=n_y, sample_mean_y=sample_mean_y, \n",
    "                            sample_var=sample_var, alpha=alpha, mu_hyp_diff=mu_hyp_diff, type_='a')"
   ]
  },
  {
   "cell_type": "markdown",
   "metadata": {},
   "source": [
    "b)"
   ]
  },
  {
   "cell_type": "code",
   "execution_count": null,
   "metadata": {},
   "outputs": [],
   "source": [
    "n_x = \n",
    "n_y = \n",
    "sample_mean_x = \n",
    "sample_mean_y = \n",
    "sample_var_x = \n",
    "sample_var_y = \n",
    "sample_var_both =\n",
    "alpha = 0.1\n",
    "mu_hyp_diff = 0"
   ]
  },
  {
   "cell_type": "markdown",
   "metadata": {},
   "source": [
    "либо"
   ]
  },
  {
   "cell_type": "code",
   "execution_count": 58,
   "metadata": {},
   "outputs": [],
   "source": [
    "x_data = pd.Series([50.22, 52.27, 52.91, 52.55, 50.44, 51.03,\n",
    "                    50.31, 46.47, 50.79, 51.88, 54.97, 51.04])\n",
    "y_data = pd.Series([47.28, 47.27, 49.68, 46.79, 47.51, 46.46,\n",
    "                    44.27, 44.01, 45.99, 47.95, 53.81, 48.92])"
   ]
  },
  {
   "cell_type": "code",
   "execution_count": 59,
   "metadata": {},
   "outputs": [],
   "source": [
    "n_x = len(x_data)\n",
    "n_y = len(y_data)\n",
    "sample_mean_x = x_data.mean()\n",
    "sample_mean_y = y_data.mean()\n",
    "sample_var_x = x_data.var(ddof=1)\n",
    "sample_var_y = y_data.var(ddof=1)\n",
    "sample_var_both = ((n_x - 1) * sample_var_x + (n_y - 1) * sample_var_y) / (n_x + n_y - 2)"
   ]
  },
  {
   "cell_type": "code",
   "execution_count": 60,
   "metadata": {
    "scrolled": true
   },
   "outputs": [
    {
     "name": "stdout",
     "output_type": "stream",
     "text": [
      "t_crit_0.95 = 1.717\n",
      "t_obs = 3.947 > t_crit = 1.717. H_0 отвергается с уровнем значимости 0.05.\n",
      "p_value = 0.0\n"
     ]
    }
   ],
   "source": [
    "diff_mean_test_unknown_sigmas(n_x=n_x, sample_mean_x=sample_mean_x, n_y=n_y, sample_mean_y=sample_mean_y, \n",
    "                            sample_var=sample_var, alpha=alpha, mu_hyp_diff=mu_hyp_diff, type_='b')"
   ]
  },
  {
   "cell_type": "markdown",
   "metadata": {},
   "source": [
    "c)"
   ]
  },
  {
   "cell_type": "code",
   "execution_count": null,
   "metadata": {},
   "outputs": [],
   "source": [
    "n_x = \n",
    "n_y = \n",
    "sample_mean_x = \n",
    "sample_mean_y = \n",
    "sample_var_x = \n",
    "sample_var_y = \n",
    "sample_var_both =\n",
    "alpha = 0.1\n",
    "mu_hyp_diff = 0"
   ]
  },
  {
   "cell_type": "markdown",
   "metadata": {},
   "source": [
    "либо"
   ]
  },
  {
   "cell_type": "code",
   "execution_count": 123,
   "metadata": {},
   "outputs": [],
   "source": [
    "x_data = pd.Series([1, 0, -2])\n",
    "y_data = pd.Series([2, -2])"
   ]
  },
  {
   "cell_type": "code",
   "execution_count": 124,
   "metadata": {},
   "outputs": [],
   "source": [
    "n_x = len(x_data)\n",
    "n_y = len(y_data)\n",
    "sample_mean_x = x_data.mean()\n",
    "sample_mean_y = y_data.mean()\n",
    "sample_var_x = x_data.var()\n",
    "sample_var_y = y_data.var()\n",
    "sample_var_both = ((n_x - 1) * sample_var_x + (n_y - 1) * sample_var_y) / (n_x + n_y - 2)\n",
    "alpha = 0.05\n",
    "mu_hyp_diff = 0"
   ]
  },
  {
   "cell_type": "code",
   "execution_count": 126,
   "metadata": {},
   "outputs": [
    {
     "data": {
      "text/plain": [
       "-0.3333333333333333"
      ]
     },
     "execution_count": 126,
     "metadata": {},
     "output_type": "execute_result"
    }
   ],
   "source": [
    "sample_mean_x"
   ]
  },
  {
   "cell_type": "markdown",
   "metadata": {},
   "source": [
    "Вычисление:"
   ]
  },
  {
   "cell_type": "code",
   "execution_count": 125,
   "metadata": {
    "scrolled": true
   },
   "outputs": [
    {
     "name": "stdout",
     "output_type": "stream",
     "text": [
      "t_crit_0.05 = -2.353\n",
      "t_obs = -0.178 > t_crit = -2.353. Нет оснований отвергать H_0.\n",
      "p_value = 0.435\n"
     ]
    }
   ],
   "source": [
    "diff_mean_test_unknown_sigmas(n_x=n_x, sample_mean_x=sample_mean_x, n_y=n_y, sample_mean_y=sample_mean_y, \n",
    "                              sample_var=sample_var_both, alpha=alpha, mu_hyp_diff=mu_hyp_diff, type_='c')"
   ]
  },
  {
   "cell_type": "markdown",
   "metadata": {},
   "source": [
    "### 4. Частный случай: гипотеза о равенстве долей"
   ]
  },
  {
   "cell_type": "markdown",
   "metadata": {},
   "source": [
    "$X = (X_1, ..., X_{n_X}$, $X_i \\sim \\text{Bin}(1, p_X)$\n",
    "\n",
    "$Y = (Y_1, ..., Y_{n_Y}$, $Y_i \\sim \\text{Bin}(1, p_Y)$:\n",
    "\n",
    "Тестовая статистика с помощью теоремы Слуцкого имеет вид, если верна $H_0$:\n",
    "\n",
    "$$\n",
    "z_{obs} \n",
    "\\stackrel{\\mathrm{def}}{=}\n",
    "\\dfrac{\\hat{p}_X - \\hat{p}_Y}{\\sqrt{\\hat{p}_0(1 - \\hat{p}_0) \\left(\\dfrac{1}{n_X} + \\dfrac{1}{n_Y} \\right)}} \\xrightarrow[n_X \\to \\infty, n_Y \\to \\infty]{\\mathcal{D}} \\mathcal{N}(0, 1),\n",
    "$$\n",
    "где\n",
    "$$\n",
    "\\hat{p}_0 = \\dfrac{n_X \\hat{p}_X + n_Y \\hat{p}_Y}{n_X + n_Y}\n",
    "$$\n",
    "\n",
    "a) \n",
    "$$\n",
    "\\begin{cases}\n",
    "H_0: p_X = p_Y = p_0 \\\\\n",
    "H_1:  p_X \\neq p_Y\n",
    "\\end{cases}\n",
    "$$\n",
    "\n",
    "Критическая область:\n",
    "\n",
    "$$\n",
    "\\mathscr{X}_1 : |z_{obs}| > z_{1 - \\frac{\\alpha}{2}}\n",
    "$$\n",
    "\n",
    "b) \n",
    "$$\n",
    "\\begin{cases}\n",
    "H_0: p_X = p_Y = p_0 \\\\\n",
    "H_1:  p_X > p_Y\n",
    "\\end{cases}\n",
    "$$\n",
    "\n",
    "Критическая область:\n",
    "\n",
    "$$\n",
    "\\mathscr{X}_1 : z_{obs} > z_{1 - \\alpha}\n",
    "$$\n",
    "\n",
    "\n",
    "c)\n",
    "$$\n",
    "\\begin{cases}\n",
    "H_0: p_X = p_Y = p_0 \\\\\n",
    "H_1:  p_X < p_Y\n",
    "\\end{cases}\n",
    "$$\n",
    "\n",
    "Критическая область:\n",
    "\n",
    "$$\n",
    "\\mathscr{X}_1 : z_{obs} < z_{\\alpha}\n",
    "$$"
   ]
  },
  {
   "cell_type": "markdown",
   "metadata": {},
   "source": [
    "## Гипотезы о дисперсии"
   ]
  },
  {
   "cell_type": "markdown",
   "metadata": {},
   "source": [
    "### 1. При известном математическом ожидании"
   ]
  },
  {
   "cell_type": "markdown",
   "metadata": {},
   "source": [
    "$X = (X_1, ..., X_n),\\ X_i \\sim \\mathcal{N}(\\mu, \\sigma^2)$, $\\mu$ __известна__.\n",
    "\n",
    "$$\n",
    "\\chi^2_{obs}\n",
    "\\stackrel{\\mathrm{def}}{=}\n",
    "\\dfrac{\n",
    "\\sum_{i = 1}^n\\limits (X_i - \\mu)^2\n",
    "}{\\sigma^2} \\sim \\chi^2(n),\n",
    "$$ поскольку\n",
    "\n",
    "$$\n",
    "\\sum_{i = 1}^n\\limits \\left(\\dfrac{X_i - \\mu\n",
    "}{\\sigma}\\right)^2 \\sim \\chi^2(n),\n",
    "$$ где\n",
    "\n",
    "$$\n",
    "\\dfrac{X_i - \\mu}{\\sigma} \\sim \\mathcal{N}(0, 1)\n",
    "$$\n",
    "\n",
    "a) \n",
    "\\begin{cases}\n",
    "H_0: \\sigma^2 = \\sigma^2_0 \\\\\n",
    "H_1: \\sigma^2 \\neq \\sigma^2_0\n",
    "\\end{cases}\n",
    "\n",
    "$$\n",
    "\\mathscr{X}_0 : \\chi^2_{obs} \\in [\\chi^2_{\\frac{\\alpha}{2}}(n),  \\chi^2_{ 1 - \\frac{\\alpha}{2}}(n)]\n",
    "$$\n",
    "$$\n",
    "\\mathscr{X}_1 : \\chi^2_{obs} \\notin [\\chi^2_{\\frac{\\alpha}{2}}(n),  \\chi^2_{ 1 - \\frac{\\alpha}{2}}(n)]\n",
    "$$\n",
    "\n",
    "b) \n",
    "\\begin{cases}\n",
    "H_0: \\sigma^2 = \\sigma^2_0 \\\\\n",
    "H_1: \\sigma^2 > \\sigma^2_0\n",
    "\\end{cases}\n",
    "\n",
    "$$\n",
    "\\mathscr{X}_0 : \\chi^2_{obs} \\leq \\chi^2_{1 - \\alpha}(n)\n",
    "$$\n",
    "$$\n",
    "\\mathscr{X}_1 : \\chi^2_{obs} > \\chi^2_{1 - \\alpha}(n)\n",
    "$$\n",
    "\n",
    "\n",
    "c)\n",
    "\\begin{cases}\n",
    "H_0: \\sigma^2 = \\sigma^2_0 \\\\\n",
    "H_1: \\sigma^2 < \\sigma^2_0\n",
    "\\end{cases}\n",
    "\n",
    "$$\n",
    "\\mathscr{X}_0 : \\chi^2_{obs} \\geq \\chi^2_{\\alpha}(n)\n",
    "$$\n",
    "$$\n",
    "\\mathscr{X}_1 : \\chi^2_{obs} < \\chi^2_{\\alpha}(n)\n",
    "$$"
   ]
  },
  {
   "cell_type": "code",
   "execution_count": 54,
   "metadata": {},
   "outputs": [],
   "source": [
    "def var_test_known_mu(x: pd.Series, mu: float, num: int, alpha: float, sigma2_hyp: float, type_: str):\n",
    "    chi2_obs = round(sum((x - mu) ** 2) / sigma2_hyp, 3)\n",
    "\n",
    "    if type_ == 'a':\n",
    "        chi2_high_crit = round(sts.chi2.ppf(1 - alpha / 2, df=num), 3)\n",
    "        chi2_low_crit = round(sts.chi2.ppf(alpha / 2, df=num-1), 3) \n",
    "        \n",
    "        if (chi2_obs >= chi2_low_crit) and (chi2_obs <= chi2_high_crit):\n",
    "            print(f'chi2_low_crit_{alpha/2}({num}) = {chi2_low_crit}, chi2_high_crit_{1 - alpha/2}({num}) = {chi2_high_crit}')\n",
    "            print(f'chi2_obs = {chi2_obs} in [{chi2_low_crit}, {chi2_high_crit}]. Нет оснований отвергать H_0.')\n",
    "\n",
    "        else:\n",
    "            print(f'chi2_low_crit_{alpha/2}({num}) = {chi2_low_crit}, chi2_high_crit_{1 - alpha/2}({num}) = {chi2_high_crit}')\n",
    "            print(f'chi2_obs = {chi2_obs} not in [{chi2_low_crit}, {chi2_high_crit}]. H_0 отвергается с уровнем значимости {alpha}.')\n",
    "    \n",
    "    elif type_ == 'b':\n",
    "        chi2_high_crit = round(sts.chi2.ppf(1 - alpha, df=num), 3)\n",
    "        \n",
    "        if chi2_obs < chi2_high_crit:\n",
    "            print(f'chi2_high_crit_{1 - alpha}({num}) = {chi2_high_crit}')\n",
    "            print(f'chi2_obs = {chi2_obs} < chi2_high_crit = {chi2_high_crit}. Нет оснований отвергать H_0.')\n",
    "\n",
    "        else:\n",
    "            print(f'chi2_high_crit_{1 - alpha}({num}) = {chi2_high_crit}')\n",
    "            print(f'chi2_obs = {chi2_obs} > chi2_high_crit = {chi2_high_crit}. H_0 отвергается с уровнем значимости {alpha}.')\n",
    "    \n",
    "    else:\n",
    "        chi2_low_crit = round(sts.chi2.ppf(alpha, df=num), 3)\n",
    "                  \n",
    "        if chi2_obs > chi2_low_crit:\n",
    "            print(f'chi2_low_crit_{alpha}({num}) = {chi2_low_crit}')\n",
    "            print(f'chi2_obs = {chi2_obs} > chi2_low_crit = {chi2_low_crit}. Нет оснований отвергать H_0.')\n",
    "\n",
    "        else:\n",
    "            print(f'chi2_low_crit_{alpha}({num}) = {chi2_low_crit}')\n",
    "            print(f'chi2_obs = {chi2_obs} < chi2_low_crit = {chi2_low_crit}. H_0 отвергается с уровнем значимости {alpha}.')\n",
    " "
   ]
  },
  {
   "cell_type": "markdown",
   "metadata": {},
   "source": [
    "a)"
   ]
  },
  {
   "cell_type": "code",
   "execution_count": 55,
   "metadata": {},
   "outputs": [],
   "source": [
    "data = pd.Series([-1.11, -6.10, 2.42])"
   ]
  },
  {
   "cell_type": "code",
   "execution_count": 58,
   "metadata": {},
   "outputs": [],
   "source": [
    "num = len(data)\n",
    "# истинное математическое ожидание\n",
    "mu = 2\n",
    "alpha = 0.1\n",
    "sigma2_hyp = 10"
   ]
  },
  {
   "cell_type": "markdown",
   "metadata": {},
   "source": [
    "Вычисление:"
   ]
  },
  {
   "cell_type": "code",
   "execution_count": 59,
   "metadata": {
    "scrolled": true
   },
   "outputs": [
    {
     "name": "stdout",
     "output_type": "stream",
     "text": [
      "chi2_low_crit_0.05(3) = 0.103, chi2_high_crit_0.95(3) = 7.815\n",
      "chi2_obs = 7.546 in [0.103, 7.815]. Нет оснований отвергать H_0.\n"
     ]
    }
   ],
   "source": [
    "var_test_known_mu(x=data, num=num, mu=mu,\n",
    "                    alpha=alpha, sigma2_hyp=sigma2_hyp, type_='a')"
   ]
  },
  {
   "cell_type": "markdown",
   "metadata": {},
   "source": [
    "b)"
   ]
  },
  {
   "cell_type": "code",
   "execution_count": 68,
   "metadata": {},
   "outputs": [],
   "source": [
    "data = pd.Series([-1.11, -6.10, 2.42])"
   ]
  },
  {
   "cell_type": "code",
   "execution_count": 69,
   "metadata": {},
   "outputs": [],
   "source": [
    "num = len(data)\n",
    "# истинное математическое ожидание\n",
    "mu = 2\n",
    "alpha = 0.1\n",
    "sigma2_hyp = 10"
   ]
  },
  {
   "cell_type": "markdown",
   "metadata": {},
   "source": [
    "Вычисление:"
   ]
  },
  {
   "cell_type": "code",
   "execution_count": 70,
   "metadata": {},
   "outputs": [
    {
     "name": "stdout",
     "output_type": "stream",
     "text": [
      "chi2_high_crit_0.9(3) = 6.251\n",
      "chi2_obs = 7.546 > chi2_high_crit = 6.251. H_0 отвергается с уровнем значимости 0.1.\n"
     ]
    }
   ],
   "source": [
    "var_test_known_mu(x=data, num=num, mu=mu,\n",
    "                    alpha=alpha, sigma2_hyp=sigma2_hyp, type_='b')"
   ]
  },
  {
   "cell_type": "markdown",
   "metadata": {},
   "source": [
    "c)"
   ]
  },
  {
   "cell_type": "code",
   "execution_count": 65,
   "metadata": {},
   "outputs": [],
   "source": [
    "data = pd.Series([-1.11, -6.10, 2.42])"
   ]
  },
  {
   "cell_type": "code",
   "execution_count": 66,
   "metadata": {},
   "outputs": [],
   "source": [
    "num = len(data)\n",
    "# истинное математическое ожидание\n",
    "mu = 2\n",
    "alpha = 0.1\n",
    "sigma2_hyp = 10"
   ]
  },
  {
   "cell_type": "markdown",
   "metadata": {},
   "source": [
    "Вычисление:"
   ]
  },
  {
   "cell_type": "code",
   "execution_count": 67,
   "metadata": {},
   "outputs": [
    {
     "name": "stdout",
     "output_type": "stream",
     "text": [
      "chi2_low_crit_0.1(3) = 0.584\n",
      "chi2_obs = 7.546 > chi2_low_crit = 0.584. Нет оснований отвергать H_0.\n"
     ]
    }
   ],
   "source": [
    "var_test_known_mu(x=data, num=num, mu=mu,\n",
    "                    alpha=alpha, sigma2_hyp=sigma2_hyp, type_='c')"
   ]
  },
  {
   "cell_type": "markdown",
   "metadata": {},
   "source": [
    "### 2. При неизвестном математическом ожидании"
   ]
  },
  {
   "cell_type": "markdown",
   "metadata": {},
   "source": [
    "$X = (X_1, ..., X_n),\\ X_i \\sim \\mathcal{N}(\\mu, \\sigma^2)$, $\\mu$ и  $\\sigma^2$ __не известны__.\n",
    "\n",
    "$$\n",
    "\\chi^2_{obs}\n",
    "\\stackrel{\\mathrm{def}}{=}\n",
    "\\dfrac{\\hat{\\sigma}^2(n - 1)}{\\sigma^2_0} \\sim \\chi^2(n - 1)\n",
    "$$ \n",
    "\n",
    "\n",
    "a) \n",
    "\\begin{cases}\n",
    "H_0: \\sigma^2 = \\sigma^2_0 \\\\\n",
    "H_1: \\sigma^2 \\neq \\sigma^2_0\n",
    "\\end{cases}\n",
    "\n",
    "$$\n",
    "\\mathscr{X}_0 : \\chi^2_{obs} \\in [\\chi^2_{\\frac{\\alpha}{2}}(n - 1),  \\chi^2_{ 1 - \\frac{\\alpha}{2}}(n - 1)]\n",
    "$$\n",
    "$$\n",
    "\\mathscr{X}_1 : \\chi^2_{obs} \\notin [\\chi^2_{\\frac{\\alpha}{2}}(n - 1),  \\chi^2_{ 1 - \\frac{\\alpha}{2}}(n - 1)]\n",
    "$$\n",
    "\n",
    "b) \n",
    "\\begin{cases}\n",
    "H_0: \\sigma^2 = \\sigma^2_0 \\\\\n",
    "H_1: \\sigma^2 > \\sigma^2_0\n",
    "\\end{cases}\n",
    "\n",
    "$$\n",
    "\\mathscr{X}_0 : \\chi^2_{obs} \\leq \\chi^2_{1 - \\alpha}(n - 1)\n",
    "$$\n",
    "$$\n",
    "\\mathscr{X}_1 : \\chi^2_{obs} > \\chi^2_{1 - \\alpha}(n - 1)\n",
    "$$\n",
    "\n",
    "\n",
    "c)\n",
    "\\begin{cases}\n",
    "H_0: \\sigma^2 = \\sigma^2_0 \\\\\n",
    "H_1: \\sigma^2 < \\sigma^2_0\n",
    "\\end{cases}\n",
    "\n",
    "$$\n",
    "\\mathscr{X}_0 : \\chi^2_{obs} \\geq \\chi^2_{1 - \\alpha}(n - 1)\n",
    "$$\n",
    "\n",
    "$$\n",
    "\\mathscr{X}_1 : \\chi^2_{obs} < \\chi^2_{\\alpha}(n - 1)\n",
    "$$"
   ]
  },
  {
   "cell_type": "code",
   "execution_count": 40,
   "metadata": {},
   "outputs": [],
   "source": [
    "def var_test_unknown_mu(num: int, sample_var: float, alpha: float, sigma2_hyp: float, type_: str):\n",
    "    chi2_obs = round((sample_var * (num - 1)) / sigma2_hyp, 3)\n",
    "\n",
    "    if type_ == 'a':\n",
    "        chi2_high_crit = round(sts.chi2.ppf(1 - alpha / 2, df=num-1), 3)\n",
    "        chi2_low_crit = round(sts.chi2.ppf(alpha / 2, df=num-1), 3) \n",
    "        \n",
    "        if (chi2_obs >= chi2_low_crit) and (chi2_obs <= chi2_high_crit):\n",
    "            print(f'chi2_low_crit_{alpha/2}({num-1}) = {chi2_low_crit}, chi2_high_crit_{1 - alpha/2}({num-1}) = {chi2_high_crit}')\n",
    "            print(f'chi2_obs = {chi2_obs} in [{chi2_low_crit}, {chi2_high_crit}]. Нет оснований отвергать H_0.')\n",
    "\n",
    "        else:\n",
    "            print(f'chi2_low_crit_{alpha/2}({num-1}) = {chi2_low_crit}, chi2_high_crit_{1 - alpha/2}({num-1}) = {chi2_high_crit}')\n",
    "            print(f'chi2_obs = {chi2_obs} not in [{chi2_low_crit}, {chi2_high_crit}]. H_0 отвергается с уровнем значимости {alpha}.')\n",
    "    \n",
    "    elif type_ == 'b':\n",
    "        chi2_high_crit = round(sts.chi2.ppf(1 - alpha, df=num-1), 3)\n",
    "        \n",
    "        if chi2_obs < chi2_high_crit:\n",
    "            print(f'chi2_high_crit_{1 - alpha}({num-1}) = {chi2_high_crit}')\n",
    "            print(f'chi2_obs = {chi2_obs} < chi2_high_crit = {chi2_high_crit}. Нет оснований отвергать H_0.')\n",
    "\n",
    "        else:\n",
    "            print(f'chi2_high_crit_{1 - alpha}({num-1}) = {chi2_high_crit}')\n",
    "            print(f'chi2_obs = {chi2_obs} > chi2_high_crit = {chi2_high_crit}. H_0 отвергается с уровнем значимости {alpha}.')\n",
    "    \n",
    "    else:\n",
    "        chi2_low_crit = round(sts.chi2.ppf(alpha, df=num-1), 3)\n",
    "                  \n",
    "        if chi2_obs > chi2_low_crit:\n",
    "            print(f'chi2_low_crit_{alpha}({num-1}) = {chi2_low_crit}')\n",
    "            print(f'chi2_obs = {chi2_obs} > chi2_low_crit = {chi2_low_crit}. Нет оснований отвергать H_0.')\n",
    "\n",
    "        else:\n",
    "            print(f'chi2_low_crit_{alpha}({num-1}) = {chi2_low_crit}')\n",
    "            print(f'chi2_obs = {chi2_obs} < chi2_low_crit = {chi2_low_crit}. H_0 отвергается с уровнем значимости {alpha}.')\n",
    " "
   ]
  },
  {
   "cell_type": "markdown",
   "metadata": {},
   "source": [
    "a)"
   ]
  },
  {
   "cell_type": "code",
   "execution_count": 38,
   "metadata": {},
   "outputs": [],
   "source": [
    "num = 100\n",
    "sample_var = 0.5 ** 2\n",
    "alpha = 0.05\n",
    "sigma2_hyp = 0.3"
   ]
  },
  {
   "cell_type": "markdown",
   "metadata": {},
   "source": [
    "либо"
   ]
  },
  {
   "cell_type": "code",
   "execution_count": 65,
   "metadata": {},
   "outputs": [],
   "source": [
    "data = pd.Series([-1.11, -6.10, 2.42])"
   ]
  },
  {
   "cell_type": "code",
   "execution_count": 66,
   "metadata": {},
   "outputs": [],
   "source": [
    "num = len(data)\n",
    "sample_mean = data.mean()\n",
    "sample_var = data.var(ddof=1)\n",
    "alpha = 0.1\n",
    "sigma2_hyp = 0"
   ]
  },
  {
   "cell_type": "markdown",
   "metadata": {},
   "source": [
    "Вычисление:"
   ]
  },
  {
   "cell_type": "code",
   "execution_count": 41,
   "metadata": {
    "scrolled": true
   },
   "outputs": [
    {
     "name": "stdout",
     "output_type": "stream",
     "text": [
      "chi2_low_crit_0.025 = 73.361, chi2_high_crit_0.975 = 128.422\n",
      "chi2_obs = 82.5 in [73.361, 128.422]. Нет оснований отвергать H_0.\n"
     ]
    }
   ],
   "source": [
    "var_test_unknown_mu(num=num, sample_var=sample_var,\n",
    "                    alpha=alpha, sigma2_hyp=sigma2_hyp, type_='a')"
   ]
  },
  {
   "cell_type": "markdown",
   "metadata": {},
   "source": [
    "b)"
   ]
  },
  {
   "cell_type": "code",
   "execution_count": null,
   "metadata": {},
   "outputs": [],
   "source": [
    "num = \n",
    "sample_var = \n",
    "alpha = 0.1\n",
    "sigma2_hyp = 0"
   ]
  },
  {
   "cell_type": "markdown",
   "metadata": {},
   "source": [
    "либо"
   ]
  },
  {
   "cell_type": "code",
   "execution_count": 3,
   "metadata": {},
   "outputs": [],
   "source": [
    "data = pd.Series([-1.11, -6.10, 2.42])"
   ]
  },
  {
   "cell_type": "code",
   "execution_count": 6,
   "metadata": {},
   "outputs": [
    {
     "data": {
      "text/plain": [
       "18.32523333333333"
      ]
     },
     "execution_count": 6,
     "metadata": {},
     "output_type": "execute_result"
    }
   ],
   "source": [
    "sum((data - data.mean())**2)/2"
   ]
  },
  {
   "cell_type": "code",
   "execution_count": 69,
   "metadata": {},
   "outputs": [],
   "source": [
    "num = len(data)\n",
    "sample_mean = data.mean()\n",
    "sample_var = data.var(ddof=1)\n",
    "alpha = 0.1\n",
    "sigma2_hyp = 0"
   ]
  },
  {
   "cell_type": "markdown",
   "metadata": {},
   "source": [
    "Вычисление:"
   ]
  },
  {
   "cell_type": "code",
   "execution_count": 70,
   "metadata": {},
   "outputs": [
    {
     "name": "stdout",
     "output_type": "stream",
     "text": [
      "chi2_high_crit_0.9 = 4.605\n",
      "chi2_obs = 3.665 < chi2_high_crit = 4.605. Нет оснований отвергать H_0.\n"
     ]
    }
   ],
   "source": [
    "var_test_unknown_mu(num=num, sample_var=sample_var,\n",
    "                    alpha=alpha, sigma2_hyp=sigma2_hyp, type_='b')"
   ]
  },
  {
   "cell_type": "markdown",
   "metadata": {},
   "source": [
    "c)"
   ]
  },
  {
   "cell_type": "code",
   "execution_count": null,
   "metadata": {},
   "outputs": [],
   "source": [
    "num = \n",
    "sample_var = \n",
    "alpha = 0.1\n",
    "sigma2_hyp = 0"
   ]
  },
  {
   "cell_type": "markdown",
   "metadata": {},
   "source": [
    "либо"
   ]
  },
  {
   "cell_type": "code",
   "execution_count": 81,
   "metadata": {},
   "outputs": [],
   "source": [
    "data = pd.Series([1, -3, -1, -2, 6])"
   ]
  },
  {
   "cell_type": "code",
   "execution_count": 82,
   "metadata": {},
   "outputs": [],
   "source": [
    "num = len(data)\n",
    "sample_mean = data.mean()\n",
    "sample_var = data.var(ddof=1)\n",
    "alpha = 0.1\n",
    "sigma2_hyp = 5"
   ]
  },
  {
   "cell_type": "markdown",
   "metadata": {},
   "source": [
    "Вычисление:"
   ]
  },
  {
   "cell_type": "code",
   "execution_count": 83,
   "metadata": {},
   "outputs": [
    {
     "name": "stdout",
     "output_type": "stream",
     "text": [
      "chi2_low_crit_0.1 = 1.064\n",
      "chi2_obs = 10.16 > chi2_low_crit = 1.064. Нет оснований отвергать H_0.\n"
     ]
    }
   ],
   "source": [
    "var_test_unknown_mu(num=num, sample_var=sample_var,\n",
    "                    alpha=alpha, sigma2_hyp=sigma2_hyp, type_='c')"
   ]
  },
  {
   "cell_type": "markdown",
   "metadata": {},
   "source": [
    "## Гипотеза о разности (равенстве) дисперсий"
   ]
  },
  {
   "cell_type": "markdown",
   "metadata": {},
   "source": [
    "$\\exists$ две независимые выборки $X = (X_1, ..., X_n),\\ Y = (Y_1, ..., Y_n)$\n",
    "\n",
    "$$\n",
    "(X_i, Y_i)^{T} \\sim \\mathcal{N}\n",
    "\\left(\n",
    "\\begin{pmatrix}\n",
    "\\mu_X \\\\\n",
    "\\mu_Y \n",
    "\\end{pmatrix}\n",
    ",\n",
    "\\begin{pmatrix}\n",
    "\\sigma^2_X & 0 \\\\\n",
    "0 & \\sigma^2_Y \n",
    "\\end{pmatrix}\n",
    "\\right)\n",
    "$$\n",
    "\n",
    "$$\\\n",
    "f_{obs}\n",
    "\\stackrel{\\mathrm{def}}\n",
    "{=}\n",
    "\\dfrac{\\hat{\\sigma}^2_X}{\\hat{\\sigma}^2_Y} \n",
    "\\sim \n",
    "F(n_X - 1, n_Y - 1)\n",
    "$$ \n",
    "\n",
    "a) \n",
    "\\begin{cases}\n",
    "H_0: \\sigma^2_X - \\sigma^2_Y = d_0 \\\\\n",
    "H_1: \\sigma^2_X - \\sigma^2_Y \\neq d_0\n",
    "\\end{cases}\n",
    "\n",
    "$$\n",
    "\\mathscr{X}_0 : f_{obs} \\in [F_{\\frac{\\alpha}{2}}(n_X - 1, n_Y - 1),  F_{ 1 - \\frac{\\alpha}{2}}(n_X - 1, n_Y - 1)]\n",
    "$$\n",
    "$$\n",
    "\\mathscr{X}_1 : f_{obs} \\notin [F_{\\frac{\\alpha}{2}}(n_X - 1, n_Y - 1),  F_{ 1 - \\frac{\\alpha}{2}}(n_X - 1, n_Y - 1)]\n",
    "$$\n",
    "\n",
    "b) \n",
    "\\begin{cases}\n",
    "H_0: \\sigma^2_X - \\sigma^2_Y = d_0 \\\\\n",
    "H_1: \\sigma^2_X - \\sigma^2_Y > d_0\n",
    "\\end{cases}\n",
    "\n",
    "$$\n",
    "\\mathscr{X}_0 : f_{obs} \\leq F_{1 - \\alpha}(n_X - 1, n_Y - 1)\n",
    "$$\n",
    "$$\n",
    "\\mathscr{X}_1 : f_{obs} > F_{1 - \\alpha}(n_X - 1, n_Y - 1)\n",
    "$$\n",
    "\n",
    "\n",
    "c)\n",
    "\\begin{cases}\n",
    "H_0: \\sigma^2_X - \\sigma^2_Y = d_0 \\\\\n",
    "H_1: \\sigma^2_X - \\sigma^2_Y < d_0\n",
    "\\end{cases}\n",
    "\n",
    "\n",
    "$$\n",
    "\\mathscr{X}_0 : f_{obs} \\geq F_{\\alpha}(n_X - 1, n_Y - 1)\n",
    "$$\n",
    "$$\n",
    "\\mathscr{X}_1 : f_{obs} < F_{\\alpha}(n_X - 1, n_Y - 1)\n",
    "$$"
   ]
  },
  {
   "cell_type": "code",
   "execution_count": 94,
   "metadata": {},
   "outputs": [],
   "source": [
    "def var_diff_test(n_x: int, sample_var_x: float, n_y: int, sample_var_y: float, \n",
    "                  alpha: float, sigma_diff_hyp: float, type_: str):\n",
    "    \n",
    "    f_obs = round(sample_var_x / sample_var_y, 3)\n",
    "\n",
    "    if type_ == 'a':\n",
    "        f_high_crit = round(sts.f.ppf(1 - alpha / 2, n_x - 1, n_y - 1), 3)\n",
    "        f_low_crit = round(sts.f.ppf(alpha / 2, n_x - 1, n_y - 1), 3)\n",
    "        \n",
    "        if (f_obs >= f_low_crit) and (f_obs <= f_high_crit):\n",
    "            print(f'f_low_crit_{alpha/2}({n_x-1}, {n_y-1}) = {f_low_crit}, f_high_crit_{1 - alpha/2}({n_x-1}, {n_y-1}) = {f_high_crit}')\n",
    "            print(f'f_obs = {f_obs} in [{f_low_crit}, {f_high_crit}]. Нет оснований отвергать H_0.')\n",
    "\n",
    "        else:\n",
    "            print(f'f_low_crit_{alpha/2}({n_x-1}, {n_y-1}) = {f_low_crit}, f_high_crit_{1 - alpha/2}({n_x-1}, {n_y-1}) = {f_high_crit}')\n",
    "            print(f'f_obs = {f_obs} not in [{f_low_crit}, {f_high_crit}]. H_0 отвергается с уровнем значимости {alpha}.')\n",
    "    \n",
    "    elif type_ == 'b':\n",
    "        f_high_crit = round(sts.f.ppf(1 - alpha, n_x - 1, n_y - 1), 3)\n",
    "        \n",
    "        if f_obs < f_high_crit:\n",
    "            print(f'f_high_crit_{1 - alpha}({n_x-1}, {n_y-1}) = {f_high_crit}')\n",
    "            print(f'f_obs = {f_obs} < f_high_crit = {f_high_crit}. Нет оснований отвергать H_0.')\n",
    "\n",
    "        else:\n",
    "            print(f'f_high_crit_{1 - alpha}({n_x-1}, {n_y-1}) = {f_high_crit}')\n",
    "            print(f'f_obs = {f_obs} > f_high_crit = {f_high_crit}. H_0 отвергается с уровнем значимости {alpha}.')\n",
    "    \n",
    "    else:\n",
    "        f_low_crit = round(sts.f.ppf(alpha, n_x - 1, n_y - 1), 3)\n",
    "                  \n",
    "        if f_obs > f_low_crit:\n",
    "            print(f'f_low_crit_{alpha}({n_x-1}, {n_y-1}) = {f_low_crit}')\n",
    "            print(f'f_obs = {f_obs} > f_low_crit = {f_low_crit}. Нет оснований отвергать H_0.')\n",
    "\n",
    "        else:\n",
    "            print(f'f_low_crit_{alpha}({n_x-1}, {n_y-1}) = {f_low_crit}')\n",
    "            print(f'f_obs = {f_obs} < f_low_crit = {f_low_crit}. H_0 отвергается с уровнем значимости {alpha}.')"
   ]
  },
  {
   "cell_type": "markdown",
   "metadata": {},
   "source": [
    "a)"
   ]
  },
  {
   "cell_type": "code",
   "execution_count": 121,
   "metadata": {},
   "outputs": [],
   "source": [
    "n_x = 40\n",
    "n_y = 60\n",
    "sample_var_x = 55 ** 2\n",
    "sample_var_y = 60 ** 2\n",
    "alpha = 0.1\n",
    "sigma_diff_hyp = 0"
   ]
  },
  {
   "cell_type": "markdown",
   "metadata": {},
   "source": [
    "либо"
   ]
  },
  {
   "cell_type": "code",
   "execution_count": 91,
   "metadata": {},
   "outputs": [],
   "source": [
    "x_data = pd.Series([-1, 0, 2])\n",
    "y_data = pd.Series([2, -2])"
   ]
  },
  {
   "cell_type": "code",
   "execution_count": 95,
   "metadata": {},
   "outputs": [],
   "source": [
    "n_x = len(x_data)\n",
    "n_y = len(y_data)\n",
    "sample_var_x = x_data.var(ddof=1)\n",
    "sample_var_y = y_data.var(ddof=1)\n",
    "alpha = 0.05\n",
    "sigma_diff_hyp = 0"
   ]
  },
  {
   "cell_type": "markdown",
   "metadata": {},
   "source": [
    "Вычисление:"
   ]
  },
  {
   "cell_type": "code",
   "execution_count": 96,
   "metadata": {},
   "outputs": [
    {
     "name": "stdout",
     "output_type": "stream",
     "text": [
      "f_low_crit_0.025(2, 1) = 0.026, f_high_crit_0.975(2, 1) = 799.5\n",
      "f_obs = 0.292 in [0.026, 799.5]. Нет оснований отвергать H_0.\n"
     ]
    }
   ],
   "source": [
    "var_diff_test(n_x=n_x, sample_var_x=sample_var_x, n_y=n_y, sample_var_y=sample_var_y, \n",
    "              alpha=alpha, sigma_diff_hyp=sigma_diff_hyp, type_='a')"
   ]
  },
  {
   "cell_type": "markdown",
   "metadata": {},
   "source": [
    "b)"
   ]
  },
  {
   "cell_type": "code",
   "execution_count": null,
   "metadata": {},
   "outputs": [],
   "source": [
    "n_x = \n",
    "n_y = \n",
    "sample_var_x = \n",
    "sample_var_y = \n",
    "alpha = 0.1\n",
    "sigma_diff_hyp = 0"
   ]
  },
  {
   "cell_type": "markdown",
   "metadata": {},
   "source": [
    "либо"
   ]
  },
  {
   "cell_type": "code",
   "execution_count": 79,
   "metadata": {},
   "outputs": [],
   "source": [
    "x_data = pd.Series([50.22, 52.27, 52.91, 52.55, 50.44, 51.03,\n",
    "                    50.31, 46.47, 50.79, 51.88, 54.97, 51.04])\n",
    "y_data = pd.Series([47.28, 47.27, 49.68, 46.79, 47.51, 46.46,\n",
    "                    44.27, 44.01, 45.99, 47.95, 53.81, 48.92])"
   ]
  },
  {
   "cell_type": "code",
   "execution_count": 80,
   "metadata": {},
   "outputs": [],
   "source": [
    "n_x = len(x_data)\n",
    "n_y = len(y_data)\n",
    "sample_var_x = x_data.var(ddof=1)\n",
    "sample_var_y = y_data.var(ddof=1)\n",
    "alpha = 0.1\n",
    "sigma_diff_hyp = 0"
   ]
  },
  {
   "cell_type": "markdown",
   "metadata": {},
   "source": [
    "Вычисление:"
   ]
  },
  {
   "cell_type": "code",
   "execution_count": 81,
   "metadata": {},
   "outputs": [
    {
     "name": "stdout",
     "output_type": "stream",
     "text": [
      "f_high_crit_0.9 = 2.227\n",
      "f_obs = 0.62 < f_high_crit = 2.227. Нет оснований отвергать H_0.\n"
     ]
    }
   ],
   "source": [
    "var_diff_test(n_x=n_x, sample_var_x=sample_var_x, n_y=n_y, sample_var_y=sample_var_y, \n",
    "              alpha=alpha, sigma_diff_hyp=sigma_diff_hyp, type_='b')"
   ]
  },
  {
   "cell_type": "markdown",
   "metadata": {},
   "source": [
    "c)"
   ]
  },
  {
   "cell_type": "code",
   "execution_count": null,
   "metadata": {},
   "outputs": [],
   "source": [
    "n_x = \n",
    "n_y = \n",
    "sample_var_x = \n",
    "sample_var_y = \n",
    "alpha = 0.1\n",
    "sigma_diff_hyp = 0"
   ]
  },
  {
   "cell_type": "markdown",
   "metadata": {},
   "source": [
    "либо"
   ]
  },
  {
   "cell_type": "code",
   "execution_count": 136,
   "metadata": {},
   "outputs": [],
   "source": [
    "x_data = pd.Series([50.22, 52.27, 52.91, 52.55, 50.44, 51.03,\n",
    "                    50.31, 46.47, 50.79, 51.88, 54.97, 51.04])\n",
    "y_data = pd.Series([47.28, 47.27, 49.68, 46.79, 47.51, 46.46,\n",
    "                    44.27, 44.01, 45.99, 47.95, 53.81, 48.92])"
   ]
  },
  {
   "cell_type": "code",
   "execution_count": 137,
   "metadata": {},
   "outputs": [],
   "source": [
    "n_x = len(x_data)\n",
    "n_y = len(y_data)\n",
    "sample_var_x = x_data.var(ddof=1)\n",
    "sample_var_y = y_data.var(ddof=1)\n",
    "alpha = 0.1\n",
    "sigma_diff_hyp = 0"
   ]
  },
  {
   "cell_type": "markdown",
   "metadata": {},
   "source": [
    "Вычисление:"
   ]
  },
  {
   "cell_type": "code",
   "execution_count": 138,
   "metadata": {},
   "outputs": [
    {
     "name": "stdout",
     "output_type": "stream",
     "text": [
      "f_low_crit_0.1 = 0.449\n",
      "f_obs = 0.62 > f_low_crit = 0.449. Нет оснований отвергать H_0.\n"
     ]
    }
   ],
   "source": [
    "var_diff_test(n_x=n_x, sample_var_x=sample_var_x, n_y=n_y, sample_var_y=sample_var_y, \n",
    "              alpha=alpha, sigma_diff_hyp=sigma_diff_hyp, type_='c')"
   ]
  },
  {
   "cell_type": "markdown",
   "metadata": {},
   "source": [
    "## Гипотезы о распределении"
   ]
  },
  {
   "cell_type": "markdown",
   "metadata": {},
   "source": [
    "### 1. Критерий хи-квадрат (Пирсона-Фишера) "
   ]
  },
  {
   "cell_type": "markdown",
   "metadata": {},
   "source": [
    "Обычно используется для дискретных распределений.\n",
    "\n",
    "$$\n",
    "\\chi^2_{obs}\n",
    "\\stackrel{\\mathrm{def}}{=}\n",
    "\\sum^s_{i=1}\n",
    "\\dfrac{(\\nu_i - np_i(\\hat{\\theta}))^2}{np_i(\\hat{\\theta})}\n",
    "\\sim \n",
    "\\chi^2(s - r - 1),\n",
    "$$ \n",
    "где\n",
    "\n",
    "$s$ — число возмножных значений в выборке, $r$ — размерность параметра $\\theta$"
   ]
  },
  {
   "cell_type": "markdown",
   "metadata": {},
   "source": [
    "$$H_0: p_1 = p_1^0, ..., p_s = p_s^0$$"
   ]
  },
  {
   "cell_type": "markdown",
   "metadata": {},
   "source": [
    "$$\n",
    "\\mathscr{X}_0 : \\chi^2_{obs} \\leq \\chi^2_{1 - \\alpha}(s-k-1)\n",
    "$$\n",
    "$$\n",
    "\\mathscr{X}_1 : \\chi^2_{obs} > \\chi^2_{1 - \\alpha}(s-k-1)\n",
    "$$"
   ]
  },
  {
   "cell_type": "code",
   "execution_count": 37,
   "metadata": {},
   "outputs": [],
   "source": [
    "def chi_test(num: int, alpha: float, nu:pd.Series, n_prob:pd.Series, s:int, k:int):\n",
    "    chi2_obs = np.sum((nu - n_prob)**2 / n_prob)\n",
    "\n",
    "    chi2_high_crit = sts.chi2(df=s-k-1).ppf(1 - alpha)\n",
    "        \n",
    "    if chi2_obs < chi2_high_crit:\n",
    "        print(f'chi2_high_crit_{1 - alpha}({s-k-1}) = {chi2_high_crit:.4}')\n",
    "        print(f'chi2_obs = {chi2_obs:.4} < chi2_high_crit = {chi2_high_crit:.4}. Нет оснований отвергать H_0.')\n",
    "\n",
    "    else:\n",
    "        print(f'chi2_high_crit_{1 - alpha}({s-k-1}) = {chi2_high_crit:.4}')\n",
    "        print(f'chi2_obs = {chi2_obs:.4} > chi2_high_crit = {chi2_high_crit:.4}. H_0 отвергается с уровнем значимости {alpha}.')"
   ]
  },
  {
   "cell_type": "code",
   "execution_count": 118,
   "metadata": {},
   "outputs": [],
   "source": [
    "alpha = 0.05\n",
    "n = 100\n",
    "nu =  pd.Series([15, 55, 30])\n",
    "prob = pd.Series([0.1, 0.4, 0.5])\n",
    "n_prob = prob * n\n",
    "s = len(nu)\n",
    "k = 0"
   ]
  },
  {
   "cell_type": "code",
   "execution_count": 119,
   "metadata": {},
   "outputs": [
    {
     "name": "stdout",
     "output_type": "stream",
     "text": [
      "chi2_high_crit_0.95(2) = 5.991\n",
      "chi2_obs = 16.12 > chi2_high_crit = 5.991. H_0 отвергается с уровнем значимости 0.05.\n"
     ]
    }
   ],
   "source": [
    "chi_test(num=n, alpha=alpha, nu=nu, n_prob=n_prob, s=s, k=k)"
   ]
  },
  {
   "cell_type": "markdown",
   "metadata": {},
   "source": [
    "### 2. Критерий отношения правдоподобия (LR)"
   ]
  },
  {
   "cell_type": "markdown",
   "metadata": {},
   "source": [
    "$$\n",
    "\\begin{cases}\n",
    "H_0: \\theta \\in \\Theta_0 \\\\\n",
    "H_1: \\theta \\in \\Theta_1\n",
    "\\end{cases}\n",
    "$$"
   ]
  },
  {
   "cell_type": "markdown",
   "metadata": {},
   "source": [
    "$$\n",
    "LR_{obs} \n",
    "=\n",
    "-2 \\ln\n",
    "\\dfrac\n",
    "{\\sup_{\\theta \\in \\Theta_0} \\limits L(x; \\theta)}\n",
    "{\\sup_{\\theta \\in \\Theta} \\limits L(x; \\theta)}\n",
    "=\n",
    "-2\n",
    "(\n",
    "\\ln\n",
    "L(x; \\theta_0)\n",
    "-\n",
    "\\ln\n",
    "L(x; \\hat{\\theta}^{ML})\n",
    ")\n",
    "\\sim \n",
    "\\chi^2(s-r),\n",
    "$$\n",
    "где\n",
    "$s = \\dim(\\Theta)$, $r = \\dim(\\Theta_0)$"
   ]
  },
  {
   "cell_type": "markdown",
   "metadata": {},
   "source": [
    "$$\n",
    "\\mathcal{X}_0\n",
    ":\n",
    "LR_{obs}\n",
    "\\leq\n",
    "\\chi^2_{\\alpha}(s-r)\n",
    "$$\n",
    "$$\n",
    "\\mathcal{X}_1 \n",
    ":\n",
    "LR_{obs}\n",
    ">\n",
    "\\chi^2_{\\alpha}(s-r)\n",
    "$$"
   ]
  },
  {
   "cell_type": "markdown",
   "metadata": {},
   "source": [
    "### 3. Критерий согласия Колмогорова"
   ]
  },
  {
   "cell_type": "markdown",
   "metadata": {},
   "source": [
    "Обычно используется для непрерывных распределений.\n",
    "\n",
    "Пусть $X = (X_1, ..., X_n)$ — выборка из распределения $D_X$.\n",
    "\n",
    "$$\n",
    "\\begin{cases}\n",
    "H_0: D_X = D_0 \\\\\n",
    "H_1: D_X \\neq D_0\n",
    "\\end{cases}\n",
    "$$\n",
    "\n",
    "Тестовая статистика для большого числа налюдений:\n",
    "$$\n",
    "\\sqrt{n}D_n = \\sqrt{n}(\\sup_x|\\hat{F}(x) - F_{D_0}(x)|) \\xrightarrow[n \\to \\infty]{d} \\mathcal{K}(n)\n",
    "$$\n",
    "\n",
    "Для малого:\n",
    "$$\n",
    "D_n = \\sup_x|\\hat{F}(x) - F_{D_0}(x)|\n",
    "$$\n",
    "\n",
    "\n",
    "Критические области:\n",
    "$$\n",
    "\\mathscr{X}_0 : \\chi^2_{obs} \\leq \\mathcal{K}_{1 - \\alpha}(n)\n",
    "$$\n",
    "$$\n",
    "\\mathscr{X}_1 : \\chi^2_{obs} >\\mathcal{K}_{1 - \\alpha}(n)\n",
    "$$"
   ]
  },
  {
   "cell_type": "markdown",
   "metadata": {},
   "source": [
    "## Гипотеза о независимости признаков"
   ]
  },
  {
   "cell_type": "markdown",
   "metadata": {},
   "source": [
    "\\begin{cases}\n",
    "H_0: \\text{признаки независимы} \\\\\n",
    "H_1: \\text{признаки зависимы}\n",
    "\\end{cases}"
   ]
  },
  {
   "cell_type": "markdown",
   "metadata": {},
   "source": [
    "Тестовая статистика:\n",
    "$$\n",
    "\\chi^2_{obs}\n",
    "\\stackrel{\\mathrm{def}}{=}\n",
    "\\sum^k_{i=1}\n",
    "\\sum^m_{j=1}\n",
    "\\dfrac{\\left(\\nu_{ij} - \\frac{\\nu_{i \\cdot}\\nu_{\\cdot j}}{n}\\right)^2}{\\frac{\\nu_{i \\cdot}\\nu_{\\cdot j}}{n}}\n",
    "\\xrightarrow[n \\to \\infty]{d} \\chi^2((k-1)(m-1))\\ \\text{при верности} \\ H_0\n",
    "$$ \n",
    "\n",
    "Критические области:\n",
    "$$\n",
    "\\mathscr{X}_0 : \\chi^2_{obs} \\leq \\chi^2_{1 - \\alpha}((k-1)(m-1))\n",
    "$$\n",
    "$$\n",
    "\\mathscr{X}_1 : \\chi^2_{obs} > \\chi^2_{1 - \\alpha}((k-1)(m-1))\n",
    "$$"
   ]
  },
  {
   "cell_type": "markdown",
   "metadata": {},
   "source": [
    " "
   ]
  },
  {
   "cell_type": "markdown",
   "metadata": {},
   "source": [
    "## Квантили"
   ]
  },
  {
   "cell_type": "markdown",
   "metadata": {},
   "source": [
    "<br> 1. __Нормальное распределение__"
   ]
  },
  {
   "cell_type": "code",
   "execution_count": 39,
   "metadata": {},
   "outputs": [
    {
     "name": "stdout",
     "output_type": "stream",
     "text": [
      "z_0.975 = 1.96\n"
     ]
    }
   ],
   "source": [
    "alpha = 0.975\n",
    "z = round(sts.norm.ppf(alpha), 3)\n",
    "print(f'z_{alpha} = {z}')"
   ]
  },
  {
   "cell_type": "code",
   "execution_count": 29,
   "metadata": {},
   "outputs": [
    {
     "name": "stdout",
     "output_type": "stream",
     "text": [
      "Prob(X < 1) = 0.8413\n"
     ]
    }
   ],
   "source": [
    "x = 1\n",
    "prob = round(sts.norm.cdf(x), 4)\n",
    "print(f'Prob(X < {x}) = {prob}')"
   ]
  },
  {
   "cell_type": "code",
   "execution_count": 30,
   "metadata": {},
   "outputs": [
    {
     "data": {
      "text/plain": [
       "0.15869999999999995"
      ]
     },
     "execution_count": 30,
     "metadata": {},
     "output_type": "execute_result"
    }
   ],
   "source": [
    "1- 0.8413"
   ]
  },
  {
   "cell_type": "markdown",
   "metadata": {},
   "source": [
    "<br> 2. __Распределение Стьюдента__"
   ]
  },
  {
   "cell_type": "code",
   "execution_count": 38,
   "metadata": {},
   "outputs": [
    {
     "name": "stdout",
     "output_type": "stream",
     "text": [
      "t_0.975(9) = 2.262\n"
     ]
    }
   ],
   "source": [
    "alpha = 0.975\n",
    "# степень свободы\n",
    "df = 9\n",
    "t = round(sts.t.ppf(alpha, df=df), 3)\n",
    "print(f't_{alpha}({df}) = {t}')"
   ]
  },
  {
   "cell_type": "code",
   "execution_count": 32,
   "metadata": {},
   "outputs": [
    {
     "name": "stdout",
     "output_type": "stream",
     "text": [
      "Prob(T(9) < 1) = 0.8283\n"
     ]
    }
   ],
   "source": [
    "x = 1\n",
    "# степень свободы\n",
    "df = 9\n",
    "prob = round(sts.t.cdf(x, df=df), 4)\n",
    "print(f'Prob(T({df}) < {x}) = {prob}')"
   ]
  },
  {
   "cell_type": "code",
   "execution_count": 22,
   "metadata": {},
   "outputs": [
    {
     "data": {
      "text/plain": [
       "0.3433999999999999"
      ]
     },
     "execution_count": 22,
     "metadata": {},
     "output_type": "execute_result"
    }
   ],
   "source": [
    "(1 - 0.8283)*2"
   ]
  },
  {
   "cell_type": "markdown",
   "metadata": {},
   "source": [
    "<br> 3. __Распределение Хи-квадрат__"
   ]
  },
  {
   "cell_type": "code",
   "execution_count": 37,
   "metadata": {},
   "outputs": [
    {
     "name": "stdout",
     "output_type": "stream",
     "text": [
      "chi_0.05(20) = 10.851\n"
     ]
    }
   ],
   "source": [
    "alpha = 0.05\n",
    "# степень свободы\n",
    "df = 20\n",
    "chi2 = round(sts.chi2(df=df).ppf(alpha), 3)\n",
    "print(f'chi_{alpha}({df}) = {chi2}')"
   ]
  },
  {
   "cell_type": "code",
   "execution_count": 15,
   "metadata": {},
   "outputs": [
    {
     "name": "stdout",
     "output_type": "stream",
     "text": [
      "Prob(chi_(3) < 7.815) = 0.95\n"
     ]
    }
   ],
   "source": [
    "x = 7.815\n",
    "# степень свободы\n",
    "df = 3\n",
    "prob = round(sts.chi2(df=df).cdf(x), 4)\n",
    "print(f'Prob(chi_({df}) < {x}) = {prob}')"
   ]
  },
  {
   "cell_type": "code",
   "execution_count": 16,
   "metadata": {},
   "outputs": [
    {
     "data": {
      "text/plain": [
       "0.3173"
      ]
     },
     "execution_count": 16,
     "metadata": {},
     "output_type": "execute_result"
    }
   ],
   "source": [
    "1- 0.6827"
   ]
  },
  {
   "cell_type": "markdown",
   "metadata": {},
   "source": [
    "<br> 4. __Распределение Фишера__"
   ]
  },
  {
   "cell_type": "code",
   "execution_count": 16,
   "metadata": {},
   "outputs": [
    {
     "name": "stdout",
     "output_type": "stream",
     "text": [
      "F_0.95(3, 2) = 19.164\n"
     ]
    }
   ],
   "source": [
    "alpha = 0.95\n",
    "# степень свободы\n",
    "df_1 = 3\n",
    "# степень свободы\n",
    "df_2 = 2\n",
    "F = round(sts.f.ppf(alpha, df_1, df_2), 3)\n",
    "print(f'F_{alpha}({df_1}, {df_2}) = {F}')"
   ]
  },
  {
   "cell_type": "code",
   "execution_count": 17,
   "metadata": {},
   "outputs": [
    {
     "data": {
      "text/plain": [
       "28.746000000000002"
      ]
     },
     "execution_count": 17,
     "metadata": {},
     "output_type": "execute_result"
    }
   ],
   "source": [
    "19.164*3/2"
   ]
  },
  {
   "cell_type": "code",
   "execution_count": 10,
   "metadata": {},
   "outputs": [
    {
     "name": "stdout",
     "output_type": "stream",
     "text": [
      "Prob(F(1, 4) < 4) = 0.8839\n"
     ]
    }
   ],
   "source": [
    "x = 4\n",
    "# степень свободы\n",
    "df_1 = 1\n",
    "# степень свободы\n",
    "df_2 = 4\n",
    "prob = round(sts.f.cdf(x, df_1, df_2), 4)\n",
    "print(f'Prob(F{(df_1, df_2)} < {x}) = {prob}')"
   ]
  },
  {
   "cell_type": "code",
   "execution_count": 11,
   "metadata": {},
   "outputs": [
    {
     "data": {
      "text/plain": [
       "0.11609999999999998"
      ]
     },
     "execution_count": 11,
     "metadata": {},
     "output_type": "execute_result"
    }
   ],
   "source": [
    "1-0.8839"
   ]
  },
  {
   "cell_type": "markdown",
   "metadata": {},
   "source": [
    "<br> 5. __Распределение Эрланга__"
   ]
  },
  {
   "cell_type": "code",
   "execution_count": 4,
   "metadata": {},
   "outputs": [],
   "source": [
    "from scipy.stats import erlang"
   ]
  },
  {
   "cell_type": "code",
   "execution_count": 15,
   "metadata": {},
   "outputs": [
    {
     "data": {
      "text/plain": [
       "5.318116083896119"
      ]
     },
     "execution_count": 15,
     "metadata": {},
     "output_type": "execute_result"
    }
   ],
   "source": [
    "erlang.ppf(0.1, 2, scale= 1/0.1)"
   ]
  },
  {
   "cell_type": "code",
   "execution_count": 16,
   "metadata": {},
   "outputs": [
    {
     "data": {
      "text/plain": [
       "0.5"
      ]
     },
     "execution_count": 16,
     "metadata": {},
     "output_type": "execute_result"
    }
   ],
   "source": [
    "sts.norm(0, 1).cdf(0)"
   ]
  },
  {
   "cell_type": "code",
   "execution_count": 22,
   "metadata": {},
   "outputs": [
    {
     "data": {
      "text/plain": [
       "0.10002761995127357"
      ]
     },
     "execution_count": 22,
     "metadata": {},
     "output_type": "execute_result"
    }
   ],
   "source": [
    "erlang.cdf(a=2, x=5.319, scale= 1/0.1)"
   ]
  },
  {
   "cell_type": "markdown",
   "metadata": {},
   "source": [
    "<br> 6. __Распределение Колмогорова__"
   ]
  },
  {
   "cell_type": "markdown",
   "metadata": {},
   "source": [
    "Квантили"
   ]
  },
  {
   "cell_type": "code",
   "execution_count": 75,
   "metadata": {},
   "outputs": [
    {
     "data": {
      "text/plain": [
       "0.4726736943289302"
      ]
     },
     "execution_count": 75,
     "metadata": {},
     "output_type": "execute_result"
    }
   ],
   "source": [
    "alpha = 0.3\n",
    "sts.ksone(3).ppf(1 - alpha)"
   ]
  },
  {
   "cell_type": "code",
   "execution_count": null,
   "metadata": {},
   "outputs": [],
   "source": []
  },
  {
   "cell_type": "code",
   "execution_count": null,
   "metadata": {},
   "outputs": [],
   "source": []
  },
  {
   "cell_type": "code",
   "execution_count": 55,
   "metadata": {},
   "outputs": [],
   "source": [
    "x_ = np.linspace(0, 6, 100)"
   ]
  },
  {
   "cell_type": "code",
   "execution_count": 56,
   "metadata": {},
   "outputs": [],
   "source": [
    "y_ = sts.f(4, 9).pdf(x_)"
   ]
  },
  {
   "cell_type": "code",
   "execution_count": 62,
   "metadata": {},
   "outputs": [
    {
     "data": {
      "text/plain": [
       "<matplotlib.lines.Line2D at 0x1a1a7b6c50>"
      ]
     },
     "execution_count": 62,
     "metadata": {},
     "output_type": "execute_result"
    },
    {
     "data": {
      "image/png": "[encoded data removed]",
      "text/plain": [
       "<Figure size 432x288 with 1 Axes>"
      ]
     },
     "metadata": {
      "image/png": {
       "height": 249,
       "width": 372
      },
      "needs_background": "light"
     },
     "output_type": "display_data"
    }
   ],
   "source": [
    "plt.plot(x_, y_)\n",
    "plt.axvline(0.167, linestyle='--', color='blue')\n",
    "plt.axvline(3.633, linestyle='--', color='blue')\n",
    "plt.axvline(0.25)"
   ]
  },
  {
   "cell_type": "code",
   "execution_count": 64,
   "metadata": {},
   "outputs": [
    {
     "data": {
      "text/plain": [
       "0.902525112183866"
      ]
     },
     "execution_count": 64,
     "metadata": {},
     "output_type": "execute_result"
    }
   ],
   "source": [
    "1 - sts.f(4, 9).cdf(0.25)"
   ]
  },
  {
   "cell_type": "code",
   "execution_count": null,
   "metadata": {},
   "outputs": [],
   "source": []
  },
  {
   "cell_type": "code",
   "execution_count": null,
   "metadata": {},
   "outputs": [],
   "source": []
  },
  {
   "cell_type": "code",
   "execution_count": null,
   "metadata": {},
   "outputs": [],
   "source": []
  },
  {
   "cell_type": "code",
   "execution_count": null,
   "metadata": {},
   "outputs": [],
   "source": []
  },
  {
   "cell_type": "code",
   "execution_count": null,
   "metadata": {},
   "outputs": [],
   "source": []
  },
  {
   "cell_type": "markdown",
   "metadata": {},
   "source": [
    "Используя дельта-метод, на основе выборки из 100 наблюдений из распределения Пуассона с выборочным средним равным 2 найдите левую границу 95% симметричного по вероятности доверительного интервала для вероятности того, что не произойдет ни одного успеха.\n",
    "\n",
    "----------\n",
    "*  0.098\n",
    "*  0.135  \n",
    "*  0.173 \n",
    "*  -0.023\n",
    "*  0.011 \n"
   ]
  },
  {
   "cell_type": "code",
   "execution_count": null,
   "metadata": {},
   "outputs": [],
   "source": []
  }
 ],
 "metadata": {
  "kernelspec": {
   "display_name": "Python 3",
   "language": "python",
   "name": "python3"
  },
  "language_info": {
   "codemirror_mode": {
    "name": "ipython",
    "version": 3
   },
   "file_extension": ".py",
   "mimetype": "text/x-python",
   "name": "python",
   "nbconvert_exporter": "python",
   "pygments_lexer": "ipython3",
   "version": "3.7.6"
  }
 },
 "nbformat": 4,
 "nbformat_minor": 4
}
