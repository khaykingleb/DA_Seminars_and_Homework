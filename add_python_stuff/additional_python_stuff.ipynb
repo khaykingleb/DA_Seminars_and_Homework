{
 "cells": [
  {
   "cell_type": "markdown",
   "metadata": {},
   "source": [
    "# Additional Python Stuff\n",
    "\n",
    "Здесь мы постарались собрать полезные операторы в Python, которые вы будете часто использовать"
   ]
  },
  {
   "cell_type": "markdown",
   "metadata": {},
   "source": [
    "### 1. Строки\n",
    "\n",
    "1. `split` разделяет строку на список из нескольких подстрок по некоторому разделителю\n",
    "2. `join` соединяет список из нескольких строк, соединённых разделителем\n",
    "3. `find` находит индекс первого вхождения подстроки в строку слева\n",
    "4. `rfind` находит индекс первого вхождения подстроки в строку справа\n",
    "5. `in` проверяет, что подстрока входит в строку\n",
    "6. `replace` заменяет все вхождения подстроки __a__ на строку __b__\n",
    "7. `lower` приводит строку к нижнему регистру\n",
    "8. `upper` приводит строку к верхнему регистру\n",
    "9. `strip` удаляет лишние пробелы и символы табуляции в начале и в конце строки"
   ]
  },
  {
   "cell_type": "code",
   "execution_count": 1,
   "metadata": {},
   "outputs": [
    {
     "name": "stdout",
     "output_type": "stream",
     "text": [
      "['Lorem', 'ipsum', 'dolor', 'sit', 'amet,', 'consectetur', 'adipiscing', 'elit']\n",
      "['12', '04', '1961']\n",
      "['a', 'd']\n",
      "['a']\n",
      "['\\t', 'a', '\\t']\n"
     ]
    }
   ],
   "source": [
    "print(\"Lorem ipsum dolor sit amet, consectetur adipiscing elit\".split())\n",
    "print(\"12.04.1961\".split(\".\"))\n",
    "print(\"abcd\".split(\"bc\"))\n",
    "\n",
    "# Стоит заметить, что split(\" \") будет разделять только \n",
    "# по символу пробела, игнорируя символы табуляции (\"\\t\")\n",
    "print(\"\\t a \\t\".split())\n",
    "print(\"\\t a \\t\".split(\" \"))"
   ]
  },
  {
   "cell_type": "code",
   "execution_count": 2,
   "metadata": {},
   "outputs": [
    {
     "name": "stdout",
     "output_type": "stream",
     "text": [
      "12.04.1961\n"
     ]
    }
   ],
   "source": [
    "print('.'.join(['12', '04', '1961']))\n",
    "\n",
    "# Ожидается, что переданный итерируемый объект возвращает строки\n",
    "# print('.'.join([12, 4, 1961])) # Ошибка!"
   ]
  },
  {
   "cell_type": "code",
   "execution_count": 3,
   "metadata": {},
   "outputs": [
    {
     "name": "stdout",
     "output_type": "stream",
     "text": [
      "0\n",
      "1\n",
      "2\n",
      "2\n",
      "-1\n"
     ]
    }
   ],
   "source": [
    "print(\"0123401234\".find(\"0\"))\n",
    "print(\"0123401234\".find(\"1\"))\n",
    "print(\"0123401234\".find(\"2\"))\n",
    "print(\"0123401234\".find(\"234\"))\n",
    "\n",
    "# find от невходящей подстроки возвращает -1\n",
    "print(\"0123401234\".find(\"not a substring\"))"
   ]
  },
  {
   "cell_type": "code",
   "execution_count": 4,
   "metadata": {},
   "outputs": [
    {
     "name": "stdout",
     "output_type": "stream",
     "text": [
      "5\n",
      "6\n",
      "7\n",
      "7\n",
      "-1\n"
     ]
    }
   ],
   "source": [
    "print(\"0123401234\".rfind(\"0\"))\n",
    "print(\"0123401234\".rfind(\"1\"))\n",
    "print(\"0123401234\".rfind(\"2\"))\n",
    "print(\"0123401234\".rfind(\"234\"))\n",
    "\n",
    "# rfind от невходящей подстроки возвращает -1\n",
    "print(\"0123401234\".rfind(\"not a substring\"))"
   ]
  },
  {
   "cell_type": "code",
   "execution_count": 5,
   "metadata": {},
   "outputs": [
    {
     "name": "stdout",
     "output_type": "stream",
     "text": [
      "True\n",
      "True\n",
      "False\n",
      "True\n"
     ]
    }
   ],
   "source": [
    "# При проверке вхождения подстроки в строку \n",
    "# более хорошим стилем было бы использование \n",
    "# оператора `in` вместо `find`\n",
    "\n",
    "print(\"012\" in \"01234\")\n",
    "print(\"12\" in \"01234\")\n",
    "\n",
    "print(\"not a substring\" in \"01234\")\n",
    "print(\"not a substring\" not in \"01234\")"
   ]
  },
  {
   "cell_type": "code",
   "execution_count": 6,
   "metadata": {},
   "outputs": [
    {
     "name": "stdout",
     "output_type": "stream",
     "text": [
      "True\n",
      "False\n",
      "True\n",
      "False\n"
     ]
    }
   ],
   "source": [
    "# Оператор `in` также работает с некоторыми \n",
    "# другими структурами данных\n",
    "print(1 in [0, 1, 2, 3, 4])\n",
    "print(1 not in {0, 1, 2, 3, 4})\n",
    "\n",
    "print(1 in {0, 1, 2, 3, 4})\n",
    "print(1 not in {0, 1, 2, 3, 4})"
   ]
  },
  {
   "cell_type": "code",
   "execution_count": 7,
   "metadata": {},
   "outputs": [
    {
     "name": "stdout",
     "output_type": "stream",
     "text": [
      "_234_234\n",
      "234234\n"
     ]
    }
   ],
   "source": [
    "print(\"0123401234\".replace(\"01\", \"_\"))\n",
    "\n",
    "# Достаточно удобно удалять все вхождения подстроки в строку\n",
    "print(\"0123401234\".replace(\"01\", \"\"))"
   ]
  },
  {
   "cell_type": "code",
   "execution_count": 8,
   "metadata": {},
   "outputs": [
    {
     "name": "stdout",
     "output_type": "stream",
     "text": [
      "string\n",
      "STRING\n"
     ]
    }
   ],
   "source": [
    "print(\"StRiNg\".lower())\n",
    "print(\"StRiNg\".upper())"
   ]
  },
  {
   "cell_type": "code",
   "execution_count": 9,
   "metadata": {},
   "outputs": [
    {
     "data": {
      "text/plain": [
       "'a string with leading and trailing whitespaces'"
      ]
     },
     "execution_count": 9,
     "metadata": {},
     "output_type": "execute_result"
    }
   ],
   "source": [
    "\"     a string with leading and trailing whitespaces     \".strip()"
   ]
  },
  {
   "cell_type": "markdown",
   "metadata": {},
   "source": [
    "### 2. dict: keys, values and items"
   ]
  },
  {
   "cell_type": "code",
   "execution_count": 10,
   "metadata": {},
   "outputs": [
    {
     "name": "stdout",
     "output_type": "stream",
     "text": [
      "dict_keys(['car', 'year'])\n",
      "dict_values(['bus', 1964])\n",
      "dict_items([('car', 'bus'), ('year', 1964)])\n"
     ]
    }
   ],
   "source": [
    "d = {\n",
    "    \"car\": \"bus\",\n",
    "    \"year\": 1964,\n",
    "}\n",
    "\n",
    "print(d.keys())\n",
    "print(d.values())\n",
    "print(d.items())"
   ]
  },
  {
   "cell_type": "code",
   "execution_count": 11,
   "metadata": {},
   "outputs": [
    {
     "name": "stdout",
     "output_type": "stream",
     "text": [
      "car bus\n",
      "year 1964\n"
     ]
    }
   ],
   "source": [
    "for key, value in d.items():\n",
    "    print(key, value)"
   ]
  },
  {
   "cell_type": "markdown",
   "metadata": {},
   "source": [
    "### 3. Срезы и индексация"
   ]
  },
  {
   "cell_type": "code",
   "execution_count": 12,
   "metadata": {},
   "outputs": [
    {
     "name": "stdout",
     "output_type": "stream",
     "text": [
      "2\n",
      "2\n"
     ]
    }
   ],
   "source": [
    "# Получить элемент по индексу\n",
    "\n",
    "print(\"01234\"[2])\n",
    "print([0, 1, 2, 3, 4][2])"
   ]
  },
  {
   "cell_type": "code",
   "execution_count": 13,
   "metadata": {},
   "outputs": [
    {
     "name": "stdout",
     "output_type": "stream",
     "text": [
      "4\n",
      "4\n",
      "3\n",
      "3\n"
     ]
    }
   ],
   "source": [
    "# Получить последний и предпоследний элементы\n",
    "\n",
    "print(\"01234\"[-1])\n",
    "print([0, 1, 2, 3, 4][-1])\n",
    "\n",
    "print(\"01234\"[-2])\n",
    "print([0, 1, 2, 3, 4][-2])"
   ]
  },
  {
   "cell_type": "code",
   "execution_count": 14,
   "metadata": {},
   "outputs": [
    {
     "name": "stdout",
     "output_type": "stream",
     "text": [
      "23\n",
      "[2, 3]\n"
     ]
    }
   ],
   "source": [
    "# Получить элементы между двумя индексами\n",
    "\n",
    "print(\"01234\"[2:4])\n",
    "print([0, 1, 2, 3, 4][2:4])"
   ]
  },
  {
   "cell_type": "code",
   "execution_count": 15,
   "metadata": {},
   "outputs": [
    {
     "name": "stdout",
     "output_type": "stream",
     "text": [
      "234\n",
      "[2, 3, 4]\n",
      "0123\n",
      "[0, 1, 2, 3]\n",
      "01234\n",
      "[0, 1, 2, 3, 4]\n"
     ]
    }
   ],
   "source": [
    "# Границы можно не задавать\n",
    "\n",
    "print(\"01234\"[2:])\n",
    "print([0, 1, 2, 3, 4][2:])\n",
    "\n",
    "print(\"01234\"[:4])\n",
    "print([0, 1, 2, 3, 4][:4])\n",
    "\n",
    "print(\"01234\"[:])\n",
    "print([0, 1, 2, 3, 4][:])"
   ]
  },
  {
   "cell_type": "code",
   "execution_count": 16,
   "metadata": {},
   "outputs": [
    {
     "name": "stdout",
     "output_type": "stream",
     "text": [
      "24\n",
      "[0, 3]\n",
      "43210\n",
      "[4, 3, 2, 1, 0]\n"
     ]
    }
   ],
   "source": [
    "# Можно задать шаг\n",
    "\n",
    "print(\"01234\"[2:6:2])\n",
    "print([0, 1, 2, 3, 4][0:4:3])\n",
    "\n",
    "# Можно развернуть строку или список\n",
    "print(\"01234\"[::-1])\n",
    "print([0, 1, 2, 3, 4][::-1])"
   ]
  },
  {
   "cell_type": "markdown",
   "metadata": {},
   "source": [
    "### 4. Генераторы\n",
    "\n",
    "Больше про генераторы можно почитать [здесь](https://www.python.org/dev/peps/pep-0289/)"
   ]
  },
  {
   "cell_type": "code",
   "execution_count": 17,
   "metadata": {},
   "outputs": [
    {
     "data": {
      "text/plain": [
       "[0, 1, 2, 3, 4, 5, 6, 7, 8, 9]"
      ]
     },
     "execution_count": 17,
     "metadata": {},
     "output_type": "execute_result"
    }
   ],
   "source": [
    "# Обычный генератор списков\n",
    "[i for i in range(10)]"
   ]
  },
  {
   "cell_type": "code",
   "execution_count": 18,
   "metadata": {},
   "outputs": [
    {
     "data": {
      "text/plain": [
       "[0, 0, 0, 0, 0, 0, 0, 0, 0, 0]"
      ]
     },
     "execution_count": 18,
     "metadata": {},
     "output_type": "execute_result"
    }
   ],
   "source": [
    "# Вы можете использовать символ \"_\", если вам не нужен счётчик\n",
    "[0 for _ in range(10)]"
   ]
  },
  {
   "cell_type": "code",
   "execution_count": 19,
   "metadata": {},
   "outputs": [
    {
     "name": "stdout",
     "output_type": "stream",
     "text": [
      "[[1, 2, 3, 4, 5, 6, 7, 8, 9],\n",
      " [2, 4, 6, 8, 10, 12, 14, 16, 18],\n",
      " [3, 6, 9, 12, 15, 18, 21, 24, 27],\n",
      " [4, 8, 12, 16, 20, 24, 28, 32, 36],\n",
      " [5, 10, 15, 20, 25, 30, 35, 40, 45],\n",
      " [6, 12, 18, 24, 30, 36, 42, 48, 54],\n",
      " [7, 14, 21, 28, 35, 42, 49, 56, 63],\n",
      " [8, 16, 24, 32, 40, 48, 56, 64, 72],\n",
      " [9, 18, 27, 36, 45, 54, 63, 72, 81]]\n"
     ]
    }
   ],
   "source": [
    "# pprint -- pretty print \n",
    "from pprint import pprint\n",
    "\n",
    "\n",
    "pprint([[i*j for j in range(1, 10)] for i in range(1, 10)])"
   ]
  },
  {
   "cell_type": "code",
   "execution_count": 20,
   "metadata": {},
   "outputs": [
    {
     "data": {
      "text/plain": [
       "{0: 0, 1: 1, 2: 4, 3: 9, 4: 16, 5: 25, 6: 36, 7: 49, 8: 64, 9: 81}"
      ]
     },
     "execution_count": 20,
     "metadata": {},
     "output_type": "execute_result"
    }
   ],
   "source": [
    "# Генерировать можно и словари\n",
    "{i: i**2 for i in range(10)}"
   ]
  },
  {
   "cell_type": "code",
   "execution_count": 21,
   "metadata": {},
   "outputs": [
    {
     "data": {
      "text/plain": [
       "[14, 92, 6]"
      ]
     },
     "execution_count": 21,
     "metadata": {},
     "output_type": "execute_result"
    }
   ],
   "source": [
    "# В генераторе можно добавить условие\n",
    "[i for i in [3, 14, 15, 92, 6] if i % 2 == 0]"
   ]
  },
  {
   "cell_type": "markdown",
   "metadata": {},
   "source": [
    "### 5. lambda функции\n",
    "\n",
    "Простую функцию часто можно задать лямбдой в одну строку"
   ]
  },
  {
   "cell_type": "code",
   "execution_count": 22,
   "metadata": {},
   "outputs": [
    {
     "data": {
      "text/plain": [
       "4"
      ]
     },
     "execution_count": 22,
     "metadata": {},
     "output_type": "execute_result"
    }
   ],
   "source": [
    "(lambda x: x + 2)(2)"
   ]
  },
  {
   "cell_type": "markdown",
   "metadata": {},
   "source": [
    "Согласно [PEP 8](https://www.python.org/dev/peps/pep-0008/), лямбды **нельзя** присваивать каким-либо переменным.\n",
    "\n",
    "Для создания именованных функций **всегда** используйте `def`."
   ]
  },
  {
   "cell_type": "code",
   "execution_count": 23,
   "metadata": {},
   "outputs": [],
   "source": [
    "# Хороший стиль\n",
    "def f(x): return 2*x\n",
    "\n",
    "\n",
    "# Плохой стиль!\n",
    "f = lambda x: 2*x"
   ]
  },
  {
   "cell_type": "markdown",
   "metadata": {},
   "source": [
    "### 6. map, filter, zip, sorted, sum, set\n",
    "\n",
    "1. `map` возвращает итерируемый объект, который является результатом применения переданной функции к переданному итерируемому объекту\n",
    "3. `filter` возвращает итерируемый объект, в который вошли те элементы переданного параметра, которые удовлетворили переданному условию\n",
    "3. `zip` слепляет значения двух итерируемых объектов попарно\n",
    "4. `sorted` сортирует\n",
    "5. `sum` суммирует\n",
    "6. `set` поможет получить набор уникальных значений"
   ]
  },
  {
   "cell_type": "code",
   "execution_count": 24,
   "metadata": {},
   "outputs": [
    {
     "name": "stdout",
     "output_type": "stream",
     "text": [
      "[1, 4, 9, 16]\n",
      "[1, 3]\n",
      "[(1, 'a'), (2, 'b'), (3, 'c')]\n",
      "[1, 2, 3, 4]\n",
      "6\n",
      "{1, 2, 3, 4}\n"
     ]
    }
   ],
   "source": [
    "print(list(map(lambda x: x**2, [1, 2, 3, 4])))\n",
    "print(list(filter(lambda x: x % 2 == 1, [1, 2, 3, 4])))\n",
    "print(list(zip([1, 2, 3], ['a', 'b', 'c'])))\n",
    "print(sorted([2, 3, 1, 4]))\n",
    "print(sum([1, 2, 3]))\n",
    "print(set([1, 2, 3, 4, 2, 3, 4, 3, 3, 2, 3, 4]))"
   ]
  },
  {
   "cell_type": "markdown",
   "metadata": {},
   "source": [
    "### 7. itertools.chain\n",
    "\n",
    "Иногда бывает нужно склеить несколько списков последовательно"
   ]
  },
  {
   "cell_type": "code",
   "execution_count": 25,
   "metadata": {},
   "outputs": [
    {
     "name": "stdout",
     "output_type": "stream",
     "text": [
      "[1, 2, 3, 4, 5, 6]\n"
     ]
    }
   ],
   "source": [
    "import itertools\n",
    "\n",
    "\n",
    "print(list(itertools.chain([1, 2, 3], [4], [5, 6])))"
   ]
  },
  {
   "cell_type": "markdown",
   "metadata": {},
   "source": [
    "### 8. enumerate\n",
    "\n",
    "Использование `enumerate` часто удобнее, чем конструкция `for i in range(len(arr))` с использованием `arr[i]` в теле цикла"
   ]
  },
  {
   "cell_type": "code",
   "execution_count": 26,
   "metadata": {},
   "outputs": [
    {
     "name": "stdout",
     "output_type": "stream",
     "text": [
      "0 elements\n",
      "1 in\n",
      "2 list\n"
     ]
    }
   ],
   "source": [
    "arr = ['elements', 'in', 'list']\n",
    "for i, value in enumerate(arr):\n",
    "    print(i, value)"
   ]
  },
  {
   "cell_type": "code",
   "execution_count": 27,
   "metadata": {
    "scrolled": true
   },
   "outputs": [
    {
     "name": "stdout",
     "output_type": "stream",
     "text": [
      "{0: 'elements', 1: 'in', 2: 'list'}\n"
     ]
    }
   ],
   "source": [
    "print({i: value for i, value in enumerate(arr)})"
   ]
  },
  {
   "cell_type": "markdown",
   "metadata": {},
   "source": [
    "### 9. collections.Counter\n",
    "\n",
    "Иногда необходимо посчитать количество уникальных объектов в списке и их частотность"
   ]
  },
  {
   "cell_type": "code",
   "execution_count": 28,
   "metadata": {},
   "outputs": [
    {
     "name": "stdout",
     "output_type": "stream",
     "text": [
      "Counter({1: 3, 2: 1, 3: 1, 4: 1})\n",
      "Counter({' ': 8, 'o': 4, 'u': 2, 'r': 2, 'e': 2, 'A': 1, 'q': 1, 'i': 1, 'c': 1, 'k': 1, 'b': 1, 'w': 1, 'n': 1, 'f': 1, 'x': 1, 'j': 1, 'm': 1, 'p': 1, 's': 1, 'v': 1, 't': 1, 'h': 1, 'l': 1, 'a': 1, 'z': 1, 'y': 1, 'd': 1, 'g': 1})\n"
     ]
    }
   ],
   "source": [
    "from collections import Counter\n",
    "\n",
    "\n",
    "print(Counter([1, 2, 3, 1, 1, 4]))\n",
    "print(Counter('A quick brown fox jumps over the lazy dog'))"
   ]
  },
  {
   "cell_type": "markdown",
   "metadata": {},
   "source": [
    "### 10. Однострочный `if`"
   ]
  },
  {
   "cell_type": "code",
   "execution_count": 29,
   "metadata": {},
   "outputs": [
    {
     "name": "stdout",
     "output_type": "stream",
     "text": [
      "No\n"
     ]
    }
   ],
   "source": [
    "print('Yes' if 2 == 3 else 'No')"
   ]
  },
  {
   "cell_type": "markdown",
   "metadata": {},
   "source": [
    "### 11. f-строки\n",
    "\n",
    "Можно использовать с Python 3.6"
   ]
  },
  {
   "cell_type": "code",
   "execution_count": 30,
   "metadata": {},
   "outputs": [
    {
     "name": "stdout",
     "output_type": "stream",
     "text": [
      "sum of 2 and 3 is 5\n"
     ]
    }
   ],
   "source": [
    "print(f'sum of 2 and 3 is {2 + 3}')"
   ]
  },
  {
   "cell_type": "code",
   "execution_count": 31,
   "metadata": {},
   "outputs": [
    {
     "name": "stdout",
     "output_type": "stream",
     "text": [
      "a=42\n"
     ]
    }
   ],
   "source": [
    "a = 42\n",
    "# Если вы используете Python версии < 3.8:\n",
    "print(f'a={a}')\n",
    "# Если вы используете Python версии >= 3.8:\n",
    "# print(f'{a=}')"
   ]
  },
  {
   "cell_type": "markdown",
   "metadata": {},
   "source": [
    "### 12. with\n",
    "\n",
    "Удобный синтаксис для открытия файлов и различных соединений. Подробнее про оператор `with` можно почитать [здесь](https://www.python.org/dev/peps/pep-0343/)."
   ]
  },
  {
   "cell_type": "code",
   "execution_count": 32,
   "metadata": {},
   "outputs": [
    {
     "name": "stdout",
     "output_type": "stream",
     "text": [
      "['This is a python tutorial\\n']\n"
     ]
    }
   ],
   "source": [
    "with open('sample.txt', 'r') as fin:\n",
    "    print(fin.readlines())\n",
    "    # Закрывать файл при использовании `with` не нужно"
   ]
  },
  {
   "cell_type": "markdown",
   "metadata": {},
   "source": [
    "### 13. !wget\n",
    "\n",
    "Если вы работаете на UNIX-системе или в Google Colab, вы можете скачивать данные непосредственно из jupyter ноутбука\n",
    "\n",
    "Для этого можно использовать команду !wget\n",
    "\n",
    "В windows у вас скорее всего ничего не получится"
   ]
  },
  {
   "cell_type": "code",
   "execution_count": 33,
   "metadata": {},
   "outputs": [
    {
     "name": "stdout",
     "output_type": "stream",
     "text": [
      "--2020-01-22 02:44:41--  https://raw.githubusercontent.com/blacKitten13/minor2020-iad4/master/sem03_pandas/math_students.csv\n",
      "Loaded CA certificate '/etc/ssl/certs/ca-certificates.crt'\n",
      "Resolving raw.githubusercontent.com (raw.githubusercontent.com)... 151.101.244.133\n",
      "Connecting to raw.githubusercontent.com (raw.githubusercontent.com)|151.101.244.133|:443... connected.\n",
      "HTTP request sent, awaiting response... 200 OK\n",
      "Length: 41983 (41K) [text/plain]\n",
      "Saving to: ‘math_students.csv’\n",
      "\n",
      "math_students.csv   100%[===================>]  41.00K  --.-KB/s    in 0.09s   \n",
      "\n",
      "2020-01-22 02:44:42 (456 KB/s) - ‘math_students.csv’ saved [41983/41983]\n",
      "\n"
     ]
    }
   ],
   "source": [
    "!wget https://raw.githubusercontent.com/blacKitten13/minor2020-iad4/master/sem03_pandas/math_students.csv"
   ]
  },
  {
   "cell_type": "markdown",
   "metadata": {},
   "source": [
    "Если вы скачали zip файл, используйте `unzip`"
   ]
  },
  {
   "cell_type": "markdown",
   "metadata": {},
   "source": [
    "### Задания\n",
    "\n",
    "Чтобы ощутить _все_ удобства синтаксического сахара Python, попробуйте не использовать циклы при решении этих заданий, заменяя циклы на генераторы и map-ы. В таком случае каждое задание решается в одну строчку\n",
    "\n",
    "Конструкция `assert` поднимает ошибку, если условие после него не выполнено. Все assert'ы ниже должны быть пройдены"
   ]
  },
  {
   "cell_type": "markdown",
   "metadata": {},
   "source": [
    "#### 1. Напишите генератор следующего списка: [1, 2, 3, 4, 5, 6, 7, 8, 9]"
   ]
  },
  {
   "cell_type": "code",
   "execution_count": null,
   "metadata": {},
   "outputs": [],
   "source": [
    "a = # Your code goes here"
   ]
  },
  {
   "cell_type": "code",
   "execution_count": null,
   "metadata": {},
   "outputs": [],
   "source": [
    "assert a == [1, 2, 3, 4, 5, 6, 7, 8, 9]"
   ]
  },
  {
   "cell_type": "markdown",
   "metadata": {},
   "source": [
    "#### 2. Возведите каждый элемент списка, полученного в результате выполнения прошлого задания, в квадрат"
   ]
  },
  {
   "cell_type": "code",
   "execution_count": null,
   "metadata": {},
   "outputs": [],
   "source": [
    "a = # Your code goes here"
   ]
  },
  {
   "cell_type": "code",
   "execution_count": null,
   "metadata": {},
   "outputs": [],
   "source": [
    "assert a == [1, 4, 9, 16, 25, 36, 49, 64, 81]"
   ]
  },
  {
   "cell_type": "markdown",
   "metadata": {},
   "source": [
    "#### 3. Удалите нечётные числа из списка, полученного на предыдущем этапе"
   ]
  },
  {
   "cell_type": "code",
   "execution_count": null,
   "metadata": {},
   "outputs": [],
   "source": [
    "a = # Your code goes here"
   ]
  },
  {
   "cell_type": "code",
   "execution_count": null,
   "metadata": {},
   "outputs": [],
   "source": [
    "assert a == [4, 16, 36, 64]"
   ]
  },
  {
   "cell_type": "markdown",
   "metadata": {},
   "source": [
    "#### 4. Отсортируйте список в обратном порядке (у функции `sorted` есть параметр `reverse`)"
   ]
  },
  {
   "cell_type": "code",
   "execution_count": null,
   "metadata": {},
   "outputs": [],
   "source": [
    "a = # Your code goes here"
   ]
  },
  {
   "cell_type": "code",
   "execution_count": null,
   "metadata": {},
   "outputs": [],
   "source": [
    "assert a == [64, 36, 16, 4]"
   ]
  },
  {
   "cell_type": "markdown",
   "metadata": {},
   "source": [
    "#### 5. Создайте словарь, в котором ключами будут значения этого списка, а значениями -- их индексы  "
   ]
  },
  {
   "cell_type": "code",
   "execution_count": null,
   "metadata": {},
   "outputs": [],
   "source": [
    "a = # Your code goes here"
   ]
  },
  {
   "cell_type": "code",
   "execution_count": null,
   "metadata": {},
   "outputs": [],
   "source": [
    "assert a == {64: 0, 36: 1, 16: 2, 4: 3}"
   ]
  },
  {
   "cell_type": "markdown",
   "metadata": {},
   "source": [
    "#### 6. Вам дан список токенов, полученный в результате токенизации некоторого текста. Приведите каждый из токенов к нижнему регистру"
   ]
  },
  {
   "cell_type": "code",
   "execution_count": null,
   "metadata": {},
   "outputs": [],
   "source": [
    "text = \"\"\"Lorem ipsum dolor sit amet , consectetur adipiscing elit , sed do eiusmod tempor incididunt ut labore et dolore magna aliqua . Ut enim ad minim veniam , quis nostrud exercitation ullamco laboris nisi ut aliquip ex ea commodo consequat . Duis aute irure dolor in reprehenderit in voluptate velit esse cillum dolore eu fugiat nulla pariatur . Excepteur sint occaecat cupidatat non proident , sunt in culpa qui officia deserunt mollit anim id est laborum . Curabitur pretium tincidunt lacus . Nulla gravida orci a odio . Nullam varius , turpis et commodo pharetra , est eros bibendum elit , nec luctus magna felis sollicitudin mauris . Integer in mauris eu nibh euismod gravida . Duis ac tellus et risus vulputate vehicula . Donec lobortis risus a elit . Etiam tempor . Ut ullamcorper , ligula eu tempor congue , eros est euismod turpis , id tincidunt sapien risus a quam . Maecenas fermentum consequat mi . Donec fermentum . Pellentesque malesuada nulla a mi . Duis sapien sem , aliquet nec , commodo eget , consequat quis , neque . Aliquam faucibus , elit ut dictum aliquet , felis nisl adipiscing sapien , sed malesuada diam lacus eget erat . Cras mollis scelerisque nunc . Nullam arcu . Aliquam consequat . Curabitur augue lorem , dapibus quis , laoreet et , pretium ac , nisi . Aenean magna nisl , mollis quis , molestie eu , feugiat in , orci . In hac habitasse platea dictumst .\"\"\".split()\n",
    "\n",
    "text[:10]"
   ]
  },
  {
   "cell_type": "code",
   "execution_count": null,
   "metadata": {},
   "outputs": [],
   "source": [
    "text = # Your code goes here"
   ]
  },
  {
   "cell_type": "code",
   "execution_count": null,
   "metadata": {},
   "outputs": [],
   "source": [
    "for token in text:\n",
    "    assert token.islower()"
   ]
  },
  {
   "cell_type": "markdown",
   "metadata": {},
   "source": [
    "#### 7. Посчитайте три самых частотных токена в тексте"
   ]
  },
  {
   "cell_type": "code",
   "execution_count": null,
   "metadata": {},
   "outputs": [],
   "source": [
    "most_common = # Your code goes here"
   ]
  },
  {
   "cell_type": "code",
   "execution_count": null,
   "metadata": {},
   "outputs": [],
   "source": [
    "assert most_common == [',', '.', 'in']"
   ]
  }
 ],
 "metadata": {
  "kernelspec": {
   "display_name": "Python 3",
   "language": "python",
   "name": "python3"
  },
  "language_info": {
   "codemirror_mode": {
    "name": "ipython",
    "version": 3
   },
   "file_extension": ".py",
   "mimetype": "text/x-python",
   "name": "python",
   "nbconvert_exporter": "python",
   "pygments_lexer": "ipython3",
   "version": "3.8.1"
  }
 },
 "nbformat": 4,
 "nbformat_minor": 2
}
