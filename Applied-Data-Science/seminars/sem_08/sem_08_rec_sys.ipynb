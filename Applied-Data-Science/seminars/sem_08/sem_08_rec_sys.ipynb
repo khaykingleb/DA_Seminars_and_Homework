{
  "nbformat": 4,
  "nbformat_minor": 0,
  "metadata": {
    "kernelspec": {
      "display_name": "Python 3",
      "language": "python",
      "name": "python3"
    },
    "language_info": {
      "codemirror_mode": {
        "name": "ipython",
        "version": 3
      },
      "file_extension": ".py",
      "mimetype": "text/x-python",
      "name": "python",
      "nbconvert_exporter": "python",
      "pygments_lexer": "ipython3",
      "version": "3.7.5"
    },
    "colab": {
      "name": "sem08_recsys.ipynb",
      "provenance": [],
      "collapsed_sections": []
    },
    "widgets": {
      "application/vnd.jupyter.widget-state+json": {
        "d62cabef5d72459d9d4484ccb9534fa8": {
          "model_module": "@jupyter-widgets/controls",
          "model_name": "HBoxModel",
          "state": {
            "_view_name": "HBoxView",
            "_dom_classes": [],
            "_model_name": "HBoxModel",
            "_view_module": "@jupyter-widgets/controls",
            "_model_module_version": "1.5.0",
            "_view_count": null,
            "_view_module_version": "1.5.0",
            "box_style": "",
            "layout": "IPY_MODEL_4d83f88aa2ad40018a5ed7559b587ac9",
            "_model_module": "@jupyter-widgets/controls",
            "children": [
              "IPY_MODEL_cd206f15a00f4f7a93a418e329e2290b",
              "IPY_MODEL_1ba26868d63e4e6c9af81a6987d737b7"
            ]
          }
        },
        "4d83f88aa2ad40018a5ed7559b587ac9": {
          "model_module": "@jupyter-widgets/base",
          "model_name": "LayoutModel",
          "state": {
            "_view_name": "LayoutView",
            "grid_template_rows": null,
            "right": null,
            "justify_content": null,
            "_view_module": "@jupyter-widgets/base",
            "overflow": null,
            "_model_module_version": "1.2.0",
            "_view_count": null,
            "flex_flow": null,
            "width": null,
            "min_width": null,
            "border": null,
            "align_items": null,
            "bottom": null,
            "_model_module": "@jupyter-widgets/base",
            "top": null,
            "grid_column": null,
            "overflow_y": null,
            "overflow_x": null,
            "grid_auto_flow": null,
            "grid_area": null,
            "grid_template_columns": null,
            "flex": null,
            "_model_name": "LayoutModel",
            "justify_items": null,
            "grid_row": null,
            "max_height": null,
            "align_content": null,
            "visibility": null,
            "align_self": null,
            "height": null,
            "min_height": null,
            "padding": null,
            "grid_auto_rows": null,
            "grid_gap": null,
            "max_width": null,
            "order": null,
            "_view_module_version": "1.2.0",
            "grid_template_areas": null,
            "object_position": null,
            "object_fit": null,
            "grid_auto_columns": null,
            "margin": null,
            "display": null,
            "left": null
          }
        },
        "cd206f15a00f4f7a93a418e329e2290b": {
          "model_module": "@jupyter-widgets/controls",
          "model_name": "FloatProgressModel",
          "state": {
            "_view_name": "ProgressView",
            "style": "IPY_MODEL_635f46975915439aac16a6c2cee5b21f",
            "_dom_classes": [],
            "description": "100%",
            "_model_name": "FloatProgressModel",
            "bar_style": "success",
            "max": 1111,
            "_view_module": "@jupyter-widgets/controls",
            "_model_module_version": "1.5.0",
            "value": 1111,
            "_view_count": null,
            "_view_module_version": "1.5.0",
            "orientation": "horizontal",
            "min": 0,
            "description_tooltip": null,
            "_model_module": "@jupyter-widgets/controls",
            "layout": "IPY_MODEL_7763e82cf7bc47cd825522ba3d4e60c3"
          }
        },
        "1ba26868d63e4e6c9af81a6987d737b7": {
          "model_module": "@jupyter-widgets/controls",
          "model_name": "HTMLModel",
          "state": {
            "_view_name": "HTMLView",
            "style": "IPY_MODEL_2429799dafa84f35a91400a852004821",
            "_dom_classes": [],
            "description": "",
            "_model_name": "HTMLModel",
            "placeholder": "​",
            "_view_module": "@jupyter-widgets/controls",
            "_model_module_version": "1.5.0",
            "value": " 1111/1111 [00:35&lt;00:00, 31.03it/s]",
            "_view_count": null,
            "_view_module_version": "1.5.0",
            "description_tooltip": null,
            "_model_module": "@jupyter-widgets/controls",
            "layout": "IPY_MODEL_80d9bf23656947a5a604a83c989fe193"
          }
        },
        "635f46975915439aac16a6c2cee5b21f": {
          "model_module": "@jupyter-widgets/controls",
          "model_name": "ProgressStyleModel",
          "state": {
            "_view_name": "StyleView",
            "_model_name": "ProgressStyleModel",
            "description_width": "initial",
            "_view_module": "@jupyter-widgets/base",
            "_model_module_version": "1.5.0",
            "_view_count": null,
            "_view_module_version": "1.2.0",
            "bar_color": null,
            "_model_module": "@jupyter-widgets/controls"
          }
        },
        "7763e82cf7bc47cd825522ba3d4e60c3": {
          "model_module": "@jupyter-widgets/base",
          "model_name": "LayoutModel",
          "state": {
            "_view_name": "LayoutView",
            "grid_template_rows": null,
            "right": null,
            "justify_content": null,
            "_view_module": "@jupyter-widgets/base",
            "overflow": null,
            "_model_module_version": "1.2.0",
            "_view_count": null,
            "flex_flow": null,
            "width": null,
            "min_width": null,
            "border": null,
            "align_items": null,
            "bottom": null,
            "_model_module": "@jupyter-widgets/base",
            "top": null,
            "grid_column": null,
            "overflow_y": null,
            "overflow_x": null,
            "grid_auto_flow": null,
            "grid_area": null,
            "grid_template_columns": null,
            "flex": null,
            "_model_name": "LayoutModel",
            "justify_items": null,
            "grid_row": null,
            "max_height": null,
            "align_content": null,
            "visibility": null,
            "align_self": null,
            "height": null,
            "min_height": null,
            "padding": null,
            "grid_auto_rows": null,
            "grid_gap": null,
            "max_width": null,
            "order": null,
            "_view_module_version": "1.2.0",
            "grid_template_areas": null,
            "object_position": null,
            "object_fit": null,
            "grid_auto_columns": null,
            "margin": null,
            "display": null,
            "left": null
          }
        },
        "2429799dafa84f35a91400a852004821": {
          "model_module": "@jupyter-widgets/controls",
          "model_name": "DescriptionStyleModel",
          "state": {
            "_view_name": "StyleView",
            "_model_name": "DescriptionStyleModel",
            "description_width": "",
            "_view_module": "@jupyter-widgets/base",
            "_model_module_version": "1.5.0",
            "_view_count": null,
            "_view_module_version": "1.2.0",
            "_model_module": "@jupyter-widgets/controls"
          }
        },
        "80d9bf23656947a5a604a83c989fe193": {
          "model_module": "@jupyter-widgets/base",
          "model_name": "LayoutModel",
          "state": {
            "_view_name": "LayoutView",
            "grid_template_rows": null,
            "right": null,
            "justify_content": null,
            "_view_module": "@jupyter-widgets/base",
            "overflow": null,
            "_model_module_version": "1.2.0",
            "_view_count": null,
            "flex_flow": null,
            "width": null,
            "min_width": null,
            "border": null,
            "align_items": null,
            "bottom": null,
            "_model_module": "@jupyter-widgets/base",
            "top": null,
            "grid_column": null,
            "overflow_y": null,
            "overflow_x": null,
            "grid_auto_flow": null,
            "grid_area": null,
            "grid_template_columns": null,
            "flex": null,
            "_model_name": "LayoutModel",
            "justify_items": null,
            "grid_row": null,
            "max_height": null,
            "align_content": null,
            "visibility": null,
            "align_self": null,
            "height": null,
            "min_height": null,
            "padding": null,
            "grid_auto_rows": null,
            "grid_gap": null,
            "max_width": null,
            "order": null,
            "_view_module_version": "1.2.0",
            "grid_template_areas": null,
            "object_position": null,
            "object_fit": null,
            "grid_auto_columns": null,
            "margin": null,
            "display": null,
            "left": null
          }
        },
        "ba320f8496424ca8aef4d22136662ad7": {
          "model_module": "@jupyter-widgets/controls",
          "model_name": "HBoxModel",
          "state": {
            "_view_name": "HBoxView",
            "_dom_classes": [],
            "_model_name": "HBoxModel",
            "_view_module": "@jupyter-widgets/controls",
            "_model_module_version": "1.5.0",
            "_view_count": null,
            "_view_module_version": "1.5.0",
            "box_style": "",
            "layout": "IPY_MODEL_dffe203f079d408dabf8a62ac98be481",
            "_model_module": "@jupyter-widgets/controls",
            "children": [
              "IPY_MODEL_8c1735b0a532456784e164ed2c05d062",
              "IPY_MODEL_929eef3eb5994c8e94a1dafccf4ee5e2"
            ]
          }
        },
        "dffe203f079d408dabf8a62ac98be481": {
          "model_module": "@jupyter-widgets/base",
          "model_name": "LayoutModel",
          "state": {
            "_view_name": "LayoutView",
            "grid_template_rows": null,
            "right": null,
            "justify_content": null,
            "_view_module": "@jupyter-widgets/base",
            "overflow": null,
            "_model_module_version": "1.2.0",
            "_view_count": null,
            "flex_flow": null,
            "width": null,
            "min_width": null,
            "border": null,
            "align_items": null,
            "bottom": null,
            "_model_module": "@jupyter-widgets/base",
            "top": null,
            "grid_column": null,
            "overflow_y": null,
            "overflow_x": null,
            "grid_auto_flow": null,
            "grid_area": null,
            "grid_template_columns": null,
            "flex": null,
            "_model_name": "LayoutModel",
            "justify_items": null,
            "grid_row": null,
            "max_height": null,
            "align_content": null,
            "visibility": null,
            "align_self": null,
            "height": null,
            "min_height": null,
            "padding": null,
            "grid_auto_rows": null,
            "grid_gap": null,
            "max_width": null,
            "order": null,
            "_view_module_version": "1.2.0",
            "grid_template_areas": null,
            "object_position": null,
            "object_fit": null,
            "grid_auto_columns": null,
            "margin": null,
            "display": null,
            "left": null
          }
        },
        "8c1735b0a532456784e164ed2c05d062": {
          "model_module": "@jupyter-widgets/controls",
          "model_name": "FloatProgressModel",
          "state": {
            "_view_name": "ProgressView",
            "style": "IPY_MODEL_80a58c557510409ea0ae902f3449673e",
            "_dom_classes": [],
            "description": "100%",
            "_model_name": "FloatProgressModel",
            "bar_style": "success",
            "max": 1112,
            "_view_module": "@jupyter-widgets/controls",
            "_model_module_version": "1.5.0",
            "value": 1112,
            "_view_count": null,
            "_view_module_version": "1.5.0",
            "orientation": "horizontal",
            "min": 0,
            "description_tooltip": null,
            "_model_module": "@jupyter-widgets/controls",
            "layout": "IPY_MODEL_d5f4901c2c4f417b8a83a32d5c2828e3"
          }
        },
        "929eef3eb5994c8e94a1dafccf4ee5e2": {
          "model_module": "@jupyter-widgets/controls",
          "model_name": "HTMLModel",
          "state": {
            "_view_name": "HTMLView",
            "style": "IPY_MODEL_70e498aade694597bf54152d9eed3699",
            "_dom_classes": [],
            "description": "",
            "_model_name": "HTMLModel",
            "placeholder": "​",
            "_view_module": "@jupyter-widgets/controls",
            "_model_module_version": "1.5.0",
            "value": " 1112/1112 [00:02&lt;00:00, 427.85it/s]",
            "_view_count": null,
            "_view_module_version": "1.5.0",
            "description_tooltip": null,
            "_model_module": "@jupyter-widgets/controls",
            "layout": "IPY_MODEL_43840be7283945639dc0ee4a61b30392"
          }
        },
        "80a58c557510409ea0ae902f3449673e": {
          "model_module": "@jupyter-widgets/controls",
          "model_name": "ProgressStyleModel",
          "state": {
            "_view_name": "StyleView",
            "_model_name": "ProgressStyleModel",
            "description_width": "initial",
            "_view_module": "@jupyter-widgets/base",
            "_model_module_version": "1.5.0",
            "_view_count": null,
            "_view_module_version": "1.2.0",
            "bar_color": null,
            "_model_module": "@jupyter-widgets/controls"
          }
        },
        "d5f4901c2c4f417b8a83a32d5c2828e3": {
          "model_module": "@jupyter-widgets/base",
          "model_name": "LayoutModel",
          "state": {
            "_view_name": "LayoutView",
            "grid_template_rows": null,
            "right": null,
            "justify_content": null,
            "_view_module": "@jupyter-widgets/base",
            "overflow": null,
            "_model_module_version": "1.2.0",
            "_view_count": null,
            "flex_flow": null,
            "width": null,
            "min_width": null,
            "border": null,
            "align_items": null,
            "bottom": null,
            "_model_module": "@jupyter-widgets/base",
            "top": null,
            "grid_column": null,
            "overflow_y": null,
            "overflow_x": null,
            "grid_auto_flow": null,
            "grid_area": null,
            "grid_template_columns": null,
            "flex": null,
            "_model_name": "LayoutModel",
            "justify_items": null,
            "grid_row": null,
            "max_height": null,
            "align_content": null,
            "visibility": null,
            "align_self": null,
            "height": null,
            "min_height": null,
            "padding": null,
            "grid_auto_rows": null,
            "grid_gap": null,
            "max_width": null,
            "order": null,
            "_view_module_version": "1.2.0",
            "grid_template_areas": null,
            "object_position": null,
            "object_fit": null,
            "grid_auto_columns": null,
            "margin": null,
            "display": null,
            "left": null
          }
        },
        "70e498aade694597bf54152d9eed3699": {
          "model_module": "@jupyter-widgets/controls",
          "model_name": "DescriptionStyleModel",
          "state": {
            "_view_name": "StyleView",
            "_model_name": "DescriptionStyleModel",
            "description_width": "",
            "_view_module": "@jupyter-widgets/base",
            "_model_module_version": "1.5.0",
            "_view_count": null,
            "_view_module_version": "1.2.0",
            "_model_module": "@jupyter-widgets/controls"
          }
        },
        "43840be7283945639dc0ee4a61b30392": {
          "model_module": "@jupyter-widgets/base",
          "model_name": "LayoutModel",
          "state": {
            "_view_name": "LayoutView",
            "grid_template_rows": null,
            "right": null,
            "justify_content": null,
            "_view_module": "@jupyter-widgets/base",
            "overflow": null,
            "_model_module_version": "1.2.0",
            "_view_count": null,
            "flex_flow": null,
            "width": null,
            "min_width": null,
            "border": null,
            "align_items": null,
            "bottom": null,
            "_model_module": "@jupyter-widgets/base",
            "top": null,
            "grid_column": null,
            "overflow_y": null,
            "overflow_x": null,
            "grid_auto_flow": null,
            "grid_area": null,
            "grid_template_columns": null,
            "flex": null,
            "_model_name": "LayoutModel",
            "justify_items": null,
            "grid_row": null,
            "max_height": null,
            "align_content": null,
            "visibility": null,
            "align_self": null,
            "height": null,
            "min_height": null,
            "padding": null,
            "grid_auto_rows": null,
            "grid_gap": null,
            "max_width": null,
            "order": null,
            "_view_module_version": "1.2.0",
            "grid_template_areas": null,
            "object_position": null,
            "object_fit": null,
            "grid_auto_columns": null,
            "margin": null,
            "display": null,
            "left": null
          }
        },
        "676903eae47943ba889bf58ece3d9f75": {
          "model_module": "@jupyter-widgets/controls",
          "model_name": "HBoxModel",
          "state": {
            "_view_name": "HBoxView",
            "_dom_classes": [],
            "_model_name": "HBoxModel",
            "_view_module": "@jupyter-widgets/controls",
            "_model_module_version": "1.5.0",
            "_view_count": null,
            "_view_module_version": "1.5.0",
            "box_style": "",
            "layout": "IPY_MODEL_48c3b774b24c4d6e9937463cccb48e4b",
            "_model_module": "@jupyter-widgets/controls",
            "children": [
              "IPY_MODEL_68ceef0fdd364de5a4d5a320c8e1f248",
              "IPY_MODEL_1a74d78eb7d5408186b144fa19e186ff"
            ]
          }
        },
        "48c3b774b24c4d6e9937463cccb48e4b": {
          "model_module": "@jupyter-widgets/base",
          "model_name": "LayoutModel",
          "state": {
            "_view_name": "LayoutView",
            "grid_template_rows": null,
            "right": null,
            "justify_content": null,
            "_view_module": "@jupyter-widgets/base",
            "overflow": null,
            "_model_module_version": "1.2.0",
            "_view_count": null,
            "flex_flow": null,
            "width": null,
            "min_width": null,
            "border": null,
            "align_items": null,
            "bottom": null,
            "_model_module": "@jupyter-widgets/base",
            "top": null,
            "grid_column": null,
            "overflow_y": null,
            "overflow_x": null,
            "grid_auto_flow": null,
            "grid_area": null,
            "grid_template_columns": null,
            "flex": null,
            "_model_name": "LayoutModel",
            "justify_items": null,
            "grid_row": null,
            "max_height": null,
            "align_content": null,
            "visibility": null,
            "align_self": null,
            "height": null,
            "min_height": null,
            "padding": null,
            "grid_auto_rows": null,
            "grid_gap": null,
            "max_width": null,
            "order": null,
            "_view_module_version": "1.2.0",
            "grid_template_areas": null,
            "object_position": null,
            "object_fit": null,
            "grid_auto_columns": null,
            "margin": null,
            "display": null,
            "left": null
          }
        },
        "68ceef0fdd364de5a4d5a320c8e1f248": {
          "model_module": "@jupyter-widgets/controls",
          "model_name": "FloatProgressModel",
          "state": {
            "_view_name": "ProgressView",
            "style": "IPY_MODEL_6a8c11d40d17452a933f80e2a6ecbe09",
            "_dom_classes": [],
            "description": "100%",
            "_model_name": "FloatProgressModel",
            "bar_style": "success",
            "max": 1112,
            "_view_module": "@jupyter-widgets/controls",
            "_model_module_version": "1.5.0",
            "value": 1112,
            "_view_count": null,
            "_view_module_version": "1.5.0",
            "orientation": "horizontal",
            "min": 0,
            "description_tooltip": null,
            "_model_module": "@jupyter-widgets/controls",
            "layout": "IPY_MODEL_3cb5c1a2c9b64e63af94ca984d2e4f72"
          }
        },
        "1a74d78eb7d5408186b144fa19e186ff": {
          "model_module": "@jupyter-widgets/controls",
          "model_name": "HTMLModel",
          "state": {
            "_view_name": "HTMLView",
            "style": "IPY_MODEL_62d1fc031ae04a9386966807534fd928",
            "_dom_classes": [],
            "description": "",
            "_model_name": "HTMLModel",
            "placeholder": "​",
            "_view_module": "@jupyter-widgets/controls",
            "_model_module_version": "1.5.0",
            "value": " 1112/1112 [03:45&lt;00:00,  4.94it/s]",
            "_view_count": null,
            "_view_module_version": "1.5.0",
            "description_tooltip": null,
            "_model_module": "@jupyter-widgets/controls",
            "layout": "IPY_MODEL_68227e5e953342aca3e22ccde40cadcf"
          }
        },
        "6a8c11d40d17452a933f80e2a6ecbe09": {
          "model_module": "@jupyter-widgets/controls",
          "model_name": "ProgressStyleModel",
          "state": {
            "_view_name": "StyleView",
            "_model_name": "ProgressStyleModel",
            "description_width": "initial",
            "_view_module": "@jupyter-widgets/base",
            "_model_module_version": "1.5.0",
            "_view_count": null,
            "_view_module_version": "1.2.0",
            "bar_color": null,
            "_model_module": "@jupyter-widgets/controls"
          }
        },
        "3cb5c1a2c9b64e63af94ca984d2e4f72": {
          "model_module": "@jupyter-widgets/base",
          "model_name": "LayoutModel",
          "state": {
            "_view_name": "LayoutView",
            "grid_template_rows": null,
            "right": null,
            "justify_content": null,
            "_view_module": "@jupyter-widgets/base",
            "overflow": null,
            "_model_module_version": "1.2.0",
            "_view_count": null,
            "flex_flow": null,
            "width": null,
            "min_width": null,
            "border": null,
            "align_items": null,
            "bottom": null,
            "_model_module": "@jupyter-widgets/base",
            "top": null,
            "grid_column": null,
            "overflow_y": null,
            "overflow_x": null,
            "grid_auto_flow": null,
            "grid_area": null,
            "grid_template_columns": null,
            "flex": null,
            "_model_name": "LayoutModel",
            "justify_items": null,
            "grid_row": null,
            "max_height": null,
            "align_content": null,
            "visibility": null,
            "align_self": null,
            "height": null,
            "min_height": null,
            "padding": null,
            "grid_auto_rows": null,
            "grid_gap": null,
            "max_width": null,
            "order": null,
            "_view_module_version": "1.2.0",
            "grid_template_areas": null,
            "object_position": null,
            "object_fit": null,
            "grid_auto_columns": null,
            "margin": null,
            "display": null,
            "left": null
          }
        },
        "62d1fc031ae04a9386966807534fd928": {
          "model_module": "@jupyter-widgets/controls",
          "model_name": "DescriptionStyleModel",
          "state": {
            "_view_name": "StyleView",
            "_model_name": "DescriptionStyleModel",
            "description_width": "",
            "_view_module": "@jupyter-widgets/base",
            "_model_module_version": "1.5.0",
            "_view_count": null,
            "_view_module_version": "1.2.0",
            "_model_module": "@jupyter-widgets/controls"
          }
        },
        "68227e5e953342aca3e22ccde40cadcf": {
          "model_module": "@jupyter-widgets/base",
          "model_name": "LayoutModel",
          "state": {
            "_view_name": "LayoutView",
            "grid_template_rows": null,
            "right": null,
            "justify_content": null,
            "_view_module": "@jupyter-widgets/base",
            "overflow": null,
            "_model_module_version": "1.2.0",
            "_view_count": null,
            "flex_flow": null,
            "width": null,
            "min_width": null,
            "border": null,
            "align_items": null,
            "bottom": null,
            "_model_module": "@jupyter-widgets/base",
            "top": null,
            "grid_column": null,
            "overflow_y": null,
            "overflow_x": null,
            "grid_auto_flow": null,
            "grid_area": null,
            "grid_template_columns": null,
            "flex": null,
            "_model_name": "LayoutModel",
            "justify_items": null,
            "grid_row": null,
            "max_height": null,
            "align_content": null,
            "visibility": null,
            "align_self": null,
            "height": null,
            "min_height": null,
            "padding": null,
            "grid_auto_rows": null,
            "grid_gap": null,
            "max_width": null,
            "order": null,
            "_view_module_version": "1.2.0",
            "grid_template_areas": null,
            "object_position": null,
            "object_fit": null,
            "grid_auto_columns": null,
            "margin": null,
            "display": null,
            "left": null
          }
        },
        "1b631ac85bc846b78ae51d9dcf70ee01": {
          "model_module": "@jupyter-widgets/controls",
          "model_name": "HBoxModel",
          "state": {
            "_view_name": "HBoxView",
            "_dom_classes": [],
            "_model_name": "HBoxModel",
            "_view_module": "@jupyter-widgets/controls",
            "_model_module_version": "1.5.0",
            "_view_count": null,
            "_view_module_version": "1.5.0",
            "box_style": "",
            "layout": "IPY_MODEL_6f8127ffe6574f02a3af6d24dfde9045",
            "_model_module": "@jupyter-widgets/controls",
            "children": [
              "IPY_MODEL_094589f39e8247f7860a974e741d05b2",
              "IPY_MODEL_8ccb219f876e407a9184a7f22cb05a1e"
            ]
          }
        },
        "6f8127ffe6574f02a3af6d24dfde9045": {
          "model_module": "@jupyter-widgets/base",
          "model_name": "LayoutModel",
          "state": {
            "_view_name": "LayoutView",
            "grid_template_rows": null,
            "right": null,
            "justify_content": null,
            "_view_module": "@jupyter-widgets/base",
            "overflow": null,
            "_model_module_version": "1.2.0",
            "_view_count": null,
            "flex_flow": null,
            "width": null,
            "min_width": null,
            "border": null,
            "align_items": null,
            "bottom": null,
            "_model_module": "@jupyter-widgets/base",
            "top": null,
            "grid_column": null,
            "overflow_y": null,
            "overflow_x": null,
            "grid_auto_flow": null,
            "grid_area": null,
            "grid_template_columns": null,
            "flex": null,
            "_model_name": "LayoutModel",
            "justify_items": null,
            "grid_row": null,
            "max_height": null,
            "align_content": null,
            "visibility": null,
            "align_self": null,
            "height": null,
            "min_height": null,
            "padding": null,
            "grid_auto_rows": null,
            "grid_gap": null,
            "max_width": null,
            "order": null,
            "_view_module_version": "1.2.0",
            "grid_template_areas": null,
            "object_position": null,
            "object_fit": null,
            "grid_auto_columns": null,
            "margin": null,
            "display": null,
            "left": null
          }
        },
        "094589f39e8247f7860a974e741d05b2": {
          "model_module": "@jupyter-widgets/controls",
          "model_name": "FloatProgressModel",
          "state": {
            "_view_name": "ProgressView",
            "style": "IPY_MODEL_a4b5469837e24292b903da1799f4f04f",
            "_dom_classes": [],
            "description": "100%",
            "_model_name": "FloatProgressModel",
            "bar_style": "success",
            "max": 1112,
            "_view_module": "@jupyter-widgets/controls",
            "_model_module_version": "1.5.0",
            "value": 1112,
            "_view_count": null,
            "_view_module_version": "1.5.0",
            "orientation": "horizontal",
            "min": 0,
            "description_tooltip": null,
            "_model_module": "@jupyter-widgets/controls",
            "layout": "IPY_MODEL_eb0120021f8940b49f886f98d17ced7b"
          }
        },
        "8ccb219f876e407a9184a7f22cb05a1e": {
          "model_module": "@jupyter-widgets/controls",
          "model_name": "HTMLModel",
          "state": {
            "_view_name": "HTMLView",
            "style": "IPY_MODEL_a41f8dba02164cbfa22592503c14adce",
            "_dom_classes": [],
            "description": "",
            "_model_name": "HTMLModel",
            "placeholder": "​",
            "_view_module": "@jupyter-widgets/controls",
            "_model_module_version": "1.5.0",
            "value": " 1112/1112 [01:34&lt;00:00, 11.81it/s]",
            "_view_count": null,
            "_view_module_version": "1.5.0",
            "description_tooltip": null,
            "_model_module": "@jupyter-widgets/controls",
            "layout": "IPY_MODEL_a203cfd1ba9b4216bb6e99dbf2245425"
          }
        },
        "a4b5469837e24292b903da1799f4f04f": {
          "model_module": "@jupyter-widgets/controls",
          "model_name": "ProgressStyleModel",
          "state": {
            "_view_name": "StyleView",
            "_model_name": "ProgressStyleModel",
            "description_width": "initial",
            "_view_module": "@jupyter-widgets/base",
            "_model_module_version": "1.5.0",
            "_view_count": null,
            "_view_module_version": "1.2.0",
            "bar_color": null,
            "_model_module": "@jupyter-widgets/controls"
          }
        },
        "eb0120021f8940b49f886f98d17ced7b": {
          "model_module": "@jupyter-widgets/base",
          "model_name": "LayoutModel",
          "state": {
            "_view_name": "LayoutView",
            "grid_template_rows": null,
            "right": null,
            "justify_content": null,
            "_view_module": "@jupyter-widgets/base",
            "overflow": null,
            "_model_module_version": "1.2.0",
            "_view_count": null,
            "flex_flow": null,
            "width": null,
            "min_width": null,
            "border": null,
            "align_items": null,
            "bottom": null,
            "_model_module": "@jupyter-widgets/base",
            "top": null,
            "grid_column": null,
            "overflow_y": null,
            "overflow_x": null,
            "grid_auto_flow": null,
            "grid_area": null,
            "grid_template_columns": null,
            "flex": null,
            "_model_name": "LayoutModel",
            "justify_items": null,
            "grid_row": null,
            "max_height": null,
            "align_content": null,
            "visibility": null,
            "align_self": null,
            "height": null,
            "min_height": null,
            "padding": null,
            "grid_auto_rows": null,
            "grid_gap": null,
            "max_width": null,
            "order": null,
            "_view_module_version": "1.2.0",
            "grid_template_areas": null,
            "object_position": null,
            "object_fit": null,
            "grid_auto_columns": null,
            "margin": null,
            "display": null,
            "left": null
          }
        },
        "a41f8dba02164cbfa22592503c14adce": {
          "model_module": "@jupyter-widgets/controls",
          "model_name": "DescriptionStyleModel",
          "state": {
            "_view_name": "StyleView",
            "_model_name": "DescriptionStyleModel",
            "description_width": "",
            "_view_module": "@jupyter-widgets/base",
            "_model_module_version": "1.5.0",
            "_view_count": null,
            "_view_module_version": "1.2.0",
            "_model_module": "@jupyter-widgets/controls"
          }
        },
        "a203cfd1ba9b4216bb6e99dbf2245425": {
          "model_module": "@jupyter-widgets/base",
          "model_name": "LayoutModel",
          "state": {
            "_view_name": "LayoutView",
            "grid_template_rows": null,
            "right": null,
            "justify_content": null,
            "_view_module": "@jupyter-widgets/base",
            "overflow": null,
            "_model_module_version": "1.2.0",
            "_view_count": null,
            "flex_flow": null,
            "width": null,
            "min_width": null,
            "border": null,
            "align_items": null,
            "bottom": null,
            "_model_module": "@jupyter-widgets/base",
            "top": null,
            "grid_column": null,
            "overflow_y": null,
            "overflow_x": null,
            "grid_auto_flow": null,
            "grid_area": null,
            "grid_template_columns": null,
            "flex": null,
            "_model_name": "LayoutModel",
            "justify_items": null,
            "grid_row": null,
            "max_height": null,
            "align_content": null,
            "visibility": null,
            "align_self": null,
            "height": null,
            "min_height": null,
            "padding": null,
            "grid_auto_rows": null,
            "grid_gap": null,
            "max_width": null,
            "order": null,
            "_view_module_version": "1.2.0",
            "grid_template_areas": null,
            "object_position": null,
            "object_fit": null,
            "grid_auto_columns": null,
            "margin": null,
            "display": null,
            "left": null
          }
        },
        "3aedfb05d9d7418e84c2c1e2f2d0a9e7": {
          "model_module": "@jupyter-widgets/controls",
          "model_name": "HBoxModel",
          "state": {
            "_view_name": "HBoxView",
            "_dom_classes": [],
            "_model_name": "HBoxModel",
            "_view_module": "@jupyter-widgets/controls",
            "_model_module_version": "1.5.0",
            "_view_count": null,
            "_view_module_version": "1.5.0",
            "box_style": "",
            "layout": "IPY_MODEL_fa10cf7dc5e3476bb29404917a2deb30",
            "_model_module": "@jupyter-widgets/controls",
            "children": [
              "IPY_MODEL_fdb260e719b24e89ba0466d3b76b0284",
              "IPY_MODEL_403bd52edc6145f9adc50b4d677a7f97"
            ]
          }
        },
        "fa10cf7dc5e3476bb29404917a2deb30": {
          "model_module": "@jupyter-widgets/base",
          "model_name": "LayoutModel",
          "state": {
            "_view_name": "LayoutView",
            "grid_template_rows": null,
            "right": null,
            "justify_content": null,
            "_view_module": "@jupyter-widgets/base",
            "overflow": null,
            "_model_module_version": "1.2.0",
            "_view_count": null,
            "flex_flow": null,
            "width": null,
            "min_width": null,
            "border": null,
            "align_items": null,
            "bottom": null,
            "_model_module": "@jupyter-widgets/base",
            "top": null,
            "grid_column": null,
            "overflow_y": null,
            "overflow_x": null,
            "grid_auto_flow": null,
            "grid_area": null,
            "grid_template_columns": null,
            "flex": null,
            "_model_name": "LayoutModel",
            "justify_items": null,
            "grid_row": null,
            "max_height": null,
            "align_content": null,
            "visibility": null,
            "align_self": null,
            "height": null,
            "min_height": null,
            "padding": null,
            "grid_auto_rows": null,
            "grid_gap": null,
            "max_width": null,
            "order": null,
            "_view_module_version": "1.2.0",
            "grid_template_areas": null,
            "object_position": null,
            "object_fit": null,
            "grid_auto_columns": null,
            "margin": null,
            "display": null,
            "left": null
          }
        },
        "fdb260e719b24e89ba0466d3b76b0284": {
          "model_module": "@jupyter-widgets/controls",
          "model_name": "FloatProgressModel",
          "state": {
            "_view_name": "ProgressView",
            "style": "IPY_MODEL_22117299d17c479f9293b2609606af76",
            "_dom_classes": [],
            "description": "100%",
            "_model_name": "FloatProgressModel",
            "bar_style": "success",
            "max": 146645,
            "_view_module": "@jupyter-widgets/controls",
            "_model_module_version": "1.5.0",
            "value": 146645,
            "_view_count": null,
            "_view_module_version": "1.5.0",
            "orientation": "horizontal",
            "min": 0,
            "description_tooltip": null,
            "_model_module": "@jupyter-widgets/controls",
            "layout": "IPY_MODEL_da699fa119114c2b9cd36b85265959a5"
          }
        },
        "403bd52edc6145f9adc50b4d677a7f97": {
          "model_module": "@jupyter-widgets/controls",
          "model_name": "HTMLModel",
          "state": {
            "_view_name": "HTMLView",
            "style": "IPY_MODEL_4796f98af7ae4ed486b48a9035de077a",
            "_dom_classes": [],
            "description": "",
            "_model_name": "HTMLModel",
            "placeholder": "​",
            "_view_module": "@jupyter-widgets/controls",
            "_model_module_version": "1.5.0",
            "value": " 146645/146645 [00:55&lt;00:00, 2633.85it/s]",
            "_view_count": null,
            "_view_module_version": "1.5.0",
            "description_tooltip": null,
            "_model_module": "@jupyter-widgets/controls",
            "layout": "IPY_MODEL_a6c9bb6e3873468e8447457409cc5f0b"
          }
        },
        "22117299d17c479f9293b2609606af76": {
          "model_module": "@jupyter-widgets/controls",
          "model_name": "ProgressStyleModel",
          "state": {
            "_view_name": "StyleView",
            "_model_name": "ProgressStyleModel",
            "description_width": "initial",
            "_view_module": "@jupyter-widgets/base",
            "_model_module_version": "1.5.0",
            "_view_count": null,
            "_view_module_version": "1.2.0",
            "bar_color": null,
            "_model_module": "@jupyter-widgets/controls"
          }
        },
        "da699fa119114c2b9cd36b85265959a5": {
          "model_module": "@jupyter-widgets/base",
          "model_name": "LayoutModel",
          "state": {
            "_view_name": "LayoutView",
            "grid_template_rows": null,
            "right": null,
            "justify_content": null,
            "_view_module": "@jupyter-widgets/base",
            "overflow": null,
            "_model_module_version": "1.2.0",
            "_view_count": null,
            "flex_flow": null,
            "width": null,
            "min_width": null,
            "border": null,
            "align_items": null,
            "bottom": null,
            "_model_module": "@jupyter-widgets/base",
            "top": null,
            "grid_column": null,
            "overflow_y": null,
            "overflow_x": null,
            "grid_auto_flow": null,
            "grid_area": null,
            "grid_template_columns": null,
            "flex": null,
            "_model_name": "LayoutModel",
            "justify_items": null,
            "grid_row": null,
            "max_height": null,
            "align_content": null,
            "visibility": null,
            "align_self": null,
            "height": null,
            "min_height": null,
            "padding": null,
            "grid_auto_rows": null,
            "grid_gap": null,
            "max_width": null,
            "order": null,
            "_view_module_version": "1.2.0",
            "grid_template_areas": null,
            "object_position": null,
            "object_fit": null,
            "grid_auto_columns": null,
            "margin": null,
            "display": null,
            "left": null
          }
        },
        "4796f98af7ae4ed486b48a9035de077a": {
          "model_module": "@jupyter-widgets/controls",
          "model_name": "DescriptionStyleModel",
          "state": {
            "_view_name": "StyleView",
            "_model_name": "DescriptionStyleModel",
            "description_width": "",
            "_view_module": "@jupyter-widgets/base",
            "_model_module_version": "1.5.0",
            "_view_count": null,
            "_view_module_version": "1.2.0",
            "_model_module": "@jupyter-widgets/controls"
          }
        },
        "a6c9bb6e3873468e8447457409cc5f0b": {
          "model_module": "@jupyter-widgets/base",
          "model_name": "LayoutModel",
          "state": {
            "_view_name": "LayoutView",
            "grid_template_rows": null,
            "right": null,
            "justify_content": null,
            "_view_module": "@jupyter-widgets/base",
            "overflow": null,
            "_model_module_version": "1.2.0",
            "_view_count": null,
            "flex_flow": null,
            "width": null,
            "min_width": null,
            "border": null,
            "align_items": null,
            "bottom": null,
            "_model_module": "@jupyter-widgets/base",
            "top": null,
            "grid_column": null,
            "overflow_y": null,
            "overflow_x": null,
            "grid_auto_flow": null,
            "grid_area": null,
            "grid_template_columns": null,
            "flex": null,
            "_model_name": "LayoutModel",
            "justify_items": null,
            "grid_row": null,
            "max_height": null,
            "align_content": null,
            "visibility": null,
            "align_self": null,
            "height": null,
            "min_height": null,
            "padding": null,
            "grid_auto_rows": null,
            "grid_gap": null,
            "max_width": null,
            "order": null,
            "_view_module_version": "1.2.0",
            "grid_template_areas": null,
            "object_position": null,
            "object_fit": null,
            "grid_auto_columns": null,
            "margin": null,
            "display": null,
            "left": null
          }
        },
        "caa83da85cf94c86bffca7a78730ff16": {
          "model_module": "@jupyter-widgets/controls",
          "model_name": "HBoxModel",
          "state": {
            "_view_name": "HBoxView",
            "_dom_classes": [],
            "_model_name": "HBoxModel",
            "_view_module": "@jupyter-widgets/controls",
            "_model_module_version": "1.5.0",
            "_view_count": null,
            "_view_module_version": "1.5.0",
            "box_style": "",
            "layout": "IPY_MODEL_d61c25fde1cf48dfb93a948c41582c75",
            "_model_module": "@jupyter-widgets/controls",
            "children": [
              "IPY_MODEL_cbda65d4da14447aa506934096abb5d3",
              "IPY_MODEL_8fffb11de0b94794a9008355f8089be6"
            ]
          }
        },
        "d61c25fde1cf48dfb93a948c41582c75": {
          "model_module": "@jupyter-widgets/base",
          "model_name": "LayoutModel",
          "state": {
            "_view_name": "LayoutView",
            "grid_template_rows": null,
            "right": null,
            "justify_content": null,
            "_view_module": "@jupyter-widgets/base",
            "overflow": null,
            "_model_module_version": "1.2.0",
            "_view_count": null,
            "flex_flow": null,
            "width": null,
            "min_width": null,
            "border": null,
            "align_items": null,
            "bottom": null,
            "_model_module": "@jupyter-widgets/base",
            "top": null,
            "grid_column": null,
            "overflow_y": null,
            "overflow_x": null,
            "grid_auto_flow": null,
            "grid_area": null,
            "grid_template_columns": null,
            "flex": null,
            "_model_name": "LayoutModel",
            "justify_items": null,
            "grid_row": null,
            "max_height": null,
            "align_content": null,
            "visibility": null,
            "align_self": null,
            "height": null,
            "min_height": null,
            "padding": null,
            "grid_auto_rows": null,
            "grid_gap": null,
            "max_width": null,
            "order": null,
            "_view_module_version": "1.2.0",
            "grid_template_areas": null,
            "object_position": null,
            "object_fit": null,
            "grid_auto_columns": null,
            "margin": null,
            "display": null,
            "left": null
          }
        },
        "cbda65d4da14447aa506934096abb5d3": {
          "model_module": "@jupyter-widgets/controls",
          "model_name": "FloatProgressModel",
          "state": {
            "_view_name": "ProgressView",
            "style": "IPY_MODEL_dd0148f02b70435fbf1dcffee783d924",
            "_dom_classes": [],
            "description": "100%",
            "_model_name": "FloatProgressModel",
            "bar_style": "success",
            "max": 1112,
            "_view_module": "@jupyter-widgets/controls",
            "_model_module_version": "1.5.0",
            "value": 1112,
            "_view_count": null,
            "_view_module_version": "1.5.0",
            "orientation": "horizontal",
            "min": 0,
            "description_tooltip": null,
            "_model_module": "@jupyter-widgets/controls",
            "layout": "IPY_MODEL_32eb9377e91e45cbae65dd15c6ebeade"
          }
        },
        "8fffb11de0b94794a9008355f8089be6": {
          "model_module": "@jupyter-widgets/controls",
          "model_name": "HTMLModel",
          "state": {
            "_view_name": "HTMLView",
            "style": "IPY_MODEL_311618924df541418eeb3c7d02cc6d83",
            "_dom_classes": [],
            "description": "",
            "_model_name": "HTMLModel",
            "placeholder": "​",
            "_view_module": "@jupyter-widgets/controls",
            "_model_module_version": "1.5.0",
            "value": " 1112/1112 [01:11&lt;00:00, 15.61it/s]",
            "_view_count": null,
            "_view_module_version": "1.5.0",
            "description_tooltip": null,
            "_model_module": "@jupyter-widgets/controls",
            "layout": "IPY_MODEL_52778f2eb4ca45b2a6ddbc36a42c2ae2"
          }
        },
        "dd0148f02b70435fbf1dcffee783d924": {
          "model_module": "@jupyter-widgets/controls",
          "model_name": "ProgressStyleModel",
          "state": {
            "_view_name": "StyleView",
            "_model_name": "ProgressStyleModel",
            "description_width": "initial",
            "_view_module": "@jupyter-widgets/base",
            "_model_module_version": "1.5.0",
            "_view_count": null,
            "_view_module_version": "1.2.0",
            "bar_color": null,
            "_model_module": "@jupyter-widgets/controls"
          }
        },
        "32eb9377e91e45cbae65dd15c6ebeade": {
          "model_module": "@jupyter-widgets/base",
          "model_name": "LayoutModel",
          "state": {
            "_view_name": "LayoutView",
            "grid_template_rows": null,
            "right": null,
            "justify_content": null,
            "_view_module": "@jupyter-widgets/base",
            "overflow": null,
            "_model_module_version": "1.2.0",
            "_view_count": null,
            "flex_flow": null,
            "width": null,
            "min_width": null,
            "border": null,
            "align_items": null,
            "bottom": null,
            "_model_module": "@jupyter-widgets/base",
            "top": null,
            "grid_column": null,
            "overflow_y": null,
            "overflow_x": null,
            "grid_auto_flow": null,
            "grid_area": null,
            "grid_template_columns": null,
            "flex": null,
            "_model_name": "LayoutModel",
            "justify_items": null,
            "grid_row": null,
            "max_height": null,
            "align_content": null,
            "visibility": null,
            "align_self": null,
            "height": null,
            "min_height": null,
            "padding": null,
            "grid_auto_rows": null,
            "grid_gap": null,
            "max_width": null,
            "order": null,
            "_view_module_version": "1.2.0",
            "grid_template_areas": null,
            "object_position": null,
            "object_fit": null,
            "grid_auto_columns": null,
            "margin": null,
            "display": null,
            "left": null
          }
        },
        "311618924df541418eeb3c7d02cc6d83": {
          "model_module": "@jupyter-widgets/controls",
          "model_name": "DescriptionStyleModel",
          "state": {
            "_view_name": "StyleView",
            "_model_name": "DescriptionStyleModel",
            "description_width": "",
            "_view_module": "@jupyter-widgets/base",
            "_model_module_version": "1.5.0",
            "_view_count": null,
            "_view_module_version": "1.2.0",
            "_model_module": "@jupyter-widgets/controls"
          }
        },
        "52778f2eb4ca45b2a6ddbc36a42c2ae2": {
          "model_module": "@jupyter-widgets/base",
          "model_name": "LayoutModel",
          "state": {
            "_view_name": "LayoutView",
            "grid_template_rows": null,
            "right": null,
            "justify_content": null,
            "_view_module": "@jupyter-widgets/base",
            "overflow": null,
            "_model_module_version": "1.2.0",
            "_view_count": null,
            "flex_flow": null,
            "width": null,
            "min_width": null,
            "border": null,
            "align_items": null,
            "bottom": null,
            "_model_module": "@jupyter-widgets/base",
            "top": null,
            "grid_column": null,
            "overflow_y": null,
            "overflow_x": null,
            "grid_auto_flow": null,
            "grid_area": null,
            "grid_template_columns": null,
            "flex": null,
            "_model_name": "LayoutModel",
            "justify_items": null,
            "grid_row": null,
            "max_height": null,
            "align_content": null,
            "visibility": null,
            "align_self": null,
            "height": null,
            "min_height": null,
            "padding": null,
            "grid_auto_rows": null,
            "grid_gap": null,
            "max_width": null,
            "order": null,
            "_view_module_version": "1.2.0",
            "grid_template_areas": null,
            "object_position": null,
            "object_fit": null,
            "grid_auto_columns": null,
            "margin": null,
            "display": null,
            "left": null
          }
        }
      }
    }
  },
  "cells": [
    {
      "cell_type": "markdown",
      "metadata": {
        "id": "jGvirHCNqQw2"
      },
      "source": [
        "## Прикладные задачи анализа данных 2021\n",
        "\n",
        "## Рекомендательные системы - 1\n",
        "\n",
        "Ссылка на этот ноутбук в колабе: \n",
        "https://colab.research.google.com/drive/1LeQZk5WbUoYrBqSDAyVMr7RyI_3c6ZAZ?usp=sharing"
      ]
    },
    {
      "cell_type": "markdown",
      "metadata": {
        "id": "By7Eu-JQqQw_"
      },
      "source": [
        "В этом задании будем практиковаться в реализации рекомендательных систем.\n",
        "\n",
        "Воспользуемся небольшим датасетом с Kaggle: [Articles Sharing and Reading from CI&T Deskdrop](https://www.kaggle.com/gspmoreira/articles-sharing-reading-from-cit-deskdrop)."
      ]
    },
    {
      "cell_type": "code",
      "metadata": {
        "_cell_guid": "719f3966-e6fd-49c8-9f60-7bd741542450",
        "_uuid": "b61cd3125a7f8f991fc1bda85ae3cd26f74090ae",
        "id": "85QpoXGIqQxA",
        "outputId": "acce5aef-fa5a-495d-f047-668913d8e81d",
        "colab": {
          "base_uri": "https://localhost:8080/"
        }
      },
      "source": [
        "%pylab inline\n",
        "\n",
        "import pandas as pd\n",
        "from tqdm import tqdm_notebook\n",
        "\n",
        "# Картинки\n",
        "import matplotlib.pyplot as plt\n",
        "plt.style.use('ggplot')\n",
        "%matplotlib inline\n",
        "%config InlineBackend.figure_format ='retina'\n",
        "\n",
        "# Фиксируем размер графиков\n",
        "from matplotlib.pylab import rcParams\n",
        "rcParams['figure.figsize'] = 10, 8\n",
        "\n",
        "import matplotlib as mpl\n",
        "plt.rcParams.update({\n",
        "    \"text.usetex\": False,\n",
        "    \"font.family\": \"DejaVu Sans\",\n",
        "    \"font.sans-serif\": [\"Benton Sans\"]})\n"
      ],
      "execution_count": 2,
      "outputs": [
        {
          "output_type": "stream",
          "text": [
            "Populating the interactive namespace from numpy and matplotlib\n"
          ],
          "name": "stdout"
        }
      ]
    },
    {
      "cell_type": "markdown",
      "metadata": {
        "_cell_guid": "5f5c826d-f3d5-42d3-a7e6-0343a44cdc9f",
        "_uuid": "26f1f70fd978957b26f8884fc5f82bfe9475c666",
        "id": "krOj16iWqQxB"
      },
      "source": [
        "## Часть 0. Загрузка данных"
      ]
    },
    {
      "cell_type": "markdown",
      "metadata": {
        "_cell_guid": "3c48b62c-ad3b-4218-8fb2-2f0e86a16edc",
        "_uuid": "650c279eddc846a48274346e045cfb6e1f8895d5",
        "id": "LL6bq2kYqQxB"
      },
      "source": [
        "Загрузим Deskdrop dataset, включающийся в себе логи за 1 год платформы, где пользователи читают статьи.\n",
        "\n",
        "Данные включают в себя 2 файла:  \n",
        "- **shared_articles.csv**\n",
        "- **users_interactions.csv**\n",
        "\n",
        "Как можно догадаться, в одном описания самих статей (нам понадобятся в контентных моделях), а в другом логи пользователей."
      ]
    },
    {
      "cell_type": "code",
      "metadata": {
        "id": "ywrVWuT6qQxC",
        "outputId": "9c5b7bf3-f284-461d-b208-4d9c9bd0f1a0",
        "colab": {
          "base_uri": "https://localhost:8080/"
        }
      },
      "source": [
        "# загружаем и разархивируем данные\n",
        "!pip3 -q install cython\n",
        "!pip3 -q install git+https://github.com/coreylynch/pyFM\n",
        "!pip3 -q install catboost\n",
        "!wget -q -N https://www.dropbox.com/s/z8syrl5trawxs0n/articles.zip?dl=0 -O articles.zip\n",
        "!unzip -o -q articles.zip"
      ],
      "execution_count": 3,
      "outputs": [
        {
          "output_type": "stream",
          "text": [
            "  Building wheel for pyfm (setup.py) ... \u001b[?25l\u001b[?25hdone\n",
            "\u001b[K     |████████████████████████████████| 67.3MB 84kB/s \n",
            "\u001b[?25h"
          ],
          "name": "stdout"
        }
      ]
    },
    {
      "cell_type": "markdown",
      "metadata": {
        "_cell_guid": "c9ee29ff-1fee-4dc9-a3cb-e5301c17fded",
        "_uuid": "1e66e976d34d4e28f5a92241b0ea82a2a66363ea",
        "id": "v2bKm5QJqQxC"
      },
      "source": [
        "#### shared_articles.csv"
      ]
    },
    {
      "cell_type": "markdown",
      "metadata": {
        "_cell_guid": "f09d2247-a40c-4aaf-90ce-15a8721a3036",
        "_uuid": "e64f4fa8a4751274bd2d37a0f45d2d3d664d6c3e",
        "id": "GxpMJN9SqQxC"
      },
      "source": [
        "Так как в файле перечислены даже удалённые статьи, то мы их сразу удалим (на самом деле они могли бы быть нам полезны для подсчёта различных величин, хоть мы и не можем их рекомендовать)."
      ]
    },
    {
      "cell_type": "code",
      "metadata": {
        "_cell_guid": "e601f966-d03f-4edc-886f-ca3d511a8045",
        "_uuid": "569c301bd128f66f29b4d97c34171e4d1712015a",
        "id": "suDgBOcPqQxD",
        "outputId": "e0d21f43-6bc0-4e58-fd56-3f27c4826b78",
        "colab": {
          "base_uri": "https://localhost:8080/",
          "height": 386
        }
      },
      "source": [
        "articles_df = pd.read_csv('articles/shared_articles.csv')\n",
        "articles_df = articles_df[articles_df['eventType'] == 'CONTENT SHARED']\n",
        "articles_df.head(2)"
      ],
      "execution_count": 4,
      "outputs": [
        {
          "output_type": "execute_result",
          "data": {
            "text/html": [
              "<div>\n",
              "<style scoped>\n",
              "    .dataframe tbody tr th:only-of-type {\n",
              "        vertical-align: middle;\n",
              "    }\n",
              "\n",
              "    .dataframe tbody tr th {\n",
              "        vertical-align: top;\n",
              "    }\n",
              "\n",
              "    .dataframe thead th {\n",
              "        text-align: right;\n",
              "    }\n",
              "</style>\n",
              "<table border=\"1\" class=\"dataframe\">\n",
              "  <thead>\n",
              "    <tr style=\"text-align: right;\">\n",
              "      <th></th>\n",
              "      <th>timestamp</th>\n",
              "      <th>eventType</th>\n",
              "      <th>contentId</th>\n",
              "      <th>authorPersonId</th>\n",
              "      <th>authorSessionId</th>\n",
              "      <th>authorUserAgent</th>\n",
              "      <th>authorRegion</th>\n",
              "      <th>authorCountry</th>\n",
              "      <th>contentType</th>\n",
              "      <th>url</th>\n",
              "      <th>title</th>\n",
              "      <th>text</th>\n",
              "      <th>lang</th>\n",
              "    </tr>\n",
              "  </thead>\n",
              "  <tbody>\n",
              "    <tr>\n",
              "      <th>1</th>\n",
              "      <td>1459193988</td>\n",
              "      <td>CONTENT SHARED</td>\n",
              "      <td>-4110354420726924665</td>\n",
              "      <td>4340306774493623681</td>\n",
              "      <td>8940341205206233829</td>\n",
              "      <td>NaN</td>\n",
              "      <td>NaN</td>\n",
              "      <td>NaN</td>\n",
              "      <td>HTML</td>\n",
              "      <td>http://www.nytimes.com/2016/03/28/business/dea...</td>\n",
              "      <td>Ethereum, a Virtual Currency, Enables Transact...</td>\n",
              "      <td>All of this work is still very early. The firs...</td>\n",
              "      <td>en</td>\n",
              "    </tr>\n",
              "    <tr>\n",
              "      <th>2</th>\n",
              "      <td>1459194146</td>\n",
              "      <td>CONTENT SHARED</td>\n",
              "      <td>-7292285110016212249</td>\n",
              "      <td>4340306774493623681</td>\n",
              "      <td>8940341205206233829</td>\n",
              "      <td>NaN</td>\n",
              "      <td>NaN</td>\n",
              "      <td>NaN</td>\n",
              "      <td>HTML</td>\n",
              "      <td>http://cointelegraph.com/news/bitcoin-future-w...</td>\n",
              "      <td>Bitcoin Future: When GBPcoin of Branson Wins O...</td>\n",
              "      <td>The alarm clock wakes me at 8:00 with stream o...</td>\n",
              "      <td>en</td>\n",
              "    </tr>\n",
              "  </tbody>\n",
              "</table>\n",
              "</div>"
            ],
            "text/plain": [
              "    timestamp  ... lang\n",
              "1  1459193988  ...   en\n",
              "2  1459194146  ...   en\n",
              "\n",
              "[2 rows x 13 columns]"
            ]
          },
          "metadata": {
            "tags": []
          },
          "execution_count": 4
        }
      ]
    },
    {
      "cell_type": "markdown",
      "metadata": {
        "_cell_guid": "487936d5-d7b3-487d-9ef1-e3ba1e4bc421",
        "_uuid": "3f96f2d88fa86814e2fa1273d80f26d2559823fd",
        "id": "RJLNz-KhqQxE"
      },
      "source": [
        "#### users_interactions.csv"
      ]
    },
    {
      "cell_type": "markdown",
      "metadata": {
        "_cell_guid": "325b8db8-ef44-4b59-8138-2a59bd02d66e",
        "_uuid": "86694f1b80b04b8f9b961148fb265f355f202b26",
        "id": "PgJzS9gyqQxE"
      },
      "source": [
        "В колонке eventType описаны действия, которые могли совершать пользователи над статьёй:  \n",
        "- VIEW\n",
        "- LIKE\n",
        "- COMMENT CREATED\n",
        "- FOLLOW\n",
        "- BOOKMARK"
      ]
    },
    {
      "cell_type": "code",
      "metadata": {
        "_cell_guid": "445d39ec-f6b0-4155-9f92-0a2540918bd1",
        "_uuid": "9829842326037e364de457f832deceae074d6164",
        "id": "Owcr4wfBqQxF",
        "outputId": "395aaacb-3a86-4ddc-9f0a-b8d7fa3d6a08",
        "colab": {
          "base_uri": "https://localhost:8080/",
          "height": 359
        }
      },
      "source": [
        "interactions_df = pd.read_csv('articles/users_interactions.csv')\n",
        "interactions_df.head(10)"
      ],
      "execution_count": 5,
      "outputs": [
        {
          "output_type": "execute_result",
          "data": {
            "text/html": [
              "<div>\n",
              "<style scoped>\n",
              "    .dataframe tbody tr th:only-of-type {\n",
              "        vertical-align: middle;\n",
              "    }\n",
              "\n",
              "    .dataframe tbody tr th {\n",
              "        vertical-align: top;\n",
              "    }\n",
              "\n",
              "    .dataframe thead th {\n",
              "        text-align: right;\n",
              "    }\n",
              "</style>\n",
              "<table border=\"1\" class=\"dataframe\">\n",
              "  <thead>\n",
              "    <tr style=\"text-align: right;\">\n",
              "      <th></th>\n",
              "      <th>timestamp</th>\n",
              "      <th>eventType</th>\n",
              "      <th>contentId</th>\n",
              "      <th>personId</th>\n",
              "      <th>sessionId</th>\n",
              "      <th>userAgent</th>\n",
              "      <th>userRegion</th>\n",
              "      <th>userCountry</th>\n",
              "    </tr>\n",
              "  </thead>\n",
              "  <tbody>\n",
              "    <tr>\n",
              "      <th>0</th>\n",
              "      <td>1465413032</td>\n",
              "      <td>VIEW</td>\n",
              "      <td>-3499919498720038879</td>\n",
              "      <td>-8845298781299428018</td>\n",
              "      <td>1264196770339959068</td>\n",
              "      <td>NaN</td>\n",
              "      <td>NaN</td>\n",
              "      <td>NaN</td>\n",
              "    </tr>\n",
              "    <tr>\n",
              "      <th>1</th>\n",
              "      <td>1465412560</td>\n",
              "      <td>VIEW</td>\n",
              "      <td>8890720798209849691</td>\n",
              "      <td>-1032019229384696495</td>\n",
              "      <td>3621737643587579081</td>\n",
              "      <td>Mozilla/5.0 (Macintosh; Intel Mac OS X 10_11_2...</td>\n",
              "      <td>NY</td>\n",
              "      <td>US</td>\n",
              "    </tr>\n",
              "    <tr>\n",
              "      <th>2</th>\n",
              "      <td>1465416190</td>\n",
              "      <td>VIEW</td>\n",
              "      <td>310515487419366995</td>\n",
              "      <td>-1130272294246983140</td>\n",
              "      <td>2631864456530402479</td>\n",
              "      <td>NaN</td>\n",
              "      <td>NaN</td>\n",
              "      <td>NaN</td>\n",
              "    </tr>\n",
              "    <tr>\n",
              "      <th>3</th>\n",
              "      <td>1465413895</td>\n",
              "      <td>FOLLOW</td>\n",
              "      <td>310515487419366995</td>\n",
              "      <td>344280948527967603</td>\n",
              "      <td>-3167637573980064150</td>\n",
              "      <td>NaN</td>\n",
              "      <td>NaN</td>\n",
              "      <td>NaN</td>\n",
              "    </tr>\n",
              "    <tr>\n",
              "      <th>4</th>\n",
              "      <td>1465412290</td>\n",
              "      <td>VIEW</td>\n",
              "      <td>-7820640624231356730</td>\n",
              "      <td>-445337111692715325</td>\n",
              "      <td>5611481178424124714</td>\n",
              "      <td>NaN</td>\n",
              "      <td>NaN</td>\n",
              "      <td>NaN</td>\n",
              "    </tr>\n",
              "    <tr>\n",
              "      <th>5</th>\n",
              "      <td>1465413742</td>\n",
              "      <td>VIEW</td>\n",
              "      <td>310515487419366995</td>\n",
              "      <td>-8763398617720485024</td>\n",
              "      <td>1395789369402380392</td>\n",
              "      <td>Mozilla/5.0 (Windows NT 10.0; WOW64) AppleWebK...</td>\n",
              "      <td>MG</td>\n",
              "      <td>BR</td>\n",
              "    </tr>\n",
              "    <tr>\n",
              "      <th>6</th>\n",
              "      <td>1465415950</td>\n",
              "      <td>VIEW</td>\n",
              "      <td>-8864073373672512525</td>\n",
              "      <td>3609194402293569455</td>\n",
              "      <td>1143207167886864524</td>\n",
              "      <td>NaN</td>\n",
              "      <td>NaN</td>\n",
              "      <td>NaN</td>\n",
              "    </tr>\n",
              "    <tr>\n",
              "      <th>7</th>\n",
              "      <td>1465415066</td>\n",
              "      <td>VIEW</td>\n",
              "      <td>-1492913151930215984</td>\n",
              "      <td>4254153380739593270</td>\n",
              "      <td>8743229464706506141</td>\n",
              "      <td>Mozilla/5.0 (X11; Linux x86_64) AppleWebKit/53...</td>\n",
              "      <td>SP</td>\n",
              "      <td>BR</td>\n",
              "    </tr>\n",
              "    <tr>\n",
              "      <th>8</th>\n",
              "      <td>1465413762</td>\n",
              "      <td>VIEW</td>\n",
              "      <td>310515487419366995</td>\n",
              "      <td>344280948527967603</td>\n",
              "      <td>-3167637573980064150</td>\n",
              "      <td>NaN</td>\n",
              "      <td>NaN</td>\n",
              "      <td>NaN</td>\n",
              "    </tr>\n",
              "    <tr>\n",
              "      <th>9</th>\n",
              "      <td>1465413771</td>\n",
              "      <td>VIEW</td>\n",
              "      <td>3064370296170038610</td>\n",
              "      <td>3609194402293569455</td>\n",
              "      <td>1143207167886864524</td>\n",
              "      <td>NaN</td>\n",
              "      <td>NaN</td>\n",
              "      <td>NaN</td>\n",
              "    </tr>\n",
              "  </tbody>\n",
              "</table>\n",
              "</div>"
            ],
            "text/plain": [
              "    timestamp eventType  ...  userRegion  userCountry\n",
              "0  1465413032      VIEW  ...         NaN          NaN\n",
              "1  1465412560      VIEW  ...          NY           US\n",
              "2  1465416190      VIEW  ...         NaN          NaN\n",
              "3  1465413895    FOLLOW  ...         NaN          NaN\n",
              "4  1465412290      VIEW  ...         NaN          NaN\n",
              "5  1465413742      VIEW  ...          MG           BR\n",
              "6  1465415950      VIEW  ...         NaN          NaN\n",
              "7  1465415066      VIEW  ...          SP           BR\n",
              "8  1465413762      VIEW  ...         NaN          NaN\n",
              "9  1465413771      VIEW  ...         NaN          NaN\n",
              "\n",
              "[10 rows x 8 columns]"
            ]
          },
          "metadata": {
            "tags": []
          },
          "execution_count": 5
        }
      ]
    },
    {
      "cell_type": "code",
      "metadata": {
        "id": "Kt4kGdKIqQxF"
      },
      "source": [
        "interactions_df.personId = interactions_df.personId.astype(str)\n",
        "interactions_df.contentId = interactions_df.contentId.astype(str)\n",
        "articles_df.contentId = articles_df.contentId.astype(str)"
      ],
      "execution_count": 6,
      "outputs": []
    },
    {
      "cell_type": "markdown",
      "metadata": {
        "_cell_guid": "585f81a5-c6ff-4399-bbec-901c41fc7285",
        "_uuid": "6abb0af8474eabb50be7a9e6496bfa75ec1b2bd9",
        "id": "3HB7GH94qQxF"
      },
      "source": [
        "### Предобработка данных"
      ]
    },
    {
      "cell_type": "markdown",
      "metadata": {
        "_cell_guid": "bad1a6c9-0258-4b89-85f9-bec89a523662",
        "_uuid": "84c2e91561d5de6afa7c45c173022193664c770e",
        "id": "X3I489s1qQxF"
      },
      "source": [
        "В логах встречаются различные действия пользователей. Однако мы хотим работать лишь с одной величиной, характеризующей всё взаимодействие пользователя со статьёй. Предлагается задать действиям следующие веса:"
      ]
    },
    {
      "cell_type": "code",
      "metadata": {
        "_cell_guid": "3239c376-05b8-4a58-9afc-f6f57f67405f",
        "_uuid": "b06f8c0b082f0ad07bf773a5ad2fae33c1f7acc2",
        "id": "Futn6lM-qQxG"
      },
      "source": [
        "event_type_strength = {'VIEW': 1.0,\n",
        "                       'LIKE': 2.0, \n",
        "                       'BOOKMARK': 2.5, \n",
        "                       'FOLLOW': 3.0,\n",
        "                       'COMMENT CREATED': 4.0}"
      ],
      "execution_count": 7,
      "outputs": []
    },
    {
      "cell_type": "markdown",
      "metadata": {
        "id": "A5FH1d6dqQxG"
      },
      "source": [
        "Посчитаем числовую величину \"оценки\" пользователем статьи с указанными выше весами."
      ]
    },
    {
      "cell_type": "code",
      "metadata": {
        "id": "aB8o-IYWqQxG"
      },
      "source": [
        "interactions_df['eventStrength'] = interactions_df['eventType'].apply(lambda x: event_type_strength[x])"
      ],
      "execution_count": 8,
      "outputs": []
    },
    {
      "cell_type": "code",
      "metadata": {
        "id": "U44vq95ZcCC8",
        "outputId": "b6db2f38-dc00-47c5-a337-692fedad692d",
        "colab": {
          "base_uri": "https://localhost:8080/"
        }
      },
      "source": [
        "interactions_df['eventStrength'].head(10)"
      ],
      "execution_count": 9,
      "outputs": [
        {
          "output_type": "execute_result",
          "data": {
            "text/plain": [
              "0    1.0\n",
              "1    1.0\n",
              "2    1.0\n",
              "3    3.0\n",
              "4    1.0\n",
              "5    1.0\n",
              "6    1.0\n",
              "7    1.0\n",
              "8    1.0\n",
              "9    1.0\n",
              "Name: eventStrength, dtype: float64"
            ]
          },
          "metadata": {
            "tags": []
          },
          "execution_count": 9
        }
      ]
    },
    {
      "cell_type": "markdown",
      "metadata": {
        "_cell_guid": "5c92aa80-2926-44db-b358-c4c32de806c4",
        "_uuid": "91100a395fdf4fb20df02c8d248072457c980b5d",
        "id": "Q1sUC2znqQxG"
      },
      "source": [
        "Ремендательные системы подвержены проблеме холодного старта. Будем работать только с теми пользователями, которые взаимодействовали хотя бы с 5-ю материалами.\n",
        "\n",
        "Оставим только таких пользователей."
      ]
    },
    {
      "cell_type": "code",
      "metadata": {
        "id": "IIgwulsoeg2b",
        "outputId": "ad46d734-c251-49c7-b4be-280e0aa87c1c",
        "colab": {
          "base_uri": "https://localhost:8080/"
        }
      },
      "source": [
        "interactions_df.groupby(['personId', 'contentId']).first().reset_index().groupby('personId').size()"
      ],
      "execution_count": 10,
      "outputs": [
        {
          "output_type": "execute_result",
          "data": {
            "text/plain": [
              "personId\n",
              "-1007001694607905623      6\n",
              "-1032019229384696495    648\n",
              "-108842214936804958     270\n",
              "-1093393486211919385      2\n",
              "-1110220372195277179      3\n",
              "                       ... \n",
              "987030274299018507        3\n",
              "989049974880576288       19\n",
              "98958074799194811         4\n",
              "997469202936578234       17\n",
              "998688566268269815        6\n",
              "Length: 1895, dtype: int64"
            ]
          },
          "metadata": {
            "tags": []
          },
          "execution_count": 10
        }
      ]
    },
    {
      "cell_type": "code",
      "metadata": {
        "_cell_guid": "bad1d8ea-9b67-4a47-80c5-87a5e55c4f38",
        "_uuid": "1698c88340183baa7f3ebb8c3b60eaa8e6ca708f",
        "id": "btWf8QUPqQxH",
        "outputId": "acec86bd-8640-4a30-a947-54c91af807d9",
        "colab": {
          "base_uri": "https://localhost:8080/"
        }
      },
      "source": [
        "users_interactions_count_df = (interactions_df\n",
        "                               .groupby(['personId', 'contentId'])\n",
        "                               .first()\n",
        "                               .reset_index()\n",
        "                               .groupby('personId').size())\n",
        "\n",
        "print('# users:', len(users_interactions_count_df))"
      ],
      "execution_count": 11,
      "outputs": [
        {
          "output_type": "stream",
          "text": [
            "# users: 1895\n"
          ],
          "name": "stdout"
        }
      ]
    },
    {
      "cell_type": "code",
      "metadata": {
        "id": "M7-dOCFSdcUb",
        "outputId": "7d6f49c9-f945-4cff-c48d-4ffe02edd947",
        "colab": {
          "base_uri": "https://localhost:8080/"
        }
      },
      "source": [
        "users_with_enough_interactions_df = users_interactions_count_df[users_interactions_count_df >= 5].reset_index()[['personId']]\n",
        "print('# users with at least 5 interactions:',len(users_with_enough_interactions_df))"
      ],
      "execution_count": 12,
      "outputs": [
        {
          "output_type": "stream",
          "text": [
            "# users with at least 5 interactions: 1140\n"
          ],
          "name": "stdout"
        }
      ]
    },
    {
      "cell_type": "code",
      "metadata": {
        "id": "69z8fVe3fPJy",
        "outputId": "7d789fc3-fac6-4a66-c94d-6a90464796e7",
        "colab": {
          "base_uri": "https://localhost:8080/",
          "height": 204
        }
      },
      "source": [
        "users_with_enough_interactions_df.head()"
      ],
      "execution_count": 13,
      "outputs": [
        {
          "output_type": "execute_result",
          "data": {
            "text/html": [
              "<div>\n",
              "<style scoped>\n",
              "    .dataframe tbody tr th:only-of-type {\n",
              "        vertical-align: middle;\n",
              "    }\n",
              "\n",
              "    .dataframe tbody tr th {\n",
              "        vertical-align: top;\n",
              "    }\n",
              "\n",
              "    .dataframe thead th {\n",
              "        text-align: right;\n",
              "    }\n",
              "</style>\n",
              "<table border=\"1\" class=\"dataframe\">\n",
              "  <thead>\n",
              "    <tr style=\"text-align: right;\">\n",
              "      <th></th>\n",
              "      <th>personId</th>\n",
              "    </tr>\n",
              "  </thead>\n",
              "  <tbody>\n",
              "    <tr>\n",
              "      <th>0</th>\n",
              "      <td>-1007001694607905623</td>\n",
              "    </tr>\n",
              "    <tr>\n",
              "      <th>1</th>\n",
              "      <td>-1032019229384696495</td>\n",
              "    </tr>\n",
              "    <tr>\n",
              "      <th>2</th>\n",
              "      <td>-108842214936804958</td>\n",
              "    </tr>\n",
              "    <tr>\n",
              "      <th>3</th>\n",
              "      <td>-1119397949556155765</td>\n",
              "    </tr>\n",
              "    <tr>\n",
              "      <th>4</th>\n",
              "      <td>-1130272294246983140</td>\n",
              "    </tr>\n",
              "  </tbody>\n",
              "</table>\n",
              "</div>"
            ],
            "text/plain": [
              "               personId\n",
              "0  -1007001694607905623\n",
              "1  -1032019229384696495\n",
              "2   -108842214936804958\n",
              "3  -1119397949556155765\n",
              "4  -1130272294246983140"
            ]
          },
          "metadata": {
            "tags": []
          },
          "execution_count": 13
        }
      ]
    },
    {
      "cell_type": "code",
      "metadata": {
        "id": "ToYkE53lqQxH",
        "outputId": "b561503c-09e5-4085-b08d-1312026d8eb1",
        "colab": {
          "base_uri": "https://localhost:8080/",
          "height": 482
        }
      },
      "source": [
        "users_interactions_count_df.hist(bins=5);"
      ],
      "execution_count": 14,
      "outputs": [
        {
          "output_type": "display_data",
          "data": {
            "image/png": "[encoded data removed]",
            "text/plain": [
              "<Figure size 720x576 with 1 Axes>"
            ]
          },
          "metadata": {
            "tags": [],
            "image/png": {
              "width": 613,
              "height": 465
            },
            "needs_background": "light"
          }
        }
      ]
    },
    {
      "cell_type": "markdown",
      "metadata": {
        "id": "myKXBFCIqQxH"
      },
      "source": [
        "Оставим только те взаимодействия, которые касаются только отфильтрованных пользователей."
      ]
    },
    {
      "cell_type": "code",
      "metadata": {
        "id": "cjKSM01Re9-p",
        "outputId": "3f717eee-e461-41ef-f608-697cfa6d72ea",
        "colab": {
          "base_uri": "https://localhost:8080/"
        }
      },
      "source": [
        "# какие элементы из interactions_df содержатся в users_with_enough_interactions_df\n",
        "np.in1d(interactions_df.personId, users_with_enough_interactions_df)"
      ],
      "execution_count": 15,
      "outputs": [
        {
          "output_type": "execute_result",
          "data": {
            "text/plain": [
              "array([ True,  True,  True, ...,  True,  True,  True])"
            ]
          },
          "metadata": {
            "tags": []
          },
          "execution_count": 15
        }
      ]
    },
    {
      "cell_type": "code",
      "metadata": {
        "_cell_guid": "4e79a418-a9d6-4e01-9f38-9b290a645626",
        "_uuid": "0f428a4c6e76f95de7ea328dc33c6539389ae5f0",
        "id": "C2J-WTjwqQxH"
      },
      "source": [
        "interactions_from_selected_users_df = interactions_df.loc[np.in1d(interactions_df.personId,\n",
        "                                                                  users_with_enough_interactions_df)]"
      ],
      "execution_count": 16,
      "outputs": []
    },
    {
      "cell_type": "code",
      "metadata": {
        "id": "RbRVx1E_qQxI",
        "outputId": "7be80623-87c6-46a6-ba7c-7265fc68ca39",
        "colab": {
          "base_uri": "https://localhost:8080/"
        }
      },
      "source": [
        "print('# interactions before:', interactions_df.shape)\n",
        "print('# interactions after:', interactions_from_selected_users_df.shape)"
      ],
      "execution_count": 17,
      "outputs": [
        {
          "output_type": "stream",
          "text": [
            "# interactions before: (72312, 9)\n",
            "# interactions after: (69868, 9)\n"
          ],
          "name": "stdout"
        }
      ]
    },
    {
      "cell_type": "markdown",
      "metadata": {
        "id": "e6RKBJ_KqQxI"
      },
      "source": [
        "В данной постановке каждый из пользователей мог взаимодействовать с каждой статьёй более 1 раза (как минимум совершая различные действия). Предлагается \"схлопнуть\" все действия в одно взаимодействие с весом, равным сумме весов. \n",
        "\n",
        "Однако полученное число будет в том числе тем больше, чем больше действий произвёл человек. Чтобы уменьшить разброс предлагается взять логарифм от полученного числа (можно придумывать другие веса действиям и по-другому обрабатывать значения).\n",
        "\n",
        "Также сохраним последнее значение времени взаимодействия для разделениея выборки на обучение и контроль."
      ]
    },
    {
      "cell_type": "code",
      "metadata": {
        "_cell_guid": "54c82dd1-1102-4f11-ac6a-7993f8e5e842",
        "_uuid": "dcd64b20b47cf2c365341303ff410626a801f7a6",
        "id": "xwDV_CKwqQxI",
        "outputId": "753dd21a-326f-482e-ef18-d4f864e338aa",
        "colab": {
          "base_uri": "https://localhost:8080/",
          "height": 669
        }
      },
      "source": [
        "def smooth_user_preference(x):\n",
        "    return math.log(1 + x, 2)\n",
        "    \n",
        "interactions_full_df = (interactions_from_selected_users_df\n",
        "                        .groupby(['personId', 'contentId'])\n",
        "                        .eventStrength.sum()\n",
        "                        .apply(smooth_user_preference)\n",
        "                        .reset_index().set_index(['personId', 'contentId']))\n",
        "\n",
        "interactions_full_df['last_timestamp'] = (interactions_from_selected_users_df\n",
        "                                          .groupby(['personId', 'contentId'])['timestamp']\n",
        "                                          .last())\n",
        "        \n",
        "interactions_full_df = interactions_full_df.reset_index()\n",
        "interactions_full_df.head(20)"
      ],
      "execution_count": 18,
      "outputs": [
        {
          "output_type": "execute_result",
          "data": {
            "text/html": [
              "<div>\n",
              "<style scoped>\n",
              "    .dataframe tbody tr th:only-of-type {\n",
              "        vertical-align: middle;\n",
              "    }\n",
              "\n",
              "    .dataframe tbody tr th {\n",
              "        vertical-align: top;\n",
              "    }\n",
              "\n",
              "    .dataframe thead th {\n",
              "        text-align: right;\n",
              "    }\n",
              "</style>\n",
              "<table border=\"1\" class=\"dataframe\">\n",
              "  <thead>\n",
              "    <tr style=\"text-align: right;\">\n",
              "      <th></th>\n",
              "      <th>personId</th>\n",
              "      <th>contentId</th>\n",
              "      <th>eventStrength</th>\n",
              "      <th>last_timestamp</th>\n",
              "    </tr>\n",
              "  </thead>\n",
              "  <tbody>\n",
              "    <tr>\n",
              "      <th>0</th>\n",
              "      <td>-1007001694607905623</td>\n",
              "      <td>-5065077552540450930</td>\n",
              "      <td>1.000000</td>\n",
              "      <td>1470395911</td>\n",
              "    </tr>\n",
              "    <tr>\n",
              "      <th>1</th>\n",
              "      <td>-1007001694607905623</td>\n",
              "      <td>-6623581327558800021</td>\n",
              "      <td>1.000000</td>\n",
              "      <td>1487240080</td>\n",
              "    </tr>\n",
              "    <tr>\n",
              "      <th>2</th>\n",
              "      <td>-1007001694607905623</td>\n",
              "      <td>-793729620925729327</td>\n",
              "      <td>1.000000</td>\n",
              "      <td>1472834892</td>\n",
              "    </tr>\n",
              "    <tr>\n",
              "      <th>3</th>\n",
              "      <td>-1007001694607905623</td>\n",
              "      <td>1469580151036142903</td>\n",
              "      <td>1.000000</td>\n",
              "      <td>1487240062</td>\n",
              "    </tr>\n",
              "    <tr>\n",
              "      <th>4</th>\n",
              "      <td>-1007001694607905623</td>\n",
              "      <td>7270966256391553686</td>\n",
              "      <td>1.584963</td>\n",
              "      <td>1485994324</td>\n",
              "    </tr>\n",
              "    <tr>\n",
              "      <th>5</th>\n",
              "      <td>-1007001694607905623</td>\n",
              "      <td>8729086959762650511</td>\n",
              "      <td>1.000000</td>\n",
              "      <td>1487240086</td>\n",
              "    </tr>\n",
              "    <tr>\n",
              "      <th>6</th>\n",
              "      <td>-1032019229384696495</td>\n",
              "      <td>-1006791494035379303</td>\n",
              "      <td>1.000000</td>\n",
              "      <td>1469129122</td>\n",
              "    </tr>\n",
              "    <tr>\n",
              "      <th>7</th>\n",
              "      <td>-1032019229384696495</td>\n",
              "      <td>-1039912738963181810</td>\n",
              "      <td>1.000000</td>\n",
              "      <td>1459376415</td>\n",
              "    </tr>\n",
              "    <tr>\n",
              "      <th>8</th>\n",
              "      <td>-1032019229384696495</td>\n",
              "      <td>-1081723567492738167</td>\n",
              "      <td>2.000000</td>\n",
              "      <td>1464054093</td>\n",
              "    </tr>\n",
              "    <tr>\n",
              "      <th>9</th>\n",
              "      <td>-1032019229384696495</td>\n",
              "      <td>-1111518890369033396</td>\n",
              "      <td>1.000000</td>\n",
              "      <td>1470109122</td>\n",
              "    </tr>\n",
              "    <tr>\n",
              "      <th>10</th>\n",
              "      <td>-1032019229384696495</td>\n",
              "      <td>-1114438937697017987</td>\n",
              "      <td>3.584963</td>\n",
              "      <td>1463954865</td>\n",
              "    </tr>\n",
              "    <tr>\n",
              "      <th>11</th>\n",
              "      <td>-1032019229384696495</td>\n",
              "      <td>-1137602700803601559</td>\n",
              "      <td>2.700440</td>\n",
              "      <td>1472077982</td>\n",
              "    </tr>\n",
              "    <tr>\n",
              "      <th>12</th>\n",
              "      <td>-1032019229384696495</td>\n",
              "      <td>-1151034582628982912</td>\n",
              "      <td>2.000000</td>\n",
              "      <td>1463259775</td>\n",
              "    </tr>\n",
              "    <tr>\n",
              "      <th>13</th>\n",
              "      <td>-1032019229384696495</td>\n",
              "      <td>-1249582672736761858</td>\n",
              "      <td>1.000000</td>\n",
              "      <td>1472566466</td>\n",
              "    </tr>\n",
              "    <tr>\n",
              "      <th>14</th>\n",
              "      <td>-1032019229384696495</td>\n",
              "      <td>-1254906787526072320</td>\n",
              "      <td>2.321928</td>\n",
              "      <td>1464885644</td>\n",
              "    </tr>\n",
              "    <tr>\n",
              "      <th>15</th>\n",
              "      <td>-1032019229384696495</td>\n",
              "      <td>-1313614305945895108</td>\n",
              "      <td>2.584963</td>\n",
              "      <td>1462025352</td>\n",
              "    </tr>\n",
              "    <tr>\n",
              "      <th>16</th>\n",
              "      <td>-1032019229384696495</td>\n",
              "      <td>-1415040208471067980</td>\n",
              "      <td>2.700440</td>\n",
              "      <td>1482413824</td>\n",
              "    </tr>\n",
              "    <tr>\n",
              "      <th>17</th>\n",
              "      <td>-1032019229384696495</td>\n",
              "      <td>-1453783314552286835</td>\n",
              "      <td>5.247928</td>\n",
              "      <td>1464202274</td>\n",
              "    </tr>\n",
              "    <tr>\n",
              "      <th>18</th>\n",
              "      <td>-1032019229384696495</td>\n",
              "      <td>-1470592927114056630</td>\n",
              "      <td>1.000000</td>\n",
              "      <td>1460149910</td>\n",
              "    </tr>\n",
              "    <tr>\n",
              "      <th>19</th>\n",
              "      <td>-1032019229384696495</td>\n",
              "      <td>-1556169727291354289</td>\n",
              "      <td>3.807355</td>\n",
              "      <td>1466029013</td>\n",
              "    </tr>\n",
              "  </tbody>\n",
              "</table>\n",
              "</div>"
            ],
            "text/plain": [
              "                personId             contentId  eventStrength  last_timestamp\n",
              "0   -1007001694607905623  -5065077552540450930       1.000000      1470395911\n",
              "1   -1007001694607905623  -6623581327558800021       1.000000      1487240080\n",
              "2   -1007001694607905623   -793729620925729327       1.000000      1472834892\n",
              "3   -1007001694607905623   1469580151036142903       1.000000      1487240062\n",
              "4   -1007001694607905623   7270966256391553686       1.584963      1485994324\n",
              "5   -1007001694607905623   8729086959762650511       1.000000      1487240086\n",
              "6   -1032019229384696495  -1006791494035379303       1.000000      1469129122\n",
              "7   -1032019229384696495  -1039912738963181810       1.000000      1459376415\n",
              "8   -1032019229384696495  -1081723567492738167       2.000000      1464054093\n",
              "9   -1032019229384696495  -1111518890369033396       1.000000      1470109122\n",
              "10  -1032019229384696495  -1114438937697017987       3.584963      1463954865\n",
              "11  -1032019229384696495  -1137602700803601559       2.700440      1472077982\n",
              "12  -1032019229384696495  -1151034582628982912       2.000000      1463259775\n",
              "13  -1032019229384696495  -1249582672736761858       1.000000      1472566466\n",
              "14  -1032019229384696495  -1254906787526072320       2.321928      1464885644\n",
              "15  -1032019229384696495  -1313614305945895108       2.584963      1462025352\n",
              "16  -1032019229384696495  -1415040208471067980       2.700440      1482413824\n",
              "17  -1032019229384696495  -1453783314552286835       5.247928      1464202274\n",
              "18  -1032019229384696495  -1470592927114056630       1.000000      1460149910\n",
              "19  -1032019229384696495  -1556169727291354289       3.807355      1466029013"
            ]
          },
          "metadata": {
            "tags": []
          },
          "execution_count": 18
        }
      ]
    },
    {
      "cell_type": "markdown",
      "metadata": {
        "id": "17rTElxnqQxJ"
      },
      "source": [
        "Разобьём выборку на обучение и контроль по времени."
      ]
    },
    {
      "cell_type": "code",
      "metadata": {
        "_cell_guid": "e594a5ef-255a-4d30-9ab2-7cebe12fe798",
        "_uuid": "babda61be5306281b34422dbded67675a0aab17d",
        "id": "ZrK0kgemqQxJ",
        "outputId": "7a297ffa-6883-43dc-dbf5-421f7ea939b3",
        "colab": {
          "base_uri": "https://localhost:8080/"
        }
      },
      "source": [
        "from sklearn.model_selection import train_test_split\n",
        "\n",
        "split_ts = 1475519530\n",
        "interactions_train_df = interactions_full_df.loc[interactions_full_df.last_timestamp < split_ts].copy()\n",
        "interactions_test_df = interactions_full_df.loc[interactions_full_df.last_timestamp >= split_ts].copy()\n",
        "\n",
        "print('# interactions on Train set: %d' % len(interactions_train_df))\n",
        "print('# interactions on Test set: %d' % len(interactions_test_df))"
      ],
      "execution_count": 19,
      "outputs": [
        {
          "output_type": "stream",
          "text": [
            "# interactions on Train set: 29329\n",
            "# interactions on Test set: 9777\n"
          ],
          "name": "stdout"
        }
      ]
    },
    {
      "cell_type": "markdown",
      "metadata": {
        "id": "yOyOgs9WqQxJ"
      },
      "source": [
        "Также разбить данные можно не опираясь на временной фактор:\n",
        "```python\n",
        "interactions_train_df, interactions_test_df = train_test_split(interactions_full_df,\n",
        "                                                               stratify=interactions_full_df['personId'], \n",
        "                                                               test_size=0.25,\n",
        "                                                               random_state=42)\n",
        "\n",
        "```\n",
        "Как повлият такое разбиение на итоговый результат?"
      ]
    },
    {
      "cell_type": "markdown",
      "metadata": {
        "id": "YjG6ezrJqQxJ"
      },
      "source": [
        "Для удобства подсчёта качества запишем данные в формате, где строка соответствует пользователю, а столбцы будут истинными метками и предсказаниями в виде списков."
      ]
    },
    {
      "cell_type": "code",
      "metadata": {
        "id": "vEHhflxYqQxJ",
        "outputId": "41e623ca-863e-4fec-c1cd-274cdff95f65",
        "colab": {
          "base_uri": "https://localhost:8080/",
          "height": 111
        }
      },
      "source": [
        "interactions = (interactions_train_df\n",
        "                .groupby('personId')['contentId'].agg(lambda x: list(x))\n",
        "                .reset_index()\n",
        "                .rename(columns={'contentId': 'true_train'})\n",
        "                .set_index('personId'))\n",
        "\n",
        "interactions['true_test'] = (interactions_test_df\n",
        "                             .groupby('personId')['contentId']\n",
        "                             .agg(lambda x: list(x)))\n",
        "\n",
        "# Заполнение пропусков пустыми списками\n",
        "interactions.loc[pd.isnull(interactions.true_test), \n",
        "                'true_test'] = [list() for x \n",
        "                                in range(len(interactions.loc[pd.isnull(interactions.true_test), \n",
        "                                                              'true_test']))]\n",
        "\n",
        "interactions.head(1)"
      ],
      "execution_count": 20,
      "outputs": [
        {
          "output_type": "execute_result",
          "data": {
            "text/html": [
              "<div>\n",
              "<style scoped>\n",
              "    .dataframe tbody tr th:only-of-type {\n",
              "        vertical-align: middle;\n",
              "    }\n",
              "\n",
              "    .dataframe tbody tr th {\n",
              "        vertical-align: top;\n",
              "    }\n",
              "\n",
              "    .dataframe thead th {\n",
              "        text-align: right;\n",
              "    }\n",
              "</style>\n",
              "<table border=\"1\" class=\"dataframe\">\n",
              "  <thead>\n",
              "    <tr style=\"text-align: right;\">\n",
              "      <th></th>\n",
              "      <th>true_train</th>\n",
              "      <th>true_test</th>\n",
              "    </tr>\n",
              "    <tr>\n",
              "      <th>personId</th>\n",
              "      <th></th>\n",
              "      <th></th>\n",
              "    </tr>\n",
              "  </thead>\n",
              "  <tbody>\n",
              "    <tr>\n",
              "      <th>-1007001694607905623</th>\n",
              "      <td>[-5065077552540450930, -793729620925729327]</td>\n",
              "      <td>[-6623581327558800021, 1469580151036142903, 72...</td>\n",
              "    </tr>\n",
              "  </tbody>\n",
              "</table>\n",
              "</div>"
            ],
            "text/plain": [
              "                                                       true_train                                          true_test\n",
              "personId                                                                                                            \n",
              "-1007001694607905623  [-5065077552540450930, -793729620925729327]  [-6623581327558800021, 1469580151036142903, 72..."
            ]
          },
          "metadata": {
            "tags": []
          },
          "execution_count": 20
        }
      ]
    },
    {
      "cell_type": "markdown",
      "metadata": {
        "_cell_guid": "2fac2a15-cc5c-4f31-8818-8065b0d2dc16",
        "_uuid": "59dd2131949c4d7e801114bffc11fb439c930b4c",
        "id": "S9gp8bM2qQxK"
      },
      "source": [
        "## Часть 1: Baseline (модель по популярности)"
      ]
    },
    {
      "cell_type": "markdown",
      "metadata": {
        "id": "4dHdmDp-qQxK"
      },
      "source": [
        "Самой простой моделью рекомендаций (при этом достаточно сильной!) является модель, которая рекомендует наиболее популярные предметы. \n",
        "\n",
        "Реализуем её. Давайте считать, что рекомендуем мы по 10 материалов (такое ограничение на размер блока на сайте).\n",
        "\n",
        "Посчитаем популярность каждой статьи, как сумму всех \"оценок\" взаимодействий с ней. Отсортируем материалы по их популярности."
      ]
    },
    {
      "cell_type": "code",
      "metadata": {
        "id": "-_nA6B-MkFmm",
        "outputId": "3b6bae05-c9e8-483b-eac4-130848a94c66",
        "colab": {
          "base_uri": "https://localhost:8080/"
        }
      },
      "source": [
        "interactions_train_df.groupby('contentId').eventStrength.sum()"
      ],
      "execution_count": 21,
      "outputs": [
        {
          "output_type": "execute_result",
          "data": {
            "text/plain": [
              "contentId\n",
              "-1006791494035379303    11.000000\n",
              "-1021685224930603833     9.754888\n",
              "-1022885988494278200    33.362218\n",
              "-1024046541613287684     4.169925\n",
              "-1033806831489252007    19.169925\n",
              "                          ...    \n",
              "957332268361319692      33.285050\n",
              "966067567430037498      20.262682\n",
              "972258375127367383       2.000000\n",
              "980458131533897249      34.246741\n",
              "98528655405030624        4.169925\n",
              "Name: eventStrength, Length: 2366, dtype: float64"
            ]
          },
          "metadata": {
            "tags": []
          },
          "execution_count": 21
        }
      ]
    },
    {
      "cell_type": "code",
      "metadata": {
        "id": "bO72Fx3kkUaJ",
        "outputId": "60f3c444-7f92-4811-aea8-078677366ab8",
        "colab": {
          "base_uri": "https://localhost:8080/",
          "height": 419
        }
      },
      "source": [
        "interactions_train_df.groupby('contentId').eventStrength.sum().reset_index()"
      ],
      "execution_count": 22,
      "outputs": [
        {
          "output_type": "execute_result",
          "data": {
            "text/html": [
              "<div>\n",
              "<style scoped>\n",
              "    .dataframe tbody tr th:only-of-type {\n",
              "        vertical-align: middle;\n",
              "    }\n",
              "\n",
              "    .dataframe tbody tr th {\n",
              "        vertical-align: top;\n",
              "    }\n",
              "\n",
              "    .dataframe thead th {\n",
              "        text-align: right;\n",
              "    }\n",
              "</style>\n",
              "<table border=\"1\" class=\"dataframe\">\n",
              "  <thead>\n",
              "    <tr style=\"text-align: right;\">\n",
              "      <th></th>\n",
              "      <th>contentId</th>\n",
              "      <th>eventStrength</th>\n",
              "    </tr>\n",
              "  </thead>\n",
              "  <tbody>\n",
              "    <tr>\n",
              "      <th>0</th>\n",
              "      <td>-1006791494035379303</td>\n",
              "      <td>11.000000</td>\n",
              "    </tr>\n",
              "    <tr>\n",
              "      <th>1</th>\n",
              "      <td>-1021685224930603833</td>\n",
              "      <td>9.754888</td>\n",
              "    </tr>\n",
              "    <tr>\n",
              "      <th>2</th>\n",
              "      <td>-1022885988494278200</td>\n",
              "      <td>33.362218</td>\n",
              "    </tr>\n",
              "    <tr>\n",
              "      <th>3</th>\n",
              "      <td>-1024046541613287684</td>\n",
              "      <td>4.169925</td>\n",
              "    </tr>\n",
              "    <tr>\n",
              "      <th>4</th>\n",
              "      <td>-1033806831489252007</td>\n",
              "      <td>19.169925</td>\n",
              "    </tr>\n",
              "    <tr>\n",
              "      <th>...</th>\n",
              "      <td>...</td>\n",
              "      <td>...</td>\n",
              "    </tr>\n",
              "    <tr>\n",
              "      <th>2361</th>\n",
              "      <td>957332268361319692</td>\n",
              "      <td>33.285050</td>\n",
              "    </tr>\n",
              "    <tr>\n",
              "      <th>2362</th>\n",
              "      <td>966067567430037498</td>\n",
              "      <td>20.262682</td>\n",
              "    </tr>\n",
              "    <tr>\n",
              "      <th>2363</th>\n",
              "      <td>972258375127367383</td>\n",
              "      <td>2.000000</td>\n",
              "    </tr>\n",
              "    <tr>\n",
              "      <th>2364</th>\n",
              "      <td>980458131533897249</td>\n",
              "      <td>34.246741</td>\n",
              "    </tr>\n",
              "    <tr>\n",
              "      <th>2365</th>\n",
              "      <td>98528655405030624</td>\n",
              "      <td>4.169925</td>\n",
              "    </tr>\n",
              "  </tbody>\n",
              "</table>\n",
              "<p>2366 rows × 2 columns</p>\n",
              "</div>"
            ],
            "text/plain": [
              "                 contentId  eventStrength\n",
              "0     -1006791494035379303      11.000000\n",
              "1     -1021685224930603833       9.754888\n",
              "2     -1022885988494278200      33.362218\n",
              "3     -1024046541613287684       4.169925\n",
              "4     -1033806831489252007      19.169925\n",
              "...                    ...            ...\n",
              "2361    957332268361319692      33.285050\n",
              "2362    966067567430037498      20.262682\n",
              "2363    972258375127367383       2.000000\n",
              "2364    980458131533897249      34.246741\n",
              "2365     98528655405030624       4.169925\n",
              "\n",
              "[2366 rows x 2 columns]"
            ]
          },
          "metadata": {
            "tags": []
          },
          "execution_count": 22
        }
      ]
    },
    {
      "cell_type": "code",
      "metadata": {
        "id": "BaAvM-SrkYnv",
        "outputId": "8ef09791-b241-41a6-fb9d-698daafd1965",
        "colab": {
          "base_uri": "https://localhost:8080/",
          "height": 419
        }
      },
      "source": [
        "interactions_train_df.groupby('contentId').eventStrength.sum().reset_index().sort_values('eventStrength', ascending=False)"
      ],
      "execution_count": 23,
      "outputs": [
        {
          "output_type": "execute_result",
          "data": {
            "text/html": [
              "<div>\n",
              "<style scoped>\n",
              "    .dataframe tbody tr th:only-of-type {\n",
              "        vertical-align: middle;\n",
              "    }\n",
              "\n",
              "    .dataframe tbody tr th {\n",
              "        vertical-align: top;\n",
              "    }\n",
              "\n",
              "    .dataframe thead th {\n",
              "        text-align: right;\n",
              "    }\n",
              "</style>\n",
              "<table border=\"1\" class=\"dataframe\">\n",
              "  <thead>\n",
              "    <tr style=\"text-align: right;\">\n",
              "      <th></th>\n",
              "      <th>contentId</th>\n",
              "      <th>eventStrength</th>\n",
              "    </tr>\n",
              "  </thead>\n",
              "  <tbody>\n",
              "    <tr>\n",
              "      <th>805</th>\n",
              "      <td>-6783772548752091658</td>\n",
              "      <td>231.177195</td>\n",
              "    </tr>\n",
              "    <tr>\n",
              "      <th>43</th>\n",
              "      <td>-133139342397538859</td>\n",
              "      <td>228.024567</td>\n",
              "    </tr>\n",
              "    <tr>\n",
              "      <th>1002</th>\n",
              "      <td>-8208801367848627943</td>\n",
              "      <td>189.937683</td>\n",
              "    </tr>\n",
              "    <tr>\n",
              "      <th>2211</th>\n",
              "      <td>8224860111193157980</td>\n",
              "      <td>186.044680</td>\n",
              "    </tr>\n",
              "    <tr>\n",
              "      <th>2111</th>\n",
              "      <td>7507067965574797372</td>\n",
              "      <td>179.094002</td>\n",
              "    </tr>\n",
              "    <tr>\n",
              "      <th>...</th>\n",
              "      <td>...</td>\n",
              "      <td>...</td>\n",
              "    </tr>\n",
              "    <tr>\n",
              "      <th>1982</th>\n",
              "      <td>6569723785655740276</td>\n",
              "      <td>1.000000</td>\n",
              "    </tr>\n",
              "    <tr>\n",
              "      <th>1368</th>\n",
              "      <td>2335028422423709400</td>\n",
              "      <td>1.000000</td>\n",
              "    </tr>\n",
              "    <tr>\n",
              "      <th>1942</th>\n",
              "      <td>6240076106289531207</td>\n",
              "      <td>1.000000</td>\n",
              "    </tr>\n",
              "    <tr>\n",
              "      <th>1980</th>\n",
              "      <td>6541551984368289722</td>\n",
              "      <td>1.000000</td>\n",
              "    </tr>\n",
              "    <tr>\n",
              "      <th>2048</th>\n",
              "      <td>7083316110921342538</td>\n",
              "      <td>1.000000</td>\n",
              "    </tr>\n",
              "  </tbody>\n",
              "</table>\n",
              "<p>2366 rows × 2 columns</p>\n",
              "</div>"
            ],
            "text/plain": [
              "                 contentId  eventStrength\n",
              "805   -6783772548752091658     231.177195\n",
              "43     -133139342397538859     228.024567\n",
              "1002  -8208801367848627943     189.937683\n",
              "2211   8224860111193157980     186.044680\n",
              "2111   7507067965574797372     179.094002\n",
              "...                    ...            ...\n",
              "1982   6569723785655740276       1.000000\n",
              "1368   2335028422423709400       1.000000\n",
              "1942   6240076106289531207       1.000000\n",
              "1980   6541551984368289722       1.000000\n",
              "2048   7083316110921342538       1.000000\n",
              "\n",
              "[2366 rows x 2 columns]"
            ]
          },
          "metadata": {
            "tags": []
          },
          "execution_count": 23
        }
      ]
    },
    {
      "cell_type": "code",
      "metadata": {
        "id": "4QJlz_JaqQxK"
      },
      "source": [
        "popular_content = (interactions_train_df\n",
        "                   .groupby('contentId')\n",
        "                   .eventStrength.sum().reset_index()\n",
        "                   .sort_values('eventStrength', ascending=False)\n",
        "                   .contentId.values)"
      ],
      "execution_count": 24,
      "outputs": []
    },
    {
      "cell_type": "code",
      "metadata": {
        "id": "kxVmdoFvqQxL",
        "outputId": "d519c001-7ea9-4893-922a-e4d66b7586c8",
        "colab": {
          "base_uri": "https://localhost:8080/"
        }
      },
      "source": [
        "print(articles_df.loc[articles_df.contentId == popular_content[2]]['title'].values)"
      ],
      "execution_count": 25,
      "outputs": [
        {
          "output_type": "stream",
          "text": [
            "[\"Ray Kurzweil: The world isn't getting worse - our information is getting better\"]\n"
          ],
          "name": "stdout"
        }
      ]
    },
    {
      "cell_type": "code",
      "metadata": {
        "id": "hqGaYKbQqQxL",
        "outputId": "619a2594-88f2-4776-992d-b3730ad274ba",
        "colab": {
          "base_uri": "https://localhost:8080/"
        }
      },
      "source": [
        "print(articles_df.loc[articles_df.contentId == popular_content[2363]]['title'].values)"
      ],
      "execution_count": 26,
      "outputs": [
        {
          "output_type": "stream",
          "text": [
            "['Sunset Blvd. (1950)']\n"
          ],
          "name": "stdout"
        }
      ]
    },
    {
      "cell_type": "markdown",
      "metadata": {
        "id": "D65fW3kGqQxL"
      },
      "source": [
        "Теперь необходимо сделать предсказания для каждого пользователя. Не забываем, что надо рекомендовать то, что пользователь ещё не читал (для этого нужно проверить, что материал не встречался в true_train)."
      ]
    },
    {
      "cell_type": "code",
      "metadata": {
        "id": "Nq5OeuGWqQxL"
      },
      "source": [
        "top_k = 10\n",
        "\n",
        "interactions['prediction_popular'] = (interactions.true_train\n",
        "                                      .apply(lambda x: popular_content[~np.in1d(popular_content, \n",
        "                                                                                x)][:top_k]))\n",
        "\n",
        "# np.in1d(popular_content, x) — проверяем, читал ли пользователь ранее данную статью"
      ],
      "execution_count": 27,
      "outputs": []
    },
    {
      "cell_type": "code",
      "metadata": {
        "id": "NEoZ92Y1k9c4",
        "outputId": "1a36cb89-a89b-485c-abc0-bf1ad1fbd7f7",
        "colab": {
          "base_uri": "https://localhost:8080/"
        }
      },
      "source": [
        "interactions['prediction_popular']"
      ],
      "execution_count": 28,
      "outputs": [
        {
          "output_type": "execute_result",
          "data": {
            "text/plain": [
              "personId\n",
              "-1007001694607905623    [-6783772548752091658, -133139342397538859, -8...\n",
              "-1032019229384696495    [-6783772548752091658, -133139342397538859, -8...\n",
              "-108842214936804958     [-6783772548752091658, -8208801367848627943, 8...\n",
              "-1130272294246983140    [-133139342397538859, -8208801367848627943, 82...\n",
              "-1160159014793528221    [-6783772548752091658, -8208801367848627943, 8...\n",
              "                                              ...                        \n",
              "953707509720613429      [-133139342397538859, -8208801367848627943, 82...\n",
              "983095443598229476      [-6783772548752091658, -8208801367848627943, 8...\n",
              "989049974880576288      [-6783772548752091658, -8208801367848627943, 8...\n",
              "997469202936578234      [-6783772548752091658, -133139342397538859, -8...\n",
              "998688566268269815      [-6783772548752091658, -133139342397538859, -8...\n",
              "Name: prediction_popular, Length: 1112, dtype: object"
            ]
          },
          "metadata": {
            "tags": []
          },
          "execution_count": 28
        }
      ]
    },
    {
      "cell_type": "markdown",
      "metadata": {
        "id": "u6VMmcGkqQxM"
      },
      "source": [
        "Настало время оценить качество. Посчитаем  `precision@10` для каждого пользователя (доля угаданных рекомендаций). Усредним по всем пользователям. Везде далее будем считать эту же метрику."
      ]
    },
    {
      "cell_type": "code",
      "metadata": {
        "id": "11da-NKoqQxM"
      },
      "source": [
        "def calc_precision(column):\n",
        "    return (interactions.apply(lambda row:\n",
        "                               len(set(row['true_test']).intersection(set(row[column]))) /\n",
        "                               min(len(row['true_test']) + 0.001, 10.0), \n",
        "                               axis=1)).mean()\n"
      ],
      "execution_count": 29,
      "outputs": []
    },
    {
      "cell_type": "code",
      "metadata": {
        "id": "48Epiu1sqQxM",
        "outputId": "bc625eef-9457-44d1-f1de-c4f970aa95a2",
        "colab": {
          "base_uri": "https://localhost:8080/"
        }
      },
      "source": [
        "calc_precision('prediction_popular')"
      ],
      "execution_count": 30,
      "outputs": [
        {
          "output_type": "execute_result",
          "data": {
            "text/plain": [
              "0.006454207722621084"
            ]
          },
          "metadata": {
            "tags": []
          },
          "execution_count": 30
        }
      ]
    },
    {
      "cell_type": "markdown",
      "metadata": {
        "id": "O7nlYgJwqQxM"
      },
      "source": [
        "## Часть 2. Коллаборативная фильтрация."
      ]
    },
    {
      "cell_type": "markdown",
      "metadata": {
        "id": "3DJGVppyqQxM"
      },
      "source": [
        "Перейдём к более сложному механизму рекомендаций, а именно коллаборативной фильтрации. Суть коллаборативной фильтрации в том, что учитывается схожесть пользователей и товаров между собой, а не факторы, которые их описывают. \n",
        "\n",
        "Для начала для удобства составим матрицу \"оценок\" пользователей. Нули будут обозначать отсутствие взаимодействия."
      ]
    },
    {
      "cell_type": "code",
      "metadata": {
        "id": "E29n5bpQqQxN"
      },
      "source": [
        "ratings = pd.pivot_table(interactions_train_df,\n",
        "                         values='eventStrength',\n",
        "                         index='personId',\n",
        "                         columns='contentId').fillna(0)"
      ],
      "execution_count": 31,
      "outputs": []
    },
    {
      "cell_type": "code",
      "metadata": {
        "id": "viriUheK21xf",
        "outputId": "40d86305-e7c2-47f3-cfc6-17a44fff7de2",
        "colab": {
          "base_uri": "https://localhost:8080/",
          "height": 470
        }
      },
      "source": [
        "ratings"
      ],
      "execution_count": 32,
      "outputs": [
        {
          "output_type": "execute_result",
          "data": {
            "text/html": [
              "<div>\n",
              "<style scoped>\n",
              "    .dataframe tbody tr th:only-of-type {\n",
              "        vertical-align: middle;\n",
              "    }\n",
              "\n",
              "    .dataframe tbody tr th {\n",
              "        vertical-align: top;\n",
              "    }\n",
              "\n",
              "    .dataframe thead th {\n",
              "        text-align: right;\n",
              "    }\n",
              "</style>\n",
              "<table border=\"1\" class=\"dataframe\">\n",
              "  <thead>\n",
              "    <tr style=\"text-align: right;\">\n",
              "      <th>contentId</th>\n",
              "      <th>-1006791494035379303</th>\n",
              "      <th>-1021685224930603833</th>\n",
              "      <th>-1022885988494278200</th>\n",
              "      <th>-1024046541613287684</th>\n",
              "      <th>-1033806831489252007</th>\n",
              "      <th>-1038011342017850</th>\n",
              "      <th>-1039912738963181810</th>\n",
              "      <th>-1046621686880462790</th>\n",
              "      <th>-1051830303851697653</th>\n",
              "      <th>-1055630159212837930</th>\n",
              "      <th>-1060990524105135617</th>\n",
              "      <th>-1068603220639552685</th>\n",
              "      <th>-1073835383506921412</th>\n",
              "      <th>-1081723567492738167</th>\n",
              "      <th>-1088742830039453732</th>\n",
              "      <th>-1101832997669013246</th>\n",
              "      <th>-1111518890369033396</th>\n",
              "      <th>-1114438937697017987</th>\n",
              "      <th>-1119244241345534741</th>\n",
              "      <th>-1123543351704082417</th>\n",
              "      <th>-1124738136890721085</th>\n",
              "      <th>-1137602700803601559</th>\n",
              "      <th>-1150591229250318592</th>\n",
              "      <th>-1151034582628982912</th>\n",
              "      <th>-1165347641456093580</th>\n",
              "      <th>-1172724258904585136</th>\n",
              "      <th>-1178371721262103855</th>\n",
              "      <th>-1192619987285372590</th>\n",
              "      <th>-1196068832249300490</th>\n",
              "      <th>-1199490911632553070</th>\n",
              "      <th>-1219115668721807817</th>\n",
              "      <th>-1242702988593021334</th>\n",
              "      <th>-1249436522568155938</th>\n",
              "      <th>-1249582672736761858</th>\n",
              "      <th>-1254906787526072320</th>\n",
              "      <th>-1255189867397298842</th>\n",
              "      <th>-1257839697539084047</th>\n",
              "      <th>-1287202638861144684</th>\n",
              "      <th>-1291869519847635026</th>\n",
              "      <th>-1297580205670251233</th>\n",
              "      <th>...</th>\n",
              "      <th>9028580484484026894</th>\n",
              "      <th>9032993320407723266</th>\n",
              "      <th>9033884391004475493</th>\n",
              "      <th>90383487344892230</th>\n",
              "      <th>9038543365726770177</th>\n",
              "      <th>9042192299854648021</th>\n",
              "      <th>9054050762437897017</th>\n",
              "      <th>9060231864899459154</th>\n",
              "      <th>9079880752026843473</th>\n",
              "      <th>9091641298512813712</th>\n",
              "      <th>909703879562824170</th>\n",
              "      <th>910894669274456978</th>\n",
              "      <th>911037455259135591</th>\n",
              "      <th>9112765177685685246</th>\n",
              "      <th>9121100366909552616</th>\n",
              "      <th>9122627895188486603</th>\n",
              "      <th>91241469839881699</th>\n",
              "      <th>9124439338148818380</th>\n",
              "      <th>9128267824356972069</th>\n",
              "      <th>9136323715291453594</th>\n",
              "      <th>914293752636521893</th>\n",
              "      <th>9151634133568930081</th>\n",
              "      <th>9168028029170358424</th>\n",
              "      <th>9175693555063886126</th>\n",
              "      <th>9178250635927683</th>\n",
              "      <th>9191014301634017491</th>\n",
              "      <th>9207286802575546269</th>\n",
              "      <th>9208127165664287660</th>\n",
              "      <th>9209629151177723638</th>\n",
              "      <th>9215261273565326920</th>\n",
              "      <th>9217155070834564627</th>\n",
              "      <th>921770761777842242</th>\n",
              "      <th>9220445660318725468</th>\n",
              "      <th>9222265156747237864</th>\n",
              "      <th>943818026930898372</th>\n",
              "      <th>957332268361319692</th>\n",
              "      <th>966067567430037498</th>\n",
              "      <th>972258375127367383</th>\n",
              "      <th>980458131533897249</th>\n",
              "      <th>98528655405030624</th>\n",
              "    </tr>\n",
              "    <tr>\n",
              "      <th>personId</th>\n",
              "      <th></th>\n",
              "      <th></th>\n",
              "      <th></th>\n",
              "      <th></th>\n",
              "      <th></th>\n",
              "      <th></th>\n",
              "      <th></th>\n",
              "      <th></th>\n",
              "      <th></th>\n",
              "      <th></th>\n",
              "      <th></th>\n",
              "      <th></th>\n",
              "      <th></th>\n",
              "      <th></th>\n",
              "      <th></th>\n",
              "      <th></th>\n",
              "      <th></th>\n",
              "      <th></th>\n",
              "      <th></th>\n",
              "      <th></th>\n",
              "      <th></th>\n",
              "      <th></th>\n",
              "      <th></th>\n",
              "      <th></th>\n",
              "      <th></th>\n",
              "      <th></th>\n",
              "      <th></th>\n",
              "      <th></th>\n",
              "      <th></th>\n",
              "      <th></th>\n",
              "      <th></th>\n",
              "      <th></th>\n",
              "      <th></th>\n",
              "      <th></th>\n",
              "      <th></th>\n",
              "      <th></th>\n",
              "      <th></th>\n",
              "      <th></th>\n",
              "      <th></th>\n",
              "      <th></th>\n",
              "      <th></th>\n",
              "      <th></th>\n",
              "      <th></th>\n",
              "      <th></th>\n",
              "      <th></th>\n",
              "      <th></th>\n",
              "      <th></th>\n",
              "      <th></th>\n",
              "      <th></th>\n",
              "      <th></th>\n",
              "      <th></th>\n",
              "      <th></th>\n",
              "      <th></th>\n",
              "      <th></th>\n",
              "      <th></th>\n",
              "      <th></th>\n",
              "      <th></th>\n",
              "      <th></th>\n",
              "      <th></th>\n",
              "      <th></th>\n",
              "      <th></th>\n",
              "      <th></th>\n",
              "      <th></th>\n",
              "      <th></th>\n",
              "      <th></th>\n",
              "      <th></th>\n",
              "      <th></th>\n",
              "      <th></th>\n",
              "      <th></th>\n",
              "      <th></th>\n",
              "      <th></th>\n",
              "      <th></th>\n",
              "      <th></th>\n",
              "      <th></th>\n",
              "      <th></th>\n",
              "      <th></th>\n",
              "      <th></th>\n",
              "      <th></th>\n",
              "      <th></th>\n",
              "      <th></th>\n",
              "      <th></th>\n",
              "    </tr>\n",
              "  </thead>\n",
              "  <tbody>\n",
              "    <tr>\n",
              "      <th>-1007001694607905623</th>\n",
              "      <td>0.0</td>\n",
              "      <td>0.0</td>\n",
              "      <td>0.0</td>\n",
              "      <td>0.0</td>\n",
              "      <td>0.0</td>\n",
              "      <td>0.0</td>\n",
              "      <td>0.0</td>\n",
              "      <td>0.0</td>\n",
              "      <td>0.0</td>\n",
              "      <td>0.0</td>\n",
              "      <td>0.0</td>\n",
              "      <td>0.0</td>\n",
              "      <td>0.0</td>\n",
              "      <td>0.0</td>\n",
              "      <td>0.0</td>\n",
              "      <td>0.0</td>\n",
              "      <td>0.0</td>\n",
              "      <td>0.000000</td>\n",
              "      <td>0.0</td>\n",
              "      <td>0.0</td>\n",
              "      <td>0.0</td>\n",
              "      <td>0.00000</td>\n",
              "      <td>0.0</td>\n",
              "      <td>0.0</td>\n",
              "      <td>0.0</td>\n",
              "      <td>0.0</td>\n",
              "      <td>0.0</td>\n",
              "      <td>0.0</td>\n",
              "      <td>0.000000</td>\n",
              "      <td>0.0</td>\n",
              "      <td>0.0</td>\n",
              "      <td>0.0</td>\n",
              "      <td>0.0</td>\n",
              "      <td>0.0</td>\n",
              "      <td>0.000000</td>\n",
              "      <td>0.0</td>\n",
              "      <td>0.0</td>\n",
              "      <td>0.0</td>\n",
              "      <td>0.0</td>\n",
              "      <td>0.0</td>\n",
              "      <td>...</td>\n",
              "      <td>0.0</td>\n",
              "      <td>0.0</td>\n",
              "      <td>0.0</td>\n",
              "      <td>0.0</td>\n",
              "      <td>0.0</td>\n",
              "      <td>0.0</td>\n",
              "      <td>0.0</td>\n",
              "      <td>0.0</td>\n",
              "      <td>0.0</td>\n",
              "      <td>0.0</td>\n",
              "      <td>0.0</td>\n",
              "      <td>0.000000</td>\n",
              "      <td>0.000000</td>\n",
              "      <td>0.0</td>\n",
              "      <td>0.0</td>\n",
              "      <td>0.000000</td>\n",
              "      <td>0.0</td>\n",
              "      <td>0.0</td>\n",
              "      <td>0.0</td>\n",
              "      <td>0.0</td>\n",
              "      <td>0.0</td>\n",
              "      <td>0.000000</td>\n",
              "      <td>0.0</td>\n",
              "      <td>0.0</td>\n",
              "      <td>0.0</td>\n",
              "      <td>0.0</td>\n",
              "      <td>0.000000</td>\n",
              "      <td>0.0</td>\n",
              "      <td>0.0</td>\n",
              "      <td>0.0</td>\n",
              "      <td>0.0</td>\n",
              "      <td>0.0</td>\n",
              "      <td>0.0</td>\n",
              "      <td>0.0</td>\n",
              "      <td>0.000000</td>\n",
              "      <td>0.0</td>\n",
              "      <td>0.0</td>\n",
              "      <td>0.0</td>\n",
              "      <td>0.0</td>\n",
              "      <td>0.0</td>\n",
              "    </tr>\n",
              "    <tr>\n",
              "      <th>-1032019229384696495</th>\n",
              "      <td>1.0</td>\n",
              "      <td>0.0</td>\n",
              "      <td>0.0</td>\n",
              "      <td>0.0</td>\n",
              "      <td>0.0</td>\n",
              "      <td>0.0</td>\n",
              "      <td>1.0</td>\n",
              "      <td>0.0</td>\n",
              "      <td>0.0</td>\n",
              "      <td>0.0</td>\n",
              "      <td>0.0</td>\n",
              "      <td>0.0</td>\n",
              "      <td>0.0</td>\n",
              "      <td>2.0</td>\n",
              "      <td>0.0</td>\n",
              "      <td>0.0</td>\n",
              "      <td>1.0</td>\n",
              "      <td>3.584963</td>\n",
              "      <td>0.0</td>\n",
              "      <td>0.0</td>\n",
              "      <td>0.0</td>\n",
              "      <td>2.70044</td>\n",
              "      <td>0.0</td>\n",
              "      <td>2.0</td>\n",
              "      <td>0.0</td>\n",
              "      <td>0.0</td>\n",
              "      <td>0.0</td>\n",
              "      <td>0.0</td>\n",
              "      <td>0.000000</td>\n",
              "      <td>0.0</td>\n",
              "      <td>0.0</td>\n",
              "      <td>0.0</td>\n",
              "      <td>0.0</td>\n",
              "      <td>1.0</td>\n",
              "      <td>2.321928</td>\n",
              "      <td>0.0</td>\n",
              "      <td>0.0</td>\n",
              "      <td>0.0</td>\n",
              "      <td>0.0</td>\n",
              "      <td>0.0</td>\n",
              "      <td>...</td>\n",
              "      <td>0.0</td>\n",
              "      <td>0.0</td>\n",
              "      <td>0.0</td>\n",
              "      <td>0.0</td>\n",
              "      <td>0.0</td>\n",
              "      <td>0.0</td>\n",
              "      <td>0.0</td>\n",
              "      <td>0.0</td>\n",
              "      <td>0.0</td>\n",
              "      <td>0.0</td>\n",
              "      <td>0.0</td>\n",
              "      <td>3.523562</td>\n",
              "      <td>2.321928</td>\n",
              "      <td>0.0</td>\n",
              "      <td>0.0</td>\n",
              "      <td>2.000000</td>\n",
              "      <td>0.0</td>\n",
              "      <td>0.0</td>\n",
              "      <td>0.0</td>\n",
              "      <td>0.0</td>\n",
              "      <td>0.0</td>\n",
              "      <td>2.169925</td>\n",
              "      <td>0.0</td>\n",
              "      <td>0.0</td>\n",
              "      <td>0.0</td>\n",
              "      <td>0.0</td>\n",
              "      <td>3.584963</td>\n",
              "      <td>0.0</td>\n",
              "      <td>2.0</td>\n",
              "      <td>0.0</td>\n",
              "      <td>3.0</td>\n",
              "      <td>0.0</td>\n",
              "      <td>0.0</td>\n",
              "      <td>0.0</td>\n",
              "      <td>2.321928</td>\n",
              "      <td>0.0</td>\n",
              "      <td>0.0</td>\n",
              "      <td>0.0</td>\n",
              "      <td>0.0</td>\n",
              "      <td>0.0</td>\n",
              "    </tr>\n",
              "    <tr>\n",
              "      <th>-108842214936804958</th>\n",
              "      <td>0.0</td>\n",
              "      <td>0.0</td>\n",
              "      <td>0.0</td>\n",
              "      <td>0.0</td>\n",
              "      <td>0.0</td>\n",
              "      <td>0.0</td>\n",
              "      <td>0.0</td>\n",
              "      <td>0.0</td>\n",
              "      <td>0.0</td>\n",
              "      <td>0.0</td>\n",
              "      <td>0.0</td>\n",
              "      <td>0.0</td>\n",
              "      <td>0.0</td>\n",
              "      <td>0.0</td>\n",
              "      <td>0.0</td>\n",
              "      <td>0.0</td>\n",
              "      <td>0.0</td>\n",
              "      <td>0.000000</td>\n",
              "      <td>0.0</td>\n",
              "      <td>0.0</td>\n",
              "      <td>0.0</td>\n",
              "      <td>0.00000</td>\n",
              "      <td>0.0</td>\n",
              "      <td>0.0</td>\n",
              "      <td>0.0</td>\n",
              "      <td>0.0</td>\n",
              "      <td>0.0</td>\n",
              "      <td>0.0</td>\n",
              "      <td>1.000000</td>\n",
              "      <td>0.0</td>\n",
              "      <td>0.0</td>\n",
              "      <td>0.0</td>\n",
              "      <td>0.0</td>\n",
              "      <td>0.0</td>\n",
              "      <td>0.000000</td>\n",
              "      <td>0.0</td>\n",
              "      <td>0.0</td>\n",
              "      <td>0.0</td>\n",
              "      <td>0.0</td>\n",
              "      <td>0.0</td>\n",
              "      <td>...</td>\n",
              "      <td>0.0</td>\n",
              "      <td>0.0</td>\n",
              "      <td>0.0</td>\n",
              "      <td>0.0</td>\n",
              "      <td>0.0</td>\n",
              "      <td>0.0</td>\n",
              "      <td>0.0</td>\n",
              "      <td>0.0</td>\n",
              "      <td>0.0</td>\n",
              "      <td>0.0</td>\n",
              "      <td>0.0</td>\n",
              "      <td>1.000000</td>\n",
              "      <td>0.000000</td>\n",
              "      <td>0.0</td>\n",
              "      <td>0.0</td>\n",
              "      <td>3.169925</td>\n",
              "      <td>0.0</td>\n",
              "      <td>1.0</td>\n",
              "      <td>0.0</td>\n",
              "      <td>0.0</td>\n",
              "      <td>0.0</td>\n",
              "      <td>0.000000</td>\n",
              "      <td>0.0</td>\n",
              "      <td>0.0</td>\n",
              "      <td>0.0</td>\n",
              "      <td>0.0</td>\n",
              "      <td>1.000000</td>\n",
              "      <td>0.0</td>\n",
              "      <td>0.0</td>\n",
              "      <td>0.0</td>\n",
              "      <td>0.0</td>\n",
              "      <td>0.0</td>\n",
              "      <td>0.0</td>\n",
              "      <td>0.0</td>\n",
              "      <td>0.000000</td>\n",
              "      <td>0.0</td>\n",
              "      <td>2.0</td>\n",
              "      <td>0.0</td>\n",
              "      <td>0.0</td>\n",
              "      <td>0.0</td>\n",
              "    </tr>\n",
              "    <tr>\n",
              "      <th>-1130272294246983140</th>\n",
              "      <td>0.0</td>\n",
              "      <td>0.0</td>\n",
              "      <td>0.0</td>\n",
              "      <td>0.0</td>\n",
              "      <td>0.0</td>\n",
              "      <td>0.0</td>\n",
              "      <td>0.0</td>\n",
              "      <td>0.0</td>\n",
              "      <td>0.0</td>\n",
              "      <td>0.0</td>\n",
              "      <td>0.0</td>\n",
              "      <td>0.0</td>\n",
              "      <td>0.0</td>\n",
              "      <td>0.0</td>\n",
              "      <td>0.0</td>\n",
              "      <td>0.0</td>\n",
              "      <td>0.0</td>\n",
              "      <td>0.000000</td>\n",
              "      <td>0.0</td>\n",
              "      <td>0.0</td>\n",
              "      <td>0.0</td>\n",
              "      <td>0.00000</td>\n",
              "      <td>1.0</td>\n",
              "      <td>0.0</td>\n",
              "      <td>0.0</td>\n",
              "      <td>0.0</td>\n",
              "      <td>0.0</td>\n",
              "      <td>0.0</td>\n",
              "      <td>2.321928</td>\n",
              "      <td>0.0</td>\n",
              "      <td>0.0</td>\n",
              "      <td>0.0</td>\n",
              "      <td>0.0</td>\n",
              "      <td>0.0</td>\n",
              "      <td>0.000000</td>\n",
              "      <td>0.0</td>\n",
              "      <td>0.0</td>\n",
              "      <td>0.0</td>\n",
              "      <td>0.0</td>\n",
              "      <td>0.0</td>\n",
              "      <td>...</td>\n",
              "      <td>0.0</td>\n",
              "      <td>0.0</td>\n",
              "      <td>0.0</td>\n",
              "      <td>0.0</td>\n",
              "      <td>0.0</td>\n",
              "      <td>0.0</td>\n",
              "      <td>0.0</td>\n",
              "      <td>0.0</td>\n",
              "      <td>2.0</td>\n",
              "      <td>0.0</td>\n",
              "      <td>0.0</td>\n",
              "      <td>0.000000</td>\n",
              "      <td>0.000000</td>\n",
              "      <td>0.0</td>\n",
              "      <td>0.0</td>\n",
              "      <td>0.000000</td>\n",
              "      <td>0.0</td>\n",
              "      <td>0.0</td>\n",
              "      <td>0.0</td>\n",
              "      <td>0.0</td>\n",
              "      <td>0.0</td>\n",
              "      <td>0.000000</td>\n",
              "      <td>0.0</td>\n",
              "      <td>0.0</td>\n",
              "      <td>0.0</td>\n",
              "      <td>0.0</td>\n",
              "      <td>0.000000</td>\n",
              "      <td>0.0</td>\n",
              "      <td>0.0</td>\n",
              "      <td>0.0</td>\n",
              "      <td>0.0</td>\n",
              "      <td>0.0</td>\n",
              "      <td>0.0</td>\n",
              "      <td>0.0</td>\n",
              "      <td>1.000000</td>\n",
              "      <td>0.0</td>\n",
              "      <td>0.0</td>\n",
              "      <td>0.0</td>\n",
              "      <td>0.0</td>\n",
              "      <td>0.0</td>\n",
              "    </tr>\n",
              "    <tr>\n",
              "      <th>-1160159014793528221</th>\n",
              "      <td>0.0</td>\n",
              "      <td>0.0</td>\n",
              "      <td>0.0</td>\n",
              "      <td>0.0</td>\n",
              "      <td>0.0</td>\n",
              "      <td>0.0</td>\n",
              "      <td>0.0</td>\n",
              "      <td>0.0</td>\n",
              "      <td>0.0</td>\n",
              "      <td>0.0</td>\n",
              "      <td>0.0</td>\n",
              "      <td>0.0</td>\n",
              "      <td>0.0</td>\n",
              "      <td>0.0</td>\n",
              "      <td>0.0</td>\n",
              "      <td>0.0</td>\n",
              "      <td>0.0</td>\n",
              "      <td>0.000000</td>\n",
              "      <td>0.0</td>\n",
              "      <td>0.0</td>\n",
              "      <td>0.0</td>\n",
              "      <td>0.00000</td>\n",
              "      <td>0.0</td>\n",
              "      <td>0.0</td>\n",
              "      <td>0.0</td>\n",
              "      <td>0.0</td>\n",
              "      <td>0.0</td>\n",
              "      <td>0.0</td>\n",
              "      <td>0.000000</td>\n",
              "      <td>0.0</td>\n",
              "      <td>0.0</td>\n",
              "      <td>0.0</td>\n",
              "      <td>0.0</td>\n",
              "      <td>0.0</td>\n",
              "      <td>0.000000</td>\n",
              "      <td>0.0</td>\n",
              "      <td>0.0</td>\n",
              "      <td>0.0</td>\n",
              "      <td>0.0</td>\n",
              "      <td>0.0</td>\n",
              "      <td>...</td>\n",
              "      <td>0.0</td>\n",
              "      <td>0.0</td>\n",
              "      <td>0.0</td>\n",
              "      <td>0.0</td>\n",
              "      <td>0.0</td>\n",
              "      <td>0.0</td>\n",
              "      <td>0.0</td>\n",
              "      <td>0.0</td>\n",
              "      <td>0.0</td>\n",
              "      <td>0.0</td>\n",
              "      <td>0.0</td>\n",
              "      <td>0.000000</td>\n",
              "      <td>0.000000</td>\n",
              "      <td>0.0</td>\n",
              "      <td>0.0</td>\n",
              "      <td>0.000000</td>\n",
              "      <td>0.0</td>\n",
              "      <td>0.0</td>\n",
              "      <td>0.0</td>\n",
              "      <td>0.0</td>\n",
              "      <td>0.0</td>\n",
              "      <td>0.000000</td>\n",
              "      <td>0.0</td>\n",
              "      <td>0.0</td>\n",
              "      <td>0.0</td>\n",
              "      <td>0.0</td>\n",
              "      <td>0.000000</td>\n",
              "      <td>0.0</td>\n",
              "      <td>0.0</td>\n",
              "      <td>0.0</td>\n",
              "      <td>0.0</td>\n",
              "      <td>0.0</td>\n",
              "      <td>0.0</td>\n",
              "      <td>0.0</td>\n",
              "      <td>0.000000</td>\n",
              "      <td>0.0</td>\n",
              "      <td>0.0</td>\n",
              "      <td>0.0</td>\n",
              "      <td>0.0</td>\n",
              "      <td>0.0</td>\n",
              "    </tr>\n",
              "    <tr>\n",
              "      <th>...</th>\n",
              "      <td>...</td>\n",
              "      <td>...</td>\n",
              "      <td>...</td>\n",
              "      <td>...</td>\n",
              "      <td>...</td>\n",
              "      <td>...</td>\n",
              "      <td>...</td>\n",
              "      <td>...</td>\n",
              "      <td>...</td>\n",
              "      <td>...</td>\n",
              "      <td>...</td>\n",
              "      <td>...</td>\n",
              "      <td>...</td>\n",
              "      <td>...</td>\n",
              "      <td>...</td>\n",
              "      <td>...</td>\n",
              "      <td>...</td>\n",
              "      <td>...</td>\n",
              "      <td>...</td>\n",
              "      <td>...</td>\n",
              "      <td>...</td>\n",
              "      <td>...</td>\n",
              "      <td>...</td>\n",
              "      <td>...</td>\n",
              "      <td>...</td>\n",
              "      <td>...</td>\n",
              "      <td>...</td>\n",
              "      <td>...</td>\n",
              "      <td>...</td>\n",
              "      <td>...</td>\n",
              "      <td>...</td>\n",
              "      <td>...</td>\n",
              "      <td>...</td>\n",
              "      <td>...</td>\n",
              "      <td>...</td>\n",
              "      <td>...</td>\n",
              "      <td>...</td>\n",
              "      <td>...</td>\n",
              "      <td>...</td>\n",
              "      <td>...</td>\n",
              "      <td>...</td>\n",
              "      <td>...</td>\n",
              "      <td>...</td>\n",
              "      <td>...</td>\n",
              "      <td>...</td>\n",
              "      <td>...</td>\n",
              "      <td>...</td>\n",
              "      <td>...</td>\n",
              "      <td>...</td>\n",
              "      <td>...</td>\n",
              "      <td>...</td>\n",
              "      <td>...</td>\n",
              "      <td>...</td>\n",
              "      <td>...</td>\n",
              "      <td>...</td>\n",
              "      <td>...</td>\n",
              "      <td>...</td>\n",
              "      <td>...</td>\n",
              "      <td>...</td>\n",
              "      <td>...</td>\n",
              "      <td>...</td>\n",
              "      <td>...</td>\n",
              "      <td>...</td>\n",
              "      <td>...</td>\n",
              "      <td>...</td>\n",
              "      <td>...</td>\n",
              "      <td>...</td>\n",
              "      <td>...</td>\n",
              "      <td>...</td>\n",
              "      <td>...</td>\n",
              "      <td>...</td>\n",
              "      <td>...</td>\n",
              "      <td>...</td>\n",
              "      <td>...</td>\n",
              "      <td>...</td>\n",
              "      <td>...</td>\n",
              "      <td>...</td>\n",
              "      <td>...</td>\n",
              "      <td>...</td>\n",
              "      <td>...</td>\n",
              "      <td>...</td>\n",
              "    </tr>\n",
              "    <tr>\n",
              "      <th>953707509720613429</th>\n",
              "      <td>0.0</td>\n",
              "      <td>0.0</td>\n",
              "      <td>0.0</td>\n",
              "      <td>0.0</td>\n",
              "      <td>0.0</td>\n",
              "      <td>0.0</td>\n",
              "      <td>0.0</td>\n",
              "      <td>0.0</td>\n",
              "      <td>0.0</td>\n",
              "      <td>0.0</td>\n",
              "      <td>0.0</td>\n",
              "      <td>2.0</td>\n",
              "      <td>0.0</td>\n",
              "      <td>0.0</td>\n",
              "      <td>0.0</td>\n",
              "      <td>0.0</td>\n",
              "      <td>0.0</td>\n",
              "      <td>0.000000</td>\n",
              "      <td>0.0</td>\n",
              "      <td>0.0</td>\n",
              "      <td>0.0</td>\n",
              "      <td>0.00000</td>\n",
              "      <td>0.0</td>\n",
              "      <td>0.0</td>\n",
              "      <td>0.0</td>\n",
              "      <td>0.0</td>\n",
              "      <td>0.0</td>\n",
              "      <td>0.0</td>\n",
              "      <td>0.000000</td>\n",
              "      <td>0.0</td>\n",
              "      <td>0.0</td>\n",
              "      <td>0.0</td>\n",
              "      <td>0.0</td>\n",
              "      <td>0.0</td>\n",
              "      <td>0.000000</td>\n",
              "      <td>0.0</td>\n",
              "      <td>0.0</td>\n",
              "      <td>0.0</td>\n",
              "      <td>0.0</td>\n",
              "      <td>0.0</td>\n",
              "      <td>...</td>\n",
              "      <td>0.0</td>\n",
              "      <td>0.0</td>\n",
              "      <td>0.0</td>\n",
              "      <td>0.0</td>\n",
              "      <td>0.0</td>\n",
              "      <td>0.0</td>\n",
              "      <td>0.0</td>\n",
              "      <td>0.0</td>\n",
              "      <td>0.0</td>\n",
              "      <td>0.0</td>\n",
              "      <td>0.0</td>\n",
              "      <td>0.000000</td>\n",
              "      <td>0.000000</td>\n",
              "      <td>0.0</td>\n",
              "      <td>0.0</td>\n",
              "      <td>0.000000</td>\n",
              "      <td>0.0</td>\n",
              "      <td>0.0</td>\n",
              "      <td>0.0</td>\n",
              "      <td>0.0</td>\n",
              "      <td>0.0</td>\n",
              "      <td>0.000000</td>\n",
              "      <td>0.0</td>\n",
              "      <td>0.0</td>\n",
              "      <td>0.0</td>\n",
              "      <td>0.0</td>\n",
              "      <td>0.000000</td>\n",
              "      <td>0.0</td>\n",
              "      <td>0.0</td>\n",
              "      <td>0.0</td>\n",
              "      <td>0.0</td>\n",
              "      <td>0.0</td>\n",
              "      <td>0.0</td>\n",
              "      <td>0.0</td>\n",
              "      <td>0.000000</td>\n",
              "      <td>0.0</td>\n",
              "      <td>0.0</td>\n",
              "      <td>0.0</td>\n",
              "      <td>0.0</td>\n",
              "      <td>0.0</td>\n",
              "    </tr>\n",
              "    <tr>\n",
              "      <th>983095443598229476</th>\n",
              "      <td>0.0</td>\n",
              "      <td>0.0</td>\n",
              "      <td>0.0</td>\n",
              "      <td>0.0</td>\n",
              "      <td>0.0</td>\n",
              "      <td>0.0</td>\n",
              "      <td>0.0</td>\n",
              "      <td>0.0</td>\n",
              "      <td>0.0</td>\n",
              "      <td>0.0</td>\n",
              "      <td>0.0</td>\n",
              "      <td>0.0</td>\n",
              "      <td>0.0</td>\n",
              "      <td>0.0</td>\n",
              "      <td>0.0</td>\n",
              "      <td>0.0</td>\n",
              "      <td>0.0</td>\n",
              "      <td>0.000000</td>\n",
              "      <td>0.0</td>\n",
              "      <td>0.0</td>\n",
              "      <td>0.0</td>\n",
              "      <td>0.00000</td>\n",
              "      <td>0.0</td>\n",
              "      <td>0.0</td>\n",
              "      <td>0.0</td>\n",
              "      <td>0.0</td>\n",
              "      <td>0.0</td>\n",
              "      <td>0.0</td>\n",
              "      <td>0.000000</td>\n",
              "      <td>0.0</td>\n",
              "      <td>0.0</td>\n",
              "      <td>0.0</td>\n",
              "      <td>0.0</td>\n",
              "      <td>0.0</td>\n",
              "      <td>0.000000</td>\n",
              "      <td>0.0</td>\n",
              "      <td>0.0</td>\n",
              "      <td>0.0</td>\n",
              "      <td>0.0</td>\n",
              "      <td>0.0</td>\n",
              "      <td>...</td>\n",
              "      <td>0.0</td>\n",
              "      <td>0.0</td>\n",
              "      <td>0.0</td>\n",
              "      <td>0.0</td>\n",
              "      <td>0.0</td>\n",
              "      <td>0.0</td>\n",
              "      <td>0.0</td>\n",
              "      <td>0.0</td>\n",
              "      <td>0.0</td>\n",
              "      <td>0.0</td>\n",
              "      <td>0.0</td>\n",
              "      <td>0.000000</td>\n",
              "      <td>0.000000</td>\n",
              "      <td>0.0</td>\n",
              "      <td>0.0</td>\n",
              "      <td>0.000000</td>\n",
              "      <td>0.0</td>\n",
              "      <td>0.0</td>\n",
              "      <td>0.0</td>\n",
              "      <td>0.0</td>\n",
              "      <td>0.0</td>\n",
              "      <td>0.000000</td>\n",
              "      <td>0.0</td>\n",
              "      <td>0.0</td>\n",
              "      <td>0.0</td>\n",
              "      <td>0.0</td>\n",
              "      <td>0.000000</td>\n",
              "      <td>0.0</td>\n",
              "      <td>0.0</td>\n",
              "      <td>0.0</td>\n",
              "      <td>0.0</td>\n",
              "      <td>0.0</td>\n",
              "      <td>0.0</td>\n",
              "      <td>0.0</td>\n",
              "      <td>0.000000</td>\n",
              "      <td>0.0</td>\n",
              "      <td>0.0</td>\n",
              "      <td>0.0</td>\n",
              "      <td>0.0</td>\n",
              "      <td>0.0</td>\n",
              "    </tr>\n",
              "    <tr>\n",
              "      <th>989049974880576288</th>\n",
              "      <td>0.0</td>\n",
              "      <td>0.0</td>\n",
              "      <td>0.0</td>\n",
              "      <td>0.0</td>\n",
              "      <td>0.0</td>\n",
              "      <td>0.0</td>\n",
              "      <td>0.0</td>\n",
              "      <td>0.0</td>\n",
              "      <td>0.0</td>\n",
              "      <td>0.0</td>\n",
              "      <td>0.0</td>\n",
              "      <td>0.0</td>\n",
              "      <td>0.0</td>\n",
              "      <td>0.0</td>\n",
              "      <td>0.0</td>\n",
              "      <td>0.0</td>\n",
              "      <td>0.0</td>\n",
              "      <td>0.000000</td>\n",
              "      <td>0.0</td>\n",
              "      <td>0.0</td>\n",
              "      <td>0.0</td>\n",
              "      <td>0.00000</td>\n",
              "      <td>0.0</td>\n",
              "      <td>0.0</td>\n",
              "      <td>0.0</td>\n",
              "      <td>0.0</td>\n",
              "      <td>0.0</td>\n",
              "      <td>0.0</td>\n",
              "      <td>0.000000</td>\n",
              "      <td>0.0</td>\n",
              "      <td>0.0</td>\n",
              "      <td>0.0</td>\n",
              "      <td>0.0</td>\n",
              "      <td>0.0</td>\n",
              "      <td>0.000000</td>\n",
              "      <td>0.0</td>\n",
              "      <td>0.0</td>\n",
              "      <td>0.0</td>\n",
              "      <td>0.0</td>\n",
              "      <td>0.0</td>\n",
              "      <td>...</td>\n",
              "      <td>0.0</td>\n",
              "      <td>0.0</td>\n",
              "      <td>0.0</td>\n",
              "      <td>0.0</td>\n",
              "      <td>0.0</td>\n",
              "      <td>0.0</td>\n",
              "      <td>0.0</td>\n",
              "      <td>0.0</td>\n",
              "      <td>0.0</td>\n",
              "      <td>0.0</td>\n",
              "      <td>0.0</td>\n",
              "      <td>0.000000</td>\n",
              "      <td>0.000000</td>\n",
              "      <td>0.0</td>\n",
              "      <td>0.0</td>\n",
              "      <td>0.000000</td>\n",
              "      <td>0.0</td>\n",
              "      <td>0.0</td>\n",
              "      <td>0.0</td>\n",
              "      <td>0.0</td>\n",
              "      <td>0.0</td>\n",
              "      <td>0.000000</td>\n",
              "      <td>0.0</td>\n",
              "      <td>0.0</td>\n",
              "      <td>0.0</td>\n",
              "      <td>0.0</td>\n",
              "      <td>0.000000</td>\n",
              "      <td>0.0</td>\n",
              "      <td>0.0</td>\n",
              "      <td>0.0</td>\n",
              "      <td>0.0</td>\n",
              "      <td>0.0</td>\n",
              "      <td>0.0</td>\n",
              "      <td>0.0</td>\n",
              "      <td>0.000000</td>\n",
              "      <td>0.0</td>\n",
              "      <td>0.0</td>\n",
              "      <td>0.0</td>\n",
              "      <td>0.0</td>\n",
              "      <td>0.0</td>\n",
              "    </tr>\n",
              "    <tr>\n",
              "      <th>997469202936578234</th>\n",
              "      <td>0.0</td>\n",
              "      <td>0.0</td>\n",
              "      <td>0.0</td>\n",
              "      <td>0.0</td>\n",
              "      <td>0.0</td>\n",
              "      <td>0.0</td>\n",
              "      <td>0.0</td>\n",
              "      <td>0.0</td>\n",
              "      <td>0.0</td>\n",
              "      <td>0.0</td>\n",
              "      <td>0.0</td>\n",
              "      <td>0.0</td>\n",
              "      <td>0.0</td>\n",
              "      <td>0.0</td>\n",
              "      <td>0.0</td>\n",
              "      <td>0.0</td>\n",
              "      <td>0.0</td>\n",
              "      <td>0.000000</td>\n",
              "      <td>0.0</td>\n",
              "      <td>0.0</td>\n",
              "      <td>0.0</td>\n",
              "      <td>0.00000</td>\n",
              "      <td>0.0</td>\n",
              "      <td>0.0</td>\n",
              "      <td>0.0</td>\n",
              "      <td>0.0</td>\n",
              "      <td>0.0</td>\n",
              "      <td>0.0</td>\n",
              "      <td>0.000000</td>\n",
              "      <td>0.0</td>\n",
              "      <td>0.0</td>\n",
              "      <td>0.0</td>\n",
              "      <td>0.0</td>\n",
              "      <td>0.0</td>\n",
              "      <td>0.000000</td>\n",
              "      <td>0.0</td>\n",
              "      <td>0.0</td>\n",
              "      <td>0.0</td>\n",
              "      <td>0.0</td>\n",
              "      <td>0.0</td>\n",
              "      <td>...</td>\n",
              "      <td>0.0</td>\n",
              "      <td>0.0</td>\n",
              "      <td>0.0</td>\n",
              "      <td>0.0</td>\n",
              "      <td>0.0</td>\n",
              "      <td>0.0</td>\n",
              "      <td>0.0</td>\n",
              "      <td>0.0</td>\n",
              "      <td>0.0</td>\n",
              "      <td>0.0</td>\n",
              "      <td>0.0</td>\n",
              "      <td>0.000000</td>\n",
              "      <td>0.000000</td>\n",
              "      <td>2.0</td>\n",
              "      <td>0.0</td>\n",
              "      <td>0.000000</td>\n",
              "      <td>0.0</td>\n",
              "      <td>0.0</td>\n",
              "      <td>0.0</td>\n",
              "      <td>0.0</td>\n",
              "      <td>0.0</td>\n",
              "      <td>0.000000</td>\n",
              "      <td>0.0</td>\n",
              "      <td>0.0</td>\n",
              "      <td>0.0</td>\n",
              "      <td>0.0</td>\n",
              "      <td>0.000000</td>\n",
              "      <td>0.0</td>\n",
              "      <td>0.0</td>\n",
              "      <td>0.0</td>\n",
              "      <td>0.0</td>\n",
              "      <td>0.0</td>\n",
              "      <td>0.0</td>\n",
              "      <td>0.0</td>\n",
              "      <td>0.000000</td>\n",
              "      <td>0.0</td>\n",
              "      <td>0.0</td>\n",
              "      <td>0.0</td>\n",
              "      <td>0.0</td>\n",
              "      <td>0.0</td>\n",
              "    </tr>\n",
              "    <tr>\n",
              "      <th>998688566268269815</th>\n",
              "      <td>0.0</td>\n",
              "      <td>0.0</td>\n",
              "      <td>0.0</td>\n",
              "      <td>0.0</td>\n",
              "      <td>0.0</td>\n",
              "      <td>0.0</td>\n",
              "      <td>0.0</td>\n",
              "      <td>0.0</td>\n",
              "      <td>0.0</td>\n",
              "      <td>0.0</td>\n",
              "      <td>0.0</td>\n",
              "      <td>0.0</td>\n",
              "      <td>0.0</td>\n",
              "      <td>0.0</td>\n",
              "      <td>0.0</td>\n",
              "      <td>0.0</td>\n",
              "      <td>0.0</td>\n",
              "      <td>0.000000</td>\n",
              "      <td>0.0</td>\n",
              "      <td>0.0</td>\n",
              "      <td>0.0</td>\n",
              "      <td>0.00000</td>\n",
              "      <td>0.0</td>\n",
              "      <td>0.0</td>\n",
              "      <td>0.0</td>\n",
              "      <td>0.0</td>\n",
              "      <td>0.0</td>\n",
              "      <td>0.0</td>\n",
              "      <td>0.000000</td>\n",
              "      <td>0.0</td>\n",
              "      <td>0.0</td>\n",
              "      <td>0.0</td>\n",
              "      <td>0.0</td>\n",
              "      <td>0.0</td>\n",
              "      <td>0.000000</td>\n",
              "      <td>1.0</td>\n",
              "      <td>0.0</td>\n",
              "      <td>0.0</td>\n",
              "      <td>0.0</td>\n",
              "      <td>0.0</td>\n",
              "      <td>...</td>\n",
              "      <td>0.0</td>\n",
              "      <td>0.0</td>\n",
              "      <td>0.0</td>\n",
              "      <td>0.0</td>\n",
              "      <td>0.0</td>\n",
              "      <td>0.0</td>\n",
              "      <td>0.0</td>\n",
              "      <td>0.0</td>\n",
              "      <td>0.0</td>\n",
              "      <td>0.0</td>\n",
              "      <td>0.0</td>\n",
              "      <td>0.000000</td>\n",
              "      <td>0.000000</td>\n",
              "      <td>0.0</td>\n",
              "      <td>0.0</td>\n",
              "      <td>0.000000</td>\n",
              "      <td>0.0</td>\n",
              "      <td>0.0</td>\n",
              "      <td>0.0</td>\n",
              "      <td>0.0</td>\n",
              "      <td>0.0</td>\n",
              "      <td>0.000000</td>\n",
              "      <td>0.0</td>\n",
              "      <td>0.0</td>\n",
              "      <td>0.0</td>\n",
              "      <td>0.0</td>\n",
              "      <td>0.000000</td>\n",
              "      <td>0.0</td>\n",
              "      <td>0.0</td>\n",
              "      <td>0.0</td>\n",
              "      <td>0.0</td>\n",
              "      <td>0.0</td>\n",
              "      <td>0.0</td>\n",
              "      <td>0.0</td>\n",
              "      <td>0.000000</td>\n",
              "      <td>0.0</td>\n",
              "      <td>0.0</td>\n",
              "      <td>0.0</td>\n",
              "      <td>0.0</td>\n",
              "      <td>0.0</td>\n",
              "    </tr>\n",
              "  </tbody>\n",
              "</table>\n",
              "<p>1112 rows × 2366 columns</p>\n",
              "</div>"
            ],
            "text/plain": [
              "contentId             -1006791494035379303  ...  98528655405030624\n",
              "personId                                    ...                   \n",
              "-1007001694607905623                   0.0  ...                0.0\n",
              "-1032019229384696495                   1.0  ...                0.0\n",
              "-108842214936804958                    0.0  ...                0.0\n",
              "-1130272294246983140                   0.0  ...                0.0\n",
              "-1160159014793528221                   0.0  ...                0.0\n",
              "...                                    ...  ...                ...\n",
              "953707509720613429                     0.0  ...                0.0\n",
              "983095443598229476                     0.0  ...                0.0\n",
              "989049974880576288                     0.0  ...                0.0\n",
              "997469202936578234                     0.0  ...                0.0\n",
              "998688566268269815                     0.0  ...                0.0\n",
              "\n",
              "[1112 rows x 2366 columns]"
            ]
          },
          "metadata": {
            "tags": []
          },
          "execution_count": 32
        }
      ]
    },
    {
      "cell_type": "markdown",
      "metadata": {
        "id": "vJQ3jqasqQxN"
      },
      "source": [
        "### Memory-based"
      ]
    },
    {
      "cell_type": "markdown",
      "metadata": {
        "id": "tQGifAEiqQxN"
      },
      "source": [
        "Посчитаем схожести пользователей с помощью корреляции Пирсона. Для каждой пары учитываем только ненулевые значения.\n",
        "\n",
        "Для скорости работы лучше переходить от pandas к numpy."
      ]
    },
    {
      "cell_type": "code",
      "metadata": {
        "id": "pt1p9MyaqQxN"
      },
      "source": [
        "ratings_m = ratings.values"
      ],
      "execution_count": 33,
      "outputs": []
    },
    {
      "cell_type": "code",
      "metadata": {
        "id": "PjgEka7n3Dyd",
        "outputId": "aec6d6a3-e92f-407b-fad2-f480c579976f",
        "colab": {
          "base_uri": "https://localhost:8080/"
        }
      },
      "source": [
        "ratings_m"
      ],
      "execution_count": 34,
      "outputs": [
        {
          "output_type": "execute_result",
          "data": {
            "text/plain": [
              "array([[0., 0., 0., ..., 0., 0., 0.],\n",
              "       [1., 0., 0., ..., 0., 0., 0.],\n",
              "       [0., 0., 0., ..., 0., 0., 0.],\n",
              "       ...,\n",
              "       [0., 0., 0., ..., 0., 0., 0.],\n",
              "       [0., 0., 0., ..., 0., 0., 0.],\n",
              "       [0., 0., 0., ..., 0., 0., 0.]])"
            ]
          },
          "metadata": {
            "tags": []
          },
          "execution_count": 34
        }
      ]
    },
    {
      "cell_type": "code",
      "metadata": {
        "id": "j4FEpNbkqQxO",
        "outputId": "4da3644a-3ec6-443c-f029-45a9d6458972",
        "colab": {
          "base_uri": "https://localhost:8080/",
          "height": 117,
          "referenced_widgets": [
            "d62cabef5d72459d9d4484ccb9534fa8",
            "4d83f88aa2ad40018a5ed7559b587ac9",
            "cd206f15a00f4f7a93a418e329e2290b",
            "1ba26868d63e4e6c9af81a6987d737b7",
            "635f46975915439aac16a6c2cee5b21f",
            "7763e82cf7bc47cd825522ba3d4e60c3",
            "2429799dafa84f35a91400a852004821",
            "80d9bf23656947a5a604a83c989fe193"
          ]
        }
      },
      "source": [
        "# Зададим матрицу схожести W\n",
        "similarity_users = np.zeros((len(ratings_m), len(ratings_m)))\n",
        "\n",
        "for i in tqdm_notebook(range(len(ratings_m) - 1)):\n",
        "    for j in range(i + 1, len(ratings_m)):\n",
        "        # Проверяем, что для обоих пользователей, есть хотя бы какие-то оценки по одним и тем же айтемам\n",
        "        mask_uv = (ratings_m[i] != 0) & (ratings_m[j] != 0)\n",
        "        if np.sum(mask_uv) == 0:\n",
        "            continue\n",
        "        \n",
        "        # get nonzero elements\n",
        "        ratings_v = ratings_m[i, mask_uv]\n",
        "        ratings_u = ratings_m[j, mask_uv]\n",
        "        \n",
        "        # for nonzero std\n",
        "        if len(np.unique(ratings_v)) < 2 or len(np.unique(ratings_u)) < 2:\n",
        "            continue\n",
        "       \n",
        "        similarity_users[i,j] = np.corrcoef(ratings_v, ratings_u)[0, 1]\n",
        "        similarity_users[j,i] = similarity_users[i,j]"
      ],
      "execution_count": 35,
      "outputs": [
        {
          "output_type": "stream",
          "text": [
            "/usr/local/lib/python3.7/dist-packages/ipykernel_launcher.py:4: TqdmDeprecationWarning: This function will be removed in tqdm==5.0.0\n",
            "Please use `tqdm.notebook.tqdm` instead of `tqdm.tqdm_notebook`\n",
            "  after removing the cwd from sys.path.\n"
          ],
          "name": "stderr"
        },
        {
          "output_type": "display_data",
          "data": {
            "application/vnd.jupyter.widget-view+json": {
              "model_id": "d62cabef5d72459d9d4484ccb9534fa8",
              "version_minor": 0,
              "version_major": 2
            },
            "text/plain": [
              "HBox(children=(FloatProgress(value=0.0, max=1111.0), HTML(value='')))"
            ]
          },
          "metadata": {
            "tags": []
          }
        },
        {
          "output_type": "stream",
          "text": [
            "\n"
          ],
          "name": "stdout"
        }
      ]
    },
    {
      "cell_type": "code",
      "metadata": {
        "id": "FvjjqvZP5YY6",
        "outputId": "70647875-a94b-4280-df4c-114a831ccb27",
        "colab": {
          "base_uri": "https://localhost:8080/"
        }
      },
      "source": [
        "similarity_users"
      ],
      "execution_count": 36,
      "outputs": [
        {
          "output_type": "execute_result",
          "data": {
            "text/plain": [
              "array([[ 0.        ,  0.        ,  0.        , ...,  0.        ,\n",
              "         0.        ,  0.        ],\n",
              "       [ 0.        ,  0.        ,  0.41742881, ..., -0.82922103,\n",
              "         0.        ,  0.        ],\n",
              "       [ 0.        ,  0.41742881,  0.        , ..., -1.        ,\n",
              "         0.        ,  0.        ],\n",
              "       ...,\n",
              "       [ 0.        , -0.82922103, -1.        , ...,  0.        ,\n",
              "         0.        ,  0.        ],\n",
              "       [ 0.        ,  0.        ,  0.        , ...,  0.        ,\n",
              "         0.        ,  0.        ],\n",
              "       [ 0.        ,  0.        ,  0.        , ...,  0.        ,\n",
              "         0.        ,  0.        ]])"
            ]
          },
          "metadata": {
            "tags": []
          },
          "execution_count": 36
        }
      ]
    },
    {
      "cell_type": "markdown",
      "metadata": {
        "id": "i5hVpYHqqQxO"
      },
      "source": [
        "Теперь у нас есть матрицы схожести пользователей. Их можно использовать для рекомендаций.\n",
        "\n",
        "Для каждого пользователя:\n",
        "\n",
        "1. Найдём пользователей с похожестью больше $\\alpha$ на нашего пользователя.\n",
        "2. Посчитаем для каждой статьи долю пользователей (среди выделенных на первом шаге), которые взаимодействовали со статьёй.\n",
        "3. Порекомендуем статьи с наибольшими долями со второго шага (среди тех, которые пользователь ещё не видел).\n",
        "\n",
        "В нашем примере данных не очень много, поэтому возьмём $\\alpha = 0$.\n",
        "\n",
        "После того, как будут сделаны предсказания (новый столбец в interactions), посчитаем качество по той же метрике."
      ]
    },
    {
      "cell_type": "code",
      "metadata": {
        "id": "I3QQw7__qQxO",
        "outputId": "56ccdae1-4765-4f76-87a0-04015ef84603",
        "colab": {
          "base_uri": "https://localhost:8080/",
          "height": 171,
          "referenced_widgets": [
            "ba320f8496424ca8aef4d22136662ad7",
            "dffe203f079d408dabf8a62ac98be481",
            "8c1735b0a532456784e164ed2c05d062",
            "929eef3eb5994c8e94a1dafccf4ee5e2",
            "80a58c557510409ea0ae902f3449673e",
            "d5f4901c2c4f417b8a83a32d5c2828e3",
            "70e498aade694597bf54152d9eed3699",
            "43840be7283945639dc0ee4a61b30392"
          ]
        }
      },
      "source": [
        "prediction_user_based = []\n",
        "alpha = 0\n",
        "\n",
        "for i in tqdm_notebook(range(len(similarity_users))):\n",
        "    users_sim = similarity_users[i] > alpha\n",
        "    if len(users_sim) == 0:\n",
        "        prediction_user_based.append([])\n",
        "    else:\n",
        "        tmp_recommend = np.argsort(ratings_m[users_sim].sum(axis=0))[::-1]\n",
        "        tmp_recommend = ratings.columns[tmp_recommend]\n",
        "        recommend = np.array(tmp_recommend)[~np.in1d(tmp_recommend, interactions.iloc[i])][:10]\n",
        "        prediction_user_based.append(list(recommend))\n",
        "\n",
        "interactions['prediction_user_based'] = prediction_user_based"
      ],
      "execution_count": 37,
      "outputs": [
        {
          "output_type": "stream",
          "text": [
            "/usr/local/lib/python3.7/dist-packages/ipykernel_launcher.py:4: TqdmDeprecationWarning: This function will be removed in tqdm==5.0.0\n",
            "Please use `tqdm.notebook.tqdm` instead of `tqdm.tqdm_notebook`\n",
            "  after removing the cwd from sys.path.\n"
          ],
          "name": "stderr"
        },
        {
          "output_type": "display_data",
          "data": {
            "application/vnd.jupyter.widget-view+json": {
              "model_id": "ba320f8496424ca8aef4d22136662ad7",
              "version_minor": 0,
              "version_major": 2
            },
            "text/plain": [
              "HBox(children=(FloatProgress(value=0.0, max=1112.0), HTML(value='')))"
            ]
          },
          "metadata": {
            "tags": []
          }
        },
        {
          "output_type": "stream",
          "text": [
            "/usr/local/lib/python3.7/dist-packages/numpy/lib/arraysetops.py:580: FutureWarning: elementwise comparison failed; returning scalar instead, but in the future will perform elementwise comparison\n",
            "  mask |= (ar1 == a)\n"
          ],
          "name": "stderr"
        },
        {
          "output_type": "stream",
          "text": [
            "\n"
          ],
          "name": "stdout"
        }
      ]
    },
    {
      "cell_type": "code",
      "metadata": {
        "id": "kfydUos3qQxO",
        "outputId": "fc7ec39c-3def-47b2-d5c5-a65bbf260b7c",
        "colab": {
          "base_uri": "https://localhost:8080/"
        }
      },
      "source": [
        "calc_precision('prediction_user_based')"
      ],
      "execution_count": 38,
      "outputs": [
        {
          "output_type": "execute_result",
          "data": {
            "text/plain": [
              "0.003541692918885617"
            ]
          },
          "metadata": {
            "tags": []
          },
          "execution_count": 38
        }
      ]
    },
    {
      "cell_type": "markdown",
      "metadata": {
        "id": "HZyig2VtqQxO"
      },
      "source": [
        "### Модель со скрытыми переменными"
      ]
    },
    {
      "cell_type": "markdown",
      "metadata": {
        "id": "hRHrAO2MqQxP"
      },
      "source": [
        "Реализуем подход с разложением матрицы оценок. Для этого сделаем сингулярное разложение (svd в scipy.linalg), на выходе вы получите три матрицы.\n",
        "\n",
        "Заметим, что мы используем матрицу с нулями, будто отсутствующие взаимодействия негативные, что странно.\n",
        "\n",
        "Если бы мы учили модель со скрытыми переменными с помощью стохастического градиентного спуска, то неизвестные взаимодействия могли бы не использовать."
      ]
    },
    {
      "cell_type": "code",
      "metadata": {
        "id": "Ml5CNWMcqQxP"
      },
      "source": [
        "from scipy.linalg import svd"
      ],
      "execution_count": 39,
      "outputs": []
    },
    {
      "cell_type": "code",
      "metadata": {
        "id": "fsHBlscWqQxP",
        "outputId": "85efd394-be48-4c48-b8ad-845db20c57e0",
        "colab": {
          "base_uri": "https://localhost:8080/"
        }
      },
      "source": [
        "U, sigma, V = svd(ratings)\n",
        "print(ratings.shape, U.shape, sigma.shape, V.shape)"
      ],
      "execution_count": 41,
      "outputs": [
        {
          "output_type": "stream",
          "text": [
            "(1112, 2366) (1112, 1112) (1112,) (2366, 2366)\n"
          ],
          "name": "stdout"
        }
      ]
    },
    {
      "cell_type": "code",
      "metadata": {
        "id": "biDdB7dBqQxP",
        "outputId": "aa6de1be-84a8-46b8-b05f-7f4e95b5fc76",
        "colab": {
          "base_uri": "https://localhost:8080/"
        }
      },
      "source": [
        "Sigma = np.zeros((1112, 2366))\n",
        "Sigma[:1112, :1112] = np.diag(sigma)\n",
        "\n",
        "new_ratings = U.dot(Sigma).dot(V)\n",
        "print(sum(sum((new_ratings - ratings.values) ** 2)))"
      ],
      "execution_count": 43,
      "outputs": [
        {
          "output_type": "stream",
          "text": [
            "1.0049074409063946e-24\n"
          ],
          "name": "stdout"
        }
      ]
    },
    {
      "cell_type": "markdown",
      "metadata": {
        "id": "KlPfBjSiqQxP"
      },
      "source": [
        "Значения у матрицы с сингулярными числами отсортированы по убыванию. Допустим мы хотим оставить только первые 100 компонент (и получить скрытые представления размерности 100). Для этого необходимо оставить 100 столбцов в матрице U, оставить из sigma только первые 100 значений (и сделать из них диагональную матрицу) и 100 столбцов в матрице V. Перемножим преобразованные матрицы ($\\hat{U}, \\hat{sigma}, \\hat{V^T}$), чтобы получить восстановленную матрицу оценок."
      ]
    },
    {
      "cell_type": "code",
      "metadata": {
        "id": "KriYvUs2qQxP"
      },
      "source": [
        "K = 100\n",
        "\n",
        "sigma[K:] = 0\n",
        "Sigma = np.zeros((1112, 2366))\n",
        "Sigma[:1112, :1112] = np.diag(sigma)"
      ],
      "execution_count": 44,
      "outputs": []
    },
    {
      "cell_type": "markdown",
      "metadata": {
        "id": "HdNNtwUTqQxQ"
      },
      "source": [
        "Посчитаем качество аппроксимации матрицы по норме Фробениуса (среднеквадратичную ошибку между всеми элементами соответствующими элементами двух матриц). Сравним его с простым бейзлайном с константным значением, равным среднему значению исходной матрицы. У аппроксимации ошибка должна получиться ниже."
      ]
    },
    {
      "cell_type": "code",
      "metadata": {
        "id": "CL8w_5q-qQxQ",
        "outputId": "085adcca-02db-497c-894d-b9a34233ea55",
        "colab": {
          "base_uri": "https://localhost:8080/"
        }
      },
      "source": [
        "new_ratings = U.dot(Sigma).dot(V)\n",
        "print(sum(sum((new_ratings - ratings.values) ** 2)))\n",
        "print(sum(sum((ratings.values.mean() - ratings.values) ** 2)))"
      ],
      "execution_count": 45,
      "outputs": [
        {
          "output_type": "stream",
          "text": [
            "25843.424898912766\n",
            "78622.13000466056\n"
          ],
          "name": "stdout"
        }
      ]
    },
    {
      "cell_type": "markdown",
      "metadata": {
        "id": "Ediwmw6aqQxQ"
      },
      "source": [
        "Теперь можно делать предсказания по матрице. Сделаем их (не забываем про то, что уже было просмотрено пользователем), оценим качество. Для этого необходимо для каждого пользователя найти предметы с наибольшими оценками в восстановленной матрице."
      ]
    },
    {
      "cell_type": "code",
      "metadata": {
        "id": "Gd1gBXFnqQxQ",
        "outputId": "a3a3f948-d263-473f-c3c7-61111e312001",
        "colab": {
          "base_uri": "https://localhost:8080/",
          "height": 117,
          "referenced_widgets": [
            "676903eae47943ba889bf58ece3d9f75",
            "48c3b774b24c4d6e9937463cccb48e4b",
            "68ceef0fdd364de5a4d5a320c8e1f248",
            "1a74d78eb7d5408186b144fa19e186ff",
            "6a8c11d40d17452a933f80e2a6ecbe09",
            "3cb5c1a2c9b64e63af94ca984d2e4f72",
            "62d1fc031ae04a9386966807534fd928",
            "68227e5e953342aca3e22ccde40cadcf"
          ]
        }
      },
      "source": [
        "new_ratings = pd.DataFrame(new_ratings, index=ratings.index, columns=ratings.columns)\n",
        "\n",
        "predictions = []\n",
        "\n",
        "for personId in tqdm_notebook(interactions.index):\n",
        "    prediction = (new_ratings\n",
        "                  .loc[personId]\n",
        "                  .sort_values(ascending=False)\n",
        "                  .index.values)\n",
        "    \n",
        "    predictions.append(list(prediction[~np.in1d(prediction,\n",
        "                                                interactions.loc[personId, 'true_train'])])[:top_k])\n",
        "\n",
        "interactions['prediction_svd'] = predictions"
      ],
      "execution_count": 46,
      "outputs": [
        {
          "output_type": "stream",
          "text": [
            "/usr/local/lib/python3.7/dist-packages/ipykernel_launcher.py:5: TqdmDeprecationWarning: This function will be removed in tqdm==5.0.0\n",
            "Please use `tqdm.notebook.tqdm` instead of `tqdm.tqdm_notebook`\n",
            "  \"\"\"\n"
          ],
          "name": "stderr"
        },
        {
          "output_type": "display_data",
          "data": {
            "application/vnd.jupyter.widget-view+json": {
              "model_id": "676903eae47943ba889bf58ece3d9f75",
              "version_minor": 0,
              "version_major": 2
            },
            "text/plain": [
              "HBox(children=(FloatProgress(value=0.0, max=1112.0), HTML(value='')))"
            ]
          },
          "metadata": {
            "tags": []
          }
        },
        {
          "output_type": "stream",
          "text": [
            "\n"
          ],
          "name": "stdout"
        }
      ]
    },
    {
      "cell_type": "code",
      "metadata": {
        "scrolled": true,
        "id": "KT0YB-IfqQxQ",
        "outputId": "c19c977a-9a5c-43eb-b703-488f5b3f88dd",
        "colab": {
          "base_uri": "https://localhost:8080/"
        }
      },
      "source": [
        "calc_precision('prediction_svd')"
      ],
      "execution_count": 47,
      "outputs": [
        {
          "output_type": "execute_result",
          "data": {
            "text/plain": [
              "0.012212989310270754"
            ]
          },
          "metadata": {
            "tags": []
          },
          "execution_count": 47
        }
      ]
    },
    {
      "cell_type": "markdown",
      "metadata": {
        "id": "9S6Fo-6eqQxQ"
      },
      "source": [
        "## Часть 3. Контентные  модели"
      ]
    },
    {
      "cell_type": "markdown",
      "metadata": {
        "id": "zmOEsxYvqQxQ"
      },
      "source": [
        "В этой части реализуем альтернативный подход к рекомендательным системам — контентные модели."
      ]
    },
    {
      "cell_type": "markdown",
      "metadata": {
        "id": "SvejoC7lqQxR"
      },
      "source": [
        "Теперь мы будем оперировать не матрицей с оценками, а классической для машинного обучения матрицей объекты-признаки. Каждый объект будет характеризовать пару user-item и содержать признаки, описывающие как пользователя, так и товар. Кроме этого признаки могут описывать и саму пару целиком.\n",
        "\n",
        "Матрица со всеми взаимодействиями уже получена нами на этапа разбиения выборки на 2 части. \n",
        "\n",
        "Будем обучать классификатор на взаимодействие, а для него нужны отрицательные примеры. Добавим случайные отсутствующие взаимодействия как отрицательные.\n",
        "\n",
        "Заметим, что модель оценивает каждую пару потенциального взаимодействия, а значит, надо подготовить выборку из всех возможных пар из пользователей и статей."
      ]
    },
    {
      "cell_type": "code",
      "metadata": {
        "id": "6m19IyDpqQxR"
      },
      "source": [
        "test_personId = np.repeat(interactions.index, len(ratings.columns)) \n",
        "test_contentId = list(ratings.columns) * len(interactions)\n",
        "test = pd.DataFrame(np.array([test_personId, test_contentId]).T,\n",
        "                    columns=['personId', 'contentId'])\n",
        "\n",
        "interactions_train_df = pd.concat((interactions_train_df,\n",
        "                                   test.loc[np.random.permutation(test.index)[:4*len(interactions_train_df)]]), \n",
        "                                   ignore_index=True)\n",
        "\n",
        "interactions_train_df.eventStrength.fillna(0, inplace=True)"
      ],
      "execution_count": 48,
      "outputs": []
    },
    {
      "cell_type": "markdown",
      "metadata": {
        "id": "LNwTsDduqQxR"
      },
      "source": [
        "Придумаем и добавим признаков о пользователях и статьях. Сначала добавим информацию о статьях в данные о взаимодействиях."
      ]
    },
    {
      "cell_type": "code",
      "metadata": {
        "id": "F9j8uOZqqQxR"
      },
      "source": [
        "interactions_train_df = interactions_train_df.merge(articles_df, how='left', on='contentId')\n",
        "interactions_test_df = interactions_test_df.merge(articles_df, how='left', on='contentId')"
      ],
      "execution_count": 49,
      "outputs": []
    },
    {
      "cell_type": "code",
      "metadata": {
        "id": "tLdw-jVZqQxR"
      },
      "source": [
        "# first feature index\n",
        "features_start = len(interactions_train_df.columns)"
      ],
      "execution_count": 50,
      "outputs": []
    },
    {
      "cell_type": "markdown",
      "metadata": {
        "id": "M5CnlZ3lqQxR"
      },
      "source": [
        "После обучения модели нам придётся делать предсказания на тестовой выборке для всех возможных пар статья-пользователь. Подготовим такую матрицу, чтобы параллельно посчитать признаки для неё."
      ]
    },
    {
      "cell_type": "code",
      "metadata": {
        "id": "GaGfk0xyqQxR",
        "outputId": "401a28b8-ae51-4e94-d31f-a5844c161b52",
        "colab": {
          "base_uri": "https://localhost:8080/",
          "height": 598
        }
      },
      "source": [
        "test_personId = np.repeat(interactions.index, len(articles_df)) \n",
        "test_contentId = list(articles_df.contentId) * len(interactions)\n",
        "test = pd.DataFrame(np.array([test_personId, test_contentId]).T,\n",
        "                    columns=['personId', 'contentId'])\n",
        "test = test.merge(articles_df, how='left', on='contentId')\n",
        "\n",
        "test.head()"
      ],
      "execution_count": 51,
      "outputs": [
        {
          "output_type": "execute_result",
          "data": {
            "text/html": [
              "<div>\n",
              "<style scoped>\n",
              "    .dataframe tbody tr th:only-of-type {\n",
              "        vertical-align: middle;\n",
              "    }\n",
              "\n",
              "    .dataframe tbody tr th {\n",
              "        vertical-align: top;\n",
              "    }\n",
              "\n",
              "    .dataframe thead th {\n",
              "        text-align: right;\n",
              "    }\n",
              "</style>\n",
              "<table border=\"1\" class=\"dataframe\">\n",
              "  <thead>\n",
              "    <tr style=\"text-align: right;\">\n",
              "      <th></th>\n",
              "      <th>personId</th>\n",
              "      <th>contentId</th>\n",
              "      <th>timestamp</th>\n",
              "      <th>eventType</th>\n",
              "      <th>authorPersonId</th>\n",
              "      <th>authorSessionId</th>\n",
              "      <th>authorUserAgent</th>\n",
              "      <th>authorRegion</th>\n",
              "      <th>authorCountry</th>\n",
              "      <th>contentType</th>\n",
              "      <th>url</th>\n",
              "      <th>title</th>\n",
              "      <th>text</th>\n",
              "      <th>lang</th>\n",
              "    </tr>\n",
              "  </thead>\n",
              "  <tbody>\n",
              "    <tr>\n",
              "      <th>0</th>\n",
              "      <td>-1007001694607905623</td>\n",
              "      <td>-4110354420726924665</td>\n",
              "      <td>1459193988</td>\n",
              "      <td>CONTENT SHARED</td>\n",
              "      <td>4340306774493623681</td>\n",
              "      <td>8940341205206233829</td>\n",
              "      <td>NaN</td>\n",
              "      <td>NaN</td>\n",
              "      <td>NaN</td>\n",
              "      <td>HTML</td>\n",
              "      <td>http://www.nytimes.com/2016/03/28/business/dea...</td>\n",
              "      <td>Ethereum, a Virtual Currency, Enables Transact...</td>\n",
              "      <td>All of this work is still very early. The firs...</td>\n",
              "      <td>en</td>\n",
              "    </tr>\n",
              "    <tr>\n",
              "      <th>1</th>\n",
              "      <td>-1007001694607905623</td>\n",
              "      <td>-7292285110016212249</td>\n",
              "      <td>1459194146</td>\n",
              "      <td>CONTENT SHARED</td>\n",
              "      <td>4340306774493623681</td>\n",
              "      <td>8940341205206233829</td>\n",
              "      <td>NaN</td>\n",
              "      <td>NaN</td>\n",
              "      <td>NaN</td>\n",
              "      <td>HTML</td>\n",
              "      <td>http://cointelegraph.com/news/bitcoin-future-w...</td>\n",
              "      <td>Bitcoin Future: When GBPcoin of Branson Wins O...</td>\n",
              "      <td>The alarm clock wakes me at 8:00 with stream o...</td>\n",
              "      <td>en</td>\n",
              "    </tr>\n",
              "    <tr>\n",
              "      <th>2</th>\n",
              "      <td>-1007001694607905623</td>\n",
              "      <td>-6151852268067518688</td>\n",
              "      <td>1459194474</td>\n",
              "      <td>CONTENT SHARED</td>\n",
              "      <td>3891637997717104548</td>\n",
              "      <td>-1457532940883382585</td>\n",
              "      <td>NaN</td>\n",
              "      <td>NaN</td>\n",
              "      <td>NaN</td>\n",
              "      <td>HTML</td>\n",
              "      <td>https://cloudplatform.googleblog.com/2016/03/G...</td>\n",
              "      <td>Google Data Center 360° Tour</td>\n",
              "      <td>We're excited to share the Google Data Center ...</td>\n",
              "      <td>en</td>\n",
              "    </tr>\n",
              "    <tr>\n",
              "      <th>3</th>\n",
              "      <td>-1007001694607905623</td>\n",
              "      <td>2448026894306402386</td>\n",
              "      <td>1459194497</td>\n",
              "      <td>CONTENT SHARED</td>\n",
              "      <td>4340306774493623681</td>\n",
              "      <td>8940341205206233829</td>\n",
              "      <td>NaN</td>\n",
              "      <td>NaN</td>\n",
              "      <td>NaN</td>\n",
              "      <td>HTML</td>\n",
              "      <td>https://bitcoinmagazine.com/articles/ibm-wants...</td>\n",
              "      <td>IBM Wants to \"Evolve the Internet\" With Blockc...</td>\n",
              "      <td>The Aite Group projects the blockchain market ...</td>\n",
              "      <td>en</td>\n",
              "    </tr>\n",
              "    <tr>\n",
              "      <th>4</th>\n",
              "      <td>-1007001694607905623</td>\n",
              "      <td>-2826566343807132236</td>\n",
              "      <td>1459194522</td>\n",
              "      <td>CONTENT SHARED</td>\n",
              "      <td>4340306774493623681</td>\n",
              "      <td>8940341205206233829</td>\n",
              "      <td>NaN</td>\n",
              "      <td>NaN</td>\n",
              "      <td>NaN</td>\n",
              "      <td>HTML</td>\n",
              "      <td>http://www.coindesk.com/ieee-blockchain-oxford...</td>\n",
              "      <td>IEEE to Talk Blockchain at Cloud Computing Oxf...</td>\n",
              "      <td>One of the largest and oldest organizations fo...</td>\n",
              "      <td>en</td>\n",
              "    </tr>\n",
              "  </tbody>\n",
              "</table>\n",
              "</div>"
            ],
            "text/plain": [
              "               personId  ... lang\n",
              "0  -1007001694607905623  ...   en\n",
              "1  -1007001694607905623  ...   en\n",
              "2  -1007001694607905623  ...   en\n",
              "3  -1007001694607905623  ...   en\n",
              "4  -1007001694607905623  ...   en\n",
              "\n",
              "[5 rows x 14 columns]"
            ]
          },
          "metadata": {
            "tags": []
          },
          "execution_count": 51
        }
      ]
    },
    {
      "cell_type": "markdown",
      "metadata": {
        "id": "PIteDguAqQxS"
      },
      "source": [
        "Добавим признаки-индикаторы возможных значений contentType."
      ]
    },
    {
      "cell_type": "code",
      "metadata": {
        "id": "0M_O53EjqQxS"
      },
      "source": [
        "interactions_train_df['is_HTML'] = interactions_train_df.contentType == 'HTML'\n",
        "interactions_train_df['is_RICH'] = interactions_train_df.contentType == 'RICH'\n",
        "interactions_train_df['is_VIDEO'] = interactions_train_df.contentType == 'VIDEO'\n",
        "\n",
        "test['is_HTML'] = test.contentType == 'HTML'\n",
        "test['is_RICH'] = test.contentType == 'RICH'\n",
        "test['is_VIDEO'] = test.contentType == 'VIDEO'"
      ],
      "execution_count": 52,
      "outputs": []
    },
    {
      "cell_type": "markdown",
      "metadata": {
        "id": "ThJ0YfEyqQxS"
      },
      "source": [
        "Добавим признаки \"длина названия\" и \"длина текста\" + некоторые проверки на ключевые слова."
      ]
    },
    {
      "cell_type": "code",
      "metadata": {
        "id": "uK6U_dq8qQxS"
      },
      "source": [
        "interactions_train_df['title_length'] = interactions_train_df.title.fillna('').apply(len)\n",
        "interactions_train_df['text_length'] = interactions_train_df.text.fillna('').apply(len)\n",
        "\n",
        "test['title_length'] = test.title.fillna('').apply(len)\n",
        "test['text_length'] = test.text.fillna('').apply(len)\n",
        "\n",
        "interactions_train_df['has_new'] = interactions_train_df.title.fillna('').apply(lambda x: 'new' in x.lower())\n",
        "interactions_train_df['has_why'] = interactions_train_df.title.fillna('').apply(lambda x: 'why' in x.lower())\n",
        "interactions_train_df['has_how'] = interactions_train_df.title.fillna('').apply(lambda x: 'how' in x.lower())\n",
        "interactions_train_df['has_ai'] = interactions_train_df.title.fillna('').apply(lambda x: 'ai' in x.lower())\n",
        "\n",
        "test['has_new'] = test.title.fillna('').apply(lambda x: 'new' in x.lower())\n",
        "test['has_why'] = test.title.fillna('').apply(lambda x: 'why' in x.lower())\n",
        "test['has_how'] = test.title.fillna('').apply(lambda x: 'how' in x.lower())\n",
        "test['has_ai'] = test.title.fillna('').apply(lambda x: 'ai' in x.lower())"
      ],
      "execution_count": 53,
      "outputs": []
    },
    {
      "cell_type": "markdown",
      "metadata": {
        "id": "e7wBdEN-qQxS"
      },
      "source": [
        "Добавим признаки-индикаторы языка."
      ]
    },
    {
      "cell_type": "code",
      "metadata": {
        "id": "6gS4JN8dqQxS"
      },
      "source": [
        "interactions_train_df['is_lang_en'] = interactions_train_df.lang == 'en'\n",
        "interactions_train_df['is_lang_pt'] = interactions_train_df.lang == 'pt'\n",
        "\n",
        "test['is_lang_en'] = test.lang == 'en'\n",
        "test['is_lang_pt'] = test.lang == 'pt'"
      ],
      "execution_count": 54,
      "outputs": []
    },
    {
      "cell_type": "markdown",
      "metadata": {
        "id": "NxiHdbBdqQxS"
      },
      "source": [
        "Обучим на полученных признаках градиентный бустинг."
      ]
    },
    {
      "cell_type": "code",
      "metadata": {
        "scrolled": true,
        "id": "922b4zXPqQxT",
        "outputId": "5af76be8-2315-4aa1-d5d4-22934cd8617e",
        "colab": {
          "base_uri": "https://localhost:8080/"
        }
      },
      "source": [
        "import catboost \n",
        "\n",
        "model = catboost.CatBoostClassifier()\n",
        "model.fit(interactions_train_df[interactions_train_df.columns[features_start:]],\n",
        "          np.array(interactions_train_df.eventStrength > 0, dtype=int))"
      ],
      "execution_count": 55,
      "outputs": [
        {
          "output_type": "stream",
          "text": [
            "Learning rate set to 0.086682\n",
            "0:\tlearn: 0.6578444\ttotal: 123ms\tremaining: 2m 2s\n",
            "1:\tlearn: 0.6292082\ttotal: 165ms\tremaining: 1m 22s\n",
            "2:\tlearn: 0.6053219\ttotal: 218ms\tremaining: 1m 12s\n",
            "3:\tlearn: 0.5856811\ttotal: 269ms\tremaining: 1m 6s\n",
            "4:\tlearn: 0.5699511\ttotal: 320ms\tremaining: 1m 3s\n",
            "5:\tlearn: 0.5566589\ttotal: 364ms\tremaining: 1m\n",
            "6:\tlearn: 0.5459676\ttotal: 401ms\tremaining: 56.9s\n",
            "7:\tlearn: 0.5372187\ttotal: 451ms\tremaining: 55.9s\n",
            "8:\tlearn: 0.5298356\ttotal: 507ms\tremaining: 55.9s\n",
            "9:\tlearn: 0.5234485\ttotal: 555ms\tremaining: 54.9s\n",
            "10:\tlearn: 0.5184916\ttotal: 594ms\tremaining: 53.4s\n",
            "11:\tlearn: 0.5145112\ttotal: 630ms\tremaining: 51.9s\n",
            "12:\tlearn: 0.5111995\ttotal: 672ms\tremaining: 51.1s\n",
            "13:\tlearn: 0.5082544\ttotal: 723ms\tremaining: 50.9s\n",
            "14:\tlearn: 0.5058322\ttotal: 773ms\tremaining: 50.8s\n",
            "15:\tlearn: 0.5038614\ttotal: 820ms\tremaining: 50.4s\n",
            "16:\tlearn: 0.5020808\ttotal: 864ms\tremaining: 50s\n",
            "17:\tlearn: 0.5008276\ttotal: 905ms\tremaining: 49.4s\n",
            "18:\tlearn: 0.4997085\ttotal: 954ms\tremaining: 49.2s\n",
            "19:\tlearn: 0.4984980\ttotal: 1s\tremaining: 49.2s\n",
            "20:\tlearn: 0.4973487\ttotal: 1.05s\tremaining: 49s\n",
            "21:\tlearn: 0.4965055\ttotal: 1.09s\tremaining: 48.7s\n",
            "22:\tlearn: 0.4957805\ttotal: 1.16s\tremaining: 49.3s\n",
            "23:\tlearn: 0.4949863\ttotal: 1.21s\tremaining: 49.3s\n",
            "24:\tlearn: 0.4942899\ttotal: 1.26s\tremaining: 49s\n",
            "25:\tlearn: 0.4937724\ttotal: 1.3s\tremaining: 48.7s\n",
            "26:\tlearn: 0.4933868\ttotal: 1.35s\tremaining: 48.6s\n",
            "27:\tlearn: 0.4928614\ttotal: 1.41s\tremaining: 48.8s\n",
            "28:\tlearn: 0.4924469\ttotal: 1.45s\tremaining: 48.7s\n",
            "29:\tlearn: 0.4921102\ttotal: 1.51s\tremaining: 48.9s\n",
            "30:\tlearn: 0.4917939\ttotal: 1.55s\tremaining: 48.6s\n",
            "31:\tlearn: 0.4915018\ttotal: 1.6s\tremaining: 48.3s\n",
            "32:\tlearn: 0.4911814\ttotal: 1.64s\tremaining: 48.2s\n",
            "33:\tlearn: 0.4909252\ttotal: 1.7s\tremaining: 48.3s\n",
            "34:\tlearn: 0.4906647\ttotal: 1.75s\tremaining: 48.3s\n",
            "35:\tlearn: 0.4906238\ttotal: 1.79s\tremaining: 47.8s\n",
            "36:\tlearn: 0.4903538\ttotal: 1.83s\tremaining: 47.5s\n",
            "37:\tlearn: 0.4900925\ttotal: 1.88s\tremaining: 47.5s\n",
            "38:\tlearn: 0.4899133\ttotal: 1.92s\tremaining: 47.4s\n",
            "39:\tlearn: 0.4897485\ttotal: 1.98s\tremaining: 47.4s\n",
            "40:\tlearn: 0.4894928\ttotal: 2.04s\tremaining: 47.6s\n",
            "41:\tlearn: 0.4893091\ttotal: 2.08s\tremaining: 47.5s\n",
            "42:\tlearn: 0.4892176\ttotal: 2.13s\tremaining: 47.3s\n",
            "43:\tlearn: 0.4890409\ttotal: 2.17s\tremaining: 47.2s\n",
            "44:\tlearn: 0.4888479\ttotal: 2.21s\tremaining: 47s\n",
            "45:\tlearn: 0.4886546\ttotal: 2.26s\tremaining: 46.9s\n",
            "46:\tlearn: 0.4883611\ttotal: 2.32s\tremaining: 47s\n",
            "47:\tlearn: 0.4883142\ttotal: 2.37s\tremaining: 46.9s\n",
            "48:\tlearn: 0.4881368\ttotal: 2.42s\tremaining: 47s\n",
            "49:\tlearn: 0.4879298\ttotal: 2.48s\tremaining: 47.2s\n",
            "50:\tlearn: 0.4878095\ttotal: 2.53s\tremaining: 47.1s\n",
            "51:\tlearn: 0.4876151\ttotal: 2.58s\tremaining: 47s\n",
            "52:\tlearn: 0.4874143\ttotal: 2.62s\tremaining: 46.8s\n",
            "53:\tlearn: 0.4873408\ttotal: 2.67s\tremaining: 46.9s\n",
            "54:\tlearn: 0.4872156\ttotal: 2.72s\tremaining: 46.8s\n",
            "55:\tlearn: 0.4871089\ttotal: 2.78s\tremaining: 46.8s\n",
            "56:\tlearn: 0.4869468\ttotal: 2.83s\tremaining: 46.8s\n",
            "57:\tlearn: 0.4868005\ttotal: 2.88s\tremaining: 46.7s\n",
            "58:\tlearn: 0.4866050\ttotal: 2.92s\tremaining: 46.6s\n",
            "59:\tlearn: 0.4864523\ttotal: 2.98s\tremaining: 46.6s\n",
            "60:\tlearn: 0.4863821\ttotal: 3.03s\tremaining: 46.6s\n",
            "61:\tlearn: 0.4863209\ttotal: 3.07s\tremaining: 46.5s\n",
            "62:\tlearn: 0.4862535\ttotal: 3.12s\tremaining: 46.3s\n",
            "63:\tlearn: 0.4860326\ttotal: 3.16s\tremaining: 46.3s\n",
            "64:\tlearn: 0.4858961\ttotal: 3.21s\tremaining: 46.2s\n",
            "65:\tlearn: 0.4858264\ttotal: 3.26s\tremaining: 46.1s\n",
            "66:\tlearn: 0.4857121\ttotal: 3.3s\tremaining: 46s\n",
            "67:\tlearn: 0.4855643\ttotal: 3.35s\tremaining: 45.9s\n",
            "68:\tlearn: 0.4855327\ttotal: 3.39s\tremaining: 45.8s\n",
            "69:\tlearn: 0.4853489\ttotal: 3.44s\tremaining: 45.7s\n",
            "70:\tlearn: 0.4851951\ttotal: 3.5s\tremaining: 45.8s\n",
            "71:\tlearn: 0.4850386\ttotal: 3.55s\tremaining: 45.8s\n",
            "72:\tlearn: 0.4849511\ttotal: 3.59s\tremaining: 45.6s\n",
            "73:\tlearn: 0.4848258\ttotal: 3.63s\tremaining: 45.5s\n",
            "74:\tlearn: 0.4847495\ttotal: 3.69s\tremaining: 45.5s\n",
            "75:\tlearn: 0.4846219\ttotal: 3.75s\tremaining: 45.6s\n",
            "76:\tlearn: 0.4846172\ttotal: 3.78s\tremaining: 45.3s\n",
            "77:\tlearn: 0.4844486\ttotal: 3.83s\tremaining: 45.3s\n",
            "78:\tlearn: 0.4843383\ttotal: 3.89s\tremaining: 45.3s\n",
            "79:\tlearn: 0.4841887\ttotal: 3.93s\tremaining: 45.2s\n",
            "80:\tlearn: 0.4840479\ttotal: 3.99s\tremaining: 45.3s\n",
            "81:\tlearn: 0.4839817\ttotal: 4.04s\tremaining: 45.2s\n",
            "82:\tlearn: 0.4838419\ttotal: 4.09s\tremaining: 45.2s\n",
            "83:\tlearn: 0.4837698\ttotal: 4.13s\tremaining: 45.1s\n",
            "84:\tlearn: 0.4837480\ttotal: 4.18s\tremaining: 45s\n",
            "85:\tlearn: 0.4835943\ttotal: 4.23s\tremaining: 45s\n",
            "86:\tlearn: 0.4834888\ttotal: 4.28s\tremaining: 44.9s\n",
            "87:\tlearn: 0.4833578\ttotal: 4.33s\tremaining: 44.9s\n",
            "88:\tlearn: 0.4833299\ttotal: 4.37s\tremaining: 44.8s\n",
            "89:\tlearn: 0.4832093\ttotal: 4.42s\tremaining: 44.7s\n",
            "90:\tlearn: 0.4831280\ttotal: 4.48s\tremaining: 44.8s\n",
            "91:\tlearn: 0.4829524\ttotal: 4.53s\tremaining: 44.7s\n",
            "92:\tlearn: 0.4828596\ttotal: 4.58s\tremaining: 44.6s\n",
            "93:\tlearn: 0.4828082\ttotal: 4.63s\tremaining: 44.6s\n",
            "94:\tlearn: 0.4827277\ttotal: 4.68s\tremaining: 44.6s\n",
            "95:\tlearn: 0.4826119\ttotal: 4.76s\tremaining: 44.8s\n",
            "96:\tlearn: 0.4825142\ttotal: 4.81s\tremaining: 44.8s\n",
            "97:\tlearn: 0.4824330\ttotal: 4.86s\tremaining: 44.7s\n",
            "98:\tlearn: 0.4823670\ttotal: 4.9s\tremaining: 44.6s\n",
            "99:\tlearn: 0.4822839\ttotal: 4.95s\tremaining: 44.6s\n",
            "100:\tlearn: 0.4821570\ttotal: 5s\tremaining: 44.5s\n",
            "101:\tlearn: 0.4820031\ttotal: 5.05s\tremaining: 44.5s\n",
            "102:\tlearn: 0.4819507\ttotal: 5.09s\tremaining: 44.4s\n",
            "103:\tlearn: 0.4818475\ttotal: 5.16s\tremaining: 44.4s\n",
            "104:\tlearn: 0.4817153\ttotal: 5.23s\tremaining: 44.6s\n",
            "105:\tlearn: 0.4816028\ttotal: 5.28s\tremaining: 44.5s\n",
            "106:\tlearn: 0.4815189\ttotal: 5.33s\tremaining: 44.5s\n",
            "107:\tlearn: 0.4814306\ttotal: 5.37s\tremaining: 44.4s\n",
            "108:\tlearn: 0.4813730\ttotal: 5.42s\tremaining: 44.3s\n",
            "109:\tlearn: 0.4812666\ttotal: 5.48s\tremaining: 44.3s\n",
            "110:\tlearn: 0.4811988\ttotal: 5.53s\tremaining: 44.3s\n",
            "111:\tlearn: 0.4810564\ttotal: 5.59s\tremaining: 44.3s\n",
            "112:\tlearn: 0.4809767\ttotal: 5.63s\tremaining: 44.2s\n",
            "113:\tlearn: 0.4808953\ttotal: 5.7s\tremaining: 44.3s\n",
            "114:\tlearn: 0.4808591\ttotal: 5.74s\tremaining: 44.2s\n",
            "115:\tlearn: 0.4807955\ttotal: 5.79s\tremaining: 44.1s\n",
            "116:\tlearn: 0.4807242\ttotal: 5.84s\tremaining: 44s\n",
            "117:\tlearn: 0.4806114\ttotal: 5.89s\tremaining: 44s\n",
            "118:\tlearn: 0.4805607\ttotal: 5.95s\tremaining: 44s\n",
            "119:\tlearn: 0.4805055\ttotal: 5.99s\tremaining: 43.9s\n",
            "120:\tlearn: 0.4803752\ttotal: 6.03s\tremaining: 43.8s\n",
            "121:\tlearn: 0.4802532\ttotal: 6.08s\tremaining: 43.8s\n",
            "122:\tlearn: 0.4801860\ttotal: 6.13s\tremaining: 43.7s\n",
            "123:\tlearn: 0.4801198\ttotal: 6.19s\tremaining: 43.7s\n",
            "124:\tlearn: 0.4800438\ttotal: 6.23s\tremaining: 43.6s\n",
            "125:\tlearn: 0.4799045\ttotal: 6.28s\tremaining: 43.5s\n",
            "126:\tlearn: 0.4798125\ttotal: 6.33s\tremaining: 43.5s\n",
            "127:\tlearn: 0.4797348\ttotal: 6.38s\tremaining: 43.5s\n",
            "128:\tlearn: 0.4796570\ttotal: 6.44s\tremaining: 43.5s\n",
            "129:\tlearn: 0.4795801\ttotal: 6.48s\tremaining: 43.4s\n",
            "130:\tlearn: 0.4795096\ttotal: 6.54s\tremaining: 43.4s\n",
            "131:\tlearn: 0.4794225\ttotal: 6.59s\tremaining: 43.3s\n",
            "132:\tlearn: 0.4793667\ttotal: 6.63s\tremaining: 43.3s\n",
            "133:\tlearn: 0.4791980\ttotal: 6.69s\tremaining: 43.2s\n",
            "134:\tlearn: 0.4791396\ttotal: 6.73s\tremaining: 43.1s\n",
            "135:\tlearn: 0.4790735\ttotal: 6.78s\tremaining: 43.1s\n",
            "136:\tlearn: 0.4789874\ttotal: 6.83s\tremaining: 43s\n",
            "137:\tlearn: 0.4788960\ttotal: 6.88s\tremaining: 43s\n",
            "138:\tlearn: 0.4787591\ttotal: 6.94s\tremaining: 43s\n",
            "139:\tlearn: 0.4786924\ttotal: 6.98s\tremaining: 42.9s\n",
            "140:\tlearn: 0.4785931\ttotal: 7.02s\tremaining: 42.8s\n",
            "141:\tlearn: 0.4785045\ttotal: 7.07s\tremaining: 42.7s\n",
            "142:\tlearn: 0.4783772\ttotal: 7.12s\tremaining: 42.7s\n",
            "143:\tlearn: 0.4782921\ttotal: 7.17s\tremaining: 42.6s\n",
            "144:\tlearn: 0.4782143\ttotal: 7.22s\tremaining: 42.6s\n",
            "145:\tlearn: 0.4781435\ttotal: 7.27s\tremaining: 42.5s\n",
            "146:\tlearn: 0.4779993\ttotal: 7.32s\tremaining: 42.5s\n",
            "147:\tlearn: 0.4779298\ttotal: 7.38s\tremaining: 42.5s\n",
            "148:\tlearn: 0.4778366\ttotal: 7.43s\tremaining: 42.4s\n",
            "149:\tlearn: 0.4777346\ttotal: 7.48s\tremaining: 42.4s\n",
            "150:\tlearn: 0.4776440\ttotal: 7.54s\tremaining: 42.4s\n",
            "151:\tlearn: 0.4775507\ttotal: 7.59s\tremaining: 42.3s\n",
            "152:\tlearn: 0.4774375\ttotal: 7.63s\tremaining: 42.3s\n",
            "153:\tlearn: 0.4773359\ttotal: 7.68s\tremaining: 42.2s\n",
            "154:\tlearn: 0.4772673\ttotal: 7.74s\tremaining: 42.2s\n",
            "155:\tlearn: 0.4771929\ttotal: 7.79s\tremaining: 42.2s\n",
            "156:\tlearn: 0.4771096\ttotal: 7.84s\tremaining: 42.1s\n",
            "157:\tlearn: 0.4769635\ttotal: 7.88s\tremaining: 42s\n",
            "158:\tlearn: 0.4768909\ttotal: 7.94s\tremaining: 42s\n",
            "159:\tlearn: 0.4768404\ttotal: 7.99s\tremaining: 41.9s\n",
            "160:\tlearn: 0.4767429\ttotal: 8.04s\tremaining: 41.9s\n",
            "161:\tlearn: 0.4766061\ttotal: 8.09s\tremaining: 41.8s\n",
            "162:\tlearn: 0.4765328\ttotal: 8.13s\tremaining: 41.8s\n",
            "163:\tlearn: 0.4764293\ttotal: 8.18s\tremaining: 41.7s\n",
            "164:\tlearn: 0.4763495\ttotal: 8.22s\tremaining: 41.6s\n",
            "165:\tlearn: 0.4762480\ttotal: 8.28s\tremaining: 41.6s\n",
            "166:\tlearn: 0.4761701\ttotal: 8.32s\tremaining: 41.5s\n",
            "167:\tlearn: 0.4760974\ttotal: 8.37s\tremaining: 41.4s\n",
            "168:\tlearn: 0.4760027\ttotal: 8.42s\tremaining: 41.4s\n",
            "169:\tlearn: 0.4758556\ttotal: 8.47s\tremaining: 41.4s\n",
            "170:\tlearn: 0.4758140\ttotal: 8.53s\tremaining: 41.3s\n",
            "171:\tlearn: 0.4757493\ttotal: 8.58s\tremaining: 41.3s\n",
            "172:\tlearn: 0.4756516\ttotal: 8.63s\tremaining: 41.3s\n",
            "173:\tlearn: 0.4755665\ttotal: 8.68s\tremaining: 41.2s\n",
            "174:\tlearn: 0.4754670\ttotal: 8.74s\tremaining: 41.2s\n",
            "175:\tlearn: 0.4753879\ttotal: 8.79s\tremaining: 41.1s\n",
            "176:\tlearn: 0.4752576\ttotal: 8.84s\tremaining: 41.1s\n",
            "177:\tlearn: 0.4751733\ttotal: 8.89s\tremaining: 41s\n",
            "178:\tlearn: 0.4751259\ttotal: 8.95s\tremaining: 41s\n",
            "179:\tlearn: 0.4750813\ttotal: 8.99s\tremaining: 41s\n",
            "180:\tlearn: 0.4750149\ttotal: 9.05s\tremaining: 41s\n",
            "181:\tlearn: 0.4749268\ttotal: 9.1s\tremaining: 40.9s\n",
            "182:\tlearn: 0.4748137\ttotal: 9.15s\tremaining: 40.9s\n",
            "183:\tlearn: 0.4747714\ttotal: 9.2s\tremaining: 40.8s\n",
            "184:\tlearn: 0.4746744\ttotal: 9.25s\tremaining: 40.7s\n",
            "185:\tlearn: 0.4745823\ttotal: 9.3s\tremaining: 40.7s\n",
            "186:\tlearn: 0.4744900\ttotal: 9.34s\tremaining: 40.6s\n",
            "187:\tlearn: 0.4743506\ttotal: 9.4s\tremaining: 40.6s\n",
            "188:\tlearn: 0.4742117\ttotal: 9.45s\tremaining: 40.5s\n",
            "189:\tlearn: 0.4741069\ttotal: 9.5s\tremaining: 40.5s\n",
            "190:\tlearn: 0.4740625\ttotal: 9.55s\tremaining: 40.5s\n",
            "191:\tlearn: 0.4739507\ttotal: 9.6s\tremaining: 40.4s\n",
            "192:\tlearn: 0.4738765\ttotal: 9.67s\tremaining: 40.4s\n",
            "193:\tlearn: 0.4738038\ttotal: 9.72s\tremaining: 40.4s\n",
            "194:\tlearn: 0.4737145\ttotal: 9.77s\tremaining: 40.3s\n",
            "195:\tlearn: 0.4736485\ttotal: 9.82s\tremaining: 40.3s\n",
            "196:\tlearn: 0.4736194\ttotal: 9.87s\tremaining: 40.2s\n",
            "197:\tlearn: 0.4735394\ttotal: 9.92s\tremaining: 40.2s\n",
            "198:\tlearn: 0.4734770\ttotal: 9.98s\tremaining: 40.2s\n",
            "199:\tlearn: 0.4733913\ttotal: 10s\tremaining: 40.1s\n",
            "200:\tlearn: 0.4733157\ttotal: 10.1s\tremaining: 40.1s\n",
            "201:\tlearn: 0.4732846\ttotal: 10.1s\tremaining: 40s\n",
            "202:\tlearn: 0.4732239\ttotal: 10.2s\tremaining: 39.9s\n",
            "203:\tlearn: 0.4731214\ttotal: 10.2s\tremaining: 39.9s\n",
            "204:\tlearn: 0.4730739\ttotal: 10.3s\tremaining: 39.8s\n",
            "205:\tlearn: 0.4730103\ttotal: 10.3s\tremaining: 39.8s\n",
            "206:\tlearn: 0.4729745\ttotal: 10.4s\tremaining: 39.7s\n",
            "207:\tlearn: 0.4729200\ttotal: 10.4s\tremaining: 39.6s\n",
            "208:\tlearn: 0.4728237\ttotal: 10.5s\tremaining: 39.6s\n",
            "209:\tlearn: 0.4727516\ttotal: 10.5s\tremaining: 39.5s\n",
            "210:\tlearn: 0.4727254\ttotal: 10.6s\tremaining: 39.5s\n",
            "211:\tlearn: 0.4725807\ttotal: 10.6s\tremaining: 39.5s\n",
            "212:\tlearn: 0.4724706\ttotal: 10.7s\tremaining: 39.5s\n",
            "213:\tlearn: 0.4724083\ttotal: 10.7s\tremaining: 39.4s\n",
            "214:\tlearn: 0.4723295\ttotal: 10.8s\tremaining: 39.4s\n",
            "215:\tlearn: 0.4722720\ttotal: 10.8s\tremaining: 39.3s\n",
            "216:\tlearn: 0.4721737\ttotal: 10.9s\tremaining: 39.3s\n",
            "217:\tlearn: 0.4721077\ttotal: 10.9s\tremaining: 39.2s\n",
            "218:\tlearn: 0.4720655\ttotal: 11s\tremaining: 39.2s\n",
            "219:\tlearn: 0.4719907\ttotal: 11s\tremaining: 39.1s\n",
            "220:\tlearn: 0.4719378\ttotal: 11.1s\tremaining: 39.1s\n",
            "221:\tlearn: 0.4718379\ttotal: 11.1s\tremaining: 39s\n",
            "222:\tlearn: 0.4717868\ttotal: 11.2s\tremaining: 38.9s\n",
            "223:\tlearn: 0.4716929\ttotal: 11.2s\tremaining: 38.9s\n",
            "224:\tlearn: 0.4716401\ttotal: 11.3s\tremaining: 38.8s\n",
            "225:\tlearn: 0.4716046\ttotal: 11.3s\tremaining: 38.8s\n",
            "226:\tlearn: 0.4715595\ttotal: 11.4s\tremaining: 38.7s\n",
            "227:\tlearn: 0.4714850\ttotal: 11.4s\tremaining: 38.7s\n",
            "228:\tlearn: 0.4714383\ttotal: 11.5s\tremaining: 38.6s\n",
            "229:\tlearn: 0.4713761\ttotal: 11.5s\tremaining: 38.6s\n",
            "230:\tlearn: 0.4713283\ttotal: 11.6s\tremaining: 38.6s\n",
            "231:\tlearn: 0.4712245\ttotal: 11.6s\tremaining: 38.5s\n",
            "232:\tlearn: 0.4711636\ttotal: 11.7s\tremaining: 38.5s\n",
            "233:\tlearn: 0.4710833\ttotal: 11.7s\tremaining: 38.4s\n",
            "234:\tlearn: 0.4710201\ttotal: 11.8s\tremaining: 38.4s\n",
            "235:\tlearn: 0.4709687\ttotal: 11.8s\tremaining: 38.3s\n",
            "236:\tlearn: 0.4709020\ttotal: 11.9s\tremaining: 38.3s\n",
            "237:\tlearn: 0.4708392\ttotal: 11.9s\tremaining: 38.2s\n",
            "238:\tlearn: 0.4707791\ttotal: 12s\tremaining: 38.2s\n",
            "239:\tlearn: 0.4707355\ttotal: 12s\tremaining: 38.1s\n",
            "240:\tlearn: 0.4706711\ttotal: 12.1s\tremaining: 38s\n",
            "241:\tlearn: 0.4706407\ttotal: 12.1s\tremaining: 38s\n",
            "242:\tlearn: 0.4705815\ttotal: 12.2s\tremaining: 38s\n",
            "243:\tlearn: 0.4705153\ttotal: 12.2s\tremaining: 37.9s\n",
            "244:\tlearn: 0.4704557\ttotal: 12.3s\tremaining: 37.9s\n",
            "245:\tlearn: 0.4704121\ttotal: 12.3s\tremaining: 37.8s\n",
            "246:\tlearn: 0.4703721\ttotal: 12.4s\tremaining: 37.7s\n",
            "247:\tlearn: 0.4703131\ttotal: 12.4s\tremaining: 37.7s\n",
            "248:\tlearn: 0.4702562\ttotal: 12.5s\tremaining: 37.7s\n",
            "249:\tlearn: 0.4701702\ttotal: 12.5s\tremaining: 37.6s\n",
            "250:\tlearn: 0.4701214\ttotal: 12.6s\tremaining: 37.6s\n",
            "251:\tlearn: 0.4700435\ttotal: 12.6s\tremaining: 37.5s\n",
            "252:\tlearn: 0.4699823\ttotal: 12.7s\tremaining: 37.5s\n",
            "253:\tlearn: 0.4699129\ttotal: 12.7s\tremaining: 37.4s\n",
            "254:\tlearn: 0.4698428\ttotal: 12.8s\tremaining: 37.4s\n",
            "255:\tlearn: 0.4697842\ttotal: 12.8s\tremaining: 37.3s\n",
            "256:\tlearn: 0.4697204\ttotal: 12.9s\tremaining: 37.3s\n",
            "257:\tlearn: 0.4696226\ttotal: 12.9s\tremaining: 37.2s\n",
            "258:\tlearn: 0.4695927\ttotal: 13s\tremaining: 37.1s\n",
            "259:\tlearn: 0.4695446\ttotal: 13s\tremaining: 37.1s\n",
            "260:\tlearn: 0.4694830\ttotal: 13.1s\tremaining: 37s\n",
            "261:\tlearn: 0.4694356\ttotal: 13.1s\tremaining: 37s\n",
            "262:\tlearn: 0.4693685\ttotal: 13.2s\tremaining: 36.9s\n",
            "263:\tlearn: 0.4693061\ttotal: 13.2s\tremaining: 36.9s\n",
            "264:\tlearn: 0.4692724\ttotal: 13.3s\tremaining: 36.8s\n",
            "265:\tlearn: 0.4692034\ttotal: 13.3s\tremaining: 36.8s\n",
            "266:\tlearn: 0.4691333\ttotal: 13.4s\tremaining: 36.7s\n",
            "267:\tlearn: 0.4690819\ttotal: 13.4s\tremaining: 36.7s\n",
            "268:\tlearn: 0.4690350\ttotal: 13.5s\tremaining: 36.6s\n",
            "269:\tlearn: 0.4689496\ttotal: 13.5s\tremaining: 36.5s\n",
            "270:\tlearn: 0.4688934\ttotal: 13.6s\tremaining: 36.5s\n",
            "271:\tlearn: 0.4688413\ttotal: 13.6s\tremaining: 36.4s\n",
            "272:\tlearn: 0.4687905\ttotal: 13.7s\tremaining: 36.5s\n",
            "273:\tlearn: 0.4687440\ttotal: 13.8s\tremaining: 36.5s\n",
            "274:\tlearn: 0.4686846\ttotal: 13.8s\tremaining: 36.4s\n",
            "275:\tlearn: 0.4686530\ttotal: 13.9s\tremaining: 36.4s\n",
            "276:\tlearn: 0.4686147\ttotal: 13.9s\tremaining: 36.3s\n",
            "277:\tlearn: 0.4685849\ttotal: 14s\tremaining: 36.2s\n",
            "278:\tlearn: 0.4685350\ttotal: 14s\tremaining: 36.2s\n",
            "279:\tlearn: 0.4684366\ttotal: 14.1s\tremaining: 36.1s\n",
            "280:\tlearn: 0.4683786\ttotal: 14.1s\tremaining: 36.1s\n",
            "281:\tlearn: 0.4683305\ttotal: 14.1s\tremaining: 36s\n",
            "282:\tlearn: 0.4682332\ttotal: 14.2s\tremaining: 36s\n",
            "283:\tlearn: 0.4681591\ttotal: 14.2s\tremaining: 35.9s\n",
            "284:\tlearn: 0.4680996\ttotal: 14.3s\tremaining: 35.9s\n",
            "285:\tlearn: 0.4680329\ttotal: 14.3s\tremaining: 35.8s\n",
            "286:\tlearn: 0.4679817\ttotal: 14.4s\tremaining: 35.7s\n",
            "287:\tlearn: 0.4679011\ttotal: 14.4s\tremaining: 35.7s\n",
            "288:\tlearn: 0.4678697\ttotal: 14.5s\tremaining: 35.6s\n",
            "289:\tlearn: 0.4678101\ttotal: 14.5s\tremaining: 35.6s\n",
            "290:\tlearn: 0.4677370\ttotal: 14.6s\tremaining: 35.6s\n",
            "291:\tlearn: 0.4676985\ttotal: 14.6s\tremaining: 35.5s\n",
            "292:\tlearn: 0.4676602\ttotal: 14.7s\tremaining: 35.5s\n",
            "293:\tlearn: 0.4676108\ttotal: 14.7s\tremaining: 35.4s\n",
            "294:\tlearn: 0.4675851\ttotal: 14.8s\tremaining: 35.4s\n",
            "295:\tlearn: 0.4675405\ttotal: 14.8s\tremaining: 35.3s\n",
            "296:\tlearn: 0.4674879\ttotal: 14.9s\tremaining: 35.3s\n",
            "297:\tlearn: 0.4674307\ttotal: 14.9s\tremaining: 35.2s\n",
            "298:\tlearn: 0.4674025\ttotal: 15s\tremaining: 35.2s\n",
            "299:\tlearn: 0.4673676\ttotal: 15s\tremaining: 35.1s\n",
            "300:\tlearn: 0.4673229\ttotal: 15.1s\tremaining: 35s\n",
            "301:\tlearn: 0.4672748\ttotal: 15.1s\tremaining: 35s\n",
            "302:\tlearn: 0.4671811\ttotal: 15.2s\tremaining: 34.9s\n",
            "303:\tlearn: 0.4671590\ttotal: 15.2s\tremaining: 34.9s\n",
            "304:\tlearn: 0.4671254\ttotal: 15.3s\tremaining: 34.8s\n",
            "305:\tlearn: 0.4670451\ttotal: 15.3s\tremaining: 34.8s\n",
            "306:\tlearn: 0.4669966\ttotal: 15.4s\tremaining: 34.7s\n",
            "307:\tlearn: 0.4669380\ttotal: 15.4s\tremaining: 34.7s\n",
            "308:\tlearn: 0.4669036\ttotal: 15.5s\tremaining: 34.6s\n",
            "309:\tlearn: 0.4668249\ttotal: 15.5s\tremaining: 34.6s\n",
            "310:\tlearn: 0.4668009\ttotal: 15.6s\tremaining: 34.5s\n",
            "311:\tlearn: 0.4667508\ttotal: 15.6s\tremaining: 34.5s\n",
            "312:\tlearn: 0.4666984\ttotal: 15.7s\tremaining: 34.4s\n",
            "313:\tlearn: 0.4666549\ttotal: 15.8s\tremaining: 34.4s\n",
            "314:\tlearn: 0.4665978\ttotal: 15.8s\tremaining: 34.4s\n",
            "315:\tlearn: 0.4665575\ttotal: 15.9s\tremaining: 34.3s\n",
            "316:\tlearn: 0.4664988\ttotal: 15.9s\tremaining: 34.3s\n",
            "317:\tlearn: 0.4664364\ttotal: 16s\tremaining: 34.2s\n",
            "318:\tlearn: 0.4663464\ttotal: 16s\tremaining: 34.2s\n",
            "319:\tlearn: 0.4662642\ttotal: 16.1s\tremaining: 34.1s\n",
            "320:\tlearn: 0.4662188\ttotal: 16.1s\tremaining: 34.1s\n",
            "321:\tlearn: 0.4661537\ttotal: 16.2s\tremaining: 34s\n",
            "322:\tlearn: 0.4660997\ttotal: 16.2s\tremaining: 34s\n",
            "323:\tlearn: 0.4660541\ttotal: 16.3s\tremaining: 33.9s\n",
            "324:\tlearn: 0.4659726\ttotal: 16.3s\tremaining: 33.9s\n",
            "325:\tlearn: 0.4659469\ttotal: 16.4s\tremaining: 33.8s\n",
            "326:\tlearn: 0.4658867\ttotal: 16.4s\tremaining: 33.8s\n",
            "327:\tlearn: 0.4658573\ttotal: 16.5s\tremaining: 33.7s\n",
            "328:\tlearn: 0.4658024\ttotal: 16.5s\tremaining: 33.7s\n",
            "329:\tlearn: 0.4657775\ttotal: 16.6s\tremaining: 33.6s\n",
            "330:\tlearn: 0.4657590\ttotal: 16.6s\tremaining: 33.6s\n",
            "331:\tlearn: 0.4657187\ttotal: 16.7s\tremaining: 33.5s\n",
            "332:\tlearn: 0.4656637\ttotal: 16.7s\tremaining: 33.5s\n",
            "333:\tlearn: 0.4656104\ttotal: 16.8s\tremaining: 33.4s\n",
            "334:\tlearn: 0.4655333\ttotal: 16.8s\tremaining: 33.3s\n",
            "335:\tlearn: 0.4655097\ttotal: 16.8s\tremaining: 33.3s\n",
            "336:\tlearn: 0.4654710\ttotal: 16.9s\tremaining: 33.2s\n",
            "337:\tlearn: 0.4654232\ttotal: 17s\tremaining: 33.2s\n",
            "338:\tlearn: 0.4653654\ttotal: 17s\tremaining: 33.2s\n",
            "339:\tlearn: 0.4653161\ttotal: 17.1s\tremaining: 33.1s\n",
            "340:\tlearn: 0.4652672\ttotal: 17.1s\tremaining: 33.1s\n",
            "341:\tlearn: 0.4652382\ttotal: 17.2s\tremaining: 33s\n",
            "342:\tlearn: 0.4652083\ttotal: 17.2s\tremaining: 32.9s\n",
            "343:\tlearn: 0.4651318\ttotal: 17.3s\tremaining: 32.9s\n",
            "344:\tlearn: 0.4650992\ttotal: 17.3s\tremaining: 32.8s\n",
            "345:\tlearn: 0.4650715\ttotal: 17.4s\tremaining: 32.8s\n",
            "346:\tlearn: 0.4650274\ttotal: 17.4s\tremaining: 32.7s\n",
            "347:\tlearn: 0.4649673\ttotal: 17.4s\tremaining: 32.7s\n",
            "348:\tlearn: 0.4648922\ttotal: 17.5s\tremaining: 32.6s\n",
            "349:\tlearn: 0.4648378\ttotal: 17.5s\tremaining: 32.6s\n",
            "350:\tlearn: 0.4647809\ttotal: 17.6s\tremaining: 32.6s\n",
            "351:\tlearn: 0.4647195\ttotal: 17.7s\tremaining: 32.5s\n",
            "352:\tlearn: 0.4646784\ttotal: 17.7s\tremaining: 32.5s\n",
            "353:\tlearn: 0.4646371\ttotal: 17.8s\tremaining: 32.4s\n",
            "354:\tlearn: 0.4645802\ttotal: 17.8s\tremaining: 32.3s\n",
            "355:\tlearn: 0.4645542\ttotal: 17.9s\tremaining: 32.3s\n",
            "356:\tlearn: 0.4645259\ttotal: 17.9s\tremaining: 32.2s\n",
            "357:\tlearn: 0.4644776\ttotal: 17.9s\tremaining: 32.2s\n",
            "358:\tlearn: 0.4644379\ttotal: 18s\tremaining: 32.1s\n",
            "359:\tlearn: 0.4643980\ttotal: 18s\tremaining: 32.1s\n",
            "360:\tlearn: 0.4643295\ttotal: 18.1s\tremaining: 32s\n",
            "361:\tlearn: 0.4642606\ttotal: 18.2s\tremaining: 32s\n",
            "362:\tlearn: 0.4642167\ttotal: 18.2s\tremaining: 31.9s\n",
            "363:\tlearn: 0.4642015\ttotal: 18.3s\tremaining: 31.9s\n",
            "364:\tlearn: 0.4641401\ttotal: 18.3s\tremaining: 31.9s\n",
            "365:\tlearn: 0.4641031\ttotal: 18.4s\tremaining: 31.8s\n",
            "366:\tlearn: 0.4640430\ttotal: 18.4s\tremaining: 31.7s\n",
            "367:\tlearn: 0.4640033\ttotal: 18.5s\tremaining: 31.7s\n",
            "368:\tlearn: 0.4639730\ttotal: 18.5s\tremaining: 31.6s\n",
            "369:\tlearn: 0.4639009\ttotal: 18.6s\tremaining: 31.6s\n",
            "370:\tlearn: 0.4638476\ttotal: 18.6s\tremaining: 31.6s\n",
            "371:\tlearn: 0.4637945\ttotal: 18.7s\tremaining: 31.5s\n",
            "372:\tlearn: 0.4637655\ttotal: 18.7s\tremaining: 31.5s\n",
            "373:\tlearn: 0.4637317\ttotal: 18.8s\tremaining: 31.4s\n",
            "374:\tlearn: 0.4636766\ttotal: 18.8s\tremaining: 31.3s\n",
            "375:\tlearn: 0.4636286\ttotal: 18.9s\tremaining: 31.3s\n",
            "376:\tlearn: 0.4635575\ttotal: 18.9s\tremaining: 31.2s\n",
            "377:\tlearn: 0.4634974\ttotal: 19s\tremaining: 31.2s\n",
            "378:\tlearn: 0.4634398\ttotal: 19s\tremaining: 31.2s\n",
            "379:\tlearn: 0.4633439\ttotal: 19.1s\tremaining: 31.1s\n",
            "380:\tlearn: 0.4632851\ttotal: 19.1s\tremaining: 31.1s\n",
            "381:\tlearn: 0.4632750\ttotal: 19.2s\tremaining: 31s\n",
            "382:\tlearn: 0.4632595\ttotal: 19.2s\tremaining: 30.9s\n",
            "383:\tlearn: 0.4632059\ttotal: 19.3s\tremaining: 30.9s\n",
            "384:\tlearn: 0.4631712\ttotal: 19.3s\tremaining: 30.8s\n",
            "385:\tlearn: 0.4631170\ttotal: 19.4s\tremaining: 30.8s\n",
            "386:\tlearn: 0.4630864\ttotal: 19.4s\tremaining: 30.7s\n",
            "387:\tlearn: 0.4630484\ttotal: 19.4s\tremaining: 30.7s\n",
            "388:\tlearn: 0.4630153\ttotal: 19.5s\tremaining: 30.6s\n",
            "389:\tlearn: 0.4629634\ttotal: 19.5s\tremaining: 30.6s\n",
            "390:\tlearn: 0.4629334\ttotal: 19.6s\tremaining: 30.5s\n",
            "391:\tlearn: 0.4629042\ttotal: 19.6s\tremaining: 30.5s\n",
            "392:\tlearn: 0.4628845\ttotal: 19.7s\tremaining: 30.4s\n",
            "393:\tlearn: 0.4628447\ttotal: 19.7s\tremaining: 30.4s\n",
            "394:\tlearn: 0.4627817\ttotal: 19.8s\tremaining: 30.3s\n",
            "395:\tlearn: 0.4627110\ttotal: 19.9s\tremaining: 30.3s\n",
            "396:\tlearn: 0.4626732\ttotal: 19.9s\tremaining: 30.3s\n",
            "397:\tlearn: 0.4626247\ttotal: 20s\tremaining: 30.2s\n",
            "398:\tlearn: 0.4625790\ttotal: 20s\tremaining: 30.2s\n",
            "399:\tlearn: 0.4625285\ttotal: 20.1s\tremaining: 30.1s\n",
            "400:\tlearn: 0.4624903\ttotal: 20.1s\tremaining: 30.1s\n",
            "401:\tlearn: 0.4624593\ttotal: 20.2s\tremaining: 30s\n",
            "402:\tlearn: 0.4624277\ttotal: 20.2s\tremaining: 30s\n",
            "403:\tlearn: 0.4623790\ttotal: 20.3s\tremaining: 29.9s\n",
            "404:\tlearn: 0.4623526\ttotal: 20.3s\tremaining: 29.9s\n",
            "405:\tlearn: 0.4623285\ttotal: 20.4s\tremaining: 29.8s\n",
            "406:\tlearn: 0.4623063\ttotal: 20.4s\tremaining: 29.8s\n",
            "407:\tlearn: 0.4622768\ttotal: 20.5s\tremaining: 29.7s\n",
            "408:\tlearn: 0.4622004\ttotal: 20.5s\tremaining: 29.6s\n",
            "409:\tlearn: 0.4621130\ttotal: 20.6s\tremaining: 29.6s\n",
            "410:\tlearn: 0.4620844\ttotal: 20.6s\tremaining: 29.5s\n",
            "411:\tlearn: 0.4620650\ttotal: 20.7s\tremaining: 29.5s\n",
            "412:\tlearn: 0.4620141\ttotal: 20.7s\tremaining: 29.5s\n",
            "413:\tlearn: 0.4620058\ttotal: 20.8s\tremaining: 29.4s\n",
            "414:\tlearn: 0.4619545\ttotal: 20.8s\tremaining: 29.3s\n",
            "415:\tlearn: 0.4619240\ttotal: 20.9s\tremaining: 29.3s\n",
            "416:\tlearn: 0.4618711\ttotal: 20.9s\tremaining: 29.2s\n",
            "417:\tlearn: 0.4618365\ttotal: 21s\tremaining: 29.2s\n",
            "418:\tlearn: 0.4617827\ttotal: 21s\tremaining: 29.1s\n",
            "419:\tlearn: 0.4617336\ttotal: 21.1s\tremaining: 29.1s\n",
            "420:\tlearn: 0.4616967\ttotal: 21.1s\tremaining: 29s\n",
            "421:\tlearn: 0.4616692\ttotal: 21.2s\tremaining: 29s\n",
            "422:\tlearn: 0.4616458\ttotal: 21.2s\tremaining: 28.9s\n",
            "423:\tlearn: 0.4616180\ttotal: 21.3s\tremaining: 28.9s\n",
            "424:\tlearn: 0.4615574\ttotal: 21.3s\tremaining: 28.8s\n",
            "425:\tlearn: 0.4615229\ttotal: 21.4s\tremaining: 28.8s\n",
            "426:\tlearn: 0.4614960\ttotal: 21.4s\tremaining: 28.7s\n",
            "427:\tlearn: 0.4614726\ttotal: 21.5s\tremaining: 28.7s\n",
            "428:\tlearn: 0.4614218\ttotal: 21.5s\tremaining: 28.6s\n",
            "429:\tlearn: 0.4613751\ttotal: 21.5s\tremaining: 28.6s\n",
            "430:\tlearn: 0.4613292\ttotal: 21.6s\tremaining: 28.5s\n",
            "431:\tlearn: 0.4613055\ttotal: 21.7s\tremaining: 28.5s\n",
            "432:\tlearn: 0.4612751\ttotal: 21.7s\tremaining: 28.4s\n",
            "433:\tlearn: 0.4612495\ttotal: 21.8s\tremaining: 28.4s\n",
            "434:\tlearn: 0.4611877\ttotal: 21.8s\tremaining: 28.3s\n",
            "435:\tlearn: 0.4611383\ttotal: 21.9s\tremaining: 28.3s\n",
            "436:\tlearn: 0.4610884\ttotal: 21.9s\tremaining: 28.2s\n",
            "437:\tlearn: 0.4610625\ttotal: 21.9s\tremaining: 28.2s\n",
            "438:\tlearn: 0.4610074\ttotal: 22s\tremaining: 28.1s\n",
            "439:\tlearn: 0.4609493\ttotal: 22.1s\tremaining: 28.1s\n",
            "440:\tlearn: 0.4608827\ttotal: 22.1s\tremaining: 28s\n",
            "441:\tlearn: 0.4608530\ttotal: 22.1s\tremaining: 28s\n",
            "442:\tlearn: 0.4608035\ttotal: 22.2s\tremaining: 27.9s\n",
            "443:\tlearn: 0.4607746\ttotal: 22.2s\tremaining: 27.8s\n",
            "444:\tlearn: 0.4607444\ttotal: 22.3s\tremaining: 27.8s\n",
            "445:\tlearn: 0.4607175\ttotal: 22.3s\tremaining: 27.7s\n",
            "446:\tlearn: 0.4606920\ttotal: 22.4s\tremaining: 27.7s\n",
            "447:\tlearn: 0.4606180\ttotal: 22.4s\tremaining: 27.6s\n",
            "448:\tlearn: 0.4605862\ttotal: 22.5s\tremaining: 27.6s\n",
            "449:\tlearn: 0.4605535\ttotal: 22.5s\tremaining: 27.5s\n",
            "450:\tlearn: 0.4605119\ttotal: 22.6s\tremaining: 27.5s\n",
            "451:\tlearn: 0.4604787\ttotal: 22.6s\tremaining: 27.5s\n",
            "452:\tlearn: 0.4604650\ttotal: 22.7s\tremaining: 27.4s\n",
            "453:\tlearn: 0.4604385\ttotal: 22.8s\tremaining: 27.4s\n",
            "454:\tlearn: 0.4604129\ttotal: 22.8s\tremaining: 27.3s\n",
            "455:\tlearn: 0.4604015\ttotal: 22.9s\tremaining: 27.3s\n",
            "456:\tlearn: 0.4603086\ttotal: 22.9s\tremaining: 27.2s\n",
            "457:\tlearn: 0.4602581\ttotal: 23s\tremaining: 27.2s\n",
            "458:\tlearn: 0.4601992\ttotal: 23s\tremaining: 27.1s\n",
            "459:\tlearn: 0.4601756\ttotal: 23.1s\tremaining: 27.1s\n",
            "460:\tlearn: 0.4601354\ttotal: 23.1s\tremaining: 27s\n",
            "461:\tlearn: 0.4600788\ttotal: 23.2s\tremaining: 27s\n",
            "462:\tlearn: 0.4600543\ttotal: 23.2s\tremaining: 26.9s\n",
            "463:\tlearn: 0.4600221\ttotal: 23.3s\tremaining: 26.9s\n",
            "464:\tlearn: 0.4599937\ttotal: 23.3s\tremaining: 26.8s\n",
            "465:\tlearn: 0.4599528\ttotal: 23.4s\tremaining: 26.8s\n",
            "466:\tlearn: 0.4599225\ttotal: 23.4s\tremaining: 26.7s\n",
            "467:\tlearn: 0.4598855\ttotal: 23.5s\tremaining: 26.7s\n",
            "468:\tlearn: 0.4598546\ttotal: 23.5s\tremaining: 26.6s\n",
            "469:\tlearn: 0.4598303\ttotal: 23.6s\tremaining: 26.6s\n",
            "470:\tlearn: 0.4597862\ttotal: 23.6s\tremaining: 26.5s\n",
            "471:\tlearn: 0.4597394\ttotal: 23.7s\tremaining: 26.5s\n",
            "472:\tlearn: 0.4597043\ttotal: 23.8s\tremaining: 26.5s\n",
            "473:\tlearn: 0.4596739\ttotal: 23.9s\tremaining: 26.5s\n",
            "474:\tlearn: 0.4596396\ttotal: 24s\tremaining: 26.5s\n",
            "475:\tlearn: 0.4596072\ttotal: 24s\tremaining: 26.4s\n",
            "476:\tlearn: 0.4595792\ttotal: 24.1s\tremaining: 26.4s\n",
            "477:\tlearn: 0.4595276\ttotal: 24.1s\tremaining: 26.3s\n",
            "478:\tlearn: 0.4594938\ttotal: 24.2s\tremaining: 26.3s\n",
            "479:\tlearn: 0.4594635\ttotal: 24.2s\tremaining: 26.2s\n",
            "480:\tlearn: 0.4594204\ttotal: 24.3s\tremaining: 26.2s\n",
            "481:\tlearn: 0.4593854\ttotal: 24.3s\tremaining: 26.1s\n",
            "482:\tlearn: 0.4593401\ttotal: 24.4s\tremaining: 26.1s\n",
            "483:\tlearn: 0.4593109\ttotal: 24.4s\tremaining: 26s\n",
            "484:\tlearn: 0.4592872\ttotal: 24.5s\tremaining: 26s\n",
            "485:\tlearn: 0.4592562\ttotal: 24.5s\tremaining: 25.9s\n",
            "486:\tlearn: 0.4591994\ttotal: 24.5s\tremaining: 25.9s\n",
            "487:\tlearn: 0.4591697\ttotal: 24.6s\tremaining: 25.8s\n",
            "488:\tlearn: 0.4591433\ttotal: 24.6s\tremaining: 25.7s\n",
            "489:\tlearn: 0.4591045\ttotal: 24.7s\tremaining: 25.7s\n",
            "490:\tlearn: 0.4590621\ttotal: 24.7s\tremaining: 25.7s\n",
            "491:\tlearn: 0.4590364\ttotal: 24.8s\tremaining: 25.6s\n",
            "492:\tlearn: 0.4590221\ttotal: 24.9s\tremaining: 25.6s\n",
            "493:\tlearn: 0.4589840\ttotal: 24.9s\tremaining: 25.5s\n",
            "494:\tlearn: 0.4589413\ttotal: 25s\tremaining: 25.5s\n",
            "495:\tlearn: 0.4589147\ttotal: 25s\tremaining: 25.4s\n",
            "496:\tlearn: 0.4588772\ttotal: 25.1s\tremaining: 25.4s\n",
            "497:\tlearn: 0.4588387\ttotal: 25.1s\tremaining: 25.3s\n",
            "498:\tlearn: 0.4588119\ttotal: 25.2s\tremaining: 25.3s\n",
            "499:\tlearn: 0.4587867\ttotal: 25.2s\tremaining: 25.2s\n",
            "500:\tlearn: 0.4587612\ttotal: 25.3s\tremaining: 25.2s\n",
            "501:\tlearn: 0.4587069\ttotal: 25.3s\tremaining: 25.1s\n",
            "502:\tlearn: 0.4586668\ttotal: 25.4s\tremaining: 25.1s\n",
            "503:\tlearn: 0.4586305\ttotal: 25.4s\tremaining: 25s\n",
            "504:\tlearn: 0.4586106\ttotal: 25.5s\tremaining: 25s\n",
            "505:\tlearn: 0.4585714\ttotal: 25.5s\tremaining: 24.9s\n",
            "506:\tlearn: 0.4585224\ttotal: 25.6s\tremaining: 24.9s\n",
            "507:\tlearn: 0.4584656\ttotal: 25.6s\tremaining: 24.8s\n",
            "508:\tlearn: 0.4584105\ttotal: 25.7s\tremaining: 24.8s\n",
            "509:\tlearn: 0.4583905\ttotal: 25.7s\tremaining: 24.7s\n",
            "510:\tlearn: 0.4583565\ttotal: 25.8s\tremaining: 24.7s\n",
            "511:\tlearn: 0.4583169\ttotal: 25.8s\tremaining: 24.6s\n",
            "512:\tlearn: 0.4582669\ttotal: 25.9s\tremaining: 24.6s\n",
            "513:\tlearn: 0.4582320\ttotal: 25.9s\tremaining: 24.5s\n",
            "514:\tlearn: 0.4582138\ttotal: 26s\tremaining: 24.5s\n",
            "515:\tlearn: 0.4581555\ttotal: 26s\tremaining: 24.4s\n",
            "516:\tlearn: 0.4581238\ttotal: 26.1s\tremaining: 24.4s\n",
            "517:\tlearn: 0.4580960\ttotal: 26.1s\tremaining: 24.3s\n",
            "518:\tlearn: 0.4580455\ttotal: 26.2s\tremaining: 24.3s\n",
            "519:\tlearn: 0.4580110\ttotal: 26.2s\tremaining: 24.2s\n",
            "520:\tlearn: 0.4579864\ttotal: 26.3s\tremaining: 24.1s\n",
            "521:\tlearn: 0.4579637\ttotal: 26.3s\tremaining: 24.1s\n",
            "522:\tlearn: 0.4579248\ttotal: 26.3s\tremaining: 24s\n",
            "523:\tlearn: 0.4578912\ttotal: 26.4s\tremaining: 24s\n",
            "524:\tlearn: 0.4578600\ttotal: 26.4s\tremaining: 23.9s\n",
            "525:\tlearn: 0.4578388\ttotal: 26.5s\tremaining: 23.9s\n",
            "526:\tlearn: 0.4577887\ttotal: 26.5s\tremaining: 23.8s\n",
            "527:\tlearn: 0.4577767\ttotal: 26.6s\tremaining: 23.8s\n",
            "528:\tlearn: 0.4577505\ttotal: 26.6s\tremaining: 23.7s\n",
            "529:\tlearn: 0.4577269\ttotal: 26.7s\tremaining: 23.7s\n",
            "530:\tlearn: 0.4576826\ttotal: 26.8s\tremaining: 23.6s\n",
            "531:\tlearn: 0.4576509\ttotal: 26.8s\tremaining: 23.6s\n",
            "532:\tlearn: 0.4576282\ttotal: 26.8s\tremaining: 23.5s\n",
            "533:\tlearn: 0.4576166\ttotal: 26.9s\tremaining: 23.5s\n",
            "534:\tlearn: 0.4575935\ttotal: 26.9s\tremaining: 23.4s\n",
            "535:\tlearn: 0.4575711\ttotal: 27s\tremaining: 23.4s\n",
            "536:\tlearn: 0.4575247\ttotal: 27s\tremaining: 23.3s\n",
            "537:\tlearn: 0.4575103\ttotal: 27.1s\tremaining: 23.3s\n",
            "538:\tlearn: 0.4574927\ttotal: 27.1s\tremaining: 23.2s\n",
            "539:\tlearn: 0.4574571\ttotal: 27.2s\tremaining: 23.2s\n",
            "540:\tlearn: 0.4574269\ttotal: 27.2s\tremaining: 23.1s\n",
            "541:\tlearn: 0.4574043\ttotal: 27.3s\tremaining: 23s\n",
            "542:\tlearn: 0.4573641\ttotal: 27.3s\tremaining: 23s\n",
            "543:\tlearn: 0.4573474\ttotal: 27.4s\tremaining: 22.9s\n",
            "544:\tlearn: 0.4573242\ttotal: 27.4s\tremaining: 22.9s\n",
            "545:\tlearn: 0.4573032\ttotal: 27.5s\tremaining: 22.8s\n",
            "546:\tlearn: 0.4572848\ttotal: 27.5s\tremaining: 22.8s\n",
            "547:\tlearn: 0.4572564\ttotal: 27.6s\tremaining: 22.7s\n",
            "548:\tlearn: 0.4572479\ttotal: 27.6s\tremaining: 22.7s\n",
            "549:\tlearn: 0.4572208\ttotal: 27.7s\tremaining: 22.6s\n",
            "550:\tlearn: 0.4572042\ttotal: 27.7s\tremaining: 22.6s\n",
            "551:\tlearn: 0.4571544\ttotal: 27.8s\tremaining: 22.5s\n",
            "552:\tlearn: 0.4571407\ttotal: 27.8s\tremaining: 22.5s\n",
            "553:\tlearn: 0.4571222\ttotal: 27.9s\tremaining: 22.4s\n",
            "554:\tlearn: 0.4570736\ttotal: 27.9s\tremaining: 22.4s\n",
            "555:\tlearn: 0.4570672\ttotal: 28s\tremaining: 22.3s\n",
            "556:\tlearn: 0.4569986\ttotal: 28s\tremaining: 22.3s\n",
            "557:\tlearn: 0.4569897\ttotal: 28.1s\tremaining: 22.2s\n",
            "558:\tlearn: 0.4569447\ttotal: 28.1s\tremaining: 22.2s\n",
            "559:\tlearn: 0.4569056\ttotal: 28.2s\tremaining: 22.1s\n",
            "560:\tlearn: 0.4568593\ttotal: 28.2s\tremaining: 22.1s\n",
            "561:\tlearn: 0.4568371\ttotal: 28.3s\tremaining: 22s\n",
            "562:\tlearn: 0.4567894\ttotal: 28.3s\tremaining: 22s\n",
            "563:\tlearn: 0.4567590\ttotal: 28.4s\tremaining: 21.9s\n",
            "564:\tlearn: 0.4567319\ttotal: 28.4s\tremaining: 21.9s\n",
            "565:\tlearn: 0.4567161\ttotal: 28.5s\tremaining: 21.8s\n",
            "566:\tlearn: 0.4567014\ttotal: 28.5s\tremaining: 21.8s\n",
            "567:\tlearn: 0.4566598\ttotal: 28.6s\tremaining: 21.7s\n",
            "568:\tlearn: 0.4566310\ttotal: 28.6s\tremaining: 21.7s\n",
            "569:\tlearn: 0.4566204\ttotal: 28.7s\tremaining: 21.6s\n",
            "570:\tlearn: 0.4565772\ttotal: 28.7s\tremaining: 21.6s\n",
            "571:\tlearn: 0.4565567\ttotal: 28.8s\tremaining: 21.5s\n",
            "572:\tlearn: 0.4565115\ttotal: 28.8s\tremaining: 21.5s\n",
            "573:\tlearn: 0.4564798\ttotal: 28.9s\tremaining: 21.4s\n",
            "574:\tlearn: 0.4564593\ttotal: 29s\tremaining: 21.4s\n",
            "575:\tlearn: 0.4564404\ttotal: 29s\tremaining: 21.4s\n",
            "576:\tlearn: 0.4563940\ttotal: 29.1s\tremaining: 21.3s\n",
            "577:\tlearn: 0.4563774\ttotal: 29.1s\tremaining: 21.3s\n",
            "578:\tlearn: 0.4563508\ttotal: 29.2s\tremaining: 21.2s\n",
            "579:\tlearn: 0.4563210\ttotal: 29.2s\tremaining: 21.2s\n",
            "580:\tlearn: 0.4562910\ttotal: 29.3s\tremaining: 21.1s\n",
            "581:\tlearn: 0.4562809\ttotal: 29.3s\tremaining: 21.1s\n",
            "582:\tlearn: 0.4562498\ttotal: 29.4s\tremaining: 21s\n",
            "583:\tlearn: 0.4562219\ttotal: 29.4s\tremaining: 20.9s\n",
            "584:\tlearn: 0.4561980\ttotal: 29.5s\tremaining: 20.9s\n",
            "585:\tlearn: 0.4561781\ttotal: 29.5s\tremaining: 20.9s\n",
            "586:\tlearn: 0.4561718\ttotal: 29.6s\tremaining: 20.8s\n",
            "587:\tlearn: 0.4561136\ttotal: 29.6s\tremaining: 20.7s\n",
            "588:\tlearn: 0.4560643\ttotal: 29.7s\tremaining: 20.7s\n",
            "589:\tlearn: 0.4560241\ttotal: 29.7s\tremaining: 20.7s\n",
            "590:\tlearn: 0.4559993\ttotal: 29.8s\tremaining: 20.6s\n",
            "591:\tlearn: 0.4559825\ttotal: 29.8s\tremaining: 20.6s\n",
            "592:\tlearn: 0.4559369\ttotal: 29.9s\tremaining: 20.5s\n",
            "593:\tlearn: 0.4559098\ttotal: 29.9s\tremaining: 20.5s\n",
            "594:\tlearn: 0.4558872\ttotal: 30s\tremaining: 20.4s\n",
            "595:\tlearn: 0.4558544\ttotal: 30s\tremaining: 20.4s\n",
            "596:\tlearn: 0.4558161\ttotal: 30.1s\tremaining: 20.3s\n",
            "597:\tlearn: 0.4557786\ttotal: 30.1s\tremaining: 20.3s\n",
            "598:\tlearn: 0.4557431\ttotal: 30.2s\tremaining: 20.2s\n",
            "599:\tlearn: 0.4557125\ttotal: 30.2s\tremaining: 20.2s\n",
            "600:\tlearn: 0.4556988\ttotal: 30.3s\tremaining: 20.1s\n",
            "601:\tlearn: 0.4556683\ttotal: 30.4s\tremaining: 20.1s\n",
            "602:\tlearn: 0.4556313\ttotal: 30.4s\tremaining: 20s\n",
            "603:\tlearn: 0.4555889\ttotal: 30.5s\tremaining: 20s\n",
            "604:\tlearn: 0.4555516\ttotal: 30.5s\tremaining: 19.9s\n",
            "605:\tlearn: 0.4555243\ttotal: 30.6s\tremaining: 19.9s\n",
            "606:\tlearn: 0.4554950\ttotal: 30.6s\tremaining: 19.8s\n",
            "607:\tlearn: 0.4554756\ttotal: 30.7s\tremaining: 19.8s\n",
            "608:\tlearn: 0.4554564\ttotal: 30.8s\tremaining: 19.8s\n",
            "609:\tlearn: 0.4554355\ttotal: 30.8s\tremaining: 19.7s\n",
            "610:\tlearn: 0.4554228\ttotal: 30.9s\tremaining: 19.7s\n",
            "611:\tlearn: 0.4553908\ttotal: 30.9s\tremaining: 19.6s\n",
            "612:\tlearn: 0.4553561\ttotal: 31s\tremaining: 19.6s\n",
            "613:\tlearn: 0.4553460\ttotal: 31s\tremaining: 19.5s\n",
            "614:\tlearn: 0.4553223\ttotal: 31.1s\tremaining: 19.5s\n",
            "615:\tlearn: 0.4552999\ttotal: 31.1s\tremaining: 19.4s\n",
            "616:\tlearn: 0.4552750\ttotal: 31.2s\tremaining: 19.4s\n",
            "617:\tlearn: 0.4552169\ttotal: 31.3s\tremaining: 19.3s\n",
            "618:\tlearn: 0.4551866\ttotal: 31.3s\tremaining: 19.3s\n",
            "619:\tlearn: 0.4551737\ttotal: 31.3s\tremaining: 19.2s\n",
            "620:\tlearn: 0.4551489\ttotal: 31.4s\tremaining: 19.2s\n",
            "621:\tlearn: 0.4551246\ttotal: 31.5s\tremaining: 19.1s\n",
            "622:\tlearn: 0.4551146\ttotal: 31.5s\tremaining: 19.1s\n",
            "623:\tlearn: 0.4550903\ttotal: 31.6s\tremaining: 19s\n",
            "624:\tlearn: 0.4550561\ttotal: 31.6s\tremaining: 19s\n",
            "625:\tlearn: 0.4550272\ttotal: 31.7s\tremaining: 18.9s\n",
            "626:\tlearn: 0.4549923\ttotal: 31.7s\tremaining: 18.9s\n",
            "627:\tlearn: 0.4549675\ttotal: 31.8s\tremaining: 18.8s\n",
            "628:\tlearn: 0.4549528\ttotal: 31.9s\tremaining: 18.8s\n",
            "629:\tlearn: 0.4549181\ttotal: 31.9s\tremaining: 18.7s\n",
            "630:\tlearn: 0.4548886\ttotal: 32s\tremaining: 18.7s\n",
            "631:\tlearn: 0.4548625\ttotal: 32s\tremaining: 18.6s\n",
            "632:\tlearn: 0.4548584\ttotal: 32.1s\tremaining: 18.6s\n",
            "633:\tlearn: 0.4548344\ttotal: 32.1s\tremaining: 18.5s\n",
            "634:\tlearn: 0.4548187\ttotal: 32.2s\tremaining: 18.5s\n",
            "635:\tlearn: 0.4547941\ttotal: 32.2s\tremaining: 18.4s\n",
            "636:\tlearn: 0.4547713\ttotal: 32.3s\tremaining: 18.4s\n",
            "637:\tlearn: 0.4547281\ttotal: 32.3s\tremaining: 18.3s\n",
            "638:\tlearn: 0.4546868\ttotal: 32.3s\tremaining: 18.3s\n",
            "639:\tlearn: 0.4546513\ttotal: 32.4s\tremaining: 18.2s\n",
            "640:\tlearn: 0.4546419\ttotal: 32.4s\tremaining: 18.2s\n",
            "641:\tlearn: 0.4546114\ttotal: 32.5s\tremaining: 18.1s\n",
            "642:\tlearn: 0.4545931\ttotal: 32.5s\tremaining: 18.1s\n",
            "643:\tlearn: 0.4545759\ttotal: 32.6s\tremaining: 18s\n",
            "644:\tlearn: 0.4545463\ttotal: 32.6s\tremaining: 18s\n",
            "645:\tlearn: 0.4545375\ttotal: 32.7s\tremaining: 17.9s\n",
            "646:\tlearn: 0.4544983\ttotal: 32.8s\tremaining: 17.9s\n",
            "647:\tlearn: 0.4544639\ttotal: 32.8s\tremaining: 17.8s\n",
            "648:\tlearn: 0.4544347\ttotal: 32.9s\tremaining: 17.8s\n",
            "649:\tlearn: 0.4544127\ttotal: 32.9s\tremaining: 17.7s\n",
            "650:\tlearn: 0.4543907\ttotal: 33s\tremaining: 17.7s\n",
            "651:\tlearn: 0.4543800\ttotal: 33s\tremaining: 17.6s\n",
            "652:\tlearn: 0.4543684\ttotal: 33.1s\tremaining: 17.6s\n",
            "653:\tlearn: 0.4543318\ttotal: 33.1s\tremaining: 17.5s\n",
            "654:\tlearn: 0.4542994\ttotal: 33.2s\tremaining: 17.5s\n",
            "655:\tlearn: 0.4542770\ttotal: 33.2s\tremaining: 17.4s\n",
            "656:\tlearn: 0.4542468\ttotal: 33.3s\tremaining: 17.4s\n",
            "657:\tlearn: 0.4542291\ttotal: 33.3s\tremaining: 17.3s\n",
            "658:\tlearn: 0.4542185\ttotal: 33.4s\tremaining: 17.3s\n",
            "659:\tlearn: 0.4542099\ttotal: 33.4s\tremaining: 17.2s\n",
            "660:\tlearn: 0.4541906\ttotal: 33.5s\tremaining: 17.2s\n",
            "661:\tlearn: 0.4541774\ttotal: 33.5s\tremaining: 17.1s\n",
            "662:\tlearn: 0.4541321\ttotal: 33.6s\tremaining: 17.1s\n",
            "663:\tlearn: 0.4541237\ttotal: 33.6s\tremaining: 17s\n",
            "664:\tlearn: 0.4541070\ttotal: 33.7s\tremaining: 17s\n",
            "665:\tlearn: 0.4540705\ttotal: 33.7s\tremaining: 16.9s\n",
            "666:\tlearn: 0.4540476\ttotal: 33.8s\tremaining: 16.9s\n",
            "667:\tlearn: 0.4540111\ttotal: 33.8s\tremaining: 16.8s\n",
            "668:\tlearn: 0.4540034\ttotal: 33.9s\tremaining: 16.8s\n",
            "669:\tlearn: 0.4539634\ttotal: 33.9s\tremaining: 16.7s\n",
            "670:\tlearn: 0.4539501\ttotal: 34s\tremaining: 16.7s\n",
            "671:\tlearn: 0.4539242\ttotal: 34s\tremaining: 16.6s\n",
            "672:\tlearn: 0.4539116\ttotal: 34.1s\tremaining: 16.6s\n",
            "673:\tlearn: 0.4538932\ttotal: 34.1s\tremaining: 16.5s\n",
            "674:\tlearn: 0.4538815\ttotal: 34.2s\tremaining: 16.5s\n",
            "675:\tlearn: 0.4538646\ttotal: 34.3s\tremaining: 16.4s\n",
            "676:\tlearn: 0.4538468\ttotal: 34.3s\tremaining: 16.4s\n",
            "677:\tlearn: 0.4538175\ttotal: 34.4s\tremaining: 16.3s\n",
            "678:\tlearn: 0.4538103\ttotal: 34.4s\tremaining: 16.3s\n",
            "679:\tlearn: 0.4537757\ttotal: 34.5s\tremaining: 16.2s\n",
            "680:\tlearn: 0.4537597\ttotal: 34.5s\tremaining: 16.2s\n",
            "681:\tlearn: 0.4537402\ttotal: 34.6s\tremaining: 16.1s\n",
            "682:\tlearn: 0.4537247\ttotal: 34.6s\tremaining: 16.1s\n",
            "683:\tlearn: 0.4536908\ttotal: 34.7s\tremaining: 16s\n",
            "684:\tlearn: 0.4536344\ttotal: 34.7s\tremaining: 16s\n",
            "685:\tlearn: 0.4535965\ttotal: 34.8s\tremaining: 15.9s\n",
            "686:\tlearn: 0.4535779\ttotal: 34.8s\tremaining: 15.9s\n",
            "687:\tlearn: 0.4535324\ttotal: 34.9s\tremaining: 15.8s\n",
            "688:\tlearn: 0.4535120\ttotal: 34.9s\tremaining: 15.8s\n",
            "689:\tlearn: 0.4534716\ttotal: 35s\tremaining: 15.7s\n",
            "690:\tlearn: 0.4534437\ttotal: 35.1s\tremaining: 15.7s\n",
            "691:\tlearn: 0.4534242\ttotal: 35.1s\tremaining: 15.6s\n",
            "692:\tlearn: 0.4534000\ttotal: 35.2s\tremaining: 15.6s\n",
            "693:\tlearn: 0.4533727\ttotal: 35.2s\tremaining: 15.5s\n",
            "694:\tlearn: 0.4533315\ttotal: 35.3s\tremaining: 15.5s\n",
            "695:\tlearn: 0.4533259\ttotal: 35.3s\tremaining: 15.4s\n",
            "696:\tlearn: 0.4532912\ttotal: 35.4s\tremaining: 15.4s\n",
            "697:\tlearn: 0.4532671\ttotal: 35.4s\tremaining: 15.3s\n",
            "698:\tlearn: 0.4532604\ttotal: 35.5s\tremaining: 15.3s\n",
            "699:\tlearn: 0.4532420\ttotal: 35.5s\tremaining: 15.2s\n",
            "700:\tlearn: 0.4532168\ttotal: 35.6s\tremaining: 15.2s\n",
            "701:\tlearn: 0.4531655\ttotal: 35.6s\tremaining: 15.1s\n",
            "702:\tlearn: 0.4531300\ttotal: 35.7s\tremaining: 15.1s\n",
            "703:\tlearn: 0.4531188\ttotal: 35.7s\tremaining: 15s\n",
            "704:\tlearn: 0.4530768\ttotal: 35.8s\tremaining: 15s\n",
            "705:\tlearn: 0.4530721\ttotal: 35.8s\tremaining: 14.9s\n",
            "706:\tlearn: 0.4530349\ttotal: 35.9s\tremaining: 14.9s\n",
            "707:\tlearn: 0.4530229\ttotal: 35.9s\tremaining: 14.8s\n",
            "708:\tlearn: 0.4530026\ttotal: 36s\tremaining: 14.8s\n",
            "709:\tlearn: 0.4529810\ttotal: 36s\tremaining: 14.7s\n",
            "710:\tlearn: 0.4529565\ttotal: 36.1s\tremaining: 14.7s\n",
            "711:\tlearn: 0.4529408\ttotal: 36.1s\tremaining: 14.6s\n",
            "712:\tlearn: 0.4529112\ttotal: 36.2s\tremaining: 14.6s\n",
            "713:\tlearn: 0.4528899\ttotal: 36.2s\tremaining: 14.5s\n",
            "714:\tlearn: 0.4528742\ttotal: 36.3s\tremaining: 14.5s\n",
            "715:\tlearn: 0.4528571\ttotal: 36.3s\tremaining: 14.4s\n",
            "716:\tlearn: 0.4528400\ttotal: 36.4s\tremaining: 14.4s\n",
            "717:\tlearn: 0.4528302\ttotal: 36.4s\tremaining: 14.3s\n",
            "718:\tlearn: 0.4527960\ttotal: 36.5s\tremaining: 14.3s\n",
            "719:\tlearn: 0.4527556\ttotal: 36.5s\tremaining: 14.2s\n",
            "720:\tlearn: 0.4527425\ttotal: 36.6s\tremaining: 14.2s\n",
            "721:\tlearn: 0.4527231\ttotal: 36.6s\tremaining: 14.1s\n",
            "722:\tlearn: 0.4526969\ttotal: 36.7s\tremaining: 14.1s\n",
            "723:\tlearn: 0.4526764\ttotal: 36.8s\tremaining: 14s\n",
            "724:\tlearn: 0.4526300\ttotal: 36.8s\tremaining: 14s\n",
            "725:\tlearn: 0.4526117\ttotal: 36.9s\tremaining: 13.9s\n",
            "726:\tlearn: 0.4526027\ttotal: 36.9s\tremaining: 13.9s\n",
            "727:\tlearn: 0.4525795\ttotal: 37s\tremaining: 13.8s\n",
            "728:\tlearn: 0.4525572\ttotal: 37s\tremaining: 13.8s\n",
            "729:\tlearn: 0.4525410\ttotal: 37.1s\tremaining: 13.7s\n",
            "730:\tlearn: 0.4525187\ttotal: 37.1s\tremaining: 13.7s\n",
            "731:\tlearn: 0.4524899\ttotal: 37.1s\tremaining: 13.6s\n",
            "732:\tlearn: 0.4524743\ttotal: 37.2s\tremaining: 13.5s\n",
            "733:\tlearn: 0.4524468\ttotal: 37.3s\tremaining: 13.5s\n",
            "734:\tlearn: 0.4524258\ttotal: 37.3s\tremaining: 13.4s\n",
            "735:\tlearn: 0.4524043\ttotal: 37.4s\tremaining: 13.4s\n",
            "736:\tlearn: 0.4523833\ttotal: 37.4s\tremaining: 13.3s\n",
            "737:\tlearn: 0.4523640\ttotal: 37.5s\tremaining: 13.3s\n",
            "738:\tlearn: 0.4523497\ttotal: 37.5s\tremaining: 13.2s\n",
            "739:\tlearn: 0.4523358\ttotal: 37.6s\tremaining: 13.2s\n",
            "740:\tlearn: 0.4523135\ttotal: 37.6s\tremaining: 13.1s\n",
            "741:\tlearn: 0.4522922\ttotal: 37.7s\tremaining: 13.1s\n",
            "742:\tlearn: 0.4522625\ttotal: 37.7s\tremaining: 13s\n",
            "743:\tlearn: 0.4522295\ttotal: 37.8s\tremaining: 13s\n",
            "744:\tlearn: 0.4521968\ttotal: 37.8s\tremaining: 12.9s\n",
            "745:\tlearn: 0.4521781\ttotal: 37.9s\tremaining: 12.9s\n",
            "746:\tlearn: 0.4521524\ttotal: 37.9s\tremaining: 12.8s\n",
            "747:\tlearn: 0.4521276\ttotal: 38s\tremaining: 12.8s\n",
            "748:\tlearn: 0.4521166\ttotal: 38s\tremaining: 12.7s\n",
            "749:\tlearn: 0.4521068\ttotal: 38.1s\tremaining: 12.7s\n",
            "750:\tlearn: 0.4520797\ttotal: 38.1s\tremaining: 12.6s\n",
            "751:\tlearn: 0.4520613\ttotal: 38.2s\tremaining: 12.6s\n",
            "752:\tlearn: 0.4520405\ttotal: 38.2s\tremaining: 12.5s\n",
            "753:\tlearn: 0.4520264\ttotal: 38.3s\tremaining: 12.5s\n",
            "754:\tlearn: 0.4519859\ttotal: 38.3s\tremaining: 12.4s\n",
            "755:\tlearn: 0.4519700\ttotal: 38.4s\tremaining: 12.4s\n",
            "756:\tlearn: 0.4519367\ttotal: 38.4s\tremaining: 12.3s\n",
            "757:\tlearn: 0.4519222\ttotal: 38.5s\tremaining: 12.3s\n",
            "758:\tlearn: 0.4519027\ttotal: 38.5s\tremaining: 12.2s\n",
            "759:\tlearn: 0.4518880\ttotal: 38.6s\tremaining: 12.2s\n",
            "760:\tlearn: 0.4518797\ttotal: 38.6s\tremaining: 12.1s\n",
            "761:\tlearn: 0.4518684\ttotal: 38.7s\tremaining: 12.1s\n",
            "762:\tlearn: 0.4518550\ttotal: 38.7s\tremaining: 12s\n",
            "763:\tlearn: 0.4518371\ttotal: 38.8s\tremaining: 12s\n",
            "764:\tlearn: 0.4518229\ttotal: 38.8s\tremaining: 11.9s\n",
            "765:\tlearn: 0.4518094\ttotal: 38.9s\tremaining: 11.9s\n",
            "766:\tlearn: 0.4517964\ttotal: 38.9s\tremaining: 11.8s\n",
            "767:\tlearn: 0.4517606\ttotal: 39s\tremaining: 11.8s\n",
            "768:\tlearn: 0.4517438\ttotal: 39s\tremaining: 11.7s\n",
            "769:\tlearn: 0.4517141\ttotal: 39.1s\tremaining: 11.7s\n",
            "770:\tlearn: 0.4516868\ttotal: 39.1s\tremaining: 11.6s\n",
            "771:\tlearn: 0.4516695\ttotal: 39.2s\tremaining: 11.6s\n",
            "772:\tlearn: 0.4516576\ttotal: 39.2s\tremaining: 11.5s\n",
            "773:\tlearn: 0.4516446\ttotal: 39.3s\tremaining: 11.5s\n",
            "774:\tlearn: 0.4516151\ttotal: 39.3s\tremaining: 11.4s\n",
            "775:\tlearn: 0.4515958\ttotal: 39.4s\tremaining: 11.4s\n",
            "776:\tlearn: 0.4515637\ttotal: 39.4s\tremaining: 11.3s\n",
            "777:\tlearn: 0.4515403\ttotal: 39.5s\tremaining: 11.3s\n",
            "778:\tlearn: 0.4515108\ttotal: 39.5s\tremaining: 11.2s\n",
            "779:\tlearn: 0.4514763\ttotal: 39.6s\tremaining: 11.2s\n",
            "780:\tlearn: 0.4514429\ttotal: 39.6s\tremaining: 11.1s\n",
            "781:\tlearn: 0.4514320\ttotal: 39.7s\tremaining: 11.1s\n",
            "782:\tlearn: 0.4514069\ttotal: 39.7s\tremaining: 11s\n",
            "783:\tlearn: 0.4513721\ttotal: 39.8s\tremaining: 11s\n",
            "784:\tlearn: 0.4513489\ttotal: 39.8s\tremaining: 10.9s\n",
            "785:\tlearn: 0.4513410\ttotal: 39.9s\tremaining: 10.9s\n",
            "786:\tlearn: 0.4513072\ttotal: 39.9s\tremaining: 10.8s\n",
            "787:\tlearn: 0.4512939\ttotal: 40s\tremaining: 10.8s\n",
            "788:\tlearn: 0.4512840\ttotal: 40s\tremaining: 10.7s\n",
            "789:\tlearn: 0.4512675\ttotal: 40.1s\tremaining: 10.7s\n",
            "790:\tlearn: 0.4512563\ttotal: 40.1s\tremaining: 10.6s\n",
            "791:\tlearn: 0.4512314\ttotal: 40.2s\tremaining: 10.6s\n",
            "792:\tlearn: 0.4512069\ttotal: 40.3s\tremaining: 10.5s\n",
            "793:\tlearn: 0.4511874\ttotal: 40.3s\tremaining: 10.5s\n",
            "794:\tlearn: 0.4511759\ttotal: 40.4s\tremaining: 10.4s\n",
            "795:\tlearn: 0.4511444\ttotal: 40.4s\tremaining: 10.4s\n",
            "796:\tlearn: 0.4511163\ttotal: 40.5s\tremaining: 10.3s\n",
            "797:\tlearn: 0.4510997\ttotal: 40.5s\tremaining: 10.3s\n",
            "798:\tlearn: 0.4510808\ttotal: 40.6s\tremaining: 10.2s\n",
            "799:\tlearn: 0.4510673\ttotal: 40.6s\tremaining: 10.2s\n",
            "800:\tlearn: 0.4510466\ttotal: 40.7s\tremaining: 10.1s\n",
            "801:\tlearn: 0.4510433\ttotal: 40.7s\tremaining: 10s\n",
            "802:\tlearn: 0.4510243\ttotal: 40.8s\tremaining: 10s\n",
            "803:\tlearn: 0.4509973\ttotal: 40.8s\tremaining: 9.95s\n",
            "804:\tlearn: 0.4509875\ttotal: 40.9s\tremaining: 9.9s\n",
            "805:\tlearn: 0.4509651\ttotal: 40.9s\tremaining: 9.85s\n",
            "806:\tlearn: 0.4509559\ttotal: 41s\tremaining: 9.79s\n",
            "807:\tlearn: 0.4509357\ttotal: 41s\tremaining: 9.74s\n",
            "808:\tlearn: 0.4508997\ttotal: 41.1s\tremaining: 9.69s\n",
            "809:\tlearn: 0.4508839\ttotal: 41.1s\tremaining: 9.64s\n",
            "810:\tlearn: 0.4508660\ttotal: 41.1s\tremaining: 9.59s\n",
            "811:\tlearn: 0.4508378\ttotal: 41.2s\tremaining: 9.54s\n",
            "812:\tlearn: 0.4508277\ttotal: 41.2s\tremaining: 9.49s\n",
            "813:\tlearn: 0.4508065\ttotal: 41.3s\tremaining: 9.44s\n",
            "814:\tlearn: 0.4507876\ttotal: 41.4s\tremaining: 9.39s\n",
            "815:\tlearn: 0.4507762\ttotal: 41.4s\tremaining: 9.33s\n",
            "816:\tlearn: 0.4507600\ttotal: 41.4s\tremaining: 9.28s\n",
            "817:\tlearn: 0.4507185\ttotal: 41.5s\tremaining: 9.23s\n",
            "818:\tlearn: 0.4506962\ttotal: 41.6s\tremaining: 9.18s\n",
            "819:\tlearn: 0.4506698\ttotal: 41.6s\tremaining: 9.13s\n",
            "820:\tlearn: 0.4506483\ttotal: 41.7s\tremaining: 9.08s\n",
            "821:\tlearn: 0.4506249\ttotal: 41.7s\tremaining: 9.03s\n",
            "822:\tlearn: 0.4506150\ttotal: 41.7s\tremaining: 8.98s\n",
            "823:\tlearn: 0.4506106\ttotal: 41.8s\tremaining: 8.93s\n",
            "824:\tlearn: 0.4506021\ttotal: 41.8s\tremaining: 8.88s\n",
            "825:\tlearn: 0.4505759\ttotal: 41.9s\tremaining: 8.82s\n",
            "826:\tlearn: 0.4505699\ttotal: 41.9s\tremaining: 8.77s\n",
            "827:\tlearn: 0.4505492\ttotal: 42s\tremaining: 8.72s\n",
            "828:\tlearn: 0.4505357\ttotal: 42s\tremaining: 8.67s\n",
            "829:\tlearn: 0.4505225\ttotal: 42.1s\tremaining: 8.62s\n",
            "830:\tlearn: 0.4505026\ttotal: 42.1s\tremaining: 8.57s\n",
            "831:\tlearn: 0.4504645\ttotal: 42.2s\tremaining: 8.52s\n",
            "832:\tlearn: 0.4504361\ttotal: 42.3s\tremaining: 8.47s\n",
            "833:\tlearn: 0.4504188\ttotal: 42.3s\tremaining: 8.42s\n",
            "834:\tlearn: 0.4504101\ttotal: 42.4s\tremaining: 8.37s\n",
            "835:\tlearn: 0.4504068\ttotal: 42.4s\tremaining: 8.32s\n",
            "836:\tlearn: 0.4503974\ttotal: 42.4s\tremaining: 8.27s\n",
            "837:\tlearn: 0.4503744\ttotal: 42.5s\tremaining: 8.21s\n",
            "838:\tlearn: 0.4503554\ttotal: 42.5s\tremaining: 8.16s\n",
            "839:\tlearn: 0.4503434\ttotal: 42.6s\tremaining: 8.11s\n",
            "840:\tlearn: 0.4503276\ttotal: 42.6s\tremaining: 8.06s\n",
            "841:\tlearn: 0.4502828\ttotal: 42.7s\tremaining: 8.01s\n",
            "842:\tlearn: 0.4502635\ttotal: 42.7s\tremaining: 7.96s\n",
            "843:\tlearn: 0.4502542\ttotal: 42.8s\tremaining: 7.91s\n",
            "844:\tlearn: 0.4502103\ttotal: 42.9s\tremaining: 7.86s\n",
            "845:\tlearn: 0.4501952\ttotal: 42.9s\tremaining: 7.81s\n",
            "846:\tlearn: 0.4501845\ttotal: 43s\tremaining: 7.76s\n",
            "847:\tlearn: 0.4501664\ttotal: 43s\tremaining: 7.71s\n",
            "848:\tlearn: 0.4501398\ttotal: 43s\tremaining: 7.66s\n",
            "849:\tlearn: 0.4501273\ttotal: 43.1s\tremaining: 7.6s\n",
            "850:\tlearn: 0.4501107\ttotal: 43.1s\tremaining: 7.55s\n",
            "851:\tlearn: 0.4500752\ttotal: 43.2s\tremaining: 7.5s\n",
            "852:\tlearn: 0.4500495\ttotal: 43.2s\tremaining: 7.45s\n",
            "853:\tlearn: 0.4500206\ttotal: 43.3s\tremaining: 7.4s\n",
            "854:\tlearn: 0.4500200\ttotal: 43.3s\tremaining: 7.35s\n",
            "855:\tlearn: 0.4500100\ttotal: 43.4s\tremaining: 7.3s\n",
            "856:\tlearn: 0.4499875\ttotal: 43.4s\tremaining: 7.25s\n",
            "857:\tlearn: 0.4499765\ttotal: 43.5s\tremaining: 7.2s\n",
            "858:\tlearn: 0.4499668\ttotal: 43.5s\tremaining: 7.14s\n",
            "859:\tlearn: 0.4499508\ttotal: 43.6s\tremaining: 7.09s\n",
            "860:\tlearn: 0.4499318\ttotal: 43.6s\tremaining: 7.04s\n",
            "861:\tlearn: 0.4499245\ttotal: 43.7s\tremaining: 6.99s\n",
            "862:\tlearn: 0.4499061\ttotal: 43.7s\tremaining: 6.94s\n",
            "863:\tlearn: 0.4498600\ttotal: 43.8s\tremaining: 6.89s\n",
            "864:\tlearn: 0.4498395\ttotal: 43.8s\tremaining: 6.84s\n",
            "865:\tlearn: 0.4498362\ttotal: 43.9s\tremaining: 6.79s\n",
            "866:\tlearn: 0.4498235\ttotal: 43.9s\tremaining: 6.74s\n",
            "867:\tlearn: 0.4497894\ttotal: 44s\tremaining: 6.69s\n",
            "868:\tlearn: 0.4497687\ttotal: 44s\tremaining: 6.64s\n",
            "869:\tlearn: 0.4497630\ttotal: 44.1s\tremaining: 6.58s\n",
            "870:\tlearn: 0.4497503\ttotal: 44.1s\tremaining: 6.53s\n",
            "871:\tlearn: 0.4497320\ttotal: 44.2s\tremaining: 6.48s\n",
            "872:\tlearn: 0.4497129\ttotal: 44.2s\tremaining: 6.43s\n",
            "873:\tlearn: 0.4497003\ttotal: 44.3s\tremaining: 6.38s\n",
            "874:\tlearn: 0.4496765\ttotal: 44.3s\tremaining: 6.33s\n",
            "875:\tlearn: 0.4496544\ttotal: 44.4s\tremaining: 6.28s\n",
            "876:\tlearn: 0.4496322\ttotal: 44.4s\tremaining: 6.23s\n",
            "877:\tlearn: 0.4496239\ttotal: 44.5s\tremaining: 6.18s\n",
            "878:\tlearn: 0.4496077\ttotal: 44.5s\tremaining: 6.13s\n",
            "879:\tlearn: 0.4495781\ttotal: 44.6s\tremaining: 6.08s\n",
            "880:\tlearn: 0.4495721\ttotal: 44.6s\tremaining: 6.03s\n",
            "881:\tlearn: 0.4495675\ttotal: 44.7s\tremaining: 5.98s\n",
            "882:\tlearn: 0.4495552\ttotal: 44.7s\tremaining: 5.93s\n",
            "883:\tlearn: 0.4495428\ttotal: 44.8s\tremaining: 5.88s\n",
            "884:\tlearn: 0.4495349\ttotal: 44.8s\tremaining: 5.83s\n",
            "885:\tlearn: 0.4495051\ttotal: 44.9s\tremaining: 5.78s\n",
            "886:\tlearn: 0.4494735\ttotal: 44.9s\tremaining: 5.72s\n",
            "887:\tlearn: 0.4494621\ttotal: 45s\tremaining: 5.67s\n",
            "888:\tlearn: 0.4494510\ttotal: 45s\tremaining: 5.62s\n",
            "889:\tlearn: 0.4494449\ttotal: 45.1s\tremaining: 5.57s\n",
            "890:\tlearn: 0.4494316\ttotal: 45.1s\tremaining: 5.52s\n",
            "891:\tlearn: 0.4494162\ttotal: 45.2s\tremaining: 5.47s\n",
            "892:\tlearn: 0.4493933\ttotal: 45.3s\tremaining: 5.42s\n",
            "893:\tlearn: 0.4493736\ttotal: 45.3s\tremaining: 5.38s\n",
            "894:\tlearn: 0.4493490\ttotal: 45.4s\tremaining: 5.32s\n",
            "895:\tlearn: 0.4493340\ttotal: 45.4s\tremaining: 5.27s\n",
            "896:\tlearn: 0.4493253\ttotal: 45.5s\tremaining: 5.22s\n",
            "897:\tlearn: 0.4493151\ttotal: 45.5s\tremaining: 5.17s\n",
            "898:\tlearn: 0.4493076\ttotal: 45.6s\tremaining: 5.12s\n",
            "899:\tlearn: 0.4493000\ttotal: 45.6s\tremaining: 5.07s\n",
            "900:\tlearn: 0.4492711\ttotal: 45.7s\tremaining: 5.02s\n",
            "901:\tlearn: 0.4492418\ttotal: 45.7s\tremaining: 4.97s\n",
            "902:\tlearn: 0.4492324\ttotal: 45.8s\tremaining: 4.92s\n",
            "903:\tlearn: 0.4492047\ttotal: 45.8s\tremaining: 4.87s\n",
            "904:\tlearn: 0.4491942\ttotal: 45.9s\tremaining: 4.82s\n",
            "905:\tlearn: 0.4491798\ttotal: 45.9s\tremaining: 4.77s\n",
            "906:\tlearn: 0.4491637\ttotal: 46s\tremaining: 4.71s\n",
            "907:\tlearn: 0.4491584\ttotal: 46s\tremaining: 4.66s\n",
            "908:\tlearn: 0.4491308\ttotal: 46.1s\tremaining: 4.61s\n",
            "909:\tlearn: 0.4491218\ttotal: 46.1s\tremaining: 4.56s\n",
            "910:\tlearn: 0.4490920\ttotal: 46.2s\tremaining: 4.51s\n",
            "911:\tlearn: 0.4490842\ttotal: 46.2s\tremaining: 4.46s\n",
            "912:\tlearn: 0.4490798\ttotal: 46.3s\tremaining: 4.41s\n",
            "913:\tlearn: 0.4490538\ttotal: 46.3s\tremaining: 4.36s\n",
            "914:\tlearn: 0.4490466\ttotal: 46.4s\tremaining: 4.31s\n",
            "915:\tlearn: 0.4490394\ttotal: 46.4s\tremaining: 4.26s\n",
            "916:\tlearn: 0.4490232\ttotal: 46.5s\tremaining: 4.21s\n",
            "917:\tlearn: 0.4490028\ttotal: 46.5s\tremaining: 4.15s\n",
            "918:\tlearn: 0.4489822\ttotal: 46.6s\tremaining: 4.1s\n",
            "919:\tlearn: 0.4489721\ttotal: 46.6s\tremaining: 4.05s\n",
            "920:\tlearn: 0.4489449\ttotal: 46.7s\tremaining: 4s\n",
            "921:\tlearn: 0.4489243\ttotal: 46.7s\tremaining: 3.95s\n",
            "922:\tlearn: 0.4489054\ttotal: 46.8s\tremaining: 3.9s\n",
            "923:\tlearn: 0.4488959\ttotal: 46.8s\tremaining: 3.85s\n",
            "924:\tlearn: 0.4488865\ttotal: 46.9s\tremaining: 3.8s\n",
            "925:\tlearn: 0.4488618\ttotal: 46.9s\tremaining: 3.75s\n",
            "926:\tlearn: 0.4488435\ttotal: 47s\tremaining: 3.7s\n",
            "927:\tlearn: 0.4488361\ttotal: 47s\tremaining: 3.65s\n",
            "928:\tlearn: 0.4488258\ttotal: 47.1s\tremaining: 3.6s\n",
            "929:\tlearn: 0.4487987\ttotal: 47.1s\tremaining: 3.54s\n",
            "930:\tlearn: 0.4487754\ttotal: 47.2s\tremaining: 3.49s\n",
            "931:\tlearn: 0.4487491\ttotal: 47.2s\tremaining: 3.44s\n",
            "932:\tlearn: 0.4487230\ttotal: 47.3s\tremaining: 3.39s\n",
            "933:\tlearn: 0.4487022\ttotal: 47.3s\tremaining: 3.34s\n",
            "934:\tlearn: 0.4486941\ttotal: 47.4s\tremaining: 3.29s\n",
            "935:\tlearn: 0.4486642\ttotal: 47.4s\tremaining: 3.24s\n",
            "936:\tlearn: 0.4486488\ttotal: 47.5s\tremaining: 3.19s\n",
            "937:\tlearn: 0.4486266\ttotal: 47.5s\tremaining: 3.14s\n",
            "938:\tlearn: 0.4486044\ttotal: 47.6s\tremaining: 3.09s\n",
            "939:\tlearn: 0.4485804\ttotal: 47.6s\tremaining: 3.04s\n",
            "940:\tlearn: 0.4485681\ttotal: 47.7s\tremaining: 2.99s\n",
            "941:\tlearn: 0.4485426\ttotal: 47.7s\tremaining: 2.94s\n",
            "942:\tlearn: 0.4485272\ttotal: 47.8s\tremaining: 2.89s\n",
            "943:\tlearn: 0.4485062\ttotal: 47.8s\tremaining: 2.84s\n",
            "944:\tlearn: 0.4485012\ttotal: 47.9s\tremaining: 2.79s\n",
            "945:\tlearn: 0.4485000\ttotal: 47.9s\tremaining: 2.74s\n",
            "946:\tlearn: 0.4484938\ttotal: 48s\tremaining: 2.69s\n",
            "947:\tlearn: 0.4484682\ttotal: 48s\tremaining: 2.63s\n",
            "948:\tlearn: 0.4484410\ttotal: 48.1s\tremaining: 2.58s\n",
            "949:\tlearn: 0.4484228\ttotal: 48.1s\tremaining: 2.53s\n",
            "950:\tlearn: 0.4484044\ttotal: 48.2s\tremaining: 2.48s\n",
            "951:\tlearn: 0.4483955\ttotal: 48.2s\tremaining: 2.43s\n",
            "952:\tlearn: 0.4483759\ttotal: 48.3s\tremaining: 2.38s\n",
            "953:\tlearn: 0.4483632\ttotal: 48.3s\tremaining: 2.33s\n",
            "954:\tlearn: 0.4483526\ttotal: 48.4s\tremaining: 2.28s\n",
            "955:\tlearn: 0.4483312\ttotal: 48.4s\tremaining: 2.23s\n",
            "956:\tlearn: 0.4483137\ttotal: 48.5s\tremaining: 2.18s\n",
            "957:\tlearn: 0.4482939\ttotal: 48.5s\tremaining: 2.13s\n",
            "958:\tlearn: 0.4482910\ttotal: 48.6s\tremaining: 2.08s\n",
            "959:\tlearn: 0.4482728\ttotal: 48.6s\tremaining: 2.02s\n",
            "960:\tlearn: 0.4482397\ttotal: 48.7s\tremaining: 1.98s\n",
            "961:\tlearn: 0.4482238\ttotal: 48.7s\tremaining: 1.92s\n",
            "962:\tlearn: 0.4482162\ttotal: 48.8s\tremaining: 1.87s\n",
            "963:\tlearn: 0.4482083\ttotal: 48.8s\tremaining: 1.82s\n",
            "964:\tlearn: 0.4481938\ttotal: 48.9s\tremaining: 1.77s\n",
            "965:\tlearn: 0.4481601\ttotal: 48.9s\tremaining: 1.72s\n",
            "966:\tlearn: 0.4481362\ttotal: 49s\tremaining: 1.67s\n",
            "967:\tlearn: 0.4481258\ttotal: 49s\tremaining: 1.62s\n",
            "968:\tlearn: 0.4481213\ttotal: 49.1s\tremaining: 1.57s\n",
            "969:\tlearn: 0.4481091\ttotal: 49.1s\tremaining: 1.52s\n",
            "970:\tlearn: 0.4481007\ttotal: 49.2s\tremaining: 1.47s\n",
            "971:\tlearn: 0.4480873\ttotal: 49.2s\tremaining: 1.42s\n",
            "972:\tlearn: 0.4480705\ttotal: 49.3s\tremaining: 1.37s\n",
            "973:\tlearn: 0.4480581\ttotal: 49.3s\tremaining: 1.32s\n",
            "974:\tlearn: 0.4480485\ttotal: 49.4s\tremaining: 1.27s\n",
            "975:\tlearn: 0.4480272\ttotal: 49.4s\tremaining: 1.22s\n",
            "976:\tlearn: 0.4480129\ttotal: 49.5s\tremaining: 1.16s\n",
            "977:\tlearn: 0.4480024\ttotal: 49.5s\tremaining: 1.11s\n",
            "978:\tlearn: 0.4479993\ttotal: 49.6s\tremaining: 1.06s\n",
            "979:\tlearn: 0.4479942\ttotal: 49.6s\tremaining: 1.01s\n",
            "980:\tlearn: 0.4479695\ttotal: 49.7s\tremaining: 962ms\n",
            "981:\tlearn: 0.4479567\ttotal: 49.7s\tremaining: 911ms\n",
            "982:\tlearn: 0.4479463\ttotal: 49.8s\tremaining: 861ms\n",
            "983:\tlearn: 0.4479376\ttotal: 49.8s\tremaining: 810ms\n",
            "984:\tlearn: 0.4479262\ttotal: 49.9s\tremaining: 759ms\n",
            "985:\tlearn: 0.4479176\ttotal: 49.9s\tremaining: 709ms\n",
            "986:\tlearn: 0.4478894\ttotal: 50s\tremaining: 658ms\n",
            "987:\tlearn: 0.4478778\ttotal: 50s\tremaining: 608ms\n",
            "988:\tlearn: 0.4478707\ttotal: 50.1s\tremaining: 557ms\n",
            "989:\tlearn: 0.4478587\ttotal: 50.1s\tremaining: 506ms\n",
            "990:\tlearn: 0.4478480\ttotal: 50.2s\tremaining: 456ms\n",
            "991:\tlearn: 0.4478237\ttotal: 50.2s\tremaining: 405ms\n",
            "992:\tlearn: 0.4477813\ttotal: 50.3s\tremaining: 354ms\n",
            "993:\tlearn: 0.4477721\ttotal: 50.3s\tremaining: 304ms\n",
            "994:\tlearn: 0.4477573\ttotal: 50.4s\tremaining: 253ms\n",
            "995:\tlearn: 0.4477523\ttotal: 50.5s\tremaining: 203ms\n",
            "996:\tlearn: 0.4477414\ttotal: 50.5s\tremaining: 152ms\n",
            "997:\tlearn: 0.4477236\ttotal: 50.6s\tremaining: 101ms\n",
            "998:\tlearn: 0.4477078\ttotal: 50.6s\tremaining: 50.7ms\n",
            "999:\tlearn: 0.4476932\ttotal: 50.7s\tremaining: 0us\n"
          ],
          "name": "stdout"
        },
        {
          "output_type": "execute_result",
          "data": {
            "text/plain": [
              "<catboost.core.CatBoostClassifier at 0x7f64c6047f10>"
            ]
          },
          "metadata": {
            "tags": []
          },
          "execution_count": 55
        }
      ]
    },
    {
      "cell_type": "markdown",
      "metadata": {
        "id": "BUl6NXeBqQxT"
      },
      "source": [
        "Сделаем предсказания на тестовой выборке, сформируем из них рекомендации. "
      ]
    },
    {
      "cell_type": "code",
      "metadata": {
        "id": "-R_VN9XEqQxT",
        "outputId": "642d8db4-6dba-4347-ba0c-c9dc06373a40",
        "colab": {
          "base_uri": "https://localhost:8080/",
          "height": 117,
          "referenced_widgets": [
            "1b631ac85bc846b78ae51d9dcf70ee01",
            "6f8127ffe6574f02a3af6d24dfde9045",
            "094589f39e8247f7860a974e741d05b2",
            "8ccb219f876e407a9184a7f22cb05a1e",
            "a4b5469837e24292b903da1799f4f04f",
            "eb0120021f8940b49f886f98d17ced7b",
            "a41f8dba02164cbfa22592503c14adce",
            "a203cfd1ba9b4216bb6e99dbf2245425"
          ]
        }
      },
      "source": [
        "predictions = model.predict_proba(test[interactions_train_df.columns[features_start:]])[:, 1]\n",
        "test['predictions'] = predictions\n",
        "\n",
        "test = test.sort_values('predictions', ascending=False)\n",
        "predictions = test.groupby('personId')['contentId'].aggregate(list)\n",
        "tmp_predictions = []\n",
        "\n",
        "for personId in tqdm_notebook(interactions.index):\n",
        "    prediction = np.array(predictions.loc[personId])\n",
        "    \n",
        "    tmp_predictions.append(list(prediction[~np.in1d(prediction,\n",
        "                                                    interactions.loc[personId, 'true_train'])])[:top_k])\n",
        "    \n",
        "interactions['prediction_content'] = tmp_predictions"
      ],
      "execution_count": 56,
      "outputs": [
        {
          "output_type": "stream",
          "text": [
            "/usr/local/lib/python3.7/dist-packages/ipykernel_launcher.py:8: TqdmDeprecationWarning: This function will be removed in tqdm==5.0.0\n",
            "Please use `tqdm.notebook.tqdm` instead of `tqdm.tqdm_notebook`\n",
            "  \n"
          ],
          "name": "stderr"
        },
        {
          "output_type": "display_data",
          "data": {
            "application/vnd.jupyter.widget-view+json": {
              "model_id": "1b631ac85bc846b78ae51d9dcf70ee01",
              "version_minor": 0,
              "version_major": 2
            },
            "text/plain": [
              "HBox(children=(FloatProgress(value=0.0, max=1112.0), HTML(value='')))"
            ]
          },
          "metadata": {
            "tags": []
          }
        },
        {
          "output_type": "stream",
          "text": [
            "\n"
          ],
          "name": "stdout"
        }
      ]
    },
    {
      "cell_type": "markdown",
      "metadata": {
        "id": "c482xq98qQxT"
      },
      "source": [
        "Оценим их качество."
      ]
    },
    {
      "cell_type": "code",
      "metadata": {
        "scrolled": true,
        "id": "JALMeX5DqQxT",
        "outputId": "5647624e-8478-4036-8ffb-481e7978cb16",
        "colab": {
          "base_uri": "https://localhost:8080/"
        }
      },
      "source": [
        "calc_precision('prediction_content')"
      ],
      "execution_count": 57,
      "outputs": [
        {
          "output_type": "execute_result",
          "data": {
            "text/plain": [
              "0.006318320609192565"
            ]
          },
          "metadata": {
            "tags": []
          },
          "execution_count": 57
        }
      ]
    },
    {
      "cell_type": "markdown",
      "metadata": {
        "id": "9sfoN8DXqQxT"
      },
      "source": [
        "## Часть 4. Факторизационная машина"
      ]
    },
    {
      "cell_type": "markdown",
      "metadata": {
        "id": "7TinQFAfqQxU"
      },
      "source": [
        "Вспомним, что факторизационная машина учитывает попарные взаимодействия признаков, что приводит сразу и к использованию контента (сами признаки), и к обучению скрытых представлений (индикаторы пользователей и статей).\n",
        "\n",
        "Попробуем факторизационные машины из библиотеки pyFM (так как можно работать прямо из питона). https://github.com/coreylynch/pyFM"
      ]
    },
    {
      "cell_type": "code",
      "metadata": {
        "id": "B3ifB2McqQxU"
      },
      "source": [
        "from pyfm import pylibfm\n",
        "from sklearn.feature_extraction import DictVectorizer"
      ],
      "execution_count": 58,
      "outputs": []
    },
    {
      "cell_type": "markdown",
      "metadata": {
        "id": "qMbn4bsTqQxU"
      },
      "source": [
        "Перейдём к обобщению матричных разложений — факторизационным машинам, которые могут работать с контентной информацией. Вспомним, какие данные у нас изначально были:"
      ]
    },
    {
      "cell_type": "markdown",
      "metadata": {
        "id": "nLko8SExqQxU"
      },
      "source": [
        "В факторизационную машину можно загрузить \"айдишники\" пользователей и статей (то есть сделать аналог коллаборативной фильтрации) и одновременно различные признаки.\n",
        "\n",
        "Удобно обрабатывать категориальные переменные (id и другие) можно с помощью DictVectorizer. Например, процесс может выглядить вот так:\n",
        "```python\n",
        "train = [\n",
        "    {\"user\": \"1\", \"item\": \"5\", \"age\": 19},\n",
        "    {\"user\": \"2\", \"item\": \"43\", \"age\": 33},\n",
        "    {\"user\": \"3\", \"item\": \"20\", \"age\": 55},\n",
        "    {\"user\": \"4\", \"item\": \"10\", \"age\": 20},\n",
        "]\n",
        "v = DictVectorizer()\n",
        "X = v.fit_transform(train)\n",
        "y = np.repeat(1.0, X.shape[0])\n",
        "fm = pylibfm.FM()\n",
        "fm.fit(X,y)\n",
        "fm.predict(v.transform({\"user\": \"1\", \"item\": \"10\", \"age\": 24}))\n",
        "```"
      ]
    },
    {
      "cell_type": "markdown",
      "metadata": {
        "id": "vQyuMPieqQxU"
      },
      "source": [
        "Сгенерируем таблицу с признаками в таком виде, где будут id пользователя, статьи и автора статьи и несколько признаков, которые вы сможете придумать."
      ]
    },
    {
      "cell_type": "code",
      "metadata": {
        "id": "y5SrdAvpqQxU",
        "outputId": "a49b3bb6-0274-414b-b3e2-aca299e6b5e6",
        "colab": {
          "base_uri": "https://localhost:8080/",
          "height": 117,
          "referenced_widgets": [
            "3aedfb05d9d7418e84c2c1e2f2d0a9e7",
            "fa10cf7dc5e3476bb29404917a2deb30",
            "fdb260e719b24e89ba0466d3b76b0284",
            "403bd52edc6145f9adc50b4d677a7f97",
            "22117299d17c479f9293b2609606af76",
            "da699fa119114c2b9cd36b85265959a5",
            "4796f98af7ae4ed486b48a9035de077a",
            "a6c9bb6e3873468e8447457409cc5f0b"
          ]
        }
      },
      "source": [
        "train_data = []\n",
        "\n",
        "for i in tqdm_notebook(range(len(interactions_train_df))):\n",
        "    features = {}\n",
        "    features['personId'] = str(interactions_train_df.iloc[i].personId)\n",
        "    features['contentId'] = str(interactions_train_df.iloc[i].contentId)\n",
        "    try:\n",
        "        article = articles_df.loc[features['contentId']]\n",
        "        features['authorId'] = str(article.authorPersonId)\n",
        "        features['authorCountry'] = str(article.authorCountry)\n",
        "        features['lang'] = str(article.lang)\n",
        "    except:\n",
        "        features['authorId'] = 'unknown'\n",
        "        features['authorCountry'] = 'unknown'\n",
        "        features['lang'] = 'unknown'\n",
        "        \n",
        "    train_data.append(features)"
      ],
      "execution_count": 59,
      "outputs": [
        {
          "output_type": "stream",
          "text": [
            "/usr/local/lib/python3.7/dist-packages/ipykernel_launcher.py:3: TqdmDeprecationWarning: This function will be removed in tqdm==5.0.0\n",
            "Please use `tqdm.notebook.tqdm` instead of `tqdm.tqdm_notebook`\n",
            "  This is separate from the ipykernel package so we can avoid doing imports until\n"
          ],
          "name": "stderr"
        },
        {
          "output_type": "display_data",
          "data": {
            "application/vnd.jupyter.widget-view+json": {
              "model_id": "3aedfb05d9d7418e84c2c1e2f2d0a9e7",
              "version_minor": 0,
              "version_major": 2
            },
            "text/plain": [
              "HBox(children=(FloatProgress(value=0.0, max=146645.0), HTML(value='')))"
            ]
          },
          "metadata": {
            "tags": []
          }
        },
        {
          "output_type": "stream",
          "text": [
            "\n"
          ],
          "name": "stdout"
        }
      ]
    },
    {
      "cell_type": "markdown",
      "metadata": {
        "id": "5ZcgOHfCqQxU"
      },
      "source": [
        "Повторим эту процедуру для тестовой выборки. Заметим, что модель оценивает каждую пару потенциального взаимодействия, а значит, надо подготовить выборку из всех возможных пар из пользователей и статей."
      ]
    },
    {
      "cell_type": "code",
      "metadata": {
        "id": "PHXjzLtlqQxV",
        "outputId": "fa8b355e-9a57-4619-cf01-e372d8a1df41",
        "colab": {
          "base_uri": "https://localhost:8080/",
          "height": 117,
          "referenced_widgets": [
            "caa83da85cf94c86bffca7a78730ff16",
            "d61c25fde1cf48dfb93a948c41582c75",
            "cbda65d4da14447aa506934096abb5d3",
            "8fffb11de0b94794a9008355f8089be6",
            "dd0148f02b70435fbf1dcffee783d924",
            "32eb9377e91e45cbae65dd15c6ebeade",
            "311618924df541418eeb3c7d02cc6d83",
            "52778f2eb4ca45b2a6ddbc36a42c2ae2"
          ]
        }
      },
      "source": [
        "from copy import deepcopy\n",
        "\n",
        "test_data = []\n",
        "\n",
        "for i in tqdm_notebook(range(len(interactions))):\n",
        "    features = {}\n",
        "    features['personId'] = str(interactions.index[i])  \n",
        "    for j in range(len(ratings.columns)):\n",
        "        features['contentId'] = str(ratings.columns[j])\n",
        "        \n",
        "        try:\n",
        "            article = articles_df.loc[features['contentId']]\n",
        "            features['authorId'] = str(article.authorPersonId)\n",
        "            features['authorCountry'] = str(article.authorCountry)\n",
        "            features['lang'] = str(article.lang)\n",
        "        except:\n",
        "            features['authorId'] = 'unknown'\n",
        "            features['authorCountry'] = 'unknown'\n",
        "            features['lang'] = 'unknown'\n",
        "\n",
        "        test_data.append(deepcopy(features))"
      ],
      "execution_count": 60,
      "outputs": [
        {
          "output_type": "stream",
          "text": [
            "/usr/local/lib/python3.7/dist-packages/ipykernel_launcher.py:5: TqdmDeprecationWarning: This function will be removed in tqdm==5.0.0\n",
            "Please use `tqdm.notebook.tqdm` instead of `tqdm.tqdm_notebook`\n",
            "  \"\"\"\n"
          ],
          "name": "stderr"
        },
        {
          "output_type": "display_data",
          "data": {
            "application/vnd.jupyter.widget-view+json": {
              "model_id": "caa83da85cf94c86bffca7a78730ff16",
              "version_minor": 0,
              "version_major": 2
            },
            "text/plain": [
              "HBox(children=(FloatProgress(value=0.0, max=1112.0), HTML(value='')))"
            ]
          },
          "metadata": {
            "tags": []
          }
        },
        {
          "output_type": "stream",
          "text": [
            "\n"
          ],
          "name": "stdout"
        }
      ]
    },
    {
      "cell_type": "markdown",
      "metadata": {
        "id": "FIQ3XWnpqQxV"
      },
      "source": [
        "Векторизуем, получим разреженные матрицы.\n",
        "\n",
        "Мы будем обучать регрессор на силу взаимодействия, а для него нужны отрицательные примеры. Добавим некоторое количество случайных примеров как негативные (матрица взаимодействий разреженная, поэтому шансы взять как негативное взаимодействие некоторое положительное мало)."
      ]
    },
    {
      "cell_type": "code",
      "metadata": {
        "id": "baRV9_xAqQxV"
      },
      "source": [
        "dv = DictVectorizer()\n",
        "\n",
        "train_features = dv.fit_transform(train_data + list(np.random.permutation(test_data)[:100000]))\n",
        "test_features = dv.transform(test_data)"
      ],
      "execution_count": 62,
      "outputs": []
    },
    {
      "cell_type": "code",
      "metadata": {
        "id": "BAlJOSTRqQxV",
        "outputId": "365f1351-d967-458e-8b80-42fc4963b8d9",
        "colab": {
          "base_uri": "https://localhost:8080/"
        }
      },
      "source": [
        "train_features"
      ],
      "execution_count": 63,
      "outputs": [
        {
          "output_type": "execute_result",
          "data": {
            "text/plain": [
              "<246645x3481 sparse matrix of type '<class 'numpy.float64'>'\n",
              "\twith 1233225 stored elements in Compressed Sparse Row format>"
            ]
          },
          "metadata": {
            "tags": []
          },
          "execution_count": 63
        }
      ]
    },
    {
      "cell_type": "code",
      "metadata": {
        "id": "ur3qQ5HkqQxV"
      },
      "source": [
        "y_train = list(interactions_train_df.eventStrength.values) + list(np.zeros(100000))"
      ],
      "execution_count": 64,
      "outputs": []
    },
    {
      "cell_type": "markdown",
      "metadata": {
        "id": "3Dp8jkPcqQxV"
      },
      "source": [
        "Укажем размером скрытого представления 10, сделаем 10 итераций."
      ]
    },
    {
      "cell_type": "code",
      "metadata": {
        "scrolled": true,
        "id": "BippAnjNqQxV",
        "outputId": "7317c700-b3b0-427e-9a1a-ebb96a94f913",
        "colab": {
          "base_uri": "https://localhost:8080/"
        }
      },
      "source": [
        "fm = pylibfm.FM(num_factors=10, num_iter=30, task='regression')\n",
        "fm.fit(train_features, y_train)"
      ],
      "execution_count": 65,
      "outputs": [
        {
          "output_type": "stream",
          "text": [
            "Creating validation dataset of 0.01 of training for adaptive regularization\n",
            "-- Epoch 1\n",
            "Training MSE: 0.11745\n",
            "-- Epoch 2\n",
            "Training MSE: 0.11023\n",
            "-- Epoch 3\n",
            "Training MSE: 0.10854\n",
            "-- Epoch 4\n",
            "Training MSE: 0.10803\n",
            "-- Epoch 5\n",
            "Training MSE: 0.10742\n",
            "-- Epoch 6\n",
            "Training MSE: 0.10718\n",
            "-- Epoch 7\n",
            "Training MSE: 0.10678\n",
            "-- Epoch 8\n",
            "Training MSE: 0.10634\n",
            "-- Epoch 9\n",
            "Training MSE: 0.10577\n",
            "-- Epoch 10\n",
            "Training MSE: 0.10499\n",
            "-- Epoch 11\n",
            "Training MSE: 0.10395\n",
            "-- Epoch 12\n",
            "Training MSE: 0.10272\n",
            "-- Epoch 13\n",
            "Training MSE: 0.10130\n",
            "-- Epoch 14\n",
            "Training MSE: 0.09971\n",
            "-- Epoch 15\n",
            "Training MSE: 0.09872\n",
            "-- Epoch 16\n",
            "Training MSE: 0.09781\n",
            "-- Epoch 17\n",
            "Training MSE: 0.09701\n",
            "-- Epoch 18\n",
            "Training MSE: 0.09671\n",
            "-- Epoch 19\n",
            "Training MSE: 0.09573\n",
            "-- Epoch 20\n",
            "Training MSE: 0.09552\n",
            "-- Epoch 21\n",
            "Training MSE: 0.09465\n",
            "-- Epoch 22\n",
            "Training MSE: 0.09415\n",
            "-- Epoch 23\n",
            "Training MSE: 0.09390\n",
            "-- Epoch 24\n",
            "Training MSE: 0.09349\n",
            "-- Epoch 25\n",
            "Training MSE: 0.09312\n",
            "-- Epoch 26\n",
            "Training MSE: 0.09255\n",
            "-- Epoch 27\n",
            "Training MSE: 0.09234\n",
            "-- Epoch 28\n",
            "Training MSE: 0.09251\n",
            "-- Epoch 29\n",
            "Training MSE: 0.09202\n",
            "-- Epoch 30\n",
            "Training MSE: 0.09177\n"
          ],
          "name": "stdout"
        }
      ]
    },
    {
      "cell_type": "markdown",
      "metadata": {
        "id": "xa-XBf5rqQxW"
      },
      "source": [
        "Предскажем и оценим качество."
      ]
    },
    {
      "cell_type": "code",
      "metadata": {
        "id": "8vHqEovcqQxW"
      },
      "source": [
        "test_features = dv.transform(test_data)\n",
        "y_predict = fm.predict(test_features)\n",
        "new_ratings = y_predict.reshape((1112, 2366))"
      ],
      "execution_count": 66,
      "outputs": []
    },
    {
      "cell_type": "code",
      "metadata": {
        "id": "mzW7hP86qQxW"
      },
      "source": [
        "predictions = []\n",
        "\n",
        "for i, person in enumerate(interactions.index):\n",
        "    user_prediction = ratings.columns[np.argsort(new_ratings[i])[::-1]]\n",
        "    predictions.append(\n",
        "        user_prediction[~np.in1d(user_prediction,\n",
        "                                 interactions.loc[person, 'true_train'])][:top_k])\n",
        "    \n",
        "interactions['fm_prediction'] = predictions"
      ],
      "execution_count": 67,
      "outputs": []
    },
    {
      "cell_type": "code",
      "metadata": {
        "id": "REPS39o9qQxW",
        "outputId": "b329581d-2202-47ae-a396-425dab84ab67",
        "colab": {
          "base_uri": "https://localhost:8080/"
        }
      },
      "source": [
        "calc_precision('fm_prediction')"
      ],
      "execution_count": 68,
      "outputs": [
        {
          "output_type": "execute_result",
          "data": {
            "text/plain": [
              "0.00727180684876822"
            ]
          },
          "metadata": {
            "tags": []
          },
          "execution_count": 68
        }
      ]
    }
  ]
}