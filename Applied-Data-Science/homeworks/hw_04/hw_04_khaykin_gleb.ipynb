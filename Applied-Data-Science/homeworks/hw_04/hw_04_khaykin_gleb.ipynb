{
 "cells": [
  {
   "cell_type": "markdown",
   "metadata": {
    "id": "sdwwxjAQFXfw"
   },
   "source": [
    "# Прикладные задачи анализа данных\n",
    "## Домашнее задание 4: Прогнозирование временных рядов\n",
    "\n",
    "Выполнил: Хайкин Глеб, ИАД 5"
   ]
  },
  {
   "cell_type": "markdown",
   "metadata": {
    "id": "7YFkvK6vFXf9"
   },
   "source": [
    "# Введение\n",
    "\n",
    "В этом задании Вам предстоит разобраться с основами анализа и прогнозирования временных рядов. "
   ]
  },
  {
   "cell_type": "code",
   "execution_count": 1,
   "metadata": {
    "id": "DPQ9427wjLeX"
   },
   "outputs": [
    {
     "name": "stdout",
     "output_type": "stream",
     "text": [
      "Collecting orbit-ml\n",
      "  Downloading orbit_ml-1.0.13-py3-none-any.whl (102 kB)\n",
      "\u001b[K     |████████████████████████████████| 102 kB 2.6 MB/s eta 0:00:01\n",
      "\u001b[?25hCollecting custom-inherit==2.3.1\n",
      "  Downloading custom_inherit-2.3.1-py3-none-any.whl (14 kB)\n",
      "Requirement already satisfied: pandas>=1.0.3 in /opt/anaconda3/lib/python3.8/site-packages (from orbit-ml) (1.0.5)\n",
      "Requirement already satisfied: numpy>=1.18.2 in /opt/anaconda3/lib/python3.8/site-packages (from orbit-ml) (1.19.5)\n",
      "Requirement already satisfied: tqdm in /opt/anaconda3/lib/python3.8/site-packages (from orbit-ml) (4.47.0)\n",
      "^C\n",
      "\u001b[31mERROR: Operation cancelled by user\u001b[0m\n",
      "\u001b[33mWARNING: You are using pip version 21.0.1; however, version 21.1.2 is available.\n",
      "You should consider upgrading via the '/opt/anaconda3/bin/python -m pip install --upgrade pip' command.\u001b[0m\n",
      "Collecting prophet\n",
      "  Downloading prophet-1.0.1.tar.gz (65 kB)\n",
      "\u001b[K     |████████████████████████████████| 65 kB 982 kB/s eta 0:00:01\n",
      "\u001b[?25hRequirement already satisfied: Cython>=0.22 in /opt/anaconda3/lib/python3.8/site-packages (from prophet) (0.29.21)\n",
      "Collecting cmdstanpy==0.9.68\n",
      "  Downloading cmdstanpy-0.9.68-py3-none-any.whl (49 kB)\n",
      "\u001b[K     |████████████████████████████████| 49 kB 1.4 MB/s eta 0:00:01\n",
      "\u001b[?25hCollecting pystan~=2.19.1.1\n",
      "  Downloading pystan-2.19.1.1-cp38-cp38-macosx_10_9_x86_64.whl (37.4 MB)\n",
      "\u001b[K     |█▎                              | 1.4 MB 1.4 MB/s eta 0:00:26^C\n",
      "\n",
      "\u001b[31mERROR: Operation cancelled by user\u001b[0m\n",
      "\u001b[33mWARNING: You are using pip version 21.0.1; however, version 21.1.2 is available.\n",
      "You should consider upgrading via the '/opt/anaconda3/bin/python -m pip install --upgrade pip' command.\u001b[0m\n",
      "\u001b[?25hzsh:1: no matches found: sktime[all_extras]\n"
     ]
    }
   ],
   "source": [
    "!pip install orbit-ml\n",
    "!pip install prophet\n",
    "!pip install sktime[all_extras]"
   ]
  },
  {
   "cell_type": "code",
   "execution_count": null,
   "metadata": {
    "id": "37r09zfzFXgE"
   },
   "outputs": [],
   "source": [
    "%matplotlib inline\n",
    "\n",
    "from IPython import display\n",
    "import matplotlib.pyplot as plt\n",
    "\n",
    "import pandas as pd\n",
    "import numpy as np\n"
   ]
  },
  {
   "cell_type": "markdown",
   "metadata": {
    "id": "CL4IbYsbH_EW"
   },
   "source": [
    "## Задание 1 (2 балла). Поиск и предобработка данных.\n",
    "\n",
    "В этом задании Вам необходимо _самостоятельно_ найти два временных ряда: один должен обладать месячной частотой, а второй — дневной.\n",
    "\n",
    "Мы советуем поискать соответствующие временные ряды на платформе [kaggle](https://www.kaggle.com/datasets) или же взять один из [популярных](https://medium.com/analytics-vidhya/10-time-series-datasets-for-practice-d14fec9f21bc) временных рядов для анализа. \n",
    "\n",
    "**Не рекоммендуется** использовать в качестве временных рядов цены финансовых инструментов в силу плохой предсказуемости изменения цен. **Запрещается** использовать готовые наборы данных из библиотек для анализа временных рядов, например, `from orbit.utils.dataset import load_iclaims`.\n",
    "\n",
    "![bitcoin](https://avatars.mds.yandex.net/get-zen_doc/3417386/pub_6017dd4b8d30cb1780864ae0_6017f4aa8d30cb1780bf66ce/scale_1200)\n",
    "\n",
    "\n",
    "\n",
    "\n",
    "В качестве отчета по заданию:\n",
    "\n",
    "* Опишите источники временных рядов (ссылки на страницы скачивания). В случае, если данные требовали дополнительной обработки, приведите код этой обработки, загрузите данные в личное облачное хранилище и приведите ссылку на скачивание. Процесс получения временных рядов должен быть **четко** расписан и полностью **воспроизводиться**. \n",
    "\n",
    "* Приведите код считывания временных рядов из файлов и разделения на train/test. Соотношение размеров train/test на Ваше усмотрение, но мы советуем Вам выбрать 80% на 20%, если в test остаётся хотя бы пара лет наблюдений.\n",
    "\n"
   ]
  },
  {
   "cell_type": "code",
   "execution_count": null,
   "metadata": {
    "id": "V4tREl4VFXgG"
   },
   "outputs": [],
   "source": [
    "# скачаем данные\n",
    "!wget timeseries1_link\n",
    "!wget timeseries2_link"
   ]
  },
  {
   "cell_type": "code",
   "execution_count": null,
   "metadata": {
    "id": "kCsOPjrAgs62"
   },
   "outputs": [],
   "source": [
    "# считаем файлы\n",
    "ts1 = pd.read_csv(...)\n",
    "ts2 = pd.read_csv(...)"
   ]
  },
  {
   "cell_type": "code",
   "execution_count": null,
   "metadata": {
    "id": "lX3plyGFiUFV"
   },
   "outputs": [],
   "source": [
    "# сделаем разбиение на train/test"
   ]
  },
  {
   "cell_type": "markdown",
   "metadata": {
    "id": "lotD7Qf7kgYD"
   },
   "source": [
    "## Задание 2. Анализ временных рядов (1 балла).\n",
    "\n",
    "* Отрисуйте временные ряды и визуально сделайте различимым разбиение на выборки — либо вертикальной чертой, либо разными цветами.\n",
    "\n",
    "* Постройте графики автокорреляционных функций для выбранных временных рядов. Прокомментируйте их: являются ли временные ряды сезонными? Видна ли на графиках длина сезонной составляющей ряда?\n",
    "\n",
    "* В случае присутствия сезонности, разбейте временной ряд на повторяющиеся фрагменты и нарисуйте их наложенными для иллюстрации этой сезонности."
   ]
  },
  {
   "cell_type": "code",
   "execution_count": null,
   "metadata": {
    "id": "-OQ0Jnp0eNrA"
   },
   "outputs": [],
   "source": [
    "# отрисуем временные ряды\n",
    "plt.figure(figsize=(12, 4))\n",
    "plt.plot(..., ...)\n",
    "plt.xlabel('Time')\n",
    "plt.show()"
   ]
  },
  {
   "cell_type": "code",
   "execution_count": null,
   "metadata": {
    "id": "1GITHbTNe5MC"
   },
   "outputs": [],
   "source": [
    "# посчитайте и нарисуйте график автокорреляционной функции\n",
    "# hint, используйте для этого np.correlate(..., mode='full')"
   ]
  },
  {
   "cell_type": "code",
   "execution_count": null,
   "metadata": {
    "id": "1wKGSLD3fkJg"
   },
   "outputs": [],
   "source": [
    "# разбейте временной ряд на повторяющиеся участки по длине сезонной составляющей и нарисуйте их наложенными"
   ]
  },
  {
   "cell_type": "markdown",
   "metadata": {
    "id": "5G8-l8yuRNLL"
   },
   "source": [
    "## Задание 3. Предсказание месячного временного ряда (4.5 балла).\n",
    "\n",
    "В этом задании Вам предстоит попробовать предсказать месячный временной несколькими готовыми моделями со скользящим или растущим окном и выбрать среди них наилучшую.\n",
    "\n",
    "В качестве метрики сравнения используйте MAE между истинными и предсказанными значениями ряда на тестовом отрезке.\n"
   ]
  },
  {
   "cell_type": "markdown",
   "metadata": {
    "id": "dCrUK4uqjm5r"
   },
   "source": [
    "### NaiveForecaster из sktime (0.5 балл).\n",
    "\n",
    "Посчитайте предсказания следующими двумя наивными способами:\n",
    "\n",
    "* $\\hat{y}_{t+1} = y_{t}$\n",
    "* $\\hat{y}_{t+1} = y_{t-seasonality+1}$"
   ]
  },
  {
   "cell_type": "code",
   "execution_count": null,
   "metadata": {
    "id": "_IoFNGRekGUB"
   },
   "outputs": [],
   "source": [
    "from sktime.forecasting.naive import NaiveForecaster\n",
    "\n",
    "# ваш код обучения моделей здесь"
   ]
  },
  {
   "cell_type": "code",
   "execution_count": null,
   "metadata": {
    "id": "yRN0neLxkLyF"
   },
   "outputs": [],
   "source": [
    "# посчитайте метрики на test"
   ]
  },
  {
   "cell_type": "markdown",
   "metadata": {
    "id": "y0H3pYCmkRJB"
   },
   "source": [
    "### ARIMA/AutoArima (1 балл).\n",
    "\n",
    "Обучите из библиотеки `sktime` модели:\n",
    "\n",
    "* SARIMA(1, 1, 1)(1, 0, 0)[12] (`ARIMA` в `sktime`)\n",
    "* Алгоритм Хиндмана-Хандакара подбора SARIMA (`AutoARIMA` в `sktime`)"
   ]
  },
  {
   "cell_type": "code",
   "execution_count": null,
   "metadata": {
    "id": "PJZdDAP5kxKD"
   },
   "outputs": [],
   "source": [
    "from sktime.forecasting.arima import ARIMA, AutoARIMA\n",
    "\n",
    "# ваш код обучения моделей здесь"
   ]
  },
  {
   "cell_type": "code",
   "execution_count": null,
   "metadata": {
    "id": "xVuUqZp5k2LS"
   },
   "outputs": [],
   "source": [
    "# посчитайте метрики на test"
   ]
  },
  {
   "cell_type": "markdown",
   "metadata": {
    "id": "gStdA0Lelhvc"
   },
   "source": [
    "### LGT/DLT (1 балл).\n",
    "\n",
    "Обучите из библиотеки `orbit` модели LGT и DLT"
   ]
  },
  {
   "cell_type": "code",
   "execution_count": null,
   "metadata": {
    "id": "4OPLh7ddAVOr"
   },
   "outputs": [],
   "source": [
    "from orbit.models.lgt import LGTFull\n",
    "from orbit.models.dlt import DLTFull\n",
    "\n",
    "# ваш код обучения моделей здесь"
   ]
  },
  {
   "cell_type": "code",
   "execution_count": null,
   "metadata": {
    "id": "g76lFNQCl2CA"
   },
   "outputs": [],
   "source": [
    "# посчитайте метрики на test"
   ]
  },
  {
   "cell_type": "markdown",
   "metadata": {
    "id": "djQ5Ej_Ql-tK"
   },
   "source": [
    "### ETS (2 балла).\n",
    "\n",
    "Обучите из библиотеки `sklearn` модели:\n",
    "\n",
    "* ETS(AAA) (`ExponentialSmoothing` в `sktime`)\n",
    "* ETS с автоматическим выбором по AIC (`AutoETS` в `sktime`)"
   ]
  },
  {
   "cell_type": "code",
   "execution_count": null,
   "metadata": {
    "id": "bufbWl7lmRq5"
   },
   "outputs": [],
   "source": [
    "from sktime.forecasting.exp_smoothing import ExponentialSmoothing\n",
    "from sktime.forecasting.ets import AutoETS\n",
    "\n",
    "# ваш код обучения моделей здесь"
   ]
  },
  {
   "cell_type": "code",
   "execution_count": null,
   "metadata": {
    "id": "3rZPu6X-myIH"
   },
   "outputs": [],
   "source": [
    "# посчитайте метрики на test"
   ]
  },
  {
   "cell_type": "markdown",
   "metadata": {
    "id": "VBWcts9zm6_R"
   },
   "source": [
    "Нарисуйте для наилучшей модели предсказания с доверительным интервалом (если модель выдает его) и наложите их на истинные значения. В `sktime` `ETS` модель пока ещё не выдаёт доверительные интервалы, но при желании до них можно дотянуться :)"
   ]
  },
  {
   "cell_type": "code",
   "execution_count": null,
   "metadata": {
    "id": "ywyajRSonIld"
   },
   "outputs": [],
   "source": [
    "# нарисуйте пресказания"
   ]
  },
  {
   "cell_type": "markdown",
   "metadata": {
    "id": "9zOIFtBCng_F"
   },
   "source": [
    "## Задание 4. Предсказание дневного временного ряда (2.5 балла).\n",
    "\n",
    "В этом задании Вам предстоит попробовать предсказать выбранный Вами дневной временной ряд.\n",
    "\n",
    "Аналогично, в качестве метрики используем MAE.\n",
    "\n"
   ]
  },
  {
   "cell_type": "markdown",
   "metadata": {
    "id": "yi4Xtcnpn90l"
   },
   "source": [
    "### NaiveForecaster из sktime (0.5 балла).\n",
    "\n",
    "Посчитайте предсказания следующими двумя наивными способами:\n",
    "\n",
    "* $\\hat{y}_{t+1} = y_{t}$\n",
    "* $\\hat{y}_{t+1} = y_{t-seasonality+1}$"
   ]
  },
  {
   "cell_type": "code",
   "execution_count": null,
   "metadata": {
    "id": "nlWt52e6nz6p"
   },
   "outputs": [],
   "source": [
    "from sktime.forecasting.naive import NaiveForecaster\n",
    "\n",
    "# ваш код обучения моделей здесь"
   ]
  },
  {
   "cell_type": "code",
   "execution_count": null,
   "metadata": {
    "id": "fgN3g8C0oBbd"
   },
   "outputs": [],
   "source": [
    "# посчитайте метрики на test"
   ]
  },
  {
   "cell_type": "markdown",
   "metadata": {
    "id": "F9SxF6cKoHI-"
   },
   "source": [
    "### KTR из orbit (1 балл).\n",
    "\n"
   ]
  },
  {
   "cell_type": "code",
   "execution_count": null,
   "metadata": {
    "id": "IM1ELnZnoe_k"
   },
   "outputs": [],
   "source": [
    "from orbit.models.ktrlite import KTRLiteMAP\n",
    "\n",
    "# ваш код обучения моделей здесь"
   ]
  },
  {
   "cell_type": "code",
   "execution_count": null,
   "metadata": {
    "id": "FgXzlxpAojdZ"
   },
   "outputs": [],
   "source": [
    "# посчитайте метрики на test"
   ]
  },
  {
   "cell_type": "markdown",
   "metadata": {
    "id": "tB4yA3O5pkOG"
   },
   "source": [
    "### Phophet (1 балл).\n",
    "\n"
   ]
  },
  {
   "cell_type": "code",
   "execution_count": null,
   "metadata": {
    "id": "vXN-TgC5ps4p"
   },
   "outputs": [],
   "source": [
    "from prophet import Prophet\n",
    "\n",
    "# ваш код обучения моделей здесь"
   ]
  },
  {
   "cell_type": "code",
   "execution_count": null,
   "metadata": {
    "id": "_72XL9Q1pvLB"
   },
   "outputs": [],
   "source": [
    "# посчитайте метрики на test"
   ]
  },
  {
   "cell_type": "markdown",
   "metadata": {
    "id": "h2vnQTxOqR_b"
   },
   "source": [
    "Нарисуйте для наилучшей модели предсказания с доверительным интервалом (если модель выдает его) и наложите их на истинные значения."
   ]
  },
  {
   "cell_type": "code",
   "execution_count": null,
   "metadata": {
    "id": "qUR6CFvNqUnA"
   },
   "outputs": [],
   "source": [
    "# нарисуйте пресказания"
   ]
  },
  {
   "cell_type": "markdown",
   "metadata": {
    "id": "fUs_-aYFqZMv"
   },
   "source": [
    "## Бонус. Напишите свою модель на STAN (3 балла).\n",
    "\n",
    "Разработайте и испытай свою модель для месячного ряда в STAN.\n",
    "\n",
    "Сравните качество прогнозов с наивной сезонной на тестовой выборке с помощью MAE. \n",
    "\n"
   ]
  },
  {
   "cell_type": "code",
   "execution_count": null,
   "metadata": {
    "id": "nC-PRk4eqqqO"
   },
   "outputs": [],
   "source": [
    "# ваш код модели на STAN и её обучения моделей здесь"
   ]
  },
  {
   "cell_type": "code",
   "execution_count": null,
   "metadata": {
    "id": "qssr0cPrqvS_"
   },
   "outputs": [],
   "source": [
    "# посчитайте метрики на test"
   ]
  },
  {
   "cell_type": "code",
   "execution_count": null,
   "metadata": {
    "id": "GgaAFZAyqwhY"
   },
   "outputs": [],
   "source": [
    "# нарисуйте пресказания"
   ]
  }
 ],
 "metadata": {
  "accelerator": "GPU",
  "colab": {
   "collapsed_sections": [],
   "name": "HW4_unsolved.ipynb",
   "provenance": []
  },
  "kernelspec": {
   "display_name": "Python 3",
   "language": "python",
   "name": "python3"
  },
  "language_info": {
   "codemirror_mode": {
    "name": "ipython",
    "version": 3
   },
   "file_extension": ".py",
   "mimetype": "text/x-python",
   "name": "python",
   "nbconvert_exporter": "python",
   "pygments_lexer": "ipython3",
   "version": "3.8.3"
  }
 },
 "nbformat": 4,
 "nbformat_minor": 1
}
