{
 "cells": [
  {
   "cell_type": "markdown",
   "metadata": {},
   "source": [
    "# Машинное обучение, ФКН ВШЭ\n",
    "\n",
    "# Практическое задание 9. EM-алгоритм\n",
    "\n",
    "## Общая информация\n",
    "Дата выдачи: 24.02.2021\n",
    "\n",
    "Мягкий дедлайн: 09.03.2021 01:59 MSK\n",
    "\n",
    "Жёсткий дедлайн: 13.03.2021 01:59 MSK\n",
    "\n",
    "## Оценивание и штрафы\n",
    "Каждая из задач имеет определенную «стоимость» (указана в скобках около задачи). Максимальная оценка за работу (без учёта бонусов) — 15 баллов.\n",
    "\n",
    "Сдавать задание после указанного жёсткого срока сдачи нельзя. При выставлении неполного балла за задание в связи с наличием ошибок на усмотрение проверяющего предусмотрена возможность исправить работу на указанных в ответном письме условиях.\n",
    "\n",
    "Задание выполняется самостоятельно. «Похожие» решения считаются плагиатом и все задействованные студенты (в том числе те, у кого списали) не могут получить за него больше 0 баллов (подробнее о плагиате см. на странице курса). Если вы нашли решение какого-то из заданий (или его часть) в открытом источнике, необходимо указать ссылку на этот источник в отдельном блоке в конце вашей работы (скорее всего вы будете не единственным, кто это нашел, поэтому чтобы исключить подозрение в плагиате, необходима ссылка на источник).\n",
    "\n",
    "Неэффективная реализация кода может негативно отразиться на оценке.\n",
    "\n",
    "## Формат сдачи\n",
    "Задания сдаются через систему anytask. Посылка должна содержать:\n",
    "* Ноутбук homework-practice-09-em-Username.ipynb\n",
    "* Модули preprocessing.py, metrics.py, models.py, содержащие написанный вами код\n",
    "* Ссылки на посылки в Яндекс.Контест для всех функций и классов, которые вы реализовали\n",
    "\n",
    "Ссылка на Яндекс.Контест: https://contest.yandex.ru/contest/25534\n",
    "\n",
    "Username — ваша фамилия и имя на латинице именно в таком порядке"
   ]
  },
  {
   "cell_type": "markdown",
   "metadata": {},
   "source": [
    "## Импорт библиотек"
   ]
  },
  {
   "cell_type": "code",
   "execution_count": 1,
   "metadata": {},
   "outputs": [],
   "source": [
    "# Оформление \n",
    "from typing import List, Tuple, Dict, Union, Optional\n",
    "\n",
    "# Картинки\n",
    "import matplotlib.pyplot as plt\n",
    "plt.style.use('ggplot')\n",
    "%matplotlib inline\n",
    "%config InlineBackend.figure_format ='retina'\n",
    "\n",
    "# Фиксируем размер графиков\n",
    "from matplotlib.pylab import rcParams\n",
    "rcParams['figure.figsize'] = 10, 8\n",
    "\n",
    "import matplotlib as mpl\n",
    "plt.rcParams.update({\n",
    "    \"text.usetex\": False,\n",
    "    \"font.family\": \"DejaVu Sans\",\n",
    "    \"font.sans-serif\": [\"Benton Sans\"]})\n",
    "\n",
    "# Основное\n",
    "import numpy as np\n",
    "import pandas as pd\n",
    "from scipy.special import expit\n",
    "from tqdm.notebook import tqdm\n",
    "\n",
    "# Метрики\n",
    "from sklearn.metrics import accuracy_score\n",
    "\n",
    "# Остальное\n",
    "import os, sys\n",
    "from os.path import join"
   ]
  },
  {
   "cell_type": "markdown",
   "metadata": {},
   "source": [
    "# Generative model of Labels, Abilities, and Difficulties (GLAD)\n",
    "\n",
    "В [семинаре 15](https://github.com/esokolov/ml-course-hse/blob/master/2020-spring/seminars/sem15-em.pdf) мы рассмотрели задачу восстановления истинной разметки по меткам от экспертов (которым мы не можем доверять в полной мере, более того, их предсказания могут расходиться).\n",
    "\n",
    "Рассмотрим следующую вероятностную модель:\n",
    "\n",
    "$$ p(L, Z | \\alpha, \\beta) = \\prod_{i=1}^{n} \\prod_{j=1}^m \\sigma(\\alpha_j\\beta_i)^{[l_{ij}=z_i]}\\sigma(-\\alpha_j\\beta_i)^{1-[l_{ij}=z_i]} p(z_j)$$\n",
    "\n",
    "где $l_{ij} -$ ответ $j$-го эксперта на задачу $i$, $z_j -$ истинная разметка, $\\alpha_i, \\beta_j-$ уровень экспертизы и сложность задачи соответственно. Для более подробного описания модели можно прочитать материалы семинара, а также [оригинальную статью](http://papers.nips.cc/paper/3644-whose-vote-should-count-more-optimal-integration-of-labels-from-labelers-of-unknown-expertise.pdf). Априорное распределение положим равномерным: $p(z_i) = 0.5$."
   ]
  },
  {
   "cell_type": "code",
   "execution_count": 2,
   "metadata": {},
   "outputs": [],
   "source": [
    "seed = 0xDEADF00D\n",
    "np.random.seed(seed)"
   ]
  },
  {
   "cell_type": "code",
   "execution_count": 3,
   "metadata": {},
   "outputs": [],
   "source": [
    "L = np.load('L.npy')\n",
    "n, m = L.shape"
   ]
  },
  {
   "cell_type": "markdown",
   "metadata": {},
   "source": [
    "**Задание 1. (2 балла)** Реализуйте EM-алгоритм для заданной выше модели. Вы можете воспользоваться предложенными шаблонами или написать свои. \n",
    "\n",
    "Обратите внимание, что правдоподобие моделирует не вероятность метки $l_{ij}$ принять значение 1 или 0, а вероятность того, что она равна скрытой переменной $z_i$, т.е. $p(l_{ij} = z_j|z_j, \\alpha_j, \\beta_i) \\neq p(l_{ij} = 1|\\alpha_j, \\beta_i) $. При этом заранее неизвестно, какая из скрытых переменных соответствует метке 1. Не забывайте, что параметры $\\beta_i$ должны быть неотрицательными; для этого оптимизируйте $\\log \\beta$. На M-шаге можете использовать как один шаг градиентного спуска, так и несколько: разумные результаты у вас должны получаться вне зависимости от числа итераций.\n",
    "\n",
    "Также при работе с вероятностями не забывайте о точности:\n",
    "1. Используйте логарифмы вероятностей.\n",
    "2. $\\log \\sigma(a)$ лучше преобразовать в $\\log \\sigma(a) = -\\log(1 + \\exp(-a)) = -\\mathrm{softplus}(-a) $\n",
    "3. Ещё полезные функции: `scipy.special.expit`, `scipy.special.logsumexp`, `np.log1p`\n",
    "\n",
    "Для отладки может быть полезно проверить градиент с помощью `scipy.optimize.check_grad`."
   ]
  },
  {
   "cell_type": "code",
   "execution_count": 4,
   "metadata": {},
   "outputs": [],
   "source": [
    "def softplus(x):\n",
    "    '''stable version of log(1 + exp(x))'''\n",
    "    c = (x > 20) * 1.\n",
    "    return np.log1p(np.exp(x * (1-c)) * (1-c)) + x * c"
   ]
  },
  {
   "cell_type": "code",
   "execution_count": 5,
   "metadata": {},
   "outputs": [],
   "source": [
    "class EM: \n",
    "    def __init__(self, L, seed, n_steps=1000, lr=1e-3) -> None:\n",
    "        self.L = L\n",
    "        self.n_steps = n_steps\n",
    "        self.lr = lr\n",
    "        \n",
    "        # n — количество задач, m — количество экспертов\n",
    "        self.n, self.m = self.L.shape\n",
    "        # Изначальное приближение параметров\n",
    "        # alpha — экспертиза, beta — уровень сложности задачи\n",
    "        np.random.seed(seed)\n",
    "        self.alpha, self.logbeta = np.random.randn(self.m), np.random.randn(self.n)\n",
    "        # Априорное распределение принадлежание объектов истинному классу, \n",
    "        # где пусть первая строка равна классу \"0\", а вторая — классу \"1\"\n",
    "        self.q = np.ones(shape=(2, len(self.logbeta))) * 0.5\n",
    "            \n",
    "    def e_step(self) -> None:\n",
    "        \"\"\"\n",
    "        Вычисляем ожидаемое значение вектора скрытых переменных Z по \n",
    "        текущему приближению векторов параметров \\alpha и \\beta:\n",
    "        Считаем апостериорное распределение p(z|l, \\alpha, \\beta)\n",
    "        \"\"\"        \n",
    "        # \\log\\sigma(\\alpha\\beta)\n",
    "        log_sigmoid = -softplus(-self.alpha.repeat(self.n).reshape((self.m, self.n)) * np.exp(self.logbeta))\n",
    "        # \\log\\sigma(-\\alpha\\beta)\n",
    "        log_sigmoid_minus = -softplus(self.alpha.repeat(self.n).reshape((self.m, self.n)) * np.exp(self.logbeta))\n",
    "        \n",
    "        # Считаем логарифм неполного правдоподобия \n",
    "        # p(l, t| \\alpha, \\beta) = \\logp(t) + \\sum_{t\\in{0, 1}} logp(l|t, \\alpha, \\beta), где\n",
    "        # logp(l|t, \\alpha, \\beta) = [l = t]\\log\\sigma(\\alpha\\beta) + [l \\neq t]\\log\\sigma(-\\alpha\\beta)\n",
    "        t_is_0 = log_sigmoid ** (self.L.T == 0) * log_sigmoid_minus ** (self.L.T != 0)\n",
    "        t_is_1 = log_sigmoid ** (self.L.T == 1) * log_sigmoid_minus ** (self.L.T != 1)\n",
    "        gamma_0 = np.log(self.q[0,:]) + t_is_0.sum(axis=0)\n",
    "        gamma_1 = np.log(self.q[1,:]) + t_is_1.sum(axis=0)\n",
    "        \n",
    "        # Применяем softmax\n",
    "        self.q[0, :] = np.exp(gamma_0) / (np.exp(gamma_0) + np.exp(gamma_1))\n",
    "        self.q[1, :] = np.exp(gamma_1) / (np.exp(gamma_0) + np.exp(gamma_1))\n",
    "        \n",
    "        # Избегаем ситуации log(0)\n",
    "        new_q_0 = np.where(self.q[0, :] > 1e-20, self.q[0, :], 1e-20)\n",
    "        new_q_1 = np.where(self.q[1, :] > 1e-20, self.q[1, :], 1e-20)\n",
    "        self.q[0, :] = new_q_0\n",
    "        self.q[1, :] = new_q_1\n",
    "        \n",
    "    def alpha_grad(self) -> np.ndarray:\n",
    "        \"\"\"\n",
    "        Берем градиент матожидания логарифма полного правдоподобия \\logp(l, z|\\alpha, \\beta) по \\alpha на q*\n",
    "        \"\"\"\n",
    "        sigmoid = expit(self.alpha.repeat(self.n).reshape((self.m, self.n)) * np.exp(self.logbeta))\n",
    "        sigmoid_minus = 1 - sigmoid\n",
    "        \n",
    "        t_is_0 = sigmoid_minus ** (self.L.T == 0) * (- sigmoid) ** (self.L.T != 0)\n",
    "        t_is_1 = sigmoid_minus ** (self.L.T == 1) * (- sigmoid) ** (self.L.T != 1)\n",
    "        \n",
    "        part_1 = self.q[0,:] * np.exp(self.logbeta) * t_is_0\n",
    "        part_2 = self.q[1,:] * np.exp(self.logbeta) * t_is_1\n",
    "        \n",
    "        # Суммируем по i \\in {1, ..., n}\n",
    "        return (part_1 + part_2).sum(axis=1)\n",
    "    \n",
    "    def beta_grad(self) -> np.ndarray:\n",
    "        \"\"\"\n",
    "        Берем градиент матожидания логарифма полного правдоподобия \\logp(l, z|\\alpha, \\beta) по \\beta на q*\n",
    "        \"\"\"\n",
    "        sigmoid = expit(self.alpha.repeat(self.n).reshape((self.m, self.n)) * np.exp(self.logbeta))\n",
    "        sigmoid_minus = 1 - sigmoid\n",
    "        \n",
    "        t_is_0 = sigmoid_minus ** (self.L.T == 0) * (- sigmoid) ** (self.L.T != 0)\n",
    "        t_is_1 = sigmoid_minus ** (self.L.T == 1) * (- sigmoid) ** (self.L.T != 1)\n",
    "        \n",
    "        part_1 = self.q[0,:] * self.alpha.repeat(self.n).reshape((self.m, self.n)) * t_is_0\n",
    "        part_2 = self.q[1,:] * self.alpha.repeat(self.n).reshape((self.m, self.n)) * t_is_1\n",
    "        \n",
    "        # Суммируем по j \\in {1, ..., m}\n",
    "        return (part_1 + part_2).sum(axis=0)\n",
    "\n",
    "    def m_step(self) -> None:\n",
    "        \"\"\"\n",
    "        Максимизируем правдоподобие выборки и находим следующее\n",
    "        приближение векторов параметров \\alpha и \\beta по текущим значениям\n",
    "        Z и векторов параметров \\alpha и \\beta \n",
    "        \"\"\"\n",
    "        # Делаем градиентный подъем\n",
    "        self.alpha += self.lr * self.alpha_grad()\n",
    "        self.logbeta = np.log(np.exp(self.logbeta) + self.lr * self.beta_grad())\n",
    "\n",
    "    def fit(self) -> Tuple[np.ndarray]:\n",
    "        for step in tqdm(range(self.n_steps)):\n",
    "            self.e_step()\n",
    "            self.m_step()\n",
    "            \n",
    "        return self.alpha, np.exp(self.logbeta), self.q"
   ]
  },
  {
   "cell_type": "code",
   "execution_count": 6,
   "metadata": {},
   "outputs": [],
   "source": [
    "em = EM(L, seed=seed, lr=1e-4)"
   ]
  },
  {
   "cell_type": "code",
   "execution_count": 7,
   "metadata": {},
   "outputs": [
    {
     "data": {
      "application/vnd.jupyter.widget-view+json": {
       "model_id": "7a0f843443c849d28390f9995ab28b2c",
       "version_major": 2,
       "version_minor": 0
      },
      "text/plain": [
       "HBox(children=(FloatProgress(value=0.0, max=1000.0), HTML(value='')))"
      ]
     },
     "metadata": {},
     "output_type": "display_data"
    },
    {
     "name": "stdout",
     "output_type": "stream",
     "text": [
      "\n"
     ]
    }
   ],
   "source": [
    "alpha, beta, q = em.fit()"
   ]
  },
  {
   "cell_type": "markdown",
   "metadata": {},
   "source": [
    "**Задание 2. (1 балл)** Загрузите настоящую разметку. Посчитайте `accuracy` разметки, полученной с помощью обычного голосования по большинству среди экспертов, и сравните его с качеством, полученным с помощью EM-алгоритма. Помните, что алгоритму не важно, какая метка 0, а какая 1, поэтому если получите качество <0.5, то просто поменяйте метки классов (не забудьте также поменять знак у $\\alpha$). "
   ]
  },
  {
   "cell_type": "code",
   "execution_count": 8,
   "metadata": {},
   "outputs": [],
   "source": [
    "y_true = np.load('y.npy')"
   ]
  },
  {
   "cell_type": "markdown",
   "metadata": {},
   "source": [
    "#### Обычное голосование по большинству"
   ]
  },
  {
   "cell_type": "code",
   "execution_count": 9,
   "metadata": {},
   "outputs": [],
   "source": [
    "y_pred = np.round(L.sum(axis=1) / 20)"
   ]
  },
  {
   "cell_type": "code",
   "execution_count": 10,
   "metadata": {},
   "outputs": [
    {
     "data": {
      "text/plain": [
       "0.904"
      ]
     },
     "execution_count": 10,
     "metadata": {},
     "output_type": "execute_result"
    }
   ],
   "source": [
    "accuracy_score(y_pred, y_true)"
   ]
  },
  {
   "cell_type": "markdown",
   "metadata": {},
   "source": [
    "#### EM-алгоритм"
   ]
  },
  {
   "cell_type": "code",
   "execution_count": 11,
   "metadata": {},
   "outputs": [],
   "source": [
    "def change_markups_if_necessary(q, alpha) -> Tuple[np.ndarray]:\n",
    "    if accuracy_score(y_true, np.argmax(q, axis=0)) < 0.5:\n",
    "        q = np.vstack((q[1, :], q[0, :]))\n",
    "        alpha = -alpha\n",
    "    return q, alpha"
   ]
  },
  {
   "cell_type": "code",
   "execution_count": 12,
   "metadata": {},
   "outputs": [],
   "source": [
    "q, alpha = change_markups_if_necessary(q, alpha)"
   ]
  },
  {
   "cell_type": "code",
   "execution_count": 13,
   "metadata": {},
   "outputs": [
    {
     "data": {
      "text/plain": [
       "0.95"
      ]
     },
     "execution_count": 13,
     "metadata": {},
     "output_type": "execute_result"
    }
   ],
   "source": [
    "y_pred = np.argmax(q, axis=0)\n",
    "accuracy_score(y_pred, y_true)"
   ]
  },
  {
   "cell_type": "markdown",
   "metadata": {},
   "source": [
    "#### Вывод\n",
    "Как видим, качество ЕМ-алгоритма на $5\\%$ выше обычного голосования по большинству.\n",
    "По выходу ЕМ-алгоритма можно увидеть, каким экспертам стоит больше доверять:"
   ]
  },
  {
   "cell_type": "code",
   "execution_count": 14,
   "metadata": {},
   "outputs": [
    {
     "data": {
      "text/plain": [
       "array([ 0.34090672,  0.22703319,  1.46497507,  0.24848734,  0.27747735,\n",
       "        1.8707389 ,  0.28911012,  1.48640403, -2.06303802,  0.27001472,\n",
       "       -2.01230099, -1.93613361,  1.91367513,  0.26792622,  0.24597105,\n",
       "        0.20049804,  0.32710687,  1.77163896, -1.6593769 ,  1.40150739])"
      ]
     },
     "execution_count": 14,
     "metadata": {},
     "output_type": "execute_result"
    }
   ],
   "source": [
    "alpha"
   ]
  },
  {
   "cell_type": "markdown",
   "metadata": {},
   "source": [
    "**Задание 3. (0.5 балла)** Попробуйте проинтерпретировать полученные коэфициенты $\\alpha$. Есть ли в выборке эксперты, которые намеренно голосуют неверно? Как это можно понять по альфам? Продемонстрируйте, что эксперты действительно чаще голосуют за неверный класс. Постройте график зависимости доли врено размеченных экспертом объектов от коэффициента $\\alpha$. Прокомментируйте результаты."
   ]
  },
  {
   "cell_type": "markdown",
   "metadata": {},
   "source": [
    "Используя метод пристального взгляда, можно сделать предположение, что 4 \"эксперта\" действительно намеренно голосуют неверно. Коэффициент экспетизы $\\alpha_j$ у таких разметчиков не просто отицательный, но и в большей части превосходит по модулю коэффициенты экспертизы настоящих экспертов."
   ]
  },
  {
   "cell_type": "markdown",
   "metadata": {},
   "source": [
    "Сначала посмотрим, как будут справляться разметчики, которые имеют уровень экспертизы меньше определенного порога. Тем самым, мы определим, насколько важен коэффициент альфа."
   ]
  },
  {
   "cell_type": "code",
   "execution_count": 15,
   "metadata": {},
   "outputs": [],
   "source": [
    "alphas = np.arange(min(alpha), max(alpha)+0.1, 0.1)"
   ]
  },
  {
   "cell_type": "code",
   "execution_count": 16,
   "metadata": {},
   "outputs": [],
   "source": [
    "experts_accuracy = []\n",
    "\n",
    "for a in alphas:\n",
    "    experts = np.arange(20)[alpha <= a]\n",
    "    y_pred = np.round(L[:, experts].sum(axis=1) / len(experts))\n",
    "    experts_accuracy.append(accuracy_score(y_pred, y_true))"
   ]
  },
  {
   "cell_type": "code",
   "execution_count": 17,
   "metadata": {},
   "outputs": [
    {
     "data": {
      "image/png": "[encoded data removed]",
      "text/plain": [
       "<Figure size 720x576 with 1 Axes>"
      ]
     },
     "metadata": {
      "image/png": {
       "height": 539,
       "width": 646
      },
      "needs_background": "light"
     },
     "output_type": "display_data"
    }
   ],
   "source": [
    "plt.title('Влияние уровня экспертизы разметчиков на качество меток \\nв среднем', pad=14, fontsize=18, loc='left')\n",
    "plt.xlabel(r'Уровень экспертизы $\\alpha_j$', labelpad=10, fontsize=14)\n",
    "plt.ylabel('Доля верных меток', labelpad=10, fontsize=14)\n",
    "plt.ylim(0,1)\n",
    "plt.plot(alphas, experts_accuracy);"
   ]
  },
  {
   "cell_type": "markdown",
   "metadata": {},
   "source": [
    "Как видим, до коэффициента экспертизы $0.3$ разметчики очень плохо справляются со своей работой."
   ]
  },
  {
   "cell_type": "code",
   "execution_count": 18,
   "metadata": {},
   "outputs": [],
   "source": [
    "experts_accuracy = [accuracy_score(y_true, L[:, expert]) for expert in range(L.shape[1])]"
   ]
  },
  {
   "cell_type": "code",
   "execution_count": 19,
   "metadata": {},
   "outputs": [
    {
     "data": {
      "image/png": "[encoded data removed]",
      "text/plain": [
       "<Figure size 720x576 with 1 Axes>"
      ]
     },
     "metadata": {
      "image/png": {
       "height": 539,
       "width": 619
      },
      "needs_background": "light"
     },
     "output_type": "display_data"
    }
   ],
   "source": [
    "plt.title('Влияние уровня экспертизы отдельного разметчика на \\nкачество меток', pad=14, fontsize=18, loc='left')\n",
    "plt.xlabel(r'Уровень экспертизы $\\alpha_j$', labelpad=10, fontsize=14)\n",
    "plt.ylabel('Доля верных меток', labelpad=10, fontsize=14)\n",
    "plt.ylim(0, 1)\n",
    "plt.scatter(alpha, experts_accuracy);"
   ]
  },
  {
   "cell_type": "markdown",
   "metadata": {},
   "source": [
    "Как видим, у 4 разметчиков действительно очень низкая доля верных меток. Они действительно намеренно голосуют неверно (либо не обладают достаточным уровнем экспертизы). "
   ]
  },
  {
   "cell_type": "markdown",
   "metadata": {},
   "source": [
    "**Задание 4. (бонус, 2 балла)**  Как уже было замечено выше, модели не важно, какой класс 1, а какой 0. Скажем, если все эксперты оказались максимально противными и ставят метку с точностью наоборот, то у вас будет полная согласованность между экспертами, при этом невозможно понять правильно они разметили выборку или нет, смотря только на такую разметку. Чтобы избежать этого, можно включать в выборку вопрос с заведомо известным ответом, тогда вы сможете определить, ставит ли эксперт специально неверные метки.\n",
    "\n",
    "Чтобы обощить данную модель на случай заданий с заведомо известной меткой, достоточно не делать для них E-шаг, а всегда полагать апостериорное распределение вырожденным в истинном классе. Реализуйте данную модель и используйте истинную разметку *для нескольких* задач из обучения. Проинтерпретируйте полученные результаты."
   ]
  },
  {
   "cell_type": "markdown",
   "metadata": {},
   "source": [
    "# Выравнивание слов (Word Alignment)"
   ]
  },
  {
   "cell_type": "markdown",
   "metadata": {},
   "source": [
    "EM-алгоритм также применяют на практике для настройки параметров модели выравнивания слов, более сложные модификации которой используются в статистическом машинном переводе. Мы не будем подробно обсуждать применение word alignment для перевода и ограничимся следующей целью: пусть у нас есть параллельный корпус из предложений на исходном языке и их переводов на целевой язык (в этом задании используются английский и чешский соответственно). \n",
    "\n",
    "Первая задача — определить с помощью этого корпуса, как переводится каждое отдельное слово на целевом языке. Вторая задача — для произвольной пары из предложения и его перевода установить, переводом какого слова в исходном предложении является каждое слово в целевом предложении. Оказывается, у обеих задач существует элегантное и эффективное решение при введении правильной вероятностной модели: в этой части задания вам предстоит его реализовать и оценить результаты работы. Но обо всём по порядку :)\n",
    "\n",
    "---\n",
    "\n",
    "Перед тем, как заниматься машинным обучением, давайте разберёмся с данными и метриками в интересующей нас задаче. В ячейке ниже загружается и разархивируется параллельный английско-чешский корпус, в котором есть разметка выравнивания слов. Нетрудно заметить, что формат XML-файла, использованный его авторами, не вполне стандартный: нет готовой команды , которая позволила бы получить список пар предложений вместе с выравниваниями. Это значит, что нужно разобраться с форматом и написать парсер самостоятельно, используя встроенные средства Python, например, модуль [xml](https://docs.python.org/3.7/library/xml.html)."
   ]
  },
  {
   "cell_type": "code",
   "execution_count": 20,
   "metadata": {},
   "outputs": [
    {
     "name": "stdout",
     "output_type": "stream",
     "text": [
      "<?xml version=\"1.0\" encoding=\"utf-8\" ?>\n",
      "<sentences>\n",
      "<s id=\"project_syndicate_bacchetta1-s1\">\r\n",
      "  <english>Are the Dollar 's Days Numbered ?</english>\n",
      "  <czech>Jsou dny dolaru sečteny ?</czech>\n",
      "  <sure>1-1 3-3 5-2 6-4 7-5</sure>\n",
      "  <possible>2-2 4-3</possible>\n",
      "</s>\n",
      "<s id=\"project_syndicate_bacchetta1-s2\">\r\n",
      "  <english>Philippe Bacchetta and Eric van Wincoop</english>\n",
      "  <czech>Philippe Bacchetta and Eric van Wincoop</czech>\n",
      "  <sure>1-1 2-2 3-3 4-4 5-5 6-6</sure>\n",
      "  <possible></possible>\n",
      "</s>\n",
      "<s id=\"project_syndicate_bacchetta1-s3\">\r\n",
      "  <english>A year ago , the dollar bestrode the world like a colossus .</english>\n",
      "  <czech>Ještě před rokem dolar dominoval světu jako imperátor .</czech>\n",
      "  <sure>10-7 12-8 13-9 2-3 3-2 6-4 7-5 9-6</sure>\n",
      "  <possible>1-3 11-8 3-1 5-4 8-6</possible>\n",
      "</s>\n"
     ]
    }
   ],
   "source": [
    "%%bash\n",
    "wget -q https://lindat.mff.cuni.cz/repository/xmlui/bitstream/handle/11234/1-1804/CzEnAli_1.0.tar.gz -O CzEnAli_1.0.tar.gz\n",
    "mkdir -p data\n",
    "tar -xzf CzEnAli_1.0.tar.gz -C data/\n",
    "head -n 20 data/merged_data/project_syndicate/project_syndicate_bacchetta1.wa"
   ]
  },
  {
   "cell_type": "code",
   "execution_count": 21,
   "metadata": {},
   "outputs": [
    {
     "name": "stdout",
     "output_type": "stream",
     "text": [
      "\u001b[34mcelex\u001b[m\u001b[m             \u001b[34mpcedt\u001b[m\u001b[m             \u001b[34mrd_books_kacenka\u001b[m\u001b[m\r\n",
      "\u001b[34mnamed_entities\u001b[m\u001b[m    \u001b[34mproject_syndicate\u001b[m\u001b[m\r\n"
     ]
    }
   ],
   "source": [
    "!ls data/merged_data/"
   ]
  },
  {
   "cell_type": "markdown",
   "metadata": {},
   "source": [
    "**Задание -2. (0.5 балла)** Реализуйте функцию `extract_sentences`, которая принимает на вход путь к файлу с XML-разметкой, используемой в этом датасете, и возвращает список параллельных предложений, а также список из «уверенных» (sure) и «возможных» (possible) пар выравниваний. Отправьте вашу реализацию в Яндекс.Контест, чтобы убедиться в её корректности; в следующей ячейке ноутбука соберите все пары размеченных предложений из датасета в два списка `all_sentences` (список `SentencePair`) и `all_targets` (список `LabeledAlignment`).\n",
    "\n",
    "Здесь и далее соблюдайте сигнатуры функций и пользуйтесь объявленными в модуле `preprocessing.py` классами для организации данных. Стоит заметить, что предложения уже токенизированы (даже отделена пунктуация), поэтому предобработку текстов совершать не нужно. Обратите внимание на формат хранения выравниваний: нумерация начинается с 1 (в таком виде и нужно сохранять), первым в паре идёт слово из англоязычного предложения."
   ]
  },
  {
   "cell_type": "code",
   "execution_count": 22,
   "metadata": {},
   "outputs": [],
   "source": [
    "import glob\n",
    "from preprocessing import extract_sentences"
   ]
  },
  {
   "cell_type": "code",
   "execution_count": 23,
   "metadata": {},
   "outputs": [],
   "source": [
    "# Определяем папки в пути\n",
    "dirs = os.listdir('data/merged_data/')\n",
    "    \n",
    "# Соединяем путь с папками\n",
    "paths = [join('data/merged_data/', dir_) + \"/\" for dir_ in dirs]\n",
    "    \n",
    "# Находим файлы в каждой папке\n",
    "files = [os.listdir(paths[i]) for i in range(len(paths))]\n",
    "\n",
    "# Соединяем путь с файлами\n",
    "paths = [[join(paths[i], files[i][j]) for j in range(len(files[i]))] for i in range(len(files))]\n",
    "paths = [item for sublist in paths for item in sublist]"
   ]
  },
  {
   "cell_type": "code",
   "execution_count": 24,
   "metadata": {},
   "outputs": [],
   "source": [
    "all_sentences = []\n",
    "all_targets = []\n",
    "\n",
    "# Проходим по всем файлам\n",
    "for path in paths: \n",
    "    sentence_pairs, labeled_alignments = extract_sentences(path)\n",
    "    all_sentences.extend(sentence_pairs)\n",
    "    all_targets.extend(labeled_alignments)"
   ]
  },
  {
   "cell_type": "markdown",
   "metadata": {},
   "source": [
    "**Задание -1. (0.5 балла)** Реализуйте функции `get_token_to_index` и `tokenize_sents` из модуля `preprocessing.py`, постройте словари token->index для обоих языков и постройте список из `TokenizedSentencePair` по выборке. Реализации функций также отправьте в Яндекс.Контест."
   ]
  },
  {
   "cell_type": "code",
   "execution_count": 25,
   "metadata": {},
   "outputs": [],
   "source": [
    "from preprocessing import get_token_to_index, tokenize_sents\n",
    "\n",
    "t_idx_src, t_idx_tgt = get_token_to_index(all_sentences)\n",
    "tokenized_sentences = tokenize_sents(all_sentences, t_idx_src, t_idx_tgt)"
   ]
  },
  {
   "cell_type": "markdown",
   "metadata": {},
   "source": [
    "В качестве бейзлайна для этой задачи мы возьмём способ выравнивания слов по коэффициенту Дайса: слово в исходном языке является переводом слова на целевом языке, если они часто встречаются в одних и тех же предложениях и редко встречаются по отдельности. \n",
    "\n",
    "Математически это записывается по аналогии с мерой Жаккара: пусть $c(x,y)$ — число параллельных предложений, в которых есть и $x$ (на исходном языке), и $y$ (на целевом языке), а $c(x)$ и $c(y)$ — суммарное количество предложений, в которых встречается слово $x$ и $y$ соответственно. Тогда $\\textrm{Dice}(x,y)=\\frac{2 \\cdot c(x,y)}{c(x) + c(y)}$ — характеристика «похожести» слов $x$ и $y$. Она равна 1, если слова встречаются только в контексте друг друга (не бывает предложений только со словом $x$ без $y$ в переводе и наоборот), равна 0, если слова никогда не встречаются в параллельных предложениях и находится между пороговыми значениями в остальных случаях.\n",
    "\n",
    "В файле `models.py` описан абстрактный класс `BaseAligner`, наследником которого должны являться все модели в задании, а также приведён пример реализации `DiceAligner` выравнивания слов описанным выше путём. Ниже вы можете увидеть, как применять эту модель."
   ]
  },
  {
   "cell_type": "code",
   "execution_count": 26,
   "metadata": {},
   "outputs": [],
   "source": [
    "from models import DiceAligner\n",
    "baseline = DiceAligner(len(t_idx_src), len(t_idx_tgt), threshold=0.01)\n",
    "baseline.fit(tokenized_sentences)"
   ]
  },
  {
   "cell_type": "markdown",
   "metadata": {},
   "source": [
    "Чтобы оценить качество модели выравнивания, пользуясь имеющейся разметкой, существует ряд автоматических метрик. Они подразумевают, что в разметке есть два вида выравниваний — «уверенные» (sure) и «возможные» (possible). Обозначим для конкретного предложения первое множество выравниваний $S$, второе — $P$, а предсказанные выравнивания — $A$; причём, в отличие от разметки в файле, $S\\subseteq P$. Тогда можно предложить три метрики, используя только операции над этими множествами:\n",
    "\n",
    "Precision $=\\frac{|A\\cap P|}{|A|}$. Отражает, какая доля предсказанных нами выравниваний вообще корректна; если мы дадим в качестве ответа все возможные пары слов в предложении, эта метрика сильно просядет.\n",
    "\n",
    "Recall $=\\frac{|A\\cap S|}{|S|}$. Эта метрика показывает, какую долю «уверенных» выравниваний мы обнаружили. Если мы попытаемся сделать слишком консервативную модель, которая выдаёт 0 или 1 предсказание на нетривиальных предложениях, полнота получится крайне низкая. \n",
    "\n",
    "Alignment Error Rate (AER) $=1-\\frac{|A\\cap P|+|A\\cap S|}{|A|+|S|}$. Метрика является комбинацией двух предыдущих и отслеживает общее качество работы системы, штрафуя оба описанных выше вида нежелаемого поведения модели. \n",
    "\n",
    "**Задание 0. (0.5 балла)** Реализуйте функции `compute_precision`, `compute_recall`, `compute_aer` из модуля `metrics.py`. Оцените качество бейзлайнового метода. Обратите внимание, что нужно использовать микро-усреднение во всех функциях: необходимо просуммировать числитель и знаменатель по всем предложениям и только потом делить."
   ]
  },
  {
   "cell_type": "code",
   "execution_count": 27,
   "metadata": {},
   "outputs": [
    {
     "data": {
      "text/plain": [
       "0.6603773584905661"
      ]
     },
     "execution_count": 27,
     "metadata": {},
     "output_type": "execute_result"
    }
   ],
   "source": [
    "from metrics import compute_aer\n",
    "\n",
    "compute_aer(all_targets[:2], baseline.align(tokenized_sentences))"
   ]
  },
  {
   "cell_type": "markdown",
   "metadata": {},
   "source": [
    "Теперь мы можем перейти к базовой вероятностной модели для выравнивания слов. Пусть $S=(s_1,\\ldots,s_n)$ исходное предложение, $T=(t_1,\\ldots,t_m)$ — его перевод. В роли латентных переменных будут выступать выравнивания $A=(a_1,\\ldots,a_m)$ каждого слова в целевом предложении, причём $a_i\\in\\{1,\\ldots,n\\}$ (считаем, что каждое слово в $t$ является переводом какого-то слова из $s$). Параметрами модели является матрица условных вероятностей перевода: каждый её элемент $\\theta(y|x)=p(y|x)$ отражает вероятность того, что переводом слова $x$ с исходного языка на целевой является слово $y$ (нормировка, соответственно, совершается по словарю целевого языка). \n",
    "\n",
    "Правдоподобие латентных переменных и предложения на целевом языке в этой модели записывается так:\n",
    "\n",
    "$$\n",
    "p(A,T|S)=\\prod_{i=1}^m p(a_i)p(t_i|a_i,S)=\\prod_{i=1}^m \\frac{1}{n}\\theta(t_i|s_{a_i}).\n",
    "$$ "
   ]
  },
  {
   "cell_type": "markdown",
   "metadata": {},
   "source": [
    "**Задание 1. (2 балла)** Выведите шаги EM-алгоритма для этой модели, а также получите выражение для подсчёта нижней оценки правдоподобия ($\\mathcal{L}$ в обозначениях лекции и семинара). **Обратите внимание, что на M-шаге нужно найти аналитический максимум по параметрам.**"
   ]
  },
  {
   "cell_type": "markdown",
   "metadata": {},
   "source": [
    "Сначала выпишем неполное правдоподобие:\n",
    "\n",
    "$$p( T|S) =\\prod ^{m}_{i=1} p( t_{i} |S) =\\prod ^{m}_{i=1}\\sum _{a_{i} \\in \\{1,\\dotsc ,n\\}} p( t_{i} ,a_{i} |S) = \\prod ^{m}_{i=1}\\sum _{a_{i} \\in \\{1,\\dotsc ,n\\}} p( a_{i}) p( t_{i} |a_{i} ,S) =\\dfrac{1}{n}\\prod ^{m}_{i=1}\\sum _{a_{i} \\in \\{1,\\dotsc ,n\\}} \\theta ( t_{i} |s_{a_{i}}) = \\dfrac{1}{n}\\prod ^{m}_{i=1}\\sum ^{n}_{a_{1} =1} \\dotsc \\sum ^{n}_{a_{m} =1} \\theta ( t_{i} |S_{a_{i}})\n",
    "$$"
   ]
  },
  {
   "cell_type": "markdown",
   "metadata": {},
   "source": [
    "1) Выведем __Е-шаг__, то есть посчитаем апостериорное распределение на скрытых переменных:\n",
    "\n",
    "$$\n",
    "p(A|T,S)=\\dfrac{p(A,T|S)}{p(T|S)} =\\prod\\limits ^{m}_{i=1}\\dfrac{p(a_{i} ,t_{i} |S)}{p(t_{i} |S)} =\\prod\\limits ^{m}_{i=1}\\dfrac{p(a_{i} ,t_{i} |S)}{\\sum\\limits _{a_{i} \\in \\{1,\\dotsc ,n\\}} p(a_{i} ,t_{i} |S)} =\\prod\\limits ^{m}_{i=1}\\dfrac{\\frac{1}{n} \\theta ^{old} (t_{i} |S_{a_{i}} )}{\\frac{1}{n}\\sum\\limits _{a_{i} \\in \\{1,\\dotsc ,n\\}} \\theta ^{old} (t_{i} |S_{a_{i}} )} =\\prod\\limits ^{m}_{i=1}\\dfrac{\\theta ^{old} (t_{i} |s_{j} )}{\\sum\\limits ^{n}_{k=1} \\theta ^{old} (t_{i} |s_{k} )}\n",
    "$$\n",
    "\n",
    "Также пусть $g_{ij} =p\\left( a_{i} =j|t_{i} ,S,\\theta ^{old}\\right) = \\dfrac{\\theta ^{old}( t_{i} |s_{j})}{\\sum\\limits ^{n}_{k=1} \\theta ^{old}( t_{i} |s_{k})}$, $\\sum\\limits^{n}_{j=1} g_{ij} =1\\ \\forall i=\\overline{1,m}$.\n",
    "\n"
   ]
  },
  {
   "cell_type": "markdown",
   "metadata": {},
   "source": [
    "2) Выведем __М-шаг__, максимизируя матожидание логарифма полного правдоподобия.\n",
    "\n",
    "$$\n",
    "\\mathbb{E}_{a\\sim p( A|T,S)}\\log p(T,A|S)=\\mathbb{E}_{a\\sim p( A|T,S)}\\left[\\log\\left(\\prod ^{m}_{i=1} p(t_{i} ,a_{i} |S)\\right)\\right] =\\mathbb{E}_{a\\sim p( A|T,S)}\\left[\\sum ^{m}_{i=1}\\log p(t_{i} ,a_{i} |S)\\right] =\\\\\n",
    "\\sum ^{m}_{i=1}\\mathbb{E}_{a\\sim p( A|T,S)} [\\log p(t_{i} ,a_{i} |S)]=\\sum ^{m}_{i=1}\\mathbb{E}_{a\\sim p( A|T,S)} [\\log (p(a_{i} )(t_{i} |a_{i} ,S))]=\\sum ^{m}_{i=1} (\\mathbb{E}_{a\\sim p( A|T,S)}\\log p(a_{i} )+\\ \\\\\n",
    "\\mathbb{E}_{a\\sim p( A|T,S)}\\log (t_{i} |a_{i} ,S))=\\sum ^{m}_{i=1}\\mathbb{E}_{a\\sim p( A|T,S)}\\log (t_{i} |a_{i} ,S))=\\sum ^{m}_{i=1}\\sum _{a_{i} =\\{1,\\dotsc ,n\\}} p( a_{i} |t_{i} ,S)\\log \\theta (t_{i} |s_{a_{i}} )=\\\\\n",
    "\\sum ^{m}_{i=1}\\sum ^{n}_{j=1} p\\left( a_{i} =j|t_{i} ,S,\\theta ^{old}\\right)\\log \\theta (t_{i} |s_{j} )\\rightarrow \\max_{\\theta }\n",
    "$$"
   ]
  },
  {
   "cell_type": "markdown",
   "metadata": {},
   "source": [
    "Получили следующую задачу:\n",
    "$$\n",
    "\\begin{cases}\n",
    "\\mathbb{E}_{a\\sim p\\left( A|T,S,\\theta ^{old}\\right)}\\log p( T,A|S) =\\sum\\limits^{m}_{i=1}\\sum\\limits^{n}_{j=1} g_{ij}\\log \\theta ( t_{i} |s_{j})\\rightarrow \\max\\limits_{\\theta } & \\\\\n",
    "s.t.\\ \\sum\\limits^{m}_{i=1} \\theta ( t_{i} |s_{j}) =1 & \n",
    "\\end{cases}\n",
    "$$"
   ]
  },
  {
   "cell_type": "markdown",
   "metadata": {},
   "source": [
    "Сведем условную задачу к безусловной посредством Лагранжиана:\n",
    "\n",
    "$$\n",
    "L( \\theta ,\\lambda ) =\\sum ^{m}_{i=1}\\sum ^{n}_{j=1} g_{ij}\\log \\theta ( t_{i} |s_{j}) -\\lambda \\left[ 1-\\sum ^{m}_{i=1} \\theta ( t_{i} |s_{j})\\right]\\rightarrow \\max_{\\theta ,\\lambda }\n",
    "$$"
   ]
  },
  {
   "cell_type": "markdown",
   "metadata": {},
   "source": [
    "Условия первого порядка:\n",
    "\n",
    "$$\n",
    "\\begin{cases}\n",
    "\\dfrac{\\partial L( \\theta ,\\lambda )}{\\partial \\theta } =\\dfrac{g_{ij}}{\\theta ( t_{i} |s_{j})} -\\lambda =0\\\\\n",
    "\\dfrac{\\partial L( \\theta ,\\lambda )}{\\partial \\lambda } =1-\\sum ^{m}_{i=1} \\theta ( t_{i} |s_{j}) =0\n",
    "\\end{cases}\n",
    "$$"
   ]
  },
  {
   "cell_type": "markdown",
   "metadata": {},
   "source": [
    "Отсюда, умножив первое уравнение на тету и проссумировав по $m$ получим, что\n",
    "\n",
    "$$\\sum ^{m}_{i=1} g_{ij} =\\lambda \\sum ^{m}_{i=1} \\theta ( t_{i} |S_{j}) =\\lambda$$\n",
    "\n",
    "Тогда \n",
    "\n",
    "$$\\theta ^{new}( t_{i} |s_{j}) \\ =\\dfrac{g_{ij}}{\\sum\\limits ^{m}_{k=1} g_{kj}}=\\dfrac{\\dfrac{\\theta ^{old} (t_{i} |s_{j} )}{\\sum\\limits ^{n}_{k=1} \\theta ^{old} (t_{i} |s_{k} )}}{\\sum\\limits ^{m}_{i=1}\\dfrac{\\theta ^{old} (t_{i} |s_{j} )}{\\sum\\limits ^{n}_{k=1} \\theta ^{old} (t_{i} |s_{k} )}}$$"
   ]
  },
  {
   "cell_type": "markdown",
   "metadata": {},
   "source": [
    "Теперь, если мы будем пробегаться по всему корпусу предложений мы получим, используя дельту Кронекера:\n",
    "\n",
    "$$\n",
    "\\theta ^{new}( t_{i} |s_{j}) \\ =\\dfrac{c( t_{i} |s_{j} ;T,S)}{\\sum\\limits ^{m}_{k=1} c( t_{k} |s_{j} ;T,S)}, где \n",
    "$$\n",
    "\n",
    "$$c( t_{i} |s_{j} ;T,S) =g_{ij}\\sum ^{m}_{s=1} \\delta ( t_{i} ,t_{s})\\sum ^{n}_{l=1} \\delta ( s_{i} ,s_{l})$$"
   ]
  },
  {
   "cell_type": "markdown",
   "metadata": {},
   "source": [
    "Как пишут в статьях, мы делаем следущее: \"define a count function $c$, that collects evidence from a sentence pair $T$, $S$ that word t is translation of word s\". "
   ]
  },
  {
   "cell_type": "markdown",
   "metadata": {},
   "source": [
    "3) Также получим выражение для подсчета нижней оценки правдоподобия:\n",
    "\n",
    "$$\n",
    "\\mathcal{L}\\left( p\\left( A|T,S,\\theta ^{old}\\right) ,\\theta \\right) =\\sum _{a} p\\left( A|T,S,\\theta ^{old}\\right)\\log\\left(\\dfrac{p( T,A|S)}{p\\left( A|T,S,\\theta ^{old}\\right)}\\right) =\\sum _{a} p\\left( A|T,S,\\theta ^{old}\\right)\\log p( T,A|S) -\n",
    "\\sum _{a} p\\left( A|T,S,\\theta ^{old}\\right)\\log p\\left( A|T,S,\\theta ^{old}\\right) =\\sum _{a} p\\left( A|T,S,\\theta ^{old}\\right)\\sum ^{m}_{i=1}\\log\\left(\\frac{1}{n} \\theta (t_{i} |s_{a_{i}} )\\right) -\n",
    "\\sum _{a} p\\left( A|T,S,\\theta ^{old}\\right)\\sum ^{m}_{i=1}\\log\\left(\\dfrac{\\theta ^{old} (t_{i} |s_{j} )}{\\sum\\limits ^{n}_{k=1} \\theta ^{old} (t_{i} |s_{k} )}\\right)\n",
    "$$"
   ]
  },
  {
   "cell_type": "markdown",
   "metadata": {},
   "source": [
    "**Задание 2. (2.5 балла)** Реализуйте все методы класса `WordAligner` в соответствии с полученными вами формулами. Протестируйте вашу реализацию через Яндекс.Контест, а здесь обучите модель и посчитайте её AER на истинной разметке. Чтобы предсказать выравнивание для пары предложений в этой модели, следует выбирать в соответствие для слова в целевом предложении с индексом $i$ позицию, соответствующую максимуму апостериорного распределения $p(a_i|T,S)$."
   ]
  },
  {
   "cell_type": "code",
   "execution_count": 28,
   "metadata": {},
   "outputs": [],
   "source": [
    "from models import WordAligner\n",
    "word_aligner = WordAligner(len(t_idx_src), len(t_idx_tgt), 20)"
   ]
  },
  {
   "cell_type": "code",
   "execution_count": 29,
   "metadata": {},
   "outputs": [
    {
     "name": "stdout",
     "output_type": "stream",
     "text": [
      "CPU times: user 11.6 s, sys: 176 ms, total: 11.8 s\n",
      "Wall time: 13.9 s\n"
     ]
    }
   ],
   "source": [
    "%%time\n",
    "elbo = word_aligner.fit(tokenized_sentences)"
   ]
  },
  {
   "cell_type": "code",
   "execution_count": 30,
   "metadata": {},
   "outputs": [
    {
     "data": {
      "image/png": "[encoded data removed]",
      "text/plain": [
       "<Figure size 720x576 with 1 Axes>"
      ]
     },
     "metadata": {
      "image/png": {
       "height": 465,
       "width": 626
      },
      "needs_background": "light"
     },
     "output_type": "display_data"
    }
   ],
   "source": [
    "plt.plot(range(20), elbo);"
   ]
  },
  {
   "cell_type": "code",
   "execution_count": 31,
   "metadata": {},
   "outputs": [
    {
     "data": {
      "text/plain": [
       "0.5747790023977855"
      ]
     },
     "execution_count": 31,
     "metadata": {},
     "output_type": "execute_result"
    }
   ],
   "source": [
    "compute_aer(all_targets, word_aligner.align(tokenized_sentences))"
   ]
  },
  {
   "cell_type": "markdown",
   "metadata": {},
   "source": [
    "Заметим, что таблицу вероятностей перевода можно использовать и саму по себе для построения словарей. Пример работы показан ниже: метод хоть и работает, но мягко говоря, неидально — слишком мало данных."
   ]
  },
  {
   "cell_type": "code",
   "execution_count": 32,
   "metadata": {},
   "outputs": [],
   "source": [
    "idx_token_tgt = {index:token for token, index in t_idx_tgt.items()}"
   ]
  },
  {
   "cell_type": "code",
   "execution_count": 33,
   "metadata": {},
   "outputs": [
    {
     "data": {
      "text/plain": [
       "['Rusku', 'Ruska', 'Rusko']"
      ]
     },
     "execution_count": 33,
     "metadata": {},
     "output_type": "execute_result"
    }
   ],
   "source": [
    "[idx_token_tgt[i] for i in word_aligner.translation_probs[t_idx_src['Russia']].argsort()[-3:]]"
   ]
  },
  {
   "cell_type": "code",
   "execution_count": 34,
   "metadata": {},
   "outputs": [
    {
     "data": {
      "text/plain": [
       "['jaké', 'měnou', 'měně']"
      ]
     },
     "execution_count": 34,
     "metadata": {},
     "output_type": "execute_result"
    }
   ],
   "source": [
    "[idx_token_tgt[i] for i in word_aligner.translation_probs[t_idx_src['currency']].argsort()[-3:]]"
   ]
  },
  {
   "cell_type": "code",
   "execution_count": 35,
   "metadata": {
    "scrolled": true
   },
   "outputs": [
    {
     "data": {
      "text/plain": [
       "['do', 'amerických', 'dolarech']"
      ]
     },
     "execution_count": 35,
     "metadata": {},
     "output_type": "execute_result"
    }
   ],
   "source": [
    "[idx_token_tgt[i] for i in word_aligner.translation_probs[t_idx_src['dollars']].argsort()[-3:]]"
   ]
  },
  {
   "cell_type": "code",
   "execution_count": 36,
   "metadata": {},
   "outputs": [
    {
     "data": {
      "text/plain": [
       "['že', 'důležité', 'je']"
      ]
     },
     "execution_count": 36,
     "metadata": {},
     "output_type": "execute_result"
    }
   ],
   "source": [
    "[idx_token_tgt[i] for i in word_aligner.translation_probs[t_idx_src['important']].argsort()[-3:]]"
   ]
  },
  {
   "cell_type": "code",
   "execution_count": 37,
   "metadata": {},
   "outputs": [
    {
     "data": {
      "text/plain": [
       "['.', 'se', 'na']"
      ]
     },
     "execution_count": 37,
     "metadata": {},
     "output_type": "execute_result"
    }
   ],
   "source": [
    "[idx_token_tgt[i] for i in word_aligner.translation_probs[t_idx_src['on']].argsort()[-3:]]"
   ]
  },
  {
   "cell_type": "markdown",
   "metadata": {},
   "source": [
    "**Задание 3. (0.5 балла)** Мы смогли получить матрицу условных вероятностей перевода исходного языка в целевой. Можно ли, пользуясь этой матрицей и ещё какими-то статистиками по параллельному корпусу, получить вероятности перевода целевого языка в исходный? Реализуйте такой метод и приведите ниже пример его работы, показав пару удачных переводов."
   ]
  },
  {
   "cell_type": "markdown",
   "metadata": {},
   "source": [
    "$p(x|y)=\\dfrac{p(y|x)p(x)}{p(y)}=\\dfrac{\\theta(y|x)p(x)}{p(y)}$"
   ]
  },
  {
   "cell_type": "code",
   "execution_count": 20,
   "metadata": {},
   "outputs": [],
   "source": [
    "source_dict = {}\n",
    "target_dict = {}\n",
    "\n",
    "for sentence_pairs in tokenized_sentences:\n",
    "    # Frequency estimation\n",
    "    for eng_word, czech_word in zip(sentence_pairs.source_tokens,sentence_pairs. target_tokens):\n",
    "        source_dict[eng_word] = source_dict.get(eng_word, 0) + 1\n",
    "        target_dict[czech_word] = target_dict.get(czech_word, 0) + 1"
   ]
  },
  {
   "cell_type": "code",
   "execution_count": null,
   "metadata": {},
   "outputs": [],
   "source": [
    "len(source_dict)"
   ]
  },
  {
   "cell_type": "code",
   "execution_count": null,
   "metadata": {},
   "outputs": [],
   "source": [
    "len(target_dict)"
   ]
  },
  {
   "cell_type": "code",
   "execution_count": null,
   "metadata": {},
   "outputs": [],
   "source": [
    "total_eng_words = sum([source_dict[key] for key in source_dict.keys()])\n",
    "total_czech_words = sum([target_dict[key] for key in target_dict.keys()])"
   ]
  },
  {
   "cell_type": "code",
   "execution_count": null,
   "metadata": {},
   "outputs": [],
   "source": [
    "source_probs = np.zeros_like(word_aligner.translation_probs)"
   ]
  },
  {
   "cell_type": "code",
   "execution_count": null,
   "metadata": {},
   "outputs": [],
   "source": [
    "len_src, len_target = word_aligner.translation_probs.shape\n",
    "for i in tqdm(range(len_src)):\n",
    "    for j in range(len_target):\n",
    "        try:\n",
    "            source_probs[i, j] = (word_aligner.translation_probs[i, j] * source_dict[i] / total_eng_words)\n",
    "        except KeyError:\n",
    "            continue"
   ]
  },
  {
   "cell_type": "markdown",
   "metadata": {},
   "source": [
    "**Задание 4. (0.5 балла)** Визуализируйте полученные выравнивания для нескольких предложений в виде heatmap: по одной из осей располагаются токены исходного текста, по другой — токены его перевода, на пересечении позиций $i$ и $j$ — 0 либо 1 в зависимости от того, является ли в обученной модели $a_i$ равным $j$. Можете ли вы их проинтерпретировать? Постройте аналогичный график, но без дискретизации, а визуализируя напрямую апостериорное распределение. Можете ли вы найти ситуации, в которых модель не уверена, переводом какого слова является слово $i$?"
   ]
  },
  {
   "cell_type": "code",
   "execution_count": 38,
   "metadata": {},
   "outputs": [],
   "source": [
    "import seaborn as sns"
   ]
  },
  {
   "cell_type": "code",
   "execution_count": 39,
   "metadata": {},
   "outputs": [],
   "source": [
    "data = np.zeros(shape=(50, 50))"
   ]
  },
  {
   "cell_type": "code",
   "execution_count": 40,
   "metadata": {},
   "outputs": [],
   "source": [
    "predictions = word_aligner.align(tokenized_sentences)"
   ]
  },
  {
   "cell_type": "markdown",
   "metadata": {},
   "source": [
    "Выведем для топ-50 слов: "
   ]
  },
  {
   "cell_type": "code",
   "execution_count": 41,
   "metadata": {},
   "outputs": [],
   "source": [
    "for sentence, prediction in zip(tokenized_sentences[:100], predictions[:100]):\n",
    "    for alignment in predictions:\n",
    "        for a in alignment:\n",
    "            try:\n",
    "                data[sentence.source_tokens[a[0]], sentence.target_tokens[a[1]]] += 1\n",
    "            except IndexError:\n",
    "                continue"
   ]
  },
  {
   "cell_type": "code",
   "execution_count": 42,
   "metadata": {},
   "outputs": [
    {
     "data": {
      "image/png": "[encoded data removed]",
      "text/plain": [
       "<Figure size 720x576 with 2 Axes>"
      ]
     },
     "metadata": {
      "image/png": {
       "height": 469,
       "width": 559
      },
      "needs_background": "light"
     },
     "output_type": "display_data"
    }
   ],
   "source": [
    "sns.heatmap(data, vmax=3000);"
   ]
  },
  {
   "cell_type": "code",
   "execution_count": 43,
   "metadata": {},
   "outputs": [],
   "source": [
    "posteriors = word_aligner._e_step(tokenized_sentences)"
   ]
  },
  {
   "cell_type": "code",
   "execution_count": 44,
   "metadata": {},
   "outputs": [],
   "source": [
    "posteriors_matrix = np.zeros(shape=(50, 50))"
   ]
  },
  {
   "cell_type": "code",
   "execution_count": 45,
   "metadata": {},
   "outputs": [],
   "source": [
    "for k, sentence in enumerate(tokenized_sentences[:100]):\n",
    "    for i in range(len(sentence.source_tokens)):\n",
    "        for j in range(len(sentence.target_tokens)):\n",
    "            try:\n",
    "                posteriors_matrix[sentence.source_tokens[i], sentence.target_tokens[j]] += posteriors[k][i, j]\n",
    "            except IndexError:\n",
    "                continue"
   ]
  },
  {
   "cell_type": "code",
   "execution_count": 46,
   "metadata": {},
   "outputs": [
    {
     "data": {
      "image/png": "[encoded data removed]",
      "text/plain": [
       "<Figure size 720x576 with 2 Axes>"
      ]
     },
     "metadata": {
      "image/png": {
       "height": 469,
       "width": 549
      },
      "needs_background": "light"
     },
     "output_type": "display_data"
    }
   ],
   "source": [
    "sns.heatmap(posteriors_matrix, vmin=0, vmax=1);"
   ]
  },
  {
   "cell_type": "markdown",
   "metadata": {},
   "source": [
    "Как видим, алгоритму трудно предсказать шлаковые слова."
   ]
  },
  {
   "cell_type": "code",
   "execution_count": 47,
   "metadata": {},
   "outputs": [
    {
     "data": {
      "text/plain": [
       "{'the': 0,\n",
       " ',': 1,\n",
       " '.': 2,\n",
       " 'of': 3,\n",
       " 'to': 4,\n",
       " 'and': 5,\n",
       " 'in': 6,\n",
       " 'a': 7,\n",
       " 'is': 8,\n",
       " \"'s\": 9,\n",
       " '-': 10,\n",
       " 'for': 11,\n",
       " 'that': 12,\n",
       " 'be': 13,\n",
       " '\"': 14,\n",
       " 'The': 15,\n",
       " 'with': 16,\n",
       " 'by': 17,\n",
       " 'as': 18,\n",
       " 'on': 19,\n",
       " 'or': 20,\n",
       " 'shall': 21,\n",
       " 'it': 22,\n",
       " 'was': 23,\n",
       " 'not': 24,\n",
       " 'at': 25,\n",
       " 'from': 26,\n",
       " ')': 27,\n",
       " '(': 28,\n",
       " 'which': 29,\n",
       " 'I': 30,\n",
       " 'are': 31,\n",
       " 'have': 32,\n",
       " 'this': 33,\n",
       " 'its': 34,\n",
       " 'will': 35,\n",
       " 'their': 36,\n",
       " 'has': 37,\n",
       " 'an': 38,\n",
       " 'had': 39,\n",
       " 'more': 40,\n",
       " ';': 41,\n",
       " 'said': 42,\n",
       " 'than': 43,\n",
       " 'Member': 44,\n",
       " '$': 45,\n",
       " ':': 46,\n",
       " 'would': 47,\n",
       " 'In': 48,\n",
       " 'his': 49,\n",
       " 'they': 50,\n",
       " 'he': 51,\n",
       " 'may': 52,\n",
       " '``': 53,\n",
       " 'States': 54,\n",
       " 'Article': 55,\n",
       " 'but': 56,\n",
       " '%': 57,\n",
       " 'been': 58,\n",
       " \"''\": 59,\n",
       " 'out': 60,\n",
       " 'all': 61,\n",
       " 'one': 62,\n",
       " 'million': 63,\n",
       " 'Europe': 64,\n",
       " 'But': 65,\n",
       " 'about': 66,\n",
       " 'up': 67,\n",
       " 'Commission': 68,\n",
       " 'any': 69,\n",
       " 'her': 70,\n",
       " 'time': 71,\n",
       " '1': 72,\n",
       " 'down': 73,\n",
       " 'who': 74,\n",
       " 'when': 75,\n",
       " 'other': 76,\n",
       " 'should': 77,\n",
       " 'Annex': 78,\n",
       " 'It': 79,\n",
       " 'new': 80,\n",
       " 'can': 81,\n",
       " 'into': 82,\n",
       " 'EU': 83,\n",
       " 'This': 84,\n",
       " 'also': 85,\n",
       " 'only': 86,\n",
       " 'after': 87,\n",
       " 'she': 88,\n",
       " 'A': 89,\n",
       " \"n't\": 90,\n",
       " 'must': 91,\n",
       " 'were': 92,\n",
       " 'such': 93,\n",
       " 'if': 94,\n",
       " '–': 95,\n",
       " 'do': 96,\n",
       " 'Directive': 97,\n",
       " 'what': 98,\n",
       " 'year': 99,\n",
       " 'two': 100,\n",
       " 'my': 101,\n",
       " 'US': 102,\n",
       " 'over': 103,\n",
       " 'so': 104,\n",
       " \"'\": 105,\n",
       " 'these': 106,\n",
       " 'you': 107,\n",
       " 'years': 108,\n",
       " '2': 109,\n",
       " 'between': 110,\n",
       " 'could': 111,\n",
       " 'Mr': 112,\n",
       " 'market': 113,\n",
       " 'European': 114,\n",
       " 'Russia': 115,\n",
       " 'measures': 116,\n",
       " '?': 117,\n",
       " 'no': 118,\n",
       " 'rights': 119,\n",
       " 'values': 120,\n",
       " 'State': 121,\n",
       " 'If': 122,\n",
       " 'President': 123,\n",
       " 'S': 124,\n",
       " 'countries': 125,\n",
       " 'where': 126,\n",
       " 'U': 127,\n",
       " 'referred': 128,\n",
       " 'some': 129,\n",
       " 'most': 130,\n",
       " 'company': 131,\n",
       " 'under': 132,\n",
       " 'provisions': 133,\n",
       " 'share': 134,\n",
       " 'within': 135,\n",
       " 'last': 136,\n",
       " 'laid': 137,\n",
       " 'them': 138,\n",
       " 'now': 139,\n",
       " 'before': 140,\n",
       " 'America': 141,\n",
       " 'Germany': 142,\n",
       " 'first': 143,\n",
       " 'because': 144,\n",
       " 'left': 145,\n",
       " 'we': 146,\n",
       " 'says': 147,\n",
       " 'accordance': 148,\n",
       " 'Committee': 149,\n",
       " 'Corp': 150,\n",
       " 'three': 151,\n",
       " 'take': 152,\n",
       " 'West': 153,\n",
       " 'did': 154,\n",
       " 'made': 155,\n",
       " 'both': 156,\n",
       " 'there': 157,\n",
       " 'billion': 158,\n",
       " 'He': 159,\n",
       " 'world': 160,\n",
       " 'much': 161,\n",
       " 'provided': 162,\n",
       " 'limit': 163,\n",
       " 'They': 164,\n",
       " 'taken': 165,\n",
       " 'those': 166,\n",
       " 'security': 167,\n",
       " 'information': 168,\n",
       " 'without': 169,\n",
       " 'set': 170,\n",
       " 'New': 171,\n",
       " 'paragraph': 172,\n",
       " 'like': 173,\n",
       " 'use': 174,\n",
       " 'Japan': 175,\n",
       " 'long': 176,\n",
       " 'Treaty': 177,\n",
       " 'Community': 178,\n",
       " 'Nato': 179,\n",
       " 'For': 180,\n",
       " 'being': 181,\n",
       " 'Council': 182,\n",
       " 'even': 183,\n",
       " 'own': 184,\n",
       " 'right': 185,\n",
       " 'many': 186,\n",
       " 'We': 187,\n",
       " 'each': 188,\n",
       " 'government': 189,\n",
       " 'day': 190,\n",
       " 'shares': 191,\n",
       " 'colouring': 192,\n",
       " 'same': 193,\n",
       " 'power': 194,\n",
       " 'future': 195,\n",
       " 'well': 196,\n",
       " '/': 197,\n",
       " 'necessary': 198,\n",
       " 'Security': 199,\n",
       " 'another': 200,\n",
       " 'make': 201,\n",
       " 'our': 202,\n",
       " 'Bush': 203,\n",
       " 'called': 204,\n",
       " 'while': 205,\n",
       " 'national': 206,\n",
       " 'way': 207,\n",
       " 'through': 208,\n",
       " 'markets': 209,\n",
       " 'particular': 210,\n",
       " 'then': 211,\n",
       " 'matters': 212,\n",
       " 'II': 213,\n",
       " 'York': 214,\n",
       " 'value': 215,\n",
       " 'capital': 216,\n",
       " 'means': 217,\n",
       " 'work': 218,\n",
       " 'following': 219,\n",
       " 'women': 220,\n",
       " 'against': 221,\n",
       " 'period': 222,\n",
       " 'former': 223,\n",
       " '4': 224,\n",
       " 'quarter': 225,\n",
       " 'too': 226,\n",
       " 'whether': 227,\n",
       " 'country': 228,\n",
       " 'Union': 229,\n",
       " 'still': 230,\n",
       " 'public': 231,\n",
       " 'As': 232,\n",
       " 'might': 233,\n",
       " 'matter': 234,\n",
       " 'service': 235,\n",
       " 'account': 236,\n",
       " 'She': 237,\n",
       " 'United': 238,\n",
       " 'water': 239,\n",
       " 'trade': 240,\n",
       " 'however': 241,\n",
       " 'international': 242,\n",
       " 'firms': 243,\n",
       " 'University': 244,\n",
       " 'possible': 245,\n",
       " 'end': 246,\n",
       " 'president': 247,\n",
       " '--': 248,\n",
       " '&': 249,\n",
       " 'used': 250,\n",
       " 'American': 251,\n",
       " 'So': 252,\n",
       " 'people': 253,\n",
       " 'agreement': 254,\n",
       " 'Where': 255,\n",
       " 'Fund': 256,\n",
       " 'procedure': 257,\n",
       " 'price': 258,\n",
       " 'important': 259,\n",
       " 'France': 260,\n",
       " 'just': 261,\n",
       " 'next': 262,\n",
       " 'Iraq': 263,\n",
       " 'interest': 264,\n",
       " 'members': 265,\n",
       " 'very': 266,\n",
       " 'your': 267,\n",
       " 'Serbia': 268,\n",
       " 'opposition': 269,\n",
       " 'b': 270,\n",
       " 'Friday': 271,\n",
       " 'When': 272,\n",
       " 'ensure': 273,\n",
       " 'dioxide': 274,\n",
       " 'That': 275,\n",
       " 'East': 276,\n",
       " 'weight': 277,\n",
       " 'income': 278,\n",
       " 'him': 279,\n",
       " 'need': 280,\n",
       " 'early': 281,\n",
       " 'help': 282,\n",
       " 'men': 283,\n",
       " 'maximum': 284,\n",
       " 'back': 285,\n",
       " '3': 286,\n",
       " 'Co': 287,\n",
       " 'close': 288,\n",
       " 'rules': 289,\n",
       " 'protection': 290,\n",
       " 'reference': 291,\n",
       " 'official': 292,\n",
       " 'ago': 293,\n",
       " 'available': 294,\n",
       " 'growth': 295,\n",
       " 'risk': 296,\n",
       " 'trading': 297,\n",
       " 'old': 298,\n",
       " 'political': 299,\n",
       " 'far': 300,\n",
       " 'course': 301,\n",
       " 'net': 302,\n",
       " 'given': 303,\n",
       " 'during': 304,\n",
       " 'me': 305,\n",
       " 'Tudjman': 306,\n",
       " 'including': 307,\n",
       " 'offer': 308,\n",
       " 'four': 309,\n",
       " 'representative': 310,\n",
       " 'good': 311,\n",
       " 'Israel': 312,\n",
       " 'Hamas': 313,\n",
       " 'zones': 314,\n",
       " 'part': 315,\n",
       " 'since': 316,\n",
       " 'us': 317,\n",
       " 'number': 318,\n",
       " 'led': 319,\n",
       " '10': 320,\n",
       " 'until': 321,\n",
       " 'states': 322,\n",
       " 'put': 323,\n",
       " 'say': 324,\n",
       " 'want': 325,\n",
       " 'concerned': 326,\n",
       " 'data': 327,\n",
       " 'Mrs': 328,\n",
       " 'Canadian': 329,\n",
       " 'get': 330,\n",
       " 'cold': 331,\n",
       " 'North': 332,\n",
       " 'NATO': 333,\n",
       " 'UN': 334,\n",
       " 'SAD': 335,\n",
       " 'application': 336,\n",
       " 'concentrations': 337,\n",
       " 'does': 338,\n",
       " 'lower': 339,\n",
       " 'These': 340,\n",
       " 'either': 341,\n",
       " 'National': 342,\n",
       " 'around': 343,\n",
       " 'term': 344,\n",
       " 'economic': 345,\n",
       " 'how': 346,\n",
       " 'And': 347,\n",
       " 'development': 348,\n",
       " 'real': 349,\n",
       " 'membership': 350,\n",
       " 'network': 351,\n",
       " 'military': 352,\n",
       " 'interests': 353,\n",
       " 'majority': 354,\n",
       " '15': 355,\n",
       " 'side': 356,\n",
       " 'months': 357,\n",
       " 'great': 358,\n",
       " 'securities': 359,\n",
       " 'yesterday': 360,\n",
       " 'performance': 361,\n",
       " 'times': 362,\n",
       " 'Minister': 363,\n",
       " 'Boeing': 364,\n",
       " 'Africa': 365,\n",
       " 'EEC': 366,\n",
       " 'Regulation': 367,\n",
       " 'accountancy': 368,\n",
       " 'little': 369,\n",
       " 'second': 370,\n",
       " 'rate': 371,\n",
       " 'come': 372,\n",
       " 'Bank': 373,\n",
       " 'crisis': 374,\n",
       " 'forces': 375,\n",
       " 'opinion': 376,\n",
       " 'program': 377,\n",
       " 'Chairman': 378,\n",
       " 'together': 379,\n",
       " 'found': 380,\n",
       " 'results': 381,\n",
       " 'At': 382,\n",
       " 'never': 383,\n",
       " 'generations': 384,\n",
       " 'proposal': 385,\n",
       " 'd': 386,\n",
       " 'Inc': 387,\n",
       " '1987': 388,\n",
       " 'Hooker': 389,\n",
       " 'having': 390,\n",
       " 'Britain': 391,\n",
       " 'Kosovo': 392,\n",
       " 'Mohr': 393,\n",
       " 'phonograms': 394,\n",
       " 'Contracting': 395,\n",
       " 'economy': 396,\n",
       " 'To': 397,\n",
       " '50': 398,\n",
       " 'go': 399,\n",
       " 'feel': 400,\n",
       " 'ITER': 401,\n",
       " 'small': 402,\n",
       " 'leaders': 403,\n",
       " 'already': 404,\n",
       " 'Poland': 405,\n",
       " 'decision': 406,\n",
       " 'union': 407,\n",
       " 'conditions': 408,\n",
       " 'business': 409,\n",
       " 'going': 410,\n",
       " 'Croatia': 411,\n",
       " 'points': 412,\n",
       " 'few': 413,\n",
       " 'requirements': 414,\n",
       " 'GM': 415,\n",
       " 'vehicle': 416,\n",
       " 'Radio': 417,\n",
       " 'mortality': 418,\n",
       " 'performances': 419,\n",
       " 'dollar': 420,\n",
       " '5': 421,\n",
       " 'Japanese': 422,\n",
       " 'big': 423,\n",
       " 'likely': 424,\n",
       " 'competition': 425,\n",
       " 'determined': 426,\n",
       " 'workers': 427,\n",
       " 'longer': 428,\n",
       " 'know': 429,\n",
       " 'become': 430,\n",
       " 'control': 431,\n",
       " 'better': 432,\n",
       " 'No': 433,\n",
       " 'energy': 434,\n",
       " 'order': 435,\n",
       " 'investment': 436,\n",
       " 'war': 437,\n",
       " 'affect': 438,\n",
       " 'place': 439,\n",
       " 'Moscow': 440,\n",
       " 'enlargement': 441,\n",
       " 'type': 442,\n",
       " 'loans': 443,\n",
       " 'respect': 444,\n",
       " 'here': 445,\n",
       " 'natural': 446,\n",
       " 'several': 447,\n",
       " 'head': 448,\n",
       " 'EMU': 449,\n",
       " 'fixed': 450,\n",
       " 'officials': 451,\n",
       " 'What': 452,\n",
       " 'German': 453,\n",
       " 'result': 454,\n",
       " 'week': 455,\n",
       " 'joint': 456,\n",
       " 'family': 457,\n",
       " 'terms': 458,\n",
       " 'NCNB': 459,\n",
       " 'unit': 460,\n",
       " 'products': 461,\n",
       " 'five': 462,\n",
       " 'Hungarian': 463,\n",
       " 'mother': 464,\n",
       " 'carried': 465,\n",
       " '!': 466,\n",
       " 'child': 467,\n",
       " 'diseases': 468,\n",
       " 'farm': 469,\n",
       " 'apply': 470,\n",
       " 'Now': 471,\n",
       " 'fell': 472,\n",
       " 'foreign': 473,\n",
       " 'One': 474,\n",
       " 'firm': 475,\n",
       " 'South': 476,\n",
       " 'soon': 477,\n",
       " 'considered': 478,\n",
       " 'return': 479,\n",
       " 'debate': 480,\n",
       " 'cannot': 481,\n",
       " 'French': 482,\n",
       " 'different': 483,\n",
       " 'methods': 484,\n",
       " 'International': 485,\n",
       " 'nuclear': 486,\n",
       " 'fusion': 487,\n",
       " 'today': 488,\n",
       " 'research': 489,\n",
       " 'able': 490,\n",
       " 'needed': 491,\n",
       " 'Putin': 492,\n",
       " 'increase': 493,\n",
       " 'stock': 494,\n",
       " 'case': 495,\n",
       " 'life': 496,\n",
       " 'third': 497,\n",
       " 'system': 498,\n",
       " 'higher': 499,\n",
       " 'further': 500,\n",
       " 'major': 501,\n",
       " 'calls': 502,\n",
       " '30': 503,\n",
       " 'law': 504,\n",
       " 'There': 505,\n",
       " 'J': 506,\n",
       " 'month': 507,\n",
       " 'night': 508,\n",
       " 'World': 509,\n",
       " 'executive': 510,\n",
       " 'British': 511,\n",
       " 'date': 512,\n",
       " 'contract': 513,\n",
       " 'analysis': 514,\n",
       " 'Middle': 515,\n",
       " 'Korea': 516,\n",
       " 'children': 517,\n",
       " 'phonogram': 518,\n",
       " 'Indeed': 519,\n",
       " 'latest': 520,\n",
       " 'almost': 521,\n",
       " 'reasons': 522,\n",
       " 'reason': 523,\n",
       " 'half': 524,\n",
       " 'form': 525,\n",
       " 'current': 526,\n",
       " 'health': 527,\n",
       " 'move': 528,\n",
       " 'past': 529,\n",
       " 'view': 530,\n",
       " 'themselves': 531,\n",
       " 'Party': 532,\n",
       " 'remain': 533,\n",
       " 'plans': 534,\n",
       " 'problem': 535,\n",
       " '100': 536,\n",
       " 'high': 537,\n",
       " '13': 538,\n",
       " 'ten': 539,\n",
       " 'example': 540,\n",
       " 'call': 541,\n",
       " 'candidates': 542,\n",
       " 'Washington': 543,\n",
       " 'making': 544,\n",
       " 'contributed': 545,\n",
       " 'special': 546,\n",
       " 'see': 547,\n",
       " 'open': 548,\n",
       " 'words': 549,\n",
       " 'Milosevic': 550,\n",
       " 'chief': 551,\n",
       " 'cooperation': 552,\n",
       " 'adopt': 553,\n",
       " 'Soviet': 554,\n",
       " 'B': 555,\n",
       " 'basis': 556,\n",
       " 'Pacific': 557,\n",
       " 'Exchange': 558,\n",
       " 'received': 559,\n",
       " 'think': 560,\n",
       " 'General': 561,\n",
       " 'approval': 562,\n",
       " 'Secretary': 563,\n",
       " 'Christmas': 564,\n",
       " 'performer': 565,\n",
       " 'Tess': 566,\n",
       " 'purposes': 567,\n",
       " 'regard': 568,\n",
       " 'meter': 569,\n",
       " 'ECI': 570,\n",
       " 'euro': 571,\n",
       " 'role': 572,\n",
       " 'yen': 573,\n",
       " 'exchange': 574,\n",
       " 'large': 575,\n",
       " 'home': 576,\n",
       " 'why': 577,\n",
       " 'lead': 578,\n",
       " 'single': 579,\n",
       " 'situation': 580,\n",
       " 'point': 581,\n",
       " 'With': 582,\n",
       " 'news': 583,\n",
       " 'nothing': 584,\n",
       " 'anything': 585,\n",
       " 'hold': 586,\n",
       " 'problems': 587,\n",
       " 'least': 588,\n",
       " 'provide': 589,\n",
       " 'generation': 590,\n",
       " 'less': 591,\n",
       " 'days': 592,\n",
       " 'winter': 593,\n",
       " 'member': 594,\n",
       " 'Hungary': 595,\n",
       " 'Alliance': 596,\n",
       " 'Baltic': 597,\n",
       " 'manner': 598,\n",
       " 'addition': 599,\n",
       " 'every': 600,\n",
       " 'began': 601,\n",
       " 'took': 602,\n",
       " 'pressure': 603,\n",
       " 'specific': 604,\n",
       " 'based': 605,\n",
       " 'force': 606,\n",
       " 'followed': 607,\n",
       " 'held': 608,\n",
       " 'thought': 609,\n",
       " 'certain': 610,\n",
       " 'human': 611,\n",
       " 'entry': 612,\n",
       " 'accession': 613,\n",
       " 'above': 614,\n",
       " '1990': 615,\n",
       " 'report': 616,\n",
       " 'Chancellor': 617,\n",
       " 'late': 618,\n",
       " 'Turkey': 619,\n",
       " 'expected': 620,\n",
       " 'Stock': 621,\n",
       " \"'re\": 622,\n",
       " 'commercial': 623,\n",
       " 'went': 624,\n",
       " 'office': 625,\n",
       " 'LIN': 626,\n",
       " 'according': 627,\n",
       " 'latter': 628,\n",
       " 'applied': 629,\n",
       " 'Free': 630,\n",
       " 'Gaza': 631,\n",
       " 'hand': 632,\n",
       " 'associated': 633,\n",
       " 'authorities': 634,\n",
       " 'Bumble': 635,\n",
       " 'directly': 636,\n",
       " 'molluscs': 637,\n",
       " 'abnormal': 638,\n",
       " 'III': 639,\n",
       " 'listed': 640,\n",
       " 'Parties': 641,\n",
       " 'suspended': 642,\n",
       " 'particulates': 643,\n",
       " 'currency': 644,\n",
       " 'remains': 645,\n",
       " 'keep': 646,\n",
       " 'gain': 647,\n",
       " 'hard': 648,\n",
       " 'trying': 649,\n",
       " 'appropriate': 650,\n",
       " 'Some': 651,\n",
       " 'yet': 652,\n",
       " 'minimum': 653,\n",
       " 'candidate': 654,\n",
       " 'off': 655,\n",
       " 'produce': 656,\n",
       " 'stability': 657,\n",
       " 'itself': 658,\n",
       " 'allies': 659,\n",
       " 'join': 660,\n",
       " 'issue': 661,\n",
       " 'placed': 662,\n",
       " 'War': 663,\n",
       " 'democratic': 664,\n",
       " 'financial': 665,\n",
       " 'reforms': 666,\n",
       " 'land': 667,\n",
       " 'private': 668,\n",
       " 'greater': 669,\n",
       " 'partnership': 670,\n",
       " 'strong': 671,\n",
       " 'authority': 672,\n",
       " 'probably': 673,\n",
       " 'territory': 674,\n",
       " 'By': 675,\n",
       " 'permissible': 676,\n",
       " 'effect': 677,\n",
       " 'total': 678,\n",
       " 'later': 679,\n",
       " 'required': 680,\n",
       " 'became': 681,\n",
       " 'give': 682,\n",
       " 'management': 683,\n",
       " 'free': 684,\n",
       " 'Morgan': 685,\n",
       " 'C': 686,\n",
       " 'ad': 687,\n",
       " 'spokesman': 688,\n",
       " 'However': 689,\n",
       " '11': 690,\n",
       " 'group': 691,\n",
       " 'radio': 692,\n",
       " 'moved': 693,\n",
       " 'Banknote': 694,\n",
       " 'general': 695,\n",
       " 'board': 696,\n",
       " 'got': 697,\n",
       " 'plants': 698,\n",
       " 'plant': 699,\n",
       " 'Prime': 700,\n",
       " 'leader': 701,\n",
       " 'Saddam': 702,\n",
       " 'Egypt': 703,\n",
       " 'list': 704,\n",
       " 'Mann': 705,\n",
       " 'pursuant': 706,\n",
       " 'inform': 707,\n",
       " 'nitrogen': 708,\n",
       " 'atmosphere': 709,\n",
       " 'flowrate': 710,\n",
       " 'sulphur': 711,\n",
       " 'question': 712,\n",
       " 'attention': 713,\n",
       " 'priced': 714,\n",
       " 'fact': 715,\n",
       " 'After': 716,\n",
       " 'parties': 717,\n",
       " 'party': 718,\n",
       " 'parts': 719,\n",
       " 'everything': 720,\n",
       " 'strategic': 721,\n",
       " 'Italy': 722,\n",
       " 'require': 723,\n",
       " 'building': 724,\n",
       " 'per': 725,\n",
       " 'state': 726,\n",
       " 'Republic': 727,\n",
       " 'contain': 728,\n",
       " 'Eastern': 729,\n",
       " 'direct': 730,\n",
       " 'Berlin': 731,\n",
       " 'paid': 732,\n",
       " 'money': 733,\n",
       " 'prices': 734,\n",
       " 'Instead': 735,\n",
       " 'best': 736,\n",
       " 'things': 737,\n",
       " 'death': 738,\n",
       " 'Western': 739,\n",
       " 'among': 740,\n",
       " 'house': 741,\n",
       " 'Institute': 742,\n",
       " 'earlier': 743,\n",
       " '6': 744,\n",
       " 'governments': 745,\n",
       " 'peace': 746,\n",
       " 'six': 747,\n",
       " 'common': 748,\n",
       " 'venture': 749,\n",
       " 'm': 750,\n",
       " 'senior': 751,\n",
       " 'Series': 752,\n",
       " 'covered': 753,\n",
       " 'George': 754,\n",
       " 'cents': 755,\n",
       " 'customers': 756,\n",
       " '12': 757,\n",
       " 'included': 758,\n",
       " 'margin': 759,\n",
       " 'closed': 760,\n",
       " 'sale': 761,\n",
       " 'brokerage': 762,\n",
       " 'ads': 763,\n",
       " 'air': 764,\n",
       " 'volume': 765,\n",
       " 'John': 766,\n",
       " 'initiative': 767,\n",
       " 'Canada': 768,\n",
       " 'responsible': 769,\n",
       " '7': 770,\n",
       " 'buy': 771,\n",
       " 'L': 772,\n",
       " 'seat': 773,\n",
       " 'appears': 774,\n",
       " 'consistent': 775,\n",
       " '20': 776,\n",
       " 'talk': 777,\n",
       " 'tried': 778,\n",
       " 'Abbas': 779,\n",
       " 'Afghanistan': 780,\n",
       " 'Taliban': 781,\n",
       " 'Saudi': 782,\n",
       " 'Sarkozy': 783,\n",
       " 'Syria': 784,\n",
       " 'Fatah': 785,\n",
       " 'request': 786,\n",
       " 'gifts': 787,\n",
       " 'fix': 788,\n",
       " 'subject': 789,\n",
       " 'observed': 790,\n",
       " 'music': 791,\n",
       " 'bivalve': 792,\n",
       " 'c': 793,\n",
       " 'competent': 794,\n",
       " 'purpose': 795,\n",
       " 'exceeded': 796,\n",
       " 'pollution': 797,\n",
       " 'consultations': 798,\n",
       " 'meters': 799,\n",
       " 'foodstuffs': 800,\n",
       " 'association': 801,\n",
       " 'performers': 802,\n",
       " 'van': 803,\n",
       " 'lost': 804,\n",
       " 'size': 805,\n",
       " 'sell': 806,\n",
       " 'consider': 807,\n",
       " 'Swiss': 808,\n",
       " 'often': 809,\n",
       " 'Asia': 810,\n",
       " 'change': 811,\n",
       " 'professor': 812,\n",
       " 'fundamental': 813,\n",
       " 'worked': 814,\n",
       " 'bring': 815,\n",
       " 'Blair': 816,\n",
       " 'difficult': 817,\n",
       " 'negative': 818,\n",
       " 'Spain': 819,\n",
       " 'known': 820,\n",
       " 'main': 821,\n",
       " 'done': 822,\n",
       " 'beyond': 823,\n",
       " 'decided': 824,\n",
       " 'build': 825,\n",
       " 'Director': 826,\n",
       " 'leading': 827,\n",
       " 'begin': 828,\n",
       " 'chosen': 829,\n",
       " 'Russian': 830,\n",
       " 'continue': 831,\n",
       " 'negotiations': 832,\n",
       " 'presence': 833,\n",
       " 'kept': 834,\n",
       " 'relations': 835,\n",
       " 'recently': 836,\n",
       " 'Sweden': 837,\n",
       " '8': 838,\n",
       " 'rates': 839,\n",
       " 'run': 840,\n",
       " 'rapid': 841,\n",
       " 'reform': 842,\n",
       " 'D': 843,\n",
       " 'environment': 844,\n",
       " 'away': 845,\n",
       " 'non': 846,\n",
       " 'holding': 847,\n",
       " 'outside': 848,\n",
       " 'minister': 849,\n",
       " 'concerning': 850,\n",
       " 'average': 851,\n",
       " 'Central': 852,\n",
       " 'process': 853,\n",
       " 'conscription': 854,\n",
       " '1994': 855,\n",
       " 'proposed': 856,\n",
       " 'combined': 857,\n",
       " 'currently': 858,\n",
       " 'draft': 859,\n",
       " 'Europeans': 860,\n",
       " 'man': 861,\n",
       " 'earnings': 862,\n",
       " '17': 863,\n",
       " 'San': 864,\n",
       " '19': 865,\n",
       " 'investors': 866,\n",
       " 'stocks': 867,\n",
       " 'plan': 868,\n",
       " 'effective': 869,\n",
       " 'magazine': 870,\n",
       " 'increased': 871,\n",
       " 'panel': 872,\n",
       " 'RJR': 873,\n",
       " '14': 874,\n",
       " 'July': 875,\n",
       " 'Not': 876,\n",
       " 'You': 877,\n",
       " 'procedures': 878,\n",
       " 'adopted': 879,\n",
       " 'hours': 880,\n",
       " 'daily': 881,\n",
       " 'told': 882,\n",
       " 'working': 883,\n",
       " 'delivered': 884,\n",
       " 'communication': 885,\n",
       " 'morning': 886,\n",
       " 'Palestinian': 887,\n",
       " 'Ukraine': 888,\n",
       " 'Hussein': 889,\n",
       " 'Al': 890,\n",
       " 'body': 891,\n",
       " 'Merkel': 892,\n",
       " 'upon': 893,\n",
       " 'light': 894,\n",
       " 'whose': 895,\n",
       " 'Each': 896,\n",
       " 'smoking': 897,\n",
       " 'parish': 898,\n",
       " 'Linda': 899,\n",
       " 'Gruber': 900,\n",
       " 'relating': 901,\n",
       " 'duties': 902,\n",
       " 'hereinafter': 903,\n",
       " 'method': 904,\n",
       " 'ICO': 905,\n",
       " 'Is': 906,\n",
       " 'Most': 907,\n",
       " 'low': 908,\n",
       " 'Americans': 909,\n",
       " 'face': 910,\n",
       " 'makes': 911,\n",
       " 'individual': 912,\n",
       " 'director': 913,\n",
       " 'series': 914,\n",
       " 'April': 915,\n",
       " 'elections': 916,\n",
       " 'intense': 917,\n",
       " 'else': 918,\n",
       " 'groups': 919,\n",
       " 'try': 920,\n",
       " 'show': 921,\n",
       " 'stations': 922,\n",
       " 'achieve': 923,\n",
       " 'using': 924,\n",
       " 'study': 925,\n",
       " 'agreed': 926,\n",
       " 'Baltics': 927,\n",
       " 'meeting': 928,\n",
       " 'strategy': 929,\n",
       " 'announced': 930,\n",
       " 'banks': 931,\n",
       " 'rose': 932,\n",
       " 'level': 933,\n",
       " 'response': 934,\n",
       " 'female': 935,\n",
       " 'quality': 936,\n",
       " 'particularly': 937,\n",
       " 'model': 938,\n",
       " 'policy': 939,\n",
       " 'approach': 940,\n",
       " 'others': 941,\n",
       " 'usually': 942,\n",
       " 'related': 943,\n",
       " 'institutions': 944,\n",
       " 'live': 945,\n",
       " 'His': 946,\n",
       " 'establish': 947,\n",
       " 'properties': 948,\n",
       " 'media': 949,\n",
       " 'divided': 950,\n",
       " 'helped': 951,\n",
       " 'relationship': 952,\n",
       " 'additional': 953,\n",
       " 'goes': 954,\n",
       " 'Budapest': 955,\n",
       " 'comply': 956,\n",
       " 'criteria': 957,\n",
       " 'allow': 958,\n",
       " 'moment': 959,\n",
       " 'armed': 960,\n",
       " 'operations': 961,\n",
       " '000': 962,\n",
       " 'companies': 963,\n",
       " 'agency': 964,\n",
       " 'eight': 965,\n",
       " 'campaign': 966,\n",
       " 'Fidelity': 967,\n",
       " 'normal': 968,\n",
       " 'chairman': 969,\n",
       " 'position': 970,\n",
       " 'Columbia': 971,\n",
       " 'concluded': 972,\n",
       " 'revenue': 973,\n",
       " '24': 974,\n",
       " 'NCR': 975,\n",
       " 'affected': 976,\n",
       " 'McCaw': 977,\n",
       " 'bid': 978,\n",
       " 'Simpson': 979,\n",
       " 'plus': 980,\n",
       " 'According': 981,\n",
       " 'evening': 982,\n",
       " 'futures': 983,\n",
       " 'though': 984,\n",
       " 'established': 985,\n",
       " 'local': 986,\n",
       " 'strike': 987,\n",
       " 'range': 988,\n",
       " 'electric': 989,\n",
       " 'informed': 990,\n",
       " 'something': 991,\n",
       " 'Dr': 992,\n",
       " 'attacks': 993,\n",
       " 'significant': 994,\n",
       " 'visit': 995,\n",
       " 'Chirac': 996,\n",
       " 'India': 997,\n",
       " 'stop': 998,\n",
       " 'Schröder': 999,\n",
       " ...}"
      ]
     },
     "execution_count": 47,
     "metadata": {},
     "output_type": "execute_result"
    }
   ],
   "source": [
    "t_idx_src"
   ]
  },
  {
   "cell_type": "code",
   "execution_count": 48,
   "metadata": {},
   "outputs": [
    {
     "data": {
      "text/plain": [
       "{',': 0,\n",
       " '.': 1,\n",
       " 'a': 2,\n",
       " 'v': 3,\n",
       " 'se': 4,\n",
       " 'na': 5,\n",
       " '\"': 6,\n",
       " 'že': 7,\n",
       " 'je': 8,\n",
       " 'o': 9,\n",
       " '-': 10,\n",
       " 's': 11,\n",
       " 'pro': 12,\n",
       " 'k': 13,\n",
       " 'z': 14,\n",
       " 'do': 15,\n",
       " 've': 16,\n",
       " 'nebo': 17,\n",
       " 'by': 18,\n",
       " 'to': 19,\n",
       " ')': 20,\n",
       " 'za': 21,\n",
       " 'které': 22,\n",
       " 'jako': 23,\n",
       " 'i': 24,\n",
       " 'než': 25,\n",
       " 'si': 26,\n",
       " 'aby': 27,\n",
       " ':': 28,\n",
       " 'po': 29,\n",
       " 'jsou': 30,\n",
       " '(': 31,\n",
       " 'ale': 32,\n",
       " 'bude': 33,\n",
       " 'podle': 34,\n",
       " 'být': 35,\n",
       " ';': 36,\n",
       " 'který': 37,\n",
       " 'od': 38,\n",
       " 'která': 39,\n",
       " 'V': 40,\n",
       " '–': 41,\n",
       " 'tak': 42,\n",
       " 'může': 43,\n",
       " 'státy': 44,\n",
       " 'jejich': 45,\n",
       " 'byl': 46,\n",
       " '1': 47,\n",
       " 'jeho': 48,\n",
       " 'jsem': 49,\n",
       " 'ze': 50,\n",
       " 'mezi': 51,\n",
       " 'jen': 52,\n",
       " 'této': 53,\n",
       " 'dolarů': 54,\n",
       " '%': 55,\n",
       " 'co': 56,\n",
       " 'bylo': 57,\n",
       " 'své': 58,\n",
       " 'musí': 59,\n",
       " 'článku': 60,\n",
       " 'když': 61,\n",
       " 'EU': 62,\n",
       " 'však': 63,\n",
       " 'jak': 64,\n",
       " 'byla': 65,\n",
       " 'roku': 66,\n",
       " 'li': 67,\n",
       " 'při': 68,\n",
       " 'příloze': 69,\n",
       " 'USA': 70,\n",
       " 'také': 71,\n",
       " 'směrnice': 72,\n",
       " 'řekl': 73,\n",
       " 'opatření': 74,\n",
       " 'firmy': 75,\n",
       " '?': 76,\n",
       " 'I': 77,\n",
       " '2': 78,\n",
       " 'roce': 79,\n",
       " 'před': 80,\n",
       " 'společnosti': 81,\n",
       " 'let': 82,\n",
       " 'Komise': 83,\n",
       " 'budou': 84,\n",
       " 'více': 85,\n",
       " 'tohoto': 86,\n",
       " 'A': 87,\n",
       " 'milionů': 88,\n",
       " 'u': 89,\n",
       " 'kde': 90,\n",
       " 'Pokud': 91,\n",
       " 'už': 92,\n",
       " 'má': 93,\n",
       " 'až': 94,\n",
       " 'mohou': 95,\n",
       " 'NATO': 96,\n",
       " 'toho': 97,\n",
       " 'tedy': 98,\n",
       " 'země': 99,\n",
       " 'hodnoty': 100,\n",
       " 'kdy': 101,\n",
       " 'těchto': 102,\n",
       " 'ke': 103,\n",
       " 'není': 104,\n",
       " 'byly': 105,\n",
       " 'mít': 106,\n",
       " 'stát': 107,\n",
       " 'což': 108,\n",
       " 'Corp': 109,\n",
       " 'její': 110,\n",
       " 'Je': 111,\n",
       " 'další': 112,\n",
       " 'států': 113,\n",
       " 'proti': 114,\n",
       " 'bez': 115,\n",
       " 'měla': 116,\n",
       " 'mají': 117,\n",
       " 'svou': 118,\n",
       " 'Tato': 119,\n",
       " 'Na': 120,\n",
       " 'jež': 121,\n",
       " 'tato': 122,\n",
       " 'ani': 123,\n",
       " 'akcií': 124,\n",
       " 'tom': 125,\n",
       " 'svých': 126,\n",
       " 'odst': 127,\n",
       " 'pod': 128,\n",
       " 'To': 129,\n",
       " 'ji': 130,\n",
       " 'již': 131,\n",
       " 'tím': 132,\n",
       " 'milionu': 133,\n",
       " 'pokud': 134,\n",
       " 'měl': 135,\n",
       " 'ještě': 136,\n",
       " 'strany': 137,\n",
       " 'pak': 138,\n",
       " '/': 139,\n",
       " 'zejména': 140,\n",
       " 'společnost': 141,\n",
       " 'členských': 142,\n",
       " 'pouze': 143,\n",
       " 'uvedených': 144,\n",
       " 'stále': 145,\n",
       " 'době': 146,\n",
       " 'tomu': 147,\n",
       " 'dnes': 148,\n",
       " 'či': 149,\n",
       " 'Ve': 150,\n",
       " 'tyto': 151,\n",
       " 'Společenství': 152,\n",
       " 'trhu': 153,\n",
       " 'zemí': 154,\n",
       " 'možné': 155,\n",
       " 'prezident': 156,\n",
       " 'nové': 157,\n",
       " 'práva': 158,\n",
       " 'svého': 159,\n",
       " 'II': 160,\n",
       " '4': 161,\n",
       " 'čl': 162,\n",
       " 'souladu': 163,\n",
       " 'Evropy': 164,\n",
       " 'všech': 165,\n",
       " 'tento': 166,\n",
       " 'čtvrtletí': 167,\n",
       " 'mezinárodní': 168,\n",
       " 'členské': 169,\n",
       " 'Co': 170,\n",
       " '&': 171,\n",
       " 'Když': 172,\n",
       " 'Členské': 173,\n",
       " 'dolaru': 174,\n",
       " 'případě': 175,\n",
       " 'Tyto': 176,\n",
       " 'nich': 177,\n",
       " 'Evropa': 178,\n",
       " 'dále': 179,\n",
       " 'Společnost': 180,\n",
       " 'akcii': 181,\n",
       " 'téměř': 182,\n",
       " 'S': 183,\n",
       " 'nad': 184,\n",
       " 'ho': 185,\n",
       " 'práv': 186,\n",
       " 'mi': 187,\n",
       " 'vůči': 188,\n",
       " 'spolu': 189,\n",
       " 'oblastech': 190,\n",
       " 'letech': 191,\n",
       " '3': 192,\n",
       " 'Komisi': 193,\n",
       " 'svůj': 194,\n",
       " 'b': 195,\n",
       " 'ustanovení': 196,\n",
       " 'firma': 197,\n",
       " 'tomto': 198,\n",
       " 'období': 199,\n",
       " 'říká': 200,\n",
       " 'uvedené': 201,\n",
       " 'kteří': 202,\n",
       " 'mnohem': 203,\n",
       " 'jsme': 204,\n",
       " 'Rusko': 205,\n",
       " 'Evropské': 206,\n",
       " 'proto': 207,\n",
       " 'měli': 208,\n",
       " 'včetně': 209,\n",
       " 'dohody': 210,\n",
       " 'New': 211,\n",
       " 'jednoho': 212,\n",
       " 'první': 213,\n",
       " 'trh': 214,\n",
       " 'rovněž': 215,\n",
       " 'ovšem': 216,\n",
       " 'právě': 217,\n",
       " 'během': 218,\n",
       " 'protože': 219,\n",
       " 'rozhodnutí': 220,\n",
       " 'Podle': 221,\n",
       " 'členství': 222,\n",
       " 'unie': 223,\n",
       " 'nezbytné': 224,\n",
       " 'oblasti': 225,\n",
       " 'jí': 226,\n",
       " 'smlouvy': 227,\n",
       " 'návrh': 228,\n",
       " 'typu': 229,\n",
       " \"'\": 230,\n",
       " 'nichž': 231,\n",
       " '15': 232,\n",
       " 'U': 233,\n",
       " 'předseda': 234,\n",
       " 'asi': 235,\n",
       " 'paní': 236,\n",
       " 'mu': 237,\n",
       " 'OSN': 238,\n",
       " 'mlžů': 239,\n",
       " 'mezní': 240,\n",
       " 'oxidu': 241,\n",
       " 'zda': 242,\n",
       " 'Po': 243,\n",
       " 'vlastní': 244,\n",
       " 'příliš': 245,\n",
       " 'svým': 246,\n",
       " 'velmi': 247,\n",
       " 'mohlo': 248,\n",
       " 'mnoho': 249,\n",
       " 'Ruska': 250,\n",
       " 'žen': 251,\n",
       " 'Evropě': 252,\n",
       " 'Ale': 253,\n",
       " 'mohl': 254,\n",
       " 'papíry': 255,\n",
       " 'výboru': 256,\n",
       " 'EHS': 257,\n",
       " 'členský': 258,\n",
       " 'větší': 259,\n",
       " 'rok': 260,\n",
       " 'dvou': 261,\n",
       " 'druhé': 262,\n",
       " 'třeba': 263,\n",
       " 'Při': 264,\n",
       " 'kterou': 265,\n",
       " 'organizace': 266,\n",
       " 'žádné': 267,\n",
       " 'navíc': 268,\n",
       " 'Pro': 269,\n",
       " 'každý': 270,\n",
       " 'skutečnosti': 271,\n",
       " 'dne': 272,\n",
       " '5': 273,\n",
       " 'méně': 274,\n",
       " 'Inc': 275,\n",
       " '1987': 276,\n",
       " 'Hooker': 277,\n",
       " 'pan': 278,\n",
       " 'postupem': 279,\n",
       " 'GM': 280,\n",
       " 'den': 281,\n",
       " 'podíl': 282,\n",
       " 'Japonsko': 283,\n",
       " 'neboť': 284,\n",
       " 'dobu': 285,\n",
       " 'nejsou': 286,\n",
       " 'ITER': 287,\n",
       " 'možná': 288,\n",
       " 'miliardy': 289,\n",
       " '10': 290,\n",
       " 'Iráku': 291,\n",
       " 'bezpečnostní': 292,\n",
       " 'podmínky': 293,\n",
       " 'právo': 294,\n",
       " 'hospodářství': 295,\n",
       " 'státech': 296,\n",
       " 'toto': 297,\n",
       " 'státu': 298,\n",
       " 'Spojených': 299,\n",
       " 'informace': 300,\n",
       " 'SAD': 301,\n",
       " 'stanoví': 302,\n",
       " 'obchodu': 303,\n",
       " 'jde': 304,\n",
       " 'univerzitě': 305,\n",
       " 'prezidenta': 306,\n",
       " 'ne': 307,\n",
       " 'nebude': 308,\n",
       " 'zatímco': 309,\n",
       " 'jednání': 310,\n",
       " 'nikdy': 311,\n",
       " 'zájmy': 312,\n",
       " 'výbor': 313,\n",
       " 'mohla': 314,\n",
       " 'společností': 315,\n",
       " 'NCNB': 316,\n",
       " 'obchodování': 317,\n",
       " 'přímo': 318,\n",
       " 'Severní': 319,\n",
       " 'účely': 320,\n",
       " 'Smlouvy': 321,\n",
       " 'ovzduší': 322,\n",
       " 'koncentrace': 323,\n",
       " 'zvukových': 324,\n",
       " 'lze': 325,\n",
       " 'zisk': 326,\n",
       " 'jiných': 327,\n",
       " 'například': 328,\n",
       " 'základě': 329,\n",
       " 'Jak': 330,\n",
       " 'týkající': 331,\n",
       " 'Francie': 332,\n",
       " 'čistý': 333,\n",
       " 'množství': 334,\n",
       " 'ty': 335,\n",
       " 'dva': 336,\n",
       " '13': 337,\n",
       " 'poté': 338,\n",
       " 'vyšší': 339,\n",
       " 'rozšíření': 340,\n",
       " 'nakonec': 341,\n",
       " 'nás': 342,\n",
       " 'maximální': 343,\n",
       " 'údajů': 344,\n",
       " 'důsledku': 345,\n",
       " 'programu': 346,\n",
       " 'uvedla': 347,\n",
       " 'pátek': 348,\n",
       " 'J': 349,\n",
       " 'včera': 350,\n",
       " '!': 351,\n",
       " 'barviva': 352,\n",
       " 'suroviny': 353,\n",
       " 'vůbec': 354,\n",
       " 'Od': 355,\n",
       " 'komise': 356,\n",
       " 'největší': 357,\n",
       " 'Spojené': 358,\n",
       " 'kvůli': 359,\n",
       " 'banky': 360,\n",
       " 'levice': 361,\n",
       " 'světa': 362,\n",
       " 'straně': 363,\n",
       " '100': 364,\n",
       " 'účelem': 365,\n",
       " 'ní': 366,\n",
       " 'buď': 367,\n",
       " 'bychom': 368,\n",
       " 'celé': 369,\n",
       " 'jim': 370,\n",
       " 'počet': 371,\n",
       " '50': 372,\n",
       " 'stejně': 373,\n",
       " 'došlo': 374,\n",
       " 'trhy': 375,\n",
       " 'přes': 376,\n",
       " 'bezpečnosti': 377,\n",
       " 'evropské': 378,\n",
       " 'tam': 379,\n",
       " 'zahraničí': 380,\n",
       " 'Rady': 381,\n",
       " '000': 382,\n",
       " 'd': 383,\n",
       " 'cenné': 384,\n",
       " 'fondu': 385,\n",
       " 'uvedl': 386,\n",
       " 'kapitálu': 387,\n",
       " 'měsíců': 388,\n",
       " 'ředitel': 389,\n",
       " 'USD': 390,\n",
       " 'svém': 391,\n",
       " 'státě': 392,\n",
       " 'Každý': 393,\n",
       " 'většinou': 394,\n",
       " 'předloží': 395,\n",
       " 'členským': 396,\n",
       " 'odstavce': 397,\n",
       " 'stanovit': 398,\n",
       " 'uplatňování': 399,\n",
       " 'předpisy': 400,\n",
       " 'nařízení': 401,\n",
       " 'USE': 402,\n",
       " 'poslední': 403,\n",
       " 'americké': 404,\n",
       " 'totiž': 405,\n",
       " 'velké': 406,\n",
       " 'Za': 407,\n",
       " 'národní': 408,\n",
       " 'tvrdí': 409,\n",
       " 'teď': 410,\n",
       " 'řešení': 411,\n",
       " 'díky': 412,\n",
       " 'tří': 413,\n",
       " 'měly': 414,\n",
       " 'generace': 415,\n",
       " 'doby': 416,\n",
       " 'vstupu': 417,\n",
       " 'práce': 418,\n",
       " 'tři': 419,\n",
       " 'času': 420,\n",
       " 'vláda': 421,\n",
       " 'lidé': 422,\n",
       " 'život': 423,\n",
       " 'nyní': 424,\n",
       " 'jehož': 425,\n",
       " 'území': 426,\n",
       " 'několik': 427,\n",
       " 'EMU': 428,\n",
       " '6': 429,\n",
       " 'rámci': 430,\n",
       " 'oznámila': 431,\n",
       " 'kterých': 432,\n",
       " 'vysílání': 433,\n",
       " '``': 434,\n",
       " 'provádění': 435,\n",
       " 'Rádio': 436,\n",
       " 'Svobodná': 437,\n",
       " 'Izrael': 438,\n",
       " 'Afriky': 439,\n",
       " 'věci': 440,\n",
       " 'veřejnosti': 441,\n",
       " 'Mohr': 442,\n",
       " 'odstavci': 443,\n",
       " 'III': 444,\n",
       " 'utajení': 445,\n",
       " 'vozidla': 446,\n",
       " 'euro': 447,\n",
       " 'světě': 448,\n",
       " 'část': 449,\n",
       " 'procent': 450,\n",
       " 'růst': 451,\n",
       " 'proč': 452,\n",
       " 'amerických': 453,\n",
       " 'zboží': 454,\n",
       " 'všechny': 455,\n",
       " 'dvě': 456,\n",
       " 'zahraniční': 457,\n",
       " 'mělo': 458,\n",
       " 'kdo': 459,\n",
       " 'nových': 460,\n",
       " 'Německu': 461,\n",
       " 'dalších': 462,\n",
       " 'vedoucí': 463,\n",
       " 'často': 464,\n",
       " 'použití': 465,\n",
       " 'kolem': 466,\n",
       " 'výsledky': 467,\n",
       " 'miliard': 468,\n",
       " 'války': 469,\n",
       " 'Bush': 470,\n",
       " 'jiné': 471,\n",
       " 'některých': 472,\n",
       " 'požadavky': 473,\n",
       " 'byli': 474,\n",
       " 'ohledem': 475,\n",
       " 'dokonce': 476,\n",
       " 'vlády': 477,\n",
       " 'Německo': 478,\n",
       " 'Německa': 479,\n",
       " 'mužů': 480,\n",
       " 'hodnot': 481,\n",
       " 'dvěma': 482,\n",
       " 'Morgan': 483,\n",
       " 'cenných': 484,\n",
       " 'příjem': 485,\n",
       " 'měsíce': 486,\n",
       " 'bývalý': 487,\n",
       " 'přílohy': 488,\n",
       " '7': 489,\n",
       " 'Banknote': 490,\n",
       " 'stanovisko': 491,\n",
       " 'způsobem': 492,\n",
       " \"''\": 493,\n",
       " 'jeden': 494,\n",
       " 'znovu': 495,\n",
       " 'Boeingu': 496,\n",
       " 'zástupce': 497,\n",
       " 'ochranu': 498,\n",
       " 'Bumble': 499,\n",
       " 'Tess': 500,\n",
       " 'písm': 501,\n",
       " 'Rada': 502,\n",
       " 'Výbor': 503,\n",
       " 'přijmou': 504,\n",
       " 'právní': 505,\n",
       " 'Smluvní': 506,\n",
       " 'záznamu': 507,\n",
       " 'sice': 508,\n",
       " 'stavu': 509,\n",
       " 'okamžiku': 510,\n",
       " 'hodnotu': 511,\n",
       " 'důvodů': 512,\n",
       " 'nadále': 513,\n",
       " 'profesorem': 514,\n",
       " 'střední': 515,\n",
       " 'víc': 516,\n",
       " 'tuto': 517,\n",
       " 'dobře': 518,\n",
       " 'dosud': 519,\n",
       " 'nic': 520,\n",
       " 'přitom': 521,\n",
       " 'jenž': 522,\n",
       " 'pravděpodobně': 523,\n",
       " 'částic': 524,\n",
       " 'našich': 525,\n",
       " 'východ': 526,\n",
       " 'Západ': 527,\n",
       " 'kandidátských': 528,\n",
       " 'touto': 529,\n",
       " 'vztahy': 530,\n",
       " 'finanční': 531,\n",
       " 'ti': 532,\n",
       " 'zaměstnanců': 533,\n",
       " 'zvláštní': 534,\n",
       " 'prostředí': 535,\n",
       " 'svými': 536,\n",
       " 'mohli': 537,\n",
       " 'jiného': 538,\n",
       " 'bych': 539,\n",
       " 'budoucnosti': 540,\n",
       " 'armády': 541,\n",
       " 'nebudou': 542,\n",
       " 'člen': 543,\n",
       " 'nižší': 544,\n",
       " 'později': 545,\n",
       " 'několika': 546,\n",
       " '30': 547,\n",
       " 'spolupráci': 548,\n",
       " 'B': 549,\n",
       " '17': 550,\n",
       " 'večer': 551,\n",
       " 'Světové': 552,\n",
       " 'něco': 553,\n",
       " 'Pan': 554,\n",
       " 'O': 555,\n",
       " 'Yorku': 556,\n",
       " 'plánu': 557,\n",
       " 'L': 558,\n",
       " 'odborů': 559,\n",
       " 'výrobce': 560,\n",
       " 'Mannová': 561,\n",
       " 'úřední': 562,\n",
       " 'zdraví': 563,\n",
       " 'vody': 564,\n",
       " 'c': 565,\n",
       " 'referenční': 566,\n",
       " 'uvědomí': 567,\n",
       " 'nesmějí': 568,\n",
       " 'barviv': 569,\n",
       " 'výkonů': 570,\n",
       " 'umělci': 571,\n",
       " 'hmotnost': 572,\n",
       " 'nejen': 573,\n",
       " 'mimo': 574,\n",
       " 'K': 575,\n",
       " 'konkurence': 576,\n",
       " 'určí': 577,\n",
       " 'ceny': 578,\n",
       " 'problém': 579,\n",
       " 'zřejmě': 580,\n",
       " 'jednu': 581,\n",
       " 'zemi': 582,\n",
       " 'situaci': 583,\n",
       " 'tímto': 584,\n",
       " 'síly': 585,\n",
       " 'lepší': 586,\n",
       " 'program': 587,\n",
       " 'nikoli': 588,\n",
       " 'zemích': 589,\n",
       " 'energie': 590,\n",
       " 'představuje': 591,\n",
       " 'přibližně': 592,\n",
       " 'výroby': 593,\n",
       " 'zatím': 594,\n",
       " 'současně': 595,\n",
       " 'výzkum': 596,\n",
       " 'riziko': 597,\n",
       " 'dříve': 598,\n",
       " 'té': 599,\n",
       " 'nejpozději': 600,\n",
       " 'anebo': 601,\n",
       " 'Rusku': 602,\n",
       " 'věc': 603,\n",
       " 'snaží': 604,\n",
       " 'vstup': 605,\n",
       " 'situace': 606,\n",
       " 'novou': 607,\n",
       " 'některé': 608,\n",
       " 'budoucí': 609,\n",
       " 'zemím': 610,\n",
       " 'západní': 611,\n",
       " 'především': 612,\n",
       " 'každém': 613,\n",
       " 'ohledně': 614,\n",
       " 'lety': 615,\n",
       " 'celý': 616,\n",
       " 'zvýšení': 617,\n",
       " 'muži': 618,\n",
       " 'obvykle': 619,\n",
       " 'celkem': 620,\n",
       " 'mnoha': 621,\n",
       " 'moc': 622,\n",
       " 'pomoc': 623,\n",
       " 'Tento': 624,\n",
       " 'spíše': 625,\n",
       " 'změny': 626,\n",
       " '1990': 627,\n",
       " '1994': 628,\n",
       " 'října': 629,\n",
       " 'skupiny': 630,\n",
       " 'emise': 631,\n",
       " 'prostřednictvím': 632,\n",
       " 'nabídka': 633,\n",
       " 'série': 634,\n",
       " 'papírů': 635,\n",
       " 'Security': 636,\n",
       " 'Pacific': 637,\n",
       " 'centů': 638,\n",
       " '12': 639,\n",
       " 'podniků': 640,\n",
       " 'C': 641,\n",
       " 'uzavření': 642,\n",
       " '19': 643,\n",
       " 'bodů': 644,\n",
       " 'Mluvčí': 645,\n",
       " 'jste': 646,\n",
       " 'správní': 647,\n",
       " 'akcie': 648,\n",
       " '11': 649,\n",
       " 'nabídku': 650,\n",
       " 'práci': 651,\n",
       " 'oznámil': 652,\n",
       " 'vlastního': 653,\n",
       " 'Jižní': 654,\n",
       " 'žádost': 655,\n",
       " 'přijme': 656,\n",
       " 'dárky': 657,\n",
       " 'onemocnění': 658,\n",
       " 'každé': 659,\n",
       " 'útvar': 660,\n",
       " 'vzorků': 661,\n",
       " 'uvedená': 662,\n",
       " 'stanovených': 663,\n",
       " 'členského': 664,\n",
       " 'nesmí': 665,\n",
       " 'stanovené': 666,\n",
       " 'znečištění': 667,\n",
       " 'obsahovat': 668,\n",
       " 'schválení': 669,\n",
       " 'průtok': 670,\n",
       " 'výkonu': 671,\n",
       " 'výkonných': 672,\n",
       " 'umělců': 673,\n",
       " 'záznamů': 674,\n",
       " 'zvukového': 675,\n",
       " 'suspendovaných': 676,\n",
       " 'obchodní': 677,\n",
       " 'pozornost': 678,\n",
       " 'Evropská': 679,\n",
       " 'trzích': 680,\n",
       " 'cenu': 681,\n",
       " 'dojde': 682,\n",
       " 'ředitelem': 683,\n",
       " 'střediska': 684,\n",
       " 'získat': 685,\n",
       " 'níž': 686,\n",
       " 'minulosti': 687,\n",
       " 'chvíli': 688,\n",
       " 'existuje': 689,\n",
       " 'uvnitř': 690,\n",
       " 'vliv': 691,\n",
       " 'konečně': 692,\n",
       " 'moci': 693,\n",
       " 'strategie': 694,\n",
       " 'financování': 695,\n",
       " 'metod': 696,\n",
       " 'dlouhodobé': 697,\n",
       " 'málo': 698,\n",
       " 'nikoliv': 699,\n",
       " 'výše': 700,\n",
       " 'vedení': 701,\n",
       " 'kdyby': 702,\n",
       " 'prostředky': 703,\n",
       " 'ostatní': 704,\n",
       " 'společenství': 705,\n",
       " 'aliance': 706,\n",
       " 'Polsko': 707,\n",
       " 'summitu': 708,\n",
       " 'jedna': 709,\n",
       " 'cílem': 710,\n",
       " 'přístup': 711,\n",
       " 'úvěrů': 712,\n",
       " 'tlak': 713,\n",
       " 'tolik': 714,\n",
       " 'systému': 715,\n",
       " 'cen': 716,\n",
       " 'spolupráce': 717,\n",
       " 'Americe': 718,\n",
       " 'spravedlnosti': 719,\n",
       " 'děti': 720,\n",
       " 'povinnosti': 721,\n",
       " 'ten': 722,\n",
       " 'plně': 723,\n",
       " 'mě': 724,\n",
       " 'místo': 725,\n",
       " 'Jeho': 726,\n",
       " 'hnutí': 727,\n",
       " 'prostředků': 728,\n",
       " 'Místo': 729,\n",
       " 'strana': 730,\n",
       " 'zhruba': 731,\n",
       " 'stranu': 732,\n",
       " 'nový': 733,\n",
       " 'Toto': 734,\n",
       " 'pěti': 735,\n",
       " 'jejího': 736,\n",
       " 'znamená': 737,\n",
       " 'podporu': 738,\n",
       " 'vojenské': 739,\n",
       " 'Evropu': 740,\n",
       " 'orgány': 741,\n",
       " 'hodnotě': 742,\n",
       " 'podniku': 743,\n",
       " 'půl': 744,\n",
       " 'přičemž': 745,\n",
       " 'Newyorské': 746,\n",
       " 'půjček': 747,\n",
       " 'burze': 748,\n",
       " 'pokles': 749,\n",
       " 'inzeráty': 750,\n",
       " 'Fidelity': 751,\n",
       " 'Jestliže': 752,\n",
       " 'řekla': 753,\n",
       " 'listopadu': 754,\n",
       " 'používání': 755,\n",
       " 'jejichž': 756,\n",
       " 'RJR': 757,\n",
       " '14': 758,\n",
       " 'čas': 759,\n",
       " '24': 760,\n",
       " 'souvislosti': 761,\n",
       " 'NCR': 762,\n",
       " 'výkonný': 763,\n",
       " 'podnik': 764,\n",
       " 'vám': 765,\n",
       " 'postupy': 766,\n",
       " 'burza': 767,\n",
       " 'hodin': 768,\n",
       " 'denně': 769,\n",
       " 'nám': 770,\n",
       " 'údaje': 771,\n",
       " 'Británii': 772,\n",
       " 'východě': 773,\n",
       " 'potravin': 774,\n",
       " 'považuje': 775,\n",
       " 'němž': 776,\n",
       " 'jednou': 777,\n",
       " 'Egypt': 778,\n",
       " 'státům': 779,\n",
       " '[': 780,\n",
       " ']': 781,\n",
       " 'zajistí': 782,\n",
       " 'uvedeného': 783,\n",
       " 'přijata': 784,\n",
       " 'neprodleně': 785,\n",
       " 'dusičitého': 786,\n",
       " 'směrnicí': 787,\n",
       " 'působnosti': 788,\n",
       " 'přidružení': 789,\n",
       " 'splaceného': 790,\n",
       " 'výkonného': 791,\n",
       " 'umělce': 792,\n",
       " 'zaznamenaných': 793,\n",
       " 'siřičitého': 794,\n",
       " 'dolar': 795,\n",
       " 'jaké': 796,\n",
       " 'současnosti': 797,\n",
       " 'dolarech': 798,\n",
       " 'klesl': 799,\n",
       " 'pět': 800,\n",
       " 'patří': 801,\n",
       " 'zdá': 802,\n",
       " 'zůstává': 803,\n",
       " 'kterým': 804,\n",
       " 'velký': 805,\n",
       " 'zde': 806,\n",
       " 'muset': 807,\n",
       " 'roli': 808,\n",
       " 'ať': 809,\n",
       " 'tvoří': 810,\n",
       " 'domácí': 811,\n",
       " 'konkurenci': 812,\n",
       " 'unii': 813,\n",
       " 'opravdu': 814,\n",
       " 'University': 815,\n",
       " 'of': 816,\n",
       " 'sérii': 817,\n",
       " 'stran': 818,\n",
       " 'krize': 819,\n",
       " 'těch': 820,\n",
       " 'Některé': 821,\n",
       " 'samozřejmě': 822,\n",
       " 'přesto': 823,\n",
       " 'dál': 824,\n",
       " 'prvních': 825,\n",
       " 'zároveň': 826,\n",
       " 'dosažení': 827,\n",
       " 'třetí': 828,\n",
       " 'sobě': 829,\n",
       " 'zařízení': 830,\n",
       " 'výši': 831,\n",
       " 'všechno': 832,\n",
       " 'takže': 833,\n",
       " 'začít': 834,\n",
       " 'členy': 835,\n",
       " 'Vzhledem': 836,\n",
       " 'tehdy': 837,\n",
       " 'východní': 838,\n",
       " 'Kromě': 839,\n",
       " 'nedávno': 840,\n",
       " 'reforem': 841,\n",
       " 'Amerika': 842,\n",
       " 'mohly': 843,\n",
       " 'podmínek': 844,\n",
       " 'nebyly': 845,\n",
       " 'dokud': 846,\n",
       " 'Aby': 847,\n",
       " 'sil': 848,\n",
       " 'firmě': 849,\n",
       " 'služeb': 850,\n",
       " 'výrobu': 851,\n",
       " 'kritéria': 852,\n",
       " 'rozsahu': 853,\n",
       " 'dochází': 854,\n",
       " 'politiky': 855,\n",
       " 'povinností': 856,\n",
       " 'možnost': 857,\n",
       " 'cestu': 858,\n",
       " 'Tudjman': 859,\n",
       " 'tj': 860,\n",
       " 'dohoda': 861,\n",
       " 'vedl': 862,\n",
       " 'opozice': 863,\n",
       " 'evropských': 864,\n",
       " 'členové': 865,\n",
       " 'nim': 866,\n",
       " 'přistoupení': 867,\n",
       " 'Většina': 868,\n",
       " 'Také': 869,\n",
       " 'velkých': 870,\n",
       " 'výkon': 871,\n",
       " 'povinnost': 872,\n",
       " 'čele': 873,\n",
       " 'vzhledem': 874,\n",
       " 'návrhu': 875,\n",
       " 'Dnes': 876,\n",
       " 'začala': 877,\n",
       " 'společně': 878,\n",
       " 'opět': 879,\n",
       " 'P': 880,\n",
       " 'Firma': 881,\n",
       " 'třetím': 882,\n",
       " 'George': 883,\n",
       " 'Do': 884,\n",
       " 'týden': 885,\n",
       " 'San': 886,\n",
       " 'září': 887,\n",
       " 'klesly': 888,\n",
       " 'propadu': 889,\n",
       " 'odpoledne': 890,\n",
       " 'krok': 891,\n",
       " 'předsedou': 892,\n",
       " 'příloha': 893,\n",
       " 'omezení': 894,\n",
       " 'pravidla': 895,\n",
       " 'nebyl': 896,\n",
       " 'prodeji': 897,\n",
       " 'nabídky': 898,\n",
       " 'McCaw': 899,\n",
       " 'nemá': 900,\n",
       " 'Simpson': 901,\n",
       " '20': 902,\n",
       " 'povolení': 903,\n",
       " 'druhý': 904,\n",
       " 'Avšak': 905,\n",
       " 'Jakmile': 906,\n",
       " '90': 907,\n",
       " 'objem': 908,\n",
       " 'Canadian': 909,\n",
       " 'Boeing': 910,\n",
       " 'Británie': 911,\n",
       " 'stanice': 912,\n",
       " 'Srbska': 913,\n",
       " 'zúčastnit': 914,\n",
       " 'výjimkou': 915,\n",
       " 'Radě': 916,\n",
       " 'konzultací': 917,\n",
       " 'otázky': 918,\n",
       " 'mezinárodních': 919,\n",
       " 'úroveň': 920,\n",
       " 'právním': 921,\n",
       " 'plic': 922,\n",
       " 'rozumí': 923,\n",
       " 'úhyn': 924,\n",
       " 'úhynu': 925,\n",
       " 'výskytu': 926,\n",
       " 'odběru': 927,\n",
       " 'stanovená': 928,\n",
       " 'státem': 929,\n",
       " 'překročení': 930,\n",
       " 'IV': 931,\n",
       " 'předpisů': 932,\n",
       " 'studenou': 933,\n",
       " 'vztahuje': 934,\n",
       " 'látek': 935,\n",
       " 'smluvní': 936,\n",
       " 'Eura': 937,\n",
       " '—': 938,\n",
       " 'Teď': 939,\n",
       " 'značné': 940,\n",
       " 'náklady': 941,\n",
       " 'jenech': 942,\n",
       " 'Například': 943,\n",
       " 'japonské': 944,\n",
       " 'Z': 945,\n",
       " 'Jen': 946,\n",
       " 'Tak': 947,\n",
       " 'tržní': 948,\n",
       " 'těmto': 949,\n",
       " 'ekonomie': 950,\n",
       " 'Francii': 951,\n",
       " 'uprostřed': 952,\n",
       " 'zásadní': 953,\n",
       " 'hospodářský': 954,\n",
       " 'těžké': 955,\n",
       " 'poli': 956,\n",
       " 'kapitál': 957,\n",
       " 'hranice': 958,\n",
       " 'mnohé': 959,\n",
       " 'obě': 960,\n",
       " 'ni': 961,\n",
       " 'Střední': 962,\n",
       " 'rychle': 963,\n",
       " 'problémy': 964,\n",
       " 'volby': 965,\n",
       " 'vše': 966,\n",
       " 'příští': 967,\n",
       " 'představitelé': 968,\n",
       " 'tzv': 969,\n",
       " 'fungovat': 970,\n",
       " 'Japonsku': 971,\n",
       " 'Mezinárodní': 972,\n",
       " 'jedné': 973,\n",
       " 'skutečně': 974,\n",
       " 'zisku': 975,\n",
       " 'deset': 976,\n",
       " 'emisí': 977,\n",
       " 'století': 978,\n",
       " 'výzkumu': 979,\n",
       " '500': 980,\n",
       " 'zapotřebí': 981,\n",
       " 'názoru': 982,\n",
       " 'jasně': 983,\n",
       " 'Severoatlantické': 984,\n",
       " 'nejdříve': 985,\n",
       " 'konce': 986,\n",
       " 'naprosto': 987,\n",
       " 'přijetí': 988,\n",
       " 'pobaltských': 989,\n",
       " 'hned': 990,\n",
       " 'obou': 991,\n",
       " 'Pobaltí': 992,\n",
       " 'alianci': 993,\n",
       " 'rozšiřování': 994,\n",
       " 'nemohou': 995,\n",
       " 'konci': 996,\n",
       " 'funkci': 997,\n",
       " 'názor': 998,\n",
       " 'současné': 999,\n",
       " ...}"
      ]
     },
     "execution_count": 48,
     "metadata": {},
     "output_type": "execute_result"
    }
   ],
   "source": [
    "t_idx_tgt"
   ]
  },
  {
   "cell_type": "markdown",
   "metadata": {},
   "source": [
    "Заметим, что при задании модели мы сделали довольно сильное предположение о том, что вероятности выбора слова для выравнивания никак не зависят от позиции слова в целевом предложении. Можно сделать эти вероятности настраиваемыми параметрами, получив прямоугольную матрицу $\\phi_{m,n}(j|i)=p(a_i=j|m,n)$ для каждой пары длин предложений $m,n$: по-прежнему мы получаем распределение над индексами в исходном предложении. Тогда модель приобретает вид\n",
    "$$\n",
    "p(A,T|S)=\\prod_{i=1}^m p(a_i|m,n)p(t_i| a_i, S)=\\prod_{i=1}^m \\phi_{m,n}(a_i|i)\\theta(t_i|s_{a_i}).\n",
    "$$"
   ]
  },
  {
   "cell_type": "markdown",
   "metadata": {},
   "source": [
    "**Задание 5. (1.5 балла)** Выведите шаги EM-алгоритма для этой модели, а также получите выражение для подсчёта нижней оценки правдоподобия."
   ]
  },
  {
   "cell_type": "markdown",
   "metadata": {},
   "source": [
    "Неполное правдоподобие:\n",
    "\n",
    "$$\n",
    "p(T|S)=\\prod ^{m}_{i=1} p(t_{i} |S)=\\prod ^{m}_{i=1}\\sum _{a_{i} \\in \\{1,\\dotsc ,n\\}} p(t_{i} ,a_{i} |S)=\\prod ^{m}_{i=1}\\sum _{a_{i} \\in \\{1,\\dotsc ,n\\}} p(a_i|m,n)p(t_{i} |a_{i} ,S)=\\dfrac{1}{n}\\prod ^{m}_{i=1}\\sum _{a_{i} \\in \\{1,\\dotsc ,n\\}} \\phi _{m,n}( a_{i} |i) \\theta (t_{i} |s_{a_{i}} )\n",
    "$$"
   ]
  },
  {
   "cell_type": "markdown",
   "metadata": {},
   "source": [
    "1) __Е-шаг__:"
   ]
  },
  {
   "cell_type": "markdown",
   "metadata": {},
   "source": [
    "$$\n",
    "p(A|T,S)=\\dfrac{p(A,T|S)}{p(T|S)} =\\prod\\limits ^{m}_{i=1}\\dfrac{p(a_{i} ,t_{i} |S)}{p(t_{i} |S)} =\\prod\\limits ^{m}_{i=1}\\dfrac{p(a_{i} ,t_{i} |S)}{\\sum\\limits _{a_{i} \\in \\{1,\\dotsc ,n\\}} p(a_{i} ,t_{i} |S)} =\\prod\\limits ^{m}_{i=1}\\dfrac{\\phi _{m,n}( a_{i} |i) \\theta ^{old} (t_{i} |s_{a_{i}} )}{\\sum\\limits _{a_{i} \\in \\{1,\\dotsc ,n\\}} \\phi _{m,n}( a_{i} |i) \\theta ^{old} (t_{i} |s_{a_{i}} )} =\n",
    "\\prod\\limits ^{m}_{i=1}\\dfrac{\\phi _{m,n}(j|i) \\theta ^{old} (t_{i} |s_{j} )}{\\sum\\limits ^{n}_{k=1} \\phi _{m,n}(k|i) \\theta ^{old} (t_{i} |s_{k} )}\n",
    "$$"
   ]
  },
  {
   "cell_type": "markdown",
   "metadata": {},
   "source": [
    "Пусть $g_{ij} =p(a_{i}=j|t_{i},S,\\theta^{old})=\\dfrac{\\phi _{m,n}(j|i) \\theta ^{old} (t_{i} |s_{j} )}{\\sum\\limits ^{n}_{k=1} \\phi _{m,n}(k|i) \\theta ^{old} (t_{i} |s_{k} )}$\n",
    "\n",
    "Также не забываем, что $\\phi _{m,n}(j|i)$ также обновляется."
   ]
  },
  {
   "cell_type": "markdown",
   "metadata": {},
   "source": [
    "2) __М-шаг__:"
   ]
  },
  {
   "cell_type": "markdown",
   "metadata": {},
   "source": [
    "Ничем не отличается от предыдушей модели, кроме того, что:\n",
    "\n",
    "$$\\theta ^{new}( t_{i} |s_{j}) \\ =\\dfrac{g_{ij}}{\\sum\\limits ^{m}_{k=1} g_{kj}} = \\dfrac{\\dfrac{\\phi _{m,n} (j|i)\\theta ^{old} (t_{i} |s_{j} )}{\\sum\\limits ^{n}_{k=1} \\phi _{m,n} (k|i)\\theta ^{old} (t_{i} |s_{k} )}}{\\sum\\limits ^{m}_{i=1}\\dfrac{\\phi _{m,n} (j|i)\\theta ^{old} (t_{i} |s_{j} )}{\\sum\\limits ^{n}_{k=1} \\phi _{m,n} (k|i)\\theta ^{old} (t_{i} |s_{k} )}}$$"
   ]
  },
  {
   "cell_type": "markdown",
   "metadata": {},
   "source": [
    "3) Оценка нижнего правдоподобия:\n",
    "\n",
    "$$\n",
    "\\mathcal{L}\\left( p\\left( A|T,S,\\theta ^{old}\\right) ,\\theta \\right) =\\sum _{a} p\\left( A|T,S,\\theta ^{old}\\right)\\log p(T,A|S)-\\sum _{a} p\\left( A|T,S,\\theta ^{old}\\right)\\log p\\left( A|T,S,\\theta ^{old}\\right) =\\\\\n",
    "\\sum _{a} p\\left( A|T,S,\\theta ^{old}\\right)\\sum ^{m}_{i=1}\\log( \\phi _{m,n} (a_{i} |i)\\theta (t_{i} |s_{a_{i}} )) -\\sum _{a} p\\left( A|T,S,\\theta ^{old}\\right)\\sum ^{m}_{i=1}\\log\\left(\\dfrac{\\phi _{m,n} (j|i)\\theta ^{old} (t_{i} |s_{j} )}{\\sum\\limits ^{n}_{k=1} \\phi _{m,n} (k|i)\\theta ^{old} (t_{i} |s_{k} )}\\right)$$"
   ]
  },
  {
   "cell_type": "markdown",
   "metadata": {},
   "source": [
    "**Задание 6. (2 балла)** Реализуйте все методы класса `WordPositionAligner`, протестируйте их корректность через Яндекс.Контест. Обучите модель, оцените её качество на истинной разметке и сравните его с качеством предыдущей более простой модели. Проиллюстрируйте влияние стартовых параметров на результат, проинициализировав эту модель параметрами модели из задания 2 (важно, чтобы суммарное число эпох обучения в обоих сценариях оставалось тем же)."
   ]
  },
  {
   "cell_type": "code",
   "execution_count": 49,
   "metadata": {},
   "outputs": [],
   "source": [
    "from models import WordPositionAligner"
   ]
  },
  {
   "cell_type": "markdown",
   "metadata": {},
   "source": [
    "Без инициализации параметров из модели задания 2"
   ]
  },
  {
   "cell_type": "code",
   "execution_count": 50,
   "metadata": {},
   "outputs": [],
   "source": [
    "word_position_aligner = WordPositionAligner(len(t_idx_src), len(t_idx_tgt), 20)"
   ]
  },
  {
   "cell_type": "code",
   "execution_count": 51,
   "metadata": {},
   "outputs": [
    {
     "name": "stdout",
     "output_type": "stream",
     "text": [
      "CPU times: user 10.2 s, sys: 66.8 ms, total: 10.2 s\n",
      "Wall time: 10.4 s\n"
     ]
    }
   ],
   "source": [
    "%%time\n",
    "elbo = word_position_aligner.fit(tokenized_sentences);"
   ]
  },
  {
   "cell_type": "code",
   "execution_count": 52,
   "metadata": {},
   "outputs": [
    {
     "data": {
      "text/plain": [
       "0.5803978471386084"
      ]
     },
     "execution_count": 52,
     "metadata": {},
     "output_type": "execute_result"
    }
   ],
   "source": [
    "compute_aer(all_targets, word_position_aligner.align(tokenized_sentences))"
   ]
  },
  {
   "cell_type": "markdown",
   "metadata": {},
   "source": [
    "С инициализацией параметров из модели задания 2"
   ]
  },
  {
   "cell_type": "code",
   "execution_count": 53,
   "metadata": {},
   "outputs": [],
   "source": [
    "word_position_aligner = WordPositionAligner(len(t_idx_src), len(t_idx_tgt), 20)"
   ]
  },
  {
   "cell_type": "code",
   "execution_count": 54,
   "metadata": {},
   "outputs": [],
   "source": [
    "alignment_probs = {}\n",
    "posteriors = word_aligner._e_step(tokenized_sentences)"
   ]
  },
  {
   "cell_type": "code",
   "execution_count": 55,
   "metadata": {},
   "outputs": [],
   "source": [
    "for sentence in tokenized_sentences:\n",
    "    src_length, tgt_length = len(sentence.source_tokens), len(sentence.target_tokens)\n",
    "    alignment_probs[(src_length, tgt_length)] = np.zeros(shape=(src_length, tgt_length))"
   ]
  },
  {
   "cell_type": "code",
   "execution_count": 56,
   "metadata": {},
   "outputs": [],
   "source": [
    "for k, sentence in enumerate(tokenized_sentences):\n",
    "    src_idx, tgt_idx = sentence.source_tokens, sentence.target_tokens\n",
    "    src_length, tgt_length = len(src_idx), len(tgt_idx)\n",
    "    alignment_probs[(src_length, tgt_length)] = alignment_probs[(src_length, tgt_length)] + posteriors[k]"
   ]
  },
  {
   "cell_type": "code",
   "execution_count": 57,
   "metadata": {},
   "outputs": [],
   "source": [
    "for key in alignment_probs.keys():\n",
    "    alignment_probs[key] /= alignment_probs[key].sum(axis=0)"
   ]
  },
  {
   "cell_type": "code",
   "execution_count": 58,
   "metadata": {},
   "outputs": [],
   "source": [
    "word_position_aligner.alignment_probs = alignment_probs"
   ]
  },
  {
   "cell_type": "code",
   "execution_count": 59,
   "metadata": {},
   "outputs": [
    {
     "name": "stdout",
     "output_type": "stream",
     "text": [
      "CPU times: user 10.8 s, sys: 90 ms, total: 10.9 s\n",
      "Wall time: 11.1 s\n"
     ]
    }
   ],
   "source": [
    "%%time\n",
    "elbo = word_position_aligner.fit(tokenized_sentences)"
   ]
  },
  {
   "cell_type": "code",
   "execution_count": 60,
   "metadata": {},
   "outputs": [
    {
     "data": {
      "text/plain": [
       "0.5607524723945951"
      ]
     },
     "execution_count": 60,
     "metadata": {},
     "output_type": "execute_result"
    }
   ],
   "source": [
    "compute_aer(all_targets, word_position_aligner.align(tokenized_sentences))"
   ]
  },
  {
   "cell_type": "markdown",
   "metadata": {},
   "source": [
    "При инициализации параметров из модели задания 2, качество стало лучше. Однако, изменение несущественное. Скорее всего, это ввиду того, что у нас мало данных."
   ]
  },
  {
   "cell_type": "markdown",
   "metadata": {},
   "source": [
    "**Задание 7. (1 балл)** В предыдущих пунктах мы никак не заостряли внимание на предобработке текстов, что может негативно влиять на результаты обученной модели. Например, сейчас метод выравнивания учитывает регистр, а слова на чешском языке вдобавок обладают богатой морфологией и большим количеством диакритических знаков. Если сократить количество параметров модели (различных слов), можно ускорить обучение и добиться лучших результатов, потому что статистики по словам будут считаться по большему числу параллельных предложений.\n",
    "\n",
    "Примените к исходным данным [Unicode-нормализацию](https://en.wikipedia.org/wiki/Unicode_equivalence#Normalization), приведите их к нижнему регистру и обучите модель выравнивания заново. Сравните качество и скорость обучения с предыдущими результатами и сделайте выводы. Если вы найдете в данных ещё какие-то проблемы, которые можно исправить более грамотной предобработкой, также продемонстрируйте, как их решение влияет на качество.\n",
    "\n",
    "**Важно:** здесь и далее в процессе обработки данных у вас может получаться, что из тестовых данных будут удалены предложения из-за отсутствия слов в словаре. Если такое всё же произошло, для корректности сравнения считайте AER вашей модели на удалённых предложениях равным 1."
   ]
  },
  {
   "cell_type": "code",
   "execution_count": 61,
   "metadata": {},
   "outputs": [],
   "source": [
    "import unicodedata"
   ]
  },
  {
   "cell_type": "code",
   "execution_count": 62,
   "metadata": {},
   "outputs": [],
   "source": [
    "for i in range(len(all_sentences)):\n",
    "    for j in range(len(all_sentences[i].source)):\n",
    "        all_sentences[i].source[j] = unicodedata.normalize(u'NFKD', all_sentences[i].source[j]).encode('ascii', 'ignore').decode('utf8').lower()\n",
    "        \n",
    "    for j in range(len(all_sentences[i].target)):\n",
    "        all_sentences[i].target[j] = unicodedata.normalize(u'NFKD', all_sentences[i].target[j]).encode('ascii', 'ignore').decode('utf8').lower()"
   ]
  },
  {
   "cell_type": "code",
   "execution_count": 63,
   "metadata": {},
   "outputs": [],
   "source": [
    "t_idx_src, t_idx_tgt = get_token_to_index(all_sentences)\n",
    "tokenized_sentences = tokenize_sents(all_sentences, t_idx_src, t_idx_tgt)"
   ]
  },
  {
   "cell_type": "markdown",
   "metadata": {},
   "source": [
    "Используем модель из задания 2."
   ]
  },
  {
   "cell_type": "code",
   "execution_count": 64,
   "metadata": {},
   "outputs": [
    {
     "name": "stdout",
     "output_type": "stream",
     "text": [
      "CPU times: user 8.57 s, sys: 224 ms, total: 8.79 s\n",
      "Wall time: 9.36 s\n"
     ]
    }
   ],
   "source": [
    "%%time\n",
    "word_aligner = WordAligner(len(t_idx_src), len(t_idx_tgt), 20)\n",
    "elbo = word_aligner.fit(tokenized_sentences)"
   ]
  },
  {
   "cell_type": "code",
   "execution_count": 65,
   "metadata": {},
   "outputs": [
    {
     "data": {
      "text/plain": [
       "0.5574079219536291"
      ]
     },
     "execution_count": 65,
     "metadata": {},
     "output_type": "execute_result"
    }
   ],
   "source": [
    "compute_aer(all_targets, word_aligner.align(tokenized_sentences))"
   ]
  },
  {
   "cell_type": "markdown",
   "metadata": {},
   "source": [
    "Теперь используем модель из задания 6 без инициализации параметров из модели 2."
   ]
  },
  {
   "cell_type": "code",
   "execution_count": 66,
   "metadata": {},
   "outputs": [],
   "source": [
    "word_position_aligner = WordPositionAligner(len(t_idx_src), len(t_idx_tgt), 20)"
   ]
  },
  {
   "cell_type": "code",
   "execution_count": 67,
   "metadata": {},
   "outputs": [
    {
     "name": "stdout",
     "output_type": "stream",
     "text": [
      "CPU times: user 10.2 s, sys: 119 ms, total: 10.3 s\n",
      "Wall time: 11.2 s\n"
     ]
    }
   ],
   "source": [
    "%%time\n",
    "elbo = word_position_aligner.fit(tokenized_sentences);"
   ]
  },
  {
   "cell_type": "code",
   "execution_count": 68,
   "metadata": {},
   "outputs": [
    {
     "data": {
      "text/plain": [
       "0.5642102230043324"
      ]
     },
     "execution_count": 68,
     "metadata": {},
     "output_type": "execute_result"
    }
   ],
   "source": [
    "compute_aer(all_targets, word_position_aligner.align(tokenized_sentences))"
   ]
  },
  {
   "cell_type": "markdown",
   "metadata": {},
   "source": [
    "Теперь используем модель из задания 6 с инициализацией параметров из модели 2."
   ]
  },
  {
   "cell_type": "code",
   "execution_count": 69,
   "metadata": {},
   "outputs": [],
   "source": [
    "word_position_aligner = WordPositionAligner(len(t_idx_src), len(t_idx_tgt), 20)\n",
    "\n",
    "alignment_probs = {}\n",
    "posteriors = word_aligner._e_step(tokenized_sentences)\n",
    "\n",
    "for sentence in tokenized_sentences:\n",
    "    src_length, tgt_length = len(sentence.source_tokens), len(sentence.target_tokens)\n",
    "    alignment_probs[(src_length, tgt_length)] = np.zeros(shape=(src_length, tgt_length))\n",
    "\n",
    "for k, sentence in enumerate(tokenized_sentences):\n",
    "    src_idx, tgt_idx = sentence.source_tokens, sentence.target_tokens\n",
    "    src_length, tgt_length = len(src_idx), len(tgt_idx)\n",
    "    alignment_probs[(src_length, tgt_length)] = alignment_probs[(src_length, tgt_length)] + posteriors[k]\n",
    "\n",
    "for key in alignment_probs.keys():\n",
    "    alignment_probs[key] /= alignment_probs[key].sum(axis=0)\n",
    "\n",
    "word_position_aligner.alignment_probs = alignment_probs"
   ]
  },
  {
   "cell_type": "code",
   "execution_count": 70,
   "metadata": {},
   "outputs": [
    {
     "name": "stdout",
     "output_type": "stream",
     "text": [
      "CPU times: user 11 s, sys: 115 ms, total: 11.1 s\n",
      "Wall time: 11.8 s\n"
     ]
    }
   ],
   "source": [
    "%%time\n",
    "elbo = word_position_aligner.fit(tokenized_sentences)"
   ]
  },
  {
   "cell_type": "code",
   "execution_count": 71,
   "metadata": {},
   "outputs": [
    {
     "data": {
      "text/plain": [
       "0.5449764852376688"
      ]
     },
     "execution_count": 71,
     "metadata": {},
     "output_type": "execute_result"
    }
   ],
   "source": [
    "compute_aer(all_targets, word_position_aligner.align(tokenized_sentences))"
   ]
  },
  {
   "cell_type": "markdown",
   "metadata": {},
   "source": [
    "__Вывод__: качество, действительно, стало лучше, а время обучения моделей, можно сказать, почти не изменилось."
   ]
  },
  {
   "cell_type": "markdown",
   "metadata": {},
   "source": [
    "**Задание 7. (бонус, до 3 баллов)** \n",
    "\n",
    "Улучшите качество получившейся системы настолько, насколько сможете. За каждые 5 процентов, на которые AER на тех же данных получается меньше, чем минимум ошибки всех предыдущих моделей, вы получите по 1 бонусному баллу.\n",
    "\n",
    "Ниже приведены несколько идей, которые могут помочь вам повысить \n",
    "\n",
    "* Модифицировать модель: как вы можете понять, недостатком второго реализованного вами подхода является избыточное число параметров из-за необходимости подерживать отдельную матрицу для каждой различной пары длин предложений в корпусе. В статье https://www.aclweb.org/anthology/N13-1073.pdf приведён способ снижения числа параметров, задающих априорное распределение позиций выравнивания, который позволяет в десять раз быстрее обучать модель и получать лучшее качество.\n",
    "* Агрегация по двум направлениям: в статье https://www.aclweb.org/anthology/J03-1002/ утверждается, что асимметричность выравниваний вредит качеству, потому что из-за выбранной модели одному слову в целевом предложении не может соответствовать два слова в исходном предложении. Для решения этой проблемы (и улучшения метрик, разумеется) авторы предлагают несколько алгоритмов, которые можно попробовать применить в этом задании.\n",
    "* Использовать больше обучающих данных. В корпусе, которым мы пользуемся, только пара тысяч предложений, чего может не хватать для по-настоящему хорошей модели выравнивания. Разумеется, неразмеченных параллельных английско-чешских корпусов гораздо больше, поэтому можно воспользоваться ими. Хорошая точка для старта — данные с соревнования по машинному переводу  [воркшопа WMT](http://www.statmt.org/wmt20/translation-task.html).\n",
    "* В языках часто существуют слова наподобие артиклей или предлогов, которым не соответствует ни одно слово в переводе. Все рассмотренные в рамках задания модели это не учитывают, возможно, добавление возможности перевода в «нулевой» токен улучшит качество модели (при тестировании такие выравнивания имеет смысл выбрасывать)"
   ]
  },
  {
   "cell_type": "code",
   "execution_count": null,
   "metadata": {},
   "outputs": [],
   "source": [
    "# ┐_(ツ)_┌━☆ﾟ.*･｡ﾟ"
   ]
  }
 ],
 "metadata": {
  "kernelspec": {
   "display_name": "Python 3",
   "language": "python",
   "name": "python3"
  },
  "language_info": {
   "codemirror_mode": {
    "name": "ipython",
    "version": 3
   },
   "file_extension": ".py",
   "mimetype": "text/x-python",
   "name": "python",
   "nbconvert_exporter": "python",
   "pygments_lexer": "ipython3",
   "version": "3.8.3"
  }
 },
 "nbformat": 4,
 "nbformat_minor": 4
}
