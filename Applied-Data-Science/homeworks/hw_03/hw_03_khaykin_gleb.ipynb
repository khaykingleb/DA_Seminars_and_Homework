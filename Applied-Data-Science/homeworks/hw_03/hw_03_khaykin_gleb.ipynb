{
  "nbformat": 4,
  "nbformat_minor": 0,
  "metadata": {
    "colab": {
      "name": "HW3 (1).ipynb",
      "provenance": [],
      "collapsed_sections": []
    },
    "kernelspec": {
      "display_name": "Python 3",
      "language": "python",
      "name": "python3"
    },
    "language_info": {
      "codemirror_mode": {
        "name": "ipython",
        "version": 3
      },
      "file_extension": ".py",
      "mimetype": "text/x-python",
      "name": "python",
      "nbconvert_exporter": "python",
      "pygments_lexer": "ipython3",
      "version": "3.8.3"
    }
  },
  "cells": [
    {
      "cell_type": "markdown",
      "metadata": {
        "id": "ExuV3ktSQYrH"
      },
      "source": [
        "# Домашнее задание 3"
      ]
    },
    {
      "cell_type": "markdown",
      "metadata": {
        "id": "4VX5uXADXR0Y"
      },
      "source": [
        "Выполнил: Хайкин Глеб, ИАД 5"
      ]
    },
    {
      "cell_type": "markdown",
      "metadata": {
        "id": "ef6180WvQbD-"
      },
      "source": [
        "В этом задании Вы продолжите работать с данными из семинара [Articles Sharing and Reading from CI&T Deskdrop](https://www.kaggle.com/gspmoreira/articles-sharing-reading-from-cit-deskdrop)."
      ]
    },
    {
      "cell_type": "code",
      "metadata": {
        "id": "M5mH3ZolSlcm"
      },
      "source": [
        "import pandas as pd\n",
        "import numpy as np\n",
        "import math"
      ],
      "execution_count": 2,
      "outputs": []
    },
    {
      "cell_type": "markdown",
      "metadata": {
        "id": "nSV_mxD9TciM"
      },
      "source": [
        "## Загрузка и предобработка данных"
      ]
    },
    {
      "cell_type": "markdown",
      "metadata": {
        "id": "PRQVuRvER0hd"
      },
      "source": [
        "Загрузим данные и проведем предобраотку данных как на семинаре."
      ]
    },
    {
      "cell_type": "code",
      "metadata": {
        "id": "8E837g9kQTbb"
      },
      "source": [
        "!wget -q -N https://www.dropbox.com/s/z8syrl5trawxs0n/articles.zip?dl=0 -O articles.zip\n",
        "!unzip -o -q articles.zip"
      ],
      "execution_count": 3,
      "outputs": []
    },
    {
      "cell_type": "code",
      "metadata": {
        "colab": {
          "base_uri": "https://localhost:8080/",
          "height": 598
        },
        "id": "hdM1xSchR9jt",
        "outputId": "6ba87834-82c5-4f83-8efc-ac1c7dbbdfc7"
      },
      "source": [
        "articles_df = pd.read_csv('articles/shared_articles.csv')\n",
        "articles_df = articles_df[articles_df['eventType'] == 'CONTENT SHARED']\n",
        "articles_df.head()"
      ],
      "execution_count": 4,
      "outputs": [
        {
          "output_type": "execute_result",
          "data": {
            "text/html": [
              "<div>\n",
              "<style scoped>\n",
              "    .dataframe tbody tr th:only-of-type {\n",
              "        vertical-align: middle;\n",
              "    }\n",
              "\n",
              "    .dataframe tbody tr th {\n",
              "        vertical-align: top;\n",
              "    }\n",
              "\n",
              "    .dataframe thead th {\n",
              "        text-align: right;\n",
              "    }\n",
              "</style>\n",
              "<table border=\"1\" class=\"dataframe\">\n",
              "  <thead>\n",
              "    <tr style=\"text-align: right;\">\n",
              "      <th></th>\n",
              "      <th>timestamp</th>\n",
              "      <th>eventType</th>\n",
              "      <th>contentId</th>\n",
              "      <th>authorPersonId</th>\n",
              "      <th>authorSessionId</th>\n",
              "      <th>authorUserAgent</th>\n",
              "      <th>authorRegion</th>\n",
              "      <th>authorCountry</th>\n",
              "      <th>contentType</th>\n",
              "      <th>url</th>\n",
              "      <th>title</th>\n",
              "      <th>text</th>\n",
              "      <th>lang</th>\n",
              "    </tr>\n",
              "  </thead>\n",
              "  <tbody>\n",
              "    <tr>\n",
              "      <th>1</th>\n",
              "      <td>1459193988</td>\n",
              "      <td>CONTENT SHARED</td>\n",
              "      <td>-4110354420726924665</td>\n",
              "      <td>4340306774493623681</td>\n",
              "      <td>8940341205206233829</td>\n",
              "      <td>NaN</td>\n",
              "      <td>NaN</td>\n",
              "      <td>NaN</td>\n",
              "      <td>HTML</td>\n",
              "      <td>http://www.nytimes.com/2016/03/28/business/dea...</td>\n",
              "      <td>Ethereum, a Virtual Currency, Enables Transact...</td>\n",
              "      <td>All of this work is still very early. The firs...</td>\n",
              "      <td>en</td>\n",
              "    </tr>\n",
              "    <tr>\n",
              "      <th>2</th>\n",
              "      <td>1459194146</td>\n",
              "      <td>CONTENT SHARED</td>\n",
              "      <td>-7292285110016212249</td>\n",
              "      <td>4340306774493623681</td>\n",
              "      <td>8940341205206233829</td>\n",
              "      <td>NaN</td>\n",
              "      <td>NaN</td>\n",
              "      <td>NaN</td>\n",
              "      <td>HTML</td>\n",
              "      <td>http://cointelegraph.com/news/bitcoin-future-w...</td>\n",
              "      <td>Bitcoin Future: When GBPcoin of Branson Wins O...</td>\n",
              "      <td>The alarm clock wakes me at 8:00 with stream o...</td>\n",
              "      <td>en</td>\n",
              "    </tr>\n",
              "    <tr>\n",
              "      <th>3</th>\n",
              "      <td>1459194474</td>\n",
              "      <td>CONTENT SHARED</td>\n",
              "      <td>-6151852268067518688</td>\n",
              "      <td>3891637997717104548</td>\n",
              "      <td>-1457532940883382585</td>\n",
              "      <td>NaN</td>\n",
              "      <td>NaN</td>\n",
              "      <td>NaN</td>\n",
              "      <td>HTML</td>\n",
              "      <td>https://cloudplatform.googleblog.com/2016/03/G...</td>\n",
              "      <td>Google Data Center 360° Tour</td>\n",
              "      <td>We're excited to share the Google Data Center ...</td>\n",
              "      <td>en</td>\n",
              "    </tr>\n",
              "    <tr>\n",
              "      <th>4</th>\n",
              "      <td>1459194497</td>\n",
              "      <td>CONTENT SHARED</td>\n",
              "      <td>2448026894306402386</td>\n",
              "      <td>4340306774493623681</td>\n",
              "      <td>8940341205206233829</td>\n",
              "      <td>NaN</td>\n",
              "      <td>NaN</td>\n",
              "      <td>NaN</td>\n",
              "      <td>HTML</td>\n",
              "      <td>https://bitcoinmagazine.com/articles/ibm-wants...</td>\n",
              "      <td>IBM Wants to \"Evolve the Internet\" With Blockc...</td>\n",
              "      <td>The Aite Group projects the blockchain market ...</td>\n",
              "      <td>en</td>\n",
              "    </tr>\n",
              "    <tr>\n",
              "      <th>5</th>\n",
              "      <td>1459194522</td>\n",
              "      <td>CONTENT SHARED</td>\n",
              "      <td>-2826566343807132236</td>\n",
              "      <td>4340306774493623681</td>\n",
              "      <td>8940341205206233829</td>\n",
              "      <td>NaN</td>\n",
              "      <td>NaN</td>\n",
              "      <td>NaN</td>\n",
              "      <td>HTML</td>\n",
              "      <td>http://www.coindesk.com/ieee-blockchain-oxford...</td>\n",
              "      <td>IEEE to Talk Blockchain at Cloud Computing Oxf...</td>\n",
              "      <td>One of the largest and oldest organizations fo...</td>\n",
              "      <td>en</td>\n",
              "    </tr>\n",
              "  </tbody>\n",
              "</table>\n",
              "</div>"
            ],
            "text/plain": [
              "    timestamp  ... lang\n",
              "1  1459193988  ...   en\n",
              "2  1459194146  ...   en\n",
              "3  1459194474  ...   en\n",
              "4  1459194497  ...   en\n",
              "5  1459194522  ...   en\n",
              "\n",
              "[5 rows x 13 columns]"
            ]
          },
          "metadata": {
            "tags": []
          },
          "execution_count": 4
        }
      ]
    },
    {
      "cell_type": "code",
      "metadata": {
        "colab": {
          "base_uri": "https://localhost:8080/",
          "height": 204
        },
        "id": "KK9wMAkvSjbk",
        "outputId": "3caf587a-2c17-48d4-ad61-7b855ce8ffc1"
      },
      "source": [
        "interactions_df = pd.read_csv('articles/users_interactions.csv')\n",
        "interactions_df.head()"
      ],
      "execution_count": 5,
      "outputs": [
        {
          "output_type": "execute_result",
          "data": {
            "text/html": [
              "<div>\n",
              "<style scoped>\n",
              "    .dataframe tbody tr th:only-of-type {\n",
              "        vertical-align: middle;\n",
              "    }\n",
              "\n",
              "    .dataframe tbody tr th {\n",
              "        vertical-align: top;\n",
              "    }\n",
              "\n",
              "    .dataframe thead th {\n",
              "        text-align: right;\n",
              "    }\n",
              "</style>\n",
              "<table border=\"1\" class=\"dataframe\">\n",
              "  <thead>\n",
              "    <tr style=\"text-align: right;\">\n",
              "      <th></th>\n",
              "      <th>timestamp</th>\n",
              "      <th>eventType</th>\n",
              "      <th>contentId</th>\n",
              "      <th>personId</th>\n",
              "      <th>sessionId</th>\n",
              "      <th>userAgent</th>\n",
              "      <th>userRegion</th>\n",
              "      <th>userCountry</th>\n",
              "    </tr>\n",
              "  </thead>\n",
              "  <tbody>\n",
              "    <tr>\n",
              "      <th>0</th>\n",
              "      <td>1465413032</td>\n",
              "      <td>VIEW</td>\n",
              "      <td>-3499919498720038879</td>\n",
              "      <td>-8845298781299428018</td>\n",
              "      <td>1264196770339959068</td>\n",
              "      <td>NaN</td>\n",
              "      <td>NaN</td>\n",
              "      <td>NaN</td>\n",
              "    </tr>\n",
              "    <tr>\n",
              "      <th>1</th>\n",
              "      <td>1465412560</td>\n",
              "      <td>VIEW</td>\n",
              "      <td>8890720798209849691</td>\n",
              "      <td>-1032019229384696495</td>\n",
              "      <td>3621737643587579081</td>\n",
              "      <td>Mozilla/5.0 (Macintosh; Intel Mac OS X 10_11_2...</td>\n",
              "      <td>NY</td>\n",
              "      <td>US</td>\n",
              "    </tr>\n",
              "    <tr>\n",
              "      <th>2</th>\n",
              "      <td>1465416190</td>\n",
              "      <td>VIEW</td>\n",
              "      <td>310515487419366995</td>\n",
              "      <td>-1130272294246983140</td>\n",
              "      <td>2631864456530402479</td>\n",
              "      <td>NaN</td>\n",
              "      <td>NaN</td>\n",
              "      <td>NaN</td>\n",
              "    </tr>\n",
              "    <tr>\n",
              "      <th>3</th>\n",
              "      <td>1465413895</td>\n",
              "      <td>FOLLOW</td>\n",
              "      <td>310515487419366995</td>\n",
              "      <td>344280948527967603</td>\n",
              "      <td>-3167637573980064150</td>\n",
              "      <td>NaN</td>\n",
              "      <td>NaN</td>\n",
              "      <td>NaN</td>\n",
              "    </tr>\n",
              "    <tr>\n",
              "      <th>4</th>\n",
              "      <td>1465412290</td>\n",
              "      <td>VIEW</td>\n",
              "      <td>-7820640624231356730</td>\n",
              "      <td>-445337111692715325</td>\n",
              "      <td>5611481178424124714</td>\n",
              "      <td>NaN</td>\n",
              "      <td>NaN</td>\n",
              "      <td>NaN</td>\n",
              "    </tr>\n",
              "  </tbody>\n",
              "</table>\n",
              "</div>"
            ],
            "text/plain": [
              "    timestamp eventType  ...  userRegion  userCountry\n",
              "0  1465413032      VIEW  ...         NaN          NaN\n",
              "1  1465412560      VIEW  ...          NY           US\n",
              "2  1465416190      VIEW  ...         NaN          NaN\n",
              "3  1465413895    FOLLOW  ...         NaN          NaN\n",
              "4  1465412290      VIEW  ...         NaN          NaN\n",
              "\n",
              "[5 rows x 8 columns]"
            ]
          },
          "metadata": {
            "tags": []
          },
          "execution_count": 5
        }
      ]
    },
    {
      "cell_type": "code",
      "metadata": {
        "id": "5nQScdSTTzNG"
      },
      "source": [
        "interactions_df.personId = interactions_df.personId.astype(str)\n",
        "interactions_df.contentId = interactions_df.contentId.astype(str)\n",
        "articles_df.contentId = articles_df.contentId.astype(str)"
      ],
      "execution_count": 6,
      "outputs": []
    },
    {
      "cell_type": "code",
      "metadata": {
        "id": "eu6R9rDQT2P4"
      },
      "source": [
        "# Зададим словарь определяющий силу взаимодействия\n",
        "event_type_strength = {'VIEW': 1.0,\n",
        "                       'LIKE': 2.0, \n",
        "                       'BOOKMARK': 2.5, \n",
        "                       'FOLLOW': 3.0,\n",
        "                       'COMMENT CREATED': 4.0}\n",
        "\n",
        "interactions_df['eventStrength'] = interactions_df.eventType.apply(lambda x: event_type_strength[x])"
      ],
      "execution_count": 7,
      "outputs": []
    },
    {
      "cell_type": "markdown",
      "metadata": {
        "id": "ATO5PRRwUkQ0"
      },
      "source": [
        "Оставляем только тех пользователей, которые произамодействовали более чем с пятью статьями."
      ]
    },
    {
      "cell_type": "code",
      "metadata": {
        "colab": {
          "base_uri": "https://localhost:8080/"
        },
        "id": "d-0HoboYUBm5",
        "outputId": "bf48e7e1-3241-48b9-fa64-bcb5b2263cdb"
      },
      "source": [
        "users_interactions_count_df = (interactions_df\n",
        "                               .groupby(['personId', 'contentId'])\n",
        "                               .first()\n",
        "                               .reset_index()\n",
        "                               .groupby('personId').size())\n",
        "\n",
        "print('# users:', len(users_interactions_count_df))"
      ],
      "execution_count": 8,
      "outputs": [
        {
          "output_type": "stream",
          "text": [
            "# users: 1895\n"
          ],
          "name": "stdout"
        }
      ]
    },
    {
      "cell_type": "code",
      "metadata": {
        "colab": {
          "base_uri": "https://localhost:8080/"
        },
        "id": "IjRZxgjGfVRz",
        "outputId": "0345c051-985a-4492-9609-ce882641d911"
      },
      "source": [
        "users_with_enough_interactions_df = users_interactions_count_df[users_interactions_count_df >= 5].reset_index()[['personId']]\n",
        "print('# users with at least 5 interactions:',len(users_with_enough_interactions_df))"
      ],
      "execution_count": 9,
      "outputs": [
        {
          "output_type": "stream",
          "text": [
            "# users with at least 5 interactions: 1140\n"
          ],
          "name": "stdout"
        }
      ]
    },
    {
      "cell_type": "markdown",
      "metadata": {
        "id": "gQagI3DHUuX5"
      },
      "source": [
        "Оставляем только те взаимодействия, которые относятся к отфильтрованным пользователям."
      ]
    },
    {
      "cell_type": "code",
      "metadata": {
        "id": "34rrdGdpUFgk"
      },
      "source": [
        "interactions_from_selected_users_df = interactions_df.loc[np.in1d(interactions_df.personId,\n",
        "                                                                  users_with_enough_interactions_df)]"
      ],
      "execution_count": 10,
      "outputs": []
    },
    {
      "cell_type": "code",
      "metadata": {
        "colab": {
          "base_uri": "https://localhost:8080/"
        },
        "id": "Hd3VS_BgU9HN",
        "outputId": "d71357d6-f2e9-4015-cdc9-9989d2a3ac49"
      },
      "source": [
        "print('# interactions before:', interactions_df.shape)\n",
        "print('# interactions after:', interactions_from_selected_users_df.shape)"
      ],
      "execution_count": 11,
      "outputs": [
        {
          "output_type": "stream",
          "text": [
            "# interactions before: (72312, 9)\n",
            "# interactions after: (69868, 9)\n"
          ],
          "name": "stdout"
        }
      ]
    },
    {
      "cell_type": "markdown",
      "metadata": {
        "id": "FYpRiFkQVR6B"
      },
      "source": [
        "Объединяем все взаимодействия пользователя по каждой статье и сглаживаем полученный результат, взяв от него логарифм."
      ]
    },
    {
      "cell_type": "code",
      "metadata": {
        "id": "mtPtAehKVEUu"
      },
      "source": [
        "def smooth_user_preference(x):\n",
        "    return math.log(1 + x, 2)\n",
        "    \n",
        "interactions_full_df = (interactions_from_selected_users_df\n",
        "                        .groupby(['personId', 'contentId'])\n",
        "                        .eventStrength.sum()\n",
        "                        .apply(smooth_user_preference)\n",
        "                        .reset_index().set_index(['personId', 'contentId']))\n",
        "\n",
        "interactions_full_df['last_timestamp'] = (interactions_from_selected_users_df\n",
        "                                          .groupby(['personId', 'contentId'])['timestamp']\n",
        "                                          .last())\n",
        "        \n",
        "interactions_full_df = interactions_full_df.reset_index()"
      ],
      "execution_count": 12,
      "outputs": []
    },
    {
      "cell_type": "code",
      "metadata": {
        "colab": {
          "base_uri": "https://localhost:8080/",
          "height": 204
        },
        "id": "ouBmB055hUWj",
        "outputId": "cb5e07d8-0964-41ea-cc64-e3897b808129"
      },
      "source": [
        "interactions_full_df.head()"
      ],
      "execution_count": 13,
      "outputs": [
        {
          "output_type": "execute_result",
          "data": {
            "text/html": [
              "<div>\n",
              "<style scoped>\n",
              "    .dataframe tbody tr th:only-of-type {\n",
              "        vertical-align: middle;\n",
              "    }\n",
              "\n",
              "    .dataframe tbody tr th {\n",
              "        vertical-align: top;\n",
              "    }\n",
              "\n",
              "    .dataframe thead th {\n",
              "        text-align: right;\n",
              "    }\n",
              "</style>\n",
              "<table border=\"1\" class=\"dataframe\">\n",
              "  <thead>\n",
              "    <tr style=\"text-align: right;\">\n",
              "      <th></th>\n",
              "      <th>personId</th>\n",
              "      <th>contentId</th>\n",
              "      <th>eventStrength</th>\n",
              "      <th>last_timestamp</th>\n",
              "    </tr>\n",
              "  </thead>\n",
              "  <tbody>\n",
              "    <tr>\n",
              "      <th>0</th>\n",
              "      <td>-1007001694607905623</td>\n",
              "      <td>-5065077552540450930</td>\n",
              "      <td>1.000000</td>\n",
              "      <td>1470395911</td>\n",
              "    </tr>\n",
              "    <tr>\n",
              "      <th>1</th>\n",
              "      <td>-1007001694607905623</td>\n",
              "      <td>-6623581327558800021</td>\n",
              "      <td>1.000000</td>\n",
              "      <td>1487240080</td>\n",
              "    </tr>\n",
              "    <tr>\n",
              "      <th>2</th>\n",
              "      <td>-1007001694607905623</td>\n",
              "      <td>-793729620925729327</td>\n",
              "      <td>1.000000</td>\n",
              "      <td>1472834892</td>\n",
              "    </tr>\n",
              "    <tr>\n",
              "      <th>3</th>\n",
              "      <td>-1007001694607905623</td>\n",
              "      <td>1469580151036142903</td>\n",
              "      <td>1.000000</td>\n",
              "      <td>1487240062</td>\n",
              "    </tr>\n",
              "    <tr>\n",
              "      <th>4</th>\n",
              "      <td>-1007001694607905623</td>\n",
              "      <td>7270966256391553686</td>\n",
              "      <td>1.584963</td>\n",
              "      <td>1485994324</td>\n",
              "    </tr>\n",
              "  </tbody>\n",
              "</table>\n",
              "</div>"
            ],
            "text/plain": [
              "               personId             contentId  eventStrength  last_timestamp\n",
              "0  -1007001694607905623  -5065077552540450930       1.000000      1470395911\n",
              "1  -1007001694607905623  -6623581327558800021       1.000000      1487240080\n",
              "2  -1007001694607905623   -793729620925729327       1.000000      1472834892\n",
              "3  -1007001694607905623   1469580151036142903       1.000000      1487240062\n",
              "4  -1007001694607905623   7270966256391553686       1.584963      1485994324"
            ]
          },
          "metadata": {
            "tags": []
          },
          "execution_count": 13
        }
      ]
    },
    {
      "cell_type": "markdown",
      "metadata": {
        "id": "ODJYMtnNWM5w"
      },
      "source": [
        "Разобьём выборку на обучение и контроль по времени."
      ]
    },
    {
      "cell_type": "code",
      "metadata": {
        "colab": {
          "base_uri": "https://localhost:8080/"
        },
        "id": "3F2CfAwoVrfo",
        "outputId": "2696dbf5-c072-4eb3-937f-8611c0e52e9b"
      },
      "source": [
        "from sklearn.model_selection import train_test_split\n",
        "\n",
        "split_ts = 1475519530\n",
        "interactions_train_df = interactions_full_df.loc[interactions_full_df.last_timestamp < split_ts].copy()\n",
        "interactions_test_df = interactions_full_df.loc[interactions_full_df.last_timestamp >= split_ts].copy()\n",
        "\n",
        "print('# interactions on Train set: %d' % len(interactions_train_df))\n",
        "print('# interactions on Test set: %d' % len(interactions_test_df))"
      ],
      "execution_count": 14,
      "outputs": [
        {
          "output_type": "stream",
          "text": [
            "# interactions on Train set: 29329\n",
            "# interactions on Test set: 9777\n"
          ],
          "name": "stdout"
        }
      ]
    },
    {
      "cell_type": "code",
      "metadata": {
        "colab": {
          "base_uri": "https://localhost:8080/",
          "height": 204
        },
        "id": "BBDkxaGHhbwG",
        "outputId": "7058da17-9471-4ba8-f86e-78405a2a38a8"
      },
      "source": [
        "interactions_train_df.head()"
      ],
      "execution_count": 15,
      "outputs": [
        {
          "output_type": "execute_result",
          "data": {
            "text/html": [
              "<div>\n",
              "<style scoped>\n",
              "    .dataframe tbody tr th:only-of-type {\n",
              "        vertical-align: middle;\n",
              "    }\n",
              "\n",
              "    .dataframe tbody tr th {\n",
              "        vertical-align: top;\n",
              "    }\n",
              "\n",
              "    .dataframe thead th {\n",
              "        text-align: right;\n",
              "    }\n",
              "</style>\n",
              "<table border=\"1\" class=\"dataframe\">\n",
              "  <thead>\n",
              "    <tr style=\"text-align: right;\">\n",
              "      <th></th>\n",
              "      <th>personId</th>\n",
              "      <th>contentId</th>\n",
              "      <th>eventStrength</th>\n",
              "      <th>last_timestamp</th>\n",
              "    </tr>\n",
              "  </thead>\n",
              "  <tbody>\n",
              "    <tr>\n",
              "      <th>0</th>\n",
              "      <td>-1007001694607905623</td>\n",
              "      <td>-5065077552540450930</td>\n",
              "      <td>1.0</td>\n",
              "      <td>1470395911</td>\n",
              "    </tr>\n",
              "    <tr>\n",
              "      <th>2</th>\n",
              "      <td>-1007001694607905623</td>\n",
              "      <td>-793729620925729327</td>\n",
              "      <td>1.0</td>\n",
              "      <td>1472834892</td>\n",
              "    </tr>\n",
              "    <tr>\n",
              "      <th>6</th>\n",
              "      <td>-1032019229384696495</td>\n",
              "      <td>-1006791494035379303</td>\n",
              "      <td>1.0</td>\n",
              "      <td>1469129122</td>\n",
              "    </tr>\n",
              "    <tr>\n",
              "      <th>7</th>\n",
              "      <td>-1032019229384696495</td>\n",
              "      <td>-1039912738963181810</td>\n",
              "      <td>1.0</td>\n",
              "      <td>1459376415</td>\n",
              "    </tr>\n",
              "    <tr>\n",
              "      <th>8</th>\n",
              "      <td>-1032019229384696495</td>\n",
              "      <td>-1081723567492738167</td>\n",
              "      <td>2.0</td>\n",
              "      <td>1464054093</td>\n",
              "    </tr>\n",
              "  </tbody>\n",
              "</table>\n",
              "</div>"
            ],
            "text/plain": [
              "               personId             contentId  eventStrength  last_timestamp\n",
              "0  -1007001694607905623  -5065077552540450930            1.0      1470395911\n",
              "2  -1007001694607905623   -793729620925729327            1.0      1472834892\n",
              "6  -1032019229384696495  -1006791494035379303            1.0      1469129122\n",
              "7  -1032019229384696495  -1039912738963181810            1.0      1459376415\n",
              "8  -1032019229384696495  -1081723567492738167            2.0      1464054093"
            ]
          },
          "metadata": {
            "tags": []
          },
          "execution_count": 15
        }
      ]
    },
    {
      "cell_type": "markdown",
      "metadata": {
        "id": "h5G3FTYOXLVg"
      },
      "source": [
        "Для удобства подсчёта качества запишем данные в формате, где строка соответствует пользователю, а столбцы будут истинными метками и предсказаниями в виде списков."
      ]
    },
    {
      "cell_type": "code",
      "metadata": {
        "colab": {
          "base_uri": "https://localhost:8080/",
          "height": 235
        },
        "id": "RT-_toqfXOa2",
        "outputId": "dc206ff5-4e8a-4c4e-b59f-6cde732756fb"
      },
      "source": [
        "interactions = (interactions_train_df\n",
        "                .groupby('personId')['contentId'].agg(lambda x: list(x))\n",
        "                .reset_index()\n",
        "                .rename(columns={'contentId': 'true_train'})\n",
        "                .set_index('personId'))\n",
        "\n",
        "interactions['true_test'] = (interactions_test_df\n",
        "                             .groupby('personId')['contentId'].agg(lambda x: list(x)))\n",
        "\n",
        "# Заполнение пропусков пустыми списками\n",
        "interactions.loc[pd.isnull(interactions.true_test), \n",
        "                 'true_test'] = [list() for x\n",
        "                                 in range(len(interactions.loc[pd.isnull(interactions.true_test),\n",
        "                                                               'true_test']))]\n",
        "\n",
        "interactions.head()"
      ],
      "execution_count": 16,
      "outputs": [
        {
          "output_type": "execute_result",
          "data": {
            "text/html": [
              "<div>\n",
              "<style scoped>\n",
              "    .dataframe tbody tr th:only-of-type {\n",
              "        vertical-align: middle;\n",
              "    }\n",
              "\n",
              "    .dataframe tbody tr th {\n",
              "        vertical-align: top;\n",
              "    }\n",
              "\n",
              "    .dataframe thead th {\n",
              "        text-align: right;\n",
              "    }\n",
              "</style>\n",
              "<table border=\"1\" class=\"dataframe\">\n",
              "  <thead>\n",
              "    <tr style=\"text-align: right;\">\n",
              "      <th></th>\n",
              "      <th>true_train</th>\n",
              "      <th>true_test</th>\n",
              "    </tr>\n",
              "    <tr>\n",
              "      <th>personId</th>\n",
              "      <th></th>\n",
              "      <th></th>\n",
              "    </tr>\n",
              "  </thead>\n",
              "  <tbody>\n",
              "    <tr>\n",
              "      <th>-1007001694607905623</th>\n",
              "      <td>[-5065077552540450930, -793729620925729327]</td>\n",
              "      <td>[-6623581327558800021, 1469580151036142903, 72...</td>\n",
              "    </tr>\n",
              "    <tr>\n",
              "      <th>-1032019229384696495</th>\n",
              "      <td>[-1006791494035379303, -1039912738963181810, -...</td>\n",
              "      <td>[-1415040208471067980, -2555801390963402198, -...</td>\n",
              "    </tr>\n",
              "    <tr>\n",
              "      <th>-108842214936804958</th>\n",
              "      <td>[-1196068832249300490, -133139342397538859, -1...</td>\n",
              "      <td>[-2780168264183400543, -3060116862184714437, -...</td>\n",
              "    </tr>\n",
              "    <tr>\n",
              "      <th>-1130272294246983140</th>\n",
              "      <td>[-1150591229250318592, -1196068832249300490, -...</td>\n",
              "      <td>[-1606980109000976010, -1663441888197894674, -...</td>\n",
              "    </tr>\n",
              "    <tr>\n",
              "      <th>-1160159014793528221</th>\n",
              "      <td>[-133139342397538859, -387651900461462767, 377...</td>\n",
              "      <td>[-3462051751080362224]</td>\n",
              "    </tr>\n",
              "  </tbody>\n",
              "</table>\n",
              "</div>"
            ],
            "text/plain": [
              "                                                             true_train                                          true_test\n",
              "personId                                                                                                                  \n",
              "-1007001694607905623        [-5065077552540450930, -793729620925729327]  [-6623581327558800021, 1469580151036142903, 72...\n",
              "-1032019229384696495  [-1006791494035379303, -1039912738963181810, -...  [-1415040208471067980, -2555801390963402198, -...\n",
              "-108842214936804958   [-1196068832249300490, -133139342397538859, -1...  [-2780168264183400543, -3060116862184714437, -...\n",
              "-1130272294246983140  [-1150591229250318592, -1196068832249300490, -...  [-1606980109000976010, -1663441888197894674, -...\n",
              "-1160159014793528221  [-133139342397538859, -387651900461462767, 377...                             [-3462051751080362224]"
            ]
          },
          "metadata": {
            "tags": []
          },
          "execution_count": 16
        }
      ]
    },
    {
      "cell_type": "markdown",
      "metadata": {
        "id": "-UWDyWKsamSa"
      },
      "source": [
        "## Библиотека LightFM"
      ]
    },
    {
      "cell_type": "markdown",
      "metadata": {
        "id": "L-iXjvdZa25Z"
      },
      "source": [
        "Для рекомендации Вы будете пользоваться библиотекой [LightFM](https://making.lyst.com/lightfm/docs/home.html), в которой реализованы популярные алгоритмы. Для оценивания качества рекомендации, как и на семинаре, будем пользоваться метрикой *precision@10*."
      ]
    },
    {
      "cell_type": "code",
      "metadata": {
        "colab": {
          "base_uri": "https://localhost:8080/"
        },
        "id": "Qtyn38PZXPLf",
        "outputId": "8b459972-c8d2-4b98-f3f0-aa0bfedbdda8"
      },
      "source": [
        "!pip install lightfm\n",
        "from lightfm import LightFM\n",
        "from lightfm.evaluation import precision_at_k"
      ],
      "execution_count": 17,
      "outputs": [
        {
          "output_type": "stream",
          "text": [
            "Requirement already satisfied: lightfm in /usr/local/lib/python3.7/dist-packages (1.16)\n",
            "Requirement already satisfied: scikit-learn in /usr/local/lib/python3.7/dist-packages (from lightfm) (0.22.2.post1)\n",
            "Requirement already satisfied: requests in /usr/local/lib/python3.7/dist-packages (from lightfm) (2.23.0)\n",
            "Requirement already satisfied: numpy in /usr/local/lib/python3.7/dist-packages (from lightfm) (1.19.5)\n",
            "Requirement already satisfied: scipy>=0.17.0 in /usr/local/lib/python3.7/dist-packages (from lightfm) (1.4.1)\n",
            "Requirement already satisfied: joblib>=0.11 in /usr/local/lib/python3.7/dist-packages (from scikit-learn->lightfm) (1.0.1)\n",
            "Requirement already satisfied: idna<3,>=2.5 in /usr/local/lib/python3.7/dist-packages (from requests->lightfm) (2.10)\n",
            "Requirement already satisfied: chardet<4,>=3.0.2 in /usr/local/lib/python3.7/dist-packages (from requests->lightfm) (3.0.4)\n",
            "Requirement already satisfied: certifi>=2017.4.17 in /usr/local/lib/python3.7/dist-packages (from requests->lightfm) (2020.12.5)\n",
            "Requirement already satisfied: urllib3!=1.25.0,!=1.25.1,<1.26,>=1.21.1 in /usr/local/lib/python3.7/dist-packages (from requests->lightfm) (1.24.3)\n"
          ],
          "name": "stdout"
        }
      ]
    },
    {
      "cell_type": "markdown",
      "metadata": {
        "id": "0CjyGqulcZTf"
      },
      "source": [
        "## Задание 1. (2 балла)"
      ]
    },
    {
      "cell_type": "markdown",
      "metadata": {
        "id": "4Sof6V5Dd4h9"
      },
      "source": [
        "Модели в LightFM работают с разреженными матрицами. Создайте разреженные матрицы `data_train` и `data_test` (размером количество пользователей на количество статей), такие что на пересечении строки пользователя и столбца статьи стоит сила их взаимодействия, если взаимодействие было, и стоит ноль, если взаимодействия не было."
      ]
    },
    {
      "cell_type": "code",
      "metadata": {
        "id": "nfuIQmLBx7EV"
      },
      "source": [
        "from scipy.sparse import csr_matrix\n",
        "from tqdm.notebook import tqdm\n",
        "from lightfm.data import Dataset"
      ],
      "execution_count": 18,
      "outputs": []
    },
    {
      "cell_type": "code",
      "metadata": {
        "id": "TcqsJJkTVv5f"
      },
      "source": [
        "people_id = interactions_full_df['personId'].unique()\n",
        "contents_id = interactions_full_df['contentId'].unique()[pd.Series(interactions_full_df['contentId'].unique()).isin(articles_df['contentId'])]"
      ],
      "execution_count": 19,
      "outputs": []
    },
    {
      "cell_type": "code",
      "metadata": {
        "id": "zWtr0YPaWOnF"
      },
      "source": [
        "new_interactions_train_df = interactions_train_df[interactions_train_df['contentId'].isin(contents_id)]\n",
        "new_interactions_test_df = interactions_test_df[interactions_test_df['contentId'].isin(contents_id)]"
      ],
      "execution_count": 20,
      "outputs": []
    },
    {
      "cell_type": "code",
      "metadata": {
        "id": "q4ouNc9Fx74z"
      },
      "source": [
        "df_train = Dataset()\n",
        "\n",
        "df_train.fit(users=people_id, items=contents_id)\n",
        "\n",
        "interactions_train, data_train = df_train.build_interactions(zip(new_interactions_train_df['personId'], \n",
        "                                                                 new_interactions_train_df['contentId'], \n",
        "                                                                 new_interactions_train_df['eventStrength']))"
      ],
      "execution_count": 21,
      "outputs": []
    },
    {
      "cell_type": "code",
      "metadata": {
        "id": "VuH6gsQu0vAS"
      },
      "source": [
        "df_test = Dataset()\n",
        "\n",
        "df_test.fit(users=people_id, items=contents_id)\n",
        "\n",
        "interactions_test, data_test = df_test.build_interactions(zip(new_interactions_test_df['personId'], \n",
        "                                                              new_interactions_test_df['contentId'], \n",
        "                                                              new_interactions_test_df['eventStrength']))"
      ],
      "execution_count": 22,
      "outputs": []
    },
    {
      "cell_type": "markdown",
      "metadata": {
        "id": "uLjzaKyBV4JA"
      },
      "source": [
        "Получили матрицы `data_train` и `data_test` размером количество пользователей на количество статей."
      ]
    },
    {
      "cell_type": "markdown",
      "metadata": {
        "id": "AiNGVzTveRXE"
      },
      "source": [
        "## Задание 2. (1 балл)"
      ]
    },
    {
      "cell_type": "markdown",
      "metadata": {
        "id": "ZPfVK3STeryM"
      },
      "source": [
        "Обучите модель LightFM с `loss='warp'` и посчитайте *precision@10* на тесте."
      ]
    },
    {
      "cell_type": "markdown",
      "metadata": {
        "id": "Qg06bHpKV9b3"
      },
      "source": [
        "Обучаем модель."
      ]
    },
    {
      "cell_type": "code",
      "metadata": {
        "id": "YFQxeHw8eVLz"
      },
      "source": [
        "lightfm = LightFM(loss='warp', random_state=77)\n",
        "lightfm.fit(data_train, epochs=60);"
      ],
      "execution_count": 23,
      "outputs": []
    },
    {
      "cell_type": "markdown",
      "metadata": {
        "id": "egUb08uHV_7_"
      },
      "source": [
        "Считаем *precision@10* на тесте:"
      ]
    },
    {
      "cell_type": "code",
      "metadata": {
        "colab": {
          "base_uri": "https://localhost:8080/"
        },
        "id": "OiRo6RS3uk29",
        "outputId": "9b4aa1d1-d047-4efc-f77d-4c59f01c7bb1"
      },
      "source": [
        "print(f'Test precision@10: {precision_at_k(lightfm, data_test, train_interactions=data_train, k=10).mean():.3}')"
      ],
      "execution_count": 25,
      "outputs": [
        {
          "output_type": "stream",
          "text": [
            "Test precision@10: 0.00703\n"
          ],
          "name": "stdout"
        }
      ]
    },
    {
      "cell_type": "markdown",
      "metadata": {
        "id": "qZDsG1iAfdrl"
      },
      "source": [
        "## Задание 3. (3 балла)"
      ]
    },
    {
      "cell_type": "markdown",
      "metadata": {
        "id": "F93chvtbgA9N"
      },
      "source": [
        "При вызове метода `fit` LightFM позволяет передавать в `item_features` признаковое описание объектов. Воспользуемся этим. Будем получать признаковое описание из текста статьи в виде [TF-IDF](https://ru.wikipedia.org/wiki/TF-IDF) (можно воспользоваться `TfidfVectorizer` из scikit-learn). Создайте матрицу `feat` размером количество статей на размер признакового описания и обучите LightFM с `loss='warp'` и посчитайте precision@10 на тесте."
      ]
    },
    {
      "cell_type": "code",
      "metadata": {
        "id": "1bZGzTqmvArJ"
      },
      "source": [
        "from sklearn.feature_extraction.text import TfidfVectorizer\n",
        "from pandas.api.types import CategoricalDtype"
      ],
      "execution_count": 26,
      "outputs": []
    },
    {
      "cell_type": "markdown",
      "metadata": {
        "id": "2UxsXCM_WSFR"
      },
      "source": [
        "Созадем датасет `new_articles_df`, где статьи из `articles_df` сортированы так, чтобы они соотносились с порядком столбцов в матрицах `data_train` и `data_test`. Также `new_articles_df` удаляем те статьи из `articles_df`, которые не встречаются в `data_train` и `data_test`."
      ]
    },
    {
      "cell_type": "code",
      "metadata": {
        "id": "cPCwd5hJFTIw"
      },
      "source": [
        "cat_size_order = CategoricalDtype(interactions_full_df['contentId'].unique(), ordered=True)\n",
        "new_articles_df = articles_df.copy()\n",
        "new_articles_df['contentId'] = new_articles_df['contentId'].astype(cat_size_order)\n",
        "new_articles_df.sort_values(by='contentId', inplace=True, ascending=True)\n",
        "new_articles_df = new_articles_df[new_articles_df['contentId'].notna()]"
      ],
      "execution_count": 27,
      "outputs": []
    },
    {
      "cell_type": "code",
      "metadata": {
        "id": "jG9TnUVsCGH6"
      },
      "source": [
        "tfidf_vec = TfidfVectorizer(min_df=0.15)\n",
        "feat = tfidf_vec.fit_transform(new_articles_df['text'])"
      ],
      "execution_count": 52,
      "outputs": []
    },
    {
      "cell_type": "code",
      "metadata": {
        "id": "8IWXwV8e5qnd"
      },
      "source": [
        "lightfm = LightFM(loss='warp', random_state=77)\n",
        "lightfm.fit(data_train, item_features=feat, epochs=30);"
      ],
      "execution_count": 54,
      "outputs": []
    },
    {
      "cell_type": "code",
      "metadata": {
        "colab": {
          "base_uri": "https://localhost:8080/"
        },
        "id": "nCxANyM4Lid4",
        "outputId": "a2d5d74f-42db-4d51-e293-0e13882fd62f"
      },
      "source": [
        "print(f'Test precision@10: {precision_at_k(lightfm, data_test, train_interactions=data_train, item_features=feat, k=10).mean():.3}')"
      ],
      "execution_count": 56,
      "outputs": [
        {
          "output_type": "stream",
          "text": [
            "Test precision@10: 0.0109\n"
          ],
          "name": "stdout"
        }
      ]
    },
    {
      "cell_type": "markdown",
      "metadata": {
        "id": "8Lwuex6PpsFw"
      },
      "source": [
        "## Задание 4. (2 балла)"
      ]
    },
    {
      "cell_type": "markdown",
      "metadata": {
        "id": "5aZcHjSzp2cZ"
      },
      "source": [
        "В задании 3 мы использовали сырой текст статей. В этом задании необходимо сначала сделать предобработку текста (привести к нижнему регистру, убрать стоп слова, привести слова к номральной форме и т.д.), после чего обучите модель и оценить качество на тестовых данных."
      ]
    },
    {
      "cell_type": "markdown",
      "metadata": {
        "id": "HucDHDv0XTE-"
      },
      "source": [
        "Поскольку у нас несколько языков в датасете, будем по всем ним делать свою предобработку: в `spacy` есть множество лемматизаторов для разных языков."
      ]
    },
    {
      "cell_type": "code",
      "metadata": {
        "id": "W1h6W2_UMhkD"
      },
      "source": [
        "import nltk\n",
        "from nltk.corpus import stopwords\n",
        "from nltk.tokenize import word_tokenize\n",
        "\n",
        "nltk.download('punkt')\n",
        "nltk.download(\"stopwords\")\n",
        "\n",
        "import string"
      ],
      "execution_count": null,
      "outputs": []
    },
    {
      "cell_type": "code",
      "metadata": {
        "id": "6Y1-aTw75nec"
      },
      "source": [
        "!pip install spacy\n",
        "!spacy download en\n",
        "!spacy download pt\n",
        "!spacy download es"
      ],
      "execution_count": null,
      "outputs": []
    },
    {
      "cell_type": "code",
      "metadata": {
        "id": "AK4FNfjf5tIu"
      },
      "source": [
        "import spacy\n",
        "\n",
        "# Загружаем наши лемматизаторы\n",
        "nlp_en = spacy.load('en', disable=['parser', 'ner'])\n",
        "nlp_pt = spacy.load('pt', disable=['parser', 'ner'])\n",
        "nlp_es = spacy.load('es', disable=['parser', 'ner'])"
      ],
      "execution_count": 35,
      "outputs": []
    },
    {
      "cell_type": "code",
      "metadata": {
        "id": "wS5YmEWeM1h1"
      },
      "source": [
        "stopwords = stopwords.words('english') + stopwords.words('portuguese') + stopwords.words('spanish') \n",
        "punctuation = list(string.punctuation)\n",
        "noise = stopwords + punctuation"
      ],
      "execution_count": 36,
      "outputs": []
    },
    {
      "cell_type": "code",
      "metadata": {
        "id": "vY9DvqwcGSt-"
      },
      "source": [
        "def process_text(text, lang):\n",
        "    # Лемматизируем текст, удаляем лишние пробелы и переводим в нижний регистр\n",
        "    if lang == 'en':\n",
        "        output = nlp_en((text.strip()).lower())\n",
        "    elif lang == 'pt':\n",
        "        output = nlp_pt((text.strip()).lower())\n",
        "    else:\n",
        "        output = nlp_es((text.strip()).lower())\n",
        "\n",
        "    output = \" \".join([token.lemma_ for token in output])\n",
        "\n",
        "    # Убираем шум \n",
        "    output = \" \".join([word for word in word_tokenize(output) if word not in noise])\n",
        "    \n",
        "    return output"
      ],
      "execution_count": 37,
      "outputs": []
    },
    {
      "cell_type": "markdown",
      "metadata": {
        "id": "tp0AGQofX0qw"
      },
      "source": [
        "Преобразуем тексты:"
      ]
    },
    {
      "cell_type": "code",
      "metadata": {
        "id": "IU2Oxtk7HpO0"
      },
      "source": [
        "new_articles_df['text'][new_articles_df['lang'] == 'en'] = \\\n",
        "    new_articles_df['text'][new_articles_df['lang'] == 'en'].apply(lambda text: process_text(text, lang='en'))\n",
        "\n",
        "new_articles_df['text'][new_articles_df['lang'] == 'pt'] = \\\n",
        "    new_articles_df['text'][new_articles_df['lang'] == 'pt'].apply(lambda text: process_text(text, lang='pt'))\n",
        "\n",
        "new_articles_df['text'][new_articles_df['lang'] == 'es'] = \\\n",
        "    new_articles_df['text'][new_articles_df['lang'] == 'es'].apply(lambda text: process_text(text, lang='es'))"
      ],
      "execution_count": null,
      "outputs": []
    },
    {
      "cell_type": "code",
      "metadata": {
        "id": "RZFQkNFUQyKQ"
      },
      "source": [
        "tfidf_vec = TfidfVectorizer(min_df=0.15)\n",
        "feat_processed = tfidf_vec.fit_transform(new_articles_df['text'])"
      ],
      "execution_count": 39,
      "outputs": []
    },
    {
      "cell_type": "code",
      "metadata": {
        "id": "HgmOCZlYQyKR"
      },
      "source": [
        "lightfm = LightFM(loss='warp', random_state=77)\n",
        "lightfm.fit(data_train, item_features=feat_processed, epochs=60);"
      ],
      "execution_count": 40,
      "outputs": []
    },
    {
      "cell_type": "code",
      "metadata": {
        "colab": {
          "base_uri": "https://localhost:8080/"
        },
        "id": "QGBXsq_AQyKS",
        "outputId": "d9a4fd8e-9a1d-400d-ff6b-ec32ae6538a7"
      },
      "source": [
        "print(f'Test precision@10: {precision_at_k(lightfm, data_test, train_interactions=data_train, item_features=feat_processed, k=10).mean():.3}')"
      ],
      "execution_count": 42,
      "outputs": [
        {
          "output_type": "stream",
          "text": [
            "Test precision@10: 0.0103\n"
          ],
          "name": "stdout"
        }
      ]
    },
    {
      "cell_type": "markdown",
      "metadata": {
        "id": "VgayAPRpqn7L"
      },
      "source": [
        "Улучшилось ли качество предсказания?"
      ]
    },
    {
      "cell_type": "markdown",
      "metadata": {
        "id": "nme_TtZKYAfQ"
      },
      "source": [
        "К сожалению, предобработка текста незначительно ухудшило качество предсказания."
      ]
    },
    {
      "cell_type": "markdown",
      "metadata": {
        "id": "XKRzLLodq3gq"
      },
      "source": [
        "## Задание 5. (2 балла)"
      ]
    },
    {
      "cell_type": "markdown",
      "metadata": {
        "id": "brjHl49Aq8su"
      },
      "source": [
        "Подберите гиперпараметры модели LightFM (`n_components` и др.) для улучшения качества модели."
      ]
    },
    {
      "cell_type": "code",
      "metadata": {
        "colab": {
          "base_uri": "https://localhost:8080/"
        },
        "id": "hRJ-Z_5_R02V",
        "outputId": "a643ba96-72c7-4e6c-b6ac-29f1e48174c6"
      },
      "source": [
        "losses = ['logistic', 'bpr', 'warp', 'warp-kos']\n",
        "\n",
        "for loss in losses:\n",
        "    lightfm = LightFM(loss=loss, random_state=77)\n",
        "    lightfm.fit(data_train, item_features=feat)\n",
        "    print(f'Test precision@10 with loss {loss}: { \\\n",
        "          precision_at_k(lightfm, data_test, train_interactions=data_train, item_features=feat, k=10).mean():.3}')"
      ],
      "execution_count": 43,
      "outputs": [
        {
          "output_type": "stream",
          "text": [
            "Test precision@10 with loss logistic: 0.000611\n",
            "Test precision@10 with loss bpr: 0.00244\n",
            "Test precision@10 with loss warp: 0.00346\n",
            "Test precision@10 with loss warp-kos: 0.00428\n"
          ],
          "name": "stdout"
        }
      ]
    },
    {
      "cell_type": "code",
      "metadata": {
        "colab": {
          "base_uri": "https://localhost:8080/"
        },
        "id": "tLJS3lbcRwoJ",
        "outputId": "dba94e6d-0c98-4e2c-a126-defdff991d06"
      },
      "source": [
        "no_components = np.arange(2, 40)\n",
        "\n",
        "for n in no_components:\n",
        "    lightfm = LightFM(loss='warp-kos', no_components=n, random_state=77)\n",
        "    lightfm.fit(data_train, item_features=feat)\n",
        "    print(f'Test precision@10 with no_components of {n}: { \\\n",
        "          precision_at_k(lightfm, data_test, train_interactions=data_train, item_features=feat, k=10).mean():.3}')"
      ],
      "execution_count": 44,
      "outputs": [
        {
          "output_type": "stream",
          "text": [
            "Test precision@10 with no_components of 2: 0.00916\n",
            "Test precision@10 with no_components of 3: 0.00804\n",
            "Test precision@10 with no_components of 4: 0.00794\n",
            "Test precision@10 with no_components of 5: 0.00407\n",
            "Test precision@10 with no_components of 6: 0.00448\n",
            "Test precision@10 with no_components of 7: 0.00804\n",
            "Test precision@10 with no_components of 8: 0.00499\n",
            "Test precision@10 with no_components of 9: 0.0053\n",
            "Test precision@10 with no_components of 10: 0.00428\n",
            "Test precision@10 with no_components of 11: 0.00692\n",
            "Test precision@10 with no_components of 12: 0.00815\n",
            "Test precision@10 with no_components of 13: 0.00621\n",
            "Test precision@10 with no_components of 14: 0.00937\n",
            "Test precision@10 with no_components of 15: 0.00519\n",
            "Test precision@10 with no_components of 16: 0.00825\n",
            "Test precision@10 with no_components of 17: 0.00713\n",
            "Test precision@10 with no_components of 18: 0.00835\n",
            "Test precision@10 with no_components of 19: 0.00611\n",
            "Test precision@10 with no_components of 20: 0.00418\n",
            "Test precision@10 with no_components of 21: 0.00804\n",
            "Test precision@10 with no_components of 22: 0.00896\n",
            "Test precision@10 with no_components of 23: 0.0056\n",
            "Test precision@10 with no_components of 24: 0.00916\n",
            "Test precision@10 with no_components of 25: 0.00764\n",
            "Test precision@10 with no_components of 26: 0.00672\n",
            "Test precision@10 with no_components of 27: 0.00784\n",
            "Test precision@10 with no_components of 28: 0.00692\n",
            "Test precision@10 with no_components of 29: 0.0057\n",
            "Test precision@10 with no_components of 30: 0.00947\n",
            "Test precision@10 with no_components of 31: 0.00682\n",
            "Test precision@10 with no_components of 32: 0.00764\n",
            "Test precision@10 with no_components of 33: 0.00754\n",
            "Test precision@10 with no_components of 34: 0.00642\n",
            "Test precision@10 with no_components of 35: 0.0058\n",
            "Test precision@10 with no_components of 36: 0.0122\n",
            "Test precision@10 with no_components of 37: 0.00764\n",
            "Test precision@10 with no_components of 38: 0.00672\n",
            "Test precision@10 with no_components of 39: 0.00815\n"
          ],
          "name": "stdout"
        }
      ]
    },
    {
      "cell_type": "code",
      "metadata": {
        "colab": {
          "base_uri": "https://localhost:8080/"
        },
        "id": "k9wk1LqqWFgq",
        "outputId": "9e480040-37a9-45ae-bf8c-b3efa50207fd"
      },
      "source": [
        "ks = np.arange(2, 40)\n",
        "\n",
        "for k in ks:\n",
        "    lightfm = LightFM(loss='warp-kos', no_components=36, k=k, random_state=77)\n",
        "    lightfm.fit(data_train, item_features=feat)\n",
        "    print(f'Test precision@10 with k of {k}: { \\\n",
        "          precision_at_k(lightfm, data_test, train_interactions=data_train, item_features=feat, k=10).mean():.3}')"
      ],
      "execution_count": 45,
      "outputs": [
        {
          "output_type": "stream",
          "text": [
            "Test precision@10 with k of 2: 0.00458\n",
            "Test precision@10 with k of 3: 0.00631\n",
            "Test precision@10 with k of 4: 0.00591\n",
            "Test precision@10 with k of 5: 0.0122\n",
            "Test precision@10 with k of 6: 0.0104\n",
            "Test precision@10 with k of 7: 0.0103\n",
            "Test precision@10 with k of 8: 0.0118\n",
            "Test precision@10 with k of 9: 0.0123\n",
            "Test precision@10 with k of 10: 0.00855\n",
            "Test precision@10 with k of 11: 0.00855\n",
            "Test precision@10 with k of 12: 0.00855\n",
            "Test precision@10 with k of 13: 0.00855\n",
            "Test precision@10 with k of 14: 0.00855\n",
            "Test precision@10 with k of 15: 0.00855\n",
            "Test precision@10 with k of 16: 0.00855\n",
            "Test precision@10 with k of 17: 0.00855\n",
            "Test precision@10 with k of 18: 0.00855\n",
            "Test precision@10 with k of 19: 0.00855\n",
            "Test precision@10 with k of 20: 0.00855\n",
            "Test precision@10 with k of 21: 0.00855\n",
            "Test precision@10 with k of 22: 0.00855\n",
            "Test precision@10 with k of 23: 0.00855\n",
            "Test precision@10 with k of 24: 0.00855\n",
            "Test precision@10 with k of 25: 0.00855\n",
            "Test precision@10 with k of 26: 0.00855\n",
            "Test precision@10 with k of 27: 0.00855\n",
            "Test precision@10 with k of 28: 0.00855\n",
            "Test precision@10 with k of 29: 0.00855\n",
            "Test precision@10 with k of 30: 0.00855\n",
            "Test precision@10 with k of 31: 0.00855\n",
            "Test precision@10 with k of 32: 0.00855\n",
            "Test precision@10 with k of 33: 0.00855\n",
            "Test precision@10 with k of 34: 0.00855\n",
            "Test precision@10 with k of 35: 0.00855\n",
            "Test precision@10 with k of 36: 0.00855\n",
            "Test precision@10 with k of 37: 0.00855\n",
            "Test precision@10 with k of 38: 0.00855\n",
            "Test precision@10 with k of 39: 0.00855\n"
          ],
          "name": "stdout"
        }
      ]
    },
    {
      "cell_type": "code",
      "metadata": {
        "colab": {
          "base_uri": "https://localhost:8080/"
        },
        "id": "qeh1u5j_hQvv",
        "outputId": "86aa1fdf-0eff-42c8-badb-058dc157c5dd"
      },
      "source": [
        "ns = np.arange(2, 40)\n",
        "\n",
        "for n in ns:\n",
        "    lightfm = LightFM(loss='warp-kos', no_components=36, k=9, n=n, random_state=77)\n",
        "    lightfm.fit(data_train, item_features=feat)\n",
        "    print(f'Test precision@10 with n of {n}: { \\\n",
        "          precision_at_k(lightfm, data_test, train_interactions=data_train, item_features=feat, k=10).mean():.3}')"
      ],
      "execution_count": 46,
      "outputs": [
        {
          "output_type": "stream",
          "text": [
            "Test precision@10 with n of 2: 0.0116\n",
            "Test precision@10 with n of 3: 0.0112\n",
            "Test precision@10 with n of 4: 0.0127\n",
            "Test precision@10 with n of 5: 0.013\n",
            "Test precision@10 with n of 6: 0.00998\n",
            "Test precision@10 with n of 7: 0.0104\n",
            "Test precision@10 with n of 8: 0.00835\n",
            "Test precision@10 with n of 9: 0.0105\n",
            "Test precision@10 with n of 10: 0.0123\n",
            "Test precision@10 with n of 11: 0.0127\n",
            "Test precision@10 with n of 12: 0.0113\n",
            "Test precision@10 with n of 13: 0.00947\n",
            "Test precision@10 with n of 14: 0.0113\n",
            "Test precision@10 with n of 15: 0.0123\n",
            "Test precision@10 with n of 16: 0.013\n",
            "Test precision@10 with n of 17: 0.0103\n",
            "Test precision@10 with n of 18: 0.00682\n",
            "Test precision@10 with n of 19: 0.00998\n",
            "Test precision@10 with n of 20: 0.00591\n",
            "Test precision@10 with n of 21: 0.00855\n",
            "Test precision@10 with n of 22: 0.00957\n",
            "Test precision@10 with n of 23: 0.00957\n",
            "Test precision@10 with n of 24: 0.00611\n",
            "Test precision@10 with n of 25: 0.00794\n",
            "Test precision@10 with n of 26: 0.00468\n",
            "Test precision@10 with n of 27: 0.0058\n",
            "Test precision@10 with n of 28: 0.00743\n",
            "Test precision@10 with n of 29: 0.00642\n",
            "Test precision@10 with n of 30: 0.00866\n",
            "Test precision@10 with n of 31: 0.00662\n",
            "Test precision@10 with n of 32: 0.00652\n",
            "Test precision@10 with n of 33: 0.0058\n",
            "Test precision@10 with n of 34: 0.0056\n",
            "Test precision@10 with n of 35: 0.0055\n",
            "Test precision@10 with n of 36: 0.0054\n",
            "Test precision@10 with n of 37: 0.00652\n",
            "Test precision@10 with n of 38: 0.0106\n",
            "Test precision@10 with n of 39: 0.00642\n"
          ],
          "name": "stdout"
        }
      ]
    },
    {
      "cell_type": "code",
      "metadata": {
        "colab": {
          "base_uri": "https://localhost:8080/"
        },
        "id": "J5eRdn8WQbZf",
        "outputId": "5837ec4c-6abe-487b-c3f9-29124f12ef92"
      },
      "source": [
        "learning_schedules = ['adagrad', 'adadelta']\n",
        "\n",
        "for learning_schedule in learning_schedules:\n",
        "    lightfm = LightFM(loss='warp-kos', no_components=36, k=9, n=16, \n",
        "                      learning_schedule=learning_schedule, random_state=77)\n",
        "    lightfm.fit(data_train, item_features=feat)\n",
        "    print(f'Test precision@10 with learning_schedule {learning_schedule}: { \\\n",
        "          precision_at_k(lightfm, data_test, train_interactions=data_train, item_features=feat, k=10).mean():.3}')"
      ],
      "execution_count": 60,
      "outputs": [
        {
          "output_type": "stream",
          "text": [
            "Test precision@10 with learning_schedule adagrad: 0.0119\n",
            "Test precision@10 with learning_schedule adadelta: 0.0125\n"
          ],
          "name": "stdout"
        }
      ]
    },
    {
      "cell_type": "code",
      "metadata": {
        "id": "hlnJCuy9VdV9"
      },
      "source": [
        "lightfm = LightFM(loss='warp-kos', no_components=36, k=9, n=16, \n",
        "                  learning_schedule='adadelta', random_state=77)\n",
        "\n",
        "lightfm.fit(data_train, item_features=feat);"
      ],
      "execution_count": 70,
      "outputs": []
    },
    {
      "cell_type": "code",
      "metadata": {
        "colab": {
          "base_uri": "https://localhost:8080/"
        },
        "id": "-cVvZ20DVr-I",
        "outputId": "7b26fa72-2792-47e5-c44a-1c76c9678b48"
      },
      "source": [
        "print(f'Test precision@10: {precision_at_k(lightfm, data_test, train_interactions=data_train, item_features=feat, k=10).mean():.3}')"
      ],
      "execution_count": 72,
      "outputs": [
        {
          "output_type": "stream",
          "text": [
            "Test precision@10: 0.0125\n"
          ],
          "name": "stdout"
        }
      ]
    }
  ]
}